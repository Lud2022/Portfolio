{
 "cells": [
  {
   "cell_type": "markdown",
   "metadata": {},
   "source": [
    "# Анализ информации из базы данных о сервисе чтения книг  "
   ]
  },
  {
   "cell_type": "markdown",
   "metadata": {},
   "source": [
    "**Заказчик:** Компания, купившая крупный сервис для чтения книг по подписке."
   ]
  },
  {
   "cell_type": "markdown",
   "metadata": {},
   "source": [
    "**Задача:** Проанализировать базу данных содержащую информацию о книгах, издательствах, авторах, а также пользовательские обзоры книг."
   ]
  },
  {
   "cell_type": "markdown",
   "metadata": {},
   "source": [
    "**Описание данных:** <br/>\n",
    "`Таблица books`\n",
    "```\n",
    "Содержит данные о книгах:\n",
    "•\tbook_id — идентификатор книги;\n",
    "•\tauthor_id — идентификатор автора;\n",
    "•\ttitle — название книги;\n",
    "•\tnum_pages — количество страниц;\n",
    "•\tpublication_date — дата публикации книги;\n",
    "•\tpublisher_id — идентификатор издателя.\n",
    "```\n",
    "`Таблица authors`\n",
    "```\n",
    "Содержит данные об авторах:\n",
    "•\tauthor_id — идентификатор автора;\n",
    "•\tauthor — имя автора.\n",
    "```\n",
    "`Таблица publishers`\n",
    "```\n",
    "Содержит данные об издательствах:\n",
    "•\tpublisher_id — идентификатор издательства;\n",
    "•\tpublisher — название издательства;\n",
    "```\n",
    "`Таблица ratings`\n",
    "```\n",
    "Содержит данные о пользовательских оценках книг:\n",
    "•\trating_id — идентификатор оценки;\n",
    "•\tbook_id — идентификатор книги;\n",
    "•\tusername — имя пользователя, оставившего оценку;\n",
    "•\trating — оценка книги.\n",
    "```\n",
    "`Таблица reviews`\n",
    "```\n",
    "Содержит данные о пользовательских обзорах:\n",
    "•\treview_id — идентификатор обзора;\n",
    "•\tbook_id — идентификатор книги;\n",
    "•\tusername — имя автора обзора;\n",
    "•\ttext — текст обзора.\n",
    "```"
   ]
  },
  {
   "cell_type": "markdown",
   "metadata": {},
   "source": [
    "**Схема данных**\n",
    "<img src=\"./shema.png\">"
   ]
  },
  {
   "cell_type": "code",
   "execution_count": 1,
   "metadata": {},
   "outputs": [],
   "source": [
    "# импортируем библиотеки\n",
    "import pandas as pd\n",
    "from sqlalchemy import text, create_engine\n",
    "\n",
    "# устанавливаем параметры\n",
    "db_config = {'user': 'praktikum_student', # имя пользователя\n",
    "'pwd': 'Sdf4$2;d-d30pp', # пароль\n",
    "'host': 'rc1b-wcoijxj3yxfsf3fs.mdb.yandexcloud.net',\n",
    "'port': 6432, # порт подключения\n",
    "'db': 'data-analyst-final-project-db'} # название базы данных\n",
    "connection_string = 'postgresql://{user}:{pwd}@{host}:{port}/{db}'.format(**db_config)\n",
    "\n",
    "# сохраняем коннектор\n",
    "engine = create_engine(connection_string, connect_args={'sslmode':'require'})\n",
    "\n",
    "con=engine.connect()"
   ]
  },
  {
   "cell_type": "code",
   "execution_count": 2,
   "metadata": {
    "scrolled": true
   },
   "outputs": [
    {
     "data": {
      "text/html": [
       "<div>\n",
       "<style scoped>\n",
       "    .dataframe tbody tr th:only-of-type {\n",
       "        vertical-align: middle;\n",
       "    }\n",
       "\n",
       "    .dataframe tbody tr th {\n",
       "        vertical-align: top;\n",
       "    }\n",
       "\n",
       "    .dataframe thead th {\n",
       "        text-align: right;\n",
       "    }\n",
       "</style>\n",
       "<table border=\"1\" class=\"dataframe\">\n",
       "  <thead>\n",
       "    <tr style=\"text-align: right;\">\n",
       "      <th></th>\n",
       "      <th>schemaname</th>\n",
       "      <th>tablename</th>\n",
       "      <th>tableowner</th>\n",
       "      <th>tablespace</th>\n",
       "      <th>hasindexes</th>\n",
       "      <th>hasrules</th>\n",
       "      <th>hastriggers</th>\n",
       "      <th>rowsecurity</th>\n",
       "    </tr>\n",
       "  </thead>\n",
       "  <tbody>\n",
       "    <tr>\n",
       "      <th>0</th>\n",
       "      <td>public</td>\n",
       "      <td>orders</td>\n",
       "      <td>praktikum_admin</td>\n",
       "      <td>None</td>\n",
       "      <td>True</td>\n",
       "      <td>False</td>\n",
       "      <td>False</td>\n",
       "      <td>False</td>\n",
       "    </tr>\n",
       "    <tr>\n",
       "      <th>1</th>\n",
       "      <td>public</td>\n",
       "      <td>visits</td>\n",
       "      <td>praktikum_admin</td>\n",
       "      <td>None</td>\n",
       "      <td>True</td>\n",
       "      <td>False</td>\n",
       "      <td>False</td>\n",
       "      <td>False</td>\n",
       "    </tr>\n",
       "    <tr>\n",
       "      <th>2</th>\n",
       "      <td>public</td>\n",
       "      <td>advertisment_costs</td>\n",
       "      <td>praktikum_admin</td>\n",
       "      <td>None</td>\n",
       "      <td>True</td>\n",
       "      <td>False</td>\n",
       "      <td>False</td>\n",
       "      <td>False</td>\n",
       "    </tr>\n",
       "    <tr>\n",
       "      <th>3</th>\n",
       "      <td>public</td>\n",
       "      <td>authors</td>\n",
       "      <td>praktikum_admin</td>\n",
       "      <td>None</td>\n",
       "      <td>True</td>\n",
       "      <td>False</td>\n",
       "      <td>True</td>\n",
       "      <td>False</td>\n",
       "    </tr>\n",
       "    <tr>\n",
       "      <th>4</th>\n",
       "      <td>public</td>\n",
       "      <td>second</td>\n",
       "      <td>praktikum_student</td>\n",
       "      <td>None</td>\n",
       "      <td>False</td>\n",
       "      <td>False</td>\n",
       "      <td>False</td>\n",
       "      <td>False</td>\n",
       "    </tr>\n",
       "    <tr>\n",
       "      <th>5</th>\n",
       "      <td>public</td>\n",
       "      <td>second_b</td>\n",
       "      <td>praktikum_student</td>\n",
       "      <td>None</td>\n",
       "      <td>False</td>\n",
       "      <td>False</td>\n",
       "      <td>False</td>\n",
       "      <td>False</td>\n",
       "    </tr>\n",
       "    <tr>\n",
       "      <th>6</th>\n",
       "      <td>public</td>\n",
       "      <td>publishers</td>\n",
       "      <td>praktikum_admin</td>\n",
       "      <td>None</td>\n",
       "      <td>True</td>\n",
       "      <td>False</td>\n",
       "      <td>True</td>\n",
       "      <td>False</td>\n",
       "    </tr>\n",
       "    <tr>\n",
       "      <th>7</th>\n",
       "      <td>public</td>\n",
       "      <td>author</td>\n",
       "      <td>praktikum_student</td>\n",
       "      <td>None</td>\n",
       "      <td>True</td>\n",
       "      <td>False</td>\n",
       "      <td>False</td>\n",
       "      <td>False</td>\n",
       "    </tr>\n",
       "    <tr>\n",
       "      <th>8</th>\n",
       "      <td>public</td>\n",
       "      <td>reviews</td>\n",
       "      <td>praktikum_admin</td>\n",
       "      <td>None</td>\n",
       "      <td>True</td>\n",
       "      <td>False</td>\n",
       "      <td>True</td>\n",
       "      <td>False</td>\n",
       "    </tr>\n",
       "    <tr>\n",
       "      <th>9</th>\n",
       "      <td>public</td>\n",
       "      <td>ratings</td>\n",
       "      <td>praktikum_admin</td>\n",
       "      <td>None</td>\n",
       "      <td>True</td>\n",
       "      <td>False</td>\n",
       "      <td>True</td>\n",
       "      <td>False</td>\n",
       "    </tr>\n",
       "    <tr>\n",
       "      <th>10</th>\n",
       "      <td>public</td>\n",
       "      <td>books</td>\n",
       "      <td>praktikum_admin</td>\n",
       "      <td>None</td>\n",
       "      <td>True</td>\n",
       "      <td>False</td>\n",
       "      <td>True</td>\n",
       "      <td>False</td>\n",
       "    </tr>\n",
       "  </tbody>\n",
       "</table>\n",
       "</div>"
      ],
      "text/plain": [
       "   schemaname           tablename         tableowner tablespace  hasindexes  \\\n",
       "0      public              orders    praktikum_admin       None        True   \n",
       "1      public              visits    praktikum_admin       None        True   \n",
       "2      public  advertisment_costs    praktikum_admin       None        True   \n",
       "3      public             authors    praktikum_admin       None        True   \n",
       "4      public              second  praktikum_student       None       False   \n",
       "5      public            second_b  praktikum_student       None       False   \n",
       "6      public          publishers    praktikum_admin       None        True   \n",
       "7      public              author  praktikum_student       None        True   \n",
       "8      public             reviews    praktikum_admin       None        True   \n",
       "9      public             ratings    praktikum_admin       None        True   \n",
       "10     public               books    praktikum_admin       None        True   \n",
       "\n",
       "    hasrules  hastriggers  rowsecurity  \n",
       "0      False        False        False  \n",
       "1      False        False        False  \n",
       "2      False        False        False  \n",
       "3      False         True        False  \n",
       "4      False        False        False  \n",
       "5      False        False        False  \n",
       "6      False         True        False  \n",
       "7      False        False        False  \n",
       "8      False         True        False  \n",
       "9      False         True        False  \n",
       "10     False         True        False  "
      ]
     },
     "metadata": {},
     "output_type": "display_data"
    },
    {
     "data": {
      "text/html": [
       "<div>\n",
       "<style scoped>\n",
       "    .dataframe tbody tr th:only-of-type {\n",
       "        vertical-align: middle;\n",
       "    }\n",
       "\n",
       "    .dataframe tbody tr th {\n",
       "        vertical-align: top;\n",
       "    }\n",
       "\n",
       "    .dataframe thead th {\n",
       "        text-align: right;\n",
       "    }\n",
       "</style>\n",
       "<table border=\"1\" class=\"dataframe\">\n",
       "  <thead>\n",
       "    <tr style=\"text-align: right;\">\n",
       "      <th></th>\n",
       "      <th>table_name</th>\n",
       "      <th>column_name</th>\n",
       "      <th>data_type</th>\n",
       "      <th>is_nullable</th>\n",
       "    </tr>\n",
       "  </thead>\n",
       "  <tbody>\n",
       "    <tr>\n",
       "      <th>0</th>\n",
       "      <td>authors</td>\n",
       "      <td>author_id</td>\n",
       "      <td>integer</td>\n",
       "      <td>NO</td>\n",
       "    </tr>\n",
       "    <tr>\n",
       "      <th>1</th>\n",
       "      <td>authors</td>\n",
       "      <td>author</td>\n",
       "      <td>text</td>\n",
       "      <td>YES</td>\n",
       "    </tr>\n",
       "    <tr>\n",
       "      <th>2</th>\n",
       "      <td>publishers</td>\n",
       "      <td>publisher_id</td>\n",
       "      <td>integer</td>\n",
       "      <td>NO</td>\n",
       "    </tr>\n",
       "    <tr>\n",
       "      <th>3</th>\n",
       "      <td>publishers</td>\n",
       "      <td>publisher</td>\n",
       "      <td>text</td>\n",
       "      <td>YES</td>\n",
       "    </tr>\n",
       "    <tr>\n",
       "      <th>4</th>\n",
       "      <td>reviews</td>\n",
       "      <td>review_id</td>\n",
       "      <td>integer</td>\n",
       "      <td>NO</td>\n",
       "    </tr>\n",
       "    <tr>\n",
       "      <th>5</th>\n",
       "      <td>reviews</td>\n",
       "      <td>book_id</td>\n",
       "      <td>integer</td>\n",
       "      <td>YES</td>\n",
       "    </tr>\n",
       "    <tr>\n",
       "      <th>6</th>\n",
       "      <td>reviews</td>\n",
       "      <td>username</td>\n",
       "      <td>text</td>\n",
       "      <td>YES</td>\n",
       "    </tr>\n",
       "    <tr>\n",
       "      <th>7</th>\n",
       "      <td>reviews</td>\n",
       "      <td>text</td>\n",
       "      <td>text</td>\n",
       "      <td>YES</td>\n",
       "    </tr>\n",
       "    <tr>\n",
       "      <th>8</th>\n",
       "      <td>ratings</td>\n",
       "      <td>rating_id</td>\n",
       "      <td>integer</td>\n",
       "      <td>NO</td>\n",
       "    </tr>\n",
       "    <tr>\n",
       "      <th>9</th>\n",
       "      <td>ratings</td>\n",
       "      <td>book_id</td>\n",
       "      <td>integer</td>\n",
       "      <td>YES</td>\n",
       "    </tr>\n",
       "    <tr>\n",
       "      <th>10</th>\n",
       "      <td>ratings</td>\n",
       "      <td>username</td>\n",
       "      <td>text</td>\n",
       "      <td>YES</td>\n",
       "    </tr>\n",
       "    <tr>\n",
       "      <th>11</th>\n",
       "      <td>ratings</td>\n",
       "      <td>rating</td>\n",
       "      <td>integer</td>\n",
       "      <td>YES</td>\n",
       "    </tr>\n",
       "    <tr>\n",
       "      <th>12</th>\n",
       "      <td>books</td>\n",
       "      <td>book_id</td>\n",
       "      <td>integer</td>\n",
       "      <td>NO</td>\n",
       "    </tr>\n",
       "    <tr>\n",
       "      <th>13</th>\n",
       "      <td>books</td>\n",
       "      <td>author_id</td>\n",
       "      <td>integer</td>\n",
       "      <td>YES</td>\n",
       "    </tr>\n",
       "    <tr>\n",
       "      <th>14</th>\n",
       "      <td>books</td>\n",
       "      <td>title</td>\n",
       "      <td>text</td>\n",
       "      <td>YES</td>\n",
       "    </tr>\n",
       "    <tr>\n",
       "      <th>15</th>\n",
       "      <td>books</td>\n",
       "      <td>num_pages</td>\n",
       "      <td>integer</td>\n",
       "      <td>YES</td>\n",
       "    </tr>\n",
       "    <tr>\n",
       "      <th>16</th>\n",
       "      <td>books</td>\n",
       "      <td>publication_date</td>\n",
       "      <td>date</td>\n",
       "      <td>YES</td>\n",
       "    </tr>\n",
       "    <tr>\n",
       "      <th>17</th>\n",
       "      <td>books</td>\n",
       "      <td>publisher_id</td>\n",
       "      <td>integer</td>\n",
       "      <td>YES</td>\n",
       "    </tr>\n",
       "  </tbody>\n",
       "</table>\n",
       "</div>"
      ],
      "text/plain": [
       "    table_name       column_name data_type is_nullable\n",
       "0      authors         author_id   integer          NO\n",
       "1      authors            author      text         YES\n",
       "2   publishers      publisher_id   integer          NO\n",
       "3   publishers         publisher      text         YES\n",
       "4      reviews         review_id   integer          NO\n",
       "5      reviews           book_id   integer         YES\n",
       "6      reviews          username      text         YES\n",
       "7      reviews              text      text         YES\n",
       "8      ratings         rating_id   integer          NO\n",
       "9      ratings           book_id   integer         YES\n",
       "10     ratings          username      text         YES\n",
       "11     ratings            rating   integer         YES\n",
       "12       books           book_id   integer          NO\n",
       "13       books         author_id   integer         YES\n",
       "14       books             title      text         YES\n",
       "15       books         num_pages   integer         YES\n",
       "16       books  publication_date      date         YES\n",
       "17       books      publisher_id   integer         YES"
      ]
     },
     "metadata": {},
     "output_type": "display_data"
    }
   ],
   "source": [
    "# Выясним какие ещё таблицы доступны в базе\n",
    "display(pd.io.sql.read_sql('''\n",
    "\n",
    "SELECT *\n",
    "FROM pg_catalog.pg_tables\n",
    "WHERE schemaname != 'pg_catalog' AND\n",
    "      schemaname != 'information_schema';\n",
    "\n",
    "''', con = engine))\n",
    "\n",
    "\n",
    "# смотрим на типы столбцов в интересующих таблицах\n",
    "display(pd.io.sql.read_sql('''\n",
    "SELECT \n",
    "    table_name, \n",
    "    column_name, \n",
    "    data_type, \n",
    "    is_nullable\n",
    "FROM INFORMATION_SCHEMA.COLUMNS \n",
    "WHERE table_name IN ('books', 'authors', 'publishers', 'ratings', 'reviews');\n",
    "''', con = engine))"
   ]
  },
  {
   "cell_type": "markdown",
   "metadata": {},
   "source": [
    "Посчитаем, сколько книг вышло после 1 января 2000 года"
   ]
  },
  {
   "cell_type": "code",
   "execution_count": 3,
   "metadata": {},
   "outputs": [
    {
     "data": {
      "text/html": [
       "<div>\n",
       "<style scoped>\n",
       "    .dataframe tbody tr th:only-of-type {\n",
       "        vertical-align: middle;\n",
       "    }\n",
       "\n",
       "    .dataframe tbody tr th {\n",
       "        vertical-align: top;\n",
       "    }\n",
       "\n",
       "    .dataframe thead th {\n",
       "        text-align: right;\n",
       "    }\n",
       "</style>\n",
       "<table border=\"1\" class=\"dataframe\">\n",
       "  <thead>\n",
       "    <tr style=\"text-align: right;\">\n",
       "      <th></th>\n",
       "      <th>count</th>\n",
       "    </tr>\n",
       "  </thead>\n",
       "  <tbody>\n",
       "    <tr>\n",
       "      <th>0</th>\n",
       "      <td>819</td>\n",
       "    </tr>\n",
       "  </tbody>\n",
       "</table>\n",
       "</div>"
      ],
      "text/plain": [
       "   count\n",
       "0    819"
      ]
     },
     "execution_count": 3,
     "metadata": {},
     "output_type": "execute_result"
    }
   ],
   "source": [
    "query = '''SELECT COUNT(book_id)\n",
    "            FROM books\n",
    "            WHERE publication_date > '2000-01-01'            \n",
    "        '''\n",
    "pd.io.sql.read_sql(sql=text(query), con = con)"
   ]
  },
  {
   "cell_type": "markdown",
   "metadata": {},
   "source": [
    "Для каждой книги посчитаем количество обзоров и среднюю оценку"
   ]
  },
  {
   "cell_type": "code",
   "execution_count": 4,
   "metadata": {
    "scrolled": true
   },
   "outputs": [
    {
     "data": {
      "text/html": [
       "<div>\n",
       "<style scoped>\n",
       "    .dataframe tbody tr th:only-of-type {\n",
       "        vertical-align: middle;\n",
       "    }\n",
       "\n",
       "    .dataframe tbody tr th {\n",
       "        vertical-align: top;\n",
       "    }\n",
       "\n",
       "    .dataframe thead th {\n",
       "        text-align: right;\n",
       "    }\n",
       "</style>\n",
       "<table border=\"1\" class=\"dataframe\">\n",
       "  <thead>\n",
       "    <tr style=\"text-align: right;\">\n",
       "      <th></th>\n",
       "      <th>book_id</th>\n",
       "      <th>title</th>\n",
       "      <th>avg_rating</th>\n",
       "      <th>rew_cnt</th>\n",
       "    </tr>\n",
       "  </thead>\n",
       "  <tbody>\n",
       "    <tr>\n",
       "      <th>0</th>\n",
       "      <td>200</td>\n",
       "      <td>Dreamcatcher</td>\n",
       "      <td>2.800000</td>\n",
       "      <td>3</td>\n",
       "    </tr>\n",
       "    <tr>\n",
       "      <th>1</th>\n",
       "      <td>593</td>\n",
       "      <td>Sputnik Sweetheart</td>\n",
       "      <td>3.666667</td>\n",
       "      <td>3</td>\n",
       "    </tr>\n",
       "    <tr>\n",
       "      <th>2</th>\n",
       "      <td>735</td>\n",
       "      <td>The God Delusion</td>\n",
       "      <td>4.000000</td>\n",
       "      <td>4</td>\n",
       "    </tr>\n",
       "    <tr>\n",
       "      <th>3</th>\n",
       "      <td>570</td>\n",
       "      <td>Silent Spring</td>\n",
       "      <td>3.000000</td>\n",
       "      <td>2</td>\n",
       "    </tr>\n",
       "    <tr>\n",
       "      <th>4</th>\n",
       "      <td>604</td>\n",
       "      <td>Surely You're Joking  Mr. Feynman!: Adventures...</td>\n",
       "      <td>4.250000</td>\n",
       "      <td>3</td>\n",
       "    </tr>\n",
       "    <tr>\n",
       "      <th>...</th>\n",
       "      <td>...</td>\n",
       "      <td>...</td>\n",
       "      <td>...</td>\n",
       "      <td>...</td>\n",
       "    </tr>\n",
       "    <tr>\n",
       "      <th>995</th>\n",
       "      <td>70</td>\n",
       "      <td>American Gods (American Gods  #1)</td>\n",
       "      <td>4.000000</td>\n",
       "      <td>5</td>\n",
       "    </tr>\n",
       "    <tr>\n",
       "      <th>996</th>\n",
       "      <td>488</td>\n",
       "      <td>Of Mice and Men</td>\n",
       "      <td>3.622951</td>\n",
       "      <td>5</td>\n",
       "    </tr>\n",
       "    <tr>\n",
       "      <th>997</th>\n",
       "      <td>886</td>\n",
       "      <td>The Tombs of Atuan (Earthsea Cycle  #2)</td>\n",
       "      <td>4.666667</td>\n",
       "      <td>3</td>\n",
       "    </tr>\n",
       "    <tr>\n",
       "      <th>998</th>\n",
       "      <td>881</td>\n",
       "      <td>The Tenth Circle</td>\n",
       "      <td>3.500000</td>\n",
       "      <td>4</td>\n",
       "    </tr>\n",
       "    <tr>\n",
       "      <th>999</th>\n",
       "      <td>983</td>\n",
       "      <td>Wild at Heart: Discovering the Secret of a Man...</td>\n",
       "      <td>2.500000</td>\n",
       "      <td>2</td>\n",
       "    </tr>\n",
       "  </tbody>\n",
       "</table>\n",
       "<p>1000 rows × 4 columns</p>\n",
       "</div>"
      ],
      "text/plain": [
       "     book_id                                              title  avg_rating  \\\n",
       "0        200                                       Dreamcatcher    2.800000   \n",
       "1        593                                 Sputnik Sweetheart    3.666667   \n",
       "2        735                                   The God Delusion    4.000000   \n",
       "3        570                                      Silent Spring    3.000000   \n",
       "4        604  Surely You're Joking  Mr. Feynman!: Adventures...    4.250000   \n",
       "..       ...                                                ...         ...   \n",
       "995       70                  American Gods (American Gods  #1)    4.000000   \n",
       "996      488                                    Of Mice and Men    3.622951   \n",
       "997      886            The Tombs of Atuan (Earthsea Cycle  #2)    4.666667   \n",
       "998      881                                   The Tenth Circle    3.500000   \n",
       "999      983  Wild at Heart: Discovering the Secret of a Man...    2.500000   \n",
       "\n",
       "     rew_cnt  \n",
       "0          3  \n",
       "1          3  \n",
       "2          4  \n",
       "3          2  \n",
       "4          3  \n",
       "..       ...  \n",
       "995        5  \n",
       "996        5  \n",
       "997        3  \n",
       "998        4  \n",
       "999        2  \n",
       "\n",
       "[1000 rows x 4 columns]"
      ]
     },
     "execution_count": 4,
     "metadata": {},
     "output_type": "execute_result"
    }
   ],
   "source": [
    "\n",
    "query = '''WITH i AS\n",
    "             (SELECT  b.book_id book_id,\n",
    "                    b.title title,\n",
    "                    AVG(ra.rating) avg_rating\n",
    "            FROM books as b\n",
    "            LEFT JOIN ratings ra ON b.book_id=ra.book_id\n",
    "            GROUP BY b.book_id, b.title) \n",
    "           \n",
    "           SELECT i.book_id,\n",
    "                i.title,\n",
    "                i.avg_rating,\n",
    "                COUNT(re.review_id) rew_cnt\n",
    "           FROM i\n",
    "           LEFT JOIN reviews re ON i.book_id=re.book_id\n",
    "           GROUP BY 1,2,3\n",
    "        '''\n",
    "pd.io.sql.read_sql(sql=text(query), con = con)"
   ]
  },
  {
   "cell_type": "markdown",
   "metadata": {},
   "source": [
    "Определим издательство, которое выпустило наибольшее число книг толще 50 страниц."
   ]
  },
  {
   "cell_type": "code",
   "execution_count": 5,
   "metadata": {
    "scrolled": true
   },
   "outputs": [
    {
     "data": {
      "text/html": [
       "<div>\n",
       "<style scoped>\n",
       "    .dataframe tbody tr th:only-of-type {\n",
       "        vertical-align: middle;\n",
       "    }\n",
       "\n",
       "    .dataframe tbody tr th {\n",
       "        vertical-align: top;\n",
       "    }\n",
       "\n",
       "    .dataframe thead th {\n",
       "        text-align: right;\n",
       "    }\n",
       "</style>\n",
       "<table border=\"1\" class=\"dataframe\">\n",
       "  <thead>\n",
       "    <tr style=\"text-align: right;\">\n",
       "      <th></th>\n",
       "      <th>publ_id</th>\n",
       "      <th>publ</th>\n",
       "      <th>book_cnt</th>\n",
       "    </tr>\n",
       "  </thead>\n",
       "  <tbody>\n",
       "    <tr>\n",
       "      <th>0</th>\n",
       "      <td>212</td>\n",
       "      <td>Penguin Books</td>\n",
       "      <td>42</td>\n",
       "    </tr>\n",
       "  </tbody>\n",
       "</table>\n",
       "</div>"
      ],
      "text/plain": [
       "   publ_id           publ  book_cnt\n",
       "0      212  Penguin Books        42"
      ]
     },
     "execution_count": 5,
     "metadata": {},
     "output_type": "execute_result"
    }
   ],
   "source": [
    "query = '''WITH i AS\n",
    "                (SELECT p.publisher_id publ_id,\n",
    "                        p.publisher publ,\n",
    "                 COUNT(b.book_id) book_cnt\n",
    "                 FROM books b\n",
    "                 JOIN publishers p ON b.publisher_id=p.publisher_id\n",
    "                 WHERE b.num_pages > 50\n",
    "                 GROUP BY p.publisher_id, p.publisher)\n",
    "          SELECT i.publ_id,\n",
    "                i.publ,\n",
    "                i.book_cnt\n",
    "          FROM i\n",
    "          WHERE i.book_cnt in (SELECT MAX(i.book_cnt)\n",
    "                                FROM i)   \n",
    "                        \n",
    "        '''\n",
    "pd.io.sql.read_sql(sql=text(query), con = con)"
   ]
  },
  {
   "cell_type": "markdown",
   "metadata": {},
   "source": [
    "Определим автора с самой высокой средней оценкой книг, учитывая только книги с 50 и более оценками"
   ]
  },
  {
   "cell_type": "code",
   "execution_count": 6,
   "metadata": {},
   "outputs": [
    {
     "data": {
      "text/html": [
       "<div>\n",
       "<style scoped>\n",
       "    .dataframe tbody tr th:only-of-type {\n",
       "        vertical-align: middle;\n",
       "    }\n",
       "\n",
       "    .dataframe tbody tr th {\n",
       "        vertical-align: top;\n",
       "    }\n",
       "\n",
       "    .dataframe thead th {\n",
       "        text-align: right;\n",
       "    }\n",
       "</style>\n",
       "<table border=\"1\" class=\"dataframe\">\n",
       "  <thead>\n",
       "    <tr style=\"text-align: right;\">\n",
       "      <th></th>\n",
       "      <th>author_id</th>\n",
       "      <th>author</th>\n",
       "      <th>avg_rating</th>\n",
       "    </tr>\n",
       "  </thead>\n",
       "  <tbody>\n",
       "    <tr>\n",
       "      <th>0</th>\n",
       "      <td>236</td>\n",
       "      <td>J.K. Rowling/Mary GrandPré</td>\n",
       "      <td>4.287097</td>\n",
       "    </tr>\n",
       "  </tbody>\n",
       "</table>\n",
       "</div>"
      ],
      "text/plain": [
       "   author_id                      author  avg_rating\n",
       "0        236  J.K. Rowling/Mary GrandPré    4.287097"
      ]
     },
     "execution_count": 6,
     "metadata": {},
     "output_type": "execute_result"
    }
   ],
   "source": [
    "query = '''\n",
    "                     \n",
    "        WITH i AS (SELECT a.author_id author_id,\n",
    "                           a.author author,\n",
    "                           AVG(ra.rating) avg_rating\n",
    "                    FROM authors a\n",
    "                    LEFT JOIN books b ON a.author_id=b.author_id\n",
    "                    LEFT JOIN ratings ra ON b.book_id=ra.book_id\n",
    "                    WHERE b.book_id IN (SELECT j.book_id\n",
    "                                        FROM (SELECT b.book_id book_id,\n",
    "                                                      COUNT(ra.rating_id)\n",
    "                                               FROM books b\n",
    "                                               LEFT JOIN ratings ra ON b.book_id=ra.book_id\n",
    "                                               GROUP BY b.book_id\n",
    "                                               HAVING COUNT(ra.rating_id)>=50) AS j)\n",
    "              \n",
    "                    GROUP BY 1,2)\n",
    "        \n",
    "        SELECT i.author_id,\n",
    "               i.author,\n",
    "               i.avg_rating\n",
    "        FROM i\n",
    "        WHERE i.avg_rating IN (SELECT MAX(i.avg_rating)\n",
    "                                FROM i)\n",
    "          \n",
    "'''\n",
    "pd.io.sql.read_sql(sql=text(query), con = con)"
   ]
  },
  {
   "cell_type": "markdown",
   "metadata": {},
   "source": [
    "Посчитаем среднее количество обзоров от пользователей, которые поставили больше 48 оценок."
   ]
  },
  {
   "cell_type": "code",
   "execution_count": 7,
   "metadata": {},
   "outputs": [
    {
     "data": {
      "text/html": [
       "<div>\n",
       "<style scoped>\n",
       "    .dataframe tbody tr th:only-of-type {\n",
       "        vertical-align: middle;\n",
       "    }\n",
       "\n",
       "    .dataframe tbody tr th {\n",
       "        vertical-align: top;\n",
       "    }\n",
       "\n",
       "    .dataframe thead th {\n",
       "        text-align: right;\n",
       "    }\n",
       "</style>\n",
       "<table border=\"1\" class=\"dataframe\">\n",
       "  <thead>\n",
       "    <tr style=\"text-align: right;\">\n",
       "      <th></th>\n",
       "      <th>avg</th>\n",
       "    </tr>\n",
       "  </thead>\n",
       "  <tbody>\n",
       "    <tr>\n",
       "      <th>0</th>\n",
       "      <td>24.0</td>\n",
       "    </tr>\n",
       "  </tbody>\n",
       "</table>\n",
       "</div>"
      ],
      "text/plain": [
       "    avg\n",
       "0  24.0"
      ]
     },
     "execution_count": 7,
     "metadata": {},
     "output_type": "execute_result"
    }
   ],
   "source": [
    "query = '''SELECT AVG(i.rev_cnt)\n",
    "        FROM\n",
    "                (SELECT  username,\n",
    "                        COUNT(review_id) rev_cnt\n",
    "                FROM reviews\n",
    "                WHERE username IN (SELECT username\n",
    "                                        FROM ratings\n",
    "                                        GROUP BY 1\n",
    "                                        HAVING COUNT(rating_id)>48) \n",
    "                GROUP BY 1) AS i\n",
    "       '''\n",
    "pd.io.sql.read_sql(sql=text(query), con = con)"
   ]
  },
  {
   "cell_type": "markdown",
   "metadata": {},
   "source": [
    "# Выводы"
   ]
  },
  {
   "cell_type": "markdown",
   "metadata": {},
   "source": [
    "* после 1 января 2000 года вышло 819 книг \n",
    "* для каждой книги получен средний рейтинг и количество обзоров\n",
    "* издательство, которое выпустило наибольшее число книг (42 шт.) толще 50 страниц - Penguin Books\n",
    "* автор с самой высокой средней оценкой книг (4.3) среди тех что имеют 50 и более оценок: J.K. Rowling/Mary GrandPré\t\n",
    "* среднее количество обзоров от пользователей, которые поставили больше 48 оценок - 24"
   ]
  }
 ],
 "metadata": {
  "ExecuteTimeLog": [
   {
    "duration": 91,
    "start_time": "2023-06-14T12:26:36.029Z"
   },
   {
    "duration": 109,
    "start_time": "2023-06-14T12:27:41.254Z"
   },
   {
    "duration": 10677,
    "start_time": "2023-06-14T12:34:10.427Z"
   },
   {
    "duration": 94,
    "start_time": "2023-06-14T12:34:46.499Z"
   },
   {
    "duration": 96,
    "start_time": "2023-06-14T12:36:51.006Z"
   },
   {
    "duration": 2,
    "start_time": "2023-06-14T12:42:15.100Z"
   },
   {
    "duration": 101,
    "start_time": "2023-06-14T12:43:18.202Z"
   },
   {
    "duration": 12,
    "start_time": "2023-06-14T12:43:29.438Z"
   },
   {
    "duration": 12,
    "start_time": "2023-06-14T12:43:55.035Z"
   },
   {
    "duration": 9,
    "start_time": "2023-06-14T12:47:19.298Z"
   },
   {
    "duration": 10,
    "start_time": "2023-06-14T12:47:44.293Z"
   },
   {
    "duration": 34,
    "start_time": "2023-06-14T12:57:48.534Z"
   },
   {
    "duration": 43,
    "start_time": "2023-06-14T12:59:25.097Z"
   },
   {
    "duration": 30,
    "start_time": "2023-06-14T13:00:19.140Z"
   },
   {
    "duration": 22,
    "start_time": "2023-06-14T13:06:32.204Z"
   },
   {
    "duration": 21,
    "start_time": "2023-06-14T13:11:07.792Z"
   },
   {
    "duration": 20,
    "start_time": "2023-06-14T13:11:15.388Z"
   },
   {
    "duration": 17,
    "start_time": "2023-06-14T13:11:29.753Z"
   },
   {
    "duration": 13,
    "start_time": "2023-06-14T13:12:15.739Z"
   },
   {
    "duration": 24,
    "start_time": "2023-06-14T13:16:29.798Z"
   },
   {
    "duration": 21,
    "start_time": "2023-06-14T13:17:01.087Z"
   },
   {
    "duration": 25,
    "start_time": "2023-06-14T13:20:23.883Z"
   },
   {
    "duration": 19,
    "start_time": "2023-06-14T13:22:10.237Z"
   },
   {
    "duration": 19,
    "start_time": "2023-06-14T13:22:34.080Z"
   },
   {
    "duration": 20,
    "start_time": "2023-06-14T13:25:21.860Z"
   },
   {
    "duration": 19,
    "start_time": "2023-06-14T13:30:50.691Z"
   },
   {
    "duration": 21,
    "start_time": "2023-06-14T13:36:18.911Z"
   },
   {
    "duration": 20,
    "start_time": "2023-06-14T13:36:27.198Z"
   },
   {
    "duration": 19,
    "start_time": "2023-06-14T13:37:25.184Z"
   },
   {
    "duration": 28,
    "start_time": "2023-06-14T13:38:06.525Z"
   },
   {
    "duration": 30,
    "start_time": "2023-06-14T13:40:29.657Z"
   },
   {
    "duration": 10215,
    "start_time": "2023-06-14T13:40:52.201Z"
   },
   {
    "duration": 9,
    "start_time": "2023-06-14T13:41:02.418Z"
   },
   {
    "duration": 61,
    "start_time": "2023-06-14T13:41:02.429Z"
   },
   {
    "duration": 93,
    "start_time": "2023-06-14T13:41:02.492Z"
   },
   {
    "duration": 21,
    "start_time": "2023-06-14T13:42:18.036Z"
   },
   {
    "duration": 22,
    "start_time": "2023-06-14T13:42:46.520Z"
   },
   {
    "duration": 13,
    "start_time": "2023-06-14T13:43:28.222Z"
   },
   {
    "duration": 12,
    "start_time": "2023-06-14T13:44:28.441Z"
   },
   {
    "duration": 20,
    "start_time": "2023-06-14T13:45:38.373Z"
   },
   {
    "duration": 21,
    "start_time": "2023-06-14T13:46:03.515Z"
   },
   {
    "duration": 18,
    "start_time": "2023-06-14T13:47:01.721Z"
   },
   {
    "duration": 19,
    "start_time": "2023-06-14T13:47:11.893Z"
   },
   {
    "duration": 21,
    "start_time": "2023-06-14T13:49:13.584Z"
   },
   {
    "duration": 14,
    "start_time": "2023-06-14T13:49:26.239Z"
   },
   {
    "duration": 27,
    "start_time": "2023-06-14T13:50:53.880Z"
   },
   {
    "duration": 53,
    "start_time": "2023-06-14T15:24:32.323Z"
   },
   {
    "duration": 10088,
    "start_time": "2023-06-14T15:24:48.982Z"
   },
   {
    "duration": 9,
    "start_time": "2023-06-14T15:24:59.072Z"
   },
   {
    "duration": 28,
    "start_time": "2023-06-14T15:24:59.083Z"
   },
   {
    "duration": 13,
    "start_time": "2023-06-14T15:24:59.113Z"
   },
   {
    "duration": 92,
    "start_time": "2023-06-14T15:26:25.032Z"
   },
   {
    "duration": 12,
    "start_time": "2023-06-14T15:26:58.897Z"
   },
   {
    "duration": 20,
    "start_time": "2023-06-14T15:32:15.550Z"
   },
   {
    "duration": 11,
    "start_time": "2023-06-14T15:32:29.988Z"
   },
   {
    "duration": 59,
    "start_time": "2023-06-14T15:34:01.248Z"
   },
   {
    "duration": 10212,
    "start_time": "2023-06-14T15:34:11.285Z"
   },
   {
    "duration": 15,
    "start_time": "2023-06-14T15:34:21.499Z"
   },
   {
    "duration": 27,
    "start_time": "2023-06-14T15:34:21.516Z"
   },
   {
    "duration": 33,
    "start_time": "2023-06-14T15:34:21.545Z"
   },
   {
    "duration": 91,
    "start_time": "2023-06-14T15:49:39.258Z"
   },
   {
    "duration": 84,
    "start_time": "2023-06-14T15:50:47.374Z"
   },
   {
    "duration": 80,
    "start_time": "2023-06-14T15:51:06.353Z"
   },
   {
    "duration": 9831,
    "start_time": "2023-06-14T15:51:23.227Z"
   },
   {
    "duration": 18,
    "start_time": "2023-06-14T15:51:33.061Z"
   },
   {
    "duration": 25,
    "start_time": "2023-06-14T15:51:33.081Z"
   },
   {
    "duration": 11,
    "start_time": "2023-06-14T15:51:33.108Z"
   },
   {
    "duration": 83,
    "start_time": "2023-06-14T15:51:33.121Z"
   },
   {
    "duration": 87,
    "start_time": "2023-06-14T15:52:01.104Z"
   },
   {
    "duration": 88,
    "start_time": "2023-06-14T15:52:15.615Z"
   },
   {
    "duration": 86,
    "start_time": "2023-06-14T15:52:42.945Z"
   },
   {
    "duration": 83,
    "start_time": "2023-06-14T15:53:56.696Z"
   },
   {
    "duration": 28,
    "start_time": "2023-06-14T15:54:09.286Z"
   },
   {
    "duration": 20,
    "start_time": "2023-06-14T15:54:41.657Z"
   },
   {
    "duration": 14,
    "start_time": "2023-06-14T15:55:41.358Z"
   },
   {
    "duration": 17,
    "start_time": "2023-06-14T16:12:00.524Z"
   },
   {
    "duration": 14,
    "start_time": "2023-06-14T16:24:48.902Z"
   },
   {
    "duration": 28,
    "start_time": "2023-06-14T16:25:43.228Z"
   },
   {
    "duration": 36,
    "start_time": "2023-06-14T16:31:13.054Z"
   },
   {
    "duration": 25,
    "start_time": "2023-06-14T16:32:23.254Z"
   },
   {
    "duration": 21,
    "start_time": "2023-06-14T16:38:21.322Z"
   },
   {
    "duration": 21,
    "start_time": "2023-06-14T16:38:35.201Z"
   },
   {
    "duration": 14,
    "start_time": "2023-06-14T16:40:06.324Z"
   },
   {
    "duration": 10444,
    "start_time": "2023-06-14T16:59:00.034Z"
   },
   {
    "duration": 18,
    "start_time": "2023-06-14T16:59:10.480Z"
   },
   {
    "duration": 31,
    "start_time": "2023-06-14T16:59:10.499Z"
   },
   {
    "duration": 12,
    "start_time": "2023-06-14T16:59:10.532Z"
   },
   {
    "duration": 17,
    "start_time": "2023-06-14T16:59:10.546Z"
   },
   {
    "duration": 14,
    "start_time": "2023-06-14T16:59:10.565Z"
   },
   {
    "duration": 15199,
    "start_time": "2023-06-15T07:54:28.183Z"
   },
   {
    "duration": 93,
    "start_time": "2023-06-15T07:54:43.384Z"
   },
   {
    "duration": 9,
    "start_time": "2023-06-15T07:54:43.478Z"
   },
   {
    "duration": 37,
    "start_time": "2023-06-15T07:54:43.489Z"
   },
   {
    "duration": 10,
    "start_time": "2023-06-15T07:54:43.528Z"
   },
   {
    "duration": 30,
    "start_time": "2023-06-15T07:54:43.540Z"
   },
   {
    "duration": 13,
    "start_time": "2023-06-15T07:54:43.572Z"
   },
   {
    "duration": 50,
    "start_time": "2023-06-15T10:07:55.668Z"
   },
   {
    "duration": 9171,
    "start_time": "2023-06-15T10:08:15.817Z"
   },
   {
    "duration": 255,
    "start_time": "2023-06-15T10:08:24.990Z"
   },
   {
    "duration": 41,
    "start_time": "2023-06-15T10:08:25.247Z"
   },
   {
    "duration": 72,
    "start_time": "2023-06-15T10:08:25.290Z"
   },
   {
    "duration": 145,
    "start_time": "2023-06-15T10:08:25.364Z"
   },
   {
    "duration": 0,
    "start_time": "2023-06-15T10:08:25.511Z"
   },
   {
    "duration": 0,
    "start_time": "2023-06-15T10:08:25.512Z"
   },
   {
    "duration": 0,
    "start_time": "2023-06-15T10:08:25.513Z"
   },
   {
    "duration": 39,
    "start_time": "2023-06-15T10:08:41.431Z"
   },
   {
    "duration": 68,
    "start_time": "2023-06-15T10:09:00.844Z"
   },
   {
    "duration": 67,
    "start_time": "2023-06-15T10:09:09.130Z"
   },
   {
    "duration": 73,
    "start_time": "2023-06-15T10:09:51.537Z"
   },
   {
    "duration": 64,
    "start_time": "2023-06-15T10:09:59.825Z"
   },
   {
    "duration": 31,
    "start_time": "2023-06-15T10:10:47.499Z"
   },
   {
    "duration": 68,
    "start_time": "2023-06-15T10:11:40.709Z"
   },
   {
    "duration": 73,
    "start_time": "2023-06-15T10:11:58.442Z"
   },
   {
    "duration": 71,
    "start_time": "2023-06-15T10:12:07.016Z"
   },
   {
    "duration": 28,
    "start_time": "2023-06-15T10:12:36.948Z"
   },
   {
    "duration": 64,
    "start_time": "2023-06-15T10:13:05.296Z"
   },
   {
    "duration": 71,
    "start_time": "2023-06-15T10:13:16.114Z"
   },
   {
    "duration": 37,
    "start_time": "2023-06-15T10:15:13.386Z"
   },
   {
    "duration": 36,
    "start_time": "2023-06-15T10:16:38.347Z"
   },
   {
    "duration": 43,
    "start_time": "2023-06-15T10:20:09.796Z"
   },
   {
    "duration": 87,
    "start_time": "2023-06-15T10:22:30.228Z"
   },
   {
    "duration": 82,
    "start_time": "2023-06-15T10:23:18.884Z"
   },
   {
    "duration": 37,
    "start_time": "2023-06-15T10:24:18.920Z"
   },
   {
    "duration": 49,
    "start_time": "2023-06-15T10:24:51.531Z"
   },
   {
    "duration": 61,
    "start_time": "2023-06-15T10:26:23.313Z"
   },
   {
    "duration": 57,
    "start_time": "2023-06-15T10:26:32.645Z"
   },
   {
    "duration": 191,
    "start_time": "2023-06-15T10:26:55.398Z"
   },
   {
    "duration": 49,
    "start_time": "2023-06-15T10:27:52.459Z"
   },
   {
    "duration": 58,
    "start_time": "2023-06-15T10:28:03.982Z"
   },
   {
    "duration": 193,
    "start_time": "2023-06-15T10:28:31.137Z"
   },
   {
    "duration": 49,
    "start_time": "2023-06-15T10:29:25.548Z"
   },
   {
    "duration": 195,
    "start_time": "2023-06-15T10:29:51.357Z"
   },
   {
    "duration": 187,
    "start_time": "2023-06-15T10:30:23.408Z"
   },
   {
    "duration": 179,
    "start_time": "2023-06-15T10:30:44.145Z"
   },
   {
    "duration": 76,
    "start_time": "2023-06-15T10:34:01.845Z"
   },
   {
    "duration": 73,
    "start_time": "2023-06-15T10:34:52.306Z"
   },
   {
    "duration": 48,
    "start_time": "2023-06-15T10:35:48.193Z"
   },
   {
    "duration": 60,
    "start_time": "2023-06-15T10:36:01.445Z"
   },
   {
    "duration": 52,
    "start_time": "2023-06-15T10:36:29.893Z"
   },
   {
    "duration": 41,
    "start_time": "2023-06-15T10:36:49.129Z"
   },
   {
    "duration": 44,
    "start_time": "2023-06-15T10:37:46.649Z"
   },
   {
    "duration": 50,
    "start_time": "2023-06-15T10:40:09.682Z"
   },
   {
    "duration": 59,
    "start_time": "2023-06-15T10:40:27.172Z"
   },
   {
    "duration": 59,
    "start_time": "2023-06-15T10:40:47.181Z"
   },
   {
    "duration": 68,
    "start_time": "2023-06-15T10:41:18.059Z"
   },
   {
    "duration": 49,
    "start_time": "2023-06-15T10:42:48.812Z"
   },
   {
    "duration": 126,
    "start_time": "2023-06-15T10:43:01.549Z"
   },
   {
    "duration": 65,
    "start_time": "2023-06-15T10:46:53.029Z"
   },
   {
    "duration": 35,
    "start_time": "2023-06-15T10:48:35.056Z"
   },
   {
    "duration": 33,
    "start_time": "2023-06-15T10:51:18.516Z"
   },
   {
    "duration": 29,
    "start_time": "2023-06-15T10:52:58.054Z"
   },
   {
    "duration": 161,
    "start_time": "2023-06-15T11:02:05.850Z"
   },
   {
    "duration": 48,
    "start_time": "2023-06-15T11:03:04.132Z"
   },
   {
    "duration": 48,
    "start_time": "2023-06-15T11:07:19.089Z"
   },
   {
    "duration": 47,
    "start_time": "2023-06-15T11:07:40.265Z"
   },
   {
    "duration": 37,
    "start_time": "2023-06-15T11:12:27.246Z"
   },
   {
    "duration": 33,
    "start_time": "2023-06-15T11:14:24.771Z"
   },
   {
    "duration": 34,
    "start_time": "2023-06-15T11:26:47.052Z"
   },
   {
    "duration": 35,
    "start_time": "2023-06-15T11:35:53.977Z"
   },
   {
    "duration": 33,
    "start_time": "2023-06-15T11:41:16.436Z"
   },
   {
    "duration": 31,
    "start_time": "2023-06-15T11:43:18.592Z"
   },
   {
    "duration": 9,
    "start_time": "2023-06-15T11:44:47.832Z"
   },
   {
    "duration": 62,
    "start_time": "2023-06-15T11:44:58.131Z"
   },
   {
    "duration": 15779,
    "start_time": "2023-06-15T13:10:45.725Z"
   },
   {
    "duration": 259,
    "start_time": "2023-06-15T13:11:01.507Z"
   },
   {
    "duration": 43,
    "start_time": "2023-06-15T13:11:01.767Z"
   },
   {
    "duration": 91,
    "start_time": "2023-06-15T13:11:01.812Z"
   },
   {
    "duration": 51,
    "start_time": "2023-06-15T13:11:01.905Z"
   },
   {
    "duration": 146,
    "start_time": "2023-06-15T13:11:01.958Z"
   },
   {
    "duration": 14842,
    "start_time": "2023-06-15T13:12:23.878Z"
   },
   {
    "duration": 260,
    "start_time": "2023-06-15T13:12:38.723Z"
   },
   {
    "duration": 42,
    "start_time": "2023-06-15T13:12:38.985Z"
   },
   {
    "duration": 68,
    "start_time": "2023-06-15T13:12:39.029Z"
   },
   {
    "duration": 33,
    "start_time": "2023-06-15T13:12:39.098Z"
   },
   {
    "duration": 38,
    "start_time": "2023-06-15T13:12:39.132Z"
   },
   {
    "duration": 33,
    "start_time": "2023-06-15T13:12:39.172Z"
   }
  ],
  "kernelspec": {
   "display_name": "Python 3 (ipykernel)",
   "language": "python",
   "name": "python3"
  },
  "language_info": {
   "codemirror_mode": {
    "name": "ipython",
    "version": 3
   },
   "file_extension": ".py",
   "mimetype": "text/x-python",
   "name": "python",
   "nbconvert_exporter": "python",
   "pygments_lexer": "ipython3",
   "version": "3.9.5"
  },
  "toc": {
   "base_numbering": 1,
   "nav_menu": {},
   "number_sections": true,
   "sideBar": true,
   "skip_h1_title": true,
   "title_cell": "Table of Contents",
   "title_sidebar": "Contents",
   "toc_cell": false,
   "toc_position": {},
   "toc_section_display": true,
   "toc_window_display": false
  }
 },
 "nbformat": 4,
 "nbformat_minor": 2
}
