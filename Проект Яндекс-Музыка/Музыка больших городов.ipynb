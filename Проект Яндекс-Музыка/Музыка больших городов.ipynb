{
 "cells": [
  {
   "cell_type": "markdown",
   "id": "d87c9367",
   "metadata": {},
   "source": [
    "# Яндекс Музыка"
   ]
  },
  {
   "cell_type": "markdown",
   "id": "79c81b7d",
   "metadata": {},
   "source": [
    "**Цель исследования:** \n",
    "На основе данных Яндекс Музыки сравнить поведение пользователей Москвы и Санкт-Петербурга и проверить три гипотезы:\n",
    "* Активность пользователей зависит от дня недели. Причём в Москве и Петербурге это проявляется по-разному.\n",
    "* В понедельник утром в Москве преобладают одни жанры, а в Петербурге — другие. Так же и вечером пятницы преобладают разные жанры — в зависимости от города.\n",
    "* Москва и Петербург предпочитают разные жанры музыки. В Москве чаще слушают поп-музыку, в Петербурге — русский рэп.\n",
    "\n",
    "**Входные данные:** Данные о поведении пользователей из файла yandex_music_project.csv.\n",
    "\n",
    "**Описание данных:**\n",
    "\n",
    "`userID` — идентификатор пользователя; <br/>\n",
    "`Track` — название трека; <br/>\n",
    "`artist` — имя исполнителя; <br/>\n",
    "`genre` — название жанра; <br/>\n",
    "`City` — город пользователя; <br/>\n",
    "`time` — время начала прослушивания; <br/>\n",
    "`Day` — день недели."
   ]
  },
  {
   "cell_type": "markdown",
   "id": "7a02b3cb",
   "metadata": {},
   "source": [
    "<a id=\"enter\"></a>\n",
    "**Содержание:**\n",
    "\n",
    "1. [Обзор данных](#start)\n",
    "2. [Предобработка данных](#preprocessing)\n",
    "    * [2.1 Стиль заголовков](#style)\n",
    "    * [2.2 Пропуски значений](#gap)\n",
    "    * [2.3 Дубликаты](#duplicates)\n",
    "    * [2.4 Промежуточные выводы](#concl1)\n",
    "3. [Проверка гипотез](#research)\n",
    "    * [3.1 Сравнение поведения пользователей двух столиц](#comp)\n",
    "    * [3.2  Музыка в начале и в конце недели](#wday)\n",
    "    * [3.3 Жанровые предпочтения в Москве и Петербурге](#gpref)  \n",
    "4. [Общий вывод](#conclusion)"
   ]
  },
  {
   "cell_type": "code",
   "execution_count": 1,
   "id": "4a4d7156",
   "metadata": {},
   "outputs": [],
   "source": [
    "# импорт библиотеки pandas\n",
    "import pandas as pd"
   ]
  },
  {
   "cell_type": "markdown",
   "id": "044f688c",
   "metadata": {},
   "source": [
    "<a id=\"start\"></a>\n",
    "\n",
    "## Обзор данных"
   ]
  },
  {
   "cell_type": "markdown",
   "id": "77d712d0",
   "metadata": {},
   "source": [
    "Прочтем файл `yandex_music_project.csv` из папки `/datasets` и сохраните его в переменной `df`:"
   ]
  },
  {
   "cell_type": "code",
   "execution_count": 2,
   "id": "3659480d",
   "metadata": {},
   "outputs": [],
   "source": [
    "df=pd.read_csv('/datasets/yandex_music_project.csv')"
   ]
  },
  {
   "cell_type": "markdown",
   "id": "a5784db4",
   "metadata": {},
   "source": [
    "Выведем первые 5 строк и получим общую информацию о таблице."
   ]
  },
  {
   "cell_type": "code",
   "execution_count": 3,
   "id": "c7491766",
   "metadata": {},
   "outputs": [
    {
     "data": {
      "text/html": [
       "<div>\n",
       "<style scoped>\n",
       "    .dataframe tbody tr th:only-of-type {\n",
       "        vertical-align: middle;\n",
       "    }\n",
       "\n",
       "    .dataframe tbody tr th {\n",
       "        vertical-align: top;\n",
       "    }\n",
       "\n",
       "    .dataframe thead th {\n",
       "        text-align: right;\n",
       "    }\n",
       "</style>\n",
       "<table border=\"1\" class=\"dataframe\">\n",
       "  <thead>\n",
       "    <tr style=\"text-align: right;\">\n",
       "      <th></th>\n",
       "      <th>userID</th>\n",
       "      <th>Track</th>\n",
       "      <th>artist</th>\n",
       "      <th>genre</th>\n",
       "      <th>City</th>\n",
       "      <th>time</th>\n",
       "      <th>Day</th>\n",
       "    </tr>\n",
       "  </thead>\n",
       "  <tbody>\n",
       "    <tr>\n",
       "      <th>0</th>\n",
       "      <td>FFB692EC</td>\n",
       "      <td>Kamigata To Boots</td>\n",
       "      <td>The Mass Missile</td>\n",
       "      <td>rock</td>\n",
       "      <td>Saint-Petersburg</td>\n",
       "      <td>20:28:33</td>\n",
       "      <td>Wednesday</td>\n",
       "    </tr>\n",
       "    <tr>\n",
       "      <th>1</th>\n",
       "      <td>55204538</td>\n",
       "      <td>Delayed Because of Accident</td>\n",
       "      <td>Andreas Rönnberg</td>\n",
       "      <td>rock</td>\n",
       "      <td>Moscow</td>\n",
       "      <td>14:07:09</td>\n",
       "      <td>Friday</td>\n",
       "    </tr>\n",
       "    <tr>\n",
       "      <th>2</th>\n",
       "      <td>20EC38</td>\n",
       "      <td>Funiculì funiculà</td>\n",
       "      <td>Mario Lanza</td>\n",
       "      <td>pop</td>\n",
       "      <td>Saint-Petersburg</td>\n",
       "      <td>20:58:07</td>\n",
       "      <td>Wednesday</td>\n",
       "    </tr>\n",
       "    <tr>\n",
       "      <th>3</th>\n",
       "      <td>A3DD03C9</td>\n",
       "      <td>Dragons in the Sunset</td>\n",
       "      <td>Fire + Ice</td>\n",
       "      <td>folk</td>\n",
       "      <td>Saint-Petersburg</td>\n",
       "      <td>08:37:09</td>\n",
       "      <td>Monday</td>\n",
       "    </tr>\n",
       "    <tr>\n",
       "      <th>4</th>\n",
       "      <td>E2DC1FAE</td>\n",
       "      <td>Soul People</td>\n",
       "      <td>Space Echo</td>\n",
       "      <td>dance</td>\n",
       "      <td>Moscow</td>\n",
       "      <td>08:34:34</td>\n",
       "      <td>Monday</td>\n",
       "    </tr>\n",
       "  </tbody>\n",
       "</table>\n",
       "</div>"
      ],
      "text/plain": [
       "     userID                        Track            artist  genre  \\\n",
       "0  FFB692EC            Kamigata To Boots  The Mass Missile   rock   \n",
       "1  55204538  Delayed Because of Accident  Andreas Rönnberg   rock   \n",
       "2    20EC38            Funiculì funiculà       Mario Lanza    pop   \n",
       "3  A3DD03C9        Dragons in the Sunset        Fire + Ice   folk   \n",
       "4  E2DC1FAE                  Soul People        Space Echo  dance   \n",
       "\n",
       "             City        time        Day  \n",
       "0  Saint-Petersburg  20:28:33  Wednesday  \n",
       "1            Moscow  14:07:09     Friday  \n",
       "2  Saint-Petersburg  20:58:07  Wednesday  \n",
       "3  Saint-Petersburg  08:37:09     Monday  \n",
       "4            Moscow  08:34:34     Monday  "
      ]
     },
     "metadata": {},
     "output_type": "display_data"
    },
    {
     "name": "stdout",
     "output_type": "stream",
     "text": [
      "<class 'pandas.core.frame.DataFrame'>\n",
      "RangeIndex: 65079 entries, 0 to 65078\n",
      "Data columns (total 7 columns):\n",
      " #   Column    Non-Null Count  Dtype \n",
      "---  ------    --------------  ----- \n",
      " 0     userID  65079 non-null  object\n",
      " 1   Track     63848 non-null  object\n",
      " 2   artist    57876 non-null  object\n",
      " 3   genre     63881 non-null  object\n",
      " 4     City    65079 non-null  object\n",
      " 5   time      65079 non-null  object\n",
      " 6   Day       65079 non-null  object\n",
      "dtypes: object(7)\n",
      "memory usage: 3.5+ MB\n"
     ]
    }
   ],
   "source": [
    "display(df.head(5))\n",
    "df.info()"
   ]
  },
  {
   "cell_type": "markdown",
   "id": "5d2c6ba9",
   "metadata": {},
   "source": [
    "Итак, в таблице семь столбцов. Тип данных во всех столбцах — `object`.\n",
    "Количество значений в столбцах различается. Значит, в данных есть пропущенные значения."
   ]
  },
  {
   "cell_type": "markdown",
   "id": "89cbc5ca",
   "metadata": {},
   "source": [
    "**Промежуточные выводы**\n",
    "\n",
    "В каждой строке таблицы — данные о прослушанном треке. Часть колонок описывает саму композицию: название, исполнителя и жанр. Остальные данные рассказывают о пользователе: из какого он города, когда он слушал музыку. \n",
    "\n",
    "Предварительно можно утверждать, что данных достаточно для проверки гипотез. Но встречаются пропуски в данных, а в названиях колонок — расхождения с хорошим стилем.\n",
    "\n",
    "Чтобы двигаться дальше, нужно устранить проблемы в данных."
   ]
  },
  {
   "cell_type": "markdown",
   "id": "3bb73053",
   "metadata": {},
   "source": [
    "[К содержанию](#enter)"
   ]
  },
  {
   "cell_type": "markdown",
   "id": "b2991ac8",
   "metadata": {},
   "source": [
    "<a id=\"preprocessing\"></a>\n",
    "\n",
    "## Предобработка данных"
   ]
  },
  {
   "cell_type": "markdown",
   "id": "b3cdb7ec",
   "metadata": {},
   "source": [
    "Исправим стили в заголовках столбцов, исключим пропуски. Затем проверим данные на дубликаты."
   ]
  },
  {
   "cell_type": "markdown",
   "id": "3018fd1b",
   "metadata": {},
   "source": [
    "<a id=\"style\"></a>\n",
    "\n",
    "### Стиль заголовков"
   ]
  },
  {
   "cell_type": "markdown",
   "id": "c20e5ed6",
   "metadata": {},
   "source": [
    "Выведем на экран названия столбцов:"
   ]
  },
  {
   "cell_type": "code",
   "execution_count": 4,
   "id": "860dcdf8",
   "metadata": {},
   "outputs": [
    {
     "name": "stdout",
     "output_type": "stream",
     "text": [
      "Index(['  userID', 'Track', 'artist', 'genre', '  City  ', 'time', 'Day'], dtype='object')\n"
     ]
    }
   ],
   "source": [
    "print(df.columns)"
   ]
  },
  {
   "cell_type": "markdown",
   "id": "a57719ca",
   "metadata": {},
   "source": [
    "Приведем названия в соответствие с хорошим стилем:\n",
    "* несколько слов в названии запишем в «змеином_регистре»,\n",
    "* все символы сделаем строчными,\n",
    "* устраним пробелы."
   ]
  },
  {
   "cell_type": "code",
   "execution_count": 5,
   "id": "7e461ab6",
   "metadata": {},
   "outputs": [],
   "source": [
    "df=df.rename(columns={'  userID':'user_id', 'Track':'track', '  City  ':'city', 'Day':'day'})"
   ]
  },
  {
   "cell_type": "markdown",
   "id": "a73a1cd3",
   "metadata": {},
   "source": [
    "<a id=\"gap\"></a>\n",
    "\n",
    "### Пропуски значений"
   ]
  },
  {
   "cell_type": "markdown",
   "id": "b5f217f3",
   "metadata": {},
   "source": [
    "Посчитаем, сколько в таблице пропущенных значений."
   ]
  },
  {
   "cell_type": "code",
   "execution_count": 6,
   "id": "057f8a20",
   "metadata": {},
   "outputs": [
    {
     "data": {
      "text/plain": [
       "user_id       0\n",
       "track      1231\n",
       "artist     7203\n",
       "genre      1198\n",
       "city          0\n",
       "time          0\n",
       "day           0\n",
       "dtype: int64"
      ]
     },
     "execution_count": 6,
     "metadata": {},
     "output_type": "execute_result"
    }
   ],
   "source": [
    "df.isna().sum()"
   ]
  },
  {
   "cell_type": "markdown",
   "id": "39797f0c",
   "metadata": {},
   "source": [
    "Не все пропущенные значения влияют на исследование. Так в `track` и `artist` пропуски не важны для работы. Достаточно заменить их явными обозначениями.\n",
    "\n",
    "Но пропуски в `genre` могут помешать сравнению музыкальных вкусов в Москве и Санкт-Петербурге. На практике было бы правильно установить причину пропусков и восстановить данные. Такой возможности нет в учебном проекте. Придётся:\n",
    "* заполнить и эти пропуски явными обозначениями;\n",
    "* оценить, насколько они повредят расчётам. "
   ]
  },
  {
   "cell_type": "markdown",
   "id": "dc563a00",
   "metadata": {},
   "source": [
    "Заменим пропущенные значения в столбцах `track`, `artist` и `genre` на строку `'unknown'`. Для этого созддим список `columns_to_replace`, переберем его элементы циклом `for` и для каждого столбца выполним замену пропущенных значений:"
   ]
  },
  {
   "cell_type": "code",
   "execution_count": 7,
   "id": "66e255ab",
   "metadata": {},
   "outputs": [],
   "source": [
    "columns_to_replace=['track', 'artist', 'genre']\n",
    "for column in columns_to_replace:\n",
    "    df[column]=df[column].fillna('unknown')"
   ]
  },
  {
   "cell_type": "markdown",
   "id": "cbfd326c",
   "metadata": {},
   "source": [
    "Убедимся, что в таблице не осталось пропусков. Для этого ещё раз посчитаем пропущенные значения."
   ]
  },
  {
   "cell_type": "code",
   "execution_count": 8,
   "id": "033d6b76",
   "metadata": {},
   "outputs": [
    {
     "data": {
      "text/plain": [
       "user_id    0\n",
       "track      0\n",
       "artist     0\n",
       "genre      0\n",
       "city       0\n",
       "time       0\n",
       "day        0\n",
       "dtype: int64"
      ]
     },
     "execution_count": 8,
     "metadata": {},
     "output_type": "execute_result"
    }
   ],
   "source": [
    "df.isna().sum()"
   ]
  },
  {
   "cell_type": "markdown",
   "id": "aefeffbc",
   "metadata": {},
   "source": [
    "[К содержанию](#enter)"
   ]
  },
  {
   "cell_type": "markdown",
   "id": "2f639203",
   "metadata": {},
   "source": [
    "<a id=\"duplicates\"></a>\n",
    "\n",
    "### Дубликаты"
   ]
  },
  {
   "cell_type": "markdown",
   "id": "cddc1c1e",
   "metadata": {},
   "source": [
    "Посчитайте явные дубликаты в таблице:"
   ]
  },
  {
   "cell_type": "code",
   "execution_count": 9,
   "id": "8b0d843a",
   "metadata": {},
   "outputs": [
    {
     "data": {
      "text/plain": [
       "3826"
      ]
     },
     "execution_count": 9,
     "metadata": {},
     "output_type": "execute_result"
    }
   ],
   "source": [
    "df.duplicated().sum()"
   ]
  },
  {
   "cell_type": "markdown",
   "id": "09f122c4",
   "metadata": {},
   "source": [
    "Удалим явные дубликаты:"
   ]
  },
  {
   "cell_type": "code",
   "execution_count": 10,
   "id": "105956f1",
   "metadata": {},
   "outputs": [],
   "source": [
    "df=df.drop_duplicates()"
   ]
  },
  {
   "cell_type": "markdown",
   "id": "af3d6b47",
   "metadata": {},
   "source": [
    "Ещё раз посчитаем явные дубликаты в таблице чтобы убедиться в их отсутствии:"
   ]
  },
  {
   "cell_type": "code",
   "execution_count": 11,
   "id": "b935ea7e",
   "metadata": {},
   "outputs": [
    {
     "data": {
      "text/plain": [
       "0"
      ]
     },
     "execution_count": 11,
     "metadata": {},
     "output_type": "execute_result"
    }
   ],
   "source": [
    "df.duplicated().sum()"
   ]
  },
  {
   "cell_type": "markdown",
   "id": "21d10113",
   "metadata": {},
   "source": [
    "Теперь избавимся от неявных дубликатов в колонке `genre`. Например, название одного и того же жанра может быть записано немного по-разному. Такие ошибки тоже повлияют на результат исследования."
   ]
  },
  {
   "cell_type": "markdown",
   "id": "42d205e6",
   "metadata": {},
   "source": [
    "Выведем уникальные названия жанров из столбца `genre` отсортированному по алфавиту."
   ]
  },
  {
   "cell_type": "code",
   "execution_count": 12,
   "id": "bf771caf",
   "metadata": {},
   "outputs": [
    {
     "data": {
      "text/plain": [
       "array(['acid', 'acoustic', 'action', 'adult', 'africa', 'afrikaans',\n",
       "       'alternative', 'alternativepunk', 'ambient', 'americana',\n",
       "       'animated', 'anime', 'arabesk', 'arabic', 'arena',\n",
       "       'argentinetango', 'art', 'audiobook', 'author', 'avantgarde',\n",
       "       'axé', 'baile', 'balkan', 'beats', 'bigroom', 'black', 'bluegrass',\n",
       "       'blues', 'bollywood', 'bossa', 'brazilian', 'breakbeat', 'breaks',\n",
       "       'broadway', 'cantautori', 'cantopop', 'canzone', 'caribbean',\n",
       "       'caucasian', 'celtic', 'chamber', 'chanson', 'children', 'chill',\n",
       "       'chinese', 'choral', 'christian', 'christmas', 'classical',\n",
       "       'classicmetal', 'club', 'colombian', 'comedy', 'conjazz',\n",
       "       'contemporary', 'country', 'cuban', 'dance', 'dancehall',\n",
       "       'dancepop', 'dark', 'death', 'deep', 'deutschrock', 'deutschspr',\n",
       "       'dirty', 'disco', 'dnb', 'documentary', 'downbeat', 'downtempo',\n",
       "       'drum', 'dub', 'dubstep', 'eastern', 'easy', 'electronic',\n",
       "       'electropop', 'emo', 'entehno', 'epicmetal', 'estrada', 'ethnic',\n",
       "       'eurofolk', 'european', 'experimental', 'extrememetal', 'fado',\n",
       "       'fairytail', 'film', 'fitness', 'flamenco', 'folk', 'folklore',\n",
       "       'folkmetal', 'folkrock', 'folktronica', 'forró', 'frankreich',\n",
       "       'französisch', 'french', 'funk', 'future', 'gangsta', 'garage',\n",
       "       'german', 'ghazal', 'gitarre', 'glitch', 'gospel', 'gothic',\n",
       "       'grime', 'grunge', 'gypsy', 'handsup', \"hard'n'heavy\", 'hardcore',\n",
       "       'hardstyle', 'hardtechno', 'hip', 'hip-hop', 'hiphop',\n",
       "       'historisch', 'holiday', 'hop', 'horror', 'house', 'hymn', 'idm',\n",
       "       'independent', 'indian', 'indie', 'indipop', 'industrial',\n",
       "       'inspirational', 'instrumental', 'international', 'irish', 'jam',\n",
       "       'japanese', 'jazz', 'jewish', 'jpop', 'jungle', 'k-pop',\n",
       "       'karadeniz', 'karaoke', 'kayokyoku', 'korean', 'laiko', 'latin',\n",
       "       'latino', 'leftfield', 'local', 'lounge', 'loungeelectronic',\n",
       "       'lovers', 'malaysian', 'mandopop', 'marschmusik', 'meditative',\n",
       "       'mediterranean', 'melodic', 'metal', 'metalcore', 'mexican',\n",
       "       'middle', 'minimal', 'miscellaneous', 'modern', 'mood', 'mpb',\n",
       "       'muslim', 'native', 'neoklassik', 'neue', 'new', 'newage',\n",
       "       'newwave', 'nu', 'nujazz', 'numetal', 'oceania', 'old', 'opera',\n",
       "       'orchestral', 'other', 'piano', 'podcasts', 'pop', 'popdance',\n",
       "       'popelectronic', 'popeurodance', 'poprussian', 'post',\n",
       "       'posthardcore', 'postrock', 'power', 'progmetal', 'progressive',\n",
       "       'psychedelic', 'punjabi', 'punk', 'quebecois', 'ragga', 'ram',\n",
       "       'rancheras', 'rap', 'rave', 'reggae', 'reggaeton', 'regional',\n",
       "       'relax', 'religious', 'retro', 'rhythm', 'rnb', 'rnr', 'rock',\n",
       "       'rockabilly', 'rockalternative', 'rockindie', 'rockother',\n",
       "       'romance', 'roots', 'ruspop', 'rusrap', 'rusrock', 'russian',\n",
       "       'salsa', 'samba', 'scenic', 'schlager', 'self', 'sertanejo',\n",
       "       'shanson', 'shoegazing', 'showtunes', 'singer', 'ska', 'skarock',\n",
       "       'slow', 'smooth', 'soft', 'soul', 'soulful', 'sound', 'soundtrack',\n",
       "       'southern', 'specialty', 'speech', 'spiritual', 'sport',\n",
       "       'stonerrock', 'surf', 'swing', 'synthpop', 'synthrock',\n",
       "       'sängerportrait', 'tango', 'tanzorchester', 'taraftar', 'tatar',\n",
       "       'tech', 'techno', 'teen', 'thrash', 'top', 'traditional',\n",
       "       'tradjazz', 'trance', 'tribal', 'trip', 'triphop', 'tropical',\n",
       "       'türk', 'türkçe', 'ukrrock', 'unknown', 'urban', 'uzbek',\n",
       "       'variété', 'vi', 'videogame', 'vocal', 'western', 'world',\n",
       "       'worldbeat', 'ïîï', 'электроника'], dtype=object)"
      ]
     },
     "execution_count": 12,
     "metadata": {},
     "output_type": "execute_result"
    }
   ],
   "source": [
    "df['genre'].sort_values().unique()"
   ]
  },
  {
   "cell_type": "markdown",
   "id": "2b50eb16",
   "metadata": {},
   "source": [
    "Как можно видеть из списка, присутствуют следующие неявные дубликаты:\n",
    "* *hip*,\n",
    "* *hop*,\n",
    "* *hip-hop*.\n",
    "\n",
    "Исправим колонку `genre` в таблице `df` так чтобы вместо `hip`, `hop` и `hip-hop` в таблице должно быть значение `hiphop`:"
   ]
  },
  {
   "cell_type": "code",
   "execution_count": 13,
   "id": "3d1d8c7b",
   "metadata": {},
   "outputs": [],
   "source": [
    "duplicates=['hip', 'hop', 'hip-hop']\n",
    "genre='hiphop'\n",
    "df['genre']=df['genre'].replace(duplicates, genre)"
   ]
  },
  {
   "cell_type": "markdown",
   "id": "079d83ec",
   "metadata": {},
   "source": [
    "Выведем вновь отсортированный список жанров:"
   ]
  },
  {
   "cell_type": "code",
   "execution_count": 14,
   "id": "43f3a0a3",
   "metadata": {
    "scrolled": true
   },
   "outputs": [
    {
     "data": {
      "text/plain": [
       "array(['acid', 'acoustic', 'action', 'adult', 'africa', 'afrikaans',\n",
       "       'alternative', 'alternativepunk', 'ambient', 'americana',\n",
       "       'animated', 'anime', 'arabesk', 'arabic', 'arena',\n",
       "       'argentinetango', 'art', 'audiobook', 'author', 'avantgarde',\n",
       "       'axé', 'baile', 'balkan', 'beats', 'bigroom', 'black', 'bluegrass',\n",
       "       'blues', 'bollywood', 'bossa', 'brazilian', 'breakbeat', 'breaks',\n",
       "       'broadway', 'cantautori', 'cantopop', 'canzone', 'caribbean',\n",
       "       'caucasian', 'celtic', 'chamber', 'chanson', 'children', 'chill',\n",
       "       'chinese', 'choral', 'christian', 'christmas', 'classical',\n",
       "       'classicmetal', 'club', 'colombian', 'comedy', 'conjazz',\n",
       "       'contemporary', 'country', 'cuban', 'dance', 'dancehall',\n",
       "       'dancepop', 'dark', 'death', 'deep', 'deutschrock', 'deutschspr',\n",
       "       'dirty', 'disco', 'dnb', 'documentary', 'downbeat', 'downtempo',\n",
       "       'drum', 'dub', 'dubstep', 'eastern', 'easy', 'electronic',\n",
       "       'electropop', 'emo', 'entehno', 'epicmetal', 'estrada', 'ethnic',\n",
       "       'eurofolk', 'european', 'experimental', 'extrememetal', 'fado',\n",
       "       'fairytail', 'film', 'fitness', 'flamenco', 'folk', 'folklore',\n",
       "       'folkmetal', 'folkrock', 'folktronica', 'forró', 'frankreich',\n",
       "       'französisch', 'french', 'funk', 'future', 'gangsta', 'garage',\n",
       "       'german', 'ghazal', 'gitarre', 'glitch', 'gospel', 'gothic',\n",
       "       'grime', 'grunge', 'gypsy', 'handsup', \"hard'n'heavy\", 'hardcore',\n",
       "       'hardstyle', 'hardtechno', 'hiphop', 'historisch', 'holiday',\n",
       "       'horror', 'house', 'hymn', 'idm', 'independent', 'indian', 'indie',\n",
       "       'indipop', 'industrial', 'inspirational', 'instrumental',\n",
       "       'international', 'irish', 'jam', 'japanese', 'jazz', 'jewish',\n",
       "       'jpop', 'jungle', 'k-pop', 'karadeniz', 'karaoke', 'kayokyoku',\n",
       "       'korean', 'laiko', 'latin', 'latino', 'leftfield', 'local',\n",
       "       'lounge', 'loungeelectronic', 'lovers', 'malaysian', 'mandopop',\n",
       "       'marschmusik', 'meditative', 'mediterranean', 'melodic', 'metal',\n",
       "       'metalcore', 'mexican', 'middle', 'minimal', 'miscellaneous',\n",
       "       'modern', 'mood', 'mpb', 'muslim', 'native', 'neoklassik', 'neue',\n",
       "       'new', 'newage', 'newwave', 'nu', 'nujazz', 'numetal', 'oceania',\n",
       "       'old', 'opera', 'orchestral', 'other', 'piano', 'podcasts', 'pop',\n",
       "       'popdance', 'popelectronic', 'popeurodance', 'poprussian', 'post',\n",
       "       'posthardcore', 'postrock', 'power', 'progmetal', 'progressive',\n",
       "       'psychedelic', 'punjabi', 'punk', 'quebecois', 'ragga', 'ram',\n",
       "       'rancheras', 'rap', 'rave', 'reggae', 'reggaeton', 'regional',\n",
       "       'relax', 'religious', 'retro', 'rhythm', 'rnb', 'rnr', 'rock',\n",
       "       'rockabilly', 'rockalternative', 'rockindie', 'rockother',\n",
       "       'romance', 'roots', 'ruspop', 'rusrap', 'rusrock', 'russian',\n",
       "       'salsa', 'samba', 'scenic', 'schlager', 'self', 'sertanejo',\n",
       "       'shanson', 'shoegazing', 'showtunes', 'singer', 'ska', 'skarock',\n",
       "       'slow', 'smooth', 'soft', 'soul', 'soulful', 'sound', 'soundtrack',\n",
       "       'southern', 'specialty', 'speech', 'spiritual', 'sport',\n",
       "       'stonerrock', 'surf', 'swing', 'synthpop', 'synthrock',\n",
       "       'sängerportrait', 'tango', 'tanzorchester', 'taraftar', 'tatar',\n",
       "       'tech', 'techno', 'teen', 'thrash', 'top', 'traditional',\n",
       "       'tradjazz', 'trance', 'tribal', 'trip', 'triphop', 'tropical',\n",
       "       'türk', 'türkçe', 'ukrrock', 'unknown', 'urban', 'uzbek',\n",
       "       'variété', 'vi', 'videogame', 'vocal', 'western', 'world',\n",
       "       'worldbeat', 'ïîï', 'электроника'], dtype=object)"
      ]
     },
     "execution_count": 14,
     "metadata": {},
     "output_type": "execute_result"
    }
   ],
   "source": [
    "df['genre'].sort_values().unique()"
   ]
  },
  {
   "cell_type": "markdown",
   "id": "16a61505",
   "metadata": {},
   "source": [
    "<a id=\"concl1\"></a>\n",
    "\n",
    "### Промежуточные выводы"
   ]
  },
  {
   "cell_type": "markdown",
   "id": "e4734d78",
   "metadata": {},
   "source": [
    "Предобработка обнаружила три проблемы в данных:\n",
    "\n",
    "- нарушения в стиле заголовков,\n",
    "- пропущенные значения,\n",
    "- дубликаты — явные и неявные.\n",
    "\n",
    "Заголовки исправлены, дубликаты устранены.\n",
    "\n",
    "Пропущенные значения вы заменены `'unknown'`."
   ]
  },
  {
   "cell_type": "markdown",
   "id": "3a41f7bb",
   "metadata": {},
   "source": [
    "[К содержанию](#enter)"
   ]
  },
  {
   "cell_type": "markdown",
   "id": "89a44415",
   "metadata": {},
   "source": [
    "<a id=\"research\"></a>\n",
    "\n",
    "## Проверка гипотез"
   ]
  },
  {
   "cell_type": "markdown",
   "id": "bc3470eb",
   "metadata": {},
   "source": [
    "<a id=\"comp\"></a>\n",
    "\n",
    "### Сравнение поведения пользователей двух столиц"
   ]
  },
  {
   "cell_type": "markdown",
   "id": "62eaace0",
   "metadata": {},
   "source": [
    "Первая гипотеза утверждает, что пользователи по-разному слушают музыку в Москве и Санкт-Петербурге. Проверим это предположение по данным о трёх днях недели — понедельнике, среде и пятнице. Для этого:\n",
    "\n",
    "* Разделим пользователей Москвы и Санкт-Петербурга.\n",
    "* Сравним, сколько треков послушала каждая группа пользователей в понедельник, среду и пятницу.\n"
   ]
  },
  {
   "cell_type": "markdown",
   "id": "32423659",
   "metadata": {},
   "source": [
    "Для начала оценим активность пользователей в каждом городе. Сгруппируем данные по городу и посчитаем прослушивания в каждой группе."
   ]
  },
  {
   "cell_type": "code",
   "execution_count": 15,
   "id": "4cc949f9",
   "metadata": {},
   "outputs": [
    {
     "data": {
      "text/plain": [
       "city\n",
       "Moscow              42741\n",
       "Saint-Petersburg    18512\n",
       "Name: city, dtype: int64"
      ]
     },
     "execution_count": 15,
     "metadata": {},
     "output_type": "execute_result"
    }
   ],
   "source": [
    "df.groupby('city')['city'].count()"
   ]
  },
  {
   "cell_type": "markdown",
   "id": "cea806f1",
   "metadata": {},
   "source": [
    "В Москве прослушиваний больше, чем в Петербурге. Из этого не следует, что московские пользователи чаще слушают музыку. Просто самих пользователей в Москве больше."
   ]
  },
  {
   "cell_type": "markdown",
   "id": "f3ef54dd",
   "metadata": {},
   "source": [
    "Теперь сгруппируем данные по дню недели и посчитаем прослушивания в понедельник, среду и пятницу. Учтем, что в данных есть информация о прослушиваниях только за эти дни."
   ]
  },
  {
   "cell_type": "code",
   "execution_count": 16,
   "id": "b50a6a57",
   "metadata": {},
   "outputs": [
    {
     "data": {
      "text/plain": [
       "day\n",
       "Friday       21840\n",
       "Monday       21354\n",
       "Wednesday    18059\n",
       "Name: day, dtype: int64"
      ]
     },
     "execution_count": 16,
     "metadata": {},
     "output_type": "execute_result"
    }
   ],
   "source": [
    "df.groupby('day')['day'].count()"
   ]
  },
  {
   "cell_type": "markdown",
   "id": "e4be8077",
   "metadata": {},
   "source": [
    "В среднем пользователи из двух городов менее активны по средам. Но картина может измениться, если рассмотреть каждый город в отдельности."
   ]
  },
  {
   "cell_type": "markdown",
   "id": "86592f34",
   "metadata": {},
   "source": [
    "Создадим функцию `number_tracks()`, которая посчитает прослушивания для заданного дня и города. "
   ]
  },
  {
   "cell_type": "code",
   "execution_count": 17,
   "id": "8da19c47",
   "metadata": {},
   "outputs": [],
   "source": [
    "def number_tracks(day,city):\n",
    "    track_list=df[df['day']==day]\n",
    "    track_list=track_list[track_list['city']==city] \n",
    "    track_list_count=track_list['user_id'].count()\n",
    "    return track_list_count"
   ]
  },
  {
   "cell_type": "markdown",
   "id": "8e241d5f",
   "metadata": {},
   "source": [
    "Вызовем фукцию 6 раз для того чтобы узнать число прослушиваний для каждого города и одного из трех дней."
   ]
  },
  {
   "cell_type": "code",
   "execution_count": 18,
   "id": "4cc2838d",
   "metadata": {},
   "outputs": [
    {
     "data": {
      "text/plain": [
       "15740"
      ]
     },
     "execution_count": 18,
     "metadata": {},
     "output_type": "execute_result"
    }
   ],
   "source": [
    "number_tracks('Monday', 'Moscow')"
   ]
  },
  {
   "cell_type": "code",
   "execution_count": 19,
   "id": "b9a485b7",
   "metadata": {},
   "outputs": [
    {
     "data": {
      "text/plain": [
       "5614"
      ]
     },
     "execution_count": 19,
     "metadata": {},
     "output_type": "execute_result"
    }
   ],
   "source": [
    "number_tracks('Monday', 'Saint-Petersburg')"
   ]
  },
  {
   "cell_type": "code",
   "execution_count": 20,
   "id": "180e368f",
   "metadata": {},
   "outputs": [
    {
     "data": {
      "text/plain": [
       "11056"
      ]
     },
     "execution_count": 20,
     "metadata": {},
     "output_type": "execute_result"
    }
   ],
   "source": [
    "number_tracks('Wednesday', 'Moscow')"
   ]
  },
  {
   "cell_type": "code",
   "execution_count": 21,
   "id": "64158f01",
   "metadata": {},
   "outputs": [
    {
     "data": {
      "text/plain": [
       "7003"
      ]
     },
     "execution_count": 21,
     "metadata": {},
     "output_type": "execute_result"
    }
   ],
   "source": [
    "number_tracks('Wednesday', 'Saint-Petersburg')"
   ]
  },
  {
   "cell_type": "code",
   "execution_count": 22,
   "id": "e1b1bb0d",
   "metadata": {},
   "outputs": [
    {
     "data": {
      "text/plain": [
       "15945"
      ]
     },
     "execution_count": 22,
     "metadata": {},
     "output_type": "execute_result"
    }
   ],
   "source": [
    "number_tracks('Friday', 'Moscow')"
   ]
  },
  {
   "cell_type": "code",
   "execution_count": 23,
   "id": "6391548b",
   "metadata": {},
   "outputs": [
    {
     "data": {
      "text/plain": [
       "5895"
      ]
     },
     "execution_count": 23,
     "metadata": {},
     "output_type": "execute_result"
    }
   ],
   "source": [
    "number_tracks('Friday', 'Saint-Petersburg')"
   ]
  },
  {
   "cell_type": "markdown",
   "id": "44299cce",
   "metadata": {},
   "source": [
    "Создадим с помощью конструктора `pd.DataFrame` таблицу, где \n",
    "* названия колонок — `['city', 'monday', 'wednesday', 'friday']`;\n",
    "* данные — результаты, которые вы получили с помощью `number_tracks`."
   ]
  },
  {
   "cell_type": "code",
   "execution_count": 24,
   "id": "e3c402b0",
   "metadata": {},
   "outputs": [
    {
     "name": "stdout",
     "output_type": "stream",
     "text": [
      "               city  monday  wednesday  friday\n",
      "0            Mocsow   15740      11050   15945\n",
      "1  Saint-Petersburg    5614       7003    5895\n"
     ]
    }
   ],
   "source": [
    "columns=['city', 'monday', 'wednesday', 'friday']\n",
    "data=[['Mocsow', 15740, 11050, 15945],['Saint-Petersburg', 5614, 7003, 5895]]\n",
    "number_tracks=pd.DataFrame(data=data, columns=columns)\n",
    "print(number_tracks)"
   ]
  },
  {
   "cell_type": "markdown",
   "id": "60df824c",
   "metadata": {},
   "source": [
    "**Промежуточные выводы:**\n",
    "\n",
    "Данные показывают разницу поведения пользователей:\n",
    "\n",
    "- В Москве пик прослушиваний приходится на понедельник и пятницу, а в среду заметен спад.\n",
    "- В Петербурге, наоборот, больше слушают музыку по средам. Активность в понедельник и пятницу здесь почти в равной мере уступает среде.\n",
    "\n",
    "Значит, данные говорят в пользу первой гипотезы."
   ]
  },
  {
   "cell_type": "markdown",
   "id": "e69e9be5",
   "metadata": {},
   "source": [
    "[К содержанию](#enter)"
   ]
  },
  {
   "cell_type": "markdown",
   "id": "2db46ccb",
   "metadata": {},
   "source": [
    "<a id=\"wday\"></a>\n",
    "\n",
    "### Музыка в начале и в конце недели"
   ]
  },
  {
   "cell_type": "markdown",
   "id": "9471b366",
   "metadata": {},
   "source": [
    "Согласно второй гипотезе, утром в понедельник в Москве преобладают одни жанры, а в Петербурге — другие. Так же и вечером пятницы преобладают разные жанры — в зависимости от города."
   ]
  },
  {
   "cell_type": "markdown",
   "id": "6b62887a",
   "metadata": {},
   "source": [
    "Сохраним таблицы с данными в две переменные:\n",
    "* по Москве — в `moscow_general`;\n",
    "* по Санкт-Петербургу — в `spb_general`."
   ]
  },
  {
   "cell_type": "code",
   "execution_count": 25,
   "id": "fdfb1fd6",
   "metadata": {},
   "outputs": [],
   "source": [
    "moscow_general=df[df['city']=='Moscow']\n",
    "spb_general=df[df['city']=='Saint-Petersburg']"
   ]
  },
  {
   "cell_type": "markdown",
   "id": "b9702a26",
   "metadata": {},
   "source": [
    "Создадим функцию `genre_weekday()` с четырьмя параметрами:\n",
    "* таблица (датафрейм) с данными,\n",
    "* день недели,\n",
    "* начальная временная метка в формате 'hh:mm', \n",
    "* последняя временная метка в формате 'hh:mm'.\n",
    "\n",
    "Функция должна вернуть информацию о топ-10 жанров тех треков, которые прослушивали в указанный день, в промежутке между двумя отметками времени."
   ]
  },
  {
   "cell_type": "code",
   "execution_count": 26,
   "id": "2c223686",
   "metadata": {},
   "outputs": [],
   "source": [
    "def genre_weekday(df, day, time1, time2):# Объявление функции genre_weekday() с параметрами table, day, time1, time2,\n",
    "    genre_df=df[df['day']==day]\n",
    "    genre_df=genre_df[genre_df['time']>time1]\n",
    "    genre_df=genre_df[genre_df['time']<time2] \n",
    "    genre_df_grouped=genre_df.groupby('genre')['genre'].count() # 2) сгруппировать датафрейм genre_df по столбцу genre, взять один из его\n",
    "    genre_df_sorted = genre_df_grouped.sort_values(ascending=False)# 3) отсортировать genre_df_count по убыванию встречаемости и сохранить\n",
    "    return genre_df_sorted[:10]"
   ]
  },
  {
   "cell_type": "markdown",
   "id": "dbbd3cf4",
   "metadata": {},
   "source": [
    "Cравним результаты функции `genre_weekday()` для Москвы и Санкт-Петербурга в понедельник утром (с 7:00 до 11:00) и в пятницу вечером (с 17:00 до 23:00):"
   ]
  },
  {
   "cell_type": "code",
   "execution_count": 27,
   "id": "a5dc2018",
   "metadata": {},
   "outputs": [
    {
     "data": {
      "text/plain": [
       "genre\n",
       "pop            781\n",
       "dance          549\n",
       "electronic     480\n",
       "rock           474\n",
       "hiphop         286\n",
       "ruspop         186\n",
       "world          181\n",
       "rusrap         175\n",
       "alternative    164\n",
       "unknown        161\n",
       "Name: genre, dtype: int64"
      ]
     },
     "execution_count": 27,
     "metadata": {},
     "output_type": "execute_result"
    }
   ],
   "source": [
    "genre_weekday(moscow_general, 'Monday', '07:00', '11:00')"
   ]
  },
  {
   "cell_type": "code",
   "execution_count": 28,
   "id": "b8f26e96",
   "metadata": {},
   "outputs": [
    {
     "data": {
      "text/plain": [
       "genre\n",
       "pop            218\n",
       "dance          182\n",
       "rock           162\n",
       "electronic     147\n",
       "hiphop          80\n",
       "ruspop          64\n",
       "alternative     58\n",
       "rusrap          55\n",
       "jazz            44\n",
       "classical       40\n",
       "Name: genre, dtype: int64"
      ]
     },
     "execution_count": 28,
     "metadata": {},
     "output_type": "execute_result"
    }
   ],
   "source": [
    "genre_weekday(spb_general, 'Monday', '07:00', '11:00')"
   ]
  },
  {
   "cell_type": "code",
   "execution_count": 29,
   "id": "1e22d4dc",
   "metadata": {},
   "outputs": [
    {
     "data": {
      "text/plain": [
       "genre\n",
       "pop            713\n",
       "rock           517\n",
       "dance          495\n",
       "electronic     482\n",
       "hiphop         273\n",
       "world          208\n",
       "ruspop         170\n",
       "alternative    163\n",
       "classical      163\n",
       "rusrap         142\n",
       "Name: genre, dtype: int64"
      ]
     },
     "execution_count": 29,
     "metadata": {},
     "output_type": "execute_result"
    }
   ],
   "source": [
    "genre_weekday(moscow_general, 'Friday', '17:00', '23:00')"
   ]
  },
  {
   "cell_type": "code",
   "execution_count": 30,
   "id": "9a68bd7b",
   "metadata": {},
   "outputs": [
    {
     "data": {
      "text/plain": [
       "genre\n",
       "pop            256\n",
       "electronic     216\n",
       "rock           216\n",
       "dance          210\n",
       "hiphop          97\n",
       "alternative     63\n",
       "jazz            61\n",
       "classical       60\n",
       "rusrap          59\n",
       "world           54\n",
       "Name: genre, dtype: int64"
      ]
     },
     "execution_count": 30,
     "metadata": {},
     "output_type": "execute_result"
    }
   ],
   "source": [
    "genre_weekday(spb_general, 'Friday', '17:00', '23:00')"
   ]
  },
  {
   "cell_type": "markdown",
   "id": "546ea8b7",
   "metadata": {},
   "source": [
    "**Промежуточные выводы:**\n",
    "\n",
    "Если сравнить топ-10 жанров в понедельник утром, можно сделать такие выводы:\n",
    "\n",
    "1. В Москве и Петербурге слушают похожую музыку. Единственное отличие — в московский рейтинг вошёл жанр “world”, а в петербургский — джаз и классика.\n",
    "\n",
    "2. В Москве пропущенных значений оказалось так много, что значение `'unknown'` заняло десятое место среди самых популярных жанров. Значит, пропущенные значения занимают существенную долю в данных и угрожают достоверности исследования.\n",
    "\n",
    "Вечер пятницы не меняет эту картину. Некоторые жанры поднимаются немного выше, другие спускаются, но в целом топ-10 остаётся тем же самым.\n",
    "\n",
    "Таким образом, вторая гипотеза подтвердилась лишь частично:\n",
    "* Пользователи слушают похожую музыку в начале недели и в конце.\n",
    "* Разница между Москвой и Петербургом не слишком выражена. В Москве чаще слушают русскую популярную музыку, в Петербурге — джаз.\n",
    "\n",
    "Однако пропуски в данных ставят под сомнение этот результат. В Москве их так много, что рейтинг топ-10 мог бы выглядеть иначе, если бы не утерянные  данные о жанрах."
   ]
  },
  {
   "cell_type": "markdown",
   "id": "ae34ca33",
   "metadata": {},
   "source": [
    "[К содержанию](#enter)"
   ]
  },
  {
   "cell_type": "markdown",
   "id": "ee47f7d7",
   "metadata": {},
   "source": [
    "<a id=\"gpref\"></a>\n",
    "\n",
    "### Жанровые предпочтения в Москве и Петербурге\n",
    "\n",
    "Гипотеза: Петербург — столица рэпа, музыку этого жанра там слушают чаще, чем в Москве.  А Москва — город контрастов, в котором, тем не менее, преобладает поп-музыка."
   ]
  },
  {
   "cell_type": "markdown",
   "id": "eafb7d55",
   "metadata": {},
   "source": [
    "Сгруппируем таблицу `moscow_general` по жанру и посчитаем прослушивания треков каждого жанра методом `count()`. Затем отсортируем результат в порядке убывания и сохраним его в таблице `moscow_genres`."
   ]
  },
  {
   "cell_type": "code",
   "execution_count": 31,
   "id": "8f4ef185",
   "metadata": {},
   "outputs": [
    {
     "name": "stdout",
     "output_type": "stream",
     "text": [
      "genre\n",
      "pop            5892\n",
      "dance          4435\n",
      "rock           3965\n",
      "electronic     3786\n",
      "hiphop         2096\n",
      "classical      1616\n",
      "world          1432\n",
      "alternative    1379\n",
      "ruspop         1372\n",
      "rusrap         1161\n",
      "Name: genre, dtype: int64\n"
     ]
    }
   ],
   "source": [
    "moscow_general_gruoped=moscow_general.groupby('genre')['genre'].count()\n",
    "moscow_genres=moscow_general_gruoped.sort_values(ascending=False)\n",
    "print(moscow_genres.head(10))"
   ]
  },
  {
   "cell_type": "markdown",
   "id": "0ecb2d79",
   "metadata": {},
   "source": [
    "Теперь повторим то же и для Петербурга.\n",
    "\n",
    "Сгруппируем таблицу `spb_general` по жанру. Посчитаем прослушивания треков каждого жанра. Результат отсортируем в порядке убывания и сохраните в таблице `spb_genres`:"
   ]
  },
  {
   "cell_type": "code",
   "execution_count": 32,
   "id": "f855b66a",
   "metadata": {},
   "outputs": [
    {
     "name": "stdout",
     "output_type": "stream",
     "text": [
      "genre\n",
      "pop            2431\n",
      "dance          1932\n",
      "rock           1879\n",
      "electronic     1736\n",
      "hiphop          960\n",
      "alternative     649\n",
      "classical       646\n",
      "rusrap          564\n",
      "ruspop          538\n",
      "world           515\n",
      "Name: genre, dtype: int64\n"
     ]
    }
   ],
   "source": [
    "spb_general_gruoped=spb_general.groupby('genre')['genre'].count()\n",
    "spb_genres=spb_general_gruoped.sort_values(ascending=False)\n",
    "print(spb_genres.head(10))"
   ]
  },
  {
   "cell_type": "markdown",
   "id": "82d4fe14",
   "metadata": {},
   "source": [
    "**Промежуточные выводы:**\n",
    "\n",
    "Гипотеза частично подтвердилась:\n",
    "* Поп-музыка — самый популярный жанр в Москве, как и предполагала гипотеза. Более того, в топ-10 жанров встречается близкий жанр — русская популярная музыка.\n",
    "* Вопреки ожиданиям, рэп одинаково популярен в Москве и Петербурге. "
   ]
  },
  {
   "cell_type": "markdown",
   "id": "866edab7",
   "metadata": {},
   "source": [
    "<a id=\"conclusion\"></a>\n",
    "\n",
    "## Общий вывод"
   ]
  },
  {
   "cell_type": "markdown",
   "id": "d3e1a7d0",
   "metadata": {},
   "source": [
    "Проверены три гипотезы и установлено:\n",
    "\n",
    "1. День недели по-разному влияет на активность пользователей в Москве и Петербурге. \n",
    "\n",
    "Первая гипотеза полностью подтвердилась.\n",
    "\n",
    "2. Музыкальные предпочтения не сильно меняются в течение недели — будь то Москва или Петербург. Небольшие различия заметны в начале недели, по понедельникам:\n",
    "* в Москве слушают музыку жанра “world”,\n",
    "* в Петербурге — джаз и классику.\n",
    "\n",
    "Таким образом, вторая гипотеза подтвердилась лишь отчасти. Этот результат мог оказаться иным, если бы не пропуски в данных.\n",
    "\n",
    "3. Во вкусах пользователей Москвы и Петербурга больше общего чем различий. Вопреки ожиданиям, предпочтения жанров в Петербурге напоминают московские.\n",
    "\n",
    "Третья гипотеза не подтвердилась. Если различия в предпочтениях и существуют, на основной массе пользователей они незаметны."
   ]
  },
  {
   "cell_type": "markdown",
   "id": "6c0ed6ee",
   "metadata": {},
   "source": [
    "[К содержанию](#enter)"
   ]
  }
 ],
 "metadata": {
  "ExecuteTimeLog": [
   {
    "duration": 446,
    "start_time": "2023-07-27T15:25:42.633Z"
   },
   {
    "duration": 414,
    "start_time": "2023-07-27T15:30:06.769Z"
   },
   {
    "duration": 115,
    "start_time": "2023-07-27T15:30:07.185Z"
   },
   {
    "duration": 0,
    "start_time": "2023-07-27T15:30:07.301Z"
   },
   {
    "duration": 977,
    "start_time": "2023-07-27T15:30:27.528Z"
   },
   {
    "duration": 20,
    "start_time": "2023-07-27T15:30:32.594Z"
   },
   {
    "duration": 57,
    "start_time": "2023-07-27T15:30:57.974Z"
   },
   {
    "duration": 424,
    "start_time": "2023-07-27T16:15:39.763Z"
   },
   {
    "duration": 184,
    "start_time": "2023-07-27T16:15:40.189Z"
   },
   {
    "duration": 44,
    "start_time": "2023-07-27T16:15:40.376Z"
   },
   {
    "duration": 4,
    "start_time": "2023-07-27T16:15:40.421Z"
   },
   {
    "duration": 38,
    "start_time": "2023-07-27T16:15:40.427Z"
   },
   {
    "duration": 28,
    "start_time": "2023-07-27T16:15:40.467Z"
   },
   {
    "duration": 16,
    "start_time": "2023-07-27T16:15:40.497Z"
   },
   {
    "duration": 45,
    "start_time": "2023-07-27T16:15:40.515Z"
   },
   {
    "duration": 77,
    "start_time": "2023-07-27T16:15:40.562Z"
   },
   {
    "duration": 76,
    "start_time": "2023-07-27T16:15:40.658Z"
   },
   {
    "duration": 396,
    "start_time": "2023-07-28T08:56:53.748Z"
   },
   {
    "duration": 245,
    "start_time": "2023-07-28T08:56:54.146Z"
   },
   {
    "duration": 47,
    "start_time": "2023-07-28T08:56:54.393Z"
   },
   {
    "duration": 3,
    "start_time": "2023-07-28T08:56:54.442Z"
   },
   {
    "duration": 14,
    "start_time": "2023-07-28T08:56:54.447Z"
   },
   {
    "duration": 47,
    "start_time": "2023-07-28T08:56:54.463Z"
   },
   {
    "duration": 24,
    "start_time": "2023-07-28T08:56:54.511Z"
   },
   {
    "duration": 28,
    "start_time": "2023-07-28T08:56:54.537Z"
   },
   {
    "duration": 73,
    "start_time": "2023-07-28T08:56:54.588Z"
   },
   {
    "duration": 92,
    "start_time": "2023-07-28T08:56:54.663Z"
   },
   {
    "duration": 79,
    "start_time": "2023-07-28T08:56:54.757Z"
   },
   {
    "duration": 66,
    "start_time": "2023-07-28T08:57:02.514Z"
   },
   {
    "duration": 78,
    "start_time": "2023-07-28T08:57:20.976Z"
   },
   {
    "duration": 66,
    "start_time": "2023-07-28T08:57:23.145Z"
   },
   {
    "duration": 42,
    "start_time": "2023-07-28T09:00:06.275Z"
   },
   {
    "duration": 13,
    "start_time": "2023-07-28T09:11:35.407Z"
   },
   {
    "duration": 57,
    "start_time": "2023-07-28T09:14:05.946Z"
   },
   {
    "duration": 12,
    "start_time": "2023-07-28T09:21:28.267Z"
   },
   {
    "duration": 12,
    "start_time": "2023-07-28T09:26:16.518Z"
   },
   {
    "duration": 3,
    "start_time": "2023-07-28T09:32:51.717Z"
   },
   {
    "duration": 18,
    "start_time": "2023-07-28T09:36:09.692Z"
   },
   {
    "duration": 24,
    "start_time": "2023-07-28T09:36:10.294Z"
   },
   {
    "duration": 16,
    "start_time": "2023-07-28T09:36:10.867Z"
   },
   {
    "duration": 15,
    "start_time": "2023-07-28T09:36:11.527Z"
   },
   {
    "duration": 18,
    "start_time": "2023-07-28T09:36:12.196Z"
   },
   {
    "duration": 20,
    "start_time": "2023-07-28T09:36:14.869Z"
   },
   {
    "duration": 7,
    "start_time": "2023-07-28T09:38:17.107Z"
   },
   {
    "duration": 25,
    "start_time": "2023-07-28T10:07:36.387Z"
   },
   {
    "duration": 20,
    "start_time": "2023-07-28T10:08:23.606Z"
   },
   {
    "duration": 5,
    "start_time": "2023-07-28T10:08:24.766Z"
   },
   {
    "duration": 23,
    "start_time": "2023-07-28T10:09:26.821Z"
   },
   {
    "duration": 14,
    "start_time": "2023-07-28T10:09:36.373Z"
   },
   {
    "duration": 17,
    "start_time": "2023-07-28T10:09:47.753Z"
   },
   {
    "duration": 13,
    "start_time": "2023-07-28T10:09:57.865Z"
   },
   {
    "duration": 13,
    "start_time": "2023-07-28T10:14:53.567Z"
   },
   {
    "duration": 10,
    "start_time": "2023-07-28T10:15:49.346Z"
   },
   {
    "duration": 6,
    "start_time": "2023-07-28T10:17:03.701Z"
   },
   {
    "duration": 9,
    "start_time": "2023-07-28T10:17:17.843Z"
   },
   {
    "duration": 439,
    "start_time": "2023-07-28T10:20:20.216Z"
   },
   {
    "duration": 182,
    "start_time": "2023-07-28T10:20:20.657Z"
   },
   {
    "duration": 52,
    "start_time": "2023-07-28T10:20:20.840Z"
   },
   {
    "duration": 3,
    "start_time": "2023-07-28T10:20:20.894Z"
   },
   {
    "duration": 21,
    "start_time": "2023-07-28T10:20:20.899Z"
   },
   {
    "duration": 41,
    "start_time": "2023-07-28T10:20:20.922Z"
   },
   {
    "duration": 29,
    "start_time": "2023-07-28T10:20:20.965Z"
   },
   {
    "duration": 55,
    "start_time": "2023-07-28T10:20:20.996Z"
   },
   {
    "duration": 74,
    "start_time": "2023-07-28T10:20:21.053Z"
   },
   {
    "duration": 81,
    "start_time": "2023-07-28T10:20:21.128Z"
   },
   {
    "duration": 77,
    "start_time": "2023-07-28T10:20:21.211Z"
   },
   {
    "duration": 43,
    "start_time": "2023-07-28T10:20:21.290Z"
   },
   {
    "duration": 12,
    "start_time": "2023-07-28T10:20:21.335Z"
   },
   {
    "duration": 68,
    "start_time": "2023-07-28T10:20:21.351Z"
   },
   {
    "duration": 11,
    "start_time": "2023-07-28T10:20:21.421Z"
   },
   {
    "duration": 37,
    "start_time": "2023-07-28T10:20:21.434Z"
   },
   {
    "duration": 7,
    "start_time": "2023-07-28T10:20:21.473Z"
   },
   {
    "duration": 29,
    "start_time": "2023-07-28T10:20:21.481Z"
   },
   {
    "duration": 14,
    "start_time": "2023-07-28T10:20:21.512Z"
   },
   {
    "duration": 14,
    "start_time": "2023-07-28T10:20:21.528Z"
   },
   {
    "duration": 20,
    "start_time": "2023-07-28T10:20:21.544Z"
   },
   {
    "duration": 34,
    "start_time": "2023-07-28T10:20:21.566Z"
   },
   {
    "duration": 42,
    "start_time": "2023-07-28T10:20:21.602Z"
   },
   {
    "duration": 14,
    "start_time": "2023-07-28T10:20:21.646Z"
   },
   {
    "duration": 42,
    "start_time": "2023-07-28T10:20:21.662Z"
   },
   {
    "duration": 5,
    "start_time": "2023-07-28T10:20:21.707Z"
   },
   {
    "duration": 36,
    "start_time": "2023-07-28T10:20:21.714Z"
   },
   {
    "duration": 14,
    "start_time": "2023-07-28T10:20:21.752Z"
   },
   {
    "duration": 28,
    "start_time": "2023-07-28T10:20:21.768Z"
   },
   {
    "duration": 12,
    "start_time": "2023-07-28T10:20:21.798Z"
   },
   {
    "duration": 11,
    "start_time": "2023-07-28T10:20:21.812Z"
   },
   {
    "duration": 11,
    "start_time": "2023-07-28T10:20:21.825Z"
   },
   {
    "duration": 440,
    "start_time": "2023-07-28T10:41:37.989Z"
   },
   {
    "duration": 173,
    "start_time": "2023-07-28T10:41:38.431Z"
   },
   {
    "duration": 51,
    "start_time": "2023-07-28T10:41:38.606Z"
   },
   {
    "duration": 3,
    "start_time": "2023-07-28T10:41:38.660Z"
   },
   {
    "duration": 17,
    "start_time": "2023-07-28T10:41:38.687Z"
   },
   {
    "duration": 37,
    "start_time": "2023-07-28T10:41:38.706Z"
   },
   {
    "duration": 37,
    "start_time": "2023-07-28T10:41:38.745Z"
   },
   {
    "duration": 26,
    "start_time": "2023-07-28T10:41:38.783Z"
   },
   {
    "duration": 64,
    "start_time": "2023-07-28T10:41:38.811Z"
   },
   {
    "duration": 71,
    "start_time": "2023-07-28T10:41:38.876Z"
   },
   {
    "duration": 62,
    "start_time": "2023-07-28T10:41:38.949Z"
   },
   {
    "duration": 41,
    "start_time": "2023-07-28T10:41:39.013Z"
   },
   {
    "duration": 12,
    "start_time": "2023-07-28T10:41:39.055Z"
   },
   {
    "duration": 47,
    "start_time": "2023-07-28T10:41:39.070Z"
   },
   {
    "duration": 11,
    "start_time": "2023-07-28T10:41:39.118Z"
   },
   {
    "duration": 23,
    "start_time": "2023-07-28T10:41:39.131Z"
   },
   {
    "duration": 3,
    "start_time": "2023-07-28T10:41:39.156Z"
   },
   {
    "duration": 24,
    "start_time": "2023-07-28T10:41:39.160Z"
   },
   {
    "duration": 15,
    "start_time": "2023-07-28T10:41:39.186Z"
   },
   {
    "duration": 14,
    "start_time": "2023-07-28T10:41:39.203Z"
   },
   {
    "duration": 14,
    "start_time": "2023-07-28T10:41:39.218Z"
   },
   {
    "duration": 59,
    "start_time": "2023-07-28T10:41:39.234Z"
   },
   {
    "duration": 17,
    "start_time": "2023-07-28T10:41:39.295Z"
   },
   {
    "duration": 6,
    "start_time": "2023-07-28T10:41:39.314Z"
   },
   {
    "duration": 19,
    "start_time": "2023-07-28T10:41:39.322Z"
   },
   {
    "duration": 4,
    "start_time": "2023-07-28T10:41:39.343Z"
   },
   {
    "duration": 27,
    "start_time": "2023-07-28T10:41:39.349Z"
   },
   {
    "duration": 22,
    "start_time": "2023-07-28T10:41:39.377Z"
   },
   {
    "duration": 17,
    "start_time": "2023-07-28T10:41:39.400Z"
   },
   {
    "duration": 12,
    "start_time": "2023-07-28T10:41:39.419Z"
   },
   {
    "duration": 8,
    "start_time": "2023-07-28T10:41:39.432Z"
   },
   {
    "duration": 6,
    "start_time": "2023-07-28T10:41:39.442Z"
   }
  ],
  "kernelspec": {
   "display_name": "Python 3 (ipykernel)",
   "language": "python",
   "name": "python3"
  },
  "language_info": {
   "codemirror_mode": {
    "name": "ipython",
    "version": 3
   },
   "file_extension": ".py",
   "mimetype": "text/x-python",
   "name": "python",
   "nbconvert_exporter": "python",
   "pygments_lexer": "ipython3",
   "version": "3.9.5"
  },
  "toc": {
   "base_numbering": 1,
   "nav_menu": {},
   "number_sections": true,
   "sideBar": true,
   "skip_h1_title": true,
   "title_cell": "Table of Contents",
   "title_sidebar": "Contents",
   "toc_cell": false,
   "toc_position": {},
   "toc_section_display": true,
   "toc_window_display": false
  }
 },
 "nbformat": 4,
 "nbformat_minor": 5
}
