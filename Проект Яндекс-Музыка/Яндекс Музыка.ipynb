{
 "cells": [
  {
   "cell_type": "markdown",
   "metadata": {
    "deletable": false,
    "editable": false,
    "id": "E0vqbgi9ay0H"
   },
   "source": [
    "# Яндекс Музыка"
   ]
  },
  {
   "cell_type": "markdown",
   "metadata": {
    "deletable": false,
    "editable": false,
    "id": "VUC88oWjTJw2"
   },
   "source": [
    "Сравнение Москвы и Петербурга окружено мифами. Например:\n",
    " * Москва — мегаполис, подчинённый жёсткому ритму рабочей недели;\n",
    " * Петербург — культурная столица, со своими вкусами.\n",
    "\n",
    "На данных Яндекс Музыки вы сравните поведение пользователей двух столиц.\n",
    "\n",
    "**Цель исследования** — проверьте три гипотезы:\n",
    "1. Активность пользователей зависит от дня недели. Причём в Москве и Петербурге это проявляется по-разному.\n",
    "2. В понедельник утром в Москве преобладают одни жанры, а в Петербурге — другие. Так же и вечером пятницы преобладают разные жанры — в зависимости от города. \n",
    "3. Москва и Петербург предпочитают разные жанры музыки. В Москве чаще слушают поп-музыку, в Петербурге — русский рэп.\n",
    "\n",
    "**Ход исследования**\n",
    "\n",
    "Данные о поведении пользователей вы получите из файла `yandex_music_project.csv`. О качестве данных ничего не известно. Поэтому перед проверкой гипотез понадобится обзор данных. \n",
    "\n",
    "Вы проверите данные на ошибки и оцените их влияние на исследование. Затем, на этапе предобработки вы поищете возможность исправить самые критичные ошибки данных.\n",
    " \n",
    "Таким образом, исследование пройдёт в три этапа:\n",
    " 1. Обзор данных.\n",
    " 2. Предобработка данных.\n",
    " 3. Проверка гипотез.\n",
    "\n"
   ]
  },
  {
   "cell_type": "markdown",
   "metadata": {
    "deletable": false,
    "editable": false,
    "id": "Ml1hmfXC_Zcs"
   },
   "source": [
    "## Обзор данных\n",
    "\n",
    "Составьте первое представление о данных Яндекс Музыки.\n",
    "\n",
    "\n"
   ]
  },
  {
   "cell_type": "markdown",
   "metadata": {
    "deletable": false,
    "editable": false,
    "id": "57eAOGIz_Zcs",
    "tags": [
     "start_task"
    ]
   },
   "source": [
    "**Задание 1**\n",
    "\n",
    "Основной инструмент аналитика — `pandas`. Импортируйте эту библиотеку."
   ]
  },
  {
   "cell_type": "code",
   "execution_count": 197,
   "metadata": {
    "deletable": false,
    "id": "AXN7PHPN_Zcs"
   },
   "outputs": [],
   "source": [
    "import pandas as pd# импорт библиотеки pandas"
   ]
  },
  {
   "cell_type": "markdown",
   "metadata": {
    "deletable": false,
    "editable": false,
    "id": "SG23P8tt_Zcs",
    "tags": [
     "start_task"
    ]
   },
   "source": [
    "**Задание 2**\n",
    "\n",
    "Прочитайте файл `yandex_music_project.csv` из папки `/datasets` и сохраните его в переменной `df`:"
   ]
  },
  {
   "cell_type": "code",
   "execution_count": 198,
   "metadata": {
    "deletable": false,
    "id": "fFVu7vqh_Zct"
   },
   "outputs": [],
   "source": [
    "df=pd.read_csv('/datasets/yandex_music_project.csv')# чтение файла с данными и сохранение в df"
   ]
  },
  {
   "cell_type": "markdown",
   "metadata": {
    "deletable": false,
    "editable": false,
    "id": "rDoOMd3uTqnZ",
    "tags": [
     "start_task"
    ]
   },
   "source": [
    "**Задание 3**\n",
    "\n",
    "\n",
    "Выведите на экран первые десять строк таблицы:"
   ]
  },
  {
   "cell_type": "code",
   "execution_count": 199,
   "metadata": {
    "deletable": false,
    "id": "oWTVX3gW_Zct"
   },
   "outputs": [
    {
     "name": "stdout",
     "output_type": "stream",
     "text": [
      "     userID                        Track            artist   genre  \\\n",
      "0  FFB692EC            Kamigata To Boots  The Mass Missile    rock   \n",
      "1  55204538  Delayed Because of Accident  Andreas Rönnberg    rock   \n",
      "2    20EC38            Funiculì funiculà       Mario Lanza     pop   \n",
      "3  A3DD03C9        Dragons in the Sunset        Fire + Ice    folk   \n",
      "4  E2DC1FAE                  Soul People        Space Echo   dance   \n",
      "5  842029A1                    Преданная         IMPERVTOR  rusrap   \n",
      "6  4CB90AA5                         True      Roman Messer   dance   \n",
      "7  F03E1C1F             Feeling This Way   Polina Griffith   dance   \n",
      "8  8FA1D3BE     И вновь продолжается бой               NaN  ruspop   \n",
      "9  E772D5C0                    Pessimist               NaN   dance   \n",
      "\n",
      "             City        time        Day  \n",
      "0  Saint-Petersburg  20:28:33  Wednesday  \n",
      "1            Moscow  14:07:09     Friday  \n",
      "2  Saint-Petersburg  20:58:07  Wednesday  \n",
      "3  Saint-Petersburg  08:37:09     Monday  \n",
      "4            Moscow  08:34:34     Monday  \n",
      "5  Saint-Petersburg  13:09:41     Friday  \n",
      "6            Moscow  13:00:07  Wednesday  \n",
      "7            Moscow  20:47:49  Wednesday  \n",
      "8            Moscow  09:17:40     Friday  \n",
      "9  Saint-Petersburg  21:20:49  Wednesday  \n"
     ]
    }
   ],
   "source": [
    "print(df[:10].head(10))# получение первых 10 строк таблицы df"
   ]
  },
  {
   "cell_type": "markdown",
   "metadata": {
    "deletable": false,
    "editable": false,
    "id": "EO73Kwic_Zct",
    "tags": [
     "start_task"
    ]
   },
   "source": [
    "**Задание 4**\n",
    "\n",
    "\n",
    "Одной командой получить общую информацию о таблице c помощью метода `info()`:"
   ]
  },
  {
   "cell_type": "code",
   "execution_count": 200,
   "metadata": {
    "deletable": false,
    "id": "DSf2kIb-_Zct"
   },
   "outputs": [
    {
     "name": "stdout",
     "output_type": "stream",
     "text": [
      "<class 'pandas.core.frame.DataFrame'>\n",
      "RangeIndex: 65079 entries, 0 to 65078\n",
      "Data columns (total 7 columns):\n",
      " #   Column    Non-Null Count  Dtype \n",
      "---  ------    --------------  ----- \n",
      " 0     userID  65079 non-null  object\n",
      " 1   Track     63848 non-null  object\n",
      " 2   artist    57876 non-null  object\n",
      " 3   genre     63881 non-null  object\n",
      " 4     City    65079 non-null  object\n",
      " 5   time      65079 non-null  object\n",
      " 6   Day       65079 non-null  object\n",
      "dtypes: object(7)\n",
      "memory usage: 3.5+ MB\n"
     ]
    }
   ],
   "source": [
    "df.info()# получение общей информации о данных в таблице df"
   ]
  },
  {
   "cell_type": "markdown",
   "metadata": {
    "deletable": false,
    "editable": false,
    "id": "TaQ2Iwbr_Zct"
   },
   "source": [
    "Итак, в таблице семь столбцов. Тип данных во всех столбцах — `object`.\n",
    "\n",
    "Согласно документации к данным:\n",
    "* `userID` — идентификатор пользователя;\n",
    "* `Track` — название трека;  \n",
    "* `artist` — имя исполнителя;\n",
    "* `genre` — название жанра;\n",
    "* `City` — город пользователя;\n",
    "* `time` — время начала прослушивания;\n",
    "* `Day` — день недели.\n",
    "\n",
    "Количество значений в столбцах различается. Значит, в данных есть пропущенные значения."
   ]
  },
  {
   "cell_type": "markdown",
   "metadata": {
    "deletable": false,
    "editable": false,
    "id": "rAfziTBDmf2h",
    "tags": [
     "start_task"
    ]
   },
   "source": [
    "**Задание 5**\n",
    "\n",
    "**Вопрос со свободной формой ответа**\n",
    "\n",
    "В названиях колонок видны нарушения стиля:\n",
    "* Строчные буквы сочетаются с прописными.\n",
    "* Встречаются пробелы.\n",
    "\n",
    "Какое третье нарушение?"
   ]
  },
  {
   "cell_type": "code",
   "execution_count": 201,
   "metadata": {
    "id": "jD8EXEIvmf2h"
   },
   "outputs": [],
   "source": [
    "#не соблюдается змеиный регистр в userID# Напишите ваш ответ здесь комментарием. Не удаляйте символ #. Не меняйте тип этой ячейки на Markdown."
   ]
  },
  {
   "cell_type": "markdown",
   "metadata": {
    "deletable": false,
    "editable": false,
    "id": "MCB6-dXG_Zct"
   },
   "source": [
    "**Выводы**\n",
    "\n",
    "В каждой строке таблицы — данные о прослушанном треке. Часть колонок описывает саму композицию: название, исполнителя и жанр. Остальные данные рассказывают о пользователе: из какого он города, когда он слушал музыку. \n",
    "\n",
    "Предварительно можно утверждать, что данных достаточно для проверки гипотез. Но встречаются пропуски в данных, а в названиях колонок — расхождения с хорошим стилем.\n",
    "\n",
    "Чтобы двигаться дальше, нужно устранить проблемы в данных."
   ]
  },
  {
   "cell_type": "markdown",
   "metadata": {
    "deletable": false,
    "editable": false,
    "id": "SjYF6Ub9_Zct"
   },
   "source": [
    "## Предобработка данных\n",
    "Исправьте стиль в заголовках столбцов, исключите пропуски. Затем проверьте данные на дубликаты."
   ]
  },
  {
   "cell_type": "markdown",
   "metadata": {
    "deletable": false,
    "editable": false,
    "id": "dIaKXr29_Zct",
    "tags": [
     "start_task"
    ]
   },
   "source": [
    "### Стиль заголовков\n",
    "\n",
    "**Задание 6**\n",
    "\n",
    "Выведите на экран названия столбцов:"
   ]
  },
  {
   "cell_type": "code",
   "execution_count": 202,
   "metadata": {
    "deletable": false,
    "id": "oKOTdF_Q_Zct"
   },
   "outputs": [
    {
     "name": "stdout",
     "output_type": "stream",
     "text": [
      "Index(['  userID', 'Track', 'artist', 'genre', '  City  ', 'time', 'Day'], dtype='object')\n"
     ]
    }
   ],
   "source": [
    "print(df.columns)# перечень названий столбцов таблицы df"
   ]
  },
  {
   "cell_type": "markdown",
   "metadata": {
    "deletable": false,
    "editable": false,
    "id": "zj5534cv_Zct",
    "tags": [
     "start_task"
    ]
   },
   "source": [
    "**Задание 7**\n",
    "\n",
    "\n",
    "Приведите названия в соответствие с хорошим стилем:\n",
    "* несколько слов в названии запишите в «змеином_регистре»,\n",
    "* все символы сделайте строчными,\n",
    "* устраните пробелы.\n",
    "\n",
    "Для этого переименуйте колонки так:\n",
    "* `'  userID'` → `'user_id'`;\n",
    "* `'Track'` → `'track'`;\n",
    "* `'  City  '` → `'city'`;\n",
    "* `'Day'` → `'day'`."
   ]
  },
  {
   "cell_type": "code",
   "execution_count": 203,
   "metadata": {
    "deletable": false,
    "id": "ISlFqs5y_Zct"
   },
   "outputs": [],
   "source": [
    "df=df.rename(columns={'  userID':'user_id', 'Track':'track', '  City  ':'city', 'Day':'day'})# переименование столбцов"
   ]
  },
  {
   "cell_type": "markdown",
   "metadata": {
    "deletable": false,
    "editable": false,
    "id": "1dqbh00J_Zct",
    "tags": [
     "start_task"
    ]
   },
   "source": [
    "**Задание 8**\n",
    "\n",
    "\n",
    "Проверьте результат. Для этого ещё раз выведите на экран названия столбцов:"
   ]
  },
  {
   "cell_type": "code",
   "execution_count": 204,
   "metadata": {
    "deletable": false,
    "id": "d4NOAmTW_Zct"
   },
   "outputs": [
    {
     "name": "stdout",
     "output_type": "stream",
     "text": [
      "Index(['user_id', 'track', 'artist', 'genre', 'city', 'time', 'day'], dtype='object')\n"
     ]
    }
   ],
   "source": [
    "print(df.columns)# проверка результатов - перечень названий столбцов"
   ]
  },
  {
   "cell_type": "markdown",
   "metadata": {
    "deletable": false,
    "editable": false,
    "id": "5ISfbcfY_Zct",
    "tags": [
     "start_task"
    ]
   },
   "source": [
    "### Пропуски значений\n",
    "\n",
    "**Задание 9**\n",
    "\n",
    "Сначала посчитайте, сколько в таблице пропущенных значений. Для этого достаточно двух методов `pandas`:"
   ]
  },
  {
   "cell_type": "code",
   "execution_count": 205,
   "metadata": {
    "deletable": false,
    "id": "RskX29qr_Zct"
   },
   "outputs": [
    {
     "data": {
      "text/plain": [
       "user_id       0\n",
       "track      1231\n",
       "artist     7203\n",
       "genre      1198\n",
       "city          0\n",
       "time          0\n",
       "day           0\n",
       "dtype: int64"
      ]
     },
     "execution_count": 205,
     "metadata": {},
     "output_type": "execute_result"
    }
   ],
   "source": [
    "df.isna().sum()# подсчёт пропусков"
   ]
  },
  {
   "cell_type": "markdown",
   "metadata": {
    "deletable": false,
    "editable": false,
    "id": "qubhgnlO_Zct"
   },
   "source": [
    "Не все пропущенные значения влияют на исследование. Так в `track` и `artist` пропуски не важны для вашей работы. Достаточно заменить их явными обозначениями.\n",
    "\n",
    "Но пропуски в `genre` могут помешать сравнению музыкальных вкусов в Москве и Санкт-Петербурге. На практике было бы правильно установить причину пропусков и восстановить данные. Такой возможности нет в учебном проекте. Придётся:\n",
    "* заполнить и эти пропуски явными обозначениями;\n",
    "* оценить, насколько они повредят расчётам. "
   ]
  },
  {
   "cell_type": "markdown",
   "metadata": {
    "deletable": false,
    "editable": false,
    "id": "fSv2laPA_Zct",
    "tags": [
     "start_task"
    ]
   },
   "source": [
    "**Задание 10**\n",
    "\n",
    "Замените пропущенные значения в столбцах `track`, `artist` и `genre` на строку `'unknown'`. Для этого создайте список `columns_to_replace`, переберите его элементы циклом `for` и для каждого столбца выполните замену пропущенных значений:"
   ]
  },
  {
   "cell_type": "code",
   "execution_count": 206,
   "metadata": {
    "deletable": false,
    "id": "KplB5qWs_Zct"
   },
   "outputs": [],
   "source": [
    "columns_to_replace=['track', 'artist', 'genre']\n",
    "for column in columns_to_replace:\n",
    "    df[column]=df[column].fillna('unknown')# перебор названий столбцов в цикле и замена пропущенных значений на 'unknown'"
   ]
  },
  {
   "cell_type": "markdown",
   "metadata": {
    "deletable": false,
    "editable": false,
    "id": "Ilsm-MZo_Zct",
    "tags": [
     "start_task"
    ]
   },
   "source": [
    "**Задание 11**\n",
    "\n",
    "Убедитесь, что в таблице не осталось пропусков. Для этого ещё раз посчитайте пропущенные значения."
   ]
  },
  {
   "cell_type": "code",
   "execution_count": 207,
   "metadata": {
    "deletable": false,
    "id": "Tq4nYRX4_Zct"
   },
   "outputs": [
    {
     "data": {
      "text/plain": [
       "user_id    0\n",
       "track      0\n",
       "artist     0\n",
       "genre      0\n",
       "city       0\n",
       "time       0\n",
       "day        0\n",
       "dtype: int64"
      ]
     },
     "execution_count": 207,
     "metadata": {},
     "output_type": "execute_result"
    }
   ],
   "source": [
    "df.isna().sum()# подсчёт пропусков"
   ]
  },
  {
   "cell_type": "markdown",
   "metadata": {
    "deletable": false,
    "editable": false,
    "id": "BWKRtBJ3_Zct",
    "tags": [
     "start_task"
    ]
   },
   "source": [
    "### Дубликаты\n",
    "\n",
    "**Задание 12**\n",
    "\n",
    "Посчитайте явные дубликаты в таблице одной командой:"
   ]
  },
  {
   "cell_type": "code",
   "execution_count": 208,
   "metadata": {
    "deletable": false,
    "id": "36eES_S0_Zct"
   },
   "outputs": [
    {
     "data": {
      "text/plain": [
       "3826"
      ]
     },
     "execution_count": 208,
     "metadata": {},
     "output_type": "execute_result"
    }
   ],
   "source": [
    "df.duplicated().sum()# подсчёт явных дубликатов"
   ]
  },
  {
   "cell_type": "markdown",
   "metadata": {
    "deletable": false,
    "editable": false,
    "id": "Ot25h6XR_Zct",
    "tags": [
     "start_task"
    ]
   },
   "source": [
    "**Задание 13**\n",
    "\n",
    "Вызовите специальный метод `pandas`, чтобы удалить явные дубликаты:"
   ]
  },
  {
   "cell_type": "code",
   "execution_count": 209,
   "metadata": {
    "deletable": false,
    "id": "exFHq6tt_Zct"
   },
   "outputs": [],
   "source": [
    "df=df.drop_duplicates()# удаление явных дубликатов"
   ]
  },
  {
   "cell_type": "markdown",
   "metadata": {
    "deletable": false,
    "editable": false,
    "id": "Im2YwBEG_Zct",
    "tags": [
     "start_task"
    ]
   },
   "source": [
    "**Задание 14**\n",
    "\n",
    "Ещё раз посчитайте явные дубликаты в таблице — убедитесь, что полностью от них избавились:"
   ]
  },
  {
   "cell_type": "code",
   "execution_count": 210,
   "metadata": {
    "deletable": false,
    "id": "-8PuNWQ0_Zct"
   },
   "outputs": [
    {
     "data": {
      "text/plain": [
       "0"
      ]
     },
     "execution_count": 210,
     "metadata": {},
     "output_type": "execute_result"
    }
   ],
   "source": [
    "df.duplicated().sum()# проверка на отсутствие дубликатов"
   ]
  },
  {
   "cell_type": "markdown",
   "metadata": {
    "deletable": false,
    "editable": false,
    "id": "QlFBsxAr_Zct"
   },
   "source": [
    "Теперь избавьтесь от неявных дубликатов в колонке `genre`. Например, название одного и того же жанра может быть записано немного по-разному. Такие ошибки тоже повлияют на результат исследования."
   ]
  },
  {
   "cell_type": "markdown",
   "metadata": {
    "deletable": false,
    "editable": false,
    "id": "eSjWwsOh_Zct",
    "tags": [
     "start_task"
    ]
   },
   "source": [
    "**Задание 15**\n",
    "\n",
    "Выведите на экран список уникальных названий жанров, отсортированный в алфавитном порядке. Для этого:\n",
    "1. извлеките нужный столбец датафрейма; \n",
    "2. примените к нему метод сортировки;\n",
    "3. для отсортированного столбца вызовите метод, который вернёт уникальные значения из столбца."
   ]
  },
  {
   "cell_type": "code",
   "execution_count": 211,
   "metadata": {
    "deletable": false,
    "id": "JIUcqzZN_Zct"
   },
   "outputs": [
    {
     "data": {
      "text/plain": [
       "array(['acid', 'acoustic', 'action', 'adult', 'africa', 'afrikaans',\n",
       "       'alternative', 'alternativepunk', 'ambient', 'americana',\n",
       "       'animated', 'anime', 'arabesk', 'arabic', 'arena',\n",
       "       'argentinetango', 'art', 'audiobook', 'author', 'avantgarde',\n",
       "       'axé', 'baile', 'balkan', 'beats', 'bigroom', 'black', 'bluegrass',\n",
       "       'blues', 'bollywood', 'bossa', 'brazilian', 'breakbeat', 'breaks',\n",
       "       'broadway', 'cantautori', 'cantopop', 'canzone', 'caribbean',\n",
       "       'caucasian', 'celtic', 'chamber', 'chanson', 'children', 'chill',\n",
       "       'chinese', 'choral', 'christian', 'christmas', 'classical',\n",
       "       'classicmetal', 'club', 'colombian', 'comedy', 'conjazz',\n",
       "       'contemporary', 'country', 'cuban', 'dance', 'dancehall',\n",
       "       'dancepop', 'dark', 'death', 'deep', 'deutschrock', 'deutschspr',\n",
       "       'dirty', 'disco', 'dnb', 'documentary', 'downbeat', 'downtempo',\n",
       "       'drum', 'dub', 'dubstep', 'eastern', 'easy', 'electronic',\n",
       "       'electropop', 'emo', 'entehno', 'epicmetal', 'estrada', 'ethnic',\n",
       "       'eurofolk', 'european', 'experimental', 'extrememetal', 'fado',\n",
       "       'fairytail', 'film', 'fitness', 'flamenco', 'folk', 'folklore',\n",
       "       'folkmetal', 'folkrock', 'folktronica', 'forró', 'frankreich',\n",
       "       'französisch', 'french', 'funk', 'future', 'gangsta', 'garage',\n",
       "       'german', 'ghazal', 'gitarre', 'glitch', 'gospel', 'gothic',\n",
       "       'grime', 'grunge', 'gypsy', 'handsup', \"hard'n'heavy\", 'hardcore',\n",
       "       'hardstyle', 'hardtechno', 'hip', 'hip-hop', 'hiphop',\n",
       "       'historisch', 'holiday', 'hop', 'horror', 'house', 'hymn', 'idm',\n",
       "       'independent', 'indian', 'indie', 'indipop', 'industrial',\n",
       "       'inspirational', 'instrumental', 'international', 'irish', 'jam',\n",
       "       'japanese', 'jazz', 'jewish', 'jpop', 'jungle', 'k-pop',\n",
       "       'karadeniz', 'karaoke', 'kayokyoku', 'korean', 'laiko', 'latin',\n",
       "       'latino', 'leftfield', 'local', 'lounge', 'loungeelectronic',\n",
       "       'lovers', 'malaysian', 'mandopop', 'marschmusik', 'meditative',\n",
       "       'mediterranean', 'melodic', 'metal', 'metalcore', 'mexican',\n",
       "       'middle', 'minimal', 'miscellaneous', 'modern', 'mood', 'mpb',\n",
       "       'muslim', 'native', 'neoklassik', 'neue', 'new', 'newage',\n",
       "       'newwave', 'nu', 'nujazz', 'numetal', 'oceania', 'old', 'opera',\n",
       "       'orchestral', 'other', 'piano', 'podcasts', 'pop', 'popdance',\n",
       "       'popelectronic', 'popeurodance', 'poprussian', 'post',\n",
       "       'posthardcore', 'postrock', 'power', 'progmetal', 'progressive',\n",
       "       'psychedelic', 'punjabi', 'punk', 'quebecois', 'ragga', 'ram',\n",
       "       'rancheras', 'rap', 'rave', 'reggae', 'reggaeton', 'regional',\n",
       "       'relax', 'religious', 'retro', 'rhythm', 'rnb', 'rnr', 'rock',\n",
       "       'rockabilly', 'rockalternative', 'rockindie', 'rockother',\n",
       "       'romance', 'roots', 'ruspop', 'rusrap', 'rusrock', 'russian',\n",
       "       'salsa', 'samba', 'scenic', 'schlager', 'self', 'sertanejo',\n",
       "       'shanson', 'shoegazing', 'showtunes', 'singer', 'ska', 'skarock',\n",
       "       'slow', 'smooth', 'soft', 'soul', 'soulful', 'sound', 'soundtrack',\n",
       "       'southern', 'specialty', 'speech', 'spiritual', 'sport',\n",
       "       'stonerrock', 'surf', 'swing', 'synthpop', 'synthrock',\n",
       "       'sängerportrait', 'tango', 'tanzorchester', 'taraftar', 'tatar',\n",
       "       'tech', 'techno', 'teen', 'thrash', 'top', 'traditional',\n",
       "       'tradjazz', 'trance', 'tribal', 'trip', 'triphop', 'tropical',\n",
       "       'türk', 'türkçe', 'ukrrock', 'unknown', 'urban', 'uzbek',\n",
       "       'variété', 'vi', 'videogame', 'vocal', 'western', 'world',\n",
       "       'worldbeat', 'ïîï', 'электроника'], dtype=object)"
      ]
     },
     "execution_count": 211,
     "metadata": {},
     "output_type": "execute_result"
    }
   ],
   "source": [
    "df['genre'].sort_values().unique()# Просмотр уникальных названий жанров"
   ]
  },
  {
   "cell_type": "markdown",
   "metadata": {
    "deletable": false,
    "editable": false,
    "id": "qej-Qmuo_Zct",
    "tags": [
     "start_task"
    ]
   },
   "source": [
    "**Задание 16**\n",
    "\n",
    "Просмотрите список и найдите неявные дубликаты названия `hiphop`. Это могут быть названия с ошибками или альтернативные названия того же жанра.\n",
    "\n",
    "Вы увидите следующие неявные дубликаты:\n",
    "* *hip*,\n",
    "* *hop*,\n",
    "* *hip-hop*.\n",
    "\n",
    "Чтобы очистить от них таблицу используйте метод `replace()` с двумя аргументами: списком строк-дубликатов (включащий *hip*, *hop* и *hip-hop*) и строкой с правильным значением. Вам нужно исправить колонку `genre` в таблице `df`: заменить каждое значение из списка дубликатов на верное. Вместо `hip`, `hop` и `hip-hop` в таблице должно быть значение `hiphop`:"
   ]
  },
  {
   "cell_type": "code",
   "execution_count": 212,
   "metadata": {
    "deletable": false,
    "id": "ErNDkmns_Zct"
   },
   "outputs": [],
   "source": [
    "duplicates=['hip', 'hop', 'hip-hop']\n",
    "genre='hiphop'\n",
    "df['genre']=df['genre'].replace(duplicates, genre)# Устранение неявных дубликатов"
   ]
  },
  {
   "cell_type": "markdown",
   "metadata": {
    "deletable": false,
    "editable": false,
    "id": "zQKF16_RG15m",
    "tags": [
     "start_task"
    ]
   },
   "source": [
    "**Задание 17**\n",
    "\n",
    "Проверьте, что заменили неправильные названия:\n",
    "\n",
    "*   hip,\n",
    "*   hop,\n",
    "*   hip-hop.\n",
    "\n",
    "Выведите отсортированный список уникальных значений столбца `genre`:"
   ]
  },
  {
   "cell_type": "code",
   "execution_count": 213,
   "metadata": {
    "deletable": false,
    "id": "wvixALnFG15m"
   },
   "outputs": [
    {
     "name": "stdout",
     "output_type": "stream",
     "text": [
      "['acid' 'acoustic' 'action' 'adult' 'africa' 'afrikaans' 'alternative'\n",
      " 'alternativepunk' 'ambient' 'americana' 'animated' 'anime' 'arabesk'\n",
      " 'arabic' 'arena' 'argentinetango' 'art' 'audiobook' 'author' 'avantgarde'\n",
      " 'axé' 'baile' 'balkan' 'beats' 'bigroom' 'black' 'bluegrass' 'blues'\n",
      " 'bollywood' 'bossa' 'brazilian' 'breakbeat' 'breaks' 'broadway'\n",
      " 'cantautori' 'cantopop' 'canzone' 'caribbean' 'caucasian' 'celtic'\n",
      " 'chamber' 'chanson' 'children' 'chill' 'chinese' 'choral' 'christian'\n",
      " 'christmas' 'classical' 'classicmetal' 'club' 'colombian' 'comedy'\n",
      " 'conjazz' 'contemporary' 'country' 'cuban' 'dance' 'dancehall' 'dancepop'\n",
      " 'dark' 'death' 'deep' 'deutschrock' 'deutschspr' 'dirty' 'disco' 'dnb'\n",
      " 'documentary' 'downbeat' 'downtempo' 'drum' 'dub' 'dubstep' 'eastern'\n",
      " 'easy' 'electronic' 'electropop' 'emo' 'entehno' 'epicmetal' 'estrada'\n",
      " 'ethnic' 'eurofolk' 'european' 'experimental' 'extrememetal' 'fado'\n",
      " 'fairytail' 'film' 'fitness' 'flamenco' 'folk' 'folklore' 'folkmetal'\n",
      " 'folkrock' 'folktronica' 'forró' 'frankreich' 'französisch' 'french'\n",
      " 'funk' 'future' 'gangsta' 'garage' 'german' 'ghazal' 'gitarre' 'glitch'\n",
      " 'gospel' 'gothic' 'grime' 'grunge' 'gypsy' 'handsup' \"hard'n'heavy\"\n",
      " 'hardcore' 'hardstyle' 'hardtechno' 'hiphop' 'historisch' 'holiday'\n",
      " 'horror' 'house' 'hymn' 'idm' 'independent' 'indian' 'indie' 'indipop'\n",
      " 'industrial' 'inspirational' 'instrumental' 'international' 'irish' 'jam'\n",
      " 'japanese' 'jazz' 'jewish' 'jpop' 'jungle' 'k-pop' 'karadeniz' 'karaoke'\n",
      " 'kayokyoku' 'korean' 'laiko' 'latin' 'latino' 'leftfield' 'local'\n",
      " 'lounge' 'loungeelectronic' 'lovers' 'malaysian' 'mandopop' 'marschmusik'\n",
      " 'meditative' 'mediterranean' 'melodic' 'metal' 'metalcore' 'mexican'\n",
      " 'middle' 'minimal' 'miscellaneous' 'modern' 'mood' 'mpb' 'muslim'\n",
      " 'native' 'neoklassik' 'neue' 'new' 'newage' 'newwave' 'nu' 'nujazz'\n",
      " 'numetal' 'oceania' 'old' 'opera' 'orchestral' 'other' 'piano' 'podcasts'\n",
      " 'pop' 'popdance' 'popelectronic' 'popeurodance' 'poprussian' 'post'\n",
      " 'posthardcore' 'postrock' 'power' 'progmetal' 'progressive' 'psychedelic'\n",
      " 'punjabi' 'punk' 'quebecois' 'ragga' 'ram' 'rancheras' 'rap' 'rave'\n",
      " 'reggae' 'reggaeton' 'regional' 'relax' 'religious' 'retro' 'rhythm'\n",
      " 'rnb' 'rnr' 'rock' 'rockabilly' 'rockalternative' 'rockindie' 'rockother'\n",
      " 'romance' 'roots' 'ruspop' 'rusrap' 'rusrock' 'russian' 'salsa' 'samba'\n",
      " 'scenic' 'schlager' 'self' 'sertanejo' 'shanson' 'shoegazing' 'showtunes'\n",
      " 'singer' 'ska' 'skarock' 'slow' 'smooth' 'soft' 'soul' 'soulful' 'sound'\n",
      " 'soundtrack' 'southern' 'specialty' 'speech' 'spiritual' 'sport'\n",
      " 'stonerrock' 'surf' 'swing' 'synthpop' 'synthrock' 'sängerportrait'\n",
      " 'tango' 'tanzorchester' 'taraftar' 'tatar' 'tech' 'techno' 'teen'\n",
      " 'thrash' 'top' 'traditional' 'tradjazz' 'trance' 'tribal' 'trip'\n",
      " 'triphop' 'tropical' 'türk' 'türkçe' 'ukrrock' 'unknown' 'urban' 'uzbek'\n",
      " 'variété' 'vi' 'videogame' 'vocal' 'western' 'world' 'worldbeat' 'ïîï'\n",
      " 'электроника']\n"
     ]
    }
   ],
   "source": [
    "print(df['genre'].sort_values().unique())# Проверка на неявные дубликаты"
   ]
  },
  {
   "cell_type": "markdown",
   "metadata": {
    "deletable": false,
    "editable": false,
    "id": "jz6a9-7HQUDd"
   },
   "source": [
    "**Выводы**\n",
    "\n",
    "Предобработка обнаружила три проблемы в данных:\n",
    "\n",
    "- нарушения в стиле заголовков,\n",
    "- пропущенные значения,\n",
    "- дубликаты — явные и неявные.\n",
    "\n",
    "Вы исправили заголовки, чтобы упростить работу с таблицей. Без дубликатов исследование станет более точным.\n",
    "\n",
    "Пропущенные значения вы заменили на `'unknown'`. Ещё предстоит увидеть, не повредят ли исследованию пропуски в колонке `genre`.\n",
    "\n",
    "Теперь можно перейти к проверке гипотез. "
   ]
  },
  {
   "cell_type": "markdown",
   "metadata": {
    "deletable": false,
    "editable": false,
    "id": "WttZHXH0SqKk"
   },
   "source": [
    "## Проверка гипотез"
   ]
  },
  {
   "cell_type": "markdown",
   "metadata": {
    "deletable": false,
    "editable": false,
    "id": "Im936VVi_Zcu"
   },
   "source": [
    "### Сравнение поведения пользователей двух столиц"
   ]
  },
  {
   "cell_type": "markdown",
   "metadata": {
    "deletable": false,
    "editable": false,
    "id": "nwt_MuaL_Zcu"
   },
   "source": [
    "Первая гипотеза утверждает, что пользователи по-разному слушают музыку в Москве и Санкт-Петербурге. Проверьте это предположение по данным о трёх днях недели — понедельнике, среде и пятнице. Для этого:\n",
    "\n",
    "* Разделите пользователей Москвы и Санкт-Петербурга.\n",
    "* Сравните, сколько треков послушала каждая группа пользователей в понедельник, среду и пятницу.\n"
   ]
  },
  {
   "cell_type": "markdown",
   "metadata": {
    "deletable": false,
    "editable": false,
    "id": "8Dw_YMmT_Zcu",
    "tags": [
     "start_task"
    ]
   },
   "source": [
    "**Задание 18**\n",
    "\n",
    "Для тренировки сначала выполните каждый из расчётов по отдельности. \n",
    "\n",
    "Оцените активность пользователей в каждом городе. Сгруппируйте данные по городу и посчитайте прослушивания в каждой группе.\n",
    "\n"
   ]
  },
  {
   "cell_type": "code",
   "execution_count": 214,
   "metadata": {
    "deletable": false,
    "id": "0_Qs96oh_Zcu"
   },
   "outputs": [
    {
     "data": {
      "text/plain": [
       "city\n",
       "Moscow              42741\n",
       "Saint-Petersburg    18512\n",
       "Name: city, dtype: int64"
      ]
     },
     "execution_count": 214,
     "metadata": {},
     "output_type": "execute_result"
    }
   ],
   "source": [
    "df.groupby('city')['city'].count()\n",
    "# Подсчёт прослушиваний в каждом городе"
   ]
  },
  {
   "cell_type": "markdown",
   "metadata": {
    "deletable": false,
    "editable": false,
    "id": "dzli3w8o_Zcu",
    "tags": [
     "start_task"
    ]
   },
   "source": [
    "В Москве прослушиваний больше, чем в Петербурге. Из этого не следует, что московские пользователи чаще слушают музыку. Просто самих пользователей в Москве больше.\n",
    "\n",
    "**Задание 19**\n",
    "\n",
    "Теперь сгруппируйте данные по дню недели и посчитайте прослушивания в понедельник, среду и пятницу. Учтите, что в данных есть информация о прослушиваниях только за эти дни.\n"
   ]
  },
  {
   "cell_type": "code",
   "execution_count": 215,
   "metadata": {
    "deletable": false,
    "id": "uZMKjiJz_Zcu"
   },
   "outputs": [
    {
     "data": {
      "text/plain": [
       "day\n",
       "Friday       21840\n",
       "Monday       21354\n",
       "Wednesday    18059\n",
       "Name: day, dtype: int64"
      ]
     },
     "execution_count": 215,
     "metadata": {},
     "output_type": "execute_result"
    }
   ],
   "source": [
    "df.groupby('day')['day'].count()# Подсчёт прослушиваний в каждый из трёх дней"
   ]
  },
  {
   "cell_type": "markdown",
   "metadata": {
    "deletable": false,
    "editable": false,
    "id": "cC2tNrlL_Zcu"
   },
   "source": [
    "В среднем пользователи из двух городов менее активны по средам. Но картина может измениться, если рассмотреть каждый город в отдельности."
   ]
  },
  {
   "cell_type": "markdown",
   "metadata": {
    "deletable": false,
    "editable": false,
    "id": "POzs8bGa_Zcu",
    "tags": [
     "start_task"
    ]
   },
   "source": [
    "**Задание 20**\n",
    "\n",
    "\n",
    "Вы видели, как работает группировка по городу и по дням недели. Теперь напишите функцию, которая объединит два эти расчёта.\n",
    "\n",
    "Создайте функцию `number_tracks()`, которая посчитает прослушивания для заданного дня и города. Ей понадобятся два параметра:\n",
    "* день недели,\n",
    "* название города.\n",
    "\n",
    "В функции сохраните в переменную строки исходной таблицы, у которых значение:\n",
    "  * в колонке `day` равно параметру `day`,\n",
    "  * в колонке `city` равно параметру `city`.\n",
    "\n",
    "Для этого примените последовательную фильтрацию с логической индексацией (или сложные логические выражения в одну строку, если вы уже знакомы с ними).\n",
    "\n",
    "Затем посчитайте значения в столбце `user_id` получившейся таблицы. Результат сохраните в новую переменную. Верните эту переменную из функции."
   ]
  },
  {
   "cell_type": "code",
   "execution_count": 216,
   "metadata": {
    "deletable": false,
    "id": "Nz3GdQB1_Zcu"
   },
   "outputs": [],
   "source": [
    "def number_tracks(day,city):\n",
    "    track_list=df[df['day']==day]\n",
    "    track_list=track_list[track_list['city']==city] \n",
    "    track_list_count=track_list['user_id'].count()\n",
    "    return track_list_count\n",
    "\n",
    "\n",
    "        \n",
    "\n",
    "\n",
    "\n",
    "\n"
   ]
  },
  {
   "cell_type": "markdown",
   "metadata": {
    "deletable": false,
    "editable": false,
    "id": "ytf7xFrFJQ2r",
    "tags": [
     "start_task"
    ]
   },
   "source": [
    "**Задание 21**\n",
    "\n",
    "Вызовите `number_tracks()` шесть раз, меняя значение параметров — так, чтобы получить данные для каждого города в каждый из трёх дней."
   ]
  },
  {
   "cell_type": "code",
   "execution_count": 217,
   "metadata": {
    "deletable": false,
    "id": "rJcRATNQ_Zcu"
   },
   "outputs": [
    {
     "data": {
      "text/plain": [
       "15740"
      ]
     },
     "execution_count": 217,
     "metadata": {},
     "output_type": "execute_result"
    }
   ],
   "source": [
    "number_tracks('Monday', 'Moscow')"
   ]
  },
  {
   "cell_type": "code",
   "execution_count": 218,
   "metadata": {
    "deletable": false,
    "id": "hq_ncZ5T_Zcu"
   },
   "outputs": [
    {
     "data": {
      "text/plain": [
       "5614"
      ]
     },
     "execution_count": 218,
     "metadata": {},
     "output_type": "execute_result"
    }
   ],
   "source": [
    "number_tracks('Monday', 'Saint-Petersburg')# количество прослушиваний в Санкт-Петербурге по понедельникам"
   ]
  },
  {
   "cell_type": "code",
   "execution_count": 219,
   "metadata": {
    "deletable": false,
    "id": "_NTy2VPU_Zcu"
   },
   "outputs": [
    {
     "data": {
      "text/plain": [
       "11056"
      ]
     },
     "execution_count": 219,
     "metadata": {},
     "output_type": "execute_result"
    }
   ],
   "source": [
    "number_tracks('Wednesday', 'Moscow')"
   ]
  },
  {
   "cell_type": "code",
   "execution_count": 220,
   "metadata": {
    "deletable": false,
    "id": "j2y3TAwo_Zcu"
   },
   "outputs": [
    {
     "data": {
      "text/plain": [
       "7003"
      ]
     },
     "execution_count": 220,
     "metadata": {},
     "output_type": "execute_result"
    }
   ],
   "source": [
    "number_tracks('Wednesday', 'Saint-Petersburg')# количество прослушиваний в Санкт-Петербурге по средам"
   ]
  },
  {
   "cell_type": "code",
   "execution_count": 221,
   "metadata": {
    "deletable": false,
    "id": "vYDw5u_K_Zcu"
   },
   "outputs": [
    {
     "data": {
      "text/plain": [
       "15945"
      ]
     },
     "execution_count": 221,
     "metadata": {},
     "output_type": "execute_result"
    }
   ],
   "source": [
    "number_tracks('Friday', 'Moscow')# количество прослушиваний в Москве по пятницам"
   ]
  },
  {
   "cell_type": "code",
   "execution_count": 222,
   "metadata": {
    "deletable": false,
    "id": "8_yzFtW3_Zcu"
   },
   "outputs": [
    {
     "data": {
      "text/plain": [
       "5895"
      ]
     },
     "execution_count": 222,
     "metadata": {},
     "output_type": "execute_result"
    }
   ],
   "source": [
    "number_tracks('Friday', 'Saint-Petersburg')# количество прослушиваний в Санкт-Петербурге по пятницам"
   ]
  },
  {
   "cell_type": "markdown",
   "metadata": {
    "deletable": false,
    "editable": false,
    "id": "7QXffbO-_Zcu",
    "tags": [
     "start_task"
    ]
   },
   "source": [
    "**Задание 22**\n",
    "\n",
    "Создайте c помощью конструктора `pd.DataFrame` таблицу, где\n",
    "* названия колонок — `['city', 'monday', 'wednesday', 'friday']`;\n",
    "* данные — результаты, которые вы получили с помощью `number_tracks`."
   ]
  },
  {
   "cell_type": "code",
   "execution_count": 223,
   "metadata": {
    "deletable": false,
    "id": "APAcLpOr_Zcu"
   },
   "outputs": [
    {
     "name": "stdout",
     "output_type": "stream",
     "text": [
      "               city  monday  wednesday  friday\n",
      "0            Mocsow   15740      11050   15945\n",
      "1  Saint-Petersburg    5614       7003    5895\n"
     ]
    }
   ],
   "source": [
    "columns=['city', 'monday', 'wednesday', 'friday']\n",
    "data=[['Mocsow', 15740, 11050, 15945],['Saint-Petersburg', 5614, 7003, 5895]]\n",
    "number_tracks=pd.DataFrame(data=data, columns=columns)\n",
    "print(number_tracks)# Таблица с результатами"
   ]
  },
  {
   "cell_type": "markdown",
   "metadata": {
    "deletable": false,
    "editable": false,
    "id": "-EgPIHYu_Zcu"
   },
   "source": [
    "**Выводы**\n",
    "\n",
    "Данные показывают разницу поведения пользователей:\n",
    "\n",
    "- В Москве пик прослушиваний приходится на понедельник и пятницу, а в среду заметен спад.\n",
    "- В Петербурге, наоборот, больше слушают музыку по средам. Активность в понедельник и пятницу здесь почти в равной мере уступает среде.\n",
    "\n",
    "Значит, данные говорят в пользу первой гипотезы."
   ]
  },
  {
   "cell_type": "markdown",
   "metadata": {
    "deletable": false,
    "editable": false,
    "id": "atZAxtq4_Zcu"
   },
   "source": [
    "### Музыка в начале и в конце недели"
   ]
  },
  {
   "cell_type": "markdown",
   "metadata": {
    "deletable": false,
    "editable": false,
    "id": "eXrQqXFH_Zcu"
   },
   "source": [
    "Согласно второй гипотезе, утром в понедельник в Москве преобладают одни жанры, а в Петербурге — другие. Так же и вечером пятницы преобладают разные жанры — в зависимости от города."
   ]
  },
  {
   "cell_type": "markdown",
   "metadata": {
    "deletable": false,
    "editable": false,
    "id": "S8UcW6Hw_Zcu",
    "tags": [
     "start_task"
    ]
   },
   "source": [
    "**Задание 23**\n",
    "\n",
    "Сохраните таблицы с данными в две переменные:\n",
    "* по Москве — в `moscow_general`;\n",
    "* по Санкт-Петербургу — в `spb_general`."
   ]
  },
  {
   "cell_type": "code",
   "execution_count": 224,
   "metadata": {
    "deletable": false,
    "id": "qeaFfM_P_Zcu"
   },
   "outputs": [],
   "source": [
    "moscow_general=df[df['city']=='Moscow']# получение таблицы moscow_general из тех строк таблицы df, \n",
    "# для которых значение в столбце 'city' равно 'Moscow'\n"
   ]
  },
  {
   "cell_type": "code",
   "execution_count": 225,
   "metadata": {
    "deletable": false,
    "id": "ORaVRKto_Zcu"
   },
   "outputs": [],
   "source": [
    "spb_general=df[df['city']=='Saint-Petersburg']# получение таблицы moscow_general из тех строк таблицы df, \n",
    "# получение таблицы spb_general из тех строк таблицы df,\n",
    "# для которых значение в столбце 'city' равно 'Saint-Petersburg'\n"
   ]
  },
  {
   "cell_type": "markdown",
   "metadata": {
    "deletable": false,
    "id": "MEJV-CX2_Zcu",
    "tags": [
     "start_task"
    ]
   },
   "source": [
    "**Задание 24**\n",
    "\n",
    "Создайте функцию `genre_weekday()` с четырьмя параметрами:\n",
    "* таблица (датафрейм) с данными,\n",
    "* день недели,\n",
    "* начальная временная метка в формате 'hh:mm', \n",
    "* последняя временная метка в формате 'hh:mm'.\n",
    "\n",
    "Функция должна вернуть информацию о топ-10 жанров тех треков, которые прослушивали в указанный день, в промежутке между двумя отметками времени."
   ]
  },
  {
   "cell_type": "code",
   "execution_count": 226,
   "metadata": {
    "deletable": false,
    "id": "laJT9BYl_Zcu"
   },
   "outputs": [],
   "source": [
    "def genre_weekday(df, day, time1, time2):# Объявление функции genre_weekday() с параметрами table, day, time1, time2,\n",
    "    genre_df=df[df['day']==day]\n",
    "    genre_df=genre_df[genre_df['time']>time1]\n",
    "    genre_df=genre_df[genre_df['time']<time2] \n",
    "    genre_df_grouped=genre_df.groupby('genre')['genre'].count() # 2) сгруппировать датафрейм genre_df по столбцу genre, взять один из его\n",
    "    genre_df_sorted = genre_df_grouped.sort_values(ascending=False)# 3) отсортировать genre_df_count по убыванию встречаемости и сохранить\n",
    "    return genre_df_sorted[:10]"
   ]
  },
  {
   "cell_type": "markdown",
   "metadata": {
    "deletable": false,
    "editable": false,
    "id": "la2s2_PF_Zcu",
    "tags": [
     "start_task"
    ]
   },
   "source": [
    "**Задание 25**\n",
    "\n",
    "\n",
    "Cравните результаты функции `genre_weekday()` для Москвы и Санкт-Петербурга в понедельник утром (с 7:00 до 11:00) и в пятницу вечером (с 17:00 до 23:00):"
   ]
  },
  {
   "cell_type": "code",
   "execution_count": 227,
   "metadata": {
    "deletable": false,
    "id": "yz7itPUQ_Zcu"
   },
   "outputs": [
    {
     "data": {
      "text/plain": [
       "genre\n",
       "pop            781\n",
       "dance          549\n",
       "electronic     480\n",
       "rock           474\n",
       "hiphop         286\n",
       "ruspop         186\n",
       "world          181\n",
       "rusrap         175\n",
       "alternative    164\n",
       "unknown        161\n",
       "Name: genre, dtype: int64"
      ]
     },
     "execution_count": 227,
     "metadata": {},
     "output_type": "execute_result"
    }
   ],
   "source": [
    "genre_weekday(moscow_general, 'Monday', '07:00', '11:00')# вызов функции для утра понедельника в Москве (вместо df — таблица moscow_general)\n",
    "# объекты, хранящие время, являются строками и сравниваются как строки\n",
    "# пример вызова: genre_weekday(moscow_general, 'Monday', '07:00', '11:00'))# пример вызова: genre_weekday(moscow_general, 'Monday', '07:00', '11:00')"
   ]
  },
  {
   "cell_type": "code",
   "execution_count": 228,
   "metadata": {
    "deletable": false,
    "id": "kwUcHPdy_Zcu"
   },
   "outputs": [
    {
     "data": {
      "text/plain": [
       "genre\n",
       "pop            218\n",
       "dance          182\n",
       "rock           162\n",
       "electronic     147\n",
       "hiphop          80\n",
       "ruspop          64\n",
       "alternative     58\n",
       "rusrap          55\n",
       "jazz            44\n",
       "classical       40\n",
       "Name: genre, dtype: int64"
      ]
     },
     "execution_count": 228,
     "metadata": {},
     "output_type": "execute_result"
    }
   ],
   "source": [
    "genre_weekday(spb_general, 'Monday', '07:00', '11:00')# вызов функции для утра понедельника в Петербурге (вместо df — таблица spb_general)"
   ]
  },
  {
   "cell_type": "code",
   "execution_count": 229,
   "metadata": {
    "deletable": false,
    "id": "EzXVRE1o_Zcu"
   },
   "outputs": [
    {
     "data": {
      "text/plain": [
       "genre\n",
       "pop            713\n",
       "rock           517\n",
       "dance          495\n",
       "electronic     482\n",
       "hiphop         273\n",
       "world          208\n",
       "ruspop         170\n",
       "alternative    163\n",
       "classical      163\n",
       "rusrap         142\n",
       "Name: genre, dtype: int64"
      ]
     },
     "execution_count": 229,
     "metadata": {},
     "output_type": "execute_result"
    }
   ],
   "source": [
    "genre_weekday(moscow_general, 'Friday', '17:00', '23:00')# вызов функции для вечера пятницы в Москве"
   ]
  },
  {
   "cell_type": "code",
   "execution_count": 230,
   "metadata": {
    "deletable": false,
    "id": "JZaEKu5v_Zcu"
   },
   "outputs": [
    {
     "data": {
      "text/plain": [
       "genre\n",
       "pop            256\n",
       "electronic     216\n",
       "rock           216\n",
       "dance          210\n",
       "hiphop          97\n",
       "alternative     63\n",
       "jazz            61\n",
       "classical       60\n",
       "rusrap          59\n",
       "world           54\n",
       "Name: genre, dtype: int64"
      ]
     },
     "execution_count": 230,
     "metadata": {},
     "output_type": "execute_result"
    }
   ],
   "source": [
    "genre_weekday(spb_general, 'Friday', '17:00', '23:00')# вызов функции для вечера пятницы в Петербурге"
   ]
  },
  {
   "cell_type": "markdown",
   "metadata": {
    "deletable": false,
    "editable": false,
    "id": "wrCe4MNX_Zcu"
   },
   "source": [
    "**Выводы**\n",
    "\n",
    "Если сравнить топ-10 жанров в понедельник утром, можно сделать такие выводы:\n",
    "\n",
    "1. В Москве и Петербурге слушают похожую музыку. Единственное отличие — в московский рейтинг вошёл жанр “world”, а в петербургский — джаз и классика.\n",
    "\n",
    "2. В Москве пропущенных значений оказалось так много, что значение `'unknown'` заняло десятое место среди самых популярных жанров. Значит, пропущенные значения занимают существенную долю в данных и угрожают достоверности исследования.\n",
    "\n",
    "Вечер пятницы не меняет эту картину. Некоторые жанры поднимаются немного выше, другие спускаются, но в целом топ-10 остаётся тем же самым.\n",
    "\n",
    "Таким образом, вторая гипотеза подтвердилась лишь частично:\n",
    "* Пользователи слушают похожую музыку в начале недели и в конце.\n",
    "* Разница между Москвой и Петербургом не слишком выражена. В Москве чаще слушают русскую популярную музыку, в Петербурге — джаз.\n",
    "\n",
    "Однако пропуски в данных ставят под сомнение этот результат. В Москве их так много, что рейтинг топ-10 мог бы выглядеть иначе, если бы не утерянные  данные о жанрах."
   ]
  },
  {
   "cell_type": "markdown",
   "metadata": {
    "deletable": false,
    "editable": false,
    "id": "JolODAqr_Zcu"
   },
   "source": [
    "### Жанровые предпочтения в Москве и Петербурге\n",
    "\n",
    "Гипотеза: Петербург — столица рэпа, музыку этого жанра там слушают чаще, чем в Москве.  А Москва — город контрастов, в котором, тем не менее, преобладает поп-музыка."
   ]
  },
  {
   "cell_type": "markdown",
   "metadata": {
    "deletable": false,
    "editable": false,
    "id": "DlegSvaT_Zcu",
    "tags": [
     "start_task"
    ]
   },
   "source": [
    "**Задание 26**\n",
    "\n",
    "Сгруппируйте таблицу `moscow_general` по жанру и посчитайте прослушивания треков каждого жанра методом `count()`. Затем отсортируйте результат в порядке убывания и сохраните его в таблице `moscow_genres`."
   ]
  },
  {
   "cell_type": "code",
   "execution_count": 234,
   "metadata": {
    "deletable": false,
    "id": "r19lIPke_Zcu"
   },
   "outputs": [],
   "source": [
    "moscow_general_gruoped=moscow_general.groupby('genre')['genre'].count()\n",
    "moscow_genres=moscow_general_gruoped.sort_values(ascending=False)"
   ]
  },
  {
   "cell_type": "markdown",
   "metadata": {
    "deletable": false,
    "editable": false,
    "id": "6kMuomxTiIr8",
    "tags": [
     "start_task"
    ]
   },
   "source": [
    "**Задание 27**\n",
    "\n",
    "Выведите на экран первые десять строк `moscow_genres`:"
   ]
  },
  {
   "cell_type": "code",
   "execution_count": 235,
   "metadata": {
    "deletable": false,
    "id": "WhCSooF8_Zcv"
   },
   "outputs": [
    {
     "name": "stdout",
     "output_type": "stream",
     "text": [
      "genre\n",
      "pop            5892\n",
      "dance          4435\n",
      "rock           3965\n",
      "electronic     3786\n",
      "hiphop         2096\n",
      "classical      1616\n",
      "world          1432\n",
      "alternative    1379\n",
      "ruspop         1372\n",
      "rusrap         1161\n",
      "Name: genre, dtype: int64\n"
     ]
    }
   ],
   "source": [
    "print(moscow_genres.head(10))# просмотр первых 10 строк moscow_genres"
   ]
  },
  {
   "cell_type": "markdown",
   "metadata": {
    "deletable": false,
    "editable": false,
    "id": "cnPG2vnN_Zcv",
    "tags": [
     "start_task"
    ]
   },
   "source": [
    "**Задание 28**\n",
    "\n",
    "\n",
    "Теперь повторите то же и для Петербурга.\n",
    "\n",
    "Сгруппируйте таблицу `spb_general` по жанру. Посчитайте прослушивания треков каждого жанра. Результат отсортируйте в порядке убывания и сохраните в таблице `spb_genres`:\n"
   ]
  },
  {
   "cell_type": "code",
   "execution_count": 236,
   "metadata": {
    "deletable": false,
    "id": "gluLIpE7_Zcv"
   },
   "outputs": [],
   "source": [
    "spb_general_gruoped=spb_general.groupby('genre')['genre'].count()\n",
    "spb_genres=spb_general_gruoped.sort_values(ascending=False)# одной строкой: группировка таблицы spb_general по столбцу 'genre', \n",
    "# подсчёт числа значений 'genre' в этой группировке методом count(), \n",
    "# сортировка получившегося Series в порядке убывания и сохранение в spb_genres"
   ]
  },
  {
   "cell_type": "markdown",
   "metadata": {
    "deletable": false,
    "editable": false,
    "id": "5Doha_ODgyQ8",
    "tags": [
     "start_task"
    ]
   },
   "source": [
    "**Задание 29**\n",
    "\n",
    "Выведите на экран первые десять строк `spb_genres`:"
   ]
  },
  {
   "cell_type": "code",
   "execution_count": 237,
   "metadata": {
    "deletable": false,
    "id": "uaGJHjVU_Zcv"
   },
   "outputs": [
    {
     "name": "stdout",
     "output_type": "stream",
     "text": [
      "genre\n",
      "pop            2431\n",
      "dance          1932\n",
      "rock           1879\n",
      "electronic     1736\n",
      "hiphop          960\n",
      "alternative     649\n",
      "classical       646\n",
      "rusrap          564\n",
      "ruspop          538\n",
      "world           515\n",
      "Name: genre, dtype: int64\n"
     ]
    }
   ],
   "source": [
    "print(spb_genres.head(10))# просмотр первых 10 строк spb_genres"
   ]
  },
  {
   "cell_type": "markdown",
   "metadata": {
    "deletable": false,
    "editable": false,
    "id": "RY51YJYu_Zcv"
   },
   "source": [
    "**Выводы**"
   ]
  },
  {
   "cell_type": "markdown",
   "metadata": {
    "deletable": false,
    "editable": false,
    "id": "nVhnJEm__Zcv"
   },
   "source": [
    "Гипотеза частично подтвердилась:\n",
    "* Поп-музыка — самый популярный жанр в Москве, как и предполагала гипотеза. Более того, в топ-10 жанров встречается близкий жанр — русская популярная музыка.\n",
    "* Вопреки ожиданиям, рэп одинаково популярен в Москве и Петербурге. \n"
   ]
  },
  {
   "cell_type": "markdown",
   "metadata": {
    "deletable": false,
    "editable": false,
    "id": "ykKQ0N65_Zcv"
   },
   "source": [
    "## Итоги исследования"
   ]
  },
  {
   "cell_type": "markdown",
   "metadata": {
    "deletable": false,
    "editable": false,
    "id": "tjUwbHb3_Zcv"
   },
   "source": [
    "Вы проверили три гипотезы и установили:\n",
    "\n",
    "1. День недели по-разному влияет на активность пользователей в Москве и Петербурге. \n",
    "\n",
    "Первая гипотеза полностью подтвердилась.\n",
    "\n",
    "2. Музыкальные предпочтения не сильно меняются в течение недели — будь то Москва или Петербург. Небольшие различия заметны в начале недели, по понедельникам:\n",
    "* в Москве слушают музыку жанра “world”,\n",
    "* в Петербурге — джаз и классику.\n",
    "\n",
    "Таким образом, вторая гипотеза подтвердилась лишь отчасти. Этот результат мог оказаться иным, если бы не пропуски в данных.\n",
    "\n",
    "3. Во вкусах пользователей Москвы и Петербурга больше общего чем различий. Вопреки ожиданиям, предпочтения жанров в Петербурге напоминают московские.\n",
    "\n",
    "Третья гипотеза не подтвердилась. Если различия в предпочтениях и существуют, на основной массе пользователей они незаметны.\n",
    "\n",
    "**На практике исследования содержат проверки статистических гипотез.**\n",
    "Из данных одного сервиса не всегда можно сделать вывод о всех жителях города.\n",
    "Проверки статистических гипотез покажут, насколько они достоверны, исходя из имеющихся данных. \n",
    "С методами проверок гипотез вы ещё познакомитесь в следующих темах."
   ]
  }
 ],
 "metadata": {
  "ExecuteTimeLog": [
   {
    "duration": 13,
    "start_time": "2022-06-25T15:11:06.684Z"
   },
   {
    "duration": 13,
    "start_time": "2022-06-25T15:11:48.320Z"
   },
   {
    "duration": 8,
    "start_time": "2022-06-25T15:12:19.483Z"
   },
   {
    "duration": 8,
    "start_time": "2022-06-25T15:12:52.209Z"
   },
   {
    "duration": 13,
    "start_time": "2022-06-25T15:13:10.528Z"
   },
   {
    "duration": 29,
    "start_time": "2022-06-25T15:13:44.084Z"
   },
   {
    "duration": 4,
    "start_time": "2022-06-25T15:18:34.090Z"
   },
   {
    "duration": 10,
    "start_time": "2022-06-25T15:22:01.407Z"
   },
   {
    "duration": 9,
    "start_time": "2022-06-25T15:22:05.561Z"
   },
   {
    "duration": 4,
    "start_time": "2022-06-25T15:22:39.667Z"
   },
   {
    "duration": 37,
    "start_time": "2022-06-25T15:23:33.407Z"
   },
   {
    "duration": 19,
    "start_time": "2022-06-25T15:28:43.636Z"
   },
   {
    "duration": 31,
    "start_time": "2022-06-25T15:29:24.686Z"
   },
   {
    "duration": 78,
    "start_time": "2022-06-25T15:30:21.446Z"
   },
   {
    "duration": 56,
    "start_time": "2022-06-25T15:31:31.998Z"
   },
   {
    "duration": 50,
    "start_time": "2022-06-25T15:31:52.916Z"
   },
   {
    "duration": 9,
    "start_time": "2022-06-25T15:32:41.093Z"
   },
   {
    "duration": 568,
    "start_time": "2022-06-25T15:34:36.956Z"
   },
   {
    "duration": 635,
    "start_time": "2022-06-25T15:35:10.316Z"
   },
   {
    "duration": 65,
    "start_time": "2022-06-25T15:35:53.479Z"
   },
   {
    "duration": 12,
    "start_time": "2022-06-25T15:38:55.082Z"
   },
   {
    "duration": 12,
    "start_time": "2022-06-25T15:39:52.178Z"
   },
   {
    "duration": 41,
    "start_time": "2022-06-25T15:40:22.659Z"
   },
   {
    "duration": 53,
    "start_time": "2022-06-25T15:43:05.539Z"
   },
   {
    "duration": 19,
    "start_time": "2022-06-25T15:43:33.093Z"
   },
   {
    "duration": 47,
    "start_time": "2022-06-25T15:43:42.491Z"
   },
   {
    "duration": 10,
    "start_time": "2022-06-25T15:44:11.171Z"
   },
   {
    "duration": 8,
    "start_time": "2022-06-25T15:45:32.359Z"
   },
   {
    "duration": 9,
    "start_time": "2022-06-25T15:45:48.199Z"
   },
   {
    "duration": 39,
    "start_time": "2022-06-25T15:46:05.249Z"
   },
   {
    "duration": 45,
    "start_time": "2022-06-25T15:46:41.719Z"
   },
   {
    "duration": 38,
    "start_time": "2022-06-25T15:46:49.219Z"
   },
   {
    "duration": 518,
    "start_time": "2022-06-25T15:47:48.549Z"
   },
   {
    "duration": 13,
    "start_time": "2022-06-25T15:48:39.122Z"
   },
   {
    "duration": 15,
    "start_time": "2022-06-25T15:49:37.367Z"
   },
   {
    "duration": 54,
    "start_time": "2022-06-27T17:25:06.907Z"
   },
   {
    "duration": 19,
    "start_time": "2022-06-27T17:25:29.132Z"
   },
   {
    "duration": 15,
    "start_time": "2022-06-27T17:25:42.107Z"
   },
   {
    "duration": 5,
    "start_time": "2022-06-27T17:28:24.029Z"
   },
   {
    "duration": 36,
    "start_time": "2022-06-27T17:32:04.266Z"
   },
   {
    "duration": 8,
    "start_time": "2022-06-27T17:33:39.511Z"
   },
   {
    "duration": 14,
    "start_time": "2022-06-27T17:39:41.924Z"
   },
   {
    "duration": 12,
    "start_time": "2022-06-27T17:40:11.482Z"
   },
   {
    "duration": 9,
    "start_time": "2022-06-27T17:40:37.819Z"
   },
   {
    "duration": 48,
    "start_time": "2022-06-27T17:41:24.292Z"
   },
   {
    "duration": 11,
    "start_time": "2022-06-27T17:41:34.677Z"
   },
   {
    "duration": 30,
    "start_time": "2022-06-27T17:45:39.650Z"
   },
   {
    "duration": 16,
    "start_time": "2022-06-27T17:46:09.597Z"
   },
   {
    "duration": 40,
    "start_time": "2022-06-27T17:47:26.175Z"
   },
   {
    "duration": 71,
    "start_time": "2022-06-27T17:47:50.250Z"
   },
   {
    "duration": 48,
    "start_time": "2022-06-27T17:48:31.455Z"
   },
   {
    "duration": 30,
    "start_time": "2022-06-27T17:50:13.302Z"
   },
   {
    "duration": 30,
    "start_time": "2022-06-27T17:50:22.902Z"
   },
   {
    "duration": 50,
    "start_time": "2022-06-27T17:52:28.789Z"
   },
   {
    "duration": 33,
    "start_time": "2022-06-27T17:52:34.726Z"
   },
   {
    "duration": 32,
    "start_time": "2022-06-27T17:53:03.692Z"
   },
   {
    "duration": 39,
    "start_time": "2022-06-27T17:57:14.939Z"
   },
   {
    "duration": 31,
    "start_time": "2022-06-27T18:00:18.377Z"
   },
   {
    "duration": 4,
    "start_time": "2022-06-27T18:00:34.153Z"
   },
   {
    "duration": 41,
    "start_time": "2022-06-27T18:01:18.950Z"
   },
   {
    "duration": 47,
    "start_time": "2022-06-27T18:03:48.526Z"
   },
   {
    "duration": 44,
    "start_time": "2022-06-27T18:04:22.970Z"
   },
   {
    "duration": 30,
    "start_time": "2022-06-27T18:07:02.085Z"
   },
   {
    "duration": 54,
    "start_time": "2022-06-27T18:07:53.434Z"
   },
   {
    "duration": 4,
    "start_time": "2022-06-27T18:09:47.742Z"
   },
   {
    "duration": 23,
    "start_time": "2022-06-27T18:11:25.429Z"
   },
   {
    "duration": 35,
    "start_time": "2022-06-27T18:11:45.084Z"
   },
   {
    "duration": 31,
    "start_time": "2022-06-27T18:12:09.797Z"
   },
   {
    "duration": 77,
    "start_time": "2022-06-27T19:24:47.581Z"
   },
   {
    "duration": 31,
    "start_time": "2022-06-27T19:25:07.215Z"
   },
   {
    "duration": 36,
    "start_time": "2022-06-27T19:25:24.108Z"
   },
   {
    "duration": 5,
    "start_time": "2022-06-27T19:31:33.411Z"
   },
   {
    "duration": 5,
    "start_time": "2022-06-27T19:34:11.746Z"
   },
   {
    "duration": 4,
    "start_time": "2022-06-27T19:34:29.737Z"
   },
   {
    "duration": 5,
    "start_time": "2022-06-27T19:35:47.288Z"
   },
   {
    "duration": 6,
    "start_time": "2022-06-27T19:37:19.379Z"
   },
   {
    "duration": 53,
    "start_time": "2022-06-27T19:37:41.604Z"
   },
   {
    "duration": 55,
    "start_time": "2022-06-27T19:37:48.003Z"
   },
   {
    "duration": 14,
    "start_time": "2022-06-27T19:38:06.922Z"
   },
   {
    "duration": 4,
    "start_time": "2022-06-27T19:38:16.993Z"
   },
   {
    "duration": 4,
    "start_time": "2022-06-27T19:39:12.494Z"
   },
   {
    "duration": 14,
    "start_time": "2022-06-27T19:41:25.525Z"
   },
   {
    "duration": 5,
    "start_time": "2022-06-27T19:42:31.423Z"
   },
   {
    "duration": 29,
    "start_time": "2022-06-27T19:44:28.742Z"
   },
   {
    "duration": 18,
    "start_time": "2022-06-27T19:51:36.155Z"
   },
   {
    "duration": 15,
    "start_time": "2022-06-27T19:51:58.884Z"
   },
   {
    "duration": 86,
    "start_time": "2022-06-27T19:52:24.607Z"
   },
   {
    "duration": 69,
    "start_time": "2022-06-27T19:53:11.613Z"
   },
   {
    "duration": 62,
    "start_time": "2022-06-27T19:53:45.585Z"
   },
   {
    "duration": 4,
    "start_time": "2022-06-27T19:53:56.317Z"
   },
   {
    "duration": 16,
    "start_time": "2022-06-27T19:54:29.985Z"
   },
   {
    "duration": 29,
    "start_time": "2022-06-27T19:58:43.347Z"
   },
   {
    "duration": 23,
    "start_time": "2022-06-27T19:59:39.346Z"
   },
   {
    "duration": 27,
    "start_time": "2022-06-27T20:01:53.043Z"
   },
   {
    "duration": 35,
    "start_time": "2022-06-27T20:02:29.955Z"
   },
   {
    "duration": 43,
    "start_time": "2022-06-27T20:05:03.379Z"
   },
   {
    "duration": 40,
    "start_time": "2022-06-27T20:05:08.352Z"
   },
   {
    "duration": 56,
    "start_time": "2022-06-27T20:05:46.848Z"
   },
   {
    "duration": 48,
    "start_time": "2022-06-27T20:06:11.892Z"
   },
   {
    "duration": 49,
    "start_time": "2022-06-28T15:56:26.490Z"
   },
   {
    "duration": 7,
    "start_time": "2022-06-28T15:59:09.846Z"
   },
   {
    "duration": 426,
    "start_time": "2022-06-28T15:59:39.005Z"
   },
   {
    "duration": 190,
    "start_time": "2022-06-28T15:59:39.433Z"
   },
   {
    "duration": 8,
    "start_time": "2022-06-28T15:59:39.625Z"
   },
   {
    "duration": 56,
    "start_time": "2022-06-28T15:59:39.634Z"
   },
   {
    "duration": 38,
    "start_time": "2022-06-28T15:59:39.692Z"
   },
   {
    "duration": 26,
    "start_time": "2022-06-28T15:59:39.732Z"
   },
   {
    "duration": 63,
    "start_time": "2022-06-28T15:59:39.759Z"
   },
   {
    "duration": 33,
    "start_time": "2022-06-28T15:59:39.823Z"
   },
   {
    "duration": 79,
    "start_time": "2022-06-28T15:59:39.858Z"
   },
   {
    "duration": 27,
    "start_time": "2022-06-28T15:59:39.938Z"
   },
   {
    "duration": 44,
    "start_time": "2022-06-28T15:59:39.967Z"
   },
   {
    "duration": 98,
    "start_time": "2022-06-28T15:59:40.013Z"
   },
   {
    "duration": 64,
    "start_time": "2022-06-28T15:59:40.112Z"
   },
   {
    "duration": 60,
    "start_time": "2022-06-28T15:59:40.179Z"
   },
   {
    "duration": 39,
    "start_time": "2022-06-28T15:59:40.241Z"
   },
   {
    "duration": 35,
    "start_time": "2022-06-28T15:59:40.281Z"
   },
   {
    "duration": 62,
    "start_time": "2022-06-28T15:59:40.317Z"
   },
   {
    "duration": 20,
    "start_time": "2022-06-28T15:59:40.381Z"
   },
   {
    "duration": 44,
    "start_time": "2022-06-28T15:59:40.403Z"
   },
   {
    "duration": 83,
    "start_time": "2022-06-28T15:59:40.448Z"
   },
   {
    "duration": 0,
    "start_time": "2022-06-28T15:59:40.533Z"
   },
   {
    "duration": 0,
    "start_time": "2022-06-28T15:59:40.534Z"
   },
   {
    "duration": 0,
    "start_time": "2022-06-28T15:59:40.536Z"
   },
   {
    "duration": 0,
    "start_time": "2022-06-28T15:59:40.537Z"
   },
   {
    "duration": 0,
    "start_time": "2022-06-28T15:59:40.538Z"
   },
   {
    "duration": 0,
    "start_time": "2022-06-28T15:59:40.540Z"
   },
   {
    "duration": 0,
    "start_time": "2022-06-28T15:59:40.541Z"
   },
   {
    "duration": 0,
    "start_time": "2022-06-28T15:59:40.543Z"
   },
   {
    "duration": 0,
    "start_time": "2022-06-28T15:59:40.544Z"
   },
   {
    "duration": 0,
    "start_time": "2022-06-28T15:59:40.545Z"
   },
   {
    "duration": 0,
    "start_time": "2022-06-28T15:59:40.546Z"
   },
   {
    "duration": 0,
    "start_time": "2022-06-28T15:59:40.547Z"
   },
   {
    "duration": 0,
    "start_time": "2022-06-28T15:59:40.548Z"
   },
   {
    "duration": 0,
    "start_time": "2022-06-28T15:59:40.549Z"
   },
   {
    "duration": 0,
    "start_time": "2022-06-28T15:59:40.550Z"
   },
   {
    "duration": 0,
    "start_time": "2022-06-28T15:59:40.551Z"
   },
   {
    "duration": 0,
    "start_time": "2022-06-28T15:59:40.552Z"
   },
   {
    "duration": 0,
    "start_time": "2022-06-28T15:59:40.553Z"
   },
   {
    "duration": 28,
    "start_time": "2022-06-28T15:59:50.638Z"
   },
   {
    "duration": 27,
    "start_time": "2022-06-28T16:00:17.382Z"
   },
   {
    "duration": 56,
    "start_time": "2022-06-28T16:01:13.565Z"
   },
   {
    "duration": 28,
    "start_time": "2022-06-28T16:02:23.084Z"
   },
   {
    "duration": 33,
    "start_time": "2022-06-28T16:02:40.193Z"
   },
   {
    "duration": 33,
    "start_time": "2022-06-28T16:04:10.505Z"
   },
   {
    "duration": 32,
    "start_time": "2022-06-28T16:04:53.397Z"
   },
   {
    "duration": 37,
    "start_time": "2022-06-28T16:05:16.200Z"
   },
   {
    "duration": 28,
    "start_time": "2022-06-28T16:05:31.044Z"
   },
   {
    "duration": 35,
    "start_time": "2022-06-28T16:06:12.344Z"
   },
   {
    "duration": 31,
    "start_time": "2022-06-28T16:09:20.803Z"
   },
   {
    "duration": 32,
    "start_time": "2022-06-28T16:10:52.287Z"
   },
   {
    "duration": 26,
    "start_time": "2022-06-28T16:13:01.111Z"
   },
   {
    "duration": 14,
    "start_time": "2022-06-28T16:14:14.723Z"
   },
   {
    "duration": 8,
    "start_time": "2022-06-28T16:16:22.573Z"
   },
   {
    "duration": 9,
    "start_time": "2022-06-28T16:17:41.537Z"
   },
   {
    "duration": 21,
    "start_time": "2022-06-28T16:19:00.495Z"
   },
   {
    "duration": 14,
    "start_time": "2022-06-28T16:19:41.072Z"
   },
   {
    "duration": 62,
    "start_time": "2022-06-28T16:21:37.973Z"
   },
   {
    "duration": 14,
    "start_time": "2022-06-28T16:28:46.592Z"
   },
   {
    "duration": 4,
    "start_time": "2022-06-28T16:36:26.380Z"
   },
   {
    "duration": 17,
    "start_time": "2022-06-28T16:36:41.233Z"
   },
   {
    "duration": 13,
    "start_time": "2022-06-28T16:36:55.831Z"
   },
   {
    "duration": 15,
    "start_time": "2022-06-28T16:36:59.436Z"
   },
   {
    "duration": 15,
    "start_time": "2022-06-28T16:37:03.289Z"
   },
   {
    "duration": 19,
    "start_time": "2022-06-28T16:37:08.532Z"
   },
   {
    "duration": 16,
    "start_time": "2022-06-28T16:37:11.990Z"
   },
   {
    "duration": 5,
    "start_time": "2022-06-28T16:43:28.703Z"
   },
   {
    "duration": 7,
    "start_time": "2022-06-28T16:43:52.256Z"
   },
   {
    "duration": 6,
    "start_time": "2022-06-28T16:45:45.619Z"
   },
   {
    "duration": 7,
    "start_time": "2022-06-28T16:47:45.556Z"
   },
   {
    "duration": 753,
    "start_time": "2022-06-28T16:47:59.611Z"
   },
   {
    "duration": 15,
    "start_time": "2022-06-28T16:48:25.856Z"
   },
   {
    "duration": 14,
    "start_time": "2022-06-28T16:49:33.782Z"
   },
   {
    "duration": 3,
    "start_time": "2022-06-28T16:49:43.970Z"
   },
   {
    "duration": 11,
    "start_time": "2022-06-28T16:49:49.854Z"
   },
   {
    "duration": 16,
    "start_time": "2022-06-28T16:49:58.309Z"
   },
   {
    "duration": 4,
    "start_time": "2022-06-28T17:04:39.073Z"
   },
   {
    "duration": 5,
    "start_time": "2022-06-28T17:05:28.475Z"
   },
   {
    "duration": 6,
    "start_time": "2022-06-28T17:05:31.359Z"
   },
   {
    "duration": 4,
    "start_time": "2022-06-28T17:06:28.154Z"
   },
   {
    "duration": 2,
    "start_time": "2022-06-28T17:06:34.080Z"
   },
   {
    "duration": 187,
    "start_time": "2022-06-28T17:06:34.084Z"
   },
   {
    "duration": 7,
    "start_time": "2022-06-28T17:06:34.273Z"
   },
   {
    "duration": 57,
    "start_time": "2022-06-28T17:06:34.281Z"
   },
   {
    "duration": 7,
    "start_time": "2022-06-28T17:06:34.340Z"
   },
   {
    "duration": 29,
    "start_time": "2022-06-28T17:06:34.348Z"
   },
   {
    "duration": 24,
    "start_time": "2022-06-28T17:06:34.379Z"
   },
   {
    "duration": 34,
    "start_time": "2022-06-28T17:06:34.405Z"
   },
   {
    "duration": 41,
    "start_time": "2022-06-28T17:06:34.441Z"
   },
   {
    "duration": 40,
    "start_time": "2022-06-28T17:06:34.484Z"
   },
   {
    "duration": 44,
    "start_time": "2022-06-28T17:06:34.527Z"
   },
   {
    "duration": 65,
    "start_time": "2022-06-28T17:06:34.573Z"
   },
   {
    "duration": 58,
    "start_time": "2022-06-28T17:06:34.640Z"
   },
   {
    "duration": 58,
    "start_time": "2022-06-28T17:06:34.700Z"
   },
   {
    "duration": 39,
    "start_time": "2022-06-28T17:06:34.760Z"
   },
   {
    "duration": 26,
    "start_time": "2022-06-28T17:06:34.801Z"
   },
   {
    "duration": 41,
    "start_time": "2022-06-28T17:06:34.829Z"
   },
   {
    "duration": 12,
    "start_time": "2022-06-28T17:06:34.871Z"
   },
   {
    "duration": 28,
    "start_time": "2022-06-28T17:06:34.884Z"
   },
   {
    "duration": 14,
    "start_time": "2022-06-28T17:06:34.914Z"
   },
   {
    "duration": 43,
    "start_time": "2022-06-28T17:06:34.929Z"
   },
   {
    "duration": 14,
    "start_time": "2022-06-28T17:06:34.974Z"
   },
   {
    "duration": 30,
    "start_time": "2022-06-28T17:06:34.990Z"
   },
   {
    "duration": 30,
    "start_time": "2022-06-28T17:06:35.022Z"
   },
   {
    "duration": 23,
    "start_time": "2022-06-28T17:06:35.054Z"
   },
   {
    "duration": 25,
    "start_time": "2022-06-28T17:06:35.079Z"
   },
   {
    "duration": 7,
    "start_time": "2022-06-28T17:06:35.106Z"
   },
   {
    "duration": 14,
    "start_time": "2022-06-28T17:06:35.114Z"
   },
   {
    "duration": 9,
    "start_time": "2022-06-28T17:06:35.131Z"
   },
   {
    "duration": 4,
    "start_time": "2022-06-28T17:06:35.142Z"
   },
   {
    "duration": 5,
    "start_time": "2022-06-28T17:06:35.147Z"
   },
   {
    "duration": 8,
    "start_time": "2022-06-28T17:06:35.154Z"
   },
   {
    "duration": 12,
    "start_time": "2022-06-28T17:06:35.164Z"
   },
   {
    "duration": 7,
    "start_time": "2022-06-28T17:06:35.178Z"
   },
   {
    "duration": 9,
    "start_time": "2022-06-28T17:06:35.187Z"
   },
   {
    "duration": 5,
    "start_time": "2022-06-28T17:06:35.198Z"
   },
   {
    "duration": 4,
    "start_time": "2022-06-28T17:06:35.205Z"
   },
   {
    "duration": 5,
    "start_time": "2022-06-28T17:06:35.210Z"
   },
   {
    "duration": 3,
    "start_time": "2022-06-28T17:06:40.485Z"
   },
   {
    "duration": 3,
    "start_time": "2022-06-28T17:08:34.050Z"
   },
   {
    "duration": 4,
    "start_time": "2022-06-28T17:08:38.206Z"
   },
   {
    "duration": 18,
    "start_time": "2022-06-28T17:11:39.357Z"
   },
   {
    "duration": 12,
    "start_time": "2022-06-28T17:13:04.355Z"
   },
   {
    "duration": 2,
    "start_time": "2022-06-28T17:14:10.705Z"
   },
   {
    "duration": 171,
    "start_time": "2022-06-28T17:14:10.709Z"
   },
   {
    "duration": 8,
    "start_time": "2022-06-28T17:14:10.882Z"
   },
   {
    "duration": 48,
    "start_time": "2022-06-28T17:14:10.891Z"
   },
   {
    "duration": 2,
    "start_time": "2022-06-28T17:14:10.942Z"
   },
   {
    "duration": 7,
    "start_time": "2022-06-28T17:14:10.946Z"
   },
   {
    "duration": 9,
    "start_time": "2022-06-28T17:14:10.954Z"
   },
   {
    "duration": 4,
    "start_time": "2022-06-28T17:14:10.965Z"
   },
   {
    "duration": 27,
    "start_time": "2022-06-28T17:14:10.970Z"
   },
   {
    "duration": 40,
    "start_time": "2022-06-28T17:14:10.999Z"
   },
   {
    "duration": 22,
    "start_time": "2022-06-28T17:14:11.041Z"
   },
   {
    "duration": 75,
    "start_time": "2022-06-28T17:14:11.064Z"
   },
   {
    "duration": 58,
    "start_time": "2022-06-28T17:14:11.140Z"
   },
   {
    "duration": 72,
    "start_time": "2022-06-28T17:14:11.199Z"
   },
   {
    "duration": 39,
    "start_time": "2022-06-28T17:14:11.273Z"
   },
   {
    "duration": 21,
    "start_time": "2022-06-28T17:14:11.314Z"
   },
   {
    "duration": 40,
    "start_time": "2022-06-28T17:14:11.336Z"
   },
   {
    "duration": 11,
    "start_time": "2022-06-28T17:14:11.377Z"
   },
   {
    "duration": 10,
    "start_time": "2022-06-28T17:14:11.390Z"
   },
   {
    "duration": 4,
    "start_time": "2022-06-28T17:14:11.427Z"
   },
   {
    "duration": 22,
    "start_time": "2022-06-28T17:14:11.432Z"
   },
   {
    "duration": 17,
    "start_time": "2022-06-28T17:14:11.456Z"
   },
   {
    "duration": 20,
    "start_time": "2022-06-28T17:14:11.475Z"
   },
   {
    "duration": 31,
    "start_time": "2022-06-28T17:14:11.497Z"
   },
   {
    "duration": 16,
    "start_time": "2022-06-28T17:14:11.530Z"
   },
   {
    "duration": 14,
    "start_time": "2022-06-28T17:14:11.547Z"
   },
   {
    "duration": 7,
    "start_time": "2022-06-28T17:14:11.562Z"
   },
   {
    "duration": 18,
    "start_time": "2022-06-28T17:14:11.570Z"
   },
   {
    "duration": 42,
    "start_time": "2022-06-28T17:14:11.591Z"
   },
   {
    "duration": 3,
    "start_time": "2022-06-28T17:14:11.635Z"
   },
   {
    "duration": 21,
    "start_time": "2022-06-28T17:14:11.640Z"
   },
   {
    "duration": 10,
    "start_time": "2022-06-28T17:14:11.663Z"
   },
   {
    "duration": 4,
    "start_time": "2022-06-28T17:14:11.674Z"
   },
   {
    "duration": 5,
    "start_time": "2022-06-28T17:14:11.679Z"
   },
   {
    "duration": 5,
    "start_time": "2022-06-28T17:14:11.685Z"
   },
   {
    "duration": 4,
    "start_time": "2022-06-28T17:14:11.691Z"
   },
   {
    "duration": 8,
    "start_time": "2022-06-28T17:14:11.697Z"
   },
   {
    "duration": 21,
    "start_time": "2022-06-28T17:14:11.706Z"
   },
   {
    "duration": 13,
    "start_time": "2022-06-28T17:14:32.088Z"
   },
   {
    "duration": 11,
    "start_time": "2022-06-28T17:15:48.964Z"
   },
   {
    "duration": 15,
    "start_time": "2022-06-28T17:16:56.280Z"
   },
   {
    "duration": 17,
    "start_time": "2022-06-28T17:17:00.374Z"
   },
   {
    "duration": 17,
    "start_time": "2022-06-28T17:17:20.354Z"
   },
   {
    "duration": 7,
    "start_time": "2022-06-28T17:25:20.048Z"
   },
   {
    "duration": 7,
    "start_time": "2022-06-28T17:27:25.701Z"
   },
   {
    "duration": 28,
    "start_time": "2022-06-28T17:29:46.766Z"
   },
   {
    "duration": 9,
    "start_time": "2022-06-28T17:30:09.075Z"
   },
   {
    "duration": 3,
    "start_time": "2022-06-28T17:31:20.785Z"
   },
   {
    "duration": 166,
    "start_time": "2022-06-28T17:31:20.791Z"
   },
   {
    "duration": 6,
    "start_time": "2022-06-28T17:31:20.959Z"
   },
   {
    "duration": 36,
    "start_time": "2022-06-28T17:31:20.967Z"
   },
   {
    "duration": 2,
    "start_time": "2022-06-28T17:31:21.005Z"
   },
   {
    "duration": 19,
    "start_time": "2022-06-28T17:31:21.009Z"
   },
   {
    "duration": 13,
    "start_time": "2022-06-28T17:31:21.030Z"
   },
   {
    "duration": 3,
    "start_time": "2022-06-28T17:31:21.045Z"
   },
   {
    "duration": 40,
    "start_time": "2022-06-28T17:31:21.049Z"
   },
   {
    "duration": 19,
    "start_time": "2022-06-28T17:31:21.090Z"
   },
   {
    "duration": 43,
    "start_time": "2022-06-28T17:31:21.112Z"
   },
   {
    "duration": 58,
    "start_time": "2022-06-28T17:31:21.157Z"
   },
   {
    "duration": 78,
    "start_time": "2022-06-28T17:31:21.217Z"
   },
   {
    "duration": 74,
    "start_time": "2022-06-28T17:31:21.296Z"
   },
   {
    "duration": 39,
    "start_time": "2022-06-28T17:31:21.372Z"
   },
   {
    "duration": 24,
    "start_time": "2022-06-28T17:31:21.412Z"
   },
   {
    "duration": 36,
    "start_time": "2022-06-28T17:31:21.437Z"
   },
   {
    "duration": 10,
    "start_time": "2022-06-28T17:31:21.475Z"
   },
   {
    "duration": 10,
    "start_time": "2022-06-28T17:31:21.487Z"
   },
   {
    "duration": 3,
    "start_time": "2022-06-28T17:31:21.499Z"
   },
   {
    "duration": 17,
    "start_time": "2022-06-28T17:31:21.528Z"
   },
   {
    "duration": 16,
    "start_time": "2022-06-28T17:31:21.546Z"
   },
   {
    "duration": 15,
    "start_time": "2022-06-28T17:31:21.563Z"
   },
   {
    "duration": 12,
    "start_time": "2022-06-28T17:31:21.579Z"
   },
   {
    "duration": 45,
    "start_time": "2022-06-28T17:31:21.593Z"
   },
   {
    "duration": 14,
    "start_time": "2022-06-28T17:31:21.640Z"
   },
   {
    "duration": 6,
    "start_time": "2022-06-28T17:31:21.656Z"
   },
   {
    "duration": 17,
    "start_time": "2022-06-28T17:31:21.663Z"
   },
   {
    "duration": 12,
    "start_time": "2022-06-28T17:31:21.682Z"
   },
   {
    "duration": 3,
    "start_time": "2022-06-28T17:31:21.695Z"
   },
   {
    "duration": 42,
    "start_time": "2022-06-28T17:31:21.700Z"
   },
   {
    "duration": 11,
    "start_time": "2022-06-28T17:31:21.743Z"
   },
   {
    "duration": 14,
    "start_time": "2022-06-28T17:31:21.755Z"
   },
   {
    "duration": 10,
    "start_time": "2022-06-28T17:31:21.771Z"
   },
   {
    "duration": 9,
    "start_time": "2022-06-28T17:31:21.782Z"
   },
   {
    "duration": 35,
    "start_time": "2022-06-28T17:31:21.793Z"
   },
   {
    "duration": 6,
    "start_time": "2022-06-28T17:31:21.829Z"
   },
   {
    "duration": 7,
    "start_time": "2022-06-28T17:31:21.837Z"
   },
   {
    "duration": 8,
    "start_time": "2022-06-28T17:31:28.973Z"
   },
   {
    "duration": 9,
    "start_time": "2022-06-28T17:34:17.041Z"
   },
   {
    "duration": 8,
    "start_time": "2022-06-28T17:34:27.807Z"
   },
   {
    "duration": 8,
    "start_time": "2022-06-28T17:36:50.002Z"
   },
   {
    "duration": 8,
    "start_time": "2022-06-28T17:37:17.649Z"
   },
   {
    "duration": 2,
    "start_time": "2022-06-28T17:38:18.430Z"
   },
   {
    "duration": 159,
    "start_time": "2022-06-28T17:38:18.441Z"
   },
   {
    "duration": 6,
    "start_time": "2022-06-28T17:38:18.602Z"
   },
   {
    "duration": 41,
    "start_time": "2022-06-28T17:38:18.610Z"
   },
   {
    "duration": 4,
    "start_time": "2022-06-28T17:38:18.653Z"
   },
   {
    "duration": 6,
    "start_time": "2022-06-28T17:38:18.659Z"
   },
   {
    "duration": 10,
    "start_time": "2022-06-28T17:38:18.667Z"
   },
   {
    "duration": 3,
    "start_time": "2022-06-28T17:38:18.679Z"
   },
   {
    "duration": 28,
    "start_time": "2022-06-28T17:38:18.683Z"
   },
   {
    "duration": 19,
    "start_time": "2022-06-28T17:38:18.727Z"
   },
   {
    "duration": 25,
    "start_time": "2022-06-28T17:38:18.748Z"
   },
   {
    "duration": 79,
    "start_time": "2022-06-28T17:38:18.775Z"
   },
   {
    "duration": 71,
    "start_time": "2022-06-28T17:38:18.856Z"
   },
   {
    "duration": 56,
    "start_time": "2022-06-28T17:38:18.929Z"
   },
   {
    "duration": 52,
    "start_time": "2022-06-28T17:38:18.989Z"
   },
   {
    "duration": 11,
    "start_time": "2022-06-28T17:38:19.043Z"
   },
   {
    "duration": 37,
    "start_time": "2022-06-28T17:38:19.055Z"
   },
   {
    "duration": 37,
    "start_time": "2022-06-28T17:38:19.094Z"
   },
   {
    "duration": 12,
    "start_time": "2022-06-28T17:38:19.133Z"
   },
   {
    "duration": 4,
    "start_time": "2022-06-28T17:38:19.146Z"
   },
   {
    "duration": 18,
    "start_time": "2022-06-28T17:38:19.152Z"
   },
   {
    "duration": 15,
    "start_time": "2022-06-28T17:38:19.172Z"
   },
   {
    "duration": 42,
    "start_time": "2022-06-28T17:38:19.189Z"
   },
   {
    "duration": 14,
    "start_time": "2022-06-28T17:38:19.232Z"
   },
   {
    "duration": 19,
    "start_time": "2022-06-28T17:38:19.247Z"
   },
   {
    "duration": 14,
    "start_time": "2022-06-28T17:38:19.268Z"
   },
   {
    "duration": 7,
    "start_time": "2022-06-28T17:38:19.284Z"
   },
   {
    "duration": 40,
    "start_time": "2022-06-28T17:38:19.292Z"
   },
   {
    "duration": 12,
    "start_time": "2022-06-28T17:38:19.334Z"
   },
   {
    "duration": 4,
    "start_time": "2022-06-28T17:38:19.347Z"
   },
   {
    "duration": 23,
    "start_time": "2022-06-28T17:38:19.353Z"
   },
   {
    "duration": 11,
    "start_time": "2022-06-28T17:38:19.377Z"
   },
   {
    "duration": 39,
    "start_time": "2022-06-28T17:38:19.390Z"
   },
   {
    "duration": 13,
    "start_time": "2022-06-28T17:38:19.430Z"
   },
   {
    "duration": 11,
    "start_time": "2022-06-28T17:38:19.444Z"
   },
   {
    "duration": 0,
    "start_time": "2022-06-28T17:38:19.456Z"
   },
   {
    "duration": 0,
    "start_time": "2022-06-28T17:38:19.458Z"
   },
   {
    "duration": 0,
    "start_time": "2022-06-28T17:38:19.458Z"
   },
   {
    "duration": 12,
    "start_time": "2022-06-28T17:38:24.800Z"
   },
   {
    "duration": 9,
    "start_time": "2022-06-28T17:39:24.704Z"
   },
   {
    "duration": 9,
    "start_time": "2022-06-28T17:39:27.870Z"
   },
   {
    "duration": 5,
    "start_time": "2022-06-28T17:39:51.791Z"
   },
   {
    "duration": 7,
    "start_time": "2022-06-28T17:40:45.346Z"
   },
   {
    "duration": 4,
    "start_time": "2022-06-28T17:41:31.810Z"
   }
  ],
  "colab": {
   "collapsed_sections": [
    "E0vqbgi9ay0H",
    "VUC88oWjTJw2"
   ],
   "name": "automatization_template_upd4.ipynb",
   "provenance": []
  },
  "kernelspec": {
   "display_name": "Python 3 (ipykernel)",
   "language": "python",
   "name": "python3"
  },
  "language_info": {
   "codemirror_mode": {
    "name": "ipython",
    "version": 3
   },
   "file_extension": ".py",
   "mimetype": "text/x-python",
   "name": "python",
   "nbconvert_exporter": "python",
   "pygments_lexer": "ipython3",
   "version": "3.9.5"
  },
  "toc": {
   "base_numbering": 1,
   "nav_menu": {
    "height": "215px",
    "width": "403px"
   },
   "number_sections": true,
   "sideBar": true,
   "skip_h1_title": true,
   "title_cell": "Table of Contents",
   "title_sidebar": "Contents",
   "toc_cell": false,
   "toc_position": {
    "height": "calc(100% - 180px)",
    "left": "10px",
    "top": "150px",
    "width": "285.825px"
   },
   "toc_section_display": true,
   "toc_window_display": false
  }
 },
 "nbformat": 4,
 "nbformat_minor": 1
}
