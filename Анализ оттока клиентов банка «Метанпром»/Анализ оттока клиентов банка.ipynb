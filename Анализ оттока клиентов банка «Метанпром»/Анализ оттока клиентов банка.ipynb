{
 "cells": [
  {
   "cell_type": "markdown",
   "metadata": {},
   "source": [
    "# Анализ оттока клиентов банка «Метанпром»"
   ]
  },
  {
   "cell_type": "markdown",
   "metadata": {},
   "source": [
    "**Задача:**\n",
    "\n",
    "Определить сегменты клиентов, которые склонны уходить из банка."
   ]
  },
  {
   "cell_type": "markdown",
   "metadata": {},
   "source": [
    "**Заказчик:** отдел маркетинга банка «Метанпром»"
   ]
  },
  {
   "cell_type": "markdown",
   "metadata": {},
   "source": [
    "**Данные:** \n",
    "Датасет [bank_scrooge.csv](https://drive.google.com/uc?export=download&id=1-U61mhTz_N1ARjy2XSAZ7IlQqGjeqP0F) с данными о клиентах банка «Метанпром».\n",
    "Колонки:\n",
    "\n",
    "- `USERID` — идентификатор пользователя,\n",
    "- `score` — баллы кредитного скоринга,\n",
    "- `city` — город,\n",
    "- `gender` — пол,\n",
    "- `age` — возраст,\n",
    "- `equity`  — количество баллов собственности\n",
    "- `balance` — баланс на счёте,\n",
    "- `products` — количество продуктов, которыми пользуется клиент,\n",
    "- `credit_card` — есть ли кредитная карта,\n",
    "- `last_activity` — активный клиент,\n",
    "- `Est_salary` — заработная плата клиента,\n",
    "- `churn` — ушёл или нет."
   ]
  },
  {
   "cell_type": "markdown",
   "metadata": {},
   "source": [
    "<a id=\"enter\"></a>\n",
    "\n",
    "**Содержание:**\n",
    "1. [Предобработка данных](#first)\n",
    "2. [Исследовательский анализ данных (EDA)](#eda)\n",
    "3. [Итоги по EDA](#icon)\n",
    "4. [Сегментация признаков](#segm)\n",
    "5. [Общие выводы](#concl)"
   ]
  },
  {
   "cell_type": "markdown",
   "metadata": {},
   "source": [
    "**Описание этапов работы:**\n",
    "\n",
    "Для выполнения задачи проекта по разделам сделано следущее:\n",
    "\n",
    "```\n",
    "        1. Предобработка данных:\n",
    "        \n",
    " - Загрузка данных      \n",
    " - Перевод заголовков столбцов в нужный формат\n",
    " - Проверка типов данных\n",
    " - Поиск дубликатов в датафрейме\n",
    " - Изучение и обработка пропусков в датафрейме с объяснением причины\n",
    " - Изучение категориальных и количественных значений\n",
    " - Добавление столбцов категорий по полу и городам запоненных через фиктивную переменную     \n",
    "\n",
    "        2. Исследовательский анализ:\n",
    "- Определение типичного портрета клиента и отточного\n",
    "- Определение параметров, при которых относительный отток превышает общий отток.\n",
    "- Расчет корреляции столбца churn со всеми признаками датафрейма.\n",
    "- Отбор наиболее многочисленных по оттоку признаков.\n",
    "\n",
    "        3. Проверка гипотез:\n",
    "- Формулирока гипотез по каждому признаку\n",
    "- Тестирования гипотез\n",
    "- Уточнение признаков влияющих на отток \n",
    "\n",
    "        4. Сегментация признаков\n",
    "- Выбор наиболее выраженных сегметов на основе полученных признаков \n",
    "\n",
    "        5. Общие выводы\n",
    " ```      "
   ]
  },
  {
   "cell_type": "markdown",
   "metadata": {},
   "source": [
    "**Библиотеки, используемые в проекте**"
   ]
  },
  {
   "cell_type": "code",
   "execution_count": 1,
   "metadata": {},
   "outputs": [],
   "source": [
    "!pip install phik --quiet"
   ]
  },
  {
   "cell_type": "code",
   "execution_count": 2,
   "metadata": {},
   "outputs": [],
   "source": [
    "import pandas as pd\n",
    "import seaborn as sns\n",
    "import matplotlib.pyplot as plt\n",
    "import numpy as np\n",
    "from sklearn.model_selection import train_test_split\n",
    "import matplotlib.ticker as ticker\n",
    "import scipy.stats as stats\n",
    "from sklearn.ensemble import RandomForestClassifier\n",
    "from statsmodels.stats.proportion import proportions_ztest\n",
    "import sys\n",
    "from scipy import stats as st\n",
    "import phik\n",
    "import math as mth"
   ]
  },
  {
   "cell_type": "markdown",
   "metadata": {},
   "source": [
    "**Функции, используемые в проекте**"
   ]
  },
  {
   "cell_type": "code",
   "execution_count": 3,
   "metadata": {},
   "outputs": [],
   "source": [
    "# график для пропусков в столбце balance\n",
    "def sp_pl (f, col, tip):\n",
    "    f.query('balance.isna()')[col].value_counts().sort_index().plot(kind=tip, color='r', label='пропуски')\n",
    "    df[col].value_counts().sort_index().plot(kind=tip,\n",
    "                                      label='количество клиентов', alpha=0.5)\n",
    "    plt.grid()\n",
    "    plt.legend()\n",
    "    plt.ylabel('Количество пропусков/клиентов');    \n",
    "# график плотностей kde\n",
    "def dens_kde (f, a, axes, mi, ma):\n",
    "    f[a].plot.kde(\n",
    "               title = f\"{a}\", \n",
    "               ax = axes, xlim=([mi, ma]), label='сумма', legend=True,\n",
    "             fontsize=16)\n",
    "    f.query('churn==1')[a].plot.kde( \n",
    "               ax = axes, color='r', xlim=([mi, ma]), label='отток', legend=True,\n",
    "             fontsize=16)\n",
    "    axes.grid()\n",
    "    plt.tight_layout()\n",
    "    \n",
    "# график плотностей hist  \n",
    "def dens_hist (f, a, axes, b):\n",
    "    f.query('churn==1')[a].hist(ax = axes, color='r', density=True, label='отток', bins=b)\n",
    "    f[a].hist(ax = axes, density=True, label='сумма', alpha=0.5, bins=b)\n",
    "    axes.set_title(a)\n",
    "    plt.tight_layout()\n",
    "    \n",
    "# столбчатый график\n",
    "def bar_plot (a, ax):\n",
    "    df.groupby(a)['churn'].mean().plot(kind='bar', x='index', y='mean', ax=ax, fontsize=16).set_title(a,\n",
    "                        fontsize=22, color='SteelBlue')\n",
    "    for i in ax.patches:\n",
    "        ax.text(i.get_x()+i.get_width()/2.,\n",
    "             i.get_height()+0.001,\n",
    "             str(round((i.get_height()), 2)),\n",
    "             ha='center',\n",
    "             fontsize=16)\n",
    "    ax.axhline(y = df['churn'].mean(), color = 'r', linestyle = '-')\n",
    "    ax.text(0.2, 0.2,'{}'.format(round(df['churn'].mean(), 2)), rotation=360, fontsize=16);    \n",
    "# z-тест\n",
    "def z_test(a):\n",
    "    alpha=0.05\n",
    "    successes = np.array([df1[df1['churn']==0][a].sum(), df1[df1['churn']==1][a].sum()])\n",
    "    trials = np.array([df1[df1['churn']==0][a].count(), df1[df1['churn']==1][a].count()])\n",
    "    p1 = successes[0]/trials[0]\n",
    "    p2 = successes[1]/trials[1]\n",
    "    p_combined = (successes[0] + successes[1]) / (trials[0] + trials[1])\n",
    "    difference = p1-p2\n",
    "    z_value = difference / mth.sqrt(p_combined * (1 - p_combined) * (1/trials[0] + 1/trials[1]))\n",
    "    distr = st.norm(0, 1)\n",
    "    p_value = (1 - distr.cdf(abs(z_value))) * 2\n",
    "    print('p-значение: ', p_value)\n",
    "    if p_value < alpha:\n",
    "        print('Отвергаем нулевую гипотезу: между долями есть значимая разница')\n",
    "    else:\n",
    "        print(\n",
    "        'Не получилось отвергнуть нулевую гипотезу, нет оснований считать доли разными') "
   ]
  },
  {
   "cell_type": "markdown",
   "metadata": {},
   "source": [
    "[к содержанию](#enter)"
   ]
  },
  {
   "cell_type": "markdown",
   "metadata": {},
   "source": [
    "<a id='first'></a>\n",
    "## Предобработка данных"
   ]
  },
  {
   "cell_type": "markdown",
   "metadata": {},
   "source": [
    "### Знакомство с данными"
   ]
  },
  {
   "cell_type": "code",
   "execution_count": 4,
   "metadata": {},
   "outputs": [],
   "source": [
    "path = \"https://drive.google.com/uc?export=download&id=1-U61mhTz_N1ARjy2XSAZ7IlQqGjeqP0F\" \n",
    "df = pd.read_csv(path)"
   ]
  },
  {
   "cell_type": "code",
   "execution_count": 5,
   "metadata": {
    "scrolled": true
   },
   "outputs": [
    {
     "data": {
      "text/html": [
       "<div>\n",
       "<style scoped>\n",
       "    .dataframe tbody tr th:only-of-type {\n",
       "        vertical-align: middle;\n",
       "    }\n",
       "\n",
       "    .dataframe tbody tr th {\n",
       "        vertical-align: top;\n",
       "    }\n",
       "\n",
       "    .dataframe thead th {\n",
       "        text-align: right;\n",
       "    }\n",
       "</style>\n",
       "<table border=\"1\" class=\"dataframe\">\n",
       "  <thead>\n",
       "    <tr style=\"text-align: right;\">\n",
       "      <th></th>\n",
       "      <th>USERID</th>\n",
       "      <th>score</th>\n",
       "      <th>city</th>\n",
       "      <th>gender</th>\n",
       "      <th>age</th>\n",
       "      <th>equity</th>\n",
       "      <th>balance</th>\n",
       "      <th>products</th>\n",
       "      <th>credit_card</th>\n",
       "      <th>last_activity</th>\n",
       "      <th>EST_SALARY</th>\n",
       "      <th>churn</th>\n",
       "    </tr>\n",
       "  </thead>\n",
       "  <tbody>\n",
       "    <tr>\n",
       "      <th>0</th>\n",
       "      <td>183012</td>\n",
       "      <td>850.0</td>\n",
       "      <td>Рыбинск</td>\n",
       "      <td>Ж</td>\n",
       "      <td>25.0</td>\n",
       "      <td>1</td>\n",
       "      <td>59214.82</td>\n",
       "      <td>2</td>\n",
       "      <td>0</td>\n",
       "      <td>1</td>\n",
       "      <td>75719.14</td>\n",
       "      <td>1</td>\n",
       "    </tr>\n",
       "    <tr>\n",
       "      <th>1</th>\n",
       "      <td>146556</td>\n",
       "      <td>861.0</td>\n",
       "      <td>Рыбинск</td>\n",
       "      <td>Ж</td>\n",
       "      <td>37.0</td>\n",
       "      <td>5</td>\n",
       "      <td>850594.33</td>\n",
       "      <td>3</td>\n",
       "      <td>1</td>\n",
       "      <td>0</td>\n",
       "      <td>86621.77</td>\n",
       "      <td>0</td>\n",
       "    </tr>\n",
       "    <tr>\n",
       "      <th>2</th>\n",
       "      <td>120722</td>\n",
       "      <td>892.0</td>\n",
       "      <td>Рыбинск</td>\n",
       "      <td>Ж</td>\n",
       "      <td>30.0</td>\n",
       "      <td>0</td>\n",
       "      <td>NaN</td>\n",
       "      <td>1</td>\n",
       "      <td>1</td>\n",
       "      <td>1</td>\n",
       "      <td>107683.34</td>\n",
       "      <td>0</td>\n",
       "    </tr>\n",
       "    <tr>\n",
       "      <th>3</th>\n",
       "      <td>225363</td>\n",
       "      <td>866.0</td>\n",
       "      <td>Ярославль</td>\n",
       "      <td>Ж</td>\n",
       "      <td>51.0</td>\n",
       "      <td>5</td>\n",
       "      <td>1524746.26</td>\n",
       "      <td>2</td>\n",
       "      <td>0</td>\n",
       "      <td>1</td>\n",
       "      <td>174423.53</td>\n",
       "      <td>1</td>\n",
       "    </tr>\n",
       "    <tr>\n",
       "      <th>4</th>\n",
       "      <td>157978</td>\n",
       "      <td>730.0</td>\n",
       "      <td>Ярославль</td>\n",
       "      <td>М</td>\n",
       "      <td>34.0</td>\n",
       "      <td>5</td>\n",
       "      <td>174.00</td>\n",
       "      <td>1</td>\n",
       "      <td>1</td>\n",
       "      <td>0</td>\n",
       "      <td>67353.16</td>\n",
       "      <td>1</td>\n",
       "    </tr>\n",
       "  </tbody>\n",
       "</table>\n",
       "</div>"
      ],
      "text/plain": [
       "   USERID  score       city gender   age  equity     balance  products  \\\n",
       "0  183012  850.0    Рыбинск      Ж  25.0       1    59214.82         2   \n",
       "1  146556  861.0    Рыбинск      Ж  37.0       5   850594.33         3   \n",
       "2  120722  892.0    Рыбинск      Ж  30.0       0         NaN         1   \n",
       "3  225363  866.0  Ярославль      Ж  51.0       5  1524746.26         2   \n",
       "4  157978  730.0  Ярославль      М  34.0       5      174.00         1   \n",
       "\n",
       "   credit_card  last_activity  EST_SALARY  churn  \n",
       "0            0              1    75719.14      1  \n",
       "1            1              0    86621.77      0  \n",
       "2            1              1   107683.34      0  \n",
       "3            0              1   174423.53      1  \n",
       "4            1              0    67353.16      1  "
      ]
     },
     "execution_count": 5,
     "metadata": {},
     "output_type": "execute_result"
    }
   ],
   "source": [
    "df.head()"
   ]
  },
  {
   "cell_type": "code",
   "execution_count": 6,
   "metadata": {
    "scrolled": true
   },
   "outputs": [
    {
     "name": "stdout",
     "output_type": "stream",
     "text": [
      "<class 'pandas.core.frame.DataFrame'>\n",
      "RangeIndex: 10000 entries, 0 to 9999\n",
      "Data columns (total 12 columns):\n",
      " #   Column         Non-Null Count  Dtype  \n",
      "---  ------         --------------  -----  \n",
      " 0   USERID         10000 non-null  int64  \n",
      " 1   score          10000 non-null  float64\n",
      " 2   city           10000 non-null  object \n",
      " 3   gender         10000 non-null  object \n",
      " 4   age            9974 non-null   float64\n",
      " 5   equity         10000 non-null  int64  \n",
      " 6   balance        7705 non-null   float64\n",
      " 7   products       10000 non-null  int64  \n",
      " 8   credit_card    10000 non-null  int64  \n",
      " 9   last_activity  10000 non-null  int64  \n",
      " 10  EST_SALARY     10000 non-null  float64\n",
      " 11  churn          10000 non-null  int64  \n",
      "dtypes: float64(4), int64(6), object(2)\n",
      "memory usage: 937.6+ KB\n"
     ]
    }
   ],
   "source": [
    "df.info()"
   ]
  },
  {
   "cell_type": "markdown",
   "metadata": {},
   "source": [
    "Как видно из описания, датафрейм состоит из 10000 строк и 12 столбцов. Типы данных соответствуют содержимому. Все столбцы кроме `age` и `balance` не содержат пропусков. Рассмотри далее на распределение данных в каждом столбце."
   ]
  },
  {
   "cell_type": "code",
   "execution_count": 7,
   "metadata": {
    "scrolled": true
   },
   "outputs": [
    {
     "data": {
      "text/html": [
       "<div>\n",
       "<style scoped>\n",
       "    .dataframe tbody tr th:only-of-type {\n",
       "        vertical-align: middle;\n",
       "    }\n",
       "\n",
       "    .dataframe tbody tr th {\n",
       "        vertical-align: top;\n",
       "    }\n",
       "\n",
       "    .dataframe thead th {\n",
       "        text-align: right;\n",
       "    }\n",
       "</style>\n",
       "<table border=\"1\" class=\"dataframe\">\n",
       "  <thead>\n",
       "    <tr style=\"text-align: right;\">\n",
       "      <th></th>\n",
       "      <th>USERID</th>\n",
       "      <th>score</th>\n",
       "      <th>age</th>\n",
       "      <th>equity</th>\n",
       "      <th>balance</th>\n",
       "      <th>products</th>\n",
       "      <th>credit_card</th>\n",
       "      <th>last_activity</th>\n",
       "      <th>EST_SALARY</th>\n",
       "      <th>churn</th>\n",
       "    </tr>\n",
       "  </thead>\n",
       "  <tbody>\n",
       "    <tr>\n",
       "      <th>count</th>\n",
       "      <td>10000.00000</td>\n",
       "      <td>10000.000000</td>\n",
       "      <td>9974.000000</td>\n",
       "      <td>10000.000000</td>\n",
       "      <td>7.705000e+03</td>\n",
       "      <td>10000.000000</td>\n",
       "      <td>10000.000000</td>\n",
       "      <td>10000.000000</td>\n",
       "      <td>1.000000e+04</td>\n",
       "      <td>10000.000000</td>\n",
       "    </tr>\n",
       "    <tr>\n",
       "      <th>mean</th>\n",
       "      <td>171814.71260</td>\n",
       "      <td>848.699400</td>\n",
       "      <td>42.734409</td>\n",
       "      <td>2.627600</td>\n",
       "      <td>8.277943e+05</td>\n",
       "      <td>1.870100</td>\n",
       "      <td>0.680400</td>\n",
       "      <td>0.523500</td>\n",
       "      <td>1.478669e+05</td>\n",
       "      <td>0.182000</td>\n",
       "    </tr>\n",
       "    <tr>\n",
       "      <th>std</th>\n",
       "      <td>33708.23812</td>\n",
       "      <td>65.448519</td>\n",
       "      <td>12.179971</td>\n",
       "      <td>1.980836</td>\n",
       "      <td>1.980614e+06</td>\n",
       "      <td>0.792647</td>\n",
       "      <td>0.466345</td>\n",
       "      <td>0.499472</td>\n",
       "      <td>1.393885e+05</td>\n",
       "      <td>0.385864</td>\n",
       "    </tr>\n",
       "    <tr>\n",
       "      <th>min</th>\n",
       "      <td>94561.00000</td>\n",
       "      <td>642.000000</td>\n",
       "      <td>18.000000</td>\n",
       "      <td>0.000000</td>\n",
       "      <td>0.000000e+00</td>\n",
       "      <td>0.000000</td>\n",
       "      <td>0.000000</td>\n",
       "      <td>0.000000</td>\n",
       "      <td>2.546300e+03</td>\n",
       "      <td>0.000000</td>\n",
       "    </tr>\n",
       "    <tr>\n",
       "      <th>25%</th>\n",
       "      <td>142810.25000</td>\n",
       "      <td>802.000000</td>\n",
       "      <td>33.000000</td>\n",
       "      <td>0.000000</td>\n",
       "      <td>2.955542e+05</td>\n",
       "      <td>1.000000</td>\n",
       "      <td>0.000000</td>\n",
       "      <td>0.000000</td>\n",
       "      <td>7.525190e+04</td>\n",
       "      <td>0.000000</td>\n",
       "    </tr>\n",
       "    <tr>\n",
       "      <th>50%</th>\n",
       "      <td>172728.00000</td>\n",
       "      <td>853.000000</td>\n",
       "      <td>40.000000</td>\n",
       "      <td>3.000000</td>\n",
       "      <td>5.242722e+05</td>\n",
       "      <td>2.000000</td>\n",
       "      <td>1.000000</td>\n",
       "      <td>1.000000</td>\n",
       "      <td>1.196581e+05</td>\n",
       "      <td>0.000000</td>\n",
       "    </tr>\n",
       "    <tr>\n",
       "      <th>75%</th>\n",
       "      <td>201261.75000</td>\n",
       "      <td>900.000000</td>\n",
       "      <td>51.000000</td>\n",
       "      <td>4.000000</td>\n",
       "      <td>9.807058e+05</td>\n",
       "      <td>2.000000</td>\n",
       "      <td>1.000000</td>\n",
       "      <td>1.000000</td>\n",
       "      <td>1.745005e+05</td>\n",
       "      <td>0.000000</td>\n",
       "    </tr>\n",
       "    <tr>\n",
       "      <th>max</th>\n",
       "      <td>229145.00000</td>\n",
       "      <td>1000.000000</td>\n",
       "      <td>86.000000</td>\n",
       "      <td>9.000000</td>\n",
       "      <td>1.191136e+08</td>\n",
       "      <td>5.000000</td>\n",
       "      <td>1.000000</td>\n",
       "      <td>1.000000</td>\n",
       "      <td>1.395064e+06</td>\n",
       "      <td>1.000000</td>\n",
       "    </tr>\n",
       "  </tbody>\n",
       "</table>\n",
       "</div>"
      ],
      "text/plain": [
       "             USERID         score          age        equity       balance  \\\n",
       "count   10000.00000  10000.000000  9974.000000  10000.000000  7.705000e+03   \n",
       "mean   171814.71260    848.699400    42.734409      2.627600  8.277943e+05   \n",
       "std     33708.23812     65.448519    12.179971      1.980836  1.980614e+06   \n",
       "min     94561.00000    642.000000    18.000000      0.000000  0.000000e+00   \n",
       "25%    142810.25000    802.000000    33.000000      0.000000  2.955542e+05   \n",
       "50%    172728.00000    853.000000    40.000000      3.000000  5.242722e+05   \n",
       "75%    201261.75000    900.000000    51.000000      4.000000  9.807058e+05   \n",
       "max    229145.00000   1000.000000    86.000000      9.000000  1.191136e+08   \n",
       "\n",
       "           products   credit_card  last_activity    EST_SALARY         churn  \n",
       "count  10000.000000  10000.000000   10000.000000  1.000000e+04  10000.000000  \n",
       "mean       1.870100      0.680400       0.523500  1.478669e+05      0.182000  \n",
       "std        0.792647      0.466345       0.499472  1.393885e+05      0.385864  \n",
       "min        0.000000      0.000000       0.000000  2.546300e+03      0.000000  \n",
       "25%        1.000000      0.000000       0.000000  7.525190e+04      0.000000  \n",
       "50%        2.000000      1.000000       1.000000  1.196581e+05      0.000000  \n",
       "75%        2.000000      1.000000       1.000000  1.745005e+05      0.000000  \n",
       "max        5.000000      1.000000       1.000000  1.395064e+06      1.000000  "
      ]
     },
     "execution_count": 7,
     "metadata": {},
     "output_type": "execute_result"
    }
   ],
   "source": [
    "df.describe()"
   ]
  },
  {
   "cell_type": "code",
   "execution_count": 8,
   "metadata": {
    "scrolled": true
   },
   "outputs": [
    {
     "data": {
      "text/plain": [
       "<AxesSubplot:>"
      ]
     },
     "execution_count": 8,
     "metadata": {},
     "output_type": "execute_result"
    },
    {
     "data": {
      "image/png": "[encoded data removed]",
      "text/plain": [
       "<Figure size 432x288 with 1 Axes>"
      ]
     },
     "metadata": {
      "needs_background": "light"
     },
     "output_type": "display_data"
    }
   ],
   "source": [
    "df[['equity', 'products']].boxplot()"
   ]
  },
  {
   "cell_type": "markdown",
   "metadata": {},
   "source": [
    "Как из диаграммы оценка собственности составляет от 0 до 9, медиана равна 3. По колицеству продуктов данные изменяются от 0 до 5.  C нулем всего одно значение у бывшего клиента банка. Остальные сосредоточены от 1 до 3, 2 - в среднем, а 4 и 5 встречается намного реже."
   ]
  },
  {
   "cell_type": "code",
   "execution_count": 9,
   "metadata": {},
   "outputs": [
    {
     "data": {
      "text/html": [
       "<div>\n",
       "<style scoped>\n",
       "    .dataframe tbody tr th:only-of-type {\n",
       "        vertical-align: middle;\n",
       "    }\n",
       "\n",
       "    .dataframe tbody tr th {\n",
       "        vertical-align: top;\n",
       "    }\n",
       "\n",
       "    .dataframe thead th {\n",
       "        text-align: right;\n",
       "    }\n",
       "</style>\n",
       "<table border=\"1\" class=\"dataframe\">\n",
       "  <thead>\n",
       "    <tr style=\"text-align: right;\">\n",
       "      <th></th>\n",
       "      <th>USERID</th>\n",
       "      <th>score</th>\n",
       "      <th>city</th>\n",
       "      <th>gender</th>\n",
       "      <th>age</th>\n",
       "      <th>equity</th>\n",
       "      <th>balance</th>\n",
       "      <th>products</th>\n",
       "      <th>credit_card</th>\n",
       "      <th>last_activity</th>\n",
       "      <th>EST_SALARY</th>\n",
       "      <th>churn</th>\n",
       "    </tr>\n",
       "  </thead>\n",
       "  <tbody>\n",
       "    <tr>\n",
       "      <th>8957</th>\n",
       "      <td>147837</td>\n",
       "      <td>962.0</td>\n",
       "      <td>Рыбинск</td>\n",
       "      <td>Ж</td>\n",
       "      <td>79.0</td>\n",
       "      <td>3</td>\n",
       "      <td>NaN</td>\n",
       "      <td>0</td>\n",
       "      <td>0</td>\n",
       "      <td>0</td>\n",
       "      <td>25063.96</td>\n",
       "      <td>1</td>\n",
       "    </tr>\n",
       "  </tbody>\n",
       "</table>\n",
       "</div>"
      ],
      "text/plain": [
       "      USERID  score     city gender   age  equity  balance  products  \\\n",
       "8957  147837  962.0  Рыбинск      Ж  79.0       3      NaN         0   \n",
       "\n",
       "      credit_card  last_activity  EST_SALARY  churn  \n",
       "8957            0              0    25063.96      1  "
      ]
     },
     "execution_count": 9,
     "metadata": {},
     "output_type": "execute_result"
    }
   ],
   "source": [
    "df[df['products']==0]"
   ]
  },
  {
   "cell_type": "code",
   "execution_count": 10,
   "metadata": {},
   "outputs": [],
   "source": [
    "df = df[df['products']!=0]"
   ]
  },
  {
   "cell_type": "code",
   "execution_count": 11,
   "metadata": {
    "scrolled": true
   },
   "outputs": [
    {
     "data": {
      "text/plain": [
       "<AxesSubplot:>"
      ]
     },
     "execution_count": 11,
     "metadata": {},
     "output_type": "execute_result"
    },
    {
     "data": {
      "image/png": "[encoded data removed]",
      "text/plain": [
       "<Figure size 432x288 with 1 Axes>"
      ]
     },
     "metadata": {
      "needs_background": "light"
     },
     "output_type": "display_data"
    }
   ],
   "source": [
    "df[['age']].boxplot()"
   ]
  },
  {
   "cell_type": "markdown",
   "metadata": {},
   "source": [
    "Возраст клиентов составляет от 18 до 86, из которых основная масса имеет возраст от 18 до 78. Средний возраст - 40 лет."
   ]
  },
  {
   "cell_type": "code",
   "execution_count": 12,
   "metadata": {},
   "outputs": [
    {
     "data": {
      "text/plain": [
       "<AxesSubplot:>"
      ]
     },
     "execution_count": 12,
     "metadata": {},
     "output_type": "execute_result"
    },
    {
     "data": {
      "image/png": "[encoded data removed]",
      "text/plain": [
       "<Figure size 432x288 with 1 Axes>"
      ]
     },
     "metadata": {
      "needs_background": "light"
     },
     "output_type": "display_data"
    }
   ],
   "source": [
    "df[['score']].boxplot()"
   ]
  },
  {
   "cell_type": "markdown",
   "metadata": {},
   "source": [
    "Оценка надежности изменяется от 642 до 1000, 853 -в среднем. От 642 до 655 - выбросы."
   ]
  },
  {
   "cell_type": "code",
   "execution_count": 13,
   "metadata": {},
   "outputs": [
    {
     "data": {
      "text/plain": [
       "<AxesSubplot:>"
      ]
     },
     "execution_count": 13,
     "metadata": {},
     "output_type": "execute_result"
    },
    {
     "data": {
      "image/png": "[encoded data removed]",
      "text/plain": [
       "<Figure size 432x288 with 1 Axes>"
      ]
     },
     "metadata": {
      "needs_background": "light"
     },
     "output_type": "display_data"
    }
   ],
   "source": [
    "df[['balance']].boxplot()"
   ]
  },
  {
   "cell_type": "markdown",
   "metadata": {},
   "source": [
    "По балансу видно, что наблюдается значительный разброс, стандартное отклонение превышает среднее. на счету в основном от 0 до 2 млн., медиана - 524 тыс., максимум - 119 млн."
   ]
  },
  {
   "cell_type": "code",
   "execution_count": 14,
   "metadata": {},
   "outputs": [
    {
     "data": {
      "text/plain": [
       "<AxesSubplot:>"
      ]
     },
     "execution_count": 14,
     "metadata": {},
     "output_type": "execute_result"
    },
    {
     "data": {
      "image/png": "[encoded data removed]",
      "text/plain": [
       "<Figure size 432x288 with 1 Axes>"
      ]
     },
     "metadata": {
      "needs_background": "light"
     },
     "output_type": "display_data"
    }
   ],
   "source": [
    "df[['EST_SALARY']].boxplot()"
   ]
  },
  {
   "cell_type": "markdown",
   "metadata": {},
   "source": [
    "В столбце зарплат тоже много выбросов. Основной диапазон это 2546 - 323 тыс., медиана - 120 тыс., максимум - 1.4 млн."
   ]
  },
  {
   "cell_type": "markdown",
   "metadata": {},
   "source": [
    "### Поиск дубликатов"
   ]
  },
  {
   "cell_type": "markdown",
   "metadata": {},
   "source": [
    "`Проверка на явные дубликаты`"
   ]
  },
  {
   "cell_type": "code",
   "execution_count": 15,
   "metadata": {},
   "outputs": [
    {
     "data": {
      "text/plain": [
       "array([False])"
      ]
     },
     "execution_count": 15,
     "metadata": {},
     "output_type": "execute_result"
    }
   ],
   "source": [
    "df.duplicated().unique()"
   ]
  },
  {
   "cell_type": "markdown",
   "metadata": {},
   "source": [
    "Явных дубликатов нет"
   ]
  },
  {
   "cell_type": "markdown",
   "metadata": {},
   "source": [
    "`Проверка на неявные дубликаты`"
   ]
  },
  {
   "cell_type": "code",
   "execution_count": 16,
   "metadata": {},
   "outputs": [
    {
     "data": {
      "text/plain": [
       "array(['Рыбинск', 'Ярославль', 'Ростов'], dtype=object)"
      ]
     },
     "execution_count": 16,
     "metadata": {},
     "output_type": "execute_result"
    }
   ],
   "source": [
    "df['city'].unique()"
   ]
  },
  {
   "cell_type": "markdown",
   "metadata": {},
   "source": [
    "В столбце `city` 3 уникальных названия городов, поэтому неявных дубликатов нет"
   ]
  },
  {
   "cell_type": "code",
   "execution_count": 17,
   "metadata": {},
   "outputs": [
    {
     "name": "stdout",
     "output_type": "stream",
     "text": [
      "18.0, 19.0, 20.0, 21.0, 22.0, 23.0, 24.0, 25.0, 26.0, 27.0, 28.0, 29.0, 30.0, 31.0, 32.0, 33.0, 34.0, 35.0, 36.0, 37.0, 38.0, 39.0, 40.0, 41.0, 42.0, 43.0, 44.0, 45.0, 46.0, 47.0, 48.0, 49.0, 50.0, 51.0, 52.0, 53.0, 54.0, 55.0, 56.0, 57.0, 58.0, 59.0, 60.0, 61.0, 62.0, 63.0, 64.0, 65.0, 66.0, 67.0, 68.0, 69.0, 70.0, 71.0, 72.0, 73.0, 74.0, 75.0, 76.0, 77.0, 78.0, 79.0, 80.0, nan, 81.0, 82.0, 83.0, 84.0, 86.0\n"
     ]
    }
   ],
   "source": [
    "print(*sorted(df['age'].unique()), sep=\", \")"
   ]
  },
  {
   "cell_type": "markdown",
   "metadata": {},
   "source": [
    "В столбце `age` неявных дубликатов нет"
   ]
  },
  {
   "cell_type": "code",
   "execution_count": 18,
   "metadata": {},
   "outputs": [
    {
     "data": {
      "text/plain": [
       "array(['Ж', 'М'], dtype=object)"
      ]
     },
     "execution_count": 18,
     "metadata": {},
     "output_type": "execute_result"
    }
   ],
   "source": [
    "df['gender'].unique()"
   ]
  },
  {
   "cell_type": "markdown",
   "metadata": {},
   "source": [
    "В столбце `gender` неявных дубликатов нет"
   ]
  },
  {
   "cell_type": "code",
   "execution_count": 19,
   "metadata": {},
   "outputs": [
    {
     "data": {
      "text/plain": [
       "array([1, 5, 0, 4, 3, 2, 6, 7, 8, 9])"
      ]
     },
     "execution_count": 19,
     "metadata": {},
     "output_type": "execute_result"
    }
   ],
   "source": [
    "df['equity'].unique()"
   ]
  },
  {
   "cell_type": "markdown",
   "metadata": {},
   "source": [
    "В столбце `equity` неявных дубликатов нет"
   ]
  },
  {
   "cell_type": "code",
   "execution_count": 20,
   "metadata": {},
   "outputs": [
    {
     "data": {
      "text/plain": [
       "array([2, 3, 1, 4, 5])"
      ]
     },
     "execution_count": 20,
     "metadata": {},
     "output_type": "execute_result"
    }
   ],
   "source": [
    "df['products'].unique()"
   ]
  },
  {
   "cell_type": "markdown",
   "metadata": {},
   "source": [
    "В столбце `products` неявных дубликатов нет"
   ]
  },
  {
   "cell_type": "code",
   "execution_count": 21,
   "metadata": {
    "scrolled": true
   },
   "outputs": [
    {
     "data": {
      "text/plain": [
       "array([1, 0])"
      ]
     },
     "execution_count": 21,
     "metadata": {},
     "output_type": "execute_result"
    }
   ],
   "source": [
    "df['last_activity'].unique()"
   ]
  },
  {
   "cell_type": "markdown",
   "metadata": {},
   "source": [
    "В столбце `last_activity` неявных дубликатов нет"
   ]
  },
  {
   "cell_type": "code",
   "execution_count": 22,
   "metadata": {},
   "outputs": [
    {
     "data": {
      "text/plain": [
       "array([1, 0])"
      ]
     },
     "execution_count": 22,
     "metadata": {},
     "output_type": "execute_result"
    }
   ],
   "source": [
    "df['churn'].unique()"
   ]
  },
  {
   "cell_type": "markdown",
   "metadata": {},
   "source": [
    "В столбце `churn` неявных дубликатов нет"
   ]
  },
  {
   "cell_type": "code",
   "execution_count": 23,
   "metadata": {},
   "outputs": [
    {
     "data": {
      "text/plain": [
       "9926"
      ]
     },
     "execution_count": 23,
     "metadata": {},
     "output_type": "execute_result"
    }
   ],
   "source": [
    "len(df['USERID'].unique())"
   ]
  },
  {
   "cell_type": "code",
   "execution_count": 24,
   "metadata": {},
   "outputs": [
    {
     "data": {
      "text/plain": [
       "array([False,  True])"
      ]
     },
     "execution_count": 24,
     "metadata": {},
     "output_type": "execute_result"
    }
   ],
   "source": [
    "df['USERID'].duplicated().unique()"
   ]
  },
  {
   "cell_type": "code",
   "execution_count": 25,
   "metadata": {},
   "outputs": [
    {
     "data": {
      "text/plain": [
       "73"
      ]
     },
     "execution_count": 25,
     "metadata": {},
     "output_type": "execute_result"
    }
   ],
   "source": [
    "len(df['USERID'])-len(df['USERID'].unique())"
   ]
  },
  {
   "cell_type": "markdown",
   "metadata": {},
   "source": [
    "В столбце 'USERID' 73 дубликата, удалим"
   ]
  },
  {
   "cell_type": "code",
   "execution_count": 26,
   "metadata": {},
   "outputs": [],
   "source": [
    "df = df[~df['USERID'].duplicated()]"
   ]
  },
  {
   "cell_type": "code",
   "execution_count": 27,
   "metadata": {},
   "outputs": [
    {
     "data": {
      "text/plain": [
       "array([False])"
      ]
     },
     "execution_count": 27,
     "metadata": {},
     "output_type": "execute_result"
    }
   ],
   "source": [
    "df['USERID'].duplicated().unique()"
   ]
  },
  {
   "cell_type": "markdown",
   "metadata": {},
   "source": [
    "### Преобразование данных"
   ]
  },
  {
   "cell_type": "markdown",
   "metadata": {},
   "source": [
    "`Приведение названий столбцов к нижнему регистру`"
   ]
  },
  {
   "cell_type": "code",
   "execution_count": 28,
   "metadata": {},
   "outputs": [],
   "source": [
    "df = df.rename(columns={'USERID': 'userid', 'EST_SALARY': 'salary'})"
   ]
  },
  {
   "cell_type": "markdown",
   "metadata": {},
   "source": [
    "`Создание столбцов из gender и city`"
   ]
  },
  {
   "cell_type": "markdown",
   "metadata": {},
   "source": [
    "Для удобства дальнейшего исследования создадим копии столбцов `city` и `gender`"
   ]
  },
  {
   "cell_type": "code",
   "execution_count": 29,
   "metadata": {},
   "outputs": [],
   "source": [
    "df['all_cities'] = df['city']"
   ]
  },
  {
   "cell_type": "code",
   "execution_count": 30,
   "metadata": {},
   "outputs": [],
   "source": [
    "df['all_genders'] = df['gender']"
   ]
  },
  {
   "cell_type": "markdown",
   "metadata": {},
   "source": [
    "Перекодируем столбцы `city` и `gender` через фиктивную переменную"
   ]
  },
  {
   "cell_type": "code",
   "execution_count": 31,
   "metadata": {
    "scrolled": true
   },
   "outputs": [],
   "source": [
    "df = pd.get_dummies(df, columns=['city', 'gender'])"
   ]
  },
  {
   "cell_type": "markdown",
   "metadata": {},
   "source": [
    "Переименуем названия новых столбцов"
   ]
  },
  {
   "cell_type": "code",
   "execution_count": 32,
   "metadata": {
    "scrolled": true
   },
   "outputs": [],
   "source": [
    "df = df.rename(columns={'city_Ростов': 'rostov', 'city_Рыбинск': 'rybinsk',\n",
    "            'city_Ярославль': 'yaroslavl', 'gender_Ж': 'female', 'gender_М': 'male'})"
   ]
  },
  {
   "cell_type": "markdown",
   "metadata": {},
   "source": [
    "`Обработка пропусков`"
   ]
  },
  {
   "cell_type": "markdown",
   "metadata": {},
   "source": [
    "Пропуски в данных принято относить к одной из трёх категорий:\n",
    "- MCAR (Missing Completely At Random / Отсутствует совершенно случайно) — пропуски не зависят от переменных и не ведут к систематической ошибке (смещение, bias), но увеличивают случайную ошибку (разброс, variance), можно их отбрасывать или заполнять, т.к. заполнение не повлияет на характер связи между заполняемой переменной и остальными.\n",
    "- MAR (Missing At Random / Отсутствует случайно) — в рамках каждой из групп, которая есть в описываемой данными совокупности, распределение пропусков случайно, можно их отбрасывать.\n",
    "- MNAR (Missing Not At Random / Отсутствует не случайно) — пропуски зависят от переменных, которых нет в данных, объяснить взаимосвязи с данными не получается, без дополнительного обоснования их нельзя отбрасывать или заполнять одним значением, т.к. это приведёт к заметным искажениям."
   ]
  },
  {
   "cell_type": "markdown",
   "metadata": {},
   "source": [
    "Столбец `age` содержит 9974 заполненных строк, что составлет 99,7% от общего количества. Такое незначительное количество пропусков скорее всего случайность. Заполним их медианами."
   ]
  },
  {
   "cell_type": "code",
   "execution_count": 33,
   "metadata": {},
   "outputs": [],
   "source": [
    "df=df.fillna({'age':df['age'].median()})"
   ]
  },
  {
   "cell_type": "markdown",
   "metadata": {},
   "source": [
    "Столбец `balance` содержит 7705 заполненных строк, что составлет 77% от общего количества, поэтому пропуски могут быть как случайными так и нет."
   ]
  },
  {
   "cell_type": "markdown",
   "metadata": {},
   "source": [
    "Рассмотрим распределение пропусков по городам"
   ]
  },
  {
   "cell_type": "code",
   "execution_count": 34,
   "metadata": {},
   "outputs": [
    {
     "data": {
      "image/png": "[encoded data removed]",
      "text/plain": [
       "<Figure size 432x288 with 1 Axes>"
      ]
     },
     "metadata": {
      "needs_background": "light"
     },
     "output_type": "display_data"
    }
   ],
   "source": [
    "sp_pl(df, 'all_cities', 'bar')\n",
    "plt.title('Распределение клиентов/пропусков по городам')\n",
    "plt.xlabel('город');"
   ]
  },
  {
   "cell_type": "markdown",
   "metadata": {},
   "source": [
    "В Ярославле доля пропусков составляет 64%, общая доля - 59%, а в Рыбинске и Ростове доля пропусков ниже чем общая доля на 1 и 4%. Соотношения довольно близкие, поэтому различие в распределении пропусков здесь неслучайно, чем больше клиентов, тем больше пропусков."
   ]
  },
  {
   "cell_type": "markdown",
   "metadata": {},
   "source": [
    "Рассмотрим распределение пропусков по количеству продуктов"
   ]
  },
  {
   "cell_type": "code",
   "execution_count": 35,
   "metadata": {},
   "outputs": [
    {
     "data": {
      "image/png": "[encoded data removed]",
      "text/plain": [
       "<Figure size 432x288 with 1 Axes>"
      ]
     },
     "metadata": {
      "needs_background": "light"
     },
     "output_type": "display_data"
    }
   ],
   "source": [
    "sp_pl(df, 'products', 'bar')\n",
    "plt.title('Распределение клиентов/пропусков по количеству продуктов')\n",
    "plt.xlabel('Количество продуктов');"
   ]
  },
  {
   "cell_type": "markdown",
   "metadata": {},
   "source": [
    "Здесь видно, что больше всего клиентов используют 2 продукта, но максимальное число пропусков у клиентов с 1 продуктом. Такой результат также можно объяснить, клиенты у которых например есть кредит вряд ли имеют ещё и депозит. "
   ]
  },
  {
   "cell_type": "markdown",
   "metadata": {},
   "source": [
    "Рассмотрим распределение пропусков по оценке собственности"
   ]
  },
  {
   "cell_type": "code",
   "execution_count": 36,
   "metadata": {},
   "outputs": [
    {
     "data": {
      "image/png": "[encoded data removed]",
      "text/plain": [
       "<Figure size 432x288 with 1 Axes>"
      ]
     },
     "metadata": {
      "needs_background": "light"
     },
     "output_type": "display_data"
    }
   ],
   "source": [
    "sp_pl(df, 'equity', 'bar')\n",
    "plt.title('Распределение клиентов/пропусков по оценке собственности')\n",
    "plt.xlabel('Оценка собственности');"
   ]
  },
  {
   "cell_type": "markdown",
   "metadata": {},
   "source": [
    "Результат также закономерен где нет средств там и нет собственности."
   ]
  },
  {
   "cell_type": "markdown",
   "metadata": {},
   "source": [
    "Рассмотрим распределение пропусков по наличию кредитной карты"
   ]
  },
  {
   "cell_type": "code",
   "execution_count": 37,
   "metadata": {},
   "outputs": [
    {
     "data": {
      "image/png": "[encoded data removed]",
      "text/plain": [
       "<Figure size 432x288 with 1 Axes>"
      ]
     },
     "metadata": {
      "needs_background": "light"
     },
     "output_type": "display_data"
    }
   ],
   "source": [
    "sp_pl(df, 'credit_card', 'bar')\n",
    "plt.title('Распределение клиентов/пропусков по наличию кредитной карты')\n",
    "plt.xlabel('Наличие кредитной карты (0-нет, 1-есть)');"
   ]
  },
  {
   "cell_type": "markdown",
   "metadata": {},
   "source": [
    "Тут также все очевидно, кредитной картой в основном пользуются те у кого нет собственных средств. "
   ]
  },
  {
   "cell_type": "markdown",
   "metadata": {},
   "source": [
    "Рассмотрим распределение пропусков по возрасту"
   ]
  },
  {
   "cell_type": "code",
   "execution_count": 38,
   "metadata": {},
   "outputs": [
    {
     "data": {
      "image/png": "[encoded data removed]",
      "text/plain": [
       "<Figure size 432x288 with 1 Axes>"
      ]
     },
     "metadata": {
      "needs_background": "light"
     },
     "output_type": "display_data"
    }
   ],
   "source": [
    "sp_pl(df, 'age', 'line')\n",
    "plt.title('Распределение клиентов/пропусков по возрасту')\n",
    "plt.xlabel('Возраст, лет');"
   ]
  },
  {
   "cell_type": "markdown",
   "metadata": {},
   "source": [
    "Как видно распределение по возрасту и тут неслучайно, где больше общее количество там и пропусков больше"
   ]
  },
  {
   "cell_type": "markdown",
   "metadata": {},
   "source": [
    "Рассмотрим распределение пропусков по полу"
   ]
  },
  {
   "cell_type": "code",
   "execution_count": 39,
   "metadata": {},
   "outputs": [
    {
     "data": {
      "image/png": "[encoded data removed]",
      "text/plain": [
       "<Figure size 432x288 with 1 Axes>"
      ]
     },
     "metadata": {
      "needs_background": "light"
     },
     "output_type": "display_data"
    }
   ],
   "source": [
    "sp_pl(df, 'all_genders', 'bar')\n",
    "plt.title('Распределение клиентов/пропусков по полу')\n",
    "plt.xlabel('пол');"
   ]
  },
  {
   "cell_type": "markdown",
   "metadata": {},
   "source": [
    "Общее соотношение мужчин и женщин примерно одинаковое, а в пропусках мужчин немного больше (это скорее случайно)."
   ]
  },
  {
   "cell_type": "markdown",
   "metadata": {},
   "source": [
    "Рассмотрим распределение пропусков по скорингу"
   ]
  },
  {
   "cell_type": "code",
   "execution_count": 40,
   "metadata": {},
   "outputs": [
    {
     "data": {
      "image/png": "[encoded data removed]",
      "text/plain": [
       "<Figure size 432x288 with 1 Axes>"
      ]
     },
     "metadata": {
      "needs_background": "light"
     },
     "output_type": "display_data"
    }
   ],
   "source": [
    "df.query('balance.isna()')['userid'].groupby(pd.cut(df.query('balance.isna()')['score'], np.arange(600, 1100, 100))\n",
    "                                            ).count().plot(kind='bar', color='r', label='пропуски')\n",
    "df['userid'].groupby(pd.cut(df['score'], np.arange(600, 1100, 100))).count().plot(kind='bar',\n",
    "                                      label='количество клиентов', alpha=0.5)\n",
    "plt.legend()\n",
    "plt.title('Распределение клиентов по скорингу')\n",
    "plt.xlabel('Скоринг')\n",
    "plt.ylabel('Количество пропусков/клиентов');"
   ]
  },
  {
   "cell_type": "markdown",
   "metadata": {},
   "source": [
    "Интересный результат получился больше всего пропусков у самых надежных клиентов, меньше всего у ненадежных. Если брать по относительной величине, у самых ненадежных клиентов (600-700) соотношение пропусков к общему количеству почти 100% (правда их немного), а у самых надежных клиентов соотношение пропусков к общему количеству около 50%. Минимальное соотношение в интервале (800-900) - примерно 10%."
   ]
  },
  {
   "cell_type": "markdown",
   "metadata": {},
   "source": [
    "Рассмотрим распределение пропусков по активности"
   ]
  },
  {
   "cell_type": "code",
   "execution_count": 41,
   "metadata": {},
   "outputs": [
    {
     "data": {
      "image/png": "[encoded data removed]",
      "text/plain": [
       "<Figure size 432x288 with 1 Axes>"
      ]
     },
     "metadata": {
      "needs_background": "light"
     },
     "output_type": "display_data"
    }
   ],
   "source": [
    "sp_pl(df, 'last_activity', 'bar')\n",
    "plt.title('Распределение клиентов/пропусков по активности')\n",
    "plt.xlabel('активность (0-нет, 1-есть)');"
   ]
  },
  {
   "cell_type": "markdown",
   "metadata": {},
   "source": [
    "Как видно пропуски не связаны с активностью."
   ]
  },
  {
   "cell_type": "markdown",
   "metadata": {},
   "source": [
    "Рассмотрим распределение пропусков по зарплате"
   ]
  },
  {
   "cell_type": "code",
   "execution_count": 42,
   "metadata": {},
   "outputs": [
    {
     "data": {
      "image/png": "[encoded data removed]",
      "text/plain": [
       "<Figure size 432x288 with 1 Axes>"
      ]
     },
     "metadata": {
      "needs_background": "light"
     },
     "output_type": "display_data"
    }
   ],
   "source": [
    "df.query('balance.isna()')['userid'].groupby(pd.cut(df.query('balance.isna()')['salary'],\n",
    "              np.arange(2500, 1400000, 100000))).count().plot(kind='bar', color='r', label='пропуски')\n",
    "df['userid'].groupby(pd.cut(df['salary'],\n",
    "              np.arange(2500, 1400000, 100000))).count().plot(kind='bar',\n",
    "                                      label='количество клиентов', alpha=0.5)\n",
    "plt.legend()\n",
    "plt.title('Распределение клиентов/пропусков по зарплате')\n",
    "plt.xlabel('Зарплата, руб.')\n",
    "plt.ylabel('Количество пропусков/клиентов');"
   ]
  },
  {
   "cell_type": "markdown",
   "metadata": {},
   "source": [
    "Больше всего пропусков (1037) при зарплатах от 100 до 200 тыс., а до 100 тыс - в 2,6 раза меньше, хотя общее количество сопоставимо. Учитывая это и общий разброс предположу что и здесь пропуски не связаны с зарплатой."
   ]
  },
  {
   "cell_type": "markdown",
   "metadata": {},
   "source": [
    "Таким образом, столбец `balance` имеет пропуски не случайно и поэтому его решено оставить без изменений"
   ]
  },
  {
   "cell_type": "markdown",
   "metadata": {},
   "source": [
    "<a id='eda'></a>\n",
    "\n",
    "## Исследовательский анализ данных"
   ]
  },
  {
   "cell_type": "markdown",
   "metadata": {},
   "source": [
    "### Портрет типичных и выбывших клиентов банка."
   ]
  },
  {
   "cell_type": "code",
   "execution_count": 43,
   "metadata": {},
   "outputs": [],
   "source": [
    "pic=(df[['score', 'age', 'equity', 'balance', 'products', 'credit_card', 'last_activity', 'salary', 'churn',\n",
    "     'rostov', 'rybinsk', 'yaroslavl', 'female', 'male']].mean().round(1).reset_index()).merge(\n",
    "(df.query('churn==1')[['score', 'age', 'equity', 'balance', 'products', 'credit_card', 'last_activity', 'salary', 'churn',\n",
    "     'rostov', 'rybinsk', 'yaroslavl', 'female', 'male']].mean().round(1).reset_index()),\n",
    "on='index')"
   ]
  },
  {
   "cell_type": "code",
   "execution_count": 44,
   "metadata": {},
   "outputs": [],
   "source": [
    "pic=pic.rename(columns={'index': 'cat_name', '0_x': 'all_clients', '0_y': 'churn_clients'})\n",
    "pic['delta'] = ((1-pic['churn_clients']/pic['all_clients'])*100).round(1)"
   ]
  },
  {
   "cell_type": "code",
   "execution_count": 45,
   "metadata": {},
   "outputs": [
    {
     "data": {
      "text/html": [
       "<div>\n",
       "<style scoped>\n",
       "    .dataframe tbody tr th:only-of-type {\n",
       "        vertical-align: middle;\n",
       "    }\n",
       "\n",
       "    .dataframe tbody tr th {\n",
       "        vertical-align: top;\n",
       "    }\n",
       "\n",
       "    .dataframe thead th {\n",
       "        text-align: right;\n",
       "    }\n",
       "</style>\n",
       "<table border=\"1\" class=\"dataframe\">\n",
       "  <thead>\n",
       "    <tr style=\"text-align: right;\">\n",
       "      <th></th>\n",
       "      <th>cat_name</th>\n",
       "      <th>all_clients</th>\n",
       "      <th>churn_clients</th>\n",
       "      <th>delta</th>\n",
       "    </tr>\n",
       "  </thead>\n",
       "  <tbody>\n",
       "    <tr>\n",
       "      <th>9</th>\n",
       "      <td>rostov</td>\n",
       "      <td>0.1</td>\n",
       "      <td>0.1</td>\n",
       "      <td>0.0</td>\n",
       "    </tr>\n",
       "    <tr>\n",
       "      <th>11</th>\n",
       "      <td>yaroslavl</td>\n",
       "      <td>0.6</td>\n",
       "      <td>0.6</td>\n",
       "      <td>0.0</td>\n",
       "    </tr>\n",
       "    <tr>\n",
       "      <th>7</th>\n",
       "      <td>salary</td>\n",
       "      <td>147903.8</td>\n",
       "      <td>148310.7</td>\n",
       "      <td>-0.3</td>\n",
       "    </tr>\n",
       "    <tr>\n",
       "      <th>0</th>\n",
       "      <td>score</td>\n",
       "      <td>848.7</td>\n",
       "      <td>863.3</td>\n",
       "      <td>-1.7</td>\n",
       "    </tr>\n",
       "    <tr>\n",
       "      <th>1</th>\n",
       "      <td>age</td>\n",
       "      <td>42.7</td>\n",
       "      <td>41.4</td>\n",
       "      <td>3.0</td>\n",
       "    </tr>\n",
       "    <tr>\n",
       "      <th>5</th>\n",
       "      <td>credit_card</td>\n",
       "      <td>0.7</td>\n",
       "      <td>0.6</td>\n",
       "      <td>14.3</td>\n",
       "    </tr>\n",
       "    <tr>\n",
       "      <th>4</th>\n",
       "      <td>products</td>\n",
       "      <td>1.9</td>\n",
       "      <td>2.4</td>\n",
       "      <td>-26.3</td>\n",
       "    </tr>\n",
       "    <tr>\n",
       "      <th>10</th>\n",
       "      <td>rybinsk</td>\n",
       "      <td>0.3</td>\n",
       "      <td>0.2</td>\n",
       "      <td>33.3</td>\n",
       "    </tr>\n",
       "    <tr>\n",
       "      <th>3</th>\n",
       "      <td>balance</td>\n",
       "      <td>828901.6</td>\n",
       "      <td>1133993.3</td>\n",
       "      <td>-36.8</td>\n",
       "    </tr>\n",
       "    <tr>\n",
       "      <th>6</th>\n",
       "      <td>last_activity</td>\n",
       "      <td>0.5</td>\n",
       "      <td>0.7</td>\n",
       "      <td>-40.0</td>\n",
       "    </tr>\n",
       "    <tr>\n",
       "      <th>12</th>\n",
       "      <td>female</td>\n",
       "      <td>0.5</td>\n",
       "      <td>0.3</td>\n",
       "      <td>40.0</td>\n",
       "    </tr>\n",
       "    <tr>\n",
       "      <th>13</th>\n",
       "      <td>male</td>\n",
       "      <td>0.5</td>\n",
       "      <td>0.7</td>\n",
       "      <td>-40.0</td>\n",
       "    </tr>\n",
       "    <tr>\n",
       "      <th>2</th>\n",
       "      <td>equity</td>\n",
       "      <td>2.6</td>\n",
       "      <td>3.8</td>\n",
       "      <td>-46.2</td>\n",
       "    </tr>\n",
       "  </tbody>\n",
       "</table>\n",
       "</div>"
      ],
      "text/plain": [
       "         cat_name  all_clients  churn_clients  delta\n",
       "9          rostov          0.1            0.1    0.0\n",
       "11      yaroslavl          0.6            0.6    0.0\n",
       "7          salary     147903.8       148310.7   -0.3\n",
       "0           score        848.7          863.3   -1.7\n",
       "1             age         42.7           41.4    3.0\n",
       "5     credit_card          0.7            0.6   14.3\n",
       "4        products          1.9            2.4  -26.3\n",
       "10        rybinsk          0.3            0.2   33.3\n",
       "3         balance     828901.6      1133993.3  -36.8\n",
       "6   last_activity          0.5            0.7  -40.0\n",
       "12         female          0.5            0.3   40.0\n",
       "13           male          0.5            0.7  -40.0\n",
       "2          equity          2.6            3.8  -46.2"
      ]
     },
     "metadata": {},
     "output_type": "display_data"
    }
   ],
   "source": [
    "display(pic.query('cat_name!=\"churn\"').sort_values(by='delta', key=abs))"
   ]
  },
  {
   "cell_type": "markdown",
   "metadata": {},
   "source": [
    "Для типичного клиента банка характерно следующее:\n",
    "```\n",
    "возраст - 43 года\n",
    "скоринг - 849\n",
    "показатель собственности - 2.6\n",
    "баланс на счету - 830 тыс.\n",
    "количество банковских продуктов - 2\n",
    "кредитная карта - +\n",
    "зарплата - 148 тыс.\n",
    "город - Ярославль\n",
    "\n",
    "```\n",
    "Для отточного клиента банка характерно следующее:\n",
    "```\n",
    "возраст - 41 год\n",
    "скоринг - 863\n",
    "показатель собственности - 3.8\n",
    "баланс на счету - 1.13 млн.\n",
    "количество банковских продуктов - 2\n",
    "кредитная карта - +\n",
    "активность - +\n",
    "зарплата - 148 тыс.\n",
    "город - Ярославль\n",
    "пол - мужской\n",
    "\n",
    "```\n",
    "\n",
    "По предварительной оценке показатели по которым отличие отточных и действующих клиентов составляет > 10%:\n",
    " - у отточных выше: \n",
    "                    `equity`  на 46.2%, \n",
    "                    `balance` на 37.0%, \n",
    "                    `products` на 26.3%, \n",
    "                    `last_activity` на 40.0%, \n",
    "                    `male` на 20.0%\n",
    " - у отточных ниже: \n",
    "                    `credit_card` на 14.3%, \n",
    "                    `rybinsk` на 33% "
   ]
  },
  {
   "cell_type": "markdown",
   "metadata": {},
   "source": [
    "### Определение значений, при которых относительный отток превышает общие показатели."
   ]
  },
  {
   "cell_type": "markdown",
   "metadata": {},
   "source": [
    "Построим графики для непрерывных значений"
   ]
  },
  {
   "cell_type": "code",
   "execution_count": 46,
   "metadata": {
    "scrolled": false
   },
   "outputs": [
    {
     "data": {
      "image/png": "[encoded data removed]",
      "text/plain": [
       "<Figure size 1440x1080 with 3 Axes>"
      ]
     },
     "metadata": {
      "needs_background": "light"
     },
     "output_type": "display_data"
    }
   ],
   "source": [
    "fig, axes = plt.subplots(3, 1, figsize = (20,15))\n",
    "fig.suptitle('Распределение плотностей', fontsize = 24, fontweight='bold')\n",
    "dens_kde(df, 'score', axes[0], 600, 1000)\n",
    "dens_kde(df, 'salary', axes[1], 1000, 400000)\n",
    "dens_kde(df, 'balance', axes[2], 0, 5000000);\n"
   ]
  },
  {
   "cell_type": "markdown",
   "metadata": {},
   "source": [
    "Как видно из графиков отток выше на следующих участках:\n",
    "```\n",
    "- по скорингу - 820-940;\n",
    "- по зарплатам - 100-250 тыс.;\n",
    "- по балансу на счете - 1-4 млн.\n",
    "```"
   ]
  },
  {
   "cell_type": "markdown",
   "metadata": {},
   "source": [
    "Построим гистограммы для дискретных значений"
   ]
  },
  {
   "cell_type": "code",
   "execution_count": 47,
   "metadata": {},
   "outputs": [
    {
     "data": {
      "image/png": "[encoded data removed]",
      "text/plain": [
       "<Figure size 1080x576 with 1 Axes>"
      ]
     },
     "metadata": {
      "needs_background": "light"
     },
     "output_type": "display_data"
    }
   ],
   "source": [
    "fig, axes = plt.subplots(1, 1, figsize = (15,8))\n",
    "fig.suptitle('Распределение плотностей по возрасту', fontsize = 22, fontweight='bold')\n",
    "dens_hist(df, 'age', axes, range(18,90))"
   ]
  },
  {
   "cell_type": "code",
   "execution_count": 48,
   "metadata": {},
   "outputs": [
    {
     "data": {
      "image/png": "[encoded data removed]",
      "text/plain": [
       "<Figure size 1440x432 with 2 Axes>"
      ]
     },
     "metadata": {
      "needs_background": "light"
     },
     "output_type": "display_data"
    }
   ],
   "source": [
    "fig, ax = plt.subplots(1, 2, figsize=(20, 6))\n",
    "fig.suptitle('Распределение уровня оттока', fontsize = 22, fontweight='bold')\n",
    "bar_plot('equity', ax[0])\n",
    "bar_plot('products', ax[1])"
   ]
  },
  {
   "cell_type": "markdown",
   "metadata": {},
   "source": [
    "Из графиков следует что отток выше на следующих участках:\n",
    "```\n",
    "- по возрасту - 25-35 и 50-61;\n",
    "- по оценке собственности - > 2;\n",
    "- по количеству банковских продуктов - > 1\n",
    "```"
   ]
  },
  {
   "cell_type": "markdown",
   "metadata": {},
   "source": [
    "Построим гистограммы для бинарных значений"
   ]
  },
  {
   "cell_type": "code",
   "execution_count": 49,
   "metadata": {},
   "outputs": [],
   "source": [
    "cat_gr = pd.DataFrame([0, 1]) \n",
    "for i in ['credit_card', 'last_activity', 'rostov', 'rybinsk',\n",
    "            'yaroslavl', 'female', 'male']:\n",
    "    cat_gr = cat_gr.join(df.groupby(i)[['churn']].mean().reset_index(drop=True).rename(columns={'churn': i}))\n",
    "cat_gr = cat_gr.drop(columns=0).T.reset_index()    \n"
   ]
  },
  {
   "cell_type": "code",
   "execution_count": 50,
   "metadata": {
    "scrolled": false
   },
   "outputs": [
    {
     "data": {
      "image/png": "[encoded data removed]",
      "text/plain": [
       "<Figure size 1080x576 with 1 Axes>"
      ]
     },
     "metadata": {
      "needs_background": "light"
     },
     "output_type": "display_data"
    }
   ],
   "source": [
    "cat_gr.plot(kind='bar', figsize=(15,8), x='index', y=[0,1], fontsize=16)\n",
    "plt.axhline(y = df['churn'].mean(), color = 'r', linestyle = '-')\n",
    "plt.text(0.2, 0.185,'{}'.format(round(df['churn'].mean(), 2)), rotation=360, fontsize=16)\n",
    "plt.legend()\n",
    "plt.title('Распределение уровня оттока по категориям', fontsize=16);"
   ]
  },
  {
   "cell_type": "markdown",
   "metadata": {},
   "source": [
    "На данном графике горизонтальня линия соответствует средней величине отскока. Нас интересуют показатели, при которых столбчатые графики пересекают эту линию. Итак, отскок выше среднего у следующих клиентов:\n",
    "\n",
    "```\n",
    "- не имеющие кредитной карты;\n",
    "- активные;\n",
    "- из городов - Рыбинск и Ярославль;\n",
    "- мужского пола.\n",
    "```"
   ]
  },
  {
   "cell_type": "markdown",
   "metadata": {},
   "source": [
    "Проверим теперь расчетным способом есть ли корреляция с отскоком по критерию Фика."
   ]
  },
  {
   "cell_type": "code",
   "execution_count": 51,
   "metadata": {},
   "outputs": [],
   "source": [
    "df1 = df[['score', 'age', 'equity', 'balance', 'products', 'credit_card', 'last_activity', 'salary',\n",
    "          'churn', 'rostov','rybinsk', 'yaroslavl', 'female', 'male']]"
   ]
  },
  {
   "cell_type": "code",
   "execution_count": 52,
   "metadata": {},
   "outputs": [
    {
     "name": "stdout",
     "output_type": "stream",
     "text": [
      "interval columns not set, guessing: ['score', 'age', 'equity', 'balance', 'products', 'credit_card', 'last_activity', 'salary', 'churn', 'rostov', 'rybinsk', 'yaroslavl', 'female', 'male']\n"
     ]
    },
    {
     "data": {
      "image/png": "[encoded data removed]",
      "text/plain": [
       "<Figure size 360x720 with 2 Axes>"
      ]
     },
     "metadata": {
      "needs_background": "light"
     },
     "output_type": "display_data"
    }
   ],
   "source": [
    "plt.figure(figsize = (5,10))\n",
    "df2 = df1.phik_matrix()[['churn']].drop(index='churn', axis=0).sort_values(by='churn')\n",
    "sns.heatmap(df2, annot=True, fmt='.2g',  vmax=1, vmin=0, cmap='vlag', center = 0, annot_kws={\"fontsize\":16})\n",
    "sns.set(font_scale=2);"
   ]
  },
  {
   "cell_type": "markdown",
   "metadata": {},
   "source": [
    "Выше 10% корреляция у столбца `churn` со следующими признаками:\n",
    " - score;\n",
    " - age;\n",
    " - equity;\n",
    " - products;\n",
    " - credit_card;\n",
    " - last_activity;\n",
    " - male"
   ]
  },
  {
   "cell_type": "markdown",
   "metadata": {},
   "source": [
    "Отберем из данных категорий наиболее многочисленные из отточных клиентов c учетом диапазонов полученных на графиках."
   ]
  },
  {
   "cell_type": "code",
   "execution_count": 53,
   "metadata": {},
   "outputs": [
    {
     "data": {
      "text/plain": [
       "1375"
      ]
     },
     "execution_count": 53,
     "metadata": {},
     "output_type": "execute_result"
    }
   ],
   "source": [
    "df1.query('churn==1 & score.between(820, 940)')['churn'].count()"
   ]
  },
  {
   "cell_type": "code",
   "execution_count": 54,
   "metadata": {},
   "outputs": [
    {
     "data": {
      "text/plain": [
       "665"
      ]
     },
     "execution_count": 54,
     "metadata": {},
     "output_type": "execute_result"
    }
   ],
   "source": [
    "df1.query('churn==1 & age.between(25, 35)')['churn'].count()"
   ]
  },
  {
   "cell_type": "code",
   "execution_count": 55,
   "metadata": {},
   "outputs": [
    {
     "data": {
      "text/plain": [
       "486"
      ]
     },
     "execution_count": 55,
     "metadata": {},
     "output_type": "execute_result"
    }
   ],
   "source": [
    "df1.query('churn==1 & age.between(50, 61)')['churn'].count()"
   ]
  },
  {
   "cell_type": "code",
   "execution_count": 56,
   "metadata": {},
   "outputs": [
    {
     "data": {
      "text/plain": [
       "187"
      ]
     },
     "execution_count": 56,
     "metadata": {},
     "output_type": "execute_result"
    }
   ],
   "source": [
    "df1.query('churn==1 & balance.between(90000, 250000)')['churn'].count()"
   ]
  },
  {
   "cell_type": "code",
   "execution_count": 57,
   "metadata": {},
   "outputs": [
    {
     "data": {
      "text/plain": [
       "1470"
      ]
     },
     "execution_count": 57,
     "metadata": {},
     "output_type": "execute_result"
    }
   ],
   "source": [
    "df1.query('churn==1 & equity>2')['churn'].count()"
   ]
  },
  {
   "cell_type": "code",
   "execution_count": 58,
   "metadata": {},
   "outputs": [
    {
     "data": {
      "text/plain": [
       "605"
      ]
     },
     "execution_count": 58,
     "metadata": {},
     "output_type": "execute_result"
    }
   ],
   "source": [
    "df1.query('churn==1 & products>2')['churn'].count()"
   ]
  },
  {
   "cell_type": "code",
   "execution_count": 59,
   "metadata": {},
   "outputs": [
    {
     "data": {
      "text/plain": [
       "1003"
      ]
     },
     "execution_count": 59,
     "metadata": {},
     "output_type": "execute_result"
    }
   ],
   "source": [
    "df1.query('churn==1 & credit_card==1')['churn'].count()"
   ]
  },
  {
   "cell_type": "code",
   "execution_count": 60,
   "metadata": {},
   "outputs": [
    {
     "data": {
      "text/plain": [
       "1278"
      ]
     },
     "execution_count": 60,
     "metadata": {},
     "output_type": "execute_result"
    }
   ],
   "source": [
    "df1.query('churn==1 & last_activity==1')['churn'].count()"
   ]
  },
  {
   "cell_type": "code",
   "execution_count": 61,
   "metadata": {},
   "outputs": [
    {
     "data": {
      "text/plain": [
       "1183"
      ]
     },
     "execution_count": 61,
     "metadata": {},
     "output_type": "execute_result"
    }
   ],
   "source": [
    "df1.query('churn==1 & male==1')['churn'].count()"
   ]
  },
  {
   "cell_type": "markdown",
   "metadata": {},
   "source": [
    "[к содержанию](#enter)"
   ]
  },
  {
   "cell_type": "markdown",
   "metadata": {},
   "source": [
    "<a id='hyp'></a>\n",
    "\n",
    "### Проверка гипотез"
   ]
  },
  {
   "cell_type": "markdown",
   "metadata": {},
   "source": [
    "Сформулируем гипотезы для признака `male`: <br/>\n",
    "H0: доли мужчин среди отточных и неотточных клиентов равны <br/>\n",
    "H1: доля мужчин среди отточных клиентов не равна доле мужчин среди неотточных "
   ]
  },
  {
   "cell_type": "code",
   "execution_count": 62,
   "metadata": {},
   "outputs": [
    {
     "name": "stdout",
     "output_type": "stream",
     "text": [
      "p-значение:  0.0\n",
      "Отвергаем нулевую гипотезу: между долями есть значимая разница\n"
     ]
    }
   ],
   "source": [
    "z_test('male')"
   ]
  },
  {
   "cell_type": "markdown",
   "metadata": {},
   "source": [
    "Величина вероятности раная нулю вызывает сомнения, проверим библиотечной функцией"
   ]
  },
  {
   "cell_type": "code",
   "execution_count": 63,
   "metadata": {},
   "outputs": [
    {
     "name": "stdout",
     "output_type": "stream",
     "text": [
      "0.000\n"
     ]
    }
   ],
   "source": [
    "count = np.array([df1[df1['churn']==0]['male'].sum(), df1[df1['churn']==1]['male'].sum()])\n",
    "nobs = np.array([df1[df1['churn']==0]['male'].count(), df1[df1['churn']==1]['male'].count()])\n",
    "stat, pval = proportions_ztest(count, nobs)\n",
    "print('{0:0.3f}'.format(pval))"
   ]
  },
  {
   "cell_type": "markdown",
   "metadata": {},
   "source": [
    "Как видно полученное значение ниже порога статистической значимости, значит нулевая гипотеза не подтвердилась и можно принять что доли отличаются."
   ]
  },
  {
   "cell_type": "markdown",
   "metadata": {},
   "source": [
    "Сформулируем гипотезы для признака `credit_card`: <br/>\n",
    "H0: доли клиентов с кредитными картами среди отточных и неотточных одинаковы <br/>\n",
    "H1: доля клиентов с кредитными картами среди отточных не равна доле клиентов среди неотточных"
   ]
  },
  {
   "cell_type": "code",
   "execution_count": 65,
   "metadata": {},
   "outputs": [
    {
     "name": "stdout",
     "output_type": "stream",
     "text": [
      "p-значение:  0.0\n",
      "Отвергаем нулевую гипотезу: между долями есть значимая разница\n"
     ]
    }
   ],
   "source": [
    "z_test('credit_card')"
   ]
  },
  {
   "cell_type": "markdown",
   "metadata": {},
   "source": [
    "Нулевая гипотеза не подтвердилась, доли кредитных карт отличаются"
   ]
  },
  {
   "cell_type": "markdown",
   "metadata": {},
   "source": [
    "Сформулируем гипотезы для признака `last_activity`: <br/>\n",
    "H0: доли активных клиентов среди отточных и неотточных одинаковы <br/>\n",
    "H1: доля активных клиентов среди отточных не равна доле клиентов среди неотточных"
   ]
  },
  {
   "cell_type": "code",
   "execution_count": 66,
   "metadata": {},
   "outputs": [
    {
     "name": "stdout",
     "output_type": "stream",
     "text": [
      "p-значение:  0.0\n",
      "Отвергаем нулевую гипотезу: между долями есть значимая разница\n"
     ]
    }
   ],
   "source": [
    "z_test('last_activity')"
   ]
  },
  {
   "cell_type": "markdown",
   "metadata": {},
   "source": [
    "Нулевая гипотеза не подтвердилась, доли активных клиентов различаются"
   ]
  },
  {
   "cell_type": "markdown",
   "metadata": {},
   "source": [
    "Проверим гипотезы для признака `equity`."
   ]
  },
  {
   "cell_type": "markdown",
   "metadata": {},
   "source": [
    "Сформулируем гипотезы для признака `equity`:  <br/>\n",
    "H0: средние оценки собственности среди отточных и неотточных одинаковы <br/>\n",
    "H1: средняя оценка собственности среди отточных не равна средней оценке неотточных\n"
   ]
  },
  {
   "cell_type": "markdown",
   "metadata": {},
   "source": [
    "```\n",
    "Столбец equity содержит колличественные данные, поэтому для них проверим гипотезы t-тестом. В то же время для корректной оценки должны соблюдаться следующие условия:\n",
    "- Совокупности не должны зависеть друг от друга (если ind).\n",
    "- Выборочные средние должны быть нормально распределены.\n",
    "- Дисперсии рассматриваемых генеральных совокупностей должны быть равны. При этом если выборки достаточно велики (3030 и больше значений) и равны по размеру между собой, то даже если дисперсии на самом деле не равны, то тест редко ошибается.\n",
    "Однако, наши выборки по размеру существенно отличаются, что может привести к ошибке. Кроме того, параметрические тесты если есть большие выбросы работают плохо. Чтобы проверить достоверность проведем дополнительно непараметрический тест\n",
    "Уилкоксона-Манна-Уитни, который работает с номерами значений в упорядоченном ряду и не учитывает сами значения.\n",
    "Поэтому к нему прибегают тогда, когда имеются большие выбросы.\n",
    "```"
   ]
  },
  {
   "cell_type": "code",
   "execution_count": 67,
   "metadata": {
    "scrolled": true
   },
   "outputs": [
    {
     "name": "stdout",
     "output_type": "stream",
     "text": [
      "p-значение: 8.69455598249367e-196\n",
      "Отвергаем нулевую гипотезу\n"
     ]
    }
   ],
   "source": [
    "alpha = 0.05 # уровень статистической значимости\n",
    "# если p-value окажется меньше него, отвергнем гипотезу\n",
    "\n",
    "results = st.ttest_ind(df1[df1['churn']==0]['equity'], df1[df1['churn']==1]['equity'], equal_var= False)\n",
    "\n",
    "print('p-значение:', results.pvalue)\n",
    "\n",
    "if results.pvalue < alpha:\n",
    "    print('Отвергаем нулевую гипотезу')\n",
    "else:\n",
    "    print('Не получилось отвергнуть нулевую гипотезу') "
   ]
  },
  {
   "cell_type": "code",
   "execution_count": 68,
   "metadata": {},
   "outputs": [
    {
     "name": "stdout",
     "output_type": "stream",
     "text": [
      "p-значение:  7.188830962860143e-157\n",
      "Отвергаем нулевую гипотезу: разница статистически значима\n"
     ]
    }
   ],
   "source": [
    "\n",
    "alpha = 0.05  # критический уровень статистической значимости\n",
    "\n",
    "results = st.mannwhitneyu(df1[df1['churn']==0]['equity'],df1[df1['churn']==1]['equity'])\n",
    "\n",
    "print('p-значение: ', results.pvalue)\n",
    "\n",
    "if results.pvalue < alpha:\n",
    "    print('Отвергаем нулевую гипотезу: разница статистически значима')\n",
    "else:\n",
    "    print(\n",
    "        'Не получилось отвергнуть нулевую гипотезу, вывод о различии сделать нельзя'\n",
    "    ) "
   ]
  },
  {
   "cell_type": "markdown",
   "metadata": {},
   "source": [
    "Как видно выводы обоих тестов совпали, однако результаты отличаются на 39 порядков. Хотя данные не содержат выбросов, размеры выборок существенно отличаются, а t-тест как уже отмечалось очень к этому чувствителен, т.к. исходит из того что статистики генерально совокупности имеют нормальное распределение, которое возможно если размеры выборок одинаковые."
   ]
  },
  {
   "cell_type": "markdown",
   "metadata": {},
   "source": [
    "Проверим гипотезы для признака `salary`."
   ]
  },
  {
   "cell_type": "markdown",
   "metadata": {},
   "source": [
    "Сформулируем гипотезы для признака `salary`:  <br/>\n",
    "H0: средние доходы отточных и неотточных одинаковы <br/>\n",
    "H1: средний доход отточных не равен среднему доходу неотточных"
   ]
  },
  {
   "cell_type": "code",
   "execution_count": 69,
   "metadata": {
    "scrolled": true
   },
   "outputs": [
    {
     "name": "stdout",
     "output_type": "stream",
     "text": [
      "p-значение: 0.8796213894730411\n",
      "Не получилось отвергнуть нулевую гипотезу\n"
     ]
    }
   ],
   "source": [
    "alpha = 0.05 # уровень статистической значимости\n",
    "# если p-value окажется меньше него, отвергнем гипотезу\n",
    "\n",
    "results = st.ttest_ind(df1[df1['churn']==0]['salary'], df1[df1['churn']==1]['salary'], equal_var= False)\n",
    "\n",
    "print('p-значение:', results.pvalue)\n",
    "\n",
    "if results.pvalue < alpha:\n",
    "    print('Отвергаем нулевую гипотезу')\n",
    "else:\n",
    "    print('Не получилось отвергнуть нулевую гипотезу') "
   ]
  },
  {
   "cell_type": "code",
   "execution_count": 70,
   "metadata": {},
   "outputs": [
    {
     "name": "stdout",
     "output_type": "stream",
     "text": [
      "p-значение:  0.00022703693954923942\n",
      "Отвергаем нулевую гипотезу: разница статистически значима\n"
     ]
    }
   ],
   "source": [
    "\n",
    "alpha = 0.05  # критический уровень статистической значимости\n",
    "\n",
    "results = st.mannwhitneyu(df1[df1['churn']==0]['salary'],df1[df1['churn']==1]['salary'])\n",
    "\n",
    "print('p-значение: ', results.pvalue)\n",
    "\n",
    "if results.pvalue < alpha:\n",
    "    print('Отвергаем нулевую гипотезу: разница статистически значима')\n",
    "else:\n",
    "    print(\n",
    "        'Не получилось отвергнуть нулевую гипотезу, вывод о различии сделать нельзя'\n",
    "    ) "
   ]
  },
  {
   "cell_type": "markdown",
   "metadata": {},
   "source": [
    "Итак, результаты проверки гипотез для столбца зарплат получились разные, по t-тесту разница средних зарплат статистически не значима, а по тесту mannwhitneyu наоборот. По наличию выбросов и разных размеров выборок условия применения t-теста нарушены, поэтому результат может быть некорректным. Тест mannwhitneyu напротив не подвержен влиянию этих факторов, поэтому нулевую гипотезу можно отвергнуть."
   ]
  },
  {
   "cell_type": "markdown",
   "metadata": {},
   "source": [
    "[к содержанию](#enter)"
   ]
  },
  {
   "cell_type": "markdown",
   "metadata": {},
   "source": [
    "<a id='icon'></a>\n",
    "\n",
    "## Итоги по EDA"
   ]
  },
  {
   "cell_type": "markdown",
   "metadata": {},
   "source": [
    "В результате исследовательского анализа были получены следующие результаты:"
   ]
  },
  {
   "cell_type": "markdown",
   "metadata": {},
   "source": [
    "<img src=\"./eda concl.png\">"
   ]
  },
  {
   "cell_type": "markdown",
   "metadata": {},
   "source": [
    "На основе таблицы и количественных данных отберем 6 основных признаков влияющих на отток:  <br/>\n",
    "`male` <br/>\n",
    "`female` <br/>\n",
    "`equity` <br/>\n",
    "`products` <br/>\n",
    "`credit_card` <br/>\n",
    "`last_activity` <br/>\n"
   ]
  },
  {
   "cell_type": "markdown",
   "metadata": {},
   "source": [
    "[к содержанию](#enter)"
   ]
  },
  {
   "cell_type": "markdown",
   "metadata": {},
   "source": [
    "<a id='segm'></a>\n",
    "\n",
    "## Сегментация признаков"
   ]
  },
  {
   "cell_type": "markdown",
   "metadata": {},
   "source": [
    "На основе отобранных признаков выделим сегмент характерный для отточных клиентов."
   ]
  },
  {
   "cell_type": "code",
   "execution_count": 75,
   "metadata": {
    "scrolled": false
   },
   "outputs": [
    {
     "data": {
      "text/html": [
       "<style  type=\"text/css\" >\n",
       "</style><table id=\"T_add55_\" ><thead>    <tr>        <th class=\"blank level0\" ></th>        <th class=\"col_heading level0 col0\" >Отток</th>        <th class=\"col_heading level0 col1\" >Размер</th>    </tr></thead><tbody>\n",
       "                <tr>\n",
       "                        <th id=\"T_add55_level0_row0\" class=\"row_heading level0 row0\" >male==1 and credit_card==0</th>\n",
       "                        <td id=\"T_add55_row0_col0\" class=\"data row0 col0\" >35.2%</td>\n",
       "                        <td id=\"T_add55_row0_col1\" class=\"data row0 col1\" >1_299</td>\n",
       "            </tr>\n",
       "            <tr>\n",
       "                        <th id=\"T_add55_level0_row1\" class=\"row_heading level0 row1\" >equity>2 and last_activity==1</th>\n",
       "                        <td id=\"T_add55_row1_col0\" class=\"data row1 col0\" >36.7%</td>\n",
       "                        <td id=\"T_add55_row1_col1\" class=\"data row1 col1\" >2_915</td>\n",
       "            </tr>\n",
       "            <tr>\n",
       "                        <th id=\"T_add55_level0_row2\" class=\"row_heading level0 row2\" >equity>2 and male==1</th>\n",
       "                        <td id=\"T_add55_row2_col0\" class=\"data row2 col0\" >35.6%</td>\n",
       "                        <td id=\"T_add55_row2_col1\" class=\"data row2 col1\" >2_720</td>\n",
       "            </tr>\n",
       "    </tbody></table>"
      ],
      "text/plain": [
       "<pandas.io.formats.style.Styler at 0x7f8659e977f0>"
      ]
     },
     "metadata": {},
     "output_type": "display_data"
    },
    {
     "name": "stdout",
     "output_type": "stream",
     "text": [
      "Часть сегментов недостаточно отточна\n",
      "Отдел маркетинга не сможет обработать такое количество клиентов\n",
      "Прекрасный результат, в сегменты попало: 1424/1819 = 78.3%\n"
     ]
    }
   ],
   "source": [
    "qrys = ('male==1 and credit_card==0',\n",
    "    'equity>2 and last_activity==1',\n",
    "    'equity>2 and male==1')\n",
    "\n",
    "df_results = pd.concat([\n",
    "    pd.DataFrame(df1.query(q).agg({\"churn\":['mean','count']}).values,\n",
    "                 columns=[q],\n",
    "                 index=['Отток','Размер']).T \n",
    "    for q in qrys])\n",
    "\n",
    "display(df_results.style.format(\"{:.1%}\",subset=[\"Отток\"])\\\n",
    "                   .format(\"{:_.0f}\",subset=[\"Размер\"]))\n",
    "    \n",
    "all_catched = pd.concat([df1.query(q) for q in qrys])\n",
    "all_churn = df1.churn.sum()\n",
    "catched = all_catched.drop_duplicates().churn.sum()\n",
    "share_catched = catched / all_churn\n",
    "\n",
    "if len(qrys) != 3:\n",
    "    print('Результаты некорректны, нужно 3 лучших сегмента')\n",
    "    \n",
    "if df_results['Отток'].min() < df1.churn.mean() * 1.5:\n",
    "    print('Нужно изменить сегменты: присутствуют недостаточно отточные')\n",
    "elif df_results['Отток'].min() < df1.churn.mean() * 2:\n",
    "    print('Часть сегментов недостаточно отточна')\n",
    "\n",
    "if df_results['Размер'].min() < 300:\n",
    "    print('Нужно изменить сегменты: присутствуют слишком мелкие сегменты')\n",
    "    \n",
    "if all_catched.shape[0] > 5000:\n",
    "    print(\"Отдел маркетинга не сможет обработать такое количество клиентов\")\n",
    "elif all_catched.shape[0] > 3000:\n",
    "    print(\"Отделу маркетинга будет сложно обработать такое количество клиентов, его эффективность снизится\")\n",
    "elif all_catched.shape[0] < 1000:\n",
    "    print(\"Сегменты можно увеличить\")\n",
    "\n",
    "text_churn = f\"{catched}/{all_churn} = {share_catched:.1%}\"\n",
    "if share_catched < 1/3:\n",
    "    print(f\"В сегменты попало недостаточное число отточных: {text_churn}\")\n",
    "elif share_catched < 1/2:\n",
    "    print(f\"В сегменты попало: {text_churn}\")\n",
    "elif share_catched < 2/3:\n",
    "    print(f\"Хороший результат, в сегменты попало: {text_churn}\")\n",
    "else:\n",
    "    print(f\"Прекрасный результат, в сегменты попало: {text_churn}\")"
   ]
  },
  {
   "cell_type": "markdown",
   "metadata": {},
   "source": [
    "<a id='concl'></a>\n",
    "\n",
    "## Общие выводы"
   ]
  },
  {
   "cell_type": "markdown",
   "metadata": {},
   "source": [
    "* Получено 3 характерных сегмента отточных клиентов:\n",
    " - активные люди с оценкой собственности > 2;\n",
    " - мужчины без кредитной карты;\n",
    " - мужчины с оценкой собственности > 2\t\n",
    "* Рекомендации по снижению оттока:\n",
    "```\n",
    "    - онлайн-оформление полиса страхования имущества в любом регионе России \n",
    "    - онлайн-бронирование реквизитов счета, открытие и обслуживание без посещения банка, переводы без коммиссии\n",
    "    - кобрендинговые карты в магазинах связанных с рыбалкой.    \n",
    "```"
   ]
  },
  {
   "cell_type": "markdown",
   "metadata": {},
   "source": [
    "[к содержанию](#enter)"
   ]
  },
  {
   "cell_type": "markdown",
   "metadata": {},
   "source": [
    "**Ссылка на pdf файл с презентацией**"
   ]
  },
  {
   "cell_type": "markdown",
   "metadata": {},
   "source": [
    "https://disk.yandex.ru/i/vwhB9Vs-K8nwvg"
   ]
  }
 ],
 "metadata": {
  "ExecuteTimeLog": [
   {
    "duration": 1731,
    "start_time": "2023-05-30T10:57:26.753Z"
   },
   {
    "duration": 1321,
    "start_time": "2023-05-30T10:57:28.486Z"
   },
   {
    "duration": 3698,
    "start_time": "2023-05-30T11:12:29.523Z"
   },
   {
    "duration": 20,
    "start_time": "2023-05-30T11:12:44.361Z"
   },
   {
    "duration": 15,
    "start_time": "2023-05-30T11:13:25.153Z"
   },
   {
    "duration": 3,
    "start_time": "2023-05-30T11:34:59.061Z"
   },
   {
    "duration": 52,
    "start_time": "2023-05-30T11:36:48.492Z"
   },
   {
    "duration": 4,
    "start_time": "2023-05-30T11:41:30.958Z"
   },
   {
    "duration": 5,
    "start_time": "2023-05-30T11:41:31.625Z"
   },
   {
    "duration": 37,
    "start_time": "2023-05-30T11:41:32.516Z"
   },
   {
    "duration": 136,
    "start_time": "2023-05-30T11:44:05.346Z"
   },
   {
    "duration": 31,
    "start_time": "2023-05-30T11:44:15.297Z"
   },
   {
    "duration": 19,
    "start_time": "2023-05-30T11:44:29.821Z"
   },
   {
    "duration": 34,
    "start_time": "2023-05-30T11:46:37.805Z"
   },
   {
    "duration": 23,
    "start_time": "2023-05-30T11:46:50.112Z"
   },
   {
    "duration": 32,
    "start_time": "2023-05-30T11:46:53.851Z"
   },
   {
    "duration": 29,
    "start_time": "2023-05-30T11:47:57.653Z"
   },
   {
    "duration": 14,
    "start_time": "2023-05-30T11:48:28.071Z"
   },
   {
    "duration": 9,
    "start_time": "2023-05-30T11:49:08.172Z"
   },
   {
    "duration": 9,
    "start_time": "2023-05-30T11:49:35.658Z"
   },
   {
    "duration": 10,
    "start_time": "2023-05-30T11:50:07.551Z"
   },
   {
    "duration": 10,
    "start_time": "2023-05-30T11:50:53.748Z"
   },
   {
    "duration": 9,
    "start_time": "2023-05-30T11:52:13.070Z"
   },
   {
    "duration": 10,
    "start_time": "2023-05-30T11:52:33.258Z"
   },
   {
    "duration": 32,
    "start_time": "2023-05-30T11:59:46.748Z"
   },
   {
    "duration": 18,
    "start_time": "2023-05-30T11:59:57.083Z"
   },
   {
    "duration": 12,
    "start_time": "2023-05-30T12:00:47.840Z"
   },
   {
    "duration": 11,
    "start_time": "2023-05-30T12:01:23.758Z"
   },
   {
    "duration": 18,
    "start_time": "2023-05-30T12:05:15.457Z"
   },
   {
    "duration": 7,
    "start_time": "2023-05-30T12:06:39.158Z"
   },
   {
    "duration": 7,
    "start_time": "2023-05-30T12:08:55.966Z"
   },
   {
    "duration": 11,
    "start_time": "2023-05-30T12:09:59.782Z"
   },
   {
    "duration": 13,
    "start_time": "2023-05-30T12:10:12.769Z"
   },
   {
    "duration": 2382,
    "start_time": "2023-05-30T12:51:18.034Z"
   },
   {
    "duration": 1633,
    "start_time": "2023-05-30T12:51:20.433Z"
   },
   {
    "duration": 19,
    "start_time": "2023-05-30T12:51:22.068Z"
   },
   {
    "duration": 36,
    "start_time": "2023-05-30T12:51:22.089Z"
   },
   {
    "duration": 58,
    "start_time": "2023-05-30T12:51:22.127Z"
   },
   {
    "duration": 8,
    "start_time": "2023-05-30T12:51:22.187Z"
   },
   {
    "duration": 81,
    "start_time": "2023-05-30T12:51:22.197Z"
   },
   {
    "duration": 88,
    "start_time": "2023-05-30T12:51:22.280Z"
   },
   {
    "duration": 22,
    "start_time": "2023-05-30T12:51:22.370Z"
   },
   {
    "duration": 52,
    "start_time": "2023-05-30T12:51:22.395Z"
   },
   {
    "duration": 23,
    "start_time": "2023-05-30T12:51:22.449Z"
   },
   {
    "duration": 21,
    "start_time": "2023-05-30T12:51:22.475Z"
   },
   {
    "duration": 485,
    "start_time": "2023-05-30T12:51:22.505Z"
   },
   {
    "duration": 0,
    "start_time": "2023-05-30T12:51:22.992Z"
   },
   {
    "duration": 0,
    "start_time": "2023-05-30T12:51:22.994Z"
   },
   {
    "duration": 0,
    "start_time": "2023-05-30T12:51:22.995Z"
   },
   {
    "duration": 0,
    "start_time": "2023-05-30T12:51:22.997Z"
   },
   {
    "duration": 0,
    "start_time": "2023-05-30T12:51:22.997Z"
   },
   {
    "duration": 0,
    "start_time": "2023-05-30T12:51:22.998Z"
   },
   {
    "duration": 0,
    "start_time": "2023-05-30T12:51:22.999Z"
   },
   {
    "duration": 0,
    "start_time": "2023-05-30T12:51:23.015Z"
   },
   {
    "duration": 0,
    "start_time": "2023-05-30T12:51:23.017Z"
   },
   {
    "duration": 0,
    "start_time": "2023-05-30T12:51:23.018Z"
   },
   {
    "duration": 0,
    "start_time": "2023-05-30T12:51:23.019Z"
   },
   {
    "duration": 0,
    "start_time": "2023-05-30T12:51:23.023Z"
   },
   {
    "duration": 0,
    "start_time": "2023-05-30T12:51:23.025Z"
   },
   {
    "duration": 5,
    "start_time": "2023-05-30T12:52:17.882Z"
   },
   {
    "duration": 6,
    "start_time": "2023-05-30T12:52:22.172Z"
   },
   {
    "duration": 4,
    "start_time": "2023-05-30T12:52:22.672Z"
   },
   {
    "duration": 26,
    "start_time": "2023-05-30T12:52:23.226Z"
   },
   {
    "duration": 46,
    "start_time": "2023-05-30T12:52:23.790Z"
   },
   {
    "duration": 8,
    "start_time": "2023-05-30T12:52:24.568Z"
   },
   {
    "duration": 14,
    "start_time": "2023-05-30T12:52:25.270Z"
   },
   {
    "duration": 9,
    "start_time": "2023-05-30T12:52:25.762Z"
   },
   {
    "duration": 25,
    "start_time": "2023-05-30T12:52:26.037Z"
   },
   {
    "duration": 14,
    "start_time": "2023-05-30T12:52:26.294Z"
   },
   {
    "duration": 19,
    "start_time": "2023-05-30T12:52:26.656Z"
   },
   {
    "duration": 29,
    "start_time": "2023-05-30T12:52:27.225Z"
   },
   {
    "duration": 12,
    "start_time": "2023-05-30T12:52:27.858Z"
   },
   {
    "duration": 29,
    "start_time": "2023-05-30T12:52:29.293Z"
   },
   {
    "duration": 16,
    "start_time": "2023-05-30T12:54:17.774Z"
   },
   {
    "duration": 33,
    "start_time": "2023-05-30T12:56:08.738Z"
   },
   {
    "duration": 30,
    "start_time": "2023-05-30T12:56:09.994Z"
   },
   {
    "duration": 215,
    "start_time": "2023-05-30T13:03:37.389Z"
   },
   {
    "duration": 39,
    "start_time": "2023-05-30T13:03:47.991Z"
   },
   {
    "duration": 28,
    "start_time": "2023-05-30T13:04:49.624Z"
   },
   {
    "duration": 12,
    "start_time": "2023-05-30T13:05:12.472Z"
   },
   {
    "duration": 25,
    "start_time": "2023-05-30T13:06:57.290Z"
   },
   {
    "duration": 46,
    "start_time": "2023-05-30T13:08:56.669Z"
   },
   {
    "duration": 42,
    "start_time": "2023-05-30T13:10:04.610Z"
   },
   {
    "duration": 50,
    "start_time": "2023-05-30T13:10:13.734Z"
   },
   {
    "duration": 37,
    "start_time": "2023-05-30T13:10:38.135Z"
   },
   {
    "duration": 58,
    "start_time": "2023-05-30T13:10:52.770Z"
   },
   {
    "duration": 85,
    "start_time": "2023-05-30T13:12:18.667Z"
   },
   {
    "duration": 93,
    "start_time": "2023-05-30T13:13:04.487Z"
   },
   {
    "duration": 55,
    "start_time": "2023-05-30T13:13:42.289Z"
   },
   {
    "duration": 68,
    "start_time": "2023-05-30T13:15:03.816Z"
   },
   {
    "duration": 6,
    "start_time": "2023-05-30T13:17:02.018Z"
   },
   {
    "duration": 12,
    "start_time": "2023-05-30T13:17:32.391Z"
   },
   {
    "duration": 5,
    "start_time": "2023-05-30T13:17:44.990Z"
   },
   {
    "duration": 11,
    "start_time": "2023-05-30T13:17:46.262Z"
   },
   {
    "duration": 19,
    "start_time": "2023-05-30T13:18:05.065Z"
   },
   {
    "duration": 20,
    "start_time": "2023-05-30T13:18:11.781Z"
   },
   {
    "duration": 71,
    "start_time": "2023-05-30T13:18:28.117Z"
   },
   {
    "duration": 10,
    "start_time": "2023-05-30T13:18:29.125Z"
   },
   {
    "duration": 28,
    "start_time": "2023-05-30T13:18:30.142Z"
   },
   {
    "duration": 12,
    "start_time": "2023-05-30T13:21:10.554Z"
   },
   {
    "duration": 10,
    "start_time": "2023-05-30T13:21:11.881Z"
   },
   {
    "duration": 159,
    "start_time": "2023-05-30T13:21:34.783Z"
   },
   {
    "duration": 15,
    "start_time": "2023-05-30T13:21:57.597Z"
   },
   {
    "duration": 11,
    "start_time": "2023-05-30T13:22:03.080Z"
   },
   {
    "duration": 55,
    "start_time": "2023-05-30T13:26:47.326Z"
   },
   {
    "duration": 44,
    "start_time": "2023-05-31T07:06:53.210Z"
   },
   {
    "duration": 5,
    "start_time": "2023-05-31T07:07:03.199Z"
   },
   {
    "duration": 1267,
    "start_time": "2023-05-31T07:07:36.614Z"
   },
   {
    "duration": 1267,
    "start_time": "2023-05-31T07:07:37.883Z"
   },
   {
    "duration": 14,
    "start_time": "2023-05-31T07:07:39.151Z"
   },
   {
    "duration": 10,
    "start_time": "2023-05-31T07:07:39.167Z"
   },
   {
    "duration": 9,
    "start_time": "2023-05-31T07:07:39.180Z"
   },
   {
    "duration": 5,
    "start_time": "2023-05-31T07:07:39.190Z"
   },
   {
    "duration": 112,
    "start_time": "2023-05-31T07:07:39.196Z"
   },
   {
    "duration": 0,
    "start_time": "2023-05-31T07:07:39.310Z"
   },
   {
    "duration": 0,
    "start_time": "2023-05-31T07:07:39.312Z"
   },
   {
    "duration": 0,
    "start_time": "2023-05-31T07:07:39.313Z"
   },
   {
    "duration": 0,
    "start_time": "2023-05-31T07:07:39.313Z"
   },
   {
    "duration": 0,
    "start_time": "2023-05-31T07:07:39.315Z"
   },
   {
    "duration": 0,
    "start_time": "2023-05-31T07:07:39.325Z"
   },
   {
    "duration": 0,
    "start_time": "2023-05-31T07:07:39.327Z"
   },
   {
    "duration": 0,
    "start_time": "2023-05-31T07:07:39.328Z"
   },
   {
    "duration": 0,
    "start_time": "2023-05-31T07:07:39.329Z"
   },
   {
    "duration": 0,
    "start_time": "2023-05-31T07:07:39.331Z"
   },
   {
    "duration": 0,
    "start_time": "2023-05-31T07:07:39.332Z"
   },
   {
    "duration": 0,
    "start_time": "2023-05-31T07:07:39.333Z"
   },
   {
    "duration": 0,
    "start_time": "2023-05-31T07:07:39.335Z"
   },
   {
    "duration": 0,
    "start_time": "2023-05-31T07:07:39.336Z"
   },
   {
    "duration": 0,
    "start_time": "2023-05-31T07:07:39.338Z"
   },
   {
    "duration": 0,
    "start_time": "2023-05-31T07:07:39.340Z"
   },
   {
    "duration": 0,
    "start_time": "2023-05-31T07:07:39.341Z"
   },
   {
    "duration": 0,
    "start_time": "2023-05-31T07:07:39.343Z"
   },
   {
    "duration": 0,
    "start_time": "2023-05-31T07:07:39.344Z"
   },
   {
    "duration": 0,
    "start_time": "2023-05-31T07:07:39.345Z"
   },
   {
    "duration": 0,
    "start_time": "2023-05-31T07:07:39.347Z"
   },
   {
    "duration": 8,
    "start_time": "2023-05-31T07:07:53.046Z"
   },
   {
    "duration": 3,
    "start_time": "2023-05-31T07:07:58.458Z"
   },
   {
    "duration": 3,
    "start_time": "2023-05-31T07:08:03.326Z"
   },
   {
    "duration": 5,
    "start_time": "2023-05-31T07:08:05.377Z"
   },
   {
    "duration": 4,
    "start_time": "2023-05-31T07:08:06.109Z"
   },
   {
    "duration": 4,
    "start_time": "2023-05-31T07:08:06.806Z"
   },
   {
    "duration": 4,
    "start_time": "2023-05-31T07:08:07.505Z"
   },
   {
    "duration": 4,
    "start_time": "2023-05-31T07:08:08.245Z"
   },
   {
    "duration": 4,
    "start_time": "2023-05-31T07:08:23.608Z"
   },
   {
    "duration": 4,
    "start_time": "2023-05-31T07:08:40.706Z"
   },
   {
    "duration": 8,
    "start_time": "2023-05-31T07:10:44.253Z"
   },
   {
    "duration": 3,
    "start_time": "2023-05-31T07:10:48.742Z"
   },
   {
    "duration": 4,
    "start_time": "2023-05-31T07:11:07.255Z"
   },
   {
    "duration": 8,
    "start_time": "2023-05-31T07:12:17.515Z"
   },
   {
    "duration": 5,
    "start_time": "2023-05-31T07:13:09.526Z"
   },
   {
    "duration": 74,
    "start_time": "2023-05-31T07:13:47.532Z"
   },
   {
    "duration": 73,
    "start_time": "2023-05-31T07:13:52.773Z"
   },
   {
    "duration": 12,
    "start_time": "2023-05-31T07:17:17.095Z"
   },
   {
    "duration": 11,
    "start_time": "2023-05-31T07:17:55.772Z"
   },
   {
    "duration": 6,
    "start_time": "2023-05-31T07:18:17.182Z"
   },
   {
    "duration": 9,
    "start_time": "2023-05-31T07:18:35.709Z"
   },
   {
    "duration": 9,
    "start_time": "2023-05-31T07:18:52.578Z"
   },
   {
    "duration": 6,
    "start_time": "2023-05-31T07:24:15.570Z"
   },
   {
    "duration": 3,
    "start_time": "2023-05-31T07:26:46.187Z"
   },
   {
    "duration": 3,
    "start_time": "2023-05-31T07:26:46.810Z"
   },
   {
    "duration": 10,
    "start_time": "2023-05-31T07:32:15.111Z"
   },
   {
    "duration": 19,
    "start_time": "2023-05-31T07:32:16.444Z"
   },
   {
    "duration": 4,
    "start_time": "2023-05-31T07:39:41.928Z"
   },
   {
    "duration": 7,
    "start_time": "2023-05-31T07:49:09.380Z"
   },
   {
    "duration": 11,
    "start_time": "2023-05-31T07:49:10.176Z"
   },
   {
    "duration": 6,
    "start_time": "2023-05-31T08:13:23.841Z"
   },
   {
    "duration": 76,
    "start_time": "2023-05-31T08:19:35.115Z"
   },
   {
    "duration": 8,
    "start_time": "2023-05-31T08:31:03.888Z"
   },
   {
    "duration": 5,
    "start_time": "2023-05-31T08:31:07.654Z"
   },
   {
    "duration": 8,
    "start_time": "2023-05-31T08:41:52.531Z"
   },
   {
    "duration": 5,
    "start_time": "2023-05-31T08:41:57.186Z"
   },
   {
    "duration": 8,
    "start_time": "2023-05-31T08:43:58.519Z"
   },
   {
    "duration": 5,
    "start_time": "2023-05-31T08:44:22.155Z"
   },
   {
    "duration": 10,
    "start_time": "2023-05-31T08:47:24.879Z"
   },
   {
    "duration": 8,
    "start_time": "2023-05-31T08:48:01.878Z"
   },
   {
    "duration": 13,
    "start_time": "2023-05-31T08:50:29.162Z"
   },
   {
    "duration": 8,
    "start_time": "2023-05-31T08:50:51.190Z"
   },
   {
    "duration": 13,
    "start_time": "2023-05-31T08:52:03.251Z"
   },
   {
    "duration": 7,
    "start_time": "2023-05-31T08:52:20.079Z"
   },
   {
    "duration": 7,
    "start_time": "2023-05-31T08:52:40.764Z"
   },
   {
    "duration": 6,
    "start_time": "2023-05-31T08:52:48.255Z"
   },
   {
    "duration": 10,
    "start_time": "2023-05-31T08:53:27.797Z"
   },
   {
    "duration": 1259,
    "start_time": "2023-05-31T08:55:52.432Z"
   },
   {
    "duration": 9,
    "start_time": "2023-05-31T08:56:43.753Z"
   },
   {
    "duration": 6,
    "start_time": "2023-05-31T08:56:56.230Z"
   },
   {
    "duration": 1050,
    "start_time": "2023-05-31T10:04:45.371Z"
   },
   {
    "duration": 921,
    "start_time": "2023-05-31T10:04:46.423Z"
   },
   {
    "duration": 16,
    "start_time": "2023-05-31T10:04:47.346Z"
   },
   {
    "duration": 11,
    "start_time": "2023-05-31T10:04:47.364Z"
   },
   {
    "duration": 9,
    "start_time": "2023-05-31T10:04:47.378Z"
   },
   {
    "duration": 4,
    "start_time": "2023-05-31T10:04:47.388Z"
   },
   {
    "duration": 35,
    "start_time": "2023-05-31T10:04:47.393Z"
   },
   {
    "duration": 4,
    "start_time": "2023-05-31T10:04:47.429Z"
   },
   {
    "duration": 7,
    "start_time": "2023-05-31T10:04:47.435Z"
   },
   {
    "duration": 5,
    "start_time": "2023-05-31T10:04:47.443Z"
   },
   {
    "duration": 4,
    "start_time": "2023-05-31T10:04:47.450Z"
   },
   {
    "duration": 9,
    "start_time": "2023-05-31T10:04:47.456Z"
   },
   {
    "duration": 5,
    "start_time": "2023-05-31T10:04:47.466Z"
   },
   {
    "duration": 5,
    "start_time": "2023-05-31T10:04:47.473Z"
   },
   {
    "duration": 9,
    "start_time": "2023-05-31T10:04:47.479Z"
   },
   {
    "duration": 13,
    "start_time": "2023-05-31T10:04:47.489Z"
   },
   {
    "duration": 23,
    "start_time": "2023-05-31T10:04:47.504Z"
   },
   {
    "duration": 7,
    "start_time": "2023-05-31T10:04:47.529Z"
   },
   {
    "duration": 11,
    "start_time": "2023-05-31T10:04:47.537Z"
   },
   {
    "duration": 6,
    "start_time": "2023-05-31T10:04:47.549Z"
   },
   {
    "duration": 10,
    "start_time": "2023-05-31T10:04:47.556Z"
   },
   {
    "duration": 13,
    "start_time": "2023-05-31T10:04:47.567Z"
   },
   {
    "duration": 17,
    "start_time": "2023-05-31T10:04:47.582Z"
   },
   {
    "duration": 28,
    "start_time": "2023-05-31T10:04:47.601Z"
   },
   {
    "duration": 11,
    "start_time": "2023-05-31T10:04:47.630Z"
   },
   {
    "duration": 4,
    "start_time": "2023-05-31T10:04:47.643Z"
   },
   {
    "duration": 22,
    "start_time": "2023-05-31T10:04:47.648Z"
   },
   {
    "duration": 6,
    "start_time": "2023-05-31T10:04:47.671Z"
   },
   {
    "duration": 10,
    "start_time": "2023-05-31T10:04:47.678Z"
   },
   {
    "duration": 8,
    "start_time": "2023-05-31T10:04:47.689Z"
   },
   {
    "duration": 22,
    "start_time": "2023-05-31T10:04:47.698Z"
   },
   {
    "duration": 98,
    "start_time": "2023-05-31T10:04:47.724Z"
   },
   {
    "duration": 0,
    "start_time": "2023-05-31T10:04:47.824Z"
   },
   {
    "duration": 0,
    "start_time": "2023-05-31T10:04:47.825Z"
   },
   {
    "duration": 10,
    "start_time": "2023-05-31T10:05:53.715Z"
   },
   {
    "duration": 8,
    "start_time": "2023-05-31T10:06:37.867Z"
   },
   {
    "duration": 7,
    "start_time": "2023-05-31T10:10:20.205Z"
   },
   {
    "duration": 10,
    "start_time": "2023-05-31T10:10:36.958Z"
   },
   {
    "duration": 32,
    "start_time": "2023-05-31T10:14:59.953Z"
   },
   {
    "duration": 23,
    "start_time": "2023-05-31T10:16:35.858Z"
   },
   {
    "duration": 17,
    "start_time": "2023-05-31T10:17:07.242Z"
   },
   {
    "duration": 17,
    "start_time": "2023-05-31T10:17:30.678Z"
   },
   {
    "duration": 16,
    "start_time": "2023-05-31T10:18:17.545Z"
   },
   {
    "duration": 20,
    "start_time": "2023-05-31T10:18:57.815Z"
   },
   {
    "duration": 15,
    "start_time": "2023-05-31T10:19:32.424Z"
   },
   {
    "duration": 48,
    "start_time": "2023-05-31T10:22:28.273Z"
   },
   {
    "duration": 18,
    "start_time": "2023-05-31T10:23:18.423Z"
   },
   {
    "duration": 10,
    "start_time": "2023-05-31T10:23:20.429Z"
   },
   {
    "duration": 8,
    "start_time": "2023-05-31T10:41:55.840Z"
   },
   {
    "duration": 6,
    "start_time": "2023-05-31T10:42:29.153Z"
   },
   {
    "duration": 3,
    "start_time": "2023-05-31T10:44:09.249Z"
   },
   {
    "duration": 1399,
    "start_time": "2023-05-31T10:44:51.823Z"
   },
   {
    "duration": 1191,
    "start_time": "2023-05-31T10:45:07.415Z"
   },
   {
    "duration": 1764,
    "start_time": "2023-05-31T10:45:08.608Z"
   },
   {
    "duration": 15,
    "start_time": "2023-05-31T10:45:10.373Z"
   },
   {
    "duration": 12,
    "start_time": "2023-05-31T10:45:10.390Z"
   },
   {
    "duration": 42,
    "start_time": "2023-05-31T10:45:10.404Z"
   },
   {
    "duration": 9,
    "start_time": "2023-05-31T10:45:10.447Z"
   },
   {
    "duration": 4,
    "start_time": "2023-05-31T10:45:10.458Z"
   },
   {
    "duration": 12,
    "start_time": "2023-05-31T10:45:10.463Z"
   },
   {
    "duration": 4,
    "start_time": "2023-05-31T10:45:10.477Z"
   },
   {
    "duration": 4,
    "start_time": "2023-05-31T10:45:10.483Z"
   },
   {
    "duration": 5,
    "start_time": "2023-05-31T10:45:10.488Z"
   },
   {
    "duration": 7,
    "start_time": "2023-05-31T10:45:10.526Z"
   },
   {
    "duration": 7,
    "start_time": "2023-05-31T10:45:10.535Z"
   },
   {
    "duration": 4,
    "start_time": "2023-05-31T10:45:10.544Z"
   },
   {
    "duration": 5,
    "start_time": "2023-05-31T10:45:10.549Z"
   },
   {
    "duration": 10,
    "start_time": "2023-05-31T10:45:10.555Z"
   },
   {
    "duration": 12,
    "start_time": "2023-05-31T10:45:10.566Z"
   },
   {
    "duration": 4,
    "start_time": "2023-05-31T10:45:10.579Z"
   },
   {
    "duration": 6,
    "start_time": "2023-05-31T10:45:10.585Z"
   },
   {
    "duration": 48,
    "start_time": "2023-05-31T10:45:10.592Z"
   },
   {
    "duration": 6,
    "start_time": "2023-05-31T10:45:10.641Z"
   },
   {
    "duration": 10,
    "start_time": "2023-05-31T10:45:10.648Z"
   },
   {
    "duration": 5,
    "start_time": "2023-05-31T10:45:10.659Z"
   },
   {
    "duration": 11,
    "start_time": "2023-05-31T10:45:10.665Z"
   },
   {
    "duration": 11,
    "start_time": "2023-05-31T10:45:10.678Z"
   },
   {
    "duration": 36,
    "start_time": "2023-05-31T10:45:10.690Z"
   },
   {
    "duration": 8,
    "start_time": "2023-05-31T10:45:10.728Z"
   },
   {
    "duration": 12,
    "start_time": "2023-05-31T10:45:10.740Z"
   },
   {
    "duration": 6,
    "start_time": "2023-05-31T10:45:10.753Z"
   },
   {
    "duration": 9,
    "start_time": "2023-05-31T10:45:10.760Z"
   },
   {
    "duration": 6,
    "start_time": "2023-05-31T10:45:10.770Z"
   },
   {
    "duration": 80,
    "start_time": "2023-05-31T10:45:10.777Z"
   },
   {
    "duration": 14,
    "start_time": "2023-05-31T10:45:10.859Z"
   },
   {
    "duration": 10,
    "start_time": "2023-05-31T10:45:10.875Z"
   },
   {
    "duration": 5,
    "start_time": "2023-05-31T10:45:10.887Z"
   },
   {
    "duration": 11,
    "start_time": "2023-05-31T10:45:10.894Z"
   },
   {
    "duration": 19,
    "start_time": "2023-05-31T10:45:10.907Z"
   },
   {
    "duration": 122,
    "start_time": "2023-05-31T10:45:10.928Z"
   },
   {
    "duration": 0,
    "start_time": "2023-05-31T10:45:11.052Z"
   },
   {
    "duration": 0,
    "start_time": "2023-05-31T10:45:11.053Z"
   },
   {
    "duration": 28,
    "start_time": "2023-05-31T10:51:08.012Z"
   },
   {
    "duration": 25,
    "start_time": "2023-05-31T10:52:45.318Z"
   },
   {
    "duration": 21,
    "start_time": "2023-05-31T10:53:02.895Z"
   },
   {
    "duration": 20,
    "start_time": "2023-05-31T10:53:15.643Z"
   },
   {
    "duration": 21,
    "start_time": "2023-05-31T10:53:33.932Z"
   },
   {
    "duration": 20,
    "start_time": "2023-05-31T10:54:47.563Z"
   },
   {
    "duration": 147,
    "start_time": "2023-05-31T10:55:32.594Z"
   },
   {
    "duration": 10,
    "start_time": "2023-05-31T10:56:26.863Z"
   },
   {
    "duration": 12,
    "start_time": "2023-05-31T10:57:02.555Z"
   },
   {
    "duration": 143,
    "start_time": "2023-05-31T10:57:29.075Z"
   },
   {
    "duration": 14,
    "start_time": "2023-05-31T10:57:51.903Z"
   },
   {
    "duration": 23,
    "start_time": "2023-05-31T10:58:37.575Z"
   },
   {
    "duration": 26,
    "start_time": "2023-05-31T10:59:43.946Z"
   },
   {
    "duration": 10,
    "start_time": "2023-05-31T10:59:45.083Z"
   },
   {
    "duration": 26,
    "start_time": "2023-05-31T11:12:43.681Z"
   },
   {
    "duration": 198,
    "start_time": "2023-05-31T11:12:59.661Z"
   },
   {
    "duration": 21,
    "start_time": "2023-05-31T11:13:34.055Z"
   },
   {
    "duration": 117,
    "start_time": "2023-05-31T11:13:43.193Z"
   },
   {
    "duration": 140,
    "start_time": "2023-05-31T11:14:12.938Z"
   },
   {
    "duration": 126,
    "start_time": "2023-05-31T11:14:28.987Z"
   },
   {
    "duration": 145,
    "start_time": "2023-05-31T11:15:38.646Z"
   },
   {
    "duration": 127,
    "start_time": "2023-05-31T11:15:51.879Z"
   },
   {
    "duration": 144,
    "start_time": "2023-05-31T11:16:55.254Z"
   },
   {
    "duration": 235,
    "start_time": "2023-05-31T11:17:48.407Z"
   },
   {
    "duration": 149,
    "start_time": "2023-05-31T11:19:15.771Z"
   },
   {
    "duration": 140,
    "start_time": "2023-05-31T11:19:51.857Z"
   },
   {
    "duration": 13,
    "start_time": "2023-05-31T11:19:57.469Z"
   },
   {
    "duration": 142,
    "start_time": "2023-05-31T11:19:58.152Z"
   },
   {
    "duration": 206,
    "start_time": "2023-05-31T11:21:01.155Z"
   },
   {
    "duration": 192,
    "start_time": "2023-05-31T11:21:20.186Z"
   },
   {
    "duration": 214,
    "start_time": "2023-05-31T11:22:33.981Z"
   },
   {
    "duration": 28,
    "start_time": "2023-05-31T11:23:00.017Z"
   },
   {
    "duration": 207,
    "start_time": "2023-05-31T11:23:17.437Z"
   },
   {
    "duration": 964,
    "start_time": "2023-05-31T11:24:58.037Z"
   },
   {
    "duration": 119,
    "start_time": "2023-05-31T11:25:12.182Z"
   },
   {
    "duration": 209,
    "start_time": "2023-05-31T11:25:28.905Z"
   },
   {
    "duration": 10,
    "start_time": "2023-05-31T11:26:06.938Z"
   },
   {
    "duration": 11,
    "start_time": "2023-05-31T11:27:25.577Z"
   },
   {
    "duration": 132,
    "start_time": "2023-05-31T11:27:38.110Z"
   },
   {
    "duration": 110,
    "start_time": "2023-05-31T11:28:09.537Z"
   },
   {
    "duration": 125,
    "start_time": "2023-05-31T11:29:40.526Z"
   },
   {
    "duration": 118,
    "start_time": "2023-05-31T11:30:15.112Z"
   },
   {
    "duration": 150,
    "start_time": "2023-05-31T11:41:41.609Z"
   },
   {
    "duration": 169,
    "start_time": "2023-05-31T11:42:59.529Z"
   },
   {
    "duration": 132,
    "start_time": "2023-05-31T11:43:22.363Z"
   },
   {
    "duration": 168,
    "start_time": "2023-05-31T11:44:13.503Z"
   },
   {
    "duration": 152,
    "start_time": "2023-05-31T11:45:11.213Z"
   },
   {
    "duration": 167,
    "start_time": "2023-05-31T11:46:07.487Z"
   },
   {
    "duration": 125,
    "start_time": "2023-05-31T11:47:20.619Z"
   },
   {
    "duration": 124,
    "start_time": "2023-05-31T11:47:34.795Z"
   },
   {
    "duration": 129,
    "start_time": "2023-05-31T11:49:51.111Z"
   },
   {
    "duration": 145,
    "start_time": "2023-05-31T11:50:37.171Z"
   },
   {
    "duration": 152,
    "start_time": "2023-05-31T11:54:42.291Z"
   },
   {
    "duration": 340,
    "start_time": "2023-05-31T11:57:47.153Z"
   },
   {
    "duration": 244,
    "start_time": "2023-05-31T11:58:53.328Z"
   },
   {
    "duration": 161,
    "start_time": "2023-05-31T12:18:59.154Z"
   },
   {
    "duration": 77,
    "start_time": "2023-05-31T12:19:25.950Z"
   },
   {
    "duration": 143,
    "start_time": "2023-05-31T12:19:32.972Z"
   },
   {
    "duration": 165,
    "start_time": "2023-05-31T12:19:50.848Z"
   },
   {
    "duration": 190,
    "start_time": "2023-05-31T12:21:15.922Z"
   },
   {
    "duration": 160,
    "start_time": "2023-05-31T12:22:24.319Z"
   },
   {
    "duration": 9,
    "start_time": "2023-05-31T12:24:05.183Z"
   },
   {
    "duration": 5,
    "start_time": "2023-05-31T12:24:29.958Z"
   },
   {
    "duration": 205,
    "start_time": "2023-05-31T12:25:25.563Z"
   },
   {
    "duration": 192,
    "start_time": "2023-05-31T12:28:28.916Z"
   },
   {
    "duration": 1214,
    "start_time": "2023-05-31T12:35:40.014Z"
   },
   {
    "duration": 115,
    "start_time": "2023-05-31T12:35:41.230Z"
   },
   {
    "duration": 0,
    "start_time": "2023-05-31T12:35:41.350Z"
   },
   {
    "duration": 0,
    "start_time": "2023-05-31T12:35:41.351Z"
   },
   {
    "duration": 0,
    "start_time": "2023-05-31T12:35:41.353Z"
   },
   {
    "duration": 0,
    "start_time": "2023-05-31T12:35:41.355Z"
   },
   {
    "duration": 0,
    "start_time": "2023-05-31T12:35:41.356Z"
   },
   {
    "duration": 0,
    "start_time": "2023-05-31T12:35:41.358Z"
   },
   {
    "duration": 0,
    "start_time": "2023-05-31T12:35:41.359Z"
   },
   {
    "duration": 0,
    "start_time": "2023-05-31T12:35:41.361Z"
   },
   {
    "duration": 0,
    "start_time": "2023-05-31T12:35:41.362Z"
   },
   {
    "duration": 0,
    "start_time": "2023-05-31T12:35:41.364Z"
   },
   {
    "duration": 0,
    "start_time": "2023-05-31T12:35:41.365Z"
   },
   {
    "duration": 0,
    "start_time": "2023-05-31T12:35:41.367Z"
   },
   {
    "duration": 0,
    "start_time": "2023-05-31T12:35:41.368Z"
   },
   {
    "duration": 0,
    "start_time": "2023-05-31T12:35:41.370Z"
   },
   {
    "duration": 0,
    "start_time": "2023-05-31T12:35:41.372Z"
   },
   {
    "duration": 0,
    "start_time": "2023-05-31T12:35:41.373Z"
   },
   {
    "duration": 0,
    "start_time": "2023-05-31T12:35:41.375Z"
   },
   {
    "duration": 0,
    "start_time": "2023-05-31T12:35:41.377Z"
   },
   {
    "duration": 0,
    "start_time": "2023-05-31T12:35:41.378Z"
   },
   {
    "duration": 0,
    "start_time": "2023-05-31T12:35:41.380Z"
   },
   {
    "duration": 0,
    "start_time": "2023-05-31T12:35:41.381Z"
   },
   {
    "duration": 0,
    "start_time": "2023-05-31T12:35:41.428Z"
   },
   {
    "duration": 0,
    "start_time": "2023-05-31T12:35:41.429Z"
   },
   {
    "duration": 0,
    "start_time": "2023-05-31T12:35:41.431Z"
   },
   {
    "duration": 0,
    "start_time": "2023-05-31T12:35:41.432Z"
   },
   {
    "duration": 0,
    "start_time": "2023-05-31T12:35:41.432Z"
   },
   {
    "duration": 0,
    "start_time": "2023-05-31T12:35:41.433Z"
   },
   {
    "duration": 0,
    "start_time": "2023-05-31T12:35:41.434Z"
   },
   {
    "duration": 0,
    "start_time": "2023-05-31T12:35:41.435Z"
   },
   {
    "duration": 0,
    "start_time": "2023-05-31T12:35:41.436Z"
   },
   {
    "duration": 0,
    "start_time": "2023-05-31T12:35:41.436Z"
   },
   {
    "duration": 0,
    "start_time": "2023-05-31T12:35:41.439Z"
   },
   {
    "duration": 0,
    "start_time": "2023-05-31T12:35:41.440Z"
   },
   {
    "duration": 0,
    "start_time": "2023-05-31T12:35:41.441Z"
   },
   {
    "duration": 0,
    "start_time": "2023-05-31T12:35:41.442Z"
   },
   {
    "duration": 0,
    "start_time": "2023-05-31T12:35:41.444Z"
   },
   {
    "duration": 0,
    "start_time": "2023-05-31T12:35:41.445Z"
   },
   {
    "duration": 4,
    "start_time": "2023-05-31T12:36:19.760Z"
   },
   {
    "duration": 9,
    "start_time": "2023-05-31T12:41:35.639Z"
   },
   {
    "duration": 1144,
    "start_time": "2023-05-31T12:41:55.084Z"
   },
   {
    "duration": 4,
    "start_time": "2023-05-31T12:41:56.230Z"
   },
   {
    "duration": 3784,
    "start_time": "2023-05-31T12:41:56.236Z"
   },
   {
    "duration": 19,
    "start_time": "2023-05-31T12:42:00.022Z"
   },
   {
    "duration": 38,
    "start_time": "2023-05-31T12:42:00.044Z"
   },
   {
    "duration": 168,
    "start_time": "2023-05-31T12:42:00.084Z"
   },
   {
    "duration": 19,
    "start_time": "2023-05-31T12:42:00.254Z"
   },
   {
    "duration": 5,
    "start_time": "2023-05-31T12:42:00.275Z"
   },
   {
    "duration": 109,
    "start_time": "2023-05-31T12:42:00.282Z"
   },
   {
    "duration": 20,
    "start_time": "2023-05-31T12:42:00.393Z"
   },
   {
    "duration": 90,
    "start_time": "2023-05-31T12:42:00.415Z"
   },
   {
    "duration": 107,
    "start_time": "2023-05-31T12:42:00.506Z"
   },
   {
    "duration": 34,
    "start_time": "2023-05-31T12:42:00.615Z"
   },
   {
    "duration": 49,
    "start_time": "2023-05-31T12:42:00.653Z"
   },
   {
    "duration": 70,
    "start_time": "2023-05-31T12:42:00.704Z"
   },
   {
    "duration": 53,
    "start_time": "2023-05-31T12:42:00.776Z"
   },
   {
    "duration": 50,
    "start_time": "2023-05-31T12:42:00.831Z"
   },
   {
    "duration": 92,
    "start_time": "2023-05-31T12:42:00.884Z"
   },
   {
    "duration": 121,
    "start_time": "2023-05-31T12:42:00.978Z"
   },
   {
    "duration": 71,
    "start_time": "2023-05-31T12:42:01.101Z"
   },
   {
    "duration": 230,
    "start_time": "2023-05-31T12:42:01.174Z"
   },
   {
    "duration": 181,
    "start_time": "2023-05-31T12:42:01.406Z"
   },
   {
    "duration": 139,
    "start_time": "2023-05-31T12:42:01.589Z"
   },
   {
    "duration": 70,
    "start_time": "2023-05-31T12:42:01.730Z"
   },
   {
    "duration": 243,
    "start_time": "2023-05-31T12:42:01.802Z"
   },
   {
    "duration": 9,
    "start_time": "2023-05-31T12:42:02.047Z"
   },
   {
    "duration": 54,
    "start_time": "2023-05-31T12:42:02.058Z"
   },
   {
    "duration": 307,
    "start_time": "2023-05-31T12:42:02.114Z"
   },
   {
    "duration": 11,
    "start_time": "2023-05-31T12:42:02.423Z"
   },
   {
    "duration": 123,
    "start_time": "2023-05-31T12:42:02.436Z"
   },
   {
    "duration": 206,
    "start_time": "2023-05-31T12:42:02.562Z"
   },
   {
    "duration": 12,
    "start_time": "2023-05-31T12:42:02.770Z"
   },
   {
    "duration": 15,
    "start_time": "2023-05-31T12:42:02.784Z"
   },
   {
    "duration": 192,
    "start_time": "2023-05-31T12:42:02.801Z"
   },
   {
    "duration": 10,
    "start_time": "2023-05-31T12:42:02.995Z"
   },
   {
    "duration": 46,
    "start_time": "2023-05-31T12:42:03.007Z"
   },
   {
    "duration": 280,
    "start_time": "2023-05-31T12:42:03.056Z"
   },
   {
    "duration": 117,
    "start_time": "2023-05-31T12:42:03.339Z"
   },
   {
    "duration": 0,
    "start_time": "2023-05-31T12:42:03.458Z"
   },
   {
    "duration": 0,
    "start_time": "2023-05-31T12:42:03.459Z"
   },
   {
    "duration": 166,
    "start_time": "2023-05-31T12:42:31.177Z"
   },
   {
    "duration": 152,
    "start_time": "2023-05-31T12:42:36.261Z"
   },
   {
    "duration": 246,
    "start_time": "2023-05-31T12:44:51.179Z"
   },
   {
    "duration": 205,
    "start_time": "2023-05-31T12:46:02.788Z"
   },
   {
    "duration": 174,
    "start_time": "2023-05-31T12:46:46.212Z"
   },
   {
    "duration": 153,
    "start_time": "2023-05-31T12:47:46.958Z"
   },
   {
    "duration": 151,
    "start_time": "2023-05-31T12:49:07.819Z"
   },
   {
    "duration": 18,
    "start_time": "2023-05-31T12:50:43.186Z"
   },
   {
    "duration": 176,
    "start_time": "2023-05-31T12:50:57.428Z"
   },
   {
    "duration": 141,
    "start_time": "2023-05-31T12:52:41.031Z"
   },
   {
    "duration": 4,
    "start_time": "2023-05-31T12:55:12.906Z"
   },
   {
    "duration": 5,
    "start_time": "2023-05-31T12:55:37.989Z"
   },
   {
    "duration": 4,
    "start_time": "2023-05-31T12:55:53.739Z"
   },
   {
    "duration": 162,
    "start_time": "2023-05-31T12:57:52.216Z"
   },
   {
    "duration": 13,
    "start_time": "2023-05-31T12:59:59.452Z"
   },
   {
    "duration": 15,
    "start_time": "2023-05-31T13:00:21.888Z"
   },
   {
    "duration": 6,
    "start_time": "2023-05-31T13:00:27.189Z"
   },
   {
    "duration": 6,
    "start_time": "2023-05-31T13:00:34.894Z"
   },
   {
    "duration": 365,
    "start_time": "2023-05-31T13:03:57.651Z"
   },
   {
    "duration": 12,
    "start_time": "2023-05-31T13:06:33.892Z"
   },
   {
    "duration": 139,
    "start_time": "2023-05-31T13:06:42.929Z"
   },
   {
    "duration": 218,
    "start_time": "2023-05-31T13:07:08.950Z"
   },
   {
    "duration": 104,
    "start_time": "2023-05-31T13:07:17.563Z"
   },
   {
    "duration": 164,
    "start_time": "2023-05-31T13:13:07.779Z"
   },
   {
    "duration": 51,
    "start_time": "2023-05-31T13:13:26.637Z"
   },
   {
    "duration": 122,
    "start_time": "2023-05-31T13:13:28.190Z"
   },
   {
    "duration": 104,
    "start_time": "2023-05-31T13:14:04.183Z"
   },
   {
    "duration": 98,
    "start_time": "2023-05-31T13:14:06.604Z"
   },
   {
    "duration": 105,
    "start_time": "2023-05-31T13:17:55.511Z"
   },
   {
    "duration": 110,
    "start_time": "2023-05-31T13:18:46.835Z"
   },
   {
    "duration": 50,
    "start_time": "2023-05-31T13:19:13.033Z"
   },
   {
    "duration": 1101,
    "start_time": "2023-05-31T13:19:26.240Z"
   },
   {
    "duration": 4,
    "start_time": "2023-05-31T13:19:27.343Z"
   },
   {
    "duration": 1105,
    "start_time": "2023-05-31T13:19:27.349Z"
   },
   {
    "duration": 15,
    "start_time": "2023-05-31T13:19:28.455Z"
   },
   {
    "duration": 18,
    "start_time": "2023-05-31T13:19:28.472Z"
   },
   {
    "duration": 47,
    "start_time": "2023-05-31T13:19:28.492Z"
   },
   {
    "duration": 120,
    "start_time": "2023-05-31T13:19:28.541Z"
   },
   {
    "duration": 105,
    "start_time": "2023-05-31T13:19:28.662Z"
   },
   {
    "duration": 110,
    "start_time": "2023-05-31T13:19:28.769Z"
   },
   {
    "duration": 110,
    "start_time": "2023-05-31T13:19:28.880Z"
   },
   {
    "duration": 9,
    "start_time": "2023-05-31T13:19:28.991Z"
   },
   {
    "duration": 4,
    "start_time": "2023-05-31T13:19:29.002Z"
   },
   {
    "duration": 8,
    "start_time": "2023-05-31T13:19:29.025Z"
   },
   {
    "duration": 4,
    "start_time": "2023-05-31T13:19:29.037Z"
   },
   {
    "duration": 5,
    "start_time": "2023-05-31T13:19:29.042Z"
   },
   {
    "duration": 4,
    "start_time": "2023-05-31T13:19:29.049Z"
   },
   {
    "duration": 5,
    "start_time": "2023-05-31T13:19:29.055Z"
   },
   {
    "duration": 4,
    "start_time": "2023-05-31T13:19:29.061Z"
   },
   {
    "duration": 4,
    "start_time": "2023-05-31T13:19:29.067Z"
   },
   {
    "duration": 3,
    "start_time": "2023-05-31T13:19:29.073Z"
   },
   {
    "duration": 4,
    "start_time": "2023-05-31T13:19:29.078Z"
   },
   {
    "duration": 10,
    "start_time": "2023-05-31T13:19:29.126Z"
   },
   {
    "duration": 4,
    "start_time": "2023-05-31T13:19:29.137Z"
   },
   {
    "duration": 8,
    "start_time": "2023-05-31T13:19:29.142Z"
   },
   {
    "duration": 152,
    "start_time": "2023-05-31T13:19:29.151Z"
   },
   {
    "duration": 159,
    "start_time": "2023-05-31T13:19:29.305Z"
   },
   {
    "duration": 179,
    "start_time": "2023-05-31T13:19:29.465Z"
   },
   {
    "duration": 196,
    "start_time": "2023-05-31T13:19:29.647Z"
   },
   {
    "duration": 164,
    "start_time": "2023-05-31T13:19:29.845Z"
   },
   {
    "duration": 209,
    "start_time": "2023-05-31T13:19:30.011Z"
   },
   {
    "duration": 170,
    "start_time": "2023-05-31T13:19:30.226Z"
   },
   {
    "duration": 145,
    "start_time": "2023-05-31T13:19:30.398Z"
   },
   {
    "duration": 245,
    "start_time": "2023-05-31T13:19:30.545Z"
   },
   {
    "duration": 15,
    "start_time": "2023-05-31T13:19:30.792Z"
   },
   {
    "duration": 46,
    "start_time": "2023-05-31T13:19:30.808Z"
   },
   {
    "duration": 77,
    "start_time": "2023-05-31T13:19:30.856Z"
   },
   {
    "duration": 107,
    "start_time": "2023-05-31T13:23:35.373Z"
   },
   {
    "duration": 1144,
    "start_time": "2023-05-31T13:24:04.897Z"
   },
   {
    "duration": 4,
    "start_time": "2023-05-31T13:24:06.043Z"
   },
   {
    "duration": 1137,
    "start_time": "2023-05-31T13:24:06.049Z"
   },
   {
    "duration": 18,
    "start_time": "2023-05-31T13:24:07.189Z"
   },
   {
    "duration": 16,
    "start_time": "2023-05-31T13:24:07.208Z"
   },
   {
    "duration": 39,
    "start_time": "2023-05-31T13:24:07.225Z"
   },
   {
    "duration": 150,
    "start_time": "2023-05-31T13:24:07.267Z"
   },
   {
    "duration": 125,
    "start_time": "2023-05-31T13:24:07.426Z"
   },
   {
    "duration": 118,
    "start_time": "2023-05-31T13:24:07.552Z"
   },
   {
    "duration": 127,
    "start_time": "2023-05-31T13:24:07.673Z"
   },
   {
    "duration": 10,
    "start_time": "2023-05-31T13:24:07.801Z"
   },
   {
    "duration": 13,
    "start_time": "2023-05-31T13:24:07.824Z"
   },
   {
    "duration": 21,
    "start_time": "2023-05-31T13:24:07.838Z"
   },
   {
    "duration": 14,
    "start_time": "2023-05-31T13:24:07.861Z"
   },
   {
    "duration": 11,
    "start_time": "2023-05-31T13:24:07.877Z"
   },
   {
    "duration": 21,
    "start_time": "2023-05-31T13:24:07.889Z"
   },
   {
    "duration": 11,
    "start_time": "2023-05-31T13:24:07.912Z"
   },
   {
    "duration": 10,
    "start_time": "2023-05-31T13:24:07.925Z"
   },
   {
    "duration": 20,
    "start_time": "2023-05-31T13:24:07.937Z"
   },
   {
    "duration": 24,
    "start_time": "2023-05-31T13:24:07.959Z"
   },
   {
    "duration": 14,
    "start_time": "2023-05-31T13:24:07.985Z"
   },
   {
    "duration": 30,
    "start_time": "2023-05-31T13:24:08.001Z"
   },
   {
    "duration": 21,
    "start_time": "2023-05-31T13:24:08.033Z"
   },
   {
    "duration": 16,
    "start_time": "2023-05-31T13:24:08.056Z"
   },
   {
    "duration": 162,
    "start_time": "2023-05-31T13:24:08.074Z"
   },
   {
    "duration": 163,
    "start_time": "2023-05-31T13:24:08.238Z"
   },
   {
    "duration": 180,
    "start_time": "2023-05-31T13:24:08.403Z"
   },
   {
    "duration": 161,
    "start_time": "2023-05-31T13:24:08.586Z"
   },
   {
    "duration": 159,
    "start_time": "2023-05-31T13:24:08.748Z"
   },
   {
    "duration": 221,
    "start_time": "2023-05-31T13:24:08.909Z"
   },
   {
    "duration": 171,
    "start_time": "2023-05-31T13:24:09.132Z"
   },
   {
    "duration": 154,
    "start_time": "2023-05-31T13:24:09.305Z"
   },
   {
    "duration": 289,
    "start_time": "2023-05-31T13:24:09.461Z"
   },
   {
    "duration": 20,
    "start_time": "2023-05-31T13:24:09.752Z"
   },
   {
    "duration": 6,
    "start_time": "2023-05-31T13:24:09.774Z"
   },
   {
    "duration": 13,
    "start_time": "2023-05-31T13:24:09.781Z"
   },
   {
    "duration": 102,
    "start_time": "2023-05-31T13:25:39.547Z"
   },
   {
    "duration": 1111,
    "start_time": "2023-05-31T13:25:46.843Z"
   },
   {
    "duration": 4,
    "start_time": "2023-05-31T13:25:47.956Z"
   },
   {
    "duration": 796,
    "start_time": "2023-05-31T13:25:47.961Z"
   },
   {
    "duration": 16,
    "start_time": "2023-05-31T13:25:48.758Z"
   },
   {
    "duration": 12,
    "start_time": "2023-05-31T13:25:48.776Z"
   },
   {
    "duration": 37,
    "start_time": "2023-05-31T13:25:48.789Z"
   },
   {
    "duration": 146,
    "start_time": "2023-05-31T13:25:48.827Z"
   },
   {
    "duration": 141,
    "start_time": "2023-05-31T13:25:48.975Z"
   },
   {
    "duration": 109,
    "start_time": "2023-05-31T13:25:49.125Z"
   },
   {
    "duration": 132,
    "start_time": "2023-05-31T13:25:49.236Z"
   },
   {
    "duration": 117,
    "start_time": "2023-05-31T13:25:49.370Z"
   },
   {
    "duration": 9,
    "start_time": "2023-05-31T13:25:49.489Z"
   },
   {
    "duration": 9,
    "start_time": "2023-05-31T13:25:49.500Z"
   },
   {
    "duration": 13,
    "start_time": "2023-05-31T13:25:49.527Z"
   },
   {
    "duration": 5,
    "start_time": "2023-05-31T13:25:49.542Z"
   },
   {
    "duration": 5,
    "start_time": "2023-05-31T13:25:49.549Z"
   },
   {
    "duration": 7,
    "start_time": "2023-05-31T13:25:49.556Z"
   },
   {
    "duration": 6,
    "start_time": "2023-05-31T13:25:49.565Z"
   },
   {
    "duration": 11,
    "start_time": "2023-05-31T13:25:49.572Z"
   },
   {
    "duration": 40,
    "start_time": "2023-05-31T13:25:49.585Z"
   },
   {
    "duration": 11,
    "start_time": "2023-05-31T13:25:49.627Z"
   },
   {
    "duration": 4,
    "start_time": "2023-05-31T13:25:49.640Z"
   },
   {
    "duration": 21,
    "start_time": "2023-05-31T13:25:49.646Z"
   },
   {
    "duration": 6,
    "start_time": "2023-05-31T13:25:49.668Z"
   },
   {
    "duration": 6,
    "start_time": "2023-05-31T13:25:49.675Z"
   },
   {
    "duration": 182,
    "start_time": "2023-05-31T13:25:49.683Z"
   },
   {
    "duration": 229,
    "start_time": "2023-05-31T13:25:49.867Z"
   },
   {
    "duration": 189,
    "start_time": "2023-05-31T13:25:50.098Z"
   },
   {
    "duration": 156,
    "start_time": "2023-05-31T13:25:50.289Z"
   },
   {
    "duration": 223,
    "start_time": "2023-05-31T13:25:50.446Z"
   },
   {
    "duration": 137,
    "start_time": "2023-05-31T13:25:50.670Z"
   },
   {
    "duration": 175,
    "start_time": "2023-05-31T13:25:50.810Z"
   },
   {
    "duration": 149,
    "start_time": "2023-05-31T13:25:50.986Z"
   },
   {
    "duration": 252,
    "start_time": "2023-05-31T13:25:51.137Z"
   },
   {
    "duration": 15,
    "start_time": "2023-05-31T13:25:51.390Z"
   },
   {
    "duration": 18,
    "start_time": "2023-05-31T13:25:51.407Z"
   },
   {
    "duration": 7,
    "start_time": "2023-05-31T13:25:51.426Z"
   },
   {
    "duration": 95,
    "start_time": "2023-05-31T13:26:26.572Z"
   },
   {
    "duration": 128,
    "start_time": "2023-05-31T13:26:39.675Z"
   },
   {
    "duration": 69,
    "start_time": "2023-06-01T06:05:24.691Z"
   },
   {
    "duration": 1344,
    "start_time": "2023-06-01T06:05:58.310Z"
   },
   {
    "duration": 5,
    "start_time": "2023-06-01T06:05:59.656Z"
   },
   {
    "duration": 1292,
    "start_time": "2023-06-01T06:05:59.662Z"
   },
   {
    "duration": 16,
    "start_time": "2023-06-01T06:06:00.956Z"
   },
   {
    "duration": 80,
    "start_time": "2023-06-01T06:06:00.974Z"
   },
   {
    "duration": 82,
    "start_time": "2023-06-01T06:06:01.058Z"
   },
   {
    "duration": 139,
    "start_time": "2023-06-01T06:06:01.142Z"
   },
   {
    "duration": 113,
    "start_time": "2023-06-01T06:06:01.282Z"
   },
   {
    "duration": 118,
    "start_time": "2023-06-01T06:06:01.396Z"
   },
   {
    "duration": 112,
    "start_time": "2023-06-01T06:06:01.526Z"
   },
   {
    "duration": 133,
    "start_time": "2023-06-01T06:06:01.640Z"
   },
   {
    "duration": 13,
    "start_time": "2023-06-01T06:06:01.775Z"
   },
   {
    "duration": 96,
    "start_time": "2023-06-01T06:06:01.790Z"
   },
   {
    "duration": 93,
    "start_time": "2023-06-01T06:06:01.887Z"
   },
   {
    "duration": 87,
    "start_time": "2023-06-01T06:06:01.982Z"
   },
   {
    "duration": 64,
    "start_time": "2023-06-01T06:06:02.071Z"
   },
   {
    "duration": 34,
    "start_time": "2023-06-01T06:06:02.136Z"
   },
   {
    "duration": 68,
    "start_time": "2023-06-01T06:06:02.171Z"
   },
   {
    "duration": 29,
    "start_time": "2023-06-01T06:06:02.241Z"
   },
   {
    "duration": 52,
    "start_time": "2023-06-01T06:06:02.272Z"
   },
   {
    "duration": 116,
    "start_time": "2023-06-01T06:06:02.326Z"
   },
   {
    "duration": 20,
    "start_time": "2023-06-01T06:06:02.444Z"
   },
   {
    "duration": 27,
    "start_time": "2023-06-01T06:06:02.466Z"
   },
   {
    "duration": 15,
    "start_time": "2023-06-01T06:06:02.495Z"
   },
   {
    "duration": 23,
    "start_time": "2023-06-01T06:06:02.512Z"
   },
   {
    "duration": 186,
    "start_time": "2023-06-01T06:06:02.536Z"
   },
   {
    "duration": 180,
    "start_time": "2023-06-01T06:06:02.723Z"
   },
   {
    "duration": 188,
    "start_time": "2023-06-01T06:06:02.906Z"
   },
   {
    "duration": 173,
    "start_time": "2023-06-01T06:06:03.096Z"
   },
   {
    "duration": 247,
    "start_time": "2023-06-01T06:06:03.271Z"
   },
   {
    "duration": 170,
    "start_time": "2023-06-01T06:06:03.524Z"
   },
   {
    "duration": 191,
    "start_time": "2023-06-01T06:06:03.696Z"
   },
   {
    "duration": 143,
    "start_time": "2023-06-01T06:06:03.889Z"
   },
   {
    "duration": 258,
    "start_time": "2023-06-01T06:06:04.033Z"
   },
   {
    "duration": 14,
    "start_time": "2023-06-01T06:06:04.293Z"
   },
   {
    "duration": 17,
    "start_time": "2023-06-01T06:06:04.309Z"
   },
   {
    "duration": 37,
    "start_time": "2023-06-01T06:06:04.327Z"
   },
   {
    "duration": 128,
    "start_time": "2023-06-01T06:06:04.365Z"
   },
   {
    "duration": 10,
    "start_time": "2023-06-01T06:06:35.093Z"
   },
   {
    "duration": 396,
    "start_time": "2023-06-01T06:07:54.051Z"
   },
   {
    "duration": 372,
    "start_time": "2023-06-01T06:15:52.732Z"
   },
   {
    "duration": 354,
    "start_time": "2023-06-01T06:18:49.783Z"
   },
   {
    "duration": 355,
    "start_time": "2023-06-01T06:19:43.034Z"
   },
   {
    "duration": 280,
    "start_time": "2023-06-01T06:22:14.639Z"
   },
   {
    "duration": 455,
    "start_time": "2023-06-01T06:23:25.543Z"
   },
   {
    "duration": 445,
    "start_time": "2023-06-01T06:23:52.071Z"
   },
   {
    "duration": 458,
    "start_time": "2023-06-01T06:24:00.148Z"
   },
   {
    "duration": 492,
    "start_time": "2023-06-01T06:24:10.102Z"
   },
   {
    "duration": 169,
    "start_time": "2023-06-01T06:43:06.301Z"
   },
   {
    "duration": 1087,
    "start_time": "2023-06-01T06:43:17.748Z"
   },
   {
    "duration": 4,
    "start_time": "2023-06-01T06:43:18.837Z"
   },
   {
    "duration": 1201,
    "start_time": "2023-06-01T06:43:18.843Z"
   },
   {
    "duration": 20,
    "start_time": "2023-06-01T06:43:20.047Z"
   },
   {
    "duration": 52,
    "start_time": "2023-06-01T06:43:20.069Z"
   },
   {
    "duration": 77,
    "start_time": "2023-06-01T06:43:20.122Z"
   },
   {
    "duration": 124,
    "start_time": "2023-06-01T06:43:20.202Z"
   },
   {
    "duration": 124,
    "start_time": "2023-06-01T06:43:20.328Z"
   },
   {
    "duration": 136,
    "start_time": "2023-06-01T06:43:20.454Z"
   },
   {
    "duration": 114,
    "start_time": "2023-06-01T06:43:20.593Z"
   },
   {
    "duration": 122,
    "start_time": "2023-06-01T06:43:20.709Z"
   },
   {
    "duration": 13,
    "start_time": "2023-06-01T06:43:20.833Z"
   },
   {
    "duration": 10,
    "start_time": "2023-06-01T06:43:20.848Z"
   },
   {
    "duration": 18,
    "start_time": "2023-06-01T06:43:20.860Z"
   },
   {
    "duration": 8,
    "start_time": "2023-06-01T06:43:20.880Z"
   },
   {
    "duration": 36,
    "start_time": "2023-06-01T06:43:20.890Z"
   },
   {
    "duration": 6,
    "start_time": "2023-06-01T06:43:20.927Z"
   },
   {
    "duration": 17,
    "start_time": "2023-06-01T06:43:20.935Z"
   },
   {
    "duration": 14,
    "start_time": "2023-06-01T06:43:20.955Z"
   },
   {
    "duration": 9,
    "start_time": "2023-06-01T06:43:20.971Z"
   },
   {
    "duration": 25,
    "start_time": "2023-06-01T06:43:20.985Z"
   },
   {
    "duration": 22,
    "start_time": "2023-06-01T06:43:21.013Z"
   },
   {
    "duration": 38,
    "start_time": "2023-06-01T06:43:21.037Z"
   },
   {
    "duration": 25,
    "start_time": "2023-06-01T06:43:21.078Z"
   },
   {
    "duration": 48,
    "start_time": "2023-06-01T06:43:21.106Z"
   },
   {
    "duration": 211,
    "start_time": "2023-06-01T06:43:21.156Z"
   },
   {
    "duration": 162,
    "start_time": "2023-06-01T06:43:21.369Z"
   },
   {
    "duration": 194,
    "start_time": "2023-06-01T06:43:21.534Z"
   },
   {
    "duration": 186,
    "start_time": "2023-06-01T06:43:21.730Z"
   },
   {
    "duration": 224,
    "start_time": "2023-06-01T06:43:21.917Z"
   },
   {
    "duration": 188,
    "start_time": "2023-06-01T06:43:22.143Z"
   },
   {
    "duration": 184,
    "start_time": "2023-06-01T06:43:22.334Z"
   },
   {
    "duration": 148,
    "start_time": "2023-06-01T06:43:22.519Z"
   },
   {
    "duration": 261,
    "start_time": "2023-06-01T06:43:22.669Z"
   },
   {
    "duration": 16,
    "start_time": "2023-06-01T06:43:22.932Z"
   },
   {
    "duration": 38,
    "start_time": "2023-06-01T06:43:22.950Z"
   },
   {
    "duration": 47,
    "start_time": "2023-06-01T06:43:22.990Z"
   },
   {
    "duration": 662,
    "start_time": "2023-06-01T06:43:23.039Z"
   },
   {
    "duration": 531,
    "start_time": "2023-06-01T06:43:36.878Z"
   },
   {
    "duration": 740,
    "start_time": "2023-06-01T06:44:47.951Z"
   },
   {
    "duration": 979,
    "start_time": "2023-06-01T06:46:05.478Z"
   },
   {
    "duration": 7,
    "start_time": "2023-06-01T06:48:17.877Z"
   },
   {
    "duration": 1126,
    "start_time": "2023-06-01T06:48:27.047Z"
   },
   {
    "duration": 1069,
    "start_time": "2023-06-01T06:54:55.321Z"
   },
   {
    "duration": 1135,
    "start_time": "2023-06-01T06:55:06.721Z"
   },
   {
    "duration": 391,
    "start_time": "2023-06-01T07:00:14.579Z"
   },
   {
    "duration": 294,
    "start_time": "2023-06-01T07:00:43.914Z"
   },
   {
    "duration": 1264,
    "start_time": "2023-06-01T07:01:18.413Z"
   },
   {
    "duration": 7,
    "start_time": "2023-06-01T07:01:19.679Z"
   },
   {
    "duration": 4282,
    "start_time": "2023-06-01T07:01:19.688Z"
   },
   {
    "duration": 19,
    "start_time": "2023-06-01T07:01:23.972Z"
   },
   {
    "duration": 27,
    "start_time": "2023-06-01T07:01:23.993Z"
   },
   {
    "duration": 45,
    "start_time": "2023-06-01T07:01:24.022Z"
   },
   {
    "duration": 204,
    "start_time": "2023-06-01T07:01:24.069Z"
   },
   {
    "duration": 107,
    "start_time": "2023-06-01T07:01:24.275Z"
   },
   {
    "duration": 142,
    "start_time": "2023-06-01T07:01:24.384Z"
   },
   {
    "duration": 122,
    "start_time": "2023-06-01T07:01:24.528Z"
   },
   {
    "duration": 132,
    "start_time": "2023-06-01T07:01:24.652Z"
   },
   {
    "duration": 16,
    "start_time": "2023-06-01T07:01:24.786Z"
   },
   {
    "duration": 6,
    "start_time": "2023-06-01T07:01:24.804Z"
   },
   {
    "duration": 27,
    "start_time": "2023-06-01T07:01:24.825Z"
   },
   {
    "duration": 13,
    "start_time": "2023-06-01T07:01:24.855Z"
   },
   {
    "duration": 45,
    "start_time": "2023-06-01T07:01:24.871Z"
   },
   {
    "duration": 32,
    "start_time": "2023-06-01T07:01:24.918Z"
   },
   {
    "duration": 35,
    "start_time": "2023-06-01T07:01:24.952Z"
   },
   {
    "duration": 44,
    "start_time": "2023-06-01T07:01:24.990Z"
   },
   {
    "duration": 50,
    "start_time": "2023-06-01T07:01:25.036Z"
   },
   {
    "duration": 28,
    "start_time": "2023-06-01T07:01:25.088Z"
   },
   {
    "duration": 27,
    "start_time": "2023-06-01T07:01:25.118Z"
   },
   {
    "duration": 24,
    "start_time": "2023-06-01T07:01:25.146Z"
   },
   {
    "duration": 23,
    "start_time": "2023-06-01T07:01:25.172Z"
   },
   {
    "duration": 7,
    "start_time": "2023-06-01T07:01:25.197Z"
   },
   {
    "duration": 190,
    "start_time": "2023-06-01T07:01:25.205Z"
   },
   {
    "duration": 192,
    "start_time": "2023-06-01T07:01:25.398Z"
   },
   {
    "duration": 209,
    "start_time": "2023-06-01T07:01:25.592Z"
   },
   {
    "duration": 173,
    "start_time": "2023-06-01T07:01:25.802Z"
   },
   {
    "duration": 278,
    "start_time": "2023-06-01T07:01:25.977Z"
   },
   {
    "duration": 195,
    "start_time": "2023-06-01T07:01:26.257Z"
   },
   {
    "duration": 183,
    "start_time": "2023-06-01T07:01:26.454Z"
   },
   {
    "duration": 155,
    "start_time": "2023-06-01T07:01:26.639Z"
   },
   {
    "duration": 263,
    "start_time": "2023-06-01T07:01:26.796Z"
   },
   {
    "duration": 20,
    "start_time": "2023-06-01T07:01:27.062Z"
   },
   {
    "duration": 36,
    "start_time": "2023-06-01T07:01:27.083Z"
   },
   {
    "duration": 29,
    "start_time": "2023-06-01T07:01:27.121Z"
   },
   {
    "duration": 1059,
    "start_time": "2023-06-01T07:01:27.153Z"
   },
   {
    "duration": 1063,
    "start_time": "2023-06-01T07:03:39.897Z"
   },
   {
    "duration": 1060,
    "start_time": "2023-06-01T07:04:43.476Z"
   },
   {
    "duration": 36,
    "start_time": "2023-06-01T07:05:17.041Z"
   },
   {
    "duration": 4,
    "start_time": "2023-06-01T10:41:50.617Z"
   },
   {
    "duration": 1119,
    "start_time": "2023-06-01T10:42:05.847Z"
   },
   {
    "duration": 1030,
    "start_time": "2023-06-01T10:42:50.357Z"
   },
   {
    "duration": 1039,
    "start_time": "2023-06-01T10:43:03.394Z"
   },
   {
    "duration": 1118,
    "start_time": "2023-06-01T10:43:30.495Z"
   },
   {
    "duration": 76,
    "start_time": "2023-06-01T10:50:04.266Z"
   },
   {
    "duration": 246,
    "start_time": "2023-06-01T10:50:25.063Z"
   },
   {
    "duration": 812,
    "start_time": "2023-06-01T10:50:39.075Z"
   },
   {
    "duration": 259,
    "start_time": "2023-06-01T10:55:03.903Z"
   },
   {
    "duration": 343,
    "start_time": "2023-06-01T10:56:24.208Z"
   },
   {
    "duration": 1086,
    "start_time": "2023-06-01T10:56:29.960Z"
   },
   {
    "duration": 308,
    "start_time": "2023-06-01T11:06:44.641Z"
   },
   {
    "duration": 333,
    "start_time": "2023-06-01T11:06:55.802Z"
   },
   {
    "duration": 322,
    "start_time": "2023-06-01T11:07:13.141Z"
   },
   {
    "duration": 5,
    "start_time": "2023-06-01T11:07:40.682Z"
   },
   {
    "duration": 535,
    "start_time": "2023-06-01T11:07:48.193Z"
   },
   {
    "duration": 9,
    "start_time": "2023-06-01T11:09:33.947Z"
   },
   {
    "duration": 781,
    "start_time": "2023-06-01T11:10:03.095Z"
   },
   {
    "duration": 1363,
    "start_time": "2023-06-01T11:11:04.658Z"
   },
   {
    "duration": 1169,
    "start_time": "2023-06-01T11:12:05.924Z"
   },
   {
    "duration": 1259,
    "start_time": "2023-06-01T11:12:34.938Z"
   },
   {
    "duration": 1449,
    "start_time": "2023-06-01T11:12:45.059Z"
   },
   {
    "duration": 1458,
    "start_time": "2023-06-01T11:13:21.853Z"
   },
   {
    "duration": 1445,
    "start_time": "2023-06-01T11:13:33.661Z"
   },
   {
    "duration": 1301,
    "start_time": "2023-06-01T11:15:40.578Z"
   },
   {
    "duration": 1169,
    "start_time": "2023-06-01T11:16:11.750Z"
   },
   {
    "duration": 1238,
    "start_time": "2023-06-01T11:16:25.425Z"
   },
   {
    "duration": 1173,
    "start_time": "2023-06-01T11:16:34.692Z"
   },
   {
    "duration": 7,
    "start_time": "2023-06-01T11:18:28.607Z"
   },
   {
    "duration": 5,
    "start_time": "2023-06-01T11:20:39.207Z"
   },
   {
    "duration": 1395,
    "start_time": "2023-06-01T11:20:48.822Z"
   },
   {
    "duration": 5,
    "start_time": "2023-06-01T11:21:36.006Z"
   },
   {
    "duration": 1461,
    "start_time": "2023-06-01T11:21:44.202Z"
   },
   {
    "duration": 7,
    "start_time": "2023-06-01T11:22:41.239Z"
   },
   {
    "duration": 1364,
    "start_time": "2023-06-01T11:22:50.523Z"
   },
   {
    "duration": 1424,
    "start_time": "2023-06-01T11:23:09.087Z"
   },
   {
    "duration": 5,
    "start_time": "2023-06-01T11:24:03.017Z"
   },
   {
    "duration": 1330,
    "start_time": "2023-06-01T11:24:11.253Z"
   },
   {
    "duration": 6,
    "start_time": "2023-06-01T11:25:36.584Z"
   },
   {
    "duration": 1466,
    "start_time": "2023-06-01T11:25:41.897Z"
   },
   {
    "duration": 7,
    "start_time": "2023-06-01T11:28:31.177Z"
   },
   {
    "duration": 1502,
    "start_time": "2023-06-01T11:28:37.648Z"
   },
   {
    "duration": 1415,
    "start_time": "2023-06-01T11:32:44.756Z"
   },
   {
    "duration": 1745,
    "start_time": "2023-06-01T11:32:59.488Z"
   },
   {
    "duration": 16,
    "start_time": "2023-06-01T11:33:47.169Z"
   },
   {
    "duration": 1774,
    "start_time": "2023-06-01T11:34:08.628Z"
   },
   {
    "duration": 7,
    "start_time": "2023-06-01T11:35:43.453Z"
   },
   {
    "duration": 1759,
    "start_time": "2023-06-01T11:35:50.356Z"
   },
   {
    "duration": 11,
    "start_time": "2023-06-01T11:36:24.557Z"
   },
   {
    "duration": 1974,
    "start_time": "2023-06-01T11:36:30.083Z"
   },
   {
    "duration": 14,
    "start_time": "2023-06-01T11:40:23.049Z"
   },
   {
    "duration": 1143,
    "start_time": "2023-06-01T11:40:29.797Z"
   },
   {
    "duration": 6,
    "start_time": "2023-06-01T11:41:29.204Z"
   },
   {
    "duration": 2078,
    "start_time": "2023-06-01T11:41:39.891Z"
   },
   {
    "duration": 1059,
    "start_time": "2023-06-01T12:05:45.400Z"
   },
   {
    "duration": 1115,
    "start_time": "2023-06-01T12:06:28.175Z"
   },
   {
    "duration": 10,
    "start_time": "2023-06-01T12:06:41.980Z"
   },
   {
    "duration": 1018,
    "start_time": "2023-06-01T12:06:55.046Z"
   },
   {
    "duration": 6,
    "start_time": "2023-06-01T12:07:55.511Z"
   },
   {
    "duration": 1049,
    "start_time": "2023-06-01T12:08:02.255Z"
   },
   {
    "duration": 176,
    "start_time": "2023-06-01T12:10:10.972Z"
   },
   {
    "duration": 1623,
    "start_time": "2023-06-01T12:10:18.015Z"
   },
   {
    "duration": 1160,
    "start_time": "2023-06-01T12:10:23.686Z"
   },
   {
    "duration": 10,
    "start_time": "2023-06-01T12:11:57.189Z"
   },
   {
    "duration": 3721,
    "start_time": "2023-06-01T12:12:18.295Z"
   },
   {
    "duration": 2551,
    "start_time": "2023-06-01T12:14:10.445Z"
   },
   {
    "duration": 3217,
    "start_time": "2023-06-01T12:14:54.919Z"
   },
   {
    "duration": 3016,
    "start_time": "2023-06-01T12:15:20.596Z"
   },
   {
    "duration": 3220,
    "start_time": "2023-06-01T12:15:29.553Z"
   },
   {
    "duration": 2905,
    "start_time": "2023-06-01T12:15:38.141Z"
   },
   {
    "duration": 3298,
    "start_time": "2023-06-01T12:15:48.569Z"
   },
   {
    "duration": 3305,
    "start_time": "2023-06-01T12:16:04.851Z"
   },
   {
    "duration": 3054,
    "start_time": "2023-06-01T12:16:21.200Z"
   },
   {
    "duration": 2667,
    "start_time": "2023-06-01T12:17:47.525Z"
   },
   {
    "duration": 2966,
    "start_time": "2023-06-01T12:17:57.208Z"
   },
   {
    "duration": 3042,
    "start_time": "2023-06-01T12:18:08.619Z"
   },
   {
    "duration": 2878,
    "start_time": "2023-06-01T12:18:22.473Z"
   },
   {
    "duration": 825,
    "start_time": "2023-06-01T12:21:45.353Z"
   },
   {
    "duration": 973,
    "start_time": "2023-06-01T12:22:09.559Z"
   },
   {
    "duration": 1171,
    "start_time": "2023-06-01T12:22:22.857Z"
   },
   {
    "duration": 730,
    "start_time": "2023-06-01T12:24:23.858Z"
   },
   {
    "duration": 968,
    "start_time": "2023-06-01T12:24:34.674Z"
   },
   {
    "duration": 708,
    "start_time": "2023-06-01T12:25:30.256Z"
   },
   {
    "duration": 10,
    "start_time": "2023-06-01T12:30:26.147Z"
   },
   {
    "duration": 1192,
    "start_time": "2023-06-01T12:30:33.741Z"
   },
   {
    "duration": 12,
    "start_time": "2023-06-01T12:31:51.881Z"
   },
   {
    "duration": 1141,
    "start_time": "2023-06-01T12:32:00.781Z"
   },
   {
    "duration": 692,
    "start_time": "2023-06-01T12:33:08.311Z"
   },
   {
    "duration": 969,
    "start_time": "2023-06-01T12:33:22.886Z"
   },
   {
    "duration": 9,
    "start_time": "2023-06-01T12:35:32.885Z"
   },
   {
    "duration": 898,
    "start_time": "2023-06-01T12:35:40.347Z"
   },
   {
    "duration": 1147,
    "start_time": "2023-06-01T12:36:27.927Z"
   },
   {
    "duration": 1097,
    "start_time": "2023-06-01T12:37:22.542Z"
   },
   {
    "duration": 8,
    "start_time": "2023-06-01T12:49:23.673Z"
   },
   {
    "duration": 1069,
    "start_time": "2023-06-01T12:51:54.281Z"
   },
   {
    "duration": 652,
    "start_time": "2023-06-01T12:52:27.734Z"
   },
   {
    "duration": 761,
    "start_time": "2023-06-01T12:52:46.166Z"
   },
   {
    "duration": 766,
    "start_time": "2023-06-01T12:53:18.762Z"
   },
   {
    "duration": 563,
    "start_time": "2023-06-01T12:53:38.273Z"
   },
   {
    "duration": 9,
    "start_time": "2023-06-01T13:03:45.172Z"
   },
   {
    "duration": 340,
    "start_time": "2023-06-01T13:04:12.473Z"
   },
   {
    "duration": 9,
    "start_time": "2023-06-01T13:04:30.184Z"
   },
   {
    "duration": 318,
    "start_time": "2023-06-01T13:04:39.022Z"
   },
   {
    "duration": 847,
    "start_time": "2023-06-01T13:11:41.032Z"
   },
   {
    "duration": 1213,
    "start_time": "2023-06-01T13:12:14.597Z"
   },
   {
    "duration": 989,
    "start_time": "2023-06-01T13:13:21.988Z"
   },
   {
    "duration": 989,
    "start_time": "2023-06-01T13:13:43.387Z"
   },
   {
    "duration": 1165,
    "start_time": "2023-06-01T13:14:25.652Z"
   },
   {
    "duration": 941,
    "start_time": "2023-06-01T13:14:45.108Z"
   },
   {
    "duration": 590,
    "start_time": "2023-06-01T13:15:42.093Z"
   },
   {
    "duration": 575,
    "start_time": "2023-06-01T13:17:22.895Z"
   },
   {
    "duration": 708,
    "start_time": "2023-06-01T13:17:33.841Z"
   },
   {
    "duration": 1361,
    "start_time": "2023-06-01T13:45:02.390Z"
   },
   {
    "duration": 0,
    "start_time": "2023-06-01T13:45:03.754Z"
   },
   {
    "duration": 0,
    "start_time": "2023-06-01T13:45:03.756Z"
   },
   {
    "duration": 0,
    "start_time": "2023-06-01T13:45:03.757Z"
   },
   {
    "duration": 0,
    "start_time": "2023-06-01T13:45:03.759Z"
   },
   {
    "duration": 0,
    "start_time": "2023-06-01T13:45:03.759Z"
   },
   {
    "duration": 0,
    "start_time": "2023-06-01T13:45:03.761Z"
   },
   {
    "duration": 0,
    "start_time": "2023-06-01T13:45:03.762Z"
   },
   {
    "duration": 0,
    "start_time": "2023-06-01T13:45:03.764Z"
   },
   {
    "duration": 0,
    "start_time": "2023-06-01T13:45:03.765Z"
   },
   {
    "duration": 0,
    "start_time": "2023-06-01T13:45:03.766Z"
   },
   {
    "duration": 0,
    "start_time": "2023-06-01T13:45:03.767Z"
   },
   {
    "duration": 0,
    "start_time": "2023-06-01T13:45:03.768Z"
   },
   {
    "duration": 0,
    "start_time": "2023-06-01T13:45:03.769Z"
   },
   {
    "duration": 0,
    "start_time": "2023-06-01T13:45:03.770Z"
   },
   {
    "duration": 0,
    "start_time": "2023-06-01T13:45:03.772Z"
   },
   {
    "duration": 0,
    "start_time": "2023-06-01T13:45:03.773Z"
   },
   {
    "duration": 0,
    "start_time": "2023-06-01T13:45:03.774Z"
   },
   {
    "duration": 0,
    "start_time": "2023-06-01T13:45:03.775Z"
   },
   {
    "duration": 0,
    "start_time": "2023-06-01T13:45:03.777Z"
   },
   {
    "duration": 0,
    "start_time": "2023-06-01T13:45:03.778Z"
   },
   {
    "duration": 1,
    "start_time": "2023-06-01T13:45:03.779Z"
   },
   {
    "duration": 0,
    "start_time": "2023-06-01T13:45:03.824Z"
   },
   {
    "duration": 0,
    "start_time": "2023-06-01T13:45:03.825Z"
   },
   {
    "duration": 0,
    "start_time": "2023-06-01T13:45:03.828Z"
   },
   {
    "duration": 0,
    "start_time": "2023-06-01T13:45:03.828Z"
   },
   {
    "duration": 0,
    "start_time": "2023-06-01T13:45:03.829Z"
   },
   {
    "duration": 0,
    "start_time": "2023-06-01T13:45:03.830Z"
   },
   {
    "duration": 0,
    "start_time": "2023-06-01T13:45:03.831Z"
   },
   {
    "duration": 0,
    "start_time": "2023-06-01T13:45:03.832Z"
   },
   {
    "duration": 0,
    "start_time": "2023-06-01T13:45:03.833Z"
   },
   {
    "duration": 0,
    "start_time": "2023-06-01T13:45:03.834Z"
   },
   {
    "duration": 0,
    "start_time": "2023-06-01T13:45:03.835Z"
   },
   {
    "duration": 0,
    "start_time": "2023-06-01T13:45:03.836Z"
   },
   {
    "duration": 0,
    "start_time": "2023-06-01T13:45:03.837Z"
   },
   {
    "duration": 0,
    "start_time": "2023-06-01T13:45:03.837Z"
   },
   {
    "duration": 0,
    "start_time": "2023-06-01T13:45:03.838Z"
   },
   {
    "duration": 0,
    "start_time": "2023-06-01T13:45:03.839Z"
   },
   {
    "duration": 0,
    "start_time": "2023-06-01T13:45:03.840Z"
   },
   {
    "duration": 0,
    "start_time": "2023-06-01T13:45:03.841Z"
   },
   {
    "duration": 0,
    "start_time": "2023-06-01T13:45:03.842Z"
   },
   {
    "duration": 0,
    "start_time": "2023-06-01T13:45:03.843Z"
   },
   {
    "duration": 110,
    "start_time": "2023-06-01T13:47:00.092Z"
   },
   {
    "duration": 103,
    "start_time": "2023-06-01T13:49:52.756Z"
   },
   {
    "duration": 4182,
    "start_time": "2023-06-01T13:50:03.061Z"
   },
   {
    "duration": 3766,
    "start_time": "2023-06-01T13:50:17.009Z"
   },
   {
    "duration": 10,
    "start_time": "2023-06-01T13:50:20.777Z"
   },
   {
    "duration": 7424,
    "start_time": "2023-06-01T13:50:20.789Z"
   },
   {
    "duration": 31,
    "start_time": "2023-06-01T13:50:28.215Z"
   },
   {
    "duration": 36,
    "start_time": "2023-06-01T13:50:28.251Z"
   },
   {
    "duration": 76,
    "start_time": "2023-06-01T13:50:28.288Z"
   },
   {
    "duration": 133,
    "start_time": "2023-06-01T13:50:28.367Z"
   },
   {
    "duration": 140,
    "start_time": "2023-06-01T13:50:28.501Z"
   },
   {
    "duration": 130,
    "start_time": "2023-06-01T13:50:28.653Z"
   },
   {
    "duration": 116,
    "start_time": "2023-06-01T13:50:28.786Z"
   },
   {
    "duration": 132,
    "start_time": "2023-06-01T13:50:28.903Z"
   },
   {
    "duration": 13,
    "start_time": "2023-06-01T13:50:29.036Z"
   },
   {
    "duration": 47,
    "start_time": "2023-06-01T13:50:29.050Z"
   },
   {
    "duration": 9,
    "start_time": "2023-06-01T13:50:29.101Z"
   },
   {
    "duration": 45,
    "start_time": "2023-06-01T13:50:29.112Z"
   },
   {
    "duration": 14,
    "start_time": "2023-06-01T13:50:29.158Z"
   },
   {
    "duration": 12,
    "start_time": "2023-06-01T13:50:29.174Z"
   },
   {
    "duration": 5,
    "start_time": "2023-06-01T13:50:29.188Z"
   },
   {
    "duration": 62,
    "start_time": "2023-06-01T13:50:29.196Z"
   },
   {
    "duration": 17,
    "start_time": "2023-06-01T13:50:29.260Z"
   },
   {
    "duration": 12,
    "start_time": "2023-06-01T13:50:29.279Z"
   },
   {
    "duration": 20,
    "start_time": "2023-06-01T13:50:29.293Z"
   },
   {
    "duration": 18,
    "start_time": "2023-06-01T13:50:29.315Z"
   },
   {
    "duration": 42,
    "start_time": "2023-06-01T13:50:29.335Z"
   },
   {
    "duration": 10,
    "start_time": "2023-06-01T13:50:29.379Z"
   },
   {
    "duration": 181,
    "start_time": "2023-06-01T13:50:29.390Z"
   },
   {
    "duration": 189,
    "start_time": "2023-06-01T13:50:29.573Z"
   },
   {
    "duration": 218,
    "start_time": "2023-06-01T13:50:29.764Z"
   },
   {
    "duration": 286,
    "start_time": "2023-06-01T13:50:29.985Z"
   },
   {
    "duration": 224,
    "start_time": "2023-06-01T13:50:30.273Z"
   },
   {
    "duration": 172,
    "start_time": "2023-06-01T13:50:30.498Z"
   },
   {
    "duration": 194,
    "start_time": "2023-06-01T13:50:30.672Z"
   },
   {
    "duration": 186,
    "start_time": "2023-06-01T13:50:30.869Z"
   },
   {
    "duration": 308,
    "start_time": "2023-06-01T13:50:31.057Z"
   },
   {
    "duration": 17,
    "start_time": "2023-06-01T13:50:31.367Z"
   },
   {
    "duration": 89,
    "start_time": "2023-06-01T13:50:31.386Z"
   },
   {
    "duration": 53,
    "start_time": "2023-06-01T13:50:31.477Z"
   },
   {
    "duration": 119,
    "start_time": "2023-06-01T13:50:31.531Z"
   },
   {
    "duration": 1734,
    "start_time": "2023-06-01T13:50:31.652Z"
   },
   {
    "duration": 1231,
    "start_time": "2023-06-01T13:50:33.388Z"
   },
   {
    "duration": 587,
    "start_time": "2023-06-01T13:50:34.627Z"
   },
   {
    "duration": 1264,
    "start_time": "2023-06-01T13:50:35.217Z"
   },
   {
    "duration": 714,
    "start_time": "2023-06-01T13:56:32.929Z"
   },
   {
    "duration": 4545,
    "start_time": "2023-06-02T08:11:01.385Z"
   },
   {
    "duration": 3131,
    "start_time": "2023-06-02T08:11:54.289Z"
   },
   {
    "duration": 9,
    "start_time": "2023-06-02T08:11:57.422Z"
   },
   {
    "duration": 4604,
    "start_time": "2023-06-02T08:11:57.432Z"
   },
   {
    "duration": 18,
    "start_time": "2023-06-02T08:12:02.039Z"
   },
   {
    "duration": 13,
    "start_time": "2023-06-02T08:12:02.058Z"
   },
   {
    "duration": 64,
    "start_time": "2023-06-02T08:12:02.073Z"
   },
   {
    "duration": 143,
    "start_time": "2023-06-02T08:12:02.139Z"
   },
   {
    "duration": 119,
    "start_time": "2023-06-02T08:12:02.284Z"
   },
   {
    "duration": 127,
    "start_time": "2023-06-02T08:12:02.405Z"
   },
   {
    "duration": 124,
    "start_time": "2023-06-02T08:12:02.535Z"
   },
   {
    "duration": 125,
    "start_time": "2023-06-02T08:12:02.661Z"
   },
   {
    "duration": 9,
    "start_time": "2023-06-02T08:12:02.788Z"
   },
   {
    "duration": 14,
    "start_time": "2023-06-02T08:12:02.799Z"
   },
   {
    "duration": 26,
    "start_time": "2023-06-02T08:12:02.815Z"
   },
   {
    "duration": 14,
    "start_time": "2023-06-02T08:12:02.843Z"
   },
   {
    "duration": 17,
    "start_time": "2023-06-02T08:12:02.859Z"
   },
   {
    "duration": 28,
    "start_time": "2023-06-02T08:12:02.878Z"
   },
   {
    "duration": 18,
    "start_time": "2023-06-02T08:12:02.908Z"
   },
   {
    "duration": 16,
    "start_time": "2023-06-02T08:12:02.928Z"
   },
   {
    "duration": 18,
    "start_time": "2023-06-02T08:12:02.946Z"
   },
   {
    "duration": 11,
    "start_time": "2023-06-02T08:12:02.966Z"
   },
   {
    "duration": 10,
    "start_time": "2023-06-02T08:12:02.979Z"
   },
   {
    "duration": 41,
    "start_time": "2023-06-02T08:12:02.991Z"
   },
   {
    "duration": 6,
    "start_time": "2023-06-02T08:12:03.034Z"
   },
   {
    "duration": 17,
    "start_time": "2023-06-02T08:12:03.041Z"
   },
   {
    "duration": 171,
    "start_time": "2023-06-02T08:12:03.059Z"
   },
   {
    "duration": 175,
    "start_time": "2023-06-02T08:12:03.231Z"
   },
   {
    "duration": 207,
    "start_time": "2023-06-02T08:12:03.409Z"
   },
   {
    "duration": 251,
    "start_time": "2023-06-02T08:12:03.617Z"
   },
   {
    "duration": 184,
    "start_time": "2023-06-02T08:12:03.869Z"
   },
   {
    "duration": 218,
    "start_time": "2023-06-02T08:12:04.055Z"
   },
   {
    "duration": 195,
    "start_time": "2023-06-02T08:12:04.275Z"
   },
   {
    "duration": 181,
    "start_time": "2023-06-02T08:12:04.472Z"
   },
   {
    "duration": 321,
    "start_time": "2023-06-02T08:12:04.655Z"
   },
   {
    "duration": 18,
    "start_time": "2023-06-02T08:12:04.978Z"
   },
   {
    "duration": 5,
    "start_time": "2023-06-02T08:12:04.998Z"
   },
   {
    "duration": 15,
    "start_time": "2023-06-02T08:12:05.005Z"
   },
   {
    "duration": 39,
    "start_time": "2023-06-02T08:12:05.021Z"
   },
   {
    "duration": 1518,
    "start_time": "2023-06-02T08:12:05.062Z"
   },
   {
    "duration": 1104,
    "start_time": "2023-06-02T08:12:06.582Z"
   },
   {
    "duration": 594,
    "start_time": "2023-06-02T08:12:07.688Z"
   },
   {
    "duration": 616,
    "start_time": "2023-06-02T08:12:08.284Z"
   },
   {
    "duration": 104,
    "start_time": "2023-06-02T08:13:59.236Z"
   },
   {
    "duration": 6,
    "start_time": "2023-06-02T08:14:04.382Z"
   },
   {
    "duration": 608,
    "start_time": "2023-06-02T08:14:05.148Z"
   },
   {
    "duration": 25,
    "start_time": "2023-06-02T08:14:08.693Z"
   },
   {
    "duration": 632,
    "start_time": "2023-06-02T08:26:36.368Z"
   },
   {
    "duration": 602,
    "start_time": "2023-06-02T08:26:48.515Z"
   },
   {
    "duration": 1011,
    "start_time": "2023-06-02T08:27:08.525Z"
   },
   {
    "duration": 1061,
    "start_time": "2023-06-02T08:41:55.430Z"
   },
   {
    "duration": 1134,
    "start_time": "2023-06-02T08:42:23.519Z"
   },
   {
    "duration": 1057,
    "start_time": "2023-06-02T08:42:52.713Z"
   },
   {
    "duration": 1060,
    "start_time": "2023-06-02T08:43:07.721Z"
   },
   {
    "duration": 1991,
    "start_time": "2023-06-02T08:43:50.754Z"
   },
   {
    "duration": 2001,
    "start_time": "2023-06-02T08:44:02.150Z"
   },
   {
    "duration": 9,
    "start_time": "2023-06-02T10:28:23.162Z"
   },
   {
    "duration": 10,
    "start_time": "2023-06-02T10:28:39.012Z"
   },
   {
    "duration": 3176,
    "start_time": "2023-06-02T10:28:45.495Z"
   },
   {
    "duration": 8,
    "start_time": "2023-06-02T10:28:48.673Z"
   },
   {
    "duration": 992,
    "start_time": "2023-06-02T10:28:48.683Z"
   },
   {
    "duration": 18,
    "start_time": "2023-06-02T10:28:49.677Z"
   },
   {
    "duration": 16,
    "start_time": "2023-06-02T10:28:49.697Z"
   },
   {
    "duration": 45,
    "start_time": "2023-06-02T10:28:49.715Z"
   },
   {
    "duration": 130,
    "start_time": "2023-06-02T10:28:49.762Z"
   },
   {
    "duration": 114,
    "start_time": "2023-06-02T10:28:49.893Z"
   },
   {
    "duration": 128,
    "start_time": "2023-06-02T10:28:50.009Z"
   },
   {
    "duration": 114,
    "start_time": "2023-06-02T10:28:50.149Z"
   },
   {
    "duration": 131,
    "start_time": "2023-06-02T10:28:50.265Z"
   },
   {
    "duration": 10,
    "start_time": "2023-06-02T10:28:50.397Z"
   },
   {
    "duration": 4,
    "start_time": "2023-06-02T10:28:50.409Z"
   },
   {
    "duration": 19,
    "start_time": "2023-06-02T10:28:50.415Z"
   },
   {
    "duration": 17,
    "start_time": "2023-06-02T10:28:50.435Z"
   },
   {
    "duration": 10,
    "start_time": "2023-06-02T10:28:50.454Z"
   },
   {
    "duration": 22,
    "start_time": "2023-06-02T10:28:50.466Z"
   },
   {
    "duration": 4,
    "start_time": "2023-06-02T10:28:50.490Z"
   },
   {
    "duration": 8,
    "start_time": "2023-06-02T10:28:50.496Z"
   },
   {
    "duration": 15,
    "start_time": "2023-06-02T10:28:50.505Z"
   },
   {
    "duration": 9,
    "start_time": "2023-06-02T10:28:50.521Z"
   },
   {
    "duration": 6,
    "start_time": "2023-06-02T10:28:50.532Z"
   },
   {
    "duration": 20,
    "start_time": "2023-06-02T10:28:50.539Z"
   },
   {
    "duration": 4,
    "start_time": "2023-06-02T10:28:50.560Z"
   },
   {
    "duration": 15,
    "start_time": "2023-06-02T10:28:50.566Z"
   },
   {
    "duration": 176,
    "start_time": "2023-06-02T10:28:50.583Z"
   },
   {
    "duration": 179,
    "start_time": "2023-06-02T10:28:50.760Z"
   },
   {
    "duration": 120,
    "start_time": "2023-06-02T10:28:50.943Z"
   },
   {
    "duration": 0,
    "start_time": "2023-06-02T10:28:51.065Z"
   },
   {
    "duration": 0,
    "start_time": "2023-06-02T10:28:51.067Z"
   },
   {
    "duration": 0,
    "start_time": "2023-06-02T10:28:51.068Z"
   },
   {
    "duration": 0,
    "start_time": "2023-06-02T10:28:51.070Z"
   },
   {
    "duration": 0,
    "start_time": "2023-06-02T10:28:51.072Z"
   },
   {
    "duration": 0,
    "start_time": "2023-06-02T10:28:51.073Z"
   },
   {
    "duration": 0,
    "start_time": "2023-06-02T10:28:51.075Z"
   },
   {
    "duration": 0,
    "start_time": "2023-06-02T10:28:51.076Z"
   },
   {
    "duration": 0,
    "start_time": "2023-06-02T10:28:51.078Z"
   },
   {
    "duration": 0,
    "start_time": "2023-06-02T10:28:51.079Z"
   },
   {
    "duration": 0,
    "start_time": "2023-06-02T10:28:51.081Z"
   },
   {
    "duration": 0,
    "start_time": "2023-06-02T10:28:51.082Z"
   },
   {
    "duration": 0,
    "start_time": "2023-06-02T10:28:51.084Z"
   },
   {
    "duration": 0,
    "start_time": "2023-06-02T10:28:51.085Z"
   },
   {
    "duration": 0,
    "start_time": "2023-06-02T10:28:51.086Z"
   },
   {
    "duration": 0,
    "start_time": "2023-06-02T10:28:51.088Z"
   },
   {
    "duration": 0,
    "start_time": "2023-06-02T10:28:51.089Z"
   },
   {
    "duration": 135,
    "start_time": "2023-06-02T10:29:20.793Z"
   },
   {
    "duration": 264,
    "start_time": "2023-06-02T10:29:47.865Z"
   },
   {
    "duration": 3239,
    "start_time": "2023-06-02T10:30:13.042Z"
   },
   {
    "duration": 8,
    "start_time": "2023-06-02T10:30:16.284Z"
   },
   {
    "duration": 4151,
    "start_time": "2023-06-02T10:30:16.294Z"
   },
   {
    "duration": 23,
    "start_time": "2023-06-02T10:30:20.447Z"
   },
   {
    "duration": 43,
    "start_time": "2023-06-02T10:30:20.473Z"
   },
   {
    "duration": 42,
    "start_time": "2023-06-02T10:30:20.518Z"
   },
   {
    "duration": 154,
    "start_time": "2023-06-02T10:30:20.562Z"
   },
   {
    "duration": 139,
    "start_time": "2023-06-02T10:30:20.718Z"
   },
   {
    "duration": 135,
    "start_time": "2023-06-02T10:30:20.859Z"
   },
   {
    "duration": 123,
    "start_time": "2023-06-02T10:30:20.996Z"
   },
   {
    "duration": 134,
    "start_time": "2023-06-02T10:30:21.121Z"
   },
   {
    "duration": 10,
    "start_time": "2023-06-02T10:30:21.257Z"
   },
   {
    "duration": 31,
    "start_time": "2023-06-02T10:30:21.269Z"
   },
   {
    "duration": 35,
    "start_time": "2023-06-02T10:30:21.303Z"
   },
   {
    "duration": 18,
    "start_time": "2023-06-02T10:30:21.339Z"
   },
   {
    "duration": 23,
    "start_time": "2023-06-02T10:30:21.359Z"
   },
   {
    "duration": 24,
    "start_time": "2023-06-02T10:30:21.384Z"
   },
   {
    "duration": 22,
    "start_time": "2023-06-02T10:30:21.410Z"
   },
   {
    "duration": 6,
    "start_time": "2023-06-02T10:30:21.434Z"
   },
   {
    "duration": 31,
    "start_time": "2023-06-02T10:30:21.442Z"
   },
   {
    "duration": 13,
    "start_time": "2023-06-02T10:30:21.474Z"
   },
   {
    "duration": 16,
    "start_time": "2023-06-02T10:30:21.488Z"
   },
   {
    "duration": 41,
    "start_time": "2023-06-02T10:30:21.506Z"
   },
   {
    "duration": 18,
    "start_time": "2023-06-02T10:30:21.549Z"
   },
   {
    "duration": 29,
    "start_time": "2023-06-02T10:30:21.568Z"
   },
   {
    "duration": 174,
    "start_time": "2023-06-02T10:30:21.599Z"
   },
   {
    "duration": 188,
    "start_time": "2023-06-02T10:30:21.775Z"
   },
   {
    "duration": 208,
    "start_time": "2023-06-02T10:30:21.964Z"
   },
   {
    "duration": 258,
    "start_time": "2023-06-02T10:30:22.174Z"
   },
   {
    "duration": 189,
    "start_time": "2023-06-02T10:30:22.436Z"
   },
   {
    "duration": 158,
    "start_time": "2023-06-02T10:30:22.627Z"
   },
   {
    "duration": 183,
    "start_time": "2023-06-02T10:30:22.787Z"
   },
   {
    "duration": 169,
    "start_time": "2023-06-02T10:30:22.973Z"
   },
   {
    "duration": 275,
    "start_time": "2023-06-02T10:30:23.144Z"
   },
   {
    "duration": 16,
    "start_time": "2023-06-02T10:30:23.420Z"
   },
   {
    "duration": 14,
    "start_time": "2023-06-02T10:30:23.438Z"
   },
   {
    "duration": 36,
    "start_time": "2023-06-02T10:30:23.453Z"
   },
   {
    "duration": 26,
    "start_time": "2023-06-02T10:30:23.491Z"
   },
   {
    "duration": 1537,
    "start_time": "2023-06-02T10:30:23.519Z"
   },
   {
    "duration": 1113,
    "start_time": "2023-06-02T10:30:25.058Z"
   },
   {
    "duration": 583,
    "start_time": "2023-06-02T10:30:26.174Z"
   },
   {
    "duration": 4,
    "start_time": "2023-06-02T10:30:26.759Z"
   },
   {
    "duration": 1991,
    "start_time": "2023-06-02T10:30:26.765Z"
   },
   {
    "duration": 25,
    "start_time": "2023-06-02T10:30:28.758Z"
   },
   {
    "duration": 103,
    "start_time": "2023-06-02T10:37:09.558Z"
   },
   {
    "duration": 1262,
    "start_time": "2023-06-02T10:37:55.958Z"
   },
   {
    "duration": 2509,
    "start_time": "2023-06-02T10:49:33.579Z"
   },
   {
    "duration": 2376,
    "start_time": "2023-06-02T10:49:55.490Z"
   },
   {
    "duration": 13,
    "start_time": "2023-06-02T10:51:40.867Z"
   },
   {
    "duration": 1455,
    "start_time": "2023-06-02T10:52:36.421Z"
   },
   {
    "duration": 1477,
    "start_time": "2023-06-02T10:53:02.063Z"
   },
   {
    "duration": 10,
    "start_time": "2023-06-02T10:57:07.006Z"
   },
   {
    "duration": 16,
    "start_time": "2023-06-02T10:57:21.605Z"
   },
   {
    "duration": 6,
    "start_time": "2023-06-02T10:58:50.778Z"
   },
   {
    "duration": 5,
    "start_time": "2023-06-02T10:59:06.370Z"
   },
   {
    "duration": 16,
    "start_time": "2023-06-02T11:01:22.798Z"
   },
   {
    "duration": 16,
    "start_time": "2023-06-02T11:03:12.012Z"
   },
   {
    "duration": 10,
    "start_time": "2023-06-02T11:03:15.916Z"
   },
   {
    "duration": 16,
    "start_time": "2023-06-02T11:09:55.213Z"
   },
   {
    "duration": 625,
    "start_time": "2023-06-02T11:10:17.165Z"
   },
   {
    "duration": 23,
    "start_time": "2023-06-02T11:10:47.697Z"
   },
   {
    "duration": 24,
    "start_time": "2023-06-02T11:11:25.890Z"
   },
   {
    "duration": 1411,
    "start_time": "2023-06-02T11:11:50.758Z"
   },
   {
    "duration": 565,
    "start_time": "2023-06-02T11:12:04.111Z"
   },
   {
    "duration": 363,
    "start_time": "2023-06-02T11:12:23.768Z"
   },
   {
    "duration": 215,
    "start_time": "2023-06-02T11:13:02.677Z"
   },
   {
    "duration": 17,
    "start_time": "2023-06-02T11:14:24.555Z"
   },
   {
    "duration": 26,
    "start_time": "2023-06-02T11:14:37.272Z"
   },
   {
    "duration": 229,
    "start_time": "2023-06-02T11:14:59.772Z"
   },
   {
    "duration": 237,
    "start_time": "2023-06-02T11:15:36.095Z"
   },
   {
    "duration": 22,
    "start_time": "2023-06-02T11:17:19.000Z"
   },
   {
    "duration": 23,
    "start_time": "2023-06-02T11:18:09.467Z"
   },
   {
    "duration": 582,
    "start_time": "2023-06-02T11:18:28.966Z"
   },
   {
    "duration": 1864,
    "start_time": "2023-06-02T11:20:30.883Z"
   },
   {
    "duration": 44,
    "start_time": "2023-06-02T11:20:52.762Z"
   },
   {
    "duration": 42,
    "start_time": "2023-06-02T11:21:16.342Z"
   },
   {
    "duration": 42,
    "start_time": "2023-06-02T11:21:26.168Z"
   },
   {
    "duration": 14,
    "start_time": "2023-06-02T11:23:22.991Z"
   },
   {
    "duration": 47,
    "start_time": "2023-06-02T11:24:14.848Z"
   },
   {
    "duration": 913,
    "start_time": "2023-06-02T11:24:43.347Z"
   },
   {
    "duration": 50,
    "start_time": "2023-06-02T11:25:01.983Z"
   },
   {
    "duration": 22,
    "start_time": "2023-06-02T11:25:26.945Z"
   },
   {
    "duration": 49,
    "start_time": "2023-06-02T11:25:41.374Z"
   },
   {
    "duration": 28,
    "start_time": "2023-06-02T11:26:34.847Z"
   },
   {
    "duration": 29,
    "start_time": "2023-06-02T11:27:11.559Z"
   },
   {
    "duration": 24,
    "start_time": "2023-06-02T11:27:26.000Z"
   },
   {
    "duration": 749,
    "start_time": "2023-06-02T11:27:51.613Z"
   },
   {
    "duration": 27,
    "start_time": "2023-06-02T11:28:01.688Z"
   },
   {
    "duration": 22,
    "start_time": "2023-06-02T11:28:51.974Z"
   },
   {
    "duration": 242,
    "start_time": "2023-06-02T11:29:11.989Z"
   },
   {
    "duration": 25,
    "start_time": "2023-06-02T11:29:45.614Z"
   },
   {
    "duration": 23,
    "start_time": "2023-06-02T11:30:10.054Z"
   },
   {
    "duration": 260,
    "start_time": "2023-06-02T11:31:01.246Z"
   },
   {
    "duration": 133,
    "start_time": "2023-06-02T11:31:13.166Z"
   },
   {
    "duration": 24,
    "start_time": "2023-06-02T11:35:04.573Z"
   },
   {
    "duration": 34,
    "start_time": "2023-06-02T11:35:11.569Z"
   },
   {
    "duration": 23,
    "start_time": "2023-06-02T11:35:46.044Z"
   },
   {
    "duration": 24,
    "start_time": "2023-06-02T11:36:10.914Z"
   },
   {
    "duration": 231,
    "start_time": "2023-06-02T11:36:21.765Z"
   },
   {
    "duration": 277,
    "start_time": "2023-06-02T11:37:22.296Z"
   },
   {
    "duration": 22,
    "start_time": "2023-06-02T11:37:29.672Z"
   },
   {
    "duration": 210,
    "start_time": "2023-06-02T11:38:24.823Z"
   },
   {
    "duration": 17,
    "start_time": "2023-06-02T11:40:19.465Z"
   },
   {
    "duration": 25,
    "start_time": "2023-06-02T11:40:43.281Z"
   },
   {
    "duration": 58,
    "start_time": "2023-06-02T11:41:14.587Z"
   },
   {
    "duration": 24,
    "start_time": "2023-06-02T11:42:06.571Z"
   },
   {
    "duration": 17,
    "start_time": "2023-06-02T11:45:02.267Z"
   },
   {
    "duration": 15,
    "start_time": "2023-06-02T11:45:41.417Z"
   },
   {
    "duration": 15,
    "start_time": "2023-06-02T11:45:47.380Z"
   },
   {
    "duration": 17,
    "start_time": "2023-06-02T11:46:09.946Z"
   },
   {
    "duration": 46,
    "start_time": "2023-06-02T11:46:23.991Z"
   },
   {
    "duration": 11,
    "start_time": "2023-06-02T11:49:51.464Z"
   },
   {
    "duration": 42,
    "start_time": "2023-06-02T11:50:15.755Z"
   },
   {
    "duration": 22,
    "start_time": "2023-06-02T11:51:50.162Z"
   },
   {
    "duration": 61,
    "start_time": "2023-06-02T11:52:34.356Z"
   },
   {
    "duration": 15,
    "start_time": "2023-06-02T11:55:46.892Z"
   },
   {
    "duration": 11,
    "start_time": "2023-06-02T11:56:35.699Z"
   },
   {
    "duration": 60,
    "start_time": "2023-06-02T11:57:38.817Z"
   },
   {
    "duration": 506,
    "start_time": "2023-06-02T11:59:27.179Z"
   },
   {
    "duration": 24,
    "start_time": "2023-06-02T12:21:41.547Z"
   },
   {
    "duration": 11,
    "start_time": "2023-06-02T12:22:02.564Z"
   },
   {
    "duration": 28,
    "start_time": "2023-06-02T12:22:12.491Z"
   },
   {
    "duration": 612,
    "start_time": "2023-06-02T12:23:24.411Z"
   },
   {
    "duration": 24,
    "start_time": "2023-06-02T12:23:33.129Z"
   },
   {
    "duration": 23,
    "start_time": "2023-06-02T12:24:31.067Z"
   },
   {
    "duration": 25,
    "start_time": "2023-06-02T12:24:48.608Z"
   },
   {
    "duration": 25,
    "start_time": "2023-06-02T12:25:13.495Z"
   },
   {
    "duration": 15,
    "start_time": "2023-06-02T12:29:43.375Z"
   },
   {
    "duration": 1127,
    "start_time": "2023-06-02T12:29:55.818Z"
   },
   {
    "duration": 1159,
    "start_time": "2023-06-02T12:30:48.691Z"
   },
   {
    "duration": 1136,
    "start_time": "2023-06-02T12:31:28.095Z"
   },
   {
    "duration": 1354,
    "start_time": "2023-06-02T12:31:44.155Z"
   },
   {
    "duration": 2057,
    "start_time": "2023-06-02T12:32:03.391Z"
   },
   {
    "duration": 13,
    "start_time": "2023-06-02T12:32:15.293Z"
   },
   {
    "duration": 9,
    "start_time": "2023-06-02T12:32:30.922Z"
   },
   {
    "duration": 8,
    "start_time": "2023-06-02T12:32:40.267Z"
   },
   {
    "duration": 143,
    "start_time": "2023-06-02T12:32:55.162Z"
   },
   {
    "duration": 17,
    "start_time": "2023-06-02T12:33:34.267Z"
   },
   {
    "duration": 15,
    "start_time": "2023-06-02T12:34:05.114Z"
   },
   {
    "duration": 150,
    "start_time": "2023-06-02T12:35:07.695Z"
   },
   {
    "duration": 263,
    "start_time": "2023-06-02T12:38:46.395Z"
   },
   {
    "duration": 4407,
    "start_time": "2023-06-03T08:22:41.980Z"
   },
   {
    "duration": 8,
    "start_time": "2023-06-03T08:22:46.390Z"
   },
   {
    "duration": 3547,
    "start_time": "2023-06-03T08:22:46.400Z"
   },
   {
    "duration": 17,
    "start_time": "2023-06-03T08:22:49.949Z"
   },
   {
    "duration": 117,
    "start_time": "2023-06-03T08:22:49.968Z"
   },
   {
    "duration": 248,
    "start_time": "2023-06-03T08:22:50.086Z"
   },
   {
    "duration": 130,
    "start_time": "2023-06-03T08:22:50.336Z"
   },
   {
    "duration": 114,
    "start_time": "2023-06-03T08:22:50.467Z"
   },
   {
    "duration": 120,
    "start_time": "2023-06-03T08:22:50.582Z"
   },
   {
    "duration": 107,
    "start_time": "2023-06-03T08:22:50.705Z"
   },
   {
    "duration": 122,
    "start_time": "2023-06-03T08:22:50.813Z"
   },
   {
    "duration": 21,
    "start_time": "2023-06-03T08:22:50.936Z"
   },
   {
    "duration": 12,
    "start_time": "2023-06-03T08:22:50.959Z"
   },
   {
    "duration": 20,
    "start_time": "2023-06-03T08:22:50.972Z"
   },
   {
    "duration": 15,
    "start_time": "2023-06-03T08:22:50.993Z"
   },
   {
    "duration": 22,
    "start_time": "2023-06-03T08:22:51.009Z"
   },
   {
    "duration": 20,
    "start_time": "2023-06-03T08:22:51.033Z"
   },
   {
    "duration": 7,
    "start_time": "2023-06-03T08:22:51.055Z"
   },
   {
    "duration": 31,
    "start_time": "2023-06-03T08:22:51.063Z"
   },
   {
    "duration": 36,
    "start_time": "2023-06-03T08:22:51.095Z"
   },
   {
    "duration": 34,
    "start_time": "2023-06-03T08:22:51.133Z"
   },
   {
    "duration": 24,
    "start_time": "2023-06-03T08:22:51.169Z"
   },
   {
    "duration": 29,
    "start_time": "2023-06-03T08:22:51.195Z"
   },
   {
    "duration": 9,
    "start_time": "2023-06-03T08:22:51.226Z"
   },
   {
    "duration": 16,
    "start_time": "2023-06-03T08:22:51.236Z"
   },
   {
    "duration": 163,
    "start_time": "2023-06-03T08:22:51.254Z"
   },
   {
    "duration": 187,
    "start_time": "2023-06-03T08:22:51.418Z"
   },
   {
    "duration": 198,
    "start_time": "2023-06-03T08:22:51.608Z"
   },
   {
    "duration": 275,
    "start_time": "2023-06-03T08:22:51.809Z"
   },
   {
    "duration": 166,
    "start_time": "2023-06-03T08:22:52.086Z"
   },
   {
    "duration": 161,
    "start_time": "2023-06-03T08:22:52.255Z"
   },
   {
    "duration": 193,
    "start_time": "2023-06-03T08:22:52.417Z"
   },
   {
    "duration": 163,
    "start_time": "2023-06-03T08:22:52.612Z"
   },
   {
    "duration": 272,
    "start_time": "2023-06-03T08:22:52.776Z"
   },
   {
    "duration": 23,
    "start_time": "2023-06-03T08:22:53.050Z"
   },
   {
    "duration": 6,
    "start_time": "2023-06-03T08:22:53.074Z"
   },
   {
    "duration": 10,
    "start_time": "2023-06-03T08:22:53.082Z"
   },
   {
    "duration": 1443,
    "start_time": "2023-06-03T08:22:53.094Z"
   },
   {
    "duration": 1049,
    "start_time": "2023-06-03T08:22:54.540Z"
   },
   {
    "duration": 15,
    "start_time": "2023-06-03T08:22:55.591Z"
   },
   {
    "duration": 297,
    "start_time": "2023-06-03T08:22:55.608Z"
   },
   {
    "duration": 541,
    "start_time": "2023-06-03T08:22:55.907Z"
   },
   {
    "duration": 9,
    "start_time": "2023-06-03T08:22:56.450Z"
   },
   {
    "duration": 1919,
    "start_time": "2023-06-03T08:22:56.460Z"
   },
   {
    "duration": 1418,
    "start_time": "2023-06-03T08:22:58.381Z"
   },
   {
    "duration": 7,
    "start_time": "2023-06-03T08:24:30.323Z"
   },
   {
    "duration": 108,
    "start_time": "2023-06-03T08:25:07.643Z"
   },
   {
    "duration": 17,
    "start_time": "2023-06-03T08:27:45.285Z"
   },
   {
    "duration": 17,
    "start_time": "2023-06-03T08:30:01.602Z"
   },
   {
    "duration": 18,
    "start_time": "2023-06-03T08:30:16.292Z"
   },
   {
    "duration": 17,
    "start_time": "2023-06-03T08:30:25.225Z"
   },
   {
    "duration": 18,
    "start_time": "2023-06-03T08:33:25.823Z"
   },
   {
    "duration": 14,
    "start_time": "2023-06-03T08:34:59.603Z"
   },
   {
    "duration": 17,
    "start_time": "2023-06-03T08:36:35.592Z"
   },
   {
    "duration": 19,
    "start_time": "2023-06-03T08:36:44.926Z"
   },
   {
    "duration": 15,
    "start_time": "2023-06-03T08:36:52.884Z"
   },
   {
    "duration": 11,
    "start_time": "2023-06-03T08:41:43.923Z"
   },
   {
    "duration": 34,
    "start_time": "2023-06-03T08:41:53.926Z"
   },
   {
    "duration": 18,
    "start_time": "2023-06-03T08:44:01.003Z"
   },
   {
    "duration": 19,
    "start_time": "2023-06-03T08:44:50.710Z"
   },
   {
    "duration": 15,
    "start_time": "2023-06-03T08:45:44.285Z"
   },
   {
    "duration": 13,
    "start_time": "2023-06-03T08:45:59.163Z"
   },
   {
    "duration": 7,
    "start_time": "2023-06-03T08:46:07.963Z"
   },
   {
    "duration": 4,
    "start_time": "2023-06-03T08:49:09.563Z"
   },
   {
    "duration": 4,
    "start_time": "2023-06-03T08:53:37.161Z"
   },
   {
    "duration": 13,
    "start_time": "2023-06-03T08:53:49.713Z"
   },
   {
    "duration": 11,
    "start_time": "2023-06-03T08:54:12.124Z"
   },
   {
    "duration": 98,
    "start_time": "2023-06-03T08:54:55.473Z"
   },
   {
    "duration": 8,
    "start_time": "2023-06-03T08:54:59.802Z"
   },
   {
    "duration": 10,
    "start_time": "2023-06-03T08:56:22.324Z"
   },
   {
    "duration": 13,
    "start_time": "2023-06-03T08:57:56.442Z"
   },
   {
    "duration": 75,
    "start_time": "2023-06-03T08:59:46.823Z"
   },
   {
    "duration": 81,
    "start_time": "2023-06-03T08:59:56.988Z"
   },
   {
    "duration": 76,
    "start_time": "2023-06-03T09:00:05.845Z"
   },
   {
    "duration": 14,
    "start_time": "2023-06-03T09:00:44.123Z"
   },
   {
    "duration": 9,
    "start_time": "2023-06-03T09:01:05.093Z"
   },
   {
    "duration": 9,
    "start_time": "2023-06-03T09:01:08.944Z"
   },
   {
    "duration": 7,
    "start_time": "2023-06-03T09:01:30.073Z"
   },
   {
    "duration": 123,
    "start_time": "2023-06-03T09:01:39.203Z"
   },
   {
    "duration": 108,
    "start_time": "2023-06-03T09:02:01.204Z"
   },
   {
    "duration": 77,
    "start_time": "2023-06-03T09:02:16.003Z"
   },
   {
    "duration": 79,
    "start_time": "2023-06-03T09:02:25.203Z"
   },
   {
    "duration": 7,
    "start_time": "2023-06-03T09:02:42.093Z"
   },
   {
    "duration": 9,
    "start_time": "2023-06-03T09:02:51.432Z"
   },
   {
    "duration": 7,
    "start_time": "2023-06-03T09:03:05.443Z"
   },
   {
    "duration": 9,
    "start_time": "2023-06-03T09:03:13.012Z"
   },
   {
    "duration": 17,
    "start_time": "2023-06-03T09:03:50.846Z"
   },
   {
    "duration": 15,
    "start_time": "2023-06-03T09:04:07.251Z"
   },
   {
    "duration": 15,
    "start_time": "2023-06-03T09:05:00.213Z"
   },
   {
    "duration": 4,
    "start_time": "2023-06-03T09:05:12.163Z"
   },
   {
    "duration": 10,
    "start_time": "2023-06-03T09:05:31.083Z"
   },
   {
    "duration": 10,
    "start_time": "2023-06-03T09:15:54.263Z"
   },
   {
    "duration": 13,
    "start_time": "2023-06-03T09:18:47.907Z"
   },
   {
    "duration": 4,
    "start_time": "2023-06-03T09:19:20.673Z"
   },
   {
    "duration": 3,
    "start_time": "2023-06-03T09:19:36.443Z"
   },
   {
    "duration": 4,
    "start_time": "2023-06-03T09:19:51.843Z"
   },
   {
    "duration": 6,
    "start_time": "2023-06-03T09:20:14.743Z"
   },
   {
    "duration": 10,
    "start_time": "2023-06-03T09:20:24.470Z"
   },
   {
    "duration": 4,
    "start_time": "2023-06-03T09:20:34.513Z"
   },
   {
    "duration": 4,
    "start_time": "2023-06-03T09:20:49.583Z"
   },
   {
    "duration": 12,
    "start_time": "2023-06-03T09:21:24.924Z"
   },
   {
    "duration": 4,
    "start_time": "2023-06-03T09:21:29.443Z"
   },
   {
    "duration": 12,
    "start_time": "2023-06-03T09:21:30.045Z"
   },
   {
    "duration": 13,
    "start_time": "2023-06-03T09:23:59.205Z"
   },
   {
    "duration": 6,
    "start_time": "2023-06-03T09:24:47.313Z"
   },
   {
    "duration": 11,
    "start_time": "2023-06-03T09:24:54.403Z"
   },
   {
    "duration": 33,
    "start_time": "2023-06-03T09:25:08.051Z"
   },
   {
    "duration": 5,
    "start_time": "2023-06-03T09:25:58.603Z"
   },
   {
    "duration": 25,
    "start_time": "2023-06-03T09:26:14.563Z"
   },
   {
    "duration": 4,
    "start_time": "2023-06-03T09:26:15.174Z"
   },
   {
    "duration": 10,
    "start_time": "2023-06-03T09:26:17.054Z"
   },
   {
    "duration": 4,
    "start_time": "2023-06-03T09:27:23.042Z"
   },
   {
    "duration": 19,
    "start_time": "2023-06-03T09:27:24.003Z"
   },
   {
    "duration": 25,
    "start_time": "2023-06-03T09:27:33.355Z"
   },
   {
    "duration": 4,
    "start_time": "2023-06-03T09:27:35.988Z"
   },
   {
    "duration": 26,
    "start_time": "2023-06-03T09:27:56.464Z"
   },
   {
    "duration": 8,
    "start_time": "2023-06-03T09:27:57.244Z"
   },
   {
    "duration": 98,
    "start_time": "2023-06-03T09:28:38.914Z"
   },
   {
    "duration": 96,
    "start_time": "2023-06-03T09:28:48.921Z"
   },
   {
    "duration": 85,
    "start_time": "2023-06-03T09:28:59.805Z"
   },
   {
    "duration": 15,
    "start_time": "2023-06-03T09:29:59.873Z"
   },
   {
    "duration": 8,
    "start_time": "2023-06-03T09:30:11.526Z"
   },
   {
    "duration": 26,
    "start_time": "2023-06-03T09:30:51.170Z"
   },
   {
    "duration": 833,
    "start_time": "2023-06-03T09:31:28.523Z"
   },
   {
    "duration": 10,
    "start_time": "2023-06-03T09:32:05.014Z"
   },
   {
    "duration": 2656,
    "start_time": "2023-06-03T09:32:31.392Z"
   },
   {
    "duration": 1210,
    "start_time": "2023-06-03T09:33:16.383Z"
   },
   {
    "duration": 17,
    "start_time": "2023-06-03T09:35:13.286Z"
   },
   {
    "duration": 35,
    "start_time": "2023-06-03T09:35:29.445Z"
   },
   {
    "duration": 738,
    "start_time": "2023-06-03T09:36:34.123Z"
   },
   {
    "duration": 12,
    "start_time": "2023-06-03T09:37:07.043Z"
   },
   {
    "duration": 12,
    "start_time": "2023-06-03T09:37:28.649Z"
   },
   {
    "duration": 610,
    "start_time": "2023-06-03T09:37:57.603Z"
   },
   {
    "duration": 4,
    "start_time": "2023-06-03T09:38:04.923Z"
   },
   {
    "duration": 388,
    "start_time": "2023-06-03T09:38:06.323Z"
   },
   {
    "duration": 20,
    "start_time": "2023-06-03T09:39:03.543Z"
   },
   {
    "duration": 3,
    "start_time": "2023-06-03T09:39:12.603Z"
   },
   {
    "duration": 3,
    "start_time": "2023-06-03T09:39:15.213Z"
   },
   {
    "duration": 36,
    "start_time": "2023-06-03T09:39:32.452Z"
   },
   {
    "duration": 49,
    "start_time": "2023-06-03T09:39:54.243Z"
   },
   {
    "duration": 9,
    "start_time": "2023-06-03T09:39:54.803Z"
   },
   {
    "duration": 12,
    "start_time": "2023-06-03T09:40:45.575Z"
   },
   {
    "duration": 12,
    "start_time": "2023-06-03T09:41:15.173Z"
   },
   {
    "duration": 11,
    "start_time": "2023-06-03T09:41:52.483Z"
   },
   {
    "duration": 38,
    "start_time": "2023-06-03T09:41:58.365Z"
   },
   {
    "duration": 13,
    "start_time": "2023-06-03T09:41:58.914Z"
   },
   {
    "duration": 34,
    "start_time": "2023-06-03T09:42:13.892Z"
   },
   {
    "duration": 6,
    "start_time": "2023-06-03T09:42:14.405Z"
   },
   {
    "duration": 11,
    "start_time": "2023-06-03T09:42:22.733Z"
   },
   {
    "duration": 27,
    "start_time": "2023-06-03T09:42:24.593Z"
   },
   {
    "duration": 10,
    "start_time": "2023-06-03T09:42:25.213Z"
   },
   {
    "duration": 17,
    "start_time": "2023-06-03T09:42:32.484Z"
   },
   {
    "duration": 27,
    "start_time": "2023-06-03T09:42:35.023Z"
   },
   {
    "duration": 10,
    "start_time": "2023-06-03T09:42:35.990Z"
   },
   {
    "duration": 180,
    "start_time": "2023-06-03T09:42:39.153Z"
   },
   {
    "duration": 92,
    "start_time": "2023-06-03T09:42:54.803Z"
   },
   {
    "duration": 203,
    "start_time": "2023-06-03T09:43:02.196Z"
   },
   {
    "duration": 27,
    "start_time": "2023-06-03T09:43:40.086Z"
   },
   {
    "duration": 10,
    "start_time": "2023-06-03T09:43:40.733Z"
   },
   {
    "duration": 334,
    "start_time": "2023-06-03T09:43:41.643Z"
   },
   {
    "duration": 272,
    "start_time": "2023-06-03T09:44:55.603Z"
   },
   {
    "duration": 278,
    "start_time": "2023-06-03T09:45:45.653Z"
   },
   {
    "duration": 301,
    "start_time": "2023-06-03T09:46:28.522Z"
   },
   {
    "duration": 314,
    "start_time": "2023-06-03T09:46:37.432Z"
   },
   {
    "duration": 249,
    "start_time": "2023-06-03T09:47:02.470Z"
   },
   {
    "duration": 30,
    "start_time": "2023-06-03T09:48:41.564Z"
   },
   {
    "duration": 242,
    "start_time": "2023-06-03T09:48:42.283Z"
   },
   {
    "duration": 295,
    "start_time": "2023-06-03T09:50:19.544Z"
   },
   {
    "duration": 87,
    "start_time": "2023-06-03T10:40:48.648Z"
   },
   {
    "duration": 307,
    "start_time": "2023-06-03T10:40:56.545Z"
   },
   {
    "duration": 50,
    "start_time": "2023-06-03T12:24:10.403Z"
   },
   {
    "duration": 33,
    "start_time": "2023-06-03T12:24:50.243Z"
   },
   {
    "duration": 50,
    "start_time": "2023-06-03T12:28:18.050Z"
   },
   {
    "duration": 42,
    "start_time": "2023-06-03T12:28:28.486Z"
   },
   {
    "duration": 4141,
    "start_time": "2023-06-03T15:17:46.576Z"
   },
   {
    "duration": 7,
    "start_time": "2023-06-03T15:17:50.720Z"
   },
   {
    "duration": 3442,
    "start_time": "2023-06-03T15:17:50.728Z"
   },
   {
    "duration": 16,
    "start_time": "2023-06-03T15:17:54.173Z"
   },
   {
    "duration": 18,
    "start_time": "2023-06-03T15:17:54.190Z"
   },
   {
    "duration": 35,
    "start_time": "2023-06-03T15:17:54.209Z"
   },
   {
    "duration": 129,
    "start_time": "2023-06-03T15:17:54.246Z"
   },
   {
    "duration": 13,
    "start_time": "2023-06-03T15:17:54.377Z"
   },
   {
    "duration": 108,
    "start_time": "2023-06-03T15:17:54.392Z"
   },
   {
    "duration": 108,
    "start_time": "2023-06-03T15:17:54.502Z"
   },
   {
    "duration": 102,
    "start_time": "2023-06-03T15:17:54.611Z"
   },
   {
    "duration": 138,
    "start_time": "2023-06-03T15:17:54.714Z"
   },
   {
    "duration": 13,
    "start_time": "2023-06-03T15:17:54.854Z"
   },
   {
    "duration": 7,
    "start_time": "2023-06-03T15:17:54.869Z"
   },
   {
    "duration": 18,
    "start_time": "2023-06-03T15:17:54.879Z"
   },
   {
    "duration": 5,
    "start_time": "2023-06-03T15:17:54.899Z"
   },
   {
    "duration": 7,
    "start_time": "2023-06-03T15:17:54.925Z"
   },
   {
    "duration": 5,
    "start_time": "2023-06-03T15:17:54.934Z"
   },
   {
    "duration": 9,
    "start_time": "2023-06-03T15:17:54.940Z"
   },
   {
    "duration": 8,
    "start_time": "2023-06-03T15:17:54.951Z"
   },
   {
    "duration": 5,
    "start_time": "2023-06-03T15:17:54.960Z"
   },
   {
    "duration": 7,
    "start_time": "2023-06-03T15:17:54.966Z"
   },
   {
    "duration": 6,
    "start_time": "2023-06-03T15:17:54.974Z"
   },
   {
    "duration": 12,
    "start_time": "2023-06-03T15:17:54.981Z"
   },
   {
    "duration": 30,
    "start_time": "2023-06-03T15:17:54.994Z"
   },
   {
    "duration": 7,
    "start_time": "2023-06-03T15:17:55.026Z"
   },
   {
    "duration": 167,
    "start_time": "2023-06-03T15:17:55.034Z"
   },
   {
    "duration": 173,
    "start_time": "2023-06-03T15:17:55.205Z"
   },
   {
    "duration": 186,
    "start_time": "2023-06-03T15:17:55.380Z"
   },
   {
    "duration": 232,
    "start_time": "2023-06-03T15:17:55.568Z"
   },
   {
    "duration": 156,
    "start_time": "2023-06-03T15:17:55.802Z"
   },
   {
    "duration": 146,
    "start_time": "2023-06-03T15:17:55.960Z"
   },
   {
    "duration": 164,
    "start_time": "2023-06-03T15:17:56.108Z"
   },
   {
    "duration": 135,
    "start_time": "2023-06-03T15:17:56.274Z"
   },
   {
    "duration": 236,
    "start_time": "2023-06-03T15:17:56.411Z"
   },
   {
    "duration": 13,
    "start_time": "2023-06-03T15:17:56.649Z"
   },
   {
    "duration": 4,
    "start_time": "2023-06-03T15:17:56.664Z"
   },
   {
    "duration": 14,
    "start_time": "2023-06-03T15:17:56.669Z"
   },
   {
    "duration": 1377,
    "start_time": "2023-06-03T15:17:56.684Z"
   },
   {
    "duration": 948,
    "start_time": "2023-06-03T15:17:58.063Z"
   },
   {
    "duration": 31,
    "start_time": "2023-06-03T15:17:59.013Z"
   },
   {
    "duration": 257,
    "start_time": "2023-06-03T15:17:59.046Z"
   },
   {
    "duration": 4,
    "start_time": "2023-06-03T15:17:59.305Z"
   },
   {
    "duration": 1841,
    "start_time": "2023-06-03T15:17:59.311Z"
   },
   {
    "duration": 1376,
    "start_time": "2023-06-03T15:18:01.155Z"
   },
   {
    "duration": 6,
    "start_time": "2023-06-03T15:39:29.935Z"
   },
   {
    "duration": 10,
    "start_time": "2023-06-03T15:53:36.421Z"
   },
   {
    "duration": 3292,
    "start_time": "2023-06-03T15:53:43.260Z"
   },
   {
    "duration": 7,
    "start_time": "2023-06-03T15:53:46.554Z"
   },
   {
    "duration": 1591,
    "start_time": "2023-06-03T15:53:46.562Z"
   },
   {
    "duration": 16,
    "start_time": "2023-06-03T15:53:48.154Z"
   },
   {
    "duration": 12,
    "start_time": "2023-06-03T15:53:48.171Z"
   },
   {
    "duration": 43,
    "start_time": "2023-06-03T15:53:48.184Z"
   },
   {
    "duration": 133,
    "start_time": "2023-06-03T15:53:48.228Z"
   },
   {
    "duration": 10,
    "start_time": "2023-06-03T15:53:48.363Z"
   },
   {
    "duration": 101,
    "start_time": "2023-06-03T15:53:48.375Z"
   },
   {
    "duration": 108,
    "start_time": "2023-06-03T15:53:48.479Z"
   },
   {
    "duration": 116,
    "start_time": "2023-06-03T15:53:48.589Z"
   },
   {
    "duration": 132,
    "start_time": "2023-06-03T15:53:48.707Z"
   },
   {
    "duration": 13,
    "start_time": "2023-06-03T15:53:48.841Z"
   },
   {
    "duration": 4,
    "start_time": "2023-06-03T15:53:48.856Z"
   },
   {
    "duration": 15,
    "start_time": "2023-06-03T15:53:48.861Z"
   },
   {
    "duration": 4,
    "start_time": "2023-06-03T15:53:48.878Z"
   },
   {
    "duration": 14,
    "start_time": "2023-06-03T15:53:48.884Z"
   },
   {
    "duration": 43,
    "start_time": "2023-06-03T15:53:48.899Z"
   },
   {
    "duration": 14,
    "start_time": "2023-06-03T15:53:48.943Z"
   },
   {
    "duration": 8,
    "start_time": "2023-06-03T15:53:48.959Z"
   },
   {
    "duration": 5,
    "start_time": "2023-06-03T15:53:48.968Z"
   },
   {
    "duration": 5,
    "start_time": "2023-06-03T15:53:48.975Z"
   },
   {
    "duration": 10,
    "start_time": "2023-06-03T15:53:48.981Z"
   },
   {
    "duration": 36,
    "start_time": "2023-06-03T15:53:48.992Z"
   },
   {
    "duration": 4,
    "start_time": "2023-06-03T15:53:49.037Z"
   },
   {
    "duration": 11,
    "start_time": "2023-06-03T15:53:49.043Z"
   },
   {
    "duration": 194,
    "start_time": "2023-06-03T15:53:49.056Z"
   },
   {
    "duration": 194,
    "start_time": "2023-06-03T15:53:49.254Z"
   },
   {
    "duration": 194,
    "start_time": "2023-06-03T15:53:49.451Z"
   },
   {
    "duration": 242,
    "start_time": "2023-06-03T15:53:49.646Z"
   },
   {
    "duration": 165,
    "start_time": "2023-06-03T15:53:49.890Z"
   },
   {
    "duration": 147,
    "start_time": "2023-06-03T15:53:50.057Z"
   },
   {
    "duration": 185,
    "start_time": "2023-06-03T15:53:50.206Z"
   },
   {
    "duration": 155,
    "start_time": "2023-06-03T15:53:50.393Z"
   },
   {
    "duration": 292,
    "start_time": "2023-06-03T15:53:50.549Z"
   },
   {
    "duration": 14,
    "start_time": "2023-06-03T15:53:50.842Z"
   },
   {
    "duration": 12,
    "start_time": "2023-06-03T15:53:50.858Z"
   },
   {
    "duration": 19,
    "start_time": "2023-06-03T15:53:50.871Z"
   },
   {
    "duration": 1446,
    "start_time": "2023-06-03T15:53:50.892Z"
   },
   {
    "duration": 1157,
    "start_time": "2023-06-03T15:53:52.340Z"
   },
   {
    "duration": 38,
    "start_time": "2023-06-03T15:53:53.498Z"
   },
   {
    "duration": 260,
    "start_time": "2023-06-03T15:53:53.537Z"
   },
   {
    "duration": 5,
    "start_time": "2023-06-03T15:53:53.798Z"
   },
   {
    "duration": 1989,
    "start_time": "2023-06-03T15:53:53.804Z"
   },
   {
    "duration": 1379,
    "start_time": "2023-06-03T15:53:55.794Z"
   },
   {
    "duration": 7,
    "start_time": "2023-06-03T15:55:41.709Z"
   },
   {
    "duration": 3242,
    "start_time": "2023-06-03T15:55:48.364Z"
   },
   {
    "duration": 6,
    "start_time": "2023-06-03T15:55:51.608Z"
   },
   {
    "duration": 876,
    "start_time": "2023-06-03T15:55:51.615Z"
   },
   {
    "duration": 15,
    "start_time": "2023-06-03T15:55:52.493Z"
   },
   {
    "duration": 28,
    "start_time": "2023-06-03T15:55:52.509Z"
   },
   {
    "duration": 34,
    "start_time": "2023-06-03T15:55:52.538Z"
   },
   {
    "duration": 114,
    "start_time": "2023-06-03T15:55:52.574Z"
   },
   {
    "duration": 11,
    "start_time": "2023-06-03T15:55:52.689Z"
   },
   {
    "duration": 110,
    "start_time": "2023-06-03T15:55:52.702Z"
   },
   {
    "duration": 122,
    "start_time": "2023-06-03T15:55:52.815Z"
   },
   {
    "duration": 104,
    "start_time": "2023-06-03T15:55:52.939Z"
   },
   {
    "duration": 112,
    "start_time": "2023-06-03T15:55:53.044Z"
   },
   {
    "duration": 8,
    "start_time": "2023-06-03T15:55:53.157Z"
   },
   {
    "duration": 33,
    "start_time": "2023-06-03T15:55:53.167Z"
   },
   {
    "duration": 35,
    "start_time": "2023-06-03T15:55:53.201Z"
   },
   {
    "duration": 18,
    "start_time": "2023-06-03T15:55:53.238Z"
   },
   {
    "duration": 8,
    "start_time": "2023-06-03T15:55:53.258Z"
   },
   {
    "duration": 7,
    "start_time": "2023-06-03T15:55:53.267Z"
   },
   {
    "duration": 5,
    "start_time": "2023-06-03T15:55:53.276Z"
   },
   {
    "duration": 11,
    "start_time": "2023-06-03T15:55:53.282Z"
   },
   {
    "duration": 8,
    "start_time": "2023-06-03T15:55:53.294Z"
   },
   {
    "duration": 7,
    "start_time": "2023-06-03T15:55:53.303Z"
   },
   {
    "duration": 5,
    "start_time": "2023-06-03T15:55:53.311Z"
   },
   {
    "duration": 17,
    "start_time": "2023-06-03T15:55:53.317Z"
   },
   {
    "duration": 10,
    "start_time": "2023-06-03T15:55:53.335Z"
   },
   {
    "duration": 7,
    "start_time": "2023-06-03T15:55:53.346Z"
   },
   {
    "duration": 144,
    "start_time": "2023-06-03T15:55:53.355Z"
   },
   {
    "duration": 161,
    "start_time": "2023-06-03T15:55:53.502Z"
   },
   {
    "duration": 188,
    "start_time": "2023-06-03T15:55:53.665Z"
   },
   {
    "duration": 222,
    "start_time": "2023-06-03T15:55:53.854Z"
   },
   {
    "duration": 162,
    "start_time": "2023-06-03T15:55:54.077Z"
   },
   {
    "duration": 130,
    "start_time": "2023-06-03T15:55:54.241Z"
   },
   {
    "duration": 169,
    "start_time": "2023-06-03T15:55:54.373Z"
   },
   {
    "duration": 140,
    "start_time": "2023-06-03T15:55:54.544Z"
   },
   {
    "duration": 288,
    "start_time": "2023-06-03T15:55:54.686Z"
   },
   {
    "duration": 18,
    "start_time": "2023-06-03T15:55:54.976Z"
   },
   {
    "duration": 4,
    "start_time": "2023-06-03T15:55:54.996Z"
   },
   {
    "duration": 43,
    "start_time": "2023-06-03T15:55:55.002Z"
   },
   {
    "duration": 1370,
    "start_time": "2023-06-03T15:55:55.047Z"
   },
   {
    "duration": 1083,
    "start_time": "2023-06-03T15:55:56.419Z"
   },
   {
    "duration": 36,
    "start_time": "2023-06-03T15:55:57.504Z"
   },
   {
    "duration": 259,
    "start_time": "2023-06-03T15:55:57.542Z"
   },
   {
    "duration": 3,
    "start_time": "2023-06-03T15:55:57.803Z"
   },
   {
    "duration": 1932,
    "start_time": "2023-06-03T15:55:57.808Z"
   },
   {
    "duration": 1346,
    "start_time": "2023-06-03T15:55:59.741Z"
   },
   {
    "duration": 7,
    "start_time": "2023-06-03T15:57:01.416Z"
   },
   {
    "duration": 763,
    "start_time": "2023-06-03T15:57:20.965Z"
   },
   {
    "duration": 105,
    "start_time": "2023-06-03T16:00:49.124Z"
   },
   {
    "duration": 479,
    "start_time": "2023-06-03T16:00:55.778Z"
   },
   {
    "duration": 6,
    "start_time": "2023-06-03T16:03:07.586Z"
   },
   {
    "duration": 441,
    "start_time": "2023-06-03T16:03:16.641Z"
   },
   {
    "duration": 8,
    "start_time": "2023-06-03T16:04:49.183Z"
   },
   {
    "duration": 468,
    "start_time": "2023-06-03T16:04:55.901Z"
   },
   {
    "duration": 6,
    "start_time": "2023-06-03T16:06:52.871Z"
   },
   {
    "duration": 329,
    "start_time": "2023-06-03T16:07:00.629Z"
   },
   {
    "duration": 3293,
    "start_time": "2023-06-03T16:12:05.830Z"
   },
   {
    "duration": 7,
    "start_time": "2023-06-03T16:12:09.126Z"
   },
   {
    "duration": 888,
    "start_time": "2023-06-03T16:12:09.134Z"
   },
   {
    "duration": 17,
    "start_time": "2023-06-03T16:12:10.023Z"
   },
   {
    "duration": 15,
    "start_time": "2023-06-03T16:12:10.042Z"
   },
   {
    "duration": 35,
    "start_time": "2023-06-03T16:12:10.058Z"
   },
   {
    "duration": 149,
    "start_time": "2023-06-03T16:12:10.094Z"
   },
   {
    "duration": 12,
    "start_time": "2023-06-03T16:12:10.244Z"
   },
   {
    "duration": 118,
    "start_time": "2023-06-03T16:12:10.258Z"
   },
   {
    "duration": 116,
    "start_time": "2023-06-03T16:12:10.378Z"
   },
   {
    "duration": 117,
    "start_time": "2023-06-03T16:12:10.496Z"
   },
   {
    "duration": 123,
    "start_time": "2023-06-03T16:12:10.615Z"
   },
   {
    "duration": 11,
    "start_time": "2023-06-03T16:12:10.740Z"
   },
   {
    "duration": 4,
    "start_time": "2023-06-03T16:12:10.755Z"
   },
   {
    "duration": 12,
    "start_time": "2023-06-03T16:12:10.761Z"
   },
   {
    "duration": 8,
    "start_time": "2023-06-03T16:12:10.775Z"
   },
   {
    "duration": 21,
    "start_time": "2023-06-03T16:12:10.784Z"
   },
   {
    "duration": 18,
    "start_time": "2023-06-03T16:12:10.808Z"
   },
   {
    "duration": 18,
    "start_time": "2023-06-03T16:12:10.827Z"
   },
   {
    "duration": 8,
    "start_time": "2023-06-03T16:12:10.847Z"
   },
   {
    "duration": 25,
    "start_time": "2023-06-03T16:12:10.857Z"
   },
   {
    "duration": 22,
    "start_time": "2023-06-03T16:12:10.883Z"
   },
   {
    "duration": 10,
    "start_time": "2023-06-03T16:12:10.907Z"
   },
   {
    "duration": 23,
    "start_time": "2023-06-03T16:12:10.918Z"
   },
   {
    "duration": 7,
    "start_time": "2023-06-03T16:12:10.943Z"
   },
   {
    "duration": 38,
    "start_time": "2023-06-03T16:12:10.952Z"
   },
   {
    "duration": 225,
    "start_time": "2023-06-03T16:12:10.993Z"
   },
   {
    "duration": 165,
    "start_time": "2023-06-03T16:12:11.220Z"
   },
   {
    "duration": 183,
    "start_time": "2023-06-03T16:12:11.387Z"
   },
   {
    "duration": 219,
    "start_time": "2023-06-03T16:12:11.571Z"
   },
   {
    "duration": 151,
    "start_time": "2023-06-03T16:12:11.792Z"
   },
   {
    "duration": 138,
    "start_time": "2023-06-03T16:12:11.944Z"
   },
   {
    "duration": 155,
    "start_time": "2023-06-03T16:12:12.084Z"
   },
   {
    "duration": 143,
    "start_time": "2023-06-03T16:12:12.241Z"
   },
   {
    "duration": 251,
    "start_time": "2023-06-03T16:12:12.386Z"
   },
   {
    "duration": 15,
    "start_time": "2023-06-03T16:12:12.638Z"
   },
   {
    "duration": 20,
    "start_time": "2023-06-03T16:12:12.654Z"
   },
   {
    "duration": 33,
    "start_time": "2023-06-03T16:12:12.676Z"
   },
   {
    "duration": 1367,
    "start_time": "2023-06-03T16:12:12.710Z"
   },
   {
    "duration": 433,
    "start_time": "2023-06-03T16:12:14.079Z"
   },
   {
    "duration": 1,
    "start_time": "2023-06-03T16:12:14.513Z"
   },
   {
    "duration": 0,
    "start_time": "2023-06-03T16:12:14.515Z"
   },
   {
    "duration": 0,
    "start_time": "2023-06-03T16:12:14.516Z"
   },
   {
    "duration": 0,
    "start_time": "2023-06-03T16:12:14.517Z"
   },
   {
    "duration": 0,
    "start_time": "2023-06-03T16:12:14.524Z"
   },
   {
    "duration": 7,
    "start_time": "2023-06-03T16:12:53.983Z"
   },
   {
    "duration": 334,
    "start_time": "2023-06-03T16:13:15.508Z"
   },
   {
    "duration": 104,
    "start_time": "2023-06-03T16:13:30.934Z"
   },
   {
    "duration": 893,
    "start_time": "2023-06-03T16:13:57.852Z"
   },
   {
    "duration": 924,
    "start_time": "2023-06-03T16:15:29.889Z"
   },
   {
    "duration": 35,
    "start_time": "2023-06-03T16:19:36.421Z"
   },
   {
    "duration": 292,
    "start_time": "2023-06-03T16:19:36.924Z"
   },
   {
    "duration": 4,
    "start_time": "2023-06-03T16:19:37.442Z"
   },
   {
    "duration": 1960,
    "start_time": "2023-06-03T16:19:38.971Z"
   },
   {
    "duration": 1546,
    "start_time": "2023-06-03T16:19:40.937Z"
   },
   {
    "duration": 5238,
    "start_time": "2023-06-04T09:05:27.553Z"
   },
   {
    "duration": 6,
    "start_time": "2023-06-04T09:05:32.794Z"
   },
   {
    "duration": 1093,
    "start_time": "2023-06-04T09:05:32.802Z"
   },
   {
    "duration": 14,
    "start_time": "2023-06-04T09:05:33.897Z"
   },
   {
    "duration": 60,
    "start_time": "2023-06-04T09:05:33.913Z"
   },
   {
    "duration": 43,
    "start_time": "2023-06-04T09:05:33.975Z"
   },
   {
    "duration": 150,
    "start_time": "2023-06-04T09:05:34.019Z"
   },
   {
    "duration": 14,
    "start_time": "2023-06-04T09:05:34.170Z"
   },
   {
    "duration": 275,
    "start_time": "2023-06-04T09:05:34.185Z"
   },
   {
    "duration": 123,
    "start_time": "2023-06-04T09:05:34.461Z"
   },
   {
    "duration": 114,
    "start_time": "2023-06-04T09:05:34.585Z"
   },
   {
    "duration": 160,
    "start_time": "2023-06-04T09:05:34.700Z"
   },
   {
    "duration": 13,
    "start_time": "2023-06-04T09:05:34.862Z"
   },
   {
    "duration": 20,
    "start_time": "2023-06-04T09:05:34.878Z"
   },
   {
    "duration": 15,
    "start_time": "2023-06-04T09:05:34.899Z"
   },
   {
    "duration": 21,
    "start_time": "2023-06-04T09:05:34.915Z"
   },
   {
    "duration": 42,
    "start_time": "2023-06-04T09:05:34.938Z"
   },
   {
    "duration": 24,
    "start_time": "2023-06-04T09:05:34.981Z"
   },
   {
    "duration": 16,
    "start_time": "2023-06-04T09:05:35.007Z"
   },
   {
    "duration": 49,
    "start_time": "2023-06-04T09:05:35.025Z"
   },
   {
    "duration": 23,
    "start_time": "2023-06-04T09:05:35.076Z"
   },
   {
    "duration": 54,
    "start_time": "2023-06-04T09:05:35.101Z"
   },
   {
    "duration": 16,
    "start_time": "2023-06-04T09:05:35.156Z"
   },
   {
    "duration": 20,
    "start_time": "2023-06-04T09:05:35.173Z"
   },
   {
    "duration": 6,
    "start_time": "2023-06-04T09:05:35.194Z"
   },
   {
    "duration": 17,
    "start_time": "2023-06-04T09:05:35.201Z"
   },
   {
    "duration": 204,
    "start_time": "2023-06-04T09:05:35.219Z"
   },
   {
    "duration": 180,
    "start_time": "2023-06-04T09:05:35.425Z"
   },
   {
    "duration": 215,
    "start_time": "2023-06-04T09:05:35.607Z"
   },
   {
    "duration": 240,
    "start_time": "2023-06-04T09:05:35.824Z"
   },
   {
    "duration": 176,
    "start_time": "2023-06-04T09:05:36.066Z"
   },
   {
    "duration": 158,
    "start_time": "2023-06-04T09:05:36.251Z"
   },
   {
    "duration": 210,
    "start_time": "2023-06-04T09:05:36.410Z"
   },
   {
    "duration": 180,
    "start_time": "2023-06-04T09:05:36.625Z"
   },
   {
    "duration": 289,
    "start_time": "2023-06-04T09:05:36.808Z"
   },
   {
    "duration": 13,
    "start_time": "2023-06-04T09:05:37.099Z"
   },
   {
    "duration": 6,
    "start_time": "2023-06-04T09:05:37.124Z"
   },
   {
    "duration": 10,
    "start_time": "2023-06-04T09:05:37.131Z"
   },
   {
    "duration": 1668,
    "start_time": "2023-06-04T09:05:37.142Z"
   },
   {
    "duration": 1029,
    "start_time": "2023-06-04T09:05:38.811Z"
   },
   {
    "duration": 25,
    "start_time": "2023-06-04T09:05:39.853Z"
   },
   {
    "duration": 420,
    "start_time": "2023-06-04T09:05:39.880Z"
   },
   {
    "duration": 5,
    "start_time": "2023-06-04T09:05:40.302Z"
   },
   {
    "duration": 2225,
    "start_time": "2023-06-04T09:05:40.308Z"
   },
   {
    "duration": 301,
    "start_time": "2023-06-04T09:06:38.409Z"
   },
   {
    "duration": 93,
    "start_time": "2023-06-04T10:23:08.447Z"
   },
   {
    "duration": 2083,
    "start_time": "2023-06-04T11:16:25.629Z"
   },
   {
    "duration": 14,
    "start_time": "2023-06-04T11:16:33.801Z"
   },
   {
    "duration": 8,
    "start_time": "2023-06-04T11:16:59.754Z"
   },
   {
    "duration": 8,
    "start_time": "2023-06-04T11:19:10.795Z"
   },
   {
    "duration": 7,
    "start_time": "2023-06-04T11:39:54.296Z"
   },
   {
    "duration": 61,
    "start_time": "2023-06-04T11:43:42.696Z"
   },
   {
    "duration": 15,
    "start_time": "2023-06-04T11:44:12.495Z"
   },
   {
    "duration": 2084,
    "start_time": "2023-06-04T11:44:36.328Z"
   },
   {
    "duration": 20,
    "start_time": "2023-06-04T11:44:42.315Z"
   },
   {
    "duration": 2170,
    "start_time": "2023-06-04T11:45:23.196Z"
   },
   {
    "duration": 15,
    "start_time": "2023-06-04T11:45:27.276Z"
   },
   {
    "duration": 54,
    "start_time": "2023-06-05T07:41:20.845Z"
   },
   {
    "duration": 5989,
    "start_time": "2023-06-05T07:41:29.036Z"
   },
   {
    "duration": 6,
    "start_time": "2023-06-05T07:41:35.027Z"
   },
   {
    "duration": 3560,
    "start_time": "2023-06-05T07:41:35.035Z"
   },
   {
    "duration": 18,
    "start_time": "2023-06-05T07:41:38.597Z"
   },
   {
    "duration": 17,
    "start_time": "2023-06-05T07:41:38.617Z"
   },
   {
    "duration": 72,
    "start_time": "2023-06-05T07:41:38.636Z"
   },
   {
    "duration": 186,
    "start_time": "2023-06-05T07:41:38.711Z"
   },
   {
    "duration": 13,
    "start_time": "2023-06-05T07:41:38.899Z"
   },
   {
    "duration": 122,
    "start_time": "2023-06-05T07:41:38.913Z"
   },
   {
    "duration": 125,
    "start_time": "2023-06-05T07:41:39.038Z"
   },
   {
    "duration": 128,
    "start_time": "2023-06-05T07:41:39.165Z"
   },
   {
    "duration": 122,
    "start_time": "2023-06-05T07:41:39.296Z"
   },
   {
    "duration": 9,
    "start_time": "2023-06-05T07:41:39.420Z"
   },
   {
    "duration": 8,
    "start_time": "2023-06-05T07:41:39.431Z"
   },
   {
    "duration": 14,
    "start_time": "2023-06-05T07:41:39.440Z"
   },
   {
    "duration": 20,
    "start_time": "2023-06-05T07:41:39.456Z"
   },
   {
    "duration": 7,
    "start_time": "2023-06-05T07:41:39.479Z"
   },
   {
    "duration": 5,
    "start_time": "2023-06-05T07:41:39.488Z"
   },
   {
    "duration": 6,
    "start_time": "2023-06-05T07:41:39.495Z"
   },
   {
    "duration": 6,
    "start_time": "2023-06-05T07:41:39.503Z"
   },
   {
    "duration": 4,
    "start_time": "2023-06-05T07:41:39.511Z"
   },
   {
    "duration": 13,
    "start_time": "2023-06-05T07:41:39.516Z"
   },
   {
    "duration": 4,
    "start_time": "2023-06-05T07:41:39.531Z"
   },
   {
    "duration": 18,
    "start_time": "2023-06-05T07:41:39.574Z"
   },
   {
    "duration": 6,
    "start_time": "2023-06-05T07:41:39.593Z"
   },
   {
    "duration": 7,
    "start_time": "2023-06-05T07:41:39.601Z"
   },
   {
    "duration": 183,
    "start_time": "2023-06-05T07:41:39.610Z"
   },
   {
    "duration": 178,
    "start_time": "2023-06-05T07:41:39.797Z"
   },
   {
    "duration": 217,
    "start_time": "2023-06-05T07:41:39.976Z"
   },
   {
    "duration": 248,
    "start_time": "2023-06-05T07:41:40.195Z"
   },
   {
    "duration": 172,
    "start_time": "2023-06-05T07:41:40.445Z"
   },
   {
    "duration": 156,
    "start_time": "2023-06-05T07:41:40.619Z"
   },
   {
    "duration": 185,
    "start_time": "2023-06-05T07:41:40.776Z"
   },
   {
    "duration": 160,
    "start_time": "2023-06-05T07:41:40.963Z"
   },
   {
    "duration": 273,
    "start_time": "2023-06-05T07:41:41.125Z"
   },
   {
    "duration": 21,
    "start_time": "2023-06-05T07:41:41.400Z"
   },
   {
    "duration": 6,
    "start_time": "2023-06-05T07:41:41.423Z"
   },
   {
    "duration": 9,
    "start_time": "2023-06-05T07:41:41.431Z"
   },
   {
    "duration": 1461,
    "start_time": "2023-06-05T07:41:41.442Z"
   },
   {
    "duration": 898,
    "start_time": "2023-06-05T07:41:42.905Z"
   },
   {
    "duration": 27,
    "start_time": "2023-06-05T07:41:43.805Z"
   },
   {
    "duration": 453,
    "start_time": "2023-06-05T07:41:43.833Z"
   },
   {
    "duration": 5,
    "start_time": "2023-06-05T07:41:44.289Z"
   },
   {
    "duration": 1982,
    "start_time": "2023-06-05T07:41:44.296Z"
   },
   {
    "duration": 8,
    "start_time": "2023-06-05T07:41:46.280Z"
   },
   {
    "duration": 81,
    "start_time": "2023-06-05T07:41:46.290Z"
   },
   {
    "duration": 0,
    "start_time": "2023-06-05T07:41:46.373Z"
   },
   {
    "duration": 11,
    "start_time": "2023-06-05T07:42:01.600Z"
   },
   {
    "duration": 97,
    "start_time": "2023-06-05T07:44:31.566Z"
   },
   {
    "duration": 7,
    "start_time": "2023-06-05T07:44:52.621Z"
   },
   {
    "duration": 9,
    "start_time": "2023-06-05T07:49:27.694Z"
   },
   {
    "duration": 110,
    "start_time": "2023-06-05T07:49:52.493Z"
   },
   {
    "duration": 15,
    "start_time": "2023-06-05T07:50:14.837Z"
   },
   {
    "duration": 18,
    "start_time": "2023-06-05T07:51:55.540Z"
   },
   {
    "duration": 11,
    "start_time": "2023-06-05T07:52:16.442Z"
   },
   {
    "duration": 10,
    "start_time": "2023-06-05T07:53:29.298Z"
   },
   {
    "duration": 12,
    "start_time": "2023-06-05T07:56:06.083Z"
   },
   {
    "duration": 9,
    "start_time": "2023-06-05T07:56:40.623Z"
   },
   {
    "duration": 10,
    "start_time": "2023-06-05T07:56:54.410Z"
   },
   {
    "duration": 10,
    "start_time": "2023-06-05T08:07:37.856Z"
   },
   {
    "duration": 10,
    "start_time": "2023-06-05T08:08:10.019Z"
   },
   {
    "duration": 10,
    "start_time": "2023-06-05T08:08:15.692Z"
   },
   {
    "duration": 11,
    "start_time": "2023-06-05T08:16:26.539Z"
   },
   {
    "duration": 9,
    "start_time": "2023-06-05T08:18:31.452Z"
   },
   {
    "duration": 14,
    "start_time": "2023-06-05T08:21:09.258Z"
   },
   {
    "duration": 4095,
    "start_time": "2023-06-05T16:21:56.430Z"
   },
   {
    "duration": 6,
    "start_time": "2023-06-05T16:22:00.527Z"
   },
   {
    "duration": 915,
    "start_time": "2023-06-05T16:22:00.535Z"
   },
   {
    "duration": 15,
    "start_time": "2023-06-05T16:22:01.452Z"
   },
   {
    "duration": 48,
    "start_time": "2023-06-05T16:22:01.469Z"
   },
   {
    "duration": 83,
    "start_time": "2023-06-05T16:22:01.519Z"
   },
   {
    "duration": 132,
    "start_time": "2023-06-05T16:22:01.604Z"
   },
   {
    "duration": 14,
    "start_time": "2023-06-05T16:22:01.738Z"
   },
   {
    "duration": 127,
    "start_time": "2023-06-05T16:22:01.753Z"
   },
   {
    "duration": 112,
    "start_time": "2023-06-05T16:22:01.882Z"
   },
   {
    "duration": 107,
    "start_time": "2023-06-05T16:22:01.996Z"
   },
   {
    "duration": 113,
    "start_time": "2023-06-05T16:22:02.104Z"
   },
   {
    "duration": 9,
    "start_time": "2023-06-05T16:22:02.225Z"
   },
   {
    "duration": 22,
    "start_time": "2023-06-05T16:22:02.237Z"
   },
   {
    "duration": 25,
    "start_time": "2023-06-05T16:22:02.260Z"
   },
   {
    "duration": 41,
    "start_time": "2023-06-05T16:22:02.287Z"
   },
   {
    "duration": 61,
    "start_time": "2023-06-05T16:22:02.330Z"
   },
   {
    "duration": 21,
    "start_time": "2023-06-05T16:22:02.392Z"
   },
   {
    "duration": 28,
    "start_time": "2023-06-05T16:22:02.415Z"
   },
   {
    "duration": 25,
    "start_time": "2023-06-05T16:22:02.445Z"
   },
   {
    "duration": 16,
    "start_time": "2023-06-05T16:22:02.472Z"
   },
   {
    "duration": 12,
    "start_time": "2023-06-05T16:22:02.489Z"
   },
   {
    "duration": 39,
    "start_time": "2023-06-05T16:22:02.502Z"
   },
   {
    "duration": 39,
    "start_time": "2023-06-05T16:22:02.543Z"
   },
   {
    "duration": 16,
    "start_time": "2023-06-05T16:22:02.584Z"
   },
   {
    "duration": 43,
    "start_time": "2023-06-05T16:22:02.601Z"
   },
   {
    "duration": 168,
    "start_time": "2023-06-05T16:22:02.645Z"
   },
   {
    "duration": 165,
    "start_time": "2023-06-05T16:22:02.815Z"
   },
   {
    "duration": 181,
    "start_time": "2023-06-05T16:22:02.982Z"
   },
   {
    "duration": 239,
    "start_time": "2023-06-05T16:22:03.165Z"
   },
   {
    "duration": 162,
    "start_time": "2023-06-05T16:22:03.405Z"
   },
   {
    "duration": 146,
    "start_time": "2023-06-05T16:22:03.568Z"
   },
   {
    "duration": 178,
    "start_time": "2023-06-05T16:22:03.715Z"
   },
   {
    "duration": 152,
    "start_time": "2023-06-05T16:22:03.894Z"
   },
   {
    "duration": 261,
    "start_time": "2023-06-05T16:22:04.048Z"
   },
   {
    "duration": 24,
    "start_time": "2023-06-05T16:22:04.311Z"
   },
   {
    "duration": 12,
    "start_time": "2023-06-05T16:22:04.336Z"
   },
   {
    "duration": 31,
    "start_time": "2023-06-05T16:22:04.349Z"
   },
   {
    "duration": 1420,
    "start_time": "2023-06-05T16:22:04.381Z"
   },
   {
    "duration": 837,
    "start_time": "2023-06-05T16:22:05.803Z"
   },
   {
    "duration": 24,
    "start_time": "2023-06-05T16:22:06.643Z"
   },
   {
    "duration": 325,
    "start_time": "2023-06-05T16:22:06.668Z"
   },
   {
    "duration": 5,
    "start_time": "2023-06-05T16:22:06.995Z"
   },
   {
    "duration": 1830,
    "start_time": "2023-06-05T16:22:07.001Z"
   },
   {
    "duration": 9,
    "start_time": "2023-06-05T16:22:08.832Z"
   },
   {
    "duration": 13,
    "start_time": "2023-06-05T16:22:08.842Z"
   },
   {
    "duration": 37,
    "start_time": "2023-06-05T16:22:08.857Z"
   },
   {
    "duration": 19,
    "start_time": "2023-06-05T16:22:08.896Z"
   },
   {
    "duration": 20,
    "start_time": "2023-06-05T16:22:08.917Z"
   },
   {
    "duration": 42,
    "start_time": "2023-06-05T16:22:08.938Z"
   },
   {
    "duration": 4,
    "start_time": "2023-06-05T16:22:42.898Z"
   },
   {
    "duration": 6,
    "start_time": "2023-06-05T16:23:54.397Z"
   },
   {
    "duration": 7,
    "start_time": "2023-06-05T16:25:04.583Z"
   },
   {
    "duration": 8,
    "start_time": "2023-06-05T16:25:38.949Z"
   },
   {
    "duration": 9,
    "start_time": "2023-06-05T16:26:40.893Z"
   },
   {
    "duration": 13,
    "start_time": "2023-06-05T16:31:43.997Z"
   },
   {
    "duration": 102,
    "start_time": "2023-06-05T16:33:20.806Z"
   },
   {
    "duration": 3267,
    "start_time": "2023-06-05T16:33:29.216Z"
   },
   {
    "duration": 6,
    "start_time": "2023-06-05T16:33:32.486Z"
   },
   {
    "duration": 1138,
    "start_time": "2023-06-05T16:33:32.494Z"
   },
   {
    "duration": 17,
    "start_time": "2023-06-05T16:33:33.634Z"
   },
   {
    "duration": 37,
    "start_time": "2023-06-05T16:33:33.653Z"
   },
   {
    "duration": 66,
    "start_time": "2023-06-05T16:33:33.691Z"
   },
   {
    "duration": 136,
    "start_time": "2023-06-05T16:33:33.759Z"
   },
   {
    "duration": 12,
    "start_time": "2023-06-05T16:33:33.897Z"
   },
   {
    "duration": 102,
    "start_time": "2023-06-05T16:33:33.910Z"
   },
   {
    "duration": 119,
    "start_time": "2023-06-05T16:33:34.013Z"
   },
   {
    "duration": 109,
    "start_time": "2023-06-05T16:33:34.133Z"
   },
   {
    "duration": 134,
    "start_time": "2023-06-05T16:33:34.244Z"
   },
   {
    "duration": 10,
    "start_time": "2023-06-05T16:33:34.380Z"
   },
   {
    "duration": 21,
    "start_time": "2023-06-05T16:33:34.393Z"
   },
   {
    "duration": 72,
    "start_time": "2023-06-05T16:33:34.416Z"
   },
   {
    "duration": 58,
    "start_time": "2023-06-05T16:33:34.490Z"
   },
   {
    "duration": 7,
    "start_time": "2023-06-05T16:33:34.550Z"
   },
   {
    "duration": 9,
    "start_time": "2023-06-05T16:33:34.559Z"
   },
   {
    "duration": 9,
    "start_time": "2023-06-05T16:33:34.570Z"
   },
   {
    "duration": 19,
    "start_time": "2023-06-05T16:33:34.581Z"
   },
   {
    "duration": 12,
    "start_time": "2023-06-05T16:33:34.602Z"
   },
   {
    "duration": 13,
    "start_time": "2023-06-05T16:33:34.616Z"
   },
   {
    "duration": 13,
    "start_time": "2023-06-05T16:33:34.630Z"
   },
   {
    "duration": 12,
    "start_time": "2023-06-05T16:33:34.645Z"
   },
   {
    "duration": 4,
    "start_time": "2023-06-05T16:33:34.660Z"
   },
   {
    "duration": 22,
    "start_time": "2023-06-05T16:33:34.665Z"
   },
   {
    "duration": 156,
    "start_time": "2023-06-05T16:33:34.690Z"
   },
   {
    "duration": 218,
    "start_time": "2023-06-05T16:33:34.848Z"
   },
   {
    "duration": 219,
    "start_time": "2023-06-05T16:33:35.068Z"
   },
   {
    "duration": 240,
    "start_time": "2023-06-05T16:33:35.290Z"
   },
   {
    "duration": 195,
    "start_time": "2023-06-05T16:33:35.532Z"
   },
   {
    "duration": 152,
    "start_time": "2023-06-05T16:33:35.729Z"
   },
   {
    "duration": 166,
    "start_time": "2023-06-05T16:33:35.883Z"
   },
   {
    "duration": 144,
    "start_time": "2023-06-05T16:33:36.052Z"
   },
   {
    "duration": 243,
    "start_time": "2023-06-05T16:33:36.198Z"
   },
   {
    "duration": 15,
    "start_time": "2023-06-05T16:33:36.443Z"
   },
   {
    "duration": 5,
    "start_time": "2023-06-05T16:33:36.459Z"
   },
   {
    "duration": 16,
    "start_time": "2023-06-05T16:33:36.466Z"
   },
   {
    "duration": 1450,
    "start_time": "2023-06-05T16:33:36.483Z"
   },
   {
    "duration": 863,
    "start_time": "2023-06-05T16:33:37.935Z"
   },
   {
    "duration": 33,
    "start_time": "2023-06-05T16:33:38.802Z"
   },
   {
    "duration": 367,
    "start_time": "2023-06-05T16:33:38.837Z"
   },
   {
    "duration": 4,
    "start_time": "2023-06-05T16:33:39.206Z"
   },
   {
    "duration": 1961,
    "start_time": "2023-06-05T16:33:39.211Z"
   },
   {
    "duration": 9,
    "start_time": "2023-06-05T16:33:41.173Z"
   },
   {
    "duration": 10,
    "start_time": "2023-06-05T16:33:41.184Z"
   },
   {
    "duration": 32,
    "start_time": "2023-06-05T16:33:41.196Z"
   },
   {
    "duration": 13,
    "start_time": "2023-06-05T16:33:41.230Z"
   },
   {
    "duration": 14,
    "start_time": "2023-06-05T16:33:41.245Z"
   },
   {
    "duration": 20,
    "start_time": "2023-06-05T16:33:41.261Z"
   },
   {
    "duration": 23,
    "start_time": "2023-06-05T16:33:41.283Z"
   },
   {
    "duration": 111,
    "start_time": "2023-06-05T16:33:41.308Z"
   },
   {
    "duration": 8,
    "start_time": "2023-06-05T16:34:12.620Z"
   },
   {
    "duration": 9,
    "start_time": "2023-06-05T16:35:14.635Z"
   },
   {
    "duration": 15,
    "start_time": "2023-06-05T16:36:42.885Z"
   },
   {
    "duration": 12,
    "start_time": "2023-06-05T16:36:51.687Z"
   },
   {
    "duration": 9,
    "start_time": "2023-06-05T16:37:28.386Z"
   },
   {
    "duration": 16,
    "start_time": "2023-06-05T16:38:30.596Z"
   },
   {
    "duration": 10,
    "start_time": "2023-06-05T16:38:31.775Z"
   },
   {
    "duration": 13,
    "start_time": "2023-06-05T16:39:10.308Z"
   },
   {
    "duration": 9,
    "start_time": "2023-06-05T16:39:11.732Z"
   },
   {
    "duration": 10,
    "start_time": "2023-06-05T16:39:46.389Z"
   },
   {
    "duration": 11,
    "start_time": "2023-06-05T16:52:59.593Z"
   },
   {
    "duration": 13,
    "start_time": "2023-06-05T16:53:50.914Z"
   },
   {
    "duration": 15,
    "start_time": "2023-06-05T16:57:10.912Z"
   },
   {
    "duration": 20,
    "start_time": "2023-06-05T16:59:34.157Z"
   },
   {
    "duration": 16,
    "start_time": "2023-06-05T16:59:54.113Z"
   },
   {
    "duration": 14,
    "start_time": "2023-06-05T17:00:45.944Z"
   },
   {
    "duration": 12,
    "start_time": "2023-06-05T17:01:20.985Z"
   },
   {
    "duration": 3586,
    "start_time": "2023-06-05T17:01:33.035Z"
   },
   {
    "duration": 9,
    "start_time": "2023-06-05T17:01:36.624Z"
   },
   {
    "duration": 890,
    "start_time": "2023-06-05T17:01:36.635Z"
   },
   {
    "duration": 19,
    "start_time": "2023-06-05T17:01:37.526Z"
   },
   {
    "duration": 14,
    "start_time": "2023-06-05T17:01:37.548Z"
   },
   {
    "duration": 43,
    "start_time": "2023-06-05T17:01:37.564Z"
   },
   {
    "duration": 141,
    "start_time": "2023-06-05T17:01:37.624Z"
   },
   {
    "duration": 14,
    "start_time": "2023-06-05T17:01:37.767Z"
   },
   {
    "duration": 144,
    "start_time": "2023-06-05T17:01:37.782Z"
   },
   {
    "duration": 136,
    "start_time": "2023-06-05T17:01:37.928Z"
   },
   {
    "duration": 118,
    "start_time": "2023-06-05T17:01:38.066Z"
   },
   {
    "duration": 129,
    "start_time": "2023-06-05T17:01:38.185Z"
   },
   {
    "duration": 10,
    "start_time": "2023-06-05T17:01:38.324Z"
   },
   {
    "duration": 9,
    "start_time": "2023-06-05T17:01:38.337Z"
   },
   {
    "duration": 19,
    "start_time": "2023-06-05T17:01:38.347Z"
   },
   {
    "duration": 24,
    "start_time": "2023-06-05T17:01:38.368Z"
   },
   {
    "duration": 12,
    "start_time": "2023-06-05T17:01:38.394Z"
   },
   {
    "duration": 11,
    "start_time": "2023-06-05T17:01:38.408Z"
   },
   {
    "duration": 25,
    "start_time": "2023-06-05T17:01:38.421Z"
   },
   {
    "duration": 17,
    "start_time": "2023-06-05T17:01:38.448Z"
   },
   {
    "duration": 6,
    "start_time": "2023-06-05T17:01:38.467Z"
   },
   {
    "duration": 4,
    "start_time": "2023-06-05T17:01:38.475Z"
   },
   {
    "duration": 6,
    "start_time": "2023-06-05T17:01:38.480Z"
   },
   {
    "duration": 19,
    "start_time": "2023-06-05T17:01:38.488Z"
   },
   {
    "duration": 15,
    "start_time": "2023-06-05T17:01:38.509Z"
   },
   {
    "duration": 9,
    "start_time": "2023-06-05T17:01:38.526Z"
   },
   {
    "duration": 188,
    "start_time": "2023-06-05T17:01:38.537Z"
   },
   {
    "duration": 194,
    "start_time": "2023-06-05T17:01:38.727Z"
   },
   {
    "duration": 205,
    "start_time": "2023-06-05T17:01:38.923Z"
   },
   {
    "duration": 290,
    "start_time": "2023-06-05T17:01:39.130Z"
   },
   {
    "duration": 237,
    "start_time": "2023-06-05T17:01:39.426Z"
   },
   {
    "duration": 194,
    "start_time": "2023-06-05T17:01:39.665Z"
   },
   {
    "duration": 233,
    "start_time": "2023-06-05T17:01:39.862Z"
   },
   {
    "duration": 213,
    "start_time": "2023-06-05T17:01:40.097Z"
   },
   {
    "duration": 318,
    "start_time": "2023-06-05T17:01:40.312Z"
   },
   {
    "duration": 16,
    "start_time": "2023-06-05T17:01:40.632Z"
   },
   {
    "duration": 25,
    "start_time": "2023-06-05T17:01:40.650Z"
   },
   {
    "duration": 20,
    "start_time": "2023-06-05T17:01:40.677Z"
   },
   {
    "duration": 1691,
    "start_time": "2023-06-05T17:01:40.699Z"
   },
   {
    "duration": 1117,
    "start_time": "2023-06-05T17:01:42.392Z"
   },
   {
    "duration": 29,
    "start_time": "2023-06-05T17:01:43.515Z"
   },
   {
    "duration": 403,
    "start_time": "2023-06-05T17:01:43.546Z"
   },
   {
    "duration": 4,
    "start_time": "2023-06-05T17:01:43.951Z"
   },
   {
    "duration": 2294,
    "start_time": "2023-06-05T17:01:43.957Z"
   },
   {
    "duration": 10,
    "start_time": "2023-06-05T17:01:46.261Z"
   },
   {
    "duration": 14,
    "start_time": "2023-06-05T17:01:46.274Z"
   },
   {
    "duration": 33,
    "start_time": "2023-06-05T17:01:46.290Z"
   },
   {
    "duration": 42,
    "start_time": "2023-06-05T17:01:46.325Z"
   },
   {
    "duration": 33,
    "start_time": "2023-06-05T17:01:46.369Z"
   },
   {
    "duration": 60,
    "start_time": "2023-06-05T17:01:46.405Z"
   },
   {
    "duration": 46,
    "start_time": "2023-06-05T17:01:46.467Z"
   },
   {
    "duration": 20,
    "start_time": "2023-06-05T17:01:46.516Z"
   },
   {
    "duration": 22,
    "start_time": "2023-06-05T17:01:46.539Z"
   },
   {
    "duration": 25,
    "start_time": "2023-06-05T17:01:46.563Z"
   },
   {
    "duration": 45,
    "start_time": "2023-06-05T17:01:46.590Z"
   },
   {
    "duration": 16,
    "start_time": "2023-06-05T17:01:46.638Z"
   },
   {
    "duration": 23,
    "start_time": "2023-06-05T17:01:46.656Z"
   },
   {
    "duration": 15,
    "start_time": "2023-06-05T17:01:46.681Z"
   },
   {
    "duration": 20,
    "start_time": "2023-06-05T17:01:46.698Z"
   },
   {
    "duration": 111,
    "start_time": "2023-06-05T17:01:46.720Z"
   },
   {
    "duration": 2112,
    "start_time": "2023-06-05T17:04:45.401Z"
   },
   {
    "duration": 2249,
    "start_time": "2023-06-05T17:05:47.989Z"
   },
   {
    "duration": 16,
    "start_time": "2023-06-05T17:07:22.203Z"
   },
   {
    "duration": 8,
    "start_time": "2023-06-05T17:08:03.886Z"
   },
   {
    "duration": 35,
    "start_time": "2023-06-05T17:10:38.686Z"
   },
   {
    "duration": 24,
    "start_time": "2023-06-05T17:12:11.007Z"
   },
   {
    "duration": 160,
    "start_time": "2023-06-05T17:13:11.701Z"
   },
   {
    "duration": 8,
    "start_time": "2023-06-05T17:13:44.039Z"
   },
   {
    "duration": 6,
    "start_time": "2023-06-05T17:13:44.637Z"
   },
   {
    "duration": 6,
    "start_time": "2023-06-05T17:16:01.286Z"
   },
   {
    "duration": 7,
    "start_time": "2023-06-05T17:16:20.222Z"
   },
   {
    "duration": 8,
    "start_time": "2023-06-05T17:16:21.306Z"
   },
   {
    "duration": 8,
    "start_time": "2023-06-05T17:16:32.794Z"
   },
   {
    "duration": 8,
    "start_time": "2023-06-05T17:16:33.486Z"
   },
   {
    "duration": 11,
    "start_time": "2023-06-05T17:17:56.394Z"
   },
   {
    "duration": 12,
    "start_time": "2023-06-05T17:18:01.414Z"
   },
   {
    "duration": 17,
    "start_time": "2023-06-05T17:18:46.237Z"
   },
   {
    "duration": 11,
    "start_time": "2023-06-05T17:19:04.331Z"
   },
   {
    "duration": 11,
    "start_time": "2023-06-05T17:19:23.648Z"
   },
   {
    "duration": 12,
    "start_time": "2023-06-05T17:19:46.807Z"
   },
   {
    "duration": 18,
    "start_time": "2023-06-05T17:20:54.756Z"
   },
   {
    "duration": 17,
    "start_time": "2023-06-05T17:21:18.393Z"
   },
   {
    "duration": 12,
    "start_time": "2023-06-05T17:21:48.490Z"
   },
   {
    "duration": 13,
    "start_time": "2023-06-05T17:23:36.307Z"
   },
   {
    "duration": 16,
    "start_time": "2023-06-05T17:23:52.206Z"
   },
   {
    "duration": 15,
    "start_time": "2023-06-05T17:24:00.794Z"
   },
   {
    "duration": 13,
    "start_time": "2023-06-05T17:24:38.600Z"
   },
   {
    "duration": 13,
    "start_time": "2023-06-05T17:24:50.598Z"
   },
   {
    "duration": 17,
    "start_time": "2023-06-05T18:13:12.970Z"
   },
   {
    "duration": 18,
    "start_time": "2023-06-05T18:13:24.223Z"
   },
   {
    "duration": 2631,
    "start_time": "2023-06-05T18:14:54.288Z"
   },
   {
    "duration": 29,
    "start_time": "2023-06-05T18:15:04.751Z"
   },
   {
    "duration": 2361,
    "start_time": "2023-06-05T18:15:37.173Z"
   },
   {
    "duration": 21,
    "start_time": "2023-06-05T18:15:44.020Z"
   },
   {
    "duration": 18,
    "start_time": "2023-06-05T18:17:00.891Z"
   },
   {
    "duration": 12,
    "start_time": "2023-06-05T18:17:20.261Z"
   },
   {
    "duration": 12,
    "start_time": "2023-06-05T18:22:55.571Z"
   },
   {
    "duration": 13,
    "start_time": "2023-06-05T18:27:25.266Z"
   },
   {
    "duration": 2269,
    "start_time": "2023-06-05T18:29:24.750Z"
   },
   {
    "duration": 31,
    "start_time": "2023-06-05T18:29:32.789Z"
   },
   {
    "duration": 20,
    "start_time": "2023-06-05T18:30:12.690Z"
   },
   {
    "duration": 11,
    "start_time": "2023-06-05T18:32:25.337Z"
   },
   {
    "duration": 4,
    "start_time": "2023-06-05T18:32:29.640Z"
   },
   {
    "duration": 15,
    "start_time": "2023-06-05T18:32:30.434Z"
   },
   {
    "duration": 4,
    "start_time": "2023-06-05T18:32:52.780Z"
   },
   {
    "duration": 966,
    "start_time": "2023-06-05T18:32:56.510Z"
   },
   {
    "duration": 14,
    "start_time": "2023-06-05T18:37:12.236Z"
   },
   {
    "duration": 12,
    "start_time": "2023-06-05T18:37:38.975Z"
   },
   {
    "duration": 16,
    "start_time": "2023-06-05T18:37:46.888Z"
   },
   {
    "duration": 12,
    "start_time": "2023-06-05T18:37:47.681Z"
   },
   {
    "duration": 11,
    "start_time": "2023-06-05T18:37:48.438Z"
   },
   {
    "duration": 31,
    "start_time": "2023-06-05T18:39:36.338Z"
   },
   {
    "duration": 12,
    "start_time": "2023-06-05T18:39:58.249Z"
   },
   {
    "duration": 9,
    "start_time": "2023-06-05T18:40:20.842Z"
   },
   {
    "duration": 16,
    "start_time": "2023-06-05T19:02:00.302Z"
   },
   {
    "duration": 10,
    "start_time": "2023-06-05T19:06:17.504Z"
   },
   {
    "duration": 9,
    "start_time": "2023-06-05T19:06:33.550Z"
   },
   {
    "duration": 11,
    "start_time": "2023-06-05T19:07:00.989Z"
   },
   {
    "duration": 9,
    "start_time": "2023-06-05T19:08:14.170Z"
   },
   {
    "duration": 17,
    "start_time": "2023-06-05T19:08:37.420Z"
   },
   {
    "duration": 8,
    "start_time": "2023-06-05T19:09:31.392Z"
   },
   {
    "duration": 7,
    "start_time": "2023-06-05T19:10:11.498Z"
   },
   {
    "duration": 7,
    "start_time": "2023-06-05T19:10:27.590Z"
   },
   {
    "duration": 7,
    "start_time": "2023-06-05T19:11:22.193Z"
   },
   {
    "duration": 7,
    "start_time": "2023-06-05T19:11:56.420Z"
   },
   {
    "duration": 7,
    "start_time": "2023-06-05T19:12:16.410Z"
   },
   {
    "duration": 18,
    "start_time": "2023-06-05T19:30:15.120Z"
   },
   {
    "duration": 8,
    "start_time": "2023-06-05T19:31:03.395Z"
   },
   {
    "duration": 12,
    "start_time": "2023-06-05T19:33:46.317Z"
   },
   {
    "duration": 7,
    "start_time": "2023-06-05T19:34:03.990Z"
   },
   {
    "duration": 13,
    "start_time": "2023-06-05T19:40:58.884Z"
   },
   {
    "duration": 13,
    "start_time": "2023-06-05T19:41:02.394Z"
   },
   {
    "duration": 8,
    "start_time": "2023-06-05T19:41:11.998Z"
   },
   {
    "duration": 4475,
    "start_time": "2023-06-07T06:05:52.672Z"
   },
   {
    "duration": 9,
    "start_time": "2023-06-07T06:05:57.149Z"
   },
   {
    "duration": 1290,
    "start_time": "2023-06-07T06:05:57.160Z"
   },
   {
    "duration": 16,
    "start_time": "2023-06-07T06:05:58.452Z"
   },
   {
    "duration": 17,
    "start_time": "2023-06-07T06:05:58.469Z"
   },
   {
    "duration": 33,
    "start_time": "2023-06-07T06:05:58.488Z"
   },
   {
    "duration": 121,
    "start_time": "2023-06-07T06:05:58.524Z"
   },
   {
    "duration": 11,
    "start_time": "2023-06-07T06:05:58.647Z"
   },
   {
    "duration": 109,
    "start_time": "2023-06-07T06:05:58.659Z"
   },
   {
    "duration": 100,
    "start_time": "2023-06-07T06:05:58.771Z"
   },
   {
    "duration": 104,
    "start_time": "2023-06-07T06:05:58.873Z"
   },
   {
    "duration": 173,
    "start_time": "2023-06-07T06:05:58.979Z"
   },
   {
    "duration": 10,
    "start_time": "2023-06-07T06:05:59.154Z"
   },
   {
    "duration": 5,
    "start_time": "2023-06-07T06:05:59.165Z"
   },
   {
    "duration": 9,
    "start_time": "2023-06-07T06:05:59.172Z"
   },
   {
    "duration": 14,
    "start_time": "2023-06-07T06:05:59.182Z"
   },
   {
    "duration": 29,
    "start_time": "2023-06-07T06:05:59.197Z"
   },
   {
    "duration": 15,
    "start_time": "2023-06-07T06:05:59.227Z"
   },
   {
    "duration": 9,
    "start_time": "2023-06-07T06:05:59.243Z"
   },
   {
    "duration": 14,
    "start_time": "2023-06-07T06:05:59.253Z"
   },
   {
    "duration": 25,
    "start_time": "2023-06-07T06:05:59.269Z"
   },
   {
    "duration": 14,
    "start_time": "2023-06-07T06:05:59.296Z"
   },
   {
    "duration": 14,
    "start_time": "2023-06-07T06:05:59.312Z"
   },
   {
    "duration": 17,
    "start_time": "2023-06-07T06:05:59.327Z"
   },
   {
    "duration": 4,
    "start_time": "2023-06-07T06:05:59.346Z"
   },
   {
    "duration": 8,
    "start_time": "2023-06-07T06:05:59.351Z"
   },
   {
    "duration": 146,
    "start_time": "2023-06-07T06:05:59.360Z"
   },
   {
    "duration": 160,
    "start_time": "2023-06-07T06:05:59.510Z"
   },
   {
    "duration": 179,
    "start_time": "2023-06-07T06:05:59.671Z"
   },
   {
    "duration": 146,
    "start_time": "2023-06-07T06:05:59.852Z"
   },
   {
    "duration": 171,
    "start_time": "2023-06-07T06:05:59.999Z"
   },
   {
    "duration": 145,
    "start_time": "2023-06-07T06:06:00.172Z"
   },
   {
    "duration": 166,
    "start_time": "2023-06-07T06:06:00.324Z"
   },
   {
    "duration": 147,
    "start_time": "2023-06-07T06:06:00.492Z"
   },
   {
    "duration": 238,
    "start_time": "2023-06-07T06:06:00.640Z"
   },
   {
    "duration": 15,
    "start_time": "2023-06-07T06:06:00.879Z"
   },
   {
    "duration": 26,
    "start_time": "2023-06-07T06:06:00.896Z"
   },
   {
    "duration": 51,
    "start_time": "2023-06-07T06:06:00.924Z"
   },
   {
    "duration": 1496,
    "start_time": "2023-06-07T06:06:00.977Z"
   },
   {
    "duration": 852,
    "start_time": "2023-06-07T06:06:02.475Z"
   },
   {
    "duration": 24,
    "start_time": "2023-06-07T06:06:03.328Z"
   },
   {
    "duration": 251,
    "start_time": "2023-06-07T06:06:03.354Z"
   },
   {
    "duration": 4,
    "start_time": "2023-06-07T06:06:03.606Z"
   },
   {
    "duration": 1843,
    "start_time": "2023-06-07T06:06:03.625Z"
   },
   {
    "duration": 8,
    "start_time": "2023-06-07T06:06:05.470Z"
   },
   {
    "duration": 35,
    "start_time": "2023-06-07T06:06:05.480Z"
   },
   {
    "duration": 29,
    "start_time": "2023-06-07T06:06:05.516Z"
   },
   {
    "duration": 22,
    "start_time": "2023-06-07T06:06:05.547Z"
   },
   {
    "duration": 35,
    "start_time": "2023-06-07T06:06:05.570Z"
   },
   {
    "duration": 23,
    "start_time": "2023-06-07T06:06:05.606Z"
   },
   {
    "duration": 35,
    "start_time": "2023-06-07T06:06:05.631Z"
   },
   {
    "duration": 27,
    "start_time": "2023-06-07T06:06:05.667Z"
   },
   {
    "duration": 19,
    "start_time": "2023-06-07T06:06:05.695Z"
   },
   {
    "duration": 38,
    "start_time": "2023-06-07T06:06:05.715Z"
   },
   {
    "duration": 16,
    "start_time": "2023-06-07T06:06:05.755Z"
   },
   {
    "duration": 26,
    "start_time": "2023-06-07T06:06:05.773Z"
   },
   {
    "duration": 16,
    "start_time": "2023-06-07T06:06:05.801Z"
   },
   {
    "duration": 43,
    "start_time": "2023-06-07T06:06:05.818Z"
   },
   {
    "duration": 81,
    "start_time": "2023-06-07T06:06:05.863Z"
   },
   {
    "duration": 44,
    "start_time": "2023-06-07T06:06:05.945Z"
   },
   {
    "duration": 37,
    "start_time": "2023-06-07T06:06:05.990Z"
   },
   {
    "duration": 24,
    "start_time": "2023-06-07T06:06:06.029Z"
   },
   {
    "duration": 59,
    "start_time": "2023-06-07T06:06:06.054Z"
   },
   {
    "duration": 23,
    "start_time": "2023-06-07T06:06:06.115Z"
   },
   {
    "duration": 129,
    "start_time": "2023-06-07T06:06:06.139Z"
   },
   {
    "duration": 0,
    "start_time": "2023-06-07T06:06:06.269Z"
   },
   {
    "duration": 0,
    "start_time": "2023-06-07T06:06:06.270Z"
   },
   {
    "duration": 21,
    "start_time": "2023-06-07T06:06:12.197Z"
   },
   {
    "duration": 14,
    "start_time": "2023-06-07T06:06:22.391Z"
   },
   {
    "duration": 15,
    "start_time": "2023-06-07T06:06:47.294Z"
   },
   {
    "duration": 11,
    "start_time": "2023-06-07T06:07:08.654Z"
   },
   {
    "duration": 12,
    "start_time": "2023-06-07T06:07:09.358Z"
   },
   {
    "duration": 15,
    "start_time": "2023-06-07T06:07:10.154Z"
   },
   {
    "duration": 18,
    "start_time": "2023-06-07T06:07:11.022Z"
   },
   {
    "duration": 13,
    "start_time": "2023-06-07T06:07:11.902Z"
   },
   {
    "duration": 12,
    "start_time": "2023-06-07T06:07:14.030Z"
   },
   {
    "duration": 3539,
    "start_time": "2023-06-07T06:46:56.038Z"
   },
   {
    "duration": 8,
    "start_time": "2023-06-07T06:46:59.579Z"
   },
   {
    "duration": 1056,
    "start_time": "2023-06-07T06:46:59.590Z"
   },
   {
    "duration": 17,
    "start_time": "2023-06-07T06:47:00.648Z"
   },
   {
    "duration": 24,
    "start_time": "2023-06-07T06:47:00.667Z"
   },
   {
    "duration": 41,
    "start_time": "2023-06-07T06:47:00.693Z"
   },
   {
    "duration": 137,
    "start_time": "2023-06-07T06:47:00.736Z"
   },
   {
    "duration": 12,
    "start_time": "2023-06-07T06:47:00.875Z"
   },
   {
    "duration": 173,
    "start_time": "2023-06-07T06:47:00.889Z"
   },
   {
    "duration": 119,
    "start_time": "2023-06-07T06:47:01.064Z"
   },
   {
    "duration": 115,
    "start_time": "2023-06-07T06:47:01.184Z"
   },
   {
    "duration": 196,
    "start_time": "2023-06-07T06:47:01.301Z"
   },
   {
    "duration": 10,
    "start_time": "2023-06-07T06:47:01.498Z"
   },
   {
    "duration": 41,
    "start_time": "2023-06-07T06:47:01.509Z"
   },
   {
    "duration": 55,
    "start_time": "2023-06-07T06:47:01.552Z"
   },
   {
    "duration": 29,
    "start_time": "2023-06-07T06:47:01.608Z"
   },
   {
    "duration": 26,
    "start_time": "2023-06-07T06:47:01.639Z"
   },
   {
    "duration": 36,
    "start_time": "2023-06-07T06:47:01.667Z"
   },
   {
    "duration": 42,
    "start_time": "2023-06-07T06:47:01.706Z"
   },
   {
    "duration": 33,
    "start_time": "2023-06-07T06:47:01.750Z"
   },
   {
    "duration": 30,
    "start_time": "2023-06-07T06:47:01.785Z"
   },
   {
    "duration": 36,
    "start_time": "2023-06-07T06:47:01.816Z"
   },
   {
    "duration": 18,
    "start_time": "2023-06-07T06:47:01.854Z"
   },
   {
    "duration": 30,
    "start_time": "2023-06-07T06:47:01.874Z"
   },
   {
    "duration": 14,
    "start_time": "2023-06-07T06:47:01.905Z"
   },
   {
    "duration": 39,
    "start_time": "2023-06-07T06:47:01.920Z"
   },
   {
    "duration": 161,
    "start_time": "2023-06-07T06:47:01.960Z"
   },
   {
    "duration": 165,
    "start_time": "2023-06-07T06:47:02.125Z"
   },
   {
    "duration": 190,
    "start_time": "2023-06-07T06:47:02.292Z"
   },
   {
    "duration": 179,
    "start_time": "2023-06-07T06:47:02.484Z"
   },
   {
    "duration": 173,
    "start_time": "2023-06-07T06:47:02.664Z"
   },
   {
    "duration": 147,
    "start_time": "2023-06-07T06:47:02.839Z"
   },
   {
    "duration": 162,
    "start_time": "2023-06-07T06:47:02.988Z"
   },
   {
    "duration": 148,
    "start_time": "2023-06-07T06:47:03.151Z"
   },
   {
    "duration": 259,
    "start_time": "2023-06-07T06:47:03.301Z"
   },
   {
    "duration": 16,
    "start_time": "2023-06-07T06:47:03.561Z"
   },
   {
    "duration": 7,
    "start_time": "2023-06-07T06:47:03.578Z"
   },
   {
    "duration": 12,
    "start_time": "2023-06-07T06:47:03.586Z"
   },
   {
    "duration": 1533,
    "start_time": "2023-06-07T06:47:03.600Z"
   },
   {
    "duration": 854,
    "start_time": "2023-06-07T06:47:05.135Z"
   },
   {
    "duration": 34,
    "start_time": "2023-06-07T06:47:05.991Z"
   },
   {
    "duration": 277,
    "start_time": "2023-06-07T06:47:06.026Z"
   },
   {
    "duration": 4,
    "start_time": "2023-06-07T06:47:06.305Z"
   },
   {
    "duration": 1771,
    "start_time": "2023-06-07T06:47:06.310Z"
   },
   {
    "duration": 8,
    "start_time": "2023-06-07T06:47:08.083Z"
   },
   {
    "duration": 10,
    "start_time": "2023-06-07T06:47:08.092Z"
   },
   {
    "duration": 22,
    "start_time": "2023-06-07T06:47:08.103Z"
   },
   {
    "duration": 9,
    "start_time": "2023-06-07T06:47:08.126Z"
   },
   {
    "duration": 7,
    "start_time": "2023-06-07T06:47:08.136Z"
   },
   {
    "duration": 6,
    "start_time": "2023-06-07T06:47:08.145Z"
   },
   {
    "duration": 6,
    "start_time": "2023-06-07T06:47:08.153Z"
   },
   {
    "duration": 6,
    "start_time": "2023-06-07T06:47:08.160Z"
   },
   {
    "duration": 8,
    "start_time": "2023-06-07T06:47:08.167Z"
   },
   {
    "duration": 7,
    "start_time": "2023-06-07T06:47:08.176Z"
   },
   {
    "duration": 46,
    "start_time": "2023-06-07T06:47:08.184Z"
   },
   {
    "duration": 10,
    "start_time": "2023-06-07T06:47:08.232Z"
   },
   {
    "duration": 9,
    "start_time": "2023-06-07T06:47:08.245Z"
   },
   {
    "duration": 7,
    "start_time": "2023-06-07T06:47:08.255Z"
   },
   {
    "duration": 11,
    "start_time": "2023-06-07T06:47:08.264Z"
   },
   {
    "duration": 47,
    "start_time": "2023-06-07T06:47:08.277Z"
   },
   {
    "duration": 10,
    "start_time": "2023-06-07T06:47:08.326Z"
   },
   {
    "duration": 12,
    "start_time": "2023-06-07T06:47:08.337Z"
   },
   {
    "duration": 10,
    "start_time": "2023-06-07T06:47:08.351Z"
   },
   {
    "duration": 310,
    "start_time": "2023-06-08T09:22:04.898Z"
   },
   {
    "duration": 4318,
    "start_time": "2023-06-08T09:37:48.078Z"
   },
   {
    "duration": 10,
    "start_time": "2023-06-08T09:37:52.399Z"
   },
   {
    "duration": 934,
    "start_time": "2023-06-08T09:37:52.410Z"
   },
   {
    "duration": 15,
    "start_time": "2023-06-08T09:37:53.346Z"
   },
   {
    "duration": 19,
    "start_time": "2023-06-08T09:37:53.362Z"
   },
   {
    "duration": 30,
    "start_time": "2023-06-08T09:37:53.382Z"
   },
   {
    "duration": 109,
    "start_time": "2023-06-08T09:37:53.414Z"
   },
   {
    "duration": 10,
    "start_time": "2023-06-08T09:37:53.524Z"
   },
   {
    "duration": 99,
    "start_time": "2023-06-08T09:37:53.536Z"
   },
   {
    "duration": 94,
    "start_time": "2023-06-08T09:37:53.637Z"
   },
   {
    "duration": 99,
    "start_time": "2023-06-08T09:37:53.733Z"
   },
   {
    "duration": 155,
    "start_time": "2023-06-08T09:37:53.834Z"
   },
   {
    "duration": 10,
    "start_time": "2023-06-08T09:37:53.990Z"
   },
   {
    "duration": 17,
    "start_time": "2023-06-08T09:37:54.001Z"
   },
   {
    "duration": 16,
    "start_time": "2023-06-08T09:37:54.020Z"
   },
   {
    "duration": 26,
    "start_time": "2023-06-08T09:37:54.037Z"
   },
   {
    "duration": 6,
    "start_time": "2023-06-08T09:37:54.065Z"
   },
   {
    "duration": 5,
    "start_time": "2023-06-08T09:37:54.073Z"
   },
   {
    "duration": 15,
    "start_time": "2023-06-08T09:37:54.080Z"
   },
   {
    "duration": 12,
    "start_time": "2023-06-08T09:37:54.096Z"
   },
   {
    "duration": 21,
    "start_time": "2023-06-08T09:37:54.110Z"
   },
   {
    "duration": 16,
    "start_time": "2023-06-08T09:37:54.132Z"
   },
   {
    "duration": 9,
    "start_time": "2023-06-08T09:37:54.149Z"
   },
   {
    "duration": 19,
    "start_time": "2023-06-08T09:37:54.160Z"
   },
   {
    "duration": 7,
    "start_time": "2023-06-08T09:37:54.180Z"
   },
   {
    "duration": 17,
    "start_time": "2023-06-08T09:37:54.188Z"
   },
   {
    "duration": 144,
    "start_time": "2023-06-08T09:37:54.206Z"
   },
   {
    "duration": 148,
    "start_time": "2023-06-08T09:37:54.354Z"
   },
   {
    "duration": 218,
    "start_time": "2023-06-08T09:37:54.503Z"
   },
   {
    "duration": 219,
    "start_time": "2023-06-08T09:37:54.722Z"
   },
   {
    "duration": 140,
    "start_time": "2023-06-08T09:37:54.942Z"
   },
   {
    "duration": 126,
    "start_time": "2023-06-08T09:37:55.083Z"
   },
   {
    "duration": 156,
    "start_time": "2023-06-08T09:37:55.210Z"
   },
   {
    "duration": 123,
    "start_time": "2023-06-08T09:37:55.368Z"
   },
   {
    "duration": 225,
    "start_time": "2023-06-08T09:37:55.492Z"
   },
   {
    "duration": 13,
    "start_time": "2023-06-08T09:37:55.719Z"
   },
   {
    "duration": 4,
    "start_time": "2023-06-08T09:37:55.733Z"
   },
   {
    "duration": 9,
    "start_time": "2023-06-08T09:37:55.739Z"
   },
   {
    "duration": 1356,
    "start_time": "2023-06-08T09:37:55.749Z"
   },
   {
    "duration": 832,
    "start_time": "2023-06-08T09:37:57.106Z"
   },
   {
    "duration": 22,
    "start_time": "2023-06-08T09:37:57.939Z"
   },
   {
    "duration": 221,
    "start_time": "2023-06-08T09:37:57.962Z"
   },
   {
    "duration": 4,
    "start_time": "2023-06-08T09:37:58.184Z"
   },
   {
    "duration": 1623,
    "start_time": "2023-06-08T09:37:58.189Z"
   },
   {
    "duration": 8,
    "start_time": "2023-06-08T09:37:59.813Z"
   },
   {
    "duration": 12,
    "start_time": "2023-06-08T09:37:59.822Z"
   },
   {
    "duration": 7,
    "start_time": "2023-06-08T09:37:59.836Z"
   },
   {
    "duration": 11,
    "start_time": "2023-06-08T09:37:59.844Z"
   },
   {
    "duration": 13,
    "start_time": "2023-06-08T09:37:59.856Z"
   },
   {
    "duration": 8,
    "start_time": "2023-06-08T09:37:59.870Z"
   },
   {
    "duration": 11,
    "start_time": "2023-06-08T09:37:59.880Z"
   },
   {
    "duration": 13,
    "start_time": "2023-06-08T09:37:59.892Z"
   },
   {
    "duration": 17,
    "start_time": "2023-06-08T09:37:59.906Z"
   },
   {
    "duration": 18,
    "start_time": "2023-06-08T09:37:59.924Z"
   },
   {
    "duration": 20,
    "start_time": "2023-06-08T09:37:59.944Z"
   },
   {
    "duration": 6,
    "start_time": "2023-06-08T09:37:59.966Z"
   },
   {
    "duration": 9,
    "start_time": "2023-06-08T09:37:59.974Z"
   },
   {
    "duration": 12,
    "start_time": "2023-06-08T09:37:59.985Z"
   },
   {
    "duration": 21,
    "start_time": "2023-06-08T09:37:59.999Z"
   },
   {
    "duration": 34,
    "start_time": "2023-06-08T09:38:00.022Z"
   },
   {
    "duration": 29,
    "start_time": "2023-06-08T09:38:00.058Z"
   },
   {
    "duration": 35,
    "start_time": "2023-06-08T09:38:00.089Z"
   },
   {
    "duration": 44,
    "start_time": "2023-06-08T09:38:00.126Z"
   },
   {
    "duration": 113,
    "start_time": "2023-06-08T09:38:00.172Z"
   },
   {
    "duration": 4344,
    "start_time": "2023-06-08T10:15:39.530Z"
   },
   {
    "duration": 1961,
    "start_time": "2023-06-08T10:16:10.515Z"
   },
   {
    "duration": 5,
    "start_time": "2023-06-08T10:16:16.883Z"
   },
   {
    "duration": 1942,
    "start_time": "2023-06-08T10:19:34.346Z"
   },
   {
    "duration": 106,
    "start_time": "2023-06-08T10:27:07.084Z"
   },
   {
    "duration": 1894,
    "start_time": "2023-06-08T10:27:14.701Z"
   },
   {
    "duration": 1389,
    "start_time": "2023-06-08T10:27:16.597Z"
   },
   {
    "duration": 7,
    "start_time": "2023-06-08T10:27:17.987Z"
   },
   {
    "duration": 1187,
    "start_time": "2023-06-08T10:27:17.996Z"
   },
   {
    "duration": 17,
    "start_time": "2023-06-08T10:27:19.184Z"
   },
   {
    "duration": 12,
    "start_time": "2023-06-08T10:27:19.202Z"
   },
   {
    "duration": 36,
    "start_time": "2023-06-08T10:27:19.216Z"
   },
   {
    "duration": 124,
    "start_time": "2023-06-08T10:27:19.278Z"
   },
   {
    "duration": 12,
    "start_time": "2023-06-08T10:27:19.404Z"
   },
   {
    "duration": 123,
    "start_time": "2023-06-08T10:27:19.419Z"
   },
   {
    "duration": 119,
    "start_time": "2023-06-08T10:27:19.544Z"
   },
   {
    "duration": 115,
    "start_time": "2023-06-08T10:27:19.664Z"
   },
   {
    "duration": 175,
    "start_time": "2023-06-08T10:27:19.781Z"
   },
   {
    "duration": 21,
    "start_time": "2023-06-08T10:27:19.958Z"
   },
   {
    "duration": 4,
    "start_time": "2023-06-08T10:27:19.981Z"
   },
   {
    "duration": 113,
    "start_time": "2023-06-08T10:27:19.986Z"
   },
   {
    "duration": 0,
    "start_time": "2023-06-08T10:27:20.101Z"
   },
   {
    "duration": 0,
    "start_time": "2023-06-08T10:27:20.103Z"
   },
   {
    "duration": 0,
    "start_time": "2023-06-08T10:27:20.104Z"
   },
   {
    "duration": 0,
    "start_time": "2023-06-08T10:27:20.104Z"
   },
   {
    "duration": 0,
    "start_time": "2023-06-08T10:27:20.106Z"
   },
   {
    "duration": 0,
    "start_time": "2023-06-08T10:27:20.107Z"
   },
   {
    "duration": 0,
    "start_time": "2023-06-08T10:27:20.107Z"
   },
   {
    "duration": 0,
    "start_time": "2023-06-08T10:27:20.108Z"
   },
   {
    "duration": 0,
    "start_time": "2023-06-08T10:27:20.109Z"
   },
   {
    "duration": 0,
    "start_time": "2023-06-08T10:27:20.110Z"
   },
   {
    "duration": 0,
    "start_time": "2023-06-08T10:27:20.111Z"
   },
   {
    "duration": 0,
    "start_time": "2023-06-08T10:27:20.112Z"
   },
   {
    "duration": 0,
    "start_time": "2023-06-08T10:27:20.113Z"
   },
   {
    "duration": 0,
    "start_time": "2023-06-08T10:27:20.114Z"
   },
   {
    "duration": 0,
    "start_time": "2023-06-08T10:27:20.115Z"
   },
   {
    "duration": 0,
    "start_time": "2023-06-08T10:27:20.115Z"
   },
   {
    "duration": 0,
    "start_time": "2023-06-08T10:27:20.117Z"
   },
   {
    "duration": 0,
    "start_time": "2023-06-08T10:27:20.117Z"
   },
   {
    "duration": 0,
    "start_time": "2023-06-08T10:27:20.118Z"
   },
   {
    "duration": 0,
    "start_time": "2023-06-08T10:27:20.119Z"
   },
   {
    "duration": 0,
    "start_time": "2023-06-08T10:27:20.120Z"
   },
   {
    "duration": 0,
    "start_time": "2023-06-08T10:27:20.121Z"
   },
   {
    "duration": 0,
    "start_time": "2023-06-08T10:27:20.122Z"
   },
   {
    "duration": 0,
    "start_time": "2023-06-08T10:27:20.122Z"
   },
   {
    "duration": 0,
    "start_time": "2023-06-08T10:27:20.123Z"
   },
   {
    "duration": 0,
    "start_time": "2023-06-08T10:27:20.124Z"
   },
   {
    "duration": 0,
    "start_time": "2023-06-08T10:27:20.125Z"
   },
   {
    "duration": 0,
    "start_time": "2023-06-08T10:27:20.126Z"
   },
   {
    "duration": 0,
    "start_time": "2023-06-08T10:27:20.127Z"
   },
   {
    "duration": 0,
    "start_time": "2023-06-08T10:27:20.128Z"
   },
   {
    "duration": 0,
    "start_time": "2023-06-08T10:27:20.129Z"
   },
   {
    "duration": 0,
    "start_time": "2023-06-08T10:27:20.129Z"
   },
   {
    "duration": 0,
    "start_time": "2023-06-08T10:27:20.178Z"
   },
   {
    "duration": 0,
    "start_time": "2023-06-08T10:27:20.179Z"
   },
   {
    "duration": 0,
    "start_time": "2023-06-08T10:27:20.180Z"
   },
   {
    "duration": 0,
    "start_time": "2023-06-08T10:27:20.181Z"
   },
   {
    "duration": 0,
    "start_time": "2023-06-08T10:27:20.182Z"
   },
   {
    "duration": 0,
    "start_time": "2023-06-08T10:27:20.183Z"
   },
   {
    "duration": 0,
    "start_time": "2023-06-08T10:27:20.184Z"
   },
   {
    "duration": 0,
    "start_time": "2023-06-08T10:27:20.185Z"
   },
   {
    "duration": 0,
    "start_time": "2023-06-08T10:27:20.186Z"
   },
   {
    "duration": 0,
    "start_time": "2023-06-08T10:27:20.187Z"
   },
   {
    "duration": 0,
    "start_time": "2023-06-08T10:27:20.188Z"
   },
   {
    "duration": 0,
    "start_time": "2023-06-08T10:27:20.189Z"
   },
   {
    "duration": 0,
    "start_time": "2023-06-08T10:27:20.190Z"
   },
   {
    "duration": 0,
    "start_time": "2023-06-08T10:27:20.191Z"
   },
   {
    "duration": 0,
    "start_time": "2023-06-08T10:27:20.192Z"
   },
   {
    "duration": 0,
    "start_time": "2023-06-08T10:27:20.193Z"
   },
   {
    "duration": 0,
    "start_time": "2023-06-08T10:27:20.194Z"
   },
   {
    "duration": 9,
    "start_time": "2023-06-08T10:27:39.991Z"
   },
   {
    "duration": 5,
    "start_time": "2023-06-08T10:28:44.150Z"
   },
   {
    "duration": 4,
    "start_time": "2023-06-08T10:28:46.243Z"
   },
   {
    "duration": 3,
    "start_time": "2023-06-08T10:28:49.784Z"
   },
   {
    "duration": 4,
    "start_time": "2023-06-08T10:28:53.061Z"
   },
   {
    "duration": 5,
    "start_time": "2023-06-08T10:28:54.911Z"
   },
   {
    "duration": 5,
    "start_time": "2023-06-08T10:30:46.574Z"
   },
   {
    "duration": 10,
    "start_time": "2023-06-08T10:30:56.413Z"
   },
   {
    "duration": 9,
    "start_time": "2023-06-08T10:31:19.053Z"
   },
   {
    "duration": 5,
    "start_time": "2023-06-08T10:31:33.066Z"
   },
   {
    "duration": 4,
    "start_time": "2023-06-08T10:32:19.002Z"
   },
   {
    "duration": 8,
    "start_time": "2023-06-08T10:34:14.092Z"
   },
   {
    "duration": 4,
    "start_time": "2023-06-08T10:34:30.094Z"
   },
   {
    "duration": 10,
    "start_time": "2023-06-08T10:34:52.999Z"
   },
   {
    "duration": 5,
    "start_time": "2023-06-08T10:35:14.245Z"
   },
   {
    "duration": 5,
    "start_time": "2023-06-08T10:35:21.188Z"
   },
   {
    "duration": 5,
    "start_time": "2023-06-08T10:37:11.052Z"
   },
   {
    "duration": 5,
    "start_time": "2023-06-08T10:38:37.398Z"
   },
   {
    "duration": 6,
    "start_time": "2023-06-08T10:39:15.803Z"
   },
   {
    "duration": 5,
    "start_time": "2023-06-08T10:39:23.874Z"
   },
   {
    "duration": 6,
    "start_time": "2023-06-08T10:39:35.788Z"
   },
   {
    "duration": 6,
    "start_time": "2023-06-08T10:39:36.652Z"
   },
   {
    "duration": 1953,
    "start_time": "2023-06-08T10:39:52.343Z"
   },
   {
    "duration": 1474,
    "start_time": "2023-06-08T10:39:54.298Z"
   },
   {
    "duration": 8,
    "start_time": "2023-06-08T10:39:55.774Z"
   },
   {
    "duration": 1092,
    "start_time": "2023-06-08T10:39:55.784Z"
   },
   {
    "duration": 16,
    "start_time": "2023-06-08T10:39:56.878Z"
   },
   {
    "duration": 17,
    "start_time": "2023-06-08T10:39:56.896Z"
   },
   {
    "duration": 54,
    "start_time": "2023-06-08T10:39:56.915Z"
   },
   {
    "duration": 131,
    "start_time": "2023-06-08T10:39:56.970Z"
   },
   {
    "duration": 12,
    "start_time": "2023-06-08T10:39:57.103Z"
   },
   {
    "duration": 121,
    "start_time": "2023-06-08T10:39:57.117Z"
   },
   {
    "duration": 114,
    "start_time": "2023-06-08T10:39:57.239Z"
   },
   {
    "duration": 111,
    "start_time": "2023-06-08T10:39:57.355Z"
   },
   {
    "duration": 207,
    "start_time": "2023-06-08T10:39:57.478Z"
   },
   {
    "duration": 13,
    "start_time": "2023-06-08T10:39:57.688Z"
   },
   {
    "duration": 5,
    "start_time": "2023-06-08T10:39:57.703Z"
   },
   {
    "duration": 17,
    "start_time": "2023-06-08T10:39:57.710Z"
   },
   {
    "duration": 9,
    "start_time": "2023-06-08T10:39:57.729Z"
   },
   {
    "duration": 8,
    "start_time": "2023-06-08T10:39:57.740Z"
   },
   {
    "duration": 34,
    "start_time": "2023-06-08T10:39:57.750Z"
   },
   {
    "duration": 12,
    "start_time": "2023-06-08T10:39:57.787Z"
   },
   {
    "duration": 10,
    "start_time": "2023-06-08T10:39:57.801Z"
   },
   {
    "duration": 12,
    "start_time": "2023-06-08T10:39:57.813Z"
   },
   {
    "duration": 6,
    "start_time": "2023-06-08T10:39:57.826Z"
   },
   {
    "duration": 8,
    "start_time": "2023-06-08T10:39:57.834Z"
   },
   {
    "duration": 11,
    "start_time": "2023-06-08T10:39:57.844Z"
   },
   {
    "duration": 21,
    "start_time": "2023-06-08T10:39:57.857Z"
   },
   {
    "duration": 5,
    "start_time": "2023-06-08T10:39:57.880Z"
   },
   {
    "duration": 4,
    "start_time": "2023-06-08T10:39:57.889Z"
   },
   {
    "duration": 10,
    "start_time": "2023-06-08T10:39:57.895Z"
   },
   {
    "duration": 31,
    "start_time": "2023-06-08T10:39:57.907Z"
   },
   {
    "duration": 5,
    "start_time": "2023-06-08T10:39:57.939Z"
   },
   {
    "duration": 15,
    "start_time": "2023-06-08T10:39:57.946Z"
   },
   {
    "duration": 152,
    "start_time": "2023-06-08T10:39:57.962Z"
   },
   {
    "duration": 175,
    "start_time": "2023-06-08T10:39:58.116Z"
   },
   {
    "duration": 188,
    "start_time": "2023-06-08T10:39:58.292Z"
   },
   {
    "duration": 159,
    "start_time": "2023-06-08T10:39:58.481Z"
   },
   {
    "duration": 162,
    "start_time": "2023-06-08T10:39:58.642Z"
   },
   {
    "duration": 146,
    "start_time": "2023-06-08T10:39:58.805Z"
   },
   {
    "duration": 171,
    "start_time": "2023-06-08T10:39:58.952Z"
   },
   {
    "duration": 153,
    "start_time": "2023-06-08T10:39:59.125Z"
   },
   {
    "duration": 251,
    "start_time": "2023-06-08T10:39:59.279Z"
   },
   {
    "duration": 16,
    "start_time": "2023-06-08T10:39:59.532Z"
   },
   {
    "duration": 26,
    "start_time": "2023-06-08T10:39:59.549Z"
   },
   {
    "duration": 19,
    "start_time": "2023-06-08T10:39:59.577Z"
   },
   {
    "duration": 1521,
    "start_time": "2023-06-08T10:39:59.598Z"
   },
   {
    "duration": 954,
    "start_time": "2023-06-08T10:40:01.121Z"
   },
   {
    "duration": 24,
    "start_time": "2023-06-08T10:40:02.078Z"
   },
   {
    "duration": 251,
    "start_time": "2023-06-08T10:40:02.104Z"
   },
   {
    "duration": 5,
    "start_time": "2023-06-08T10:40:02.356Z"
   },
   {
    "duration": 1856,
    "start_time": "2023-06-08T10:40:02.362Z"
   },
   {
    "duration": 9,
    "start_time": "2023-06-08T10:40:04.220Z"
   },
   {
    "duration": 31,
    "start_time": "2023-06-08T10:40:04.230Z"
   },
   {
    "duration": 22,
    "start_time": "2023-06-08T10:40:04.263Z"
   },
   {
    "duration": 32,
    "start_time": "2023-06-08T10:40:04.287Z"
   },
   {
    "duration": 23,
    "start_time": "2023-06-08T10:40:04.321Z"
   },
   {
    "duration": 9,
    "start_time": "2023-06-08T10:40:04.345Z"
   },
   {
    "duration": 26,
    "start_time": "2023-06-08T10:40:04.355Z"
   },
   {
    "duration": 11,
    "start_time": "2023-06-08T10:40:04.383Z"
   },
   {
    "duration": 17,
    "start_time": "2023-06-08T10:40:04.395Z"
   },
   {
    "duration": 19,
    "start_time": "2023-06-08T10:40:04.413Z"
   },
   {
    "duration": 37,
    "start_time": "2023-06-08T10:40:04.433Z"
   },
   {
    "duration": 26,
    "start_time": "2023-06-08T10:40:04.472Z"
   },
   {
    "duration": 20,
    "start_time": "2023-06-08T10:40:04.500Z"
   },
   {
    "duration": 18,
    "start_time": "2023-06-08T10:40:04.522Z"
   },
   {
    "duration": 26,
    "start_time": "2023-06-08T10:40:04.542Z"
   },
   {
    "duration": 8,
    "start_time": "2023-06-08T10:40:04.570Z"
   },
   {
    "duration": 24,
    "start_time": "2023-06-08T10:40:04.581Z"
   },
   {
    "duration": 11,
    "start_time": "2023-06-08T10:40:04.607Z"
   },
   {
    "duration": 33,
    "start_time": "2023-06-08T10:40:04.620Z"
   },
   {
    "duration": 81,
    "start_time": "2023-06-08T10:40:04.655Z"
   },
   {
    "duration": 12,
    "start_time": "2023-06-08T10:48:47.190Z"
   },
   {
    "duration": 119,
    "start_time": "2023-06-08T10:49:10.022Z"
   },
   {
    "duration": 17,
    "start_time": "2023-06-08T10:49:31.911Z"
   },
   {
    "duration": 7,
    "start_time": "2023-06-08T10:50:01.488Z"
   },
   {
    "duration": 11,
    "start_time": "2023-06-08T10:50:02.727Z"
   },
   {
    "duration": 5,
    "start_time": "2023-06-08T10:51:46.086Z"
   },
   {
    "duration": 11,
    "start_time": "2023-06-08T10:51:46.758Z"
   },
   {
    "duration": 2071,
    "start_time": "2023-06-08T10:55:25.542Z"
   },
   {
    "duration": 12,
    "start_time": "2023-06-08T11:08:50.840Z"
   },
   {
    "duration": 12,
    "start_time": "2023-06-08T11:09:09.880Z"
   },
   {
    "duration": 5,
    "start_time": "2023-06-08T11:09:19.208Z"
   },
   {
    "duration": 11,
    "start_time": "2023-06-08T11:09:21.015Z"
   },
   {
    "duration": 8,
    "start_time": "2023-06-08T11:09:38.415Z"
   },
   {
    "duration": 17,
    "start_time": "2023-06-08T11:09:39.192Z"
   },
   {
    "duration": 13,
    "start_time": "2023-06-08T11:10:11.138Z"
   },
   {
    "duration": 71,
    "start_time": "2023-06-08T11:12:32.639Z"
   },
   {
    "duration": 16,
    "start_time": "2023-06-08T11:12:40.651Z"
   },
   {
    "duration": 14,
    "start_time": "2023-06-08T11:15:53.511Z"
   },
   {
    "duration": 25,
    "start_time": "2023-06-08T11:15:56.838Z"
   },
   {
    "duration": 7,
    "start_time": "2023-06-08T11:15:57.573Z"
   },
   {
    "duration": 14,
    "start_time": "2023-06-08T11:16:05.654Z"
   },
   {
    "duration": 16,
    "start_time": "2023-06-08T11:17:04.846Z"
   },
   {
    "duration": 1010,
    "start_time": "2023-06-08T11:18:57.814Z"
   },
   {
    "duration": 244,
    "start_time": "2023-06-08T11:24:34.435Z"
   },
   {
    "duration": 228,
    "start_time": "2023-06-08T11:25:03.682Z"
   },
   {
    "duration": 1930,
    "start_time": "2023-06-08T11:25:51.107Z"
   },
   {
    "duration": 1372,
    "start_time": "2023-06-08T11:25:53.039Z"
   },
   {
    "duration": 9,
    "start_time": "2023-06-08T11:25:54.413Z"
   },
   {
    "duration": 991,
    "start_time": "2023-06-08T11:25:54.424Z"
   },
   {
    "duration": 15,
    "start_time": "2023-06-08T11:25:55.416Z"
   },
   {
    "duration": 59,
    "start_time": "2023-06-08T11:25:55.433Z"
   },
   {
    "duration": 53,
    "start_time": "2023-06-08T11:25:55.493Z"
   },
   {
    "duration": 121,
    "start_time": "2023-06-08T11:25:55.548Z"
   },
   {
    "duration": 17,
    "start_time": "2023-06-08T11:25:55.670Z"
   },
   {
    "duration": 110,
    "start_time": "2023-06-08T11:25:55.690Z"
   },
   {
    "duration": 117,
    "start_time": "2023-06-08T11:25:55.802Z"
   },
   {
    "duration": 111,
    "start_time": "2023-06-08T11:25:55.921Z"
   },
   {
    "duration": 195,
    "start_time": "2023-06-08T11:25:56.034Z"
   },
   {
    "duration": 10,
    "start_time": "2023-06-08T11:25:56.230Z"
   },
   {
    "duration": 4,
    "start_time": "2023-06-08T11:25:56.241Z"
   },
   {
    "duration": 32,
    "start_time": "2023-06-08T11:25:56.246Z"
   },
   {
    "duration": 4,
    "start_time": "2023-06-08T11:25:56.280Z"
   },
   {
    "duration": 6,
    "start_time": "2023-06-08T11:25:56.286Z"
   },
   {
    "duration": 4,
    "start_time": "2023-06-08T11:25:56.294Z"
   },
   {
    "duration": 16,
    "start_time": "2023-06-08T11:25:56.299Z"
   },
   {
    "duration": 10,
    "start_time": "2023-06-08T11:25:56.317Z"
   },
   {
    "duration": 5,
    "start_time": "2023-06-08T11:25:56.328Z"
   },
   {
    "duration": 13,
    "start_time": "2023-06-08T11:25:56.335Z"
   },
   {
    "duration": 12,
    "start_time": "2023-06-08T11:25:56.349Z"
   },
   {
    "duration": 18,
    "start_time": "2023-06-08T11:25:56.362Z"
   },
   {
    "duration": 9,
    "start_time": "2023-06-08T11:25:56.381Z"
   },
   {
    "duration": 3,
    "start_time": "2023-06-08T11:25:56.391Z"
   },
   {
    "duration": 4,
    "start_time": "2023-06-08T11:25:56.398Z"
   },
   {
    "duration": 28,
    "start_time": "2023-06-08T11:25:56.403Z"
   },
   {
    "duration": 11,
    "start_time": "2023-06-08T11:25:56.433Z"
   },
   {
    "duration": 4,
    "start_time": "2023-06-08T11:25:56.446Z"
   },
   {
    "duration": 14,
    "start_time": "2023-06-08T11:25:56.451Z"
   },
   {
    "duration": 173,
    "start_time": "2023-06-08T11:25:56.467Z"
   },
   {
    "duration": 178,
    "start_time": "2023-06-08T11:25:56.641Z"
   },
   {
    "duration": 201,
    "start_time": "2023-06-08T11:25:56.821Z"
   },
   {
    "duration": 164,
    "start_time": "2023-06-08T11:25:57.024Z"
   },
   {
    "duration": 172,
    "start_time": "2023-06-08T11:25:57.190Z"
   },
   {
    "duration": 173,
    "start_time": "2023-06-08T11:25:57.363Z"
   },
   {
    "duration": 205,
    "start_time": "2023-06-08T11:25:57.538Z"
   },
   {
    "duration": 149,
    "start_time": "2023-06-08T11:25:57.744Z"
   },
   {
    "duration": 249,
    "start_time": "2023-06-08T11:25:57.895Z"
   },
   {
    "duration": 15,
    "start_time": "2023-06-08T11:25:58.146Z"
   },
   {
    "duration": 16,
    "start_time": "2023-06-08T11:25:58.162Z"
   },
   {
    "duration": 18,
    "start_time": "2023-06-08T11:25:58.180Z"
   },
   {
    "duration": 1392,
    "start_time": "2023-06-08T11:25:58.199Z"
   },
   {
    "duration": 324,
    "start_time": "2023-06-08T11:25:59.593Z"
   },
   {
    "duration": 0,
    "start_time": "2023-06-08T11:25:59.919Z"
   },
   {
    "duration": 0,
    "start_time": "2023-06-08T11:25:59.920Z"
   },
   {
    "duration": 0,
    "start_time": "2023-06-08T11:25:59.921Z"
   },
   {
    "duration": 0,
    "start_time": "2023-06-08T11:25:59.922Z"
   },
   {
    "duration": 0,
    "start_time": "2023-06-08T11:25:59.924Z"
   },
   {
    "duration": 0,
    "start_time": "2023-06-08T11:25:59.924Z"
   },
   {
    "duration": 0,
    "start_time": "2023-06-08T11:25:59.925Z"
   },
   {
    "duration": 0,
    "start_time": "2023-06-08T11:25:59.927Z"
   },
   {
    "duration": 0,
    "start_time": "2023-06-08T11:25:59.927Z"
   },
   {
    "duration": 0,
    "start_time": "2023-06-08T11:25:59.928Z"
   },
   {
    "duration": 0,
    "start_time": "2023-06-08T11:25:59.929Z"
   },
   {
    "duration": 0,
    "start_time": "2023-06-08T11:25:59.930Z"
   },
   {
    "duration": 0,
    "start_time": "2023-06-08T11:25:59.931Z"
   },
   {
    "duration": 0,
    "start_time": "2023-06-08T11:25:59.932Z"
   },
   {
    "duration": 0,
    "start_time": "2023-06-08T11:25:59.933Z"
   },
   {
    "duration": 0,
    "start_time": "2023-06-08T11:25:59.934Z"
   },
   {
    "duration": 0,
    "start_time": "2023-06-08T11:25:59.935Z"
   },
   {
    "duration": 0,
    "start_time": "2023-06-08T11:25:59.936Z"
   },
   {
    "duration": 0,
    "start_time": "2023-06-08T11:25:59.937Z"
   },
   {
    "duration": 0,
    "start_time": "2023-06-08T11:25:59.938Z"
   },
   {
    "duration": 0,
    "start_time": "2023-06-08T11:25:59.939Z"
   },
   {
    "duration": 0,
    "start_time": "2023-06-08T11:25:59.940Z"
   },
   {
    "duration": 0,
    "start_time": "2023-06-08T11:25:59.941Z"
   },
   {
    "duration": 0,
    "start_time": "2023-06-08T11:25:59.978Z"
   },
   {
    "duration": 0,
    "start_time": "2023-06-08T11:25:59.980Z"
   },
   {
    "duration": 691,
    "start_time": "2023-06-08T11:27:09.003Z"
   },
   {
    "duration": 649,
    "start_time": "2023-06-08T11:27:23.222Z"
   },
   {
    "duration": 206,
    "start_time": "2023-06-08T11:27:32.716Z"
   },
   {
    "duration": 220,
    "start_time": "2023-06-08T11:27:57.995Z"
   },
   {
    "duration": 241,
    "start_time": "2023-06-08T11:29:54.466Z"
   },
   {
    "duration": 337,
    "start_time": "2023-06-08T11:30:58.433Z"
   },
   {
    "duration": 13,
    "start_time": "2023-06-08T11:31:43.149Z"
   },
   {
    "duration": 11,
    "start_time": "2023-06-08T11:31:50.816Z"
   },
   {
    "duration": 216,
    "start_time": "2023-06-08T11:32:21.497Z"
   },
   {
    "duration": 162,
    "start_time": "2023-06-08T11:34:26.665Z"
   },
   {
    "duration": 483,
    "start_time": "2023-06-08T11:34:44.346Z"
   },
   {
    "duration": 453,
    "start_time": "2023-06-08T11:34:58.171Z"
   },
   {
    "duration": 449,
    "start_time": "2023-06-08T11:35:04.416Z"
   },
   {
    "duration": 516,
    "start_time": "2023-06-08T11:35:45.365Z"
   },
   {
    "duration": 945,
    "start_time": "2023-06-08T11:36:37.376Z"
   },
   {
    "duration": 591,
    "start_time": "2023-06-08T11:37:01.105Z"
   },
   {
    "duration": 511,
    "start_time": "2023-06-08T11:37:16.007Z"
   },
   {
    "duration": 551,
    "start_time": "2023-06-08T13:41:48.594Z"
   },
   {
    "duration": 3113,
    "start_time": "2023-06-08T16:55:42.374Z"
   },
   {
    "duration": 1607,
    "start_time": "2023-06-08T16:55:45.489Z"
   },
   {
    "duration": 8,
    "start_time": "2023-06-08T16:55:47.098Z"
   },
   {
    "duration": 965,
    "start_time": "2023-06-08T16:55:47.108Z"
   },
   {
    "duration": 17,
    "start_time": "2023-06-08T16:55:48.075Z"
   },
   {
    "duration": 12,
    "start_time": "2023-06-08T16:55:48.093Z"
   },
   {
    "duration": 52,
    "start_time": "2023-06-08T16:55:48.106Z"
   },
   {
    "duration": 129,
    "start_time": "2023-06-08T16:55:48.160Z"
   },
   {
    "duration": 13,
    "start_time": "2023-06-08T16:55:48.290Z"
   },
   {
    "duration": 121,
    "start_time": "2023-06-08T16:55:48.305Z"
   },
   {
    "duration": 122,
    "start_time": "2023-06-08T16:55:48.427Z"
   },
   {
    "duration": 112,
    "start_time": "2023-06-08T16:55:48.556Z"
   },
   {
    "duration": 189,
    "start_time": "2023-06-08T16:55:48.670Z"
   },
   {
    "duration": 10,
    "start_time": "2023-06-08T16:55:48.860Z"
   },
   {
    "duration": 7,
    "start_time": "2023-06-08T16:55:48.871Z"
   },
   {
    "duration": 14,
    "start_time": "2023-06-08T16:55:48.879Z"
   },
   {
    "duration": 5,
    "start_time": "2023-06-08T16:55:48.895Z"
   },
   {
    "duration": 14,
    "start_time": "2023-06-08T16:55:48.902Z"
   },
   {
    "duration": 7,
    "start_time": "2023-06-08T16:55:48.918Z"
   },
   {
    "duration": 4,
    "start_time": "2023-06-08T16:55:48.927Z"
   },
   {
    "duration": 4,
    "start_time": "2023-06-08T16:55:48.958Z"
   },
   {
    "duration": 23,
    "start_time": "2023-06-08T16:55:48.963Z"
   },
   {
    "duration": 9,
    "start_time": "2023-06-08T16:55:48.988Z"
   },
   {
    "duration": 10,
    "start_time": "2023-06-08T16:55:48.999Z"
   },
   {
    "duration": 6,
    "start_time": "2023-06-08T16:55:49.010Z"
   },
   {
    "duration": 8,
    "start_time": "2023-06-08T16:55:49.017Z"
   },
   {
    "duration": 7,
    "start_time": "2023-06-08T16:55:49.026Z"
   },
   {
    "duration": 4,
    "start_time": "2023-06-08T16:55:49.036Z"
   },
   {
    "duration": 6,
    "start_time": "2023-06-08T16:55:49.041Z"
   },
   {
    "duration": 17,
    "start_time": "2023-06-08T16:55:49.049Z"
   },
   {
    "duration": 4,
    "start_time": "2023-06-08T16:55:49.068Z"
   },
   {
    "duration": 7,
    "start_time": "2023-06-08T16:55:49.073Z"
   },
   {
    "duration": 183,
    "start_time": "2023-06-08T16:55:49.082Z"
   },
   {
    "duration": 182,
    "start_time": "2023-06-08T16:55:49.267Z"
   },
   {
    "duration": 213,
    "start_time": "2023-06-08T16:55:49.451Z"
   },
   {
    "duration": 193,
    "start_time": "2023-06-08T16:55:49.666Z"
   },
   {
    "duration": 178,
    "start_time": "2023-06-08T16:55:49.861Z"
   },
   {
    "duration": 167,
    "start_time": "2023-06-08T16:55:50.042Z"
   },
   {
    "duration": 178,
    "start_time": "2023-06-08T16:55:50.211Z"
   },
   {
    "duration": 151,
    "start_time": "2023-06-08T16:55:50.390Z"
   },
   {
    "duration": 258,
    "start_time": "2023-06-08T16:55:50.543Z"
   },
   {
    "duration": 16,
    "start_time": "2023-06-08T16:55:50.803Z"
   },
   {
    "duration": 6,
    "start_time": "2023-06-08T16:55:50.820Z"
   },
   {
    "duration": 33,
    "start_time": "2023-06-08T16:55:50.828Z"
   },
   {
    "duration": 1548,
    "start_time": "2023-06-08T16:55:50.863Z"
   },
   {
    "duration": 524,
    "start_time": "2023-06-08T16:55:52.413Z"
   },
   {
    "duration": 31,
    "start_time": "2023-06-08T16:55:52.939Z"
   },
   {
    "duration": 528,
    "start_time": "2023-06-08T16:55:52.972Z"
   },
   {
    "duration": 27,
    "start_time": "2023-06-08T16:55:53.502Z"
   },
   {
    "duration": 301,
    "start_time": "2023-06-08T16:55:53.531Z"
   },
   {
    "duration": 4,
    "start_time": "2023-06-08T16:55:53.834Z"
   },
   {
    "duration": 2027,
    "start_time": "2023-06-08T16:55:53.839Z"
   },
   {
    "duration": 9,
    "start_time": "2023-06-08T16:55:55.867Z"
   },
   {
    "duration": 14,
    "start_time": "2023-06-08T16:55:55.878Z"
   },
   {
    "duration": 13,
    "start_time": "2023-06-08T16:55:55.893Z"
   },
   {
    "duration": 23,
    "start_time": "2023-06-08T16:55:55.907Z"
   },
   {
    "duration": 13,
    "start_time": "2023-06-08T16:55:55.931Z"
   },
   {
    "duration": 10,
    "start_time": "2023-06-08T16:55:55.945Z"
   },
   {
    "duration": 10,
    "start_time": "2023-06-08T16:55:55.956Z"
   },
   {
    "duration": 6,
    "start_time": "2023-06-08T16:55:55.968Z"
   },
   {
    "duration": 11,
    "start_time": "2023-06-08T16:55:55.976Z"
   },
   {
    "duration": 7,
    "start_time": "2023-06-08T16:55:55.989Z"
   },
   {
    "duration": 10,
    "start_time": "2023-06-08T16:55:55.997Z"
   },
   {
    "duration": 8,
    "start_time": "2023-06-08T16:55:56.008Z"
   },
   {
    "duration": 46,
    "start_time": "2023-06-08T16:55:56.018Z"
   },
   {
    "duration": 7,
    "start_time": "2023-06-08T16:55:56.065Z"
   },
   {
    "duration": 18,
    "start_time": "2023-06-08T16:55:56.074Z"
   },
   {
    "duration": 7,
    "start_time": "2023-06-08T16:55:56.094Z"
   },
   {
    "duration": 13,
    "start_time": "2023-06-08T16:55:56.103Z"
   },
   {
    "duration": 41,
    "start_time": "2023-06-08T16:55:56.117Z"
   },
   {
    "duration": 12,
    "start_time": "2023-06-08T16:55:56.159Z"
   },
   {
    "duration": 92,
    "start_time": "2023-06-08T16:55:56.173Z"
   },
   {
    "duration": 11,
    "start_time": "2023-06-08T16:59:59.792Z"
   },
   {
    "duration": 5,
    "start_time": "2023-06-08T17:03:13.943Z"
   },
   {
    "duration": 11,
    "start_time": "2023-06-08T17:03:27.360Z"
   },
   {
    "duration": 4,
    "start_time": "2023-06-08T17:03:53.165Z"
   },
   {
    "duration": 74,
    "start_time": "2023-06-08T17:03:53.781Z"
   },
   {
    "duration": 8,
    "start_time": "2023-06-08T17:04:01.049Z"
   },
   {
    "duration": 8,
    "start_time": "2023-06-08T17:04:25.945Z"
   },
   {
    "duration": 2,
    "start_time": "2023-06-08T17:04:28.187Z"
   },
   {
    "duration": 7,
    "start_time": "2023-06-08T17:04:28.696Z"
   },
   {
    "duration": 11,
    "start_time": "2023-06-08T17:04:34.443Z"
   },
   {
    "duration": 2136,
    "start_time": "2023-06-08T17:04:40.495Z"
   },
   {
    "duration": 1572,
    "start_time": "2023-06-08T17:04:42.634Z"
   },
   {
    "duration": 13,
    "start_time": "2023-06-08T17:04:44.208Z"
   },
   {
    "duration": 1250,
    "start_time": "2023-06-08T17:04:44.224Z"
   },
   {
    "duration": 25,
    "start_time": "2023-06-08T17:04:45.476Z"
   },
   {
    "duration": 13,
    "start_time": "2023-06-08T17:04:45.502Z"
   },
   {
    "duration": 62,
    "start_time": "2023-06-08T17:04:45.517Z"
   },
   {
    "duration": 140,
    "start_time": "2023-06-08T17:04:45.581Z"
   },
   {
    "duration": 13,
    "start_time": "2023-06-08T17:04:45.724Z"
   },
   {
    "duration": 2,
    "start_time": "2023-06-08T17:04:45.740Z"
   },
   {
    "duration": 32,
    "start_time": "2023-06-08T17:04:45.758Z"
   },
   {
    "duration": 133,
    "start_time": "2023-06-08T17:04:45.792Z"
   },
   {
    "duration": 157,
    "start_time": "2023-06-08T17:04:45.927Z"
   },
   {
    "duration": 127,
    "start_time": "2023-06-08T17:04:46.086Z"
   },
   {
    "duration": 209,
    "start_time": "2023-06-08T17:04:46.215Z"
   },
   {
    "duration": 11,
    "start_time": "2023-06-08T17:04:46.425Z"
   },
   {
    "duration": 19,
    "start_time": "2023-06-08T17:04:46.438Z"
   },
   {
    "duration": 12,
    "start_time": "2023-06-08T17:04:46.459Z"
   },
   {
    "duration": 8,
    "start_time": "2023-06-08T17:04:46.473Z"
   },
   {
    "duration": 10,
    "start_time": "2023-06-08T17:04:46.484Z"
   },
   {
    "duration": 7,
    "start_time": "2023-06-08T17:04:46.496Z"
   },
   {
    "duration": 19,
    "start_time": "2023-06-08T17:04:46.505Z"
   },
   {
    "duration": 32,
    "start_time": "2023-06-08T17:04:46.526Z"
   },
   {
    "duration": 5,
    "start_time": "2023-06-08T17:04:46.560Z"
   },
   {
    "duration": 10,
    "start_time": "2023-06-08T17:04:46.567Z"
   },
   {
    "duration": 5,
    "start_time": "2023-06-08T17:04:46.578Z"
   },
   {
    "duration": 4,
    "start_time": "2023-06-08T17:04:46.585Z"
   },
   {
    "duration": 11,
    "start_time": "2023-06-08T17:04:46.593Z"
   },
   {
    "duration": 5,
    "start_time": "2023-06-08T17:04:46.605Z"
   },
   {
    "duration": 14,
    "start_time": "2023-06-08T17:04:46.611Z"
   },
   {
    "duration": 33,
    "start_time": "2023-06-08T17:04:46.626Z"
   },
   {
    "duration": 16,
    "start_time": "2023-06-08T17:04:46.661Z"
   },
   {
    "duration": 8,
    "start_time": "2023-06-08T17:04:46.679Z"
   },
   {
    "duration": 8,
    "start_time": "2023-06-08T17:04:46.689Z"
   },
   {
    "duration": 202,
    "start_time": "2023-06-08T17:04:46.699Z"
   },
   {
    "duration": 187,
    "start_time": "2023-06-08T17:04:46.903Z"
   },
   {
    "duration": 215,
    "start_time": "2023-06-08T17:04:47.092Z"
   },
   {
    "duration": 187,
    "start_time": "2023-06-08T17:04:47.309Z"
   },
   {
    "duration": 188,
    "start_time": "2023-06-08T17:04:47.498Z"
   },
   {
    "duration": 192,
    "start_time": "2023-06-08T17:04:47.688Z"
   },
   {
    "duration": 233,
    "start_time": "2023-06-08T17:04:47.883Z"
   },
   {
    "duration": 222,
    "start_time": "2023-06-08T17:04:48.118Z"
   },
   {
    "duration": 344,
    "start_time": "2023-06-08T17:04:48.342Z"
   },
   {
    "duration": 72,
    "start_time": "2023-06-08T17:04:48.688Z"
   },
   {
    "duration": 9,
    "start_time": "2023-06-08T17:04:48.762Z"
   },
   {
    "duration": 24,
    "start_time": "2023-06-08T17:04:48.773Z"
   },
   {
    "duration": 1616,
    "start_time": "2023-06-08T17:04:48.799Z"
   },
   {
    "duration": 532,
    "start_time": "2023-06-08T17:04:50.418Z"
   },
   {
    "duration": 14,
    "start_time": "2023-06-08T17:04:50.952Z"
   },
   {
    "duration": 652,
    "start_time": "2023-06-08T17:04:50.968Z"
   },
   {
    "duration": 50,
    "start_time": "2023-06-08T17:04:51.623Z"
   },
   {
    "duration": 319,
    "start_time": "2023-06-08T17:04:51.676Z"
   },
   {
    "duration": 6,
    "start_time": "2023-06-08T17:04:51.997Z"
   },
   {
    "duration": 2145,
    "start_time": "2023-06-08T17:04:52.006Z"
   },
   {
    "duration": 16,
    "start_time": "2023-06-08T17:04:54.153Z"
   },
   {
    "duration": 21,
    "start_time": "2023-06-08T17:04:54.171Z"
   },
   {
    "duration": 12,
    "start_time": "2023-06-08T17:04:54.197Z"
   },
   {
    "duration": 35,
    "start_time": "2023-06-08T17:04:54.212Z"
   },
   {
    "duration": 14,
    "start_time": "2023-06-08T17:04:54.250Z"
   },
   {
    "duration": 9,
    "start_time": "2023-06-08T17:04:54.267Z"
   },
   {
    "duration": 13,
    "start_time": "2023-06-08T17:04:54.280Z"
   },
   {
    "duration": 17,
    "start_time": "2023-06-08T17:04:54.296Z"
   },
   {
    "duration": 43,
    "start_time": "2023-06-08T17:04:54.315Z"
   },
   {
    "duration": 10,
    "start_time": "2023-06-08T17:04:54.361Z"
   },
   {
    "duration": 13,
    "start_time": "2023-06-08T17:04:54.373Z"
   },
   {
    "duration": 21,
    "start_time": "2023-06-08T17:04:54.388Z"
   },
   {
    "duration": 23,
    "start_time": "2023-06-08T17:04:54.411Z"
   },
   {
    "duration": 21,
    "start_time": "2023-06-08T17:04:54.437Z"
   },
   {
    "duration": 17,
    "start_time": "2023-06-08T17:04:54.460Z"
   },
   {
    "duration": 9,
    "start_time": "2023-06-08T17:04:54.479Z"
   },
   {
    "duration": 20,
    "start_time": "2023-06-08T17:04:54.490Z"
   },
   {
    "duration": 47,
    "start_time": "2023-06-08T17:04:54.512Z"
   },
   {
    "duration": 17,
    "start_time": "2023-06-08T17:04:54.561Z"
   },
   {
    "duration": 114,
    "start_time": "2023-06-08T17:04:54.580Z"
   },
   {
    "duration": 6,
    "start_time": "2023-06-08T17:05:22.768Z"
   },
   {
    "duration": 25,
    "start_time": "2023-06-08T17:05:23.382Z"
   },
   {
    "duration": 10,
    "start_time": "2023-06-08T17:21:11.182Z"
   },
   {
    "duration": 11,
    "start_time": "2023-06-08T17:21:44.329Z"
   },
   {
    "duration": 6,
    "start_time": "2023-06-08T17:22:00.056Z"
   },
   {
    "duration": 9,
    "start_time": "2023-06-08T17:22:40.139Z"
   },
   {
    "duration": 9,
    "start_time": "2023-06-08T17:23:05.628Z"
   },
   {
    "duration": 4,
    "start_time": "2023-06-08T17:25:08.082Z"
   },
   {
    "duration": 4,
    "start_time": "2023-06-08T17:25:13.801Z"
   },
   {
    "duration": 270,
    "start_time": "2023-06-08T17:29:34.929Z"
   },
   {
    "duration": 451,
    "start_time": "2023-06-08T17:29:54.385Z"
   },
   {
    "duration": 356,
    "start_time": "2023-06-08T17:30:25.021Z"
   },
   {
    "duration": 200,
    "start_time": "2023-06-08T17:39:00.596Z"
   },
   {
    "duration": 285,
    "start_time": "2023-06-08T17:44:19.785Z"
   },
   {
    "duration": 317,
    "start_time": "2023-06-08T17:48:28.014Z"
   },
   {
    "duration": 167,
    "start_time": "2023-06-08T17:48:46.485Z"
   },
   {
    "duration": 741,
    "start_time": "2023-06-08T17:49:27.706Z"
   },
   {
    "duration": 188,
    "start_time": "2023-06-08T17:51:32.746Z"
   },
   {
    "duration": 196,
    "start_time": "2023-06-08T17:52:31.239Z"
   },
   {
    "duration": 165,
    "start_time": "2023-06-08T17:53:03.207Z"
   },
   {
    "duration": 306,
    "start_time": "2023-06-08T17:53:46.268Z"
   },
   {
    "duration": 183,
    "start_time": "2023-06-08T18:02:02.210Z"
   },
   {
    "duration": 256,
    "start_time": "2023-06-08T18:03:34.054Z"
   },
   {
    "duration": 269,
    "start_time": "2023-06-08T18:03:41.837Z"
   },
   {
    "duration": 297,
    "start_time": "2023-06-08T18:03:53.108Z"
   },
   {
    "duration": 259,
    "start_time": "2023-06-08T18:04:14.909Z"
   },
   {
    "duration": 284,
    "start_time": "2023-06-08T18:19:42.602Z"
   },
   {
    "duration": 279,
    "start_time": "2023-06-08T18:20:00.704Z"
   },
   {
    "duration": 298,
    "start_time": "2023-06-08T18:32:26.092Z"
   },
   {
    "duration": 313,
    "start_time": "2023-06-08T18:33:12.469Z"
   },
   {
    "duration": 295,
    "start_time": "2023-06-08T18:33:21.678Z"
   },
   {
    "duration": 395,
    "start_time": "2023-06-08T18:36:48.535Z"
   },
   {
    "duration": 346,
    "start_time": "2023-06-08T18:37:24.180Z"
   },
   {
    "duration": 329,
    "start_time": "2023-06-08T18:37:35.906Z"
   },
   {
    "duration": 342,
    "start_time": "2023-06-08T18:38:12.809Z"
   },
   {
    "duration": 385,
    "start_time": "2023-06-08T18:38:47.419Z"
   },
   {
    "duration": 459,
    "start_time": "2023-06-08T18:38:54.933Z"
   },
   {
    "duration": 227,
    "start_time": "2023-06-08T18:40:03.610Z"
   },
   {
    "duration": 275,
    "start_time": "2023-06-08T18:40:28.290Z"
   },
   {
    "duration": 309,
    "start_time": "2023-06-08T18:40:53.173Z"
   },
   {
    "duration": 377,
    "start_time": "2023-06-08T18:41:25.118Z"
   },
   {
    "duration": 377,
    "start_time": "2023-06-08T18:41:33.313Z"
   },
   {
    "duration": 306,
    "start_time": "2023-06-08T18:43:17.082Z"
   },
   {
    "duration": 321,
    "start_time": "2023-06-08T18:44:40.196Z"
   },
   {
    "duration": 315,
    "start_time": "2023-06-08T18:46:51.578Z"
   },
   {
    "duration": 100,
    "start_time": "2023-06-08T18:51:24.608Z"
   },
   {
    "duration": 234,
    "start_time": "2023-06-08T18:53:51.729Z"
   },
   {
    "duration": 225,
    "start_time": "2023-06-08T18:54:28.699Z"
   },
   {
    "duration": 254,
    "start_time": "2023-06-08T18:55:04.743Z"
   },
   {
    "duration": 416,
    "start_time": "2023-06-08T18:55:32.393Z"
   },
   {
    "duration": 119,
    "start_time": "2023-06-08T18:55:55.436Z"
   },
   {
    "duration": 10,
    "start_time": "2023-06-08T18:56:54.826Z"
   },
   {
    "duration": 510,
    "start_time": "2023-06-08T18:57:18.483Z"
   },
   {
    "duration": 534,
    "start_time": "2023-06-08T18:58:35.591Z"
   },
   {
    "duration": 511,
    "start_time": "2023-06-08T18:59:49.933Z"
   },
   {
    "duration": 507,
    "start_time": "2023-06-08T19:02:37.846Z"
   },
   {
    "duration": 8,
    "start_time": "2023-06-08T19:03:20.471Z"
   },
   {
    "duration": 527,
    "start_time": "2023-06-08T19:03:35.831Z"
   },
   {
    "duration": 122,
    "start_time": "2023-06-08T19:04:11.878Z"
   },
   {
    "duration": 496,
    "start_time": "2023-06-08T19:04:39.625Z"
   },
   {
    "duration": 329,
    "start_time": "2023-06-08T19:08:26.141Z"
   },
   {
    "duration": 319,
    "start_time": "2023-06-08T19:08:38.542Z"
   },
   {
    "duration": 370,
    "start_time": "2023-06-08T19:12:13.996Z"
   },
   {
    "duration": 341,
    "start_time": "2023-06-08T19:12:29.040Z"
   },
   {
    "duration": 334,
    "start_time": "2023-06-08T19:12:50.039Z"
   },
   {
    "duration": 328,
    "start_time": "2023-06-08T19:12:57.734Z"
   },
   {
    "duration": 343,
    "start_time": "2023-06-08T19:14:03.659Z"
   },
   {
    "duration": 338,
    "start_time": "2023-06-08T19:14:30.893Z"
   },
   {
    "duration": 9,
    "start_time": "2023-06-08T19:18:44.744Z"
   },
   {
    "duration": 314,
    "start_time": "2023-06-08T19:18:44.877Z"
   },
   {
    "duration": 8,
    "start_time": "2023-06-08T19:19:16.880Z"
   },
   {
    "duration": 370,
    "start_time": "2023-06-08T19:19:23.302Z"
   },
   {
    "duration": 9,
    "start_time": "2023-06-08T19:20:50.220Z"
   },
   {
    "duration": 416,
    "start_time": "2023-06-08T19:21:02.490Z"
   },
   {
    "duration": 476,
    "start_time": "2023-06-08T19:22:36.909Z"
   },
   {
    "duration": 346,
    "start_time": "2023-06-08T19:22:51.440Z"
   },
   {
    "duration": 352,
    "start_time": "2023-06-08T19:23:06.039Z"
   },
   {
    "duration": 318,
    "start_time": "2023-06-08T19:23:13.456Z"
   },
   {
    "duration": 297,
    "start_time": "2023-06-08T19:24:44.507Z"
   },
   {
    "duration": 202,
    "start_time": "2023-06-08T19:25:00.289Z"
   },
   {
    "duration": 290,
    "start_time": "2023-06-08T19:25:15.312Z"
   },
   {
    "duration": 289,
    "start_time": "2023-06-08T19:26:18.187Z"
   },
   {
    "duration": 10,
    "start_time": "2023-06-08T19:26:33.289Z"
   },
   {
    "duration": 445,
    "start_time": "2023-06-08T19:26:47.882Z"
   },
   {
    "duration": 435,
    "start_time": "2023-06-08T19:27:18.807Z"
   },
   {
    "duration": 294,
    "start_time": "2023-06-08T19:27:43.485Z"
   },
   {
    "duration": 686,
    "start_time": "2023-06-08T19:36:43.454Z"
   },
   {
    "duration": 602,
    "start_time": "2023-06-08T19:38:17.864Z"
   },
   {
    "duration": 588,
    "start_time": "2023-06-08T19:40:36.725Z"
   },
   {
    "duration": 575,
    "start_time": "2023-06-08T19:41:02.735Z"
   },
   {
    "duration": 558,
    "start_time": "2023-06-08T19:41:18.706Z"
   },
   {
    "duration": 696,
    "start_time": "2023-06-08T19:41:32.540Z"
   },
   {
    "duration": 615,
    "start_time": "2023-06-08T19:41:55.145Z"
   },
   {
    "duration": 592,
    "start_time": "2023-06-08T19:42:57.011Z"
   },
   {
    "duration": 609,
    "start_time": "2023-06-08T19:43:40.122Z"
   },
   {
    "duration": 95,
    "start_time": "2023-06-08T19:43:50.772Z"
   },
   {
    "duration": 17,
    "start_time": "2023-06-08T19:44:11.525Z"
   },
   {
    "duration": 2066,
    "start_time": "2023-06-08T19:44:49.243Z"
   },
   {
    "duration": 665,
    "start_time": "2023-06-08T19:45:20.725Z"
   },
   {
    "duration": 621,
    "start_time": "2023-06-08T19:45:30.921Z"
   },
   {
    "duration": 596,
    "start_time": "2023-06-08T19:45:58.990Z"
   },
   {
    "duration": 574,
    "start_time": "2023-06-08T19:48:06.572Z"
   },
   {
    "duration": 640,
    "start_time": "2023-06-08T19:49:29.415Z"
   },
   {
    "duration": 604,
    "start_time": "2023-06-08T19:49:55.322Z"
   },
   {
    "duration": 605,
    "start_time": "2023-06-08T19:50:18.674Z"
   },
   {
    "duration": 599,
    "start_time": "2023-06-08T19:50:28.603Z"
   },
   {
    "duration": 679,
    "start_time": "2023-06-08T19:50:52.769Z"
   },
   {
    "duration": 622,
    "start_time": "2023-06-08T19:51:17.343Z"
   },
   {
    "duration": 611,
    "start_time": "2023-06-08T19:51:27.177Z"
   },
   {
    "duration": 617,
    "start_time": "2023-06-08T19:51:46.322Z"
   },
   {
    "duration": 897,
    "start_time": "2023-06-08T19:52:18.892Z"
   },
   {
    "duration": 947,
    "start_time": "2023-06-08T19:52:45.108Z"
   },
   {
    "duration": 956,
    "start_time": "2023-06-08T19:52:56.783Z"
   },
   {
    "duration": 1089,
    "start_time": "2023-06-08T19:53:23.097Z"
   },
   {
    "duration": 1055,
    "start_time": "2023-06-08T19:53:31.187Z"
   },
   {
    "duration": 8,
    "start_time": "2023-06-08T19:59:46.209Z"
   },
   {
    "duration": 421,
    "start_time": "2023-06-08T19:59:55.543Z"
   },
   {
    "duration": 3258,
    "start_time": "2023-06-09T05:50:34.018Z"
   },
   {
    "duration": 1679,
    "start_time": "2023-06-09T05:50:37.279Z"
   },
   {
    "duration": 12,
    "start_time": "2023-06-09T05:50:38.960Z"
   },
   {
    "duration": 892,
    "start_time": "2023-06-09T05:50:38.974Z"
   },
   {
    "duration": 17,
    "start_time": "2023-06-09T05:50:39.868Z"
   },
   {
    "duration": 18,
    "start_time": "2023-06-09T05:50:39.887Z"
   },
   {
    "duration": 47,
    "start_time": "2023-06-09T05:50:39.907Z"
   },
   {
    "duration": 135,
    "start_time": "2023-06-09T05:50:39.955Z"
   },
   {
    "duration": 12,
    "start_time": "2023-06-09T05:50:40.092Z"
   },
   {
    "duration": 8,
    "start_time": "2023-06-09T05:50:40.107Z"
   },
   {
    "duration": 131,
    "start_time": "2023-06-09T05:50:40.117Z"
   },
   {
    "duration": 132,
    "start_time": "2023-06-09T05:50:40.249Z"
   },
   {
    "duration": 123,
    "start_time": "2023-06-09T05:50:40.383Z"
   },
   {
    "duration": 197,
    "start_time": "2023-06-09T05:50:40.508Z"
   },
   {
    "duration": 18,
    "start_time": "2023-06-09T05:50:40.707Z"
   },
   {
    "duration": 20,
    "start_time": "2023-06-09T05:50:40.727Z"
   },
   {
    "duration": 26,
    "start_time": "2023-06-09T05:50:40.749Z"
   },
   {
    "duration": 12,
    "start_time": "2023-06-09T05:50:40.777Z"
   },
   {
    "duration": 9,
    "start_time": "2023-06-09T05:50:40.790Z"
   },
   {
    "duration": 10,
    "start_time": "2023-06-09T05:50:40.801Z"
   },
   {
    "duration": 8,
    "start_time": "2023-06-09T05:50:40.813Z"
   },
   {
    "duration": 18,
    "start_time": "2023-06-09T05:50:40.823Z"
   },
   {
    "duration": 9,
    "start_time": "2023-06-09T05:50:40.843Z"
   },
   {
    "duration": 14,
    "start_time": "2023-06-09T05:50:40.853Z"
   },
   {
    "duration": 6,
    "start_time": "2023-06-09T05:50:40.869Z"
   },
   {
    "duration": 7,
    "start_time": "2023-06-09T05:50:40.877Z"
   },
   {
    "duration": 10,
    "start_time": "2023-06-09T05:50:40.886Z"
   },
   {
    "duration": 9,
    "start_time": "2023-06-09T05:50:40.900Z"
   },
   {
    "duration": 7,
    "start_time": "2023-06-09T05:50:40.911Z"
   },
   {
    "duration": 11,
    "start_time": "2023-06-09T05:50:40.920Z"
   },
   {
    "duration": 21,
    "start_time": "2023-06-09T05:50:40.932Z"
   },
   {
    "duration": 4,
    "start_time": "2023-06-09T05:50:40.954Z"
   },
   {
    "duration": 15,
    "start_time": "2023-06-09T05:50:40.960Z"
   },
   {
    "duration": 185,
    "start_time": "2023-06-09T05:50:40.976Z"
   },
   {
    "duration": 182,
    "start_time": "2023-06-09T05:50:41.163Z"
   },
   {
    "duration": 214,
    "start_time": "2023-06-09T05:50:41.347Z"
   },
   {
    "duration": 181,
    "start_time": "2023-06-09T05:50:41.563Z"
   },
   {
    "duration": 186,
    "start_time": "2023-06-09T05:50:41.746Z"
   },
   {
    "duration": 166,
    "start_time": "2023-06-09T05:50:41.934Z"
   },
   {
    "duration": 200,
    "start_time": "2023-06-09T05:50:42.102Z"
   },
   {
    "duration": 272,
    "start_time": "2023-06-09T05:50:42.305Z"
   },
   {
    "duration": 299,
    "start_time": "2023-06-09T05:50:42.579Z"
   },
   {
    "duration": 16,
    "start_time": "2023-06-09T05:50:42.880Z"
   },
   {
    "duration": 6,
    "start_time": "2023-06-09T05:50:42.898Z"
   },
   {
    "duration": 22,
    "start_time": "2023-06-09T05:50:42.905Z"
   },
   {
    "duration": 1685,
    "start_time": "2023-06-09T05:50:42.947Z"
   },
   {
    "duration": 505,
    "start_time": "2023-06-09T05:50:44.634Z"
   },
   {
    "duration": 487,
    "start_time": "2023-06-09T05:50:45.141Z"
   },
   {
    "duration": 34,
    "start_time": "2023-06-09T05:50:45.630Z"
   },
   {
    "duration": 317,
    "start_time": "2023-06-09T05:50:45.666Z"
   },
   {
    "duration": 4,
    "start_time": "2023-06-09T05:50:45.985Z"
   },
   {
    "duration": 650,
    "start_time": "2023-06-09T05:50:45.991Z"
   },
   {
    "duration": 981,
    "start_time": "2023-06-09T05:50:46.643Z"
   },
   {
    "duration": 2177,
    "start_time": "2023-06-09T05:50:47.626Z"
   },
   {
    "duration": 156,
    "start_time": "2023-06-09T05:50:49.805Z"
   },
   {
    "duration": 0,
    "start_time": "2023-06-09T05:50:49.963Z"
   },
   {
    "duration": 0,
    "start_time": "2023-06-09T05:50:49.965Z"
   },
   {
    "duration": 0,
    "start_time": "2023-06-09T05:50:49.966Z"
   },
   {
    "duration": 0,
    "start_time": "2023-06-09T05:50:49.967Z"
   },
   {
    "duration": 0,
    "start_time": "2023-06-09T05:50:49.968Z"
   },
   {
    "duration": 0,
    "start_time": "2023-06-09T05:50:49.969Z"
   },
   {
    "duration": 1,
    "start_time": "2023-06-09T05:50:49.970Z"
   },
   {
    "duration": 1,
    "start_time": "2023-06-09T05:50:49.971Z"
   },
   {
    "duration": 0,
    "start_time": "2023-06-09T05:50:50.095Z"
   },
   {
    "duration": 0,
    "start_time": "2023-06-09T05:50:50.096Z"
   },
   {
    "duration": 0,
    "start_time": "2023-06-09T05:50:50.098Z"
   },
   {
    "duration": 0,
    "start_time": "2023-06-09T05:50:50.099Z"
   },
   {
    "duration": 0,
    "start_time": "2023-06-09T05:50:50.100Z"
   },
   {
    "duration": 0,
    "start_time": "2023-06-09T05:50:50.101Z"
   },
   {
    "duration": 0,
    "start_time": "2023-06-09T05:50:50.102Z"
   },
   {
    "duration": 0,
    "start_time": "2023-06-09T05:50:50.103Z"
   },
   {
    "duration": 0,
    "start_time": "2023-06-09T05:50:50.105Z"
   },
   {
    "duration": 0,
    "start_time": "2023-06-09T05:50:50.105Z"
   },
   {
    "duration": 0,
    "start_time": "2023-06-09T05:50:50.107Z"
   },
   {
    "duration": 41,
    "start_time": "2023-06-09T05:51:22.267Z"
   },
   {
    "duration": 10,
    "start_time": "2023-06-09T05:53:58.498Z"
   },
   {
    "duration": 31,
    "start_time": "2023-06-09T05:54:59.261Z"
   },
   {
    "duration": 10,
    "start_time": "2023-06-09T05:55:06.789Z"
   },
   {
    "duration": 10,
    "start_time": "2023-06-09T05:55:47.149Z"
   },
   {
    "duration": 9,
    "start_time": "2023-06-09T05:57:18.926Z"
   },
   {
    "duration": 9,
    "start_time": "2023-06-09T05:57:36.176Z"
   },
   {
    "duration": 8,
    "start_time": "2023-06-09T05:58:34.906Z"
   },
   {
    "duration": 9,
    "start_time": "2023-06-09T05:58:35.748Z"
   },
   {
    "duration": 8,
    "start_time": "2023-06-09T05:58:36.583Z"
   },
   {
    "duration": 8,
    "start_time": "2023-06-09T05:58:37.433Z"
   },
   {
    "duration": 8,
    "start_time": "2023-06-09T05:58:38.217Z"
   },
   {
    "duration": 15,
    "start_time": "2023-06-09T06:05:29.264Z"
   },
   {
    "duration": 2486,
    "start_time": "2023-06-09T06:07:21.930Z"
   },
   {
    "duration": 1516,
    "start_time": "2023-06-09T06:07:24.419Z"
   },
   {
    "duration": 11,
    "start_time": "2023-06-09T06:07:25.937Z"
   },
   {
    "duration": 1053,
    "start_time": "2023-06-09T06:07:25.951Z"
   },
   {
    "duration": 18,
    "start_time": "2023-06-09T06:07:27.006Z"
   },
   {
    "duration": 47,
    "start_time": "2023-06-09T06:07:27.026Z"
   },
   {
    "duration": 75,
    "start_time": "2023-06-09T06:07:27.075Z"
   },
   {
    "duration": 142,
    "start_time": "2023-06-09T06:07:27.152Z"
   },
   {
    "duration": 14,
    "start_time": "2023-06-09T06:07:27.296Z"
   },
   {
    "duration": 92,
    "start_time": "2023-06-09T06:07:27.314Z"
   },
   {
    "duration": 156,
    "start_time": "2023-06-09T06:07:27.408Z"
   },
   {
    "duration": 135,
    "start_time": "2023-06-09T06:07:27.565Z"
   },
   {
    "duration": 128,
    "start_time": "2023-06-09T06:07:27.702Z"
   },
   {
    "duration": 220,
    "start_time": "2023-06-09T06:07:27.832Z"
   },
   {
    "duration": 11,
    "start_time": "2023-06-09T06:07:28.054Z"
   },
   {
    "duration": 16,
    "start_time": "2023-06-09T06:07:28.067Z"
   },
   {
    "duration": 40,
    "start_time": "2023-06-09T06:07:28.085Z"
   },
   {
    "duration": 7,
    "start_time": "2023-06-09T06:07:28.127Z"
   },
   {
    "duration": 27,
    "start_time": "2023-06-09T06:07:28.136Z"
   },
   {
    "duration": 23,
    "start_time": "2023-06-09T06:07:28.165Z"
   },
   {
    "duration": 15,
    "start_time": "2023-06-09T06:07:28.190Z"
   },
   {
    "duration": 7,
    "start_time": "2023-06-09T06:07:28.207Z"
   },
   {
    "duration": 11,
    "start_time": "2023-06-09T06:07:28.216Z"
   },
   {
    "duration": 16,
    "start_time": "2023-06-09T06:07:28.228Z"
   },
   {
    "duration": 12,
    "start_time": "2023-06-09T06:07:28.245Z"
   },
   {
    "duration": 14,
    "start_time": "2023-06-09T06:07:28.258Z"
   },
   {
    "duration": 50,
    "start_time": "2023-06-09T06:07:28.274Z"
   },
   {
    "duration": 24,
    "start_time": "2023-06-09T06:07:28.330Z"
   },
   {
    "duration": 29,
    "start_time": "2023-06-09T06:07:28.356Z"
   },
   {
    "duration": 37,
    "start_time": "2023-06-09T06:07:28.387Z"
   },
   {
    "duration": 34,
    "start_time": "2023-06-09T06:07:28.426Z"
   },
   {
    "duration": 35,
    "start_time": "2023-06-09T06:07:28.462Z"
   },
   {
    "duration": 28,
    "start_time": "2023-06-09T06:07:28.499Z"
   },
   {
    "duration": 196,
    "start_time": "2023-06-09T06:07:28.529Z"
   },
   {
    "duration": 196,
    "start_time": "2023-06-09T06:07:28.727Z"
   },
   {
    "duration": 223,
    "start_time": "2023-06-09T06:07:28.925Z"
   },
   {
    "duration": 184,
    "start_time": "2023-06-09T06:07:29.150Z"
   },
   {
    "duration": 185,
    "start_time": "2023-06-09T06:07:29.336Z"
   },
   {
    "duration": 173,
    "start_time": "2023-06-09T06:07:29.523Z"
   },
   {
    "duration": 201,
    "start_time": "2023-06-09T06:07:29.698Z"
   },
   {
    "duration": 184,
    "start_time": "2023-06-09T06:07:29.901Z"
   },
   {
    "duration": 299,
    "start_time": "2023-06-09T06:07:30.086Z"
   },
   {
    "duration": 20,
    "start_time": "2023-06-09T06:07:30.387Z"
   },
   {
    "duration": 24,
    "start_time": "2023-06-09T06:07:30.410Z"
   },
   {
    "duration": 72,
    "start_time": "2023-06-09T06:07:30.437Z"
   },
   {
    "duration": 1677,
    "start_time": "2023-06-09T06:07:30.511Z"
   },
   {
    "duration": 586,
    "start_time": "2023-06-09T06:07:32.191Z"
   },
   {
    "duration": 499,
    "start_time": "2023-06-09T06:07:32.780Z"
   },
   {
    "duration": 28,
    "start_time": "2023-06-09T06:07:33.281Z"
   },
   {
    "duration": 358,
    "start_time": "2023-06-09T06:07:33.311Z"
   },
   {
    "duration": 4,
    "start_time": "2023-06-09T06:07:33.671Z"
   },
   {
    "duration": 693,
    "start_time": "2023-06-09T06:07:33.677Z"
   },
   {
    "duration": 1034,
    "start_time": "2023-06-09T06:07:34.372Z"
   },
   {
    "duration": 2171,
    "start_time": "2023-06-09T06:07:35.407Z"
   },
   {
    "duration": 13,
    "start_time": "2023-06-09T06:07:37.580Z"
   },
   {
    "duration": 21,
    "start_time": "2023-06-09T06:07:37.595Z"
   },
   {
    "duration": 14,
    "start_time": "2023-06-09T06:07:37.618Z"
   },
   {
    "duration": 12,
    "start_time": "2023-06-09T06:07:37.647Z"
   },
   {
    "duration": 29,
    "start_time": "2023-06-09T06:07:37.661Z"
   },
   {
    "duration": 12,
    "start_time": "2023-06-09T06:07:37.692Z"
   },
   {
    "duration": 24,
    "start_time": "2023-06-09T06:07:37.706Z"
   },
   {
    "duration": 24,
    "start_time": "2023-06-09T06:07:37.732Z"
   },
   {
    "duration": 16,
    "start_time": "2023-06-09T06:07:37.759Z"
   },
   {
    "duration": 257,
    "start_time": "2023-06-09T06:07:37.778Z"
   },
   {
    "duration": 0,
    "start_time": "2023-06-09T06:07:38.037Z"
   },
   {
    "duration": 0,
    "start_time": "2023-06-09T06:07:38.045Z"
   },
   {
    "duration": 0,
    "start_time": "2023-06-09T06:07:38.047Z"
   },
   {
    "duration": 0,
    "start_time": "2023-06-09T06:07:38.048Z"
   },
   {
    "duration": 0,
    "start_time": "2023-06-09T06:07:38.049Z"
   },
   {
    "duration": 0,
    "start_time": "2023-06-09T06:07:38.052Z"
   },
   {
    "duration": 0,
    "start_time": "2023-06-09T06:07:38.053Z"
   },
   {
    "duration": 0,
    "start_time": "2023-06-09T06:07:38.054Z"
   },
   {
    "duration": 0,
    "start_time": "2023-06-09T06:07:38.056Z"
   },
   {
    "duration": 0,
    "start_time": "2023-06-09T06:07:38.058Z"
   },
   {
    "duration": 0,
    "start_time": "2023-06-09T06:07:38.059Z"
   },
   {
    "duration": 16,
    "start_time": "2023-06-09T06:16:52.285Z"
   },
   {
    "duration": 15,
    "start_time": "2023-06-09T06:18:01.110Z"
   },
   {
    "duration": 5,
    "start_time": "2023-06-09T06:23:10.770Z"
   },
   {
    "duration": 10,
    "start_time": "2023-06-09T06:28:32.547Z"
   },
   {
    "duration": 9,
    "start_time": "2023-06-09T06:28:40.257Z"
   },
   {
    "duration": 8,
    "start_time": "2023-06-09T06:28:45.971Z"
   },
   {
    "duration": 10,
    "start_time": "2023-06-09T06:28:53.055Z"
   },
   {
    "duration": 8,
    "start_time": "2023-06-09T06:28:58.905Z"
   },
   {
    "duration": 8,
    "start_time": "2023-06-09T06:29:08.263Z"
   },
   {
    "duration": 6,
    "start_time": "2023-06-09T06:52:04.916Z"
   },
   {
    "duration": 18,
    "start_time": "2023-06-09T06:52:25.009Z"
   },
   {
    "duration": 6,
    "start_time": "2023-06-09T06:53:20.739Z"
   },
   {
    "duration": 19,
    "start_time": "2023-06-09T06:53:22.128Z"
   },
   {
    "duration": 8,
    "start_time": "2023-06-09T06:56:28.332Z"
   },
   {
    "duration": 9,
    "start_time": "2023-06-09T06:56:57.400Z"
   },
   {
    "duration": 20,
    "start_time": "2023-06-09T06:57:00.850Z"
   },
   {
    "duration": 8,
    "start_time": "2023-06-09T06:58:04.765Z"
   },
   {
    "duration": 6,
    "start_time": "2023-06-09T06:58:21.062Z"
   },
   {
    "duration": 19,
    "start_time": "2023-06-09T06:58:25.272Z"
   },
   {
    "duration": 6,
    "start_time": "2023-06-09T06:59:01.457Z"
   },
   {
    "duration": 9,
    "start_time": "2023-06-09T06:59:02.136Z"
   },
   {
    "duration": 12,
    "start_time": "2023-06-09T06:59:56.081Z"
   },
   {
    "duration": 12,
    "start_time": "2023-06-09T07:02:30.894Z"
   },
   {
    "duration": 11,
    "start_time": "2023-06-09T07:02:47.245Z"
   },
   {
    "duration": 9,
    "start_time": "2023-06-09T07:05:30.539Z"
   },
   {
    "duration": 12,
    "start_time": "2023-06-09T07:06:04.245Z"
   },
   {
    "duration": 814,
    "start_time": "2023-06-09T07:20:48.682Z"
   },
   {
    "duration": 1054,
    "start_time": "2023-06-09T07:21:03.323Z"
   },
   {
    "duration": 6,
    "start_time": "2023-06-09T07:22:15.849Z"
   },
   {
    "duration": 1054,
    "start_time": "2023-06-09T07:22:37.868Z"
   },
   {
    "duration": 1078,
    "start_time": "2023-06-09T07:22:48.360Z"
   },
   {
    "duration": 1066,
    "start_time": "2023-06-09T07:24:21.308Z"
   },
   {
    "duration": 1121,
    "start_time": "2023-06-09T07:26:33.769Z"
   },
   {
    "duration": 1171,
    "start_time": "2023-06-09T07:27:06.969Z"
   },
   {
    "duration": 1117,
    "start_time": "2023-06-09T07:27:24.969Z"
   },
   {
    "duration": 1124,
    "start_time": "2023-06-09T07:27:34.909Z"
   },
   {
    "duration": 1146,
    "start_time": "2023-06-09T07:28:31.237Z"
   },
   {
    "duration": 1212,
    "start_time": "2023-06-09T07:31:06.863Z"
   },
   {
    "duration": 1282,
    "start_time": "2023-06-09T07:31:18.710Z"
   },
   {
    "duration": 16,
    "start_time": "2023-06-09T07:50:49.846Z"
   },
   {
    "duration": 7,
    "start_time": "2023-06-09T07:51:19.335Z"
   },
   {
    "duration": 10,
    "start_time": "2023-06-09T08:06:16.171Z"
   },
   {
    "duration": 15,
    "start_time": "2023-06-09T08:06:20.490Z"
   },
   {
    "duration": 18,
    "start_time": "2023-06-09T08:55:35.241Z"
   },
   {
    "duration": 17,
    "start_time": "2023-06-09T08:56:05.317Z"
   },
   {
    "duration": 94,
    "start_time": "2023-06-09T12:02:13.651Z"
   },
   {
    "duration": 6028,
    "start_time": "2023-06-09T12:02:32.816Z"
   },
   {
    "duration": 2857,
    "start_time": "2023-06-09T12:02:38.847Z"
   },
   {
    "duration": 22,
    "start_time": "2023-06-09T12:02:41.712Z"
   },
   {
    "duration": 9247,
    "start_time": "2023-06-09T12:02:41.737Z"
   },
   {
    "duration": 46,
    "start_time": "2023-06-09T12:02:50.990Z"
   },
   {
    "duration": 15,
    "start_time": "2023-06-09T12:02:51.040Z"
   },
   {
    "duration": 44,
    "start_time": "2023-06-09T12:02:51.056Z"
   },
   {
    "duration": 159,
    "start_time": "2023-06-09T12:02:51.102Z"
   },
   {
    "duration": 29,
    "start_time": "2023-06-09T12:02:51.262Z"
   },
   {
    "duration": 15,
    "start_time": "2023-06-09T12:02:51.295Z"
   },
   {
    "duration": 145,
    "start_time": "2023-06-09T12:02:51.312Z"
   },
   {
    "duration": 227,
    "start_time": "2023-06-09T12:02:51.459Z"
   },
   {
    "duration": 159,
    "start_time": "2023-06-09T12:02:51.688Z"
   },
   {
    "duration": 143,
    "start_time": "2023-06-09T12:02:51.851Z"
   },
   {
    "duration": 17,
    "start_time": "2023-06-09T12:02:51.999Z"
   },
   {
    "duration": 9,
    "start_time": "2023-06-09T12:02:52.022Z"
   },
   {
    "duration": 14,
    "start_time": "2023-06-09T12:02:52.036Z"
   },
   {
    "duration": 6,
    "start_time": "2023-06-09T12:02:52.052Z"
   },
   {
    "duration": 42,
    "start_time": "2023-06-09T12:02:52.059Z"
   },
   {
    "duration": 14,
    "start_time": "2023-06-09T12:02:52.103Z"
   },
   {
    "duration": 16,
    "start_time": "2023-06-09T12:02:52.119Z"
   },
   {
    "duration": 14,
    "start_time": "2023-06-09T12:02:52.138Z"
   },
   {
    "duration": 12,
    "start_time": "2023-06-09T12:02:52.155Z"
   },
   {
    "duration": 32,
    "start_time": "2023-06-09T12:02:52.168Z"
   },
   {
    "duration": 6,
    "start_time": "2023-06-09T12:02:52.214Z"
   },
   {
    "duration": 18,
    "start_time": "2023-06-09T12:02:52.224Z"
   },
   {
    "duration": 9,
    "start_time": "2023-06-09T12:02:52.245Z"
   },
   {
    "duration": 8,
    "start_time": "2023-06-09T12:02:52.257Z"
   },
   {
    "duration": 6,
    "start_time": "2023-06-09T12:02:52.266Z"
   },
   {
    "duration": 19,
    "start_time": "2023-06-09T12:02:52.273Z"
   },
   {
    "duration": 26,
    "start_time": "2023-06-09T12:02:52.294Z"
   },
   {
    "duration": 9,
    "start_time": "2023-06-09T12:02:52.322Z"
   },
   {
    "duration": 14,
    "start_time": "2023-06-09T12:02:52.333Z"
   },
   {
    "duration": 216,
    "start_time": "2023-06-09T12:02:52.349Z"
   },
   {
    "duration": 203,
    "start_time": "2023-06-09T12:02:52.567Z"
   },
   {
    "duration": 245,
    "start_time": "2023-06-09T12:02:52.774Z"
   },
   {
    "duration": 201,
    "start_time": "2023-06-09T12:02:53.020Z"
   },
   {
    "duration": 205,
    "start_time": "2023-06-09T12:02:53.222Z"
   },
   {
    "duration": 178,
    "start_time": "2023-06-09T12:02:53.429Z"
   },
   {
    "duration": 234,
    "start_time": "2023-06-09T12:02:53.609Z"
   },
   {
    "duration": 216,
    "start_time": "2023-06-09T12:02:53.845Z"
   },
   {
    "duration": 402,
    "start_time": "2023-06-09T12:02:54.062Z"
   },
   {
    "duration": 32,
    "start_time": "2023-06-09T12:02:54.466Z"
   },
   {
    "duration": 6,
    "start_time": "2023-06-09T12:02:54.500Z"
   },
   {
    "duration": 25,
    "start_time": "2023-06-09T12:02:54.508Z"
   },
   {
    "duration": 2072,
    "start_time": "2023-06-09T12:02:54.535Z"
   },
   {
    "duration": 554,
    "start_time": "2023-06-09T12:02:56.609Z"
   },
   {
    "duration": 637,
    "start_time": "2023-06-09T12:02:57.165Z"
   },
   {
    "duration": 40,
    "start_time": "2023-06-09T12:02:57.803Z"
   },
   {
    "duration": 395,
    "start_time": "2023-06-09T12:02:57.845Z"
   },
   {
    "duration": 10,
    "start_time": "2023-06-09T12:02:58.241Z"
   },
   {
    "duration": 1159,
    "start_time": "2023-06-09T12:02:58.253Z"
   },
   {
    "duration": 17,
    "start_time": "2023-06-09T12:02:59.427Z"
   },
   {
    "duration": 9,
    "start_time": "2023-06-09T12:02:59.446Z"
   },
   {
    "duration": 9,
    "start_time": "2023-06-09T12:02:59.456Z"
   },
   {
    "duration": 15,
    "start_time": "2023-06-09T12:02:59.466Z"
   },
   {
    "duration": 11,
    "start_time": "2023-06-09T12:02:59.484Z"
   },
   {
    "duration": 9,
    "start_time": "2023-06-09T12:02:59.497Z"
   },
   {
    "duration": 9,
    "start_time": "2023-06-09T12:02:59.509Z"
   },
   {
    "duration": 9,
    "start_time": "2023-06-09T12:02:59.525Z"
   },
   {
    "duration": 14,
    "start_time": "2023-06-09T12:02:59.536Z"
   },
   {
    "duration": 8,
    "start_time": "2023-06-09T12:02:59.551Z"
   },
   {
    "duration": 19,
    "start_time": "2023-06-09T12:02:59.574Z"
   },
   {
    "duration": 14,
    "start_time": "2023-06-09T12:02:59.595Z"
   },
   {
    "duration": 23,
    "start_time": "2023-06-09T12:02:59.611Z"
   },
   {
    "duration": 11,
    "start_time": "2023-06-09T12:02:59.637Z"
   },
   {
    "duration": 13,
    "start_time": "2023-06-09T12:02:59.650Z"
   },
   {
    "duration": 13,
    "start_time": "2023-06-09T12:02:59.665Z"
   },
   {
    "duration": 23,
    "start_time": "2023-06-09T12:02:59.680Z"
   },
   {
    "duration": 29,
    "start_time": "2023-06-09T12:02:59.705Z"
   },
   {
    "duration": 16,
    "start_time": "2023-06-09T12:02:59.736Z"
   },
   {
    "duration": 16,
    "start_time": "2023-06-09T12:02:59.753Z"
   },
   {
    "duration": 123,
    "start_time": "2023-06-09T12:02:59.775Z"
   },
   {
    "duration": 2797,
    "start_time": "2023-06-09T12:21:30.600Z"
   },
   {
    "duration": 1852,
    "start_time": "2023-06-09T12:21:33.399Z"
   },
   {
    "duration": 12,
    "start_time": "2023-06-09T12:21:35.252Z"
   },
   {
    "duration": 1272,
    "start_time": "2023-06-09T12:21:35.266Z"
   },
   {
    "duration": 16,
    "start_time": "2023-06-09T12:21:36.540Z"
   },
   {
    "duration": 11,
    "start_time": "2023-06-09T12:21:36.557Z"
   },
   {
    "duration": 48,
    "start_time": "2023-06-09T12:21:36.570Z"
   },
   {
    "duration": 141,
    "start_time": "2023-06-09T12:21:36.620Z"
   },
   {
    "duration": 41,
    "start_time": "2023-06-09T12:21:36.762Z"
   },
   {
    "duration": 4,
    "start_time": "2023-06-09T12:21:36.806Z"
   },
   {
    "duration": 135,
    "start_time": "2023-06-09T12:21:36.814Z"
   },
   {
    "duration": 143,
    "start_time": "2023-06-09T12:21:36.950Z"
   },
   {
    "duration": 138,
    "start_time": "2023-06-09T12:21:37.095Z"
   },
   {
    "duration": 220,
    "start_time": "2023-06-09T12:21:37.236Z"
   },
   {
    "duration": 10,
    "start_time": "2023-06-09T12:21:37.457Z"
   },
   {
    "duration": 18,
    "start_time": "2023-06-09T12:21:37.469Z"
   },
   {
    "duration": 14,
    "start_time": "2023-06-09T12:21:37.489Z"
   },
   {
    "duration": 10,
    "start_time": "2023-06-09T12:21:37.505Z"
   },
   {
    "duration": 16,
    "start_time": "2023-06-09T12:21:37.517Z"
   },
   {
    "duration": 5,
    "start_time": "2023-06-09T12:21:37.535Z"
   },
   {
    "duration": 8,
    "start_time": "2023-06-09T12:21:37.541Z"
   },
   {
    "duration": 10,
    "start_time": "2023-06-09T12:21:37.551Z"
   },
   {
    "duration": 5,
    "start_time": "2023-06-09T12:21:37.563Z"
   },
   {
    "duration": 13,
    "start_time": "2023-06-09T12:21:37.569Z"
   },
   {
    "duration": 10,
    "start_time": "2023-06-09T12:21:37.584Z"
   },
   {
    "duration": 5,
    "start_time": "2023-06-09T12:21:37.596Z"
   },
   {
    "duration": 7,
    "start_time": "2023-06-09T12:21:37.603Z"
   },
   {
    "duration": 3,
    "start_time": "2023-06-09T12:21:37.612Z"
   },
   {
    "duration": 4,
    "start_time": "2023-06-09T12:21:37.617Z"
   },
   {
    "duration": 4,
    "start_time": "2023-06-09T12:21:37.623Z"
   },
   {
    "duration": 45,
    "start_time": "2023-06-09T12:21:37.632Z"
   },
   {
    "duration": 8,
    "start_time": "2023-06-09T12:21:37.679Z"
   },
   {
    "duration": 6,
    "start_time": "2023-06-09T12:21:37.689Z"
   },
   {
    "duration": 225,
    "start_time": "2023-06-09T12:21:37.696Z"
   },
   {
    "duration": 206,
    "start_time": "2023-06-09T12:21:37.923Z"
   },
   {
    "duration": 233,
    "start_time": "2023-06-09T12:21:38.131Z"
   },
   {
    "duration": 196,
    "start_time": "2023-06-09T12:21:38.365Z"
   },
   {
    "duration": 221,
    "start_time": "2023-06-09T12:21:38.563Z"
   },
   {
    "duration": 235,
    "start_time": "2023-06-09T12:21:38.786Z"
   },
   {
    "duration": 237,
    "start_time": "2023-06-09T12:21:39.022Z"
   },
   {
    "duration": 193,
    "start_time": "2023-06-09T12:21:39.263Z"
   },
   {
    "duration": 351,
    "start_time": "2023-06-09T12:21:39.458Z"
   },
   {
    "duration": 22,
    "start_time": "2023-06-09T12:21:39.810Z"
   },
   {
    "duration": 4,
    "start_time": "2023-06-09T12:21:39.834Z"
   },
   {
    "duration": 21,
    "start_time": "2023-06-09T12:21:39.840Z"
   },
   {
    "duration": 1943,
    "start_time": "2023-06-09T12:21:39.862Z"
   },
   {
    "duration": 536,
    "start_time": "2023-06-09T12:21:41.811Z"
   },
   {
    "duration": 573,
    "start_time": "2023-06-09T12:21:42.348Z"
   },
   {
    "duration": 46,
    "start_time": "2023-06-09T12:21:42.923Z"
   },
   {
    "duration": 396,
    "start_time": "2023-06-09T12:21:42.971Z"
   },
   {
    "duration": 10,
    "start_time": "2023-06-09T12:21:43.377Z"
   },
   {
    "duration": 1247,
    "start_time": "2023-06-09T12:21:43.389Z"
   },
   {
    "duration": 9,
    "start_time": "2023-06-09T12:21:44.638Z"
   },
   {
    "duration": 9,
    "start_time": "2023-06-09T12:21:44.648Z"
   },
   {
    "duration": 44,
    "start_time": "2023-06-09T12:21:44.658Z"
   },
   {
    "duration": 20,
    "start_time": "2023-06-09T12:21:44.704Z"
   },
   {
    "duration": 9,
    "start_time": "2023-06-09T12:21:44.728Z"
   },
   {
    "duration": 6,
    "start_time": "2023-06-09T12:21:44.739Z"
   },
   {
    "duration": 6,
    "start_time": "2023-06-09T12:21:44.746Z"
   },
   {
    "duration": 33,
    "start_time": "2023-06-09T12:21:44.754Z"
   },
   {
    "duration": 8,
    "start_time": "2023-06-09T12:21:44.789Z"
   },
   {
    "duration": 26,
    "start_time": "2023-06-09T12:21:44.799Z"
   },
   {
    "duration": 13,
    "start_time": "2023-06-09T12:21:44.827Z"
   },
   {
    "duration": 13,
    "start_time": "2023-06-09T12:21:44.842Z"
   },
   {
    "duration": 8,
    "start_time": "2023-06-09T12:21:44.857Z"
   },
   {
    "duration": 19,
    "start_time": "2023-06-09T12:21:44.866Z"
   },
   {
    "duration": 18,
    "start_time": "2023-06-09T12:21:44.888Z"
   },
   {
    "duration": 9,
    "start_time": "2023-06-09T12:21:44.908Z"
   },
   {
    "duration": 21,
    "start_time": "2023-06-09T12:21:44.919Z"
   },
   {
    "duration": 50,
    "start_time": "2023-06-09T12:21:44.942Z"
   },
   {
    "duration": 18,
    "start_time": "2023-06-09T12:21:44.994Z"
   },
   {
    "duration": 19,
    "start_time": "2023-06-09T12:21:45.015Z"
   },
   {
    "duration": 102,
    "start_time": "2023-06-09T12:21:45.036Z"
   },
   {
    "duration": 2731,
    "start_time": "2023-06-09T12:27:31.849Z"
   },
   {
    "duration": 1664,
    "start_time": "2023-06-09T12:27:34.588Z"
   },
   {
    "duration": 16,
    "start_time": "2023-06-09T12:27:36.254Z"
   },
   {
    "duration": 1561,
    "start_time": "2023-06-09T12:27:36.272Z"
   },
   {
    "duration": 16,
    "start_time": "2023-06-09T12:27:37.834Z"
   },
   {
    "duration": 12,
    "start_time": "2023-06-09T12:27:37.852Z"
   },
   {
    "duration": 50,
    "start_time": "2023-06-09T12:27:37.865Z"
   },
   {
    "duration": 151,
    "start_time": "2023-06-09T12:27:37.916Z"
   },
   {
    "duration": 22,
    "start_time": "2023-06-09T12:27:38.069Z"
   },
   {
    "duration": 6,
    "start_time": "2023-06-09T12:27:38.096Z"
   },
   {
    "duration": 137,
    "start_time": "2023-06-09T12:27:38.107Z"
   },
   {
    "duration": 153,
    "start_time": "2023-06-09T12:27:38.246Z"
   },
   {
    "duration": 136,
    "start_time": "2023-06-09T12:27:38.400Z"
   },
   {
    "duration": 203,
    "start_time": "2023-06-09T12:27:38.538Z"
   },
   {
    "duration": 10,
    "start_time": "2023-06-09T12:27:38.743Z"
   },
   {
    "duration": 6,
    "start_time": "2023-06-09T12:27:38.754Z"
   },
   {
    "duration": 25,
    "start_time": "2023-06-09T12:27:38.761Z"
   },
   {
    "duration": 7,
    "start_time": "2023-06-09T12:27:38.787Z"
   },
   {
    "duration": 20,
    "start_time": "2023-06-09T12:27:38.795Z"
   },
   {
    "duration": 15,
    "start_time": "2023-06-09T12:27:38.818Z"
   },
   {
    "duration": 4,
    "start_time": "2023-06-09T12:27:38.835Z"
   },
   {
    "duration": 12,
    "start_time": "2023-06-09T12:27:38.841Z"
   },
   {
    "duration": 5,
    "start_time": "2023-06-09T12:27:38.855Z"
   },
   {
    "duration": 25,
    "start_time": "2023-06-09T12:27:38.861Z"
   },
   {
    "duration": 11,
    "start_time": "2023-06-09T12:27:38.891Z"
   },
   {
    "duration": 18,
    "start_time": "2023-06-09T12:27:38.903Z"
   },
   {
    "duration": 8,
    "start_time": "2023-06-09T12:27:38.922Z"
   },
   {
    "duration": 4,
    "start_time": "2023-06-09T12:27:38.935Z"
   },
   {
    "duration": 4,
    "start_time": "2023-06-09T12:27:38.941Z"
   },
   {
    "duration": 5,
    "start_time": "2023-06-09T12:27:38.946Z"
   },
   {
    "duration": 12,
    "start_time": "2023-06-09T12:27:38.952Z"
   },
   {
    "duration": 5,
    "start_time": "2023-06-09T12:27:38.966Z"
   },
   {
    "duration": 18,
    "start_time": "2023-06-09T12:27:38.978Z"
   },
   {
    "duration": 193,
    "start_time": "2023-06-09T12:27:39.003Z"
   },
   {
    "duration": 202,
    "start_time": "2023-06-09T12:27:39.198Z"
   },
   {
    "duration": 251,
    "start_time": "2023-06-09T12:27:39.406Z"
   },
   {
    "duration": 203,
    "start_time": "2023-06-09T12:27:39.660Z"
   },
   {
    "duration": 197,
    "start_time": "2023-06-09T12:27:39.865Z"
   },
   {
    "duration": 203,
    "start_time": "2023-06-09T12:27:40.063Z"
   },
   {
    "duration": 230,
    "start_time": "2023-06-09T12:27:40.268Z"
   },
   {
    "duration": 188,
    "start_time": "2023-06-09T12:27:40.501Z"
   },
   {
    "duration": 322,
    "start_time": "2023-06-09T12:27:40.694Z"
   },
   {
    "duration": 19,
    "start_time": "2023-06-09T12:27:41.022Z"
   },
   {
    "duration": 5,
    "start_time": "2023-06-09T12:27:41.042Z"
   },
   {
    "duration": 16,
    "start_time": "2023-06-09T12:27:41.049Z"
   },
   {
    "duration": 1858,
    "start_time": "2023-06-09T12:27:41.067Z"
   },
   {
    "duration": 529,
    "start_time": "2023-06-09T12:27:42.928Z"
   },
   {
    "duration": 514,
    "start_time": "2023-06-09T12:27:43.459Z"
   },
   {
    "duration": 38,
    "start_time": "2023-06-09T12:27:43.975Z"
   },
   {
    "duration": 383,
    "start_time": "2023-06-09T12:27:44.015Z"
   },
   {
    "duration": 12,
    "start_time": "2023-06-09T12:27:44.402Z"
   },
   {
    "duration": 1096,
    "start_time": "2023-06-09T12:27:44.419Z"
   },
   {
    "duration": 19,
    "start_time": "2023-06-09T12:27:45.520Z"
   },
   {
    "duration": 8,
    "start_time": "2023-06-09T12:27:45.540Z"
   },
   {
    "duration": 8,
    "start_time": "2023-06-09T12:27:45.549Z"
   },
   {
    "duration": 7,
    "start_time": "2023-06-09T12:27:45.558Z"
   },
   {
    "duration": 9,
    "start_time": "2023-06-09T12:27:45.566Z"
   },
   {
    "duration": 20,
    "start_time": "2023-06-09T12:27:45.576Z"
   },
   {
    "duration": 43,
    "start_time": "2023-06-09T12:27:45.598Z"
   },
   {
    "duration": 7,
    "start_time": "2023-06-09T12:27:45.643Z"
   },
   {
    "duration": 14,
    "start_time": "2023-06-09T12:27:45.651Z"
   },
   {
    "duration": 11,
    "start_time": "2023-06-09T12:27:45.666Z"
   },
   {
    "duration": 18,
    "start_time": "2023-06-09T12:27:45.679Z"
   },
   {
    "duration": 33,
    "start_time": "2023-06-09T12:27:45.698Z"
   },
   {
    "duration": 8,
    "start_time": "2023-06-09T12:27:45.732Z"
   },
   {
    "duration": 7,
    "start_time": "2023-06-09T12:27:45.742Z"
   },
   {
    "duration": 11,
    "start_time": "2023-06-09T12:27:45.751Z"
   },
   {
    "duration": 7,
    "start_time": "2023-06-09T12:27:45.763Z"
   },
   {
    "duration": 17,
    "start_time": "2023-06-09T12:27:45.771Z"
   },
   {
    "duration": 23,
    "start_time": "2023-06-09T12:27:45.789Z"
   },
   {
    "duration": 14,
    "start_time": "2023-06-09T12:27:45.820Z"
   },
   {
    "duration": 15,
    "start_time": "2023-06-09T12:27:45.835Z"
   },
   {
    "duration": 116,
    "start_time": "2023-06-09T12:27:45.852Z"
   },
   {
    "duration": 3285,
    "start_time": "2023-06-10T08:33:04.020Z"
   },
   {
    "duration": 1557,
    "start_time": "2023-06-10T08:33:07.307Z"
   },
   {
    "duration": 12,
    "start_time": "2023-06-10T08:33:08.865Z"
   },
   {
    "duration": 887,
    "start_time": "2023-06-10T08:33:08.879Z"
   },
   {
    "duration": 13,
    "start_time": "2023-06-10T08:33:09.768Z"
   },
   {
    "duration": 26,
    "start_time": "2023-06-10T08:33:09.782Z"
   },
   {
    "duration": 29,
    "start_time": "2023-06-10T08:33:09.809Z"
   },
   {
    "duration": 103,
    "start_time": "2023-06-10T08:33:09.839Z"
   },
   {
    "duration": 10,
    "start_time": "2023-06-10T08:33:09.944Z"
   },
   {
    "duration": 4,
    "start_time": "2023-06-10T08:33:09.955Z"
   },
   {
    "duration": 102,
    "start_time": "2023-06-10T08:33:09.960Z"
   },
   {
    "duration": 101,
    "start_time": "2023-06-10T08:33:10.064Z"
   },
   {
    "duration": 127,
    "start_time": "2023-06-10T08:33:10.167Z"
   },
   {
    "duration": 148,
    "start_time": "2023-06-10T08:33:10.301Z"
   },
   {
    "duration": 8,
    "start_time": "2023-06-10T08:33:10.451Z"
   },
   {
    "duration": 3,
    "start_time": "2023-06-10T08:33:10.461Z"
   },
   {
    "duration": 56,
    "start_time": "2023-06-10T08:33:10.466Z"
   },
   {
    "duration": 12,
    "start_time": "2023-06-10T08:33:10.524Z"
   },
   {
    "duration": 11,
    "start_time": "2023-06-10T08:33:10.537Z"
   },
   {
    "duration": 10,
    "start_time": "2023-06-10T08:33:10.549Z"
   },
   {
    "duration": 13,
    "start_time": "2023-06-10T08:33:10.560Z"
   },
   {
    "duration": 8,
    "start_time": "2023-06-10T08:33:10.574Z"
   },
   {
    "duration": 16,
    "start_time": "2023-06-10T08:33:10.583Z"
   },
   {
    "duration": 34,
    "start_time": "2023-06-10T08:33:10.600Z"
   },
   {
    "duration": 24,
    "start_time": "2023-06-10T08:33:10.635Z"
   },
   {
    "duration": 4,
    "start_time": "2023-06-10T08:33:10.661Z"
   },
   {
    "duration": 16,
    "start_time": "2023-06-10T08:33:10.666Z"
   },
   {
    "duration": 26,
    "start_time": "2023-06-10T08:33:10.683Z"
   },
   {
    "duration": 18,
    "start_time": "2023-06-10T08:33:10.710Z"
   },
   {
    "duration": 14,
    "start_time": "2023-06-10T08:33:10.730Z"
   },
   {
    "duration": 23,
    "start_time": "2023-06-10T08:33:10.746Z"
   },
   {
    "duration": 46,
    "start_time": "2023-06-10T08:33:10.771Z"
   },
   {
    "duration": 13,
    "start_time": "2023-06-10T08:33:10.819Z"
   },
   {
    "duration": 164,
    "start_time": "2023-06-10T08:33:10.833Z"
   },
   {
    "duration": 135,
    "start_time": "2023-06-10T08:33:10.998Z"
   },
   {
    "duration": 169,
    "start_time": "2023-06-10T08:33:11.135Z"
   },
   {
    "duration": 144,
    "start_time": "2023-06-10T08:33:11.305Z"
   },
   {
    "duration": 157,
    "start_time": "2023-06-10T08:33:11.451Z"
   },
   {
    "duration": 131,
    "start_time": "2023-06-10T08:33:11.610Z"
   },
   {
    "duration": 163,
    "start_time": "2023-06-10T08:33:11.742Z"
   },
   {
    "duration": 139,
    "start_time": "2023-06-10T08:33:11.910Z"
   },
   {
    "duration": 228,
    "start_time": "2023-06-10T08:33:12.051Z"
   },
   {
    "duration": 18,
    "start_time": "2023-06-10T08:33:12.281Z"
   },
   {
    "duration": 24,
    "start_time": "2023-06-10T08:33:12.300Z"
   },
   {
    "duration": 15,
    "start_time": "2023-06-10T08:33:12.325Z"
   },
   {
    "duration": 1405,
    "start_time": "2023-06-10T08:33:12.342Z"
   },
   {
    "duration": 412,
    "start_time": "2023-06-10T08:33:13.749Z"
   },
   {
    "duration": 455,
    "start_time": "2023-06-10T08:33:14.163Z"
   },
   {
    "duration": 27,
    "start_time": "2023-06-10T08:33:14.620Z"
   },
   {
    "duration": 331,
    "start_time": "2023-06-10T08:33:14.648Z"
   },
   {
    "duration": 14,
    "start_time": "2023-06-10T08:33:14.980Z"
   },
   {
    "duration": 801,
    "start_time": "2023-06-10T08:33:14.996Z"
   },
   {
    "duration": 9,
    "start_time": "2023-06-10T08:33:15.799Z"
   },
   {
    "duration": 21,
    "start_time": "2023-06-10T08:33:15.810Z"
   },
   {
    "duration": 7,
    "start_time": "2023-06-10T08:33:15.833Z"
   },
   {
    "duration": 12,
    "start_time": "2023-06-10T08:33:15.841Z"
   },
   {
    "duration": 6,
    "start_time": "2023-06-10T08:33:15.854Z"
   },
   {
    "duration": 8,
    "start_time": "2023-06-10T08:33:15.861Z"
   },
   {
    "duration": 21,
    "start_time": "2023-06-10T08:33:15.870Z"
   },
   {
    "duration": 10,
    "start_time": "2023-06-10T08:33:15.893Z"
   },
   {
    "duration": 8,
    "start_time": "2023-06-10T08:33:15.904Z"
   },
   {
    "duration": 12,
    "start_time": "2023-06-10T08:33:15.913Z"
   },
   {
    "duration": 7,
    "start_time": "2023-06-10T08:33:15.926Z"
   },
   {
    "duration": 8,
    "start_time": "2023-06-10T08:33:15.934Z"
   },
   {
    "duration": 8,
    "start_time": "2023-06-10T08:33:15.943Z"
   },
   {
    "duration": 7,
    "start_time": "2023-06-10T08:33:15.953Z"
   },
   {
    "duration": 36,
    "start_time": "2023-06-10T08:33:15.961Z"
   },
   {
    "duration": 7,
    "start_time": "2023-06-10T08:33:15.998Z"
   },
   {
    "duration": 17,
    "start_time": "2023-06-10T08:33:16.007Z"
   },
   {
    "duration": 10,
    "start_time": "2023-06-10T08:33:16.026Z"
   },
   {
    "duration": 18,
    "start_time": "2023-06-10T08:33:16.037Z"
   },
   {
    "duration": 8,
    "start_time": "2023-06-10T08:33:16.056Z"
   },
   {
    "duration": 40,
    "start_time": "2023-06-10T08:33:16.065Z"
   },
   {
    "duration": 68,
    "start_time": "2023-06-10T08:33:16.107Z"
   },
   {
    "duration": 16,
    "start_time": "2023-06-10T08:34:15.051Z"
   },
   {
    "duration": 32,
    "start_time": "2023-06-10T08:34:35.450Z"
   },
   {
    "duration": 24,
    "start_time": "2023-06-10T08:35:25.896Z"
   },
   {
    "duration": 31,
    "start_time": "2023-06-10T08:35:45.900Z"
   },
   {
    "duration": 170,
    "start_time": "2023-06-10T08:36:35.910Z"
   },
   {
    "duration": 33,
    "start_time": "2023-06-10T08:36:46.883Z"
   },
   {
    "duration": 20,
    "start_time": "2023-06-10T08:37:05.896Z"
   },
   {
    "duration": 29,
    "start_time": "2023-06-10T08:37:17.896Z"
   },
   {
    "duration": 1202,
    "start_time": "2023-06-10T08:37:29.731Z"
   },
   {
    "duration": 566,
    "start_time": "2023-06-10T08:38:21.571Z"
   },
   {
    "duration": 532,
    "start_time": "2023-06-10T08:38:43.731Z"
   },
   {
    "duration": 25,
    "start_time": "2023-06-10T08:40:20.501Z"
   },
   {
    "duration": 570,
    "start_time": "2023-06-10T08:41:00.852Z"
   },
   {
    "duration": 24,
    "start_time": "2023-06-10T08:41:10.400Z"
   },
   {
    "duration": 17,
    "start_time": "2023-06-10T08:42:22.851Z"
   },
   {
    "duration": 17,
    "start_time": "2023-06-10T08:42:43.211Z"
   },
   {
    "duration": 34,
    "start_time": "2023-06-10T08:43:48.333Z"
   },
   {
    "duration": 34,
    "start_time": "2023-06-10T08:44:16.213Z"
   },
   {
    "duration": 33,
    "start_time": "2023-06-10T08:44:41.226Z"
   },
   {
    "duration": 53,
    "start_time": "2023-06-10T08:48:52.165Z"
   },
   {
    "duration": 32,
    "start_time": "2023-06-10T08:49:20.491Z"
   },
   {
    "duration": 33,
    "start_time": "2023-06-10T08:50:39.917Z"
   },
   {
    "duration": 15,
    "start_time": "2023-06-10T08:53:22.885Z"
   },
   {
    "duration": 13,
    "start_time": "2023-06-10T08:53:48.185Z"
   },
   {
    "duration": 43,
    "start_time": "2023-06-10T09:00:58.013Z"
   },
   {
    "duration": 38,
    "start_time": "2023-06-10T09:01:32.204Z"
   },
   {
    "duration": 18,
    "start_time": "2023-06-10T09:02:10.763Z"
   },
   {
    "duration": 34,
    "start_time": "2023-06-10T09:02:15.524Z"
   },
   {
    "duration": 40,
    "start_time": "2023-06-10T09:02:36.043Z"
   },
   {
    "duration": 20,
    "start_time": "2023-06-10T09:03:06.404Z"
   },
   {
    "duration": 39,
    "start_time": "2023-06-10T09:03:07.251Z"
   },
   {
    "duration": 18,
    "start_time": "2023-06-10T09:04:17.202Z"
   },
   {
    "duration": 27,
    "start_time": "2023-06-10T09:04:32.499Z"
   },
   {
    "duration": 21,
    "start_time": "2023-06-10T09:04:45.002Z"
   },
   {
    "duration": 32,
    "start_time": "2023-06-10T09:04:45.844Z"
   },
   {
    "duration": 8,
    "start_time": "2023-06-10T09:05:44.496Z"
   },
   {
    "duration": 33,
    "start_time": "2023-06-10T09:05:45.208Z"
   },
   {
    "duration": 14,
    "start_time": "2023-06-10T09:06:18.582Z"
   },
   {
    "duration": 5,
    "start_time": "2023-06-10T09:07:19.162Z"
   },
   {
    "duration": 4,
    "start_time": "2023-06-10T09:07:19.846Z"
   },
   {
    "duration": 36,
    "start_time": "2023-06-10T09:07:20.482Z"
   },
   {
    "duration": 4,
    "start_time": "2023-06-10T09:08:54.072Z"
   },
   {
    "duration": 6,
    "start_time": "2023-06-10T09:09:24.469Z"
   },
   {
    "duration": 6,
    "start_time": "2023-06-10T09:09:25.122Z"
   },
   {
    "duration": 7,
    "start_time": "2023-06-10T09:09:26.082Z"
   },
   {
    "duration": 34,
    "start_time": "2023-06-10T09:09:26.914Z"
   },
   {
    "duration": 32,
    "start_time": "2023-06-10T09:10:42.212Z"
   },
   {
    "duration": 47,
    "start_time": "2023-06-10T09:10:59.363Z"
   },
   {
    "duration": 1894,
    "start_time": "2023-06-10T09:11:10.775Z"
   },
   {
    "duration": 1303,
    "start_time": "2023-06-10T09:11:12.671Z"
   },
   {
    "duration": 24,
    "start_time": "2023-06-10T09:11:13.975Z"
   },
   {
    "duration": 946,
    "start_time": "2023-06-10T09:11:14.000Z"
   },
   {
    "duration": 14,
    "start_time": "2023-06-10T09:11:14.948Z"
   },
   {
    "duration": 11,
    "start_time": "2023-06-10T09:11:14.964Z"
   },
   {
    "duration": 32,
    "start_time": "2023-06-10T09:11:14.976Z"
   },
   {
    "duration": 141,
    "start_time": "2023-06-10T09:11:15.010Z"
   },
   {
    "duration": 13,
    "start_time": "2023-06-10T09:11:15.152Z"
   },
   {
    "duration": 37,
    "start_time": "2023-06-10T09:11:15.168Z"
   },
   {
    "duration": 119,
    "start_time": "2023-06-10T09:11:15.207Z"
   },
   {
    "duration": 99,
    "start_time": "2023-06-10T09:11:15.327Z"
   },
   {
    "duration": 108,
    "start_time": "2023-06-10T09:11:15.427Z"
   },
   {
    "duration": 160,
    "start_time": "2023-06-10T09:11:15.536Z"
   },
   {
    "duration": 9,
    "start_time": "2023-06-10T09:11:15.698Z"
   },
   {
    "duration": 23,
    "start_time": "2023-06-10T09:11:15.709Z"
   },
   {
    "duration": 17,
    "start_time": "2023-06-10T09:11:15.734Z"
   },
   {
    "duration": 21,
    "start_time": "2023-06-10T09:11:15.752Z"
   },
   {
    "duration": 36,
    "start_time": "2023-06-10T09:11:15.775Z"
   },
   {
    "duration": 35,
    "start_time": "2023-06-10T09:11:15.813Z"
   },
   {
    "duration": 15,
    "start_time": "2023-06-10T09:11:15.849Z"
   },
   {
    "duration": 18,
    "start_time": "2023-06-10T09:11:15.865Z"
   },
   {
    "duration": 26,
    "start_time": "2023-06-10T09:11:15.884Z"
   },
   {
    "duration": 20,
    "start_time": "2023-06-10T09:11:15.912Z"
   },
   {
    "duration": 5,
    "start_time": "2023-06-10T09:11:15.933Z"
   },
   {
    "duration": 16,
    "start_time": "2023-06-10T09:11:15.940Z"
   },
   {
    "duration": 24,
    "start_time": "2023-06-10T09:11:15.957Z"
   },
   {
    "duration": 24,
    "start_time": "2023-06-10T09:11:15.985Z"
   },
   {
    "duration": 26,
    "start_time": "2023-06-10T09:11:16.011Z"
   },
   {
    "duration": 41,
    "start_time": "2023-06-10T09:11:16.039Z"
   },
   {
    "duration": 37,
    "start_time": "2023-06-10T09:11:16.082Z"
   },
   {
    "duration": 20,
    "start_time": "2023-06-10T09:11:16.121Z"
   },
   {
    "duration": 22,
    "start_time": "2023-06-10T09:11:16.143Z"
   },
   {
    "duration": 193,
    "start_time": "2023-06-10T09:11:16.167Z"
   },
   {
    "duration": 155,
    "start_time": "2023-06-10T09:11:16.361Z"
   },
   {
    "duration": 178,
    "start_time": "2023-06-10T09:11:16.518Z"
   },
   {
    "duration": 137,
    "start_time": "2023-06-10T09:11:16.698Z"
   },
   {
    "duration": 146,
    "start_time": "2023-06-10T09:11:16.837Z"
   },
   {
    "duration": 154,
    "start_time": "2023-06-10T09:11:16.985Z"
   },
   {
    "duration": 161,
    "start_time": "2023-06-10T09:11:17.141Z"
   },
   {
    "duration": 134,
    "start_time": "2023-06-10T09:11:17.303Z"
   },
   {
    "duration": 232,
    "start_time": "2023-06-10T09:11:17.438Z"
   },
   {
    "duration": 24,
    "start_time": "2023-06-10T09:11:17.671Z"
   },
   {
    "duration": 5,
    "start_time": "2023-06-10T09:11:17.696Z"
   },
   {
    "duration": 32,
    "start_time": "2023-06-10T09:11:17.702Z"
   },
   {
    "duration": 1372,
    "start_time": "2023-06-10T09:11:17.735Z"
   },
   {
    "duration": 433,
    "start_time": "2023-06-10T09:11:19.109Z"
   },
   {
    "duration": 403,
    "start_time": "2023-06-10T09:11:19.543Z"
   },
   {
    "duration": 21,
    "start_time": "2023-06-10T09:11:19.948Z"
   },
   {
    "duration": 307,
    "start_time": "2023-06-10T09:11:19.971Z"
   },
   {
    "duration": 8,
    "start_time": "2023-06-10T09:11:20.279Z"
   },
   {
    "duration": 829,
    "start_time": "2023-06-10T09:11:20.289Z"
   },
   {
    "duration": 9,
    "start_time": "2023-06-10T09:11:21.120Z"
   },
   {
    "duration": 12,
    "start_time": "2023-06-10T09:11:21.130Z"
   },
   {
    "duration": 20,
    "start_time": "2023-06-10T09:11:21.143Z"
   },
   {
    "duration": 18,
    "start_time": "2023-06-10T09:11:21.164Z"
   },
   {
    "duration": 32,
    "start_time": "2023-06-10T09:11:21.183Z"
   },
   {
    "duration": 27,
    "start_time": "2023-06-10T09:11:21.216Z"
   },
   {
    "duration": 8,
    "start_time": "2023-06-10T09:11:21.245Z"
   },
   {
    "duration": 20,
    "start_time": "2023-06-10T09:11:21.254Z"
   },
   {
    "duration": 42,
    "start_time": "2023-06-10T09:11:21.275Z"
   },
   {
    "duration": 41,
    "start_time": "2023-06-10T09:11:21.318Z"
   },
   {
    "duration": 23,
    "start_time": "2023-06-10T09:11:21.360Z"
   },
   {
    "duration": 26,
    "start_time": "2023-06-10T09:11:21.385Z"
   },
   {
    "duration": 11,
    "start_time": "2023-06-10T09:11:21.412Z"
   },
   {
    "duration": 33,
    "start_time": "2023-06-10T09:11:21.425Z"
   },
   {
    "duration": 11,
    "start_time": "2023-06-10T09:11:21.459Z"
   },
   {
    "duration": 7,
    "start_time": "2023-06-10T09:11:21.471Z"
   },
   {
    "duration": 32,
    "start_time": "2023-06-10T09:11:21.479Z"
   },
   {
    "duration": 9,
    "start_time": "2023-06-10T09:11:21.512Z"
   },
   {
    "duration": 22,
    "start_time": "2023-06-10T09:11:21.522Z"
   },
   {
    "duration": 11,
    "start_time": "2023-06-10T09:11:21.545Z"
   },
   {
    "duration": 68,
    "start_time": "2023-06-10T09:11:21.557Z"
   },
   {
    "duration": 11,
    "start_time": "2023-06-10T09:11:59.202Z"
   },
   {
    "duration": 53,
    "start_time": "2023-06-10T09:18:00.369Z"
   },
   {
    "duration": 53,
    "start_time": "2023-06-10T09:18:54.161Z"
   },
   {
    "duration": 34,
    "start_time": "2023-06-10T09:18:59.122Z"
   },
   {
    "duration": 35,
    "start_time": "2023-06-10T09:20:08.213Z"
   },
   {
    "duration": 36,
    "start_time": "2023-06-10T09:20:13.308Z"
   },
   {
    "duration": 50,
    "start_time": "2023-06-10T09:20:29.362Z"
   },
   {
    "duration": 3,
    "start_time": "2023-06-10T09:23:08.648Z"
   },
   {
    "duration": 49,
    "start_time": "2023-06-10T09:24:25.814Z"
   },
   {
    "duration": 3,
    "start_time": "2023-06-10T09:25:25.680Z"
   },
   {
    "duration": 55,
    "start_time": "2023-06-10T09:26:01.780Z"
   },
   {
    "duration": 46,
    "start_time": "2023-06-10T09:26:33.166Z"
   },
   {
    "duration": 43,
    "start_time": "2023-06-10T09:26:41.559Z"
   },
   {
    "duration": 52,
    "start_time": "2023-06-10T09:30:56.066Z"
   },
   {
    "duration": 47,
    "start_time": "2023-06-10T09:31:15.945Z"
   },
   {
    "duration": 147,
    "start_time": "2023-06-10T09:33:08.595Z"
   },
   {
    "duration": 45,
    "start_time": "2023-06-10T09:33:40.751Z"
   },
   {
    "duration": 40,
    "start_time": "2023-06-10T09:34:12.772Z"
   },
   {
    "duration": 34,
    "start_time": "2023-06-10T09:36:46.291Z"
   },
   {
    "duration": 39,
    "start_time": "2023-06-10T09:37:31.098Z"
   },
   {
    "duration": 35,
    "start_time": "2023-06-10T09:37:51.652Z"
   },
   {
    "duration": 33,
    "start_time": "2023-06-10T09:38:45.773Z"
   },
   {
    "duration": 58,
    "start_time": "2023-06-10T09:38:55.944Z"
   },
   {
    "duration": 34,
    "start_time": "2023-06-10T09:42:39.555Z"
   },
   {
    "duration": 35,
    "start_time": "2023-06-10T10:04:15.871Z"
   },
   {
    "duration": 33,
    "start_time": "2023-06-10T10:05:15.405Z"
   },
   {
    "duration": 476,
    "start_time": "2023-06-10T11:30:03.537Z"
   },
   {
    "duration": 106,
    "start_time": "2023-06-10T11:30:38.627Z"
   },
   {
    "duration": 12,
    "start_time": "2023-06-10T11:31:22.854Z"
   },
   {
    "duration": 613,
    "start_time": "2023-06-10T11:31:37.603Z"
   },
   {
    "duration": 18,
    "start_time": "2023-06-10T11:32:36.367Z"
   },
   {
    "duration": 1699,
    "start_time": "2023-06-10T11:32:51.920Z"
   },
   {
    "duration": 17,
    "start_time": "2023-06-10T11:34:05.851Z"
   },
   {
    "duration": 1440,
    "start_time": "2023-06-10T11:34:17.035Z"
   },
   {
    "duration": 1837,
    "start_time": "2023-06-10T11:37:47.308Z"
   },
   {
    "duration": 1306,
    "start_time": "2023-06-10T11:37:49.148Z"
   },
   {
    "duration": 10,
    "start_time": "2023-06-10T11:37:50.456Z"
   },
   {
    "duration": 885,
    "start_time": "2023-06-10T11:37:50.468Z"
   },
   {
    "duration": 19,
    "start_time": "2023-06-10T11:37:51.355Z"
   },
   {
    "duration": 25,
    "start_time": "2023-06-10T11:37:51.376Z"
   },
   {
    "duration": 69,
    "start_time": "2023-06-10T11:37:51.403Z"
   },
   {
    "duration": 104,
    "start_time": "2023-06-10T11:37:51.474Z"
   },
   {
    "duration": 12,
    "start_time": "2023-06-10T11:37:51.584Z"
   },
   {
    "duration": 17,
    "start_time": "2023-06-10T11:37:51.598Z"
   },
   {
    "duration": 101,
    "start_time": "2023-06-10T11:37:51.617Z"
   },
   {
    "duration": 108,
    "start_time": "2023-06-10T11:37:51.720Z"
   },
   {
    "duration": 104,
    "start_time": "2023-06-10T11:37:51.829Z"
   },
   {
    "duration": 167,
    "start_time": "2023-06-10T11:37:51.936Z"
   },
   {
    "duration": 9,
    "start_time": "2023-06-10T11:37:52.105Z"
   },
   {
    "duration": 38,
    "start_time": "2023-06-10T11:37:52.115Z"
   },
   {
    "duration": 31,
    "start_time": "2023-06-10T11:37:52.155Z"
   },
   {
    "duration": 7,
    "start_time": "2023-06-10T11:37:52.189Z"
   },
   {
    "duration": 26,
    "start_time": "2023-06-10T11:37:52.198Z"
   },
   {
    "duration": 26,
    "start_time": "2023-06-10T11:37:52.226Z"
   },
   {
    "duration": 37,
    "start_time": "2023-06-10T11:37:52.254Z"
   },
   {
    "duration": 26,
    "start_time": "2023-06-10T11:37:52.293Z"
   },
   {
    "duration": 18,
    "start_time": "2023-06-10T11:37:52.320Z"
   },
   {
    "duration": 18,
    "start_time": "2023-06-10T11:37:52.340Z"
   },
   {
    "duration": 32,
    "start_time": "2023-06-10T11:37:52.359Z"
   },
   {
    "duration": 19,
    "start_time": "2023-06-10T11:37:52.393Z"
   },
   {
    "duration": 14,
    "start_time": "2023-06-10T11:37:52.414Z"
   },
   {
    "duration": 5,
    "start_time": "2023-06-10T11:37:52.430Z"
   },
   {
    "duration": 8,
    "start_time": "2023-06-10T11:37:52.436Z"
   },
   {
    "duration": 7,
    "start_time": "2023-06-10T11:37:52.445Z"
   },
   {
    "duration": 30,
    "start_time": "2023-06-10T11:37:52.454Z"
   },
   {
    "duration": 14,
    "start_time": "2023-06-10T11:37:52.486Z"
   },
   {
    "duration": 17,
    "start_time": "2023-06-10T11:37:52.502Z"
   },
   {
    "duration": 158,
    "start_time": "2023-06-10T11:37:52.521Z"
   },
   {
    "duration": 142,
    "start_time": "2023-06-10T11:37:52.681Z"
   },
   {
    "duration": 168,
    "start_time": "2023-06-10T11:37:52.825Z"
   },
   {
    "duration": 155,
    "start_time": "2023-06-10T11:37:52.994Z"
   },
   {
    "duration": 175,
    "start_time": "2023-06-10T11:37:53.151Z"
   },
   {
    "duration": 135,
    "start_time": "2023-06-10T11:37:53.328Z"
   },
   {
    "duration": 180,
    "start_time": "2023-06-10T11:37:53.465Z"
   },
   {
    "duration": 140,
    "start_time": "2023-06-10T11:37:53.651Z"
   },
   {
    "duration": 294,
    "start_time": "2023-06-10T11:37:53.793Z"
   },
   {
    "duration": 14,
    "start_time": "2023-06-10T11:37:54.088Z"
   },
   {
    "duration": 11,
    "start_time": "2023-06-10T11:37:54.103Z"
   },
   {
    "duration": 28,
    "start_time": "2023-06-10T11:37:54.115Z"
   },
   {
    "duration": 1432,
    "start_time": "2023-06-10T11:37:54.144Z"
   },
   {
    "duration": 452,
    "start_time": "2023-06-10T11:37:55.578Z"
   },
   {
    "duration": 532,
    "start_time": "2023-06-10T11:37:56.032Z"
   },
   {
    "duration": 29,
    "start_time": "2023-06-10T11:37:56.565Z"
   },
   {
    "duration": 304,
    "start_time": "2023-06-10T11:37:56.596Z"
   },
   {
    "duration": 5,
    "start_time": "2023-06-10T11:37:56.902Z"
   },
   {
    "duration": 914,
    "start_time": "2023-06-10T11:37:56.909Z"
   },
   {
    "duration": 9,
    "start_time": "2023-06-10T11:37:57.825Z"
   },
   {
    "duration": 24,
    "start_time": "2023-06-10T11:37:57.836Z"
   },
   {
    "duration": 25,
    "start_time": "2023-06-10T11:37:57.861Z"
   },
   {
    "duration": 22,
    "start_time": "2023-06-10T11:37:57.887Z"
   },
   {
    "duration": 9,
    "start_time": "2023-06-10T11:37:57.911Z"
   },
   {
    "duration": 30,
    "start_time": "2023-06-10T11:37:57.922Z"
   },
   {
    "duration": 11,
    "start_time": "2023-06-10T11:37:57.953Z"
   },
   {
    "duration": 14,
    "start_time": "2023-06-10T11:37:57.965Z"
   },
   {
    "duration": 39,
    "start_time": "2023-06-10T11:37:57.980Z"
   },
   {
    "duration": 13,
    "start_time": "2023-06-10T11:37:58.020Z"
   },
   {
    "duration": 10,
    "start_time": "2023-06-10T11:37:58.034Z"
   },
   {
    "duration": 20,
    "start_time": "2023-06-10T11:37:58.046Z"
   },
   {
    "duration": 16,
    "start_time": "2023-06-10T11:37:58.069Z"
   },
   {
    "duration": 7,
    "start_time": "2023-06-10T11:37:58.087Z"
   },
   {
    "duration": 26,
    "start_time": "2023-06-10T11:37:58.095Z"
   },
   {
    "duration": 7,
    "start_time": "2023-06-10T11:37:58.124Z"
   },
   {
    "duration": 22,
    "start_time": "2023-06-10T11:37:58.133Z"
   },
   {
    "duration": 10,
    "start_time": "2023-06-10T11:37:58.157Z"
   },
   {
    "duration": 161,
    "start_time": "2023-06-10T11:37:58.168Z"
   },
   {
    "duration": 0,
    "start_time": "2023-06-10T11:37:58.331Z"
   },
   {
    "duration": 0,
    "start_time": "2023-06-10T11:37:58.332Z"
   },
   {
    "duration": 0,
    "start_time": "2023-06-10T11:37:58.333Z"
   },
   {
    "duration": 780,
    "start_time": "2023-06-10T12:36:08.820Z"
   },
   {
    "duration": 750,
    "start_time": "2023-06-10T12:36:39.557Z"
   },
   {
    "duration": 905,
    "start_time": "2023-06-10T12:59:15.891Z"
   },
   {
    "duration": 22,
    "start_time": "2023-06-10T13:04:29.210Z"
   },
   {
    "duration": 58,
    "start_time": "2023-06-10T13:05:10.185Z"
   },
   {
    "duration": 11,
    "start_time": "2023-06-10T13:05:21.530Z"
   },
   {
    "duration": 59,
    "start_time": "2023-06-11T10:53:29.172Z"
   },
   {
    "duration": 3835,
    "start_time": "2023-06-11T10:57:15.482Z"
   },
   {
    "duration": 2052,
    "start_time": "2023-06-11T10:57:19.319Z"
   },
   {
    "duration": 11,
    "start_time": "2023-06-11T10:57:21.373Z"
   },
   {
    "duration": 1116,
    "start_time": "2023-06-11T10:57:21.387Z"
   },
   {
    "duration": 23,
    "start_time": "2023-06-11T10:57:22.505Z"
   },
   {
    "duration": 24,
    "start_time": "2023-06-11T10:57:22.530Z"
   },
   {
    "duration": 91,
    "start_time": "2023-06-11T10:57:22.556Z"
   },
   {
    "duration": 179,
    "start_time": "2023-06-11T10:57:22.648Z"
   },
   {
    "duration": 11,
    "start_time": "2023-06-11T10:57:22.829Z"
   },
   {
    "duration": 29,
    "start_time": "2023-06-11T10:57:22.843Z"
   },
   {
    "duration": 159,
    "start_time": "2023-06-11T10:57:22.873Z"
   },
   {
    "duration": 126,
    "start_time": "2023-06-11T10:57:23.034Z"
   },
   {
    "duration": 108,
    "start_time": "2023-06-11T10:57:23.162Z"
   },
   {
    "duration": 250,
    "start_time": "2023-06-11T10:57:23.272Z"
   },
   {
    "duration": 9,
    "start_time": "2023-06-11T10:57:23.524Z"
   },
   {
    "duration": 32,
    "start_time": "2023-06-11T10:57:23.535Z"
   },
   {
    "duration": 71,
    "start_time": "2023-06-11T10:57:23.569Z"
   },
   {
    "duration": 20,
    "start_time": "2023-06-11T10:57:23.642Z"
   },
   {
    "duration": 52,
    "start_time": "2023-06-11T10:57:23.663Z"
   },
   {
    "duration": 23,
    "start_time": "2023-06-11T10:57:23.717Z"
   },
   {
    "duration": 89,
    "start_time": "2023-06-11T10:57:23.741Z"
   },
   {
    "duration": 22,
    "start_time": "2023-06-11T10:57:23.831Z"
   },
   {
    "duration": 50,
    "start_time": "2023-06-11T10:57:23.854Z"
   },
   {
    "duration": 33,
    "start_time": "2023-06-11T10:57:23.906Z"
   },
   {
    "duration": 20,
    "start_time": "2023-06-11T10:57:23.940Z"
   },
   {
    "duration": 65,
    "start_time": "2023-06-11T10:57:23.961Z"
   },
   {
    "duration": 33,
    "start_time": "2023-06-11T10:57:24.027Z"
   },
   {
    "duration": 51,
    "start_time": "2023-06-11T10:57:24.067Z"
   },
   {
    "duration": 47,
    "start_time": "2023-06-11T10:57:24.120Z"
   },
   {
    "duration": 59,
    "start_time": "2023-06-11T10:57:24.169Z"
   },
   {
    "duration": 57,
    "start_time": "2023-06-11T10:57:24.229Z"
   },
   {
    "duration": 42,
    "start_time": "2023-06-11T10:57:24.290Z"
   },
   {
    "duration": 38,
    "start_time": "2023-06-11T10:57:24.333Z"
   },
   {
    "duration": 308,
    "start_time": "2023-06-11T10:57:24.373Z"
   },
   {
    "duration": 183,
    "start_time": "2023-06-11T10:57:24.683Z"
   },
   {
    "duration": 214,
    "start_time": "2023-06-11T10:57:24.868Z"
   },
   {
    "duration": 209,
    "start_time": "2023-06-11T10:57:25.087Z"
   },
   {
    "duration": 190,
    "start_time": "2023-06-11T10:57:25.298Z"
   },
   {
    "duration": 172,
    "start_time": "2023-06-11T10:57:25.491Z"
   },
   {
    "duration": 193,
    "start_time": "2023-06-11T10:57:25.665Z"
   },
   {
    "duration": 192,
    "start_time": "2023-06-11T10:57:25.859Z"
   },
   {
    "duration": 345,
    "start_time": "2023-06-11T10:57:26.053Z"
   },
   {
    "duration": 19,
    "start_time": "2023-06-11T10:57:26.401Z"
   },
   {
    "duration": 96,
    "start_time": "2023-06-11T10:57:26.422Z"
   },
   {
    "duration": 65,
    "start_time": "2023-06-11T10:57:26.520Z"
   },
   {
    "duration": 2135,
    "start_time": "2023-06-11T10:57:26.590Z"
   },
   {
    "duration": 454,
    "start_time": "2023-06-11T10:57:28.727Z"
   },
   {
    "duration": 486,
    "start_time": "2023-06-11T10:57:29.182Z"
   },
   {
    "duration": 25,
    "start_time": "2023-06-11T10:57:29.670Z"
   },
   {
    "duration": 348,
    "start_time": "2023-06-11T10:57:29.697Z"
   },
   {
    "duration": 5,
    "start_time": "2023-06-11T10:57:30.047Z"
   },
   {
    "duration": 1122,
    "start_time": "2023-06-11T10:57:30.054Z"
   },
   {
    "duration": 12,
    "start_time": "2023-06-11T10:57:31.177Z"
   },
   {
    "duration": 110,
    "start_time": "2023-06-11T10:57:31.190Z"
   },
   {
    "duration": 74,
    "start_time": "2023-06-11T10:57:31.302Z"
   },
   {
    "duration": 86,
    "start_time": "2023-06-11T10:57:31.378Z"
   },
   {
    "duration": 116,
    "start_time": "2023-06-11T10:57:31.466Z"
   },
   {
    "duration": 72,
    "start_time": "2023-06-11T10:57:31.584Z"
   },
   {
    "duration": 108,
    "start_time": "2023-06-11T10:57:31.658Z"
   },
   {
    "duration": 70,
    "start_time": "2023-06-11T10:57:31.768Z"
   },
   {
    "duration": 44,
    "start_time": "2023-06-11T10:57:31.840Z"
   },
   {
    "duration": 71,
    "start_time": "2023-06-11T10:57:31.887Z"
   },
   {
    "duration": 61,
    "start_time": "2023-06-11T10:57:31.960Z"
   },
   {
    "duration": 18,
    "start_time": "2023-06-11T10:57:32.023Z"
   },
   {
    "duration": 14,
    "start_time": "2023-06-11T10:57:32.043Z"
   },
   {
    "duration": 8,
    "start_time": "2023-06-11T10:57:32.059Z"
   },
   {
    "duration": 61,
    "start_time": "2023-06-11T10:57:32.069Z"
   },
   {
    "duration": 12,
    "start_time": "2023-06-11T10:57:32.132Z"
   },
   {
    "duration": 12,
    "start_time": "2023-06-11T10:57:32.146Z"
   },
   {
    "duration": 16,
    "start_time": "2023-06-11T10:57:32.159Z"
   },
   {
    "duration": 13,
    "start_time": "2023-06-11T10:57:32.176Z"
   },
   {
    "duration": 45,
    "start_time": "2023-06-11T10:57:32.191Z"
   },
   {
    "duration": 12,
    "start_time": "2023-06-11T10:57:32.238Z"
   },
   {
    "duration": 4,
    "start_time": "2023-06-11T10:57:32.251Z"
   },
   {
    "duration": 108,
    "start_time": "2023-06-11T10:57:32.257Z"
   },
   {
    "duration": 41,
    "start_time": "2023-06-11T11:42:30.323Z"
   },
   {
    "duration": 2764,
    "start_time": "2023-06-11T11:42:40.873Z"
   },
   {
    "duration": 1491,
    "start_time": "2023-06-11T11:42:43.639Z"
   },
   {
    "duration": 11,
    "start_time": "2023-06-11T11:42:45.132Z"
   },
   {
    "duration": 1578,
    "start_time": "2023-06-11T11:42:45.145Z"
   },
   {
    "duration": 14,
    "start_time": "2023-06-11T11:42:46.725Z"
   },
   {
    "duration": 12,
    "start_time": "2023-06-11T11:42:46.740Z"
   },
   {
    "duration": 32,
    "start_time": "2023-06-11T11:42:46.753Z"
   },
   {
    "duration": 109,
    "start_time": "2023-06-11T11:42:46.786Z"
   },
   {
    "duration": 17,
    "start_time": "2023-06-11T11:42:46.896Z"
   },
   {
    "duration": 24,
    "start_time": "2023-06-11T11:42:46.916Z"
   },
   {
    "duration": 98,
    "start_time": "2023-06-11T11:42:46.941Z"
   },
   {
    "duration": 146,
    "start_time": "2023-06-11T11:42:47.040Z"
   },
   {
    "duration": 100,
    "start_time": "2023-06-11T11:42:47.188Z"
   },
   {
    "duration": 107,
    "start_time": "2023-06-11T11:42:47.289Z"
   },
   {
    "duration": 10,
    "start_time": "2023-06-11T11:42:47.405Z"
   },
   {
    "duration": 4,
    "start_time": "2023-06-11T11:42:47.417Z"
   },
   {
    "duration": 24,
    "start_time": "2023-06-11T11:42:47.423Z"
   },
   {
    "duration": 6,
    "start_time": "2023-06-11T11:42:47.448Z"
   },
   {
    "duration": 5,
    "start_time": "2023-06-11T11:42:47.456Z"
   },
   {
    "duration": 11,
    "start_time": "2023-06-11T11:42:47.463Z"
   },
   {
    "duration": 7,
    "start_time": "2023-06-11T11:42:47.475Z"
   },
   {
    "duration": 9,
    "start_time": "2023-06-11T11:42:47.483Z"
   },
   {
    "duration": 16,
    "start_time": "2023-06-11T11:42:47.493Z"
   },
   {
    "duration": 7,
    "start_time": "2023-06-11T11:42:47.510Z"
   },
   {
    "duration": 5,
    "start_time": "2023-06-11T11:42:47.518Z"
   },
   {
    "duration": 4,
    "start_time": "2023-06-11T11:42:47.525Z"
   },
   {
    "duration": 8,
    "start_time": "2023-06-11T11:42:47.530Z"
   },
   {
    "duration": 10,
    "start_time": "2023-06-11T11:42:47.542Z"
   },
   {
    "duration": 4,
    "start_time": "2023-06-11T11:42:47.554Z"
   },
   {
    "duration": 8,
    "start_time": "2023-06-11T11:42:47.560Z"
   },
   {
    "duration": 18,
    "start_time": "2023-06-11T11:42:47.570Z"
   },
   {
    "duration": 16,
    "start_time": "2023-06-11T11:42:47.589Z"
   },
   {
    "duration": 7,
    "start_time": "2023-06-11T11:42:47.607Z"
   },
   {
    "duration": 155,
    "start_time": "2023-06-11T11:42:47.615Z"
   },
   {
    "duration": 157,
    "start_time": "2023-06-11T11:42:47.771Z"
   },
   {
    "duration": 192,
    "start_time": "2023-06-11T11:42:47.930Z"
   },
   {
    "duration": 169,
    "start_time": "2023-06-11T11:42:48.124Z"
   },
   {
    "duration": 175,
    "start_time": "2023-06-11T11:42:48.295Z"
   },
   {
    "duration": 157,
    "start_time": "2023-06-11T11:42:48.472Z"
   },
   {
    "duration": 177,
    "start_time": "2023-06-11T11:42:48.631Z"
   },
   {
    "duration": 153,
    "start_time": "2023-06-11T11:42:48.810Z"
   },
   {
    "duration": 265,
    "start_time": "2023-06-11T11:42:48.965Z"
   },
   {
    "duration": 14,
    "start_time": "2023-06-11T11:42:49.231Z"
   },
   {
    "duration": 9,
    "start_time": "2023-06-11T11:42:49.247Z"
   },
   {
    "duration": 33,
    "start_time": "2023-06-11T11:42:49.257Z"
   },
   {
    "duration": 1489,
    "start_time": "2023-06-11T11:42:49.292Z"
   },
   {
    "duration": 419,
    "start_time": "2023-06-11T11:42:50.782Z"
   },
   {
    "duration": 421,
    "start_time": "2023-06-11T11:42:51.205Z"
   },
   {
    "duration": 22,
    "start_time": "2023-06-11T11:42:51.627Z"
   },
   {
    "duration": 289,
    "start_time": "2023-06-11T11:42:51.651Z"
   },
   {
    "duration": 4,
    "start_time": "2023-06-11T11:42:51.942Z"
   },
   {
    "duration": 1014,
    "start_time": "2023-06-11T11:42:51.947Z"
   },
   {
    "duration": 11,
    "start_time": "2023-06-11T11:42:52.962Z"
   },
   {
    "duration": 9,
    "start_time": "2023-06-11T11:42:52.975Z"
   },
   {
    "duration": 26,
    "start_time": "2023-06-11T11:42:52.986Z"
   },
   {
    "duration": 9,
    "start_time": "2023-06-11T11:42:53.013Z"
   },
   {
    "duration": 8,
    "start_time": "2023-06-11T11:42:53.023Z"
   },
   {
    "duration": 15,
    "start_time": "2023-06-11T11:42:53.032Z"
   },
   {
    "duration": 9,
    "start_time": "2023-06-11T11:42:53.049Z"
   },
   {
    "duration": 7,
    "start_time": "2023-06-11T11:42:53.060Z"
   },
   {
    "duration": 10,
    "start_time": "2023-06-11T11:42:53.068Z"
   },
   {
    "duration": 8,
    "start_time": "2023-06-11T11:42:53.106Z"
   },
   {
    "duration": 9,
    "start_time": "2023-06-11T11:42:53.115Z"
   },
   {
    "duration": 19,
    "start_time": "2023-06-11T11:42:53.126Z"
   },
   {
    "duration": 10,
    "start_time": "2023-06-11T11:42:53.146Z"
   },
   {
    "duration": 14,
    "start_time": "2023-06-11T11:42:53.157Z"
   },
   {
    "duration": 6,
    "start_time": "2023-06-11T11:42:53.173Z"
   },
   {
    "duration": 13,
    "start_time": "2023-06-11T11:42:53.181Z"
   },
   {
    "duration": 6,
    "start_time": "2023-06-11T11:42:53.207Z"
   },
   {
    "duration": 11,
    "start_time": "2023-06-11T11:42:53.215Z"
   },
   {
    "duration": 10,
    "start_time": "2023-06-11T11:42:53.228Z"
   },
   {
    "duration": 15,
    "start_time": "2023-06-11T11:42:53.239Z"
   },
   {
    "duration": 11,
    "start_time": "2023-06-11T11:42:53.255Z"
   },
   {
    "duration": 19,
    "start_time": "2023-06-11T11:42:53.268Z"
   },
   {
    "duration": 85,
    "start_time": "2023-06-11T11:42:53.289Z"
   },
   {
    "duration": 32,
    "start_time": "2023-06-11T11:42:53.375Z"
   },
   {
    "duration": 218,
    "start_time": "2023-06-11T11:44:05.572Z"
   },
   {
    "duration": 104,
    "start_time": "2023-06-11T12:11:45.073Z"
   },
   {
    "duration": 3,
    "start_time": "2023-06-11T12:12:13.027Z"
   },
   {
    "duration": 3,
    "start_time": "2023-06-11T12:12:26.164Z"
   },
   {
    "duration": 151,
    "start_time": "2023-06-11T12:12:26.674Z"
   },
   {
    "duration": 3,
    "start_time": "2023-06-11T12:22:48.866Z"
   },
   {
    "duration": 79,
    "start_time": "2023-06-11T12:22:49.692Z"
   },
   {
    "duration": 3,
    "start_time": "2023-06-11T12:24:06.292Z"
   },
   {
    "duration": 165,
    "start_time": "2023-06-11T12:24:06.865Z"
   },
   {
    "duration": 3,
    "start_time": "2023-06-11T12:40:41.889Z"
   },
   {
    "duration": 10,
    "start_time": "2023-06-11T12:40:49.419Z"
   },
   {
    "duration": 99,
    "start_time": "2023-06-11T12:40:55.769Z"
   },
   {
    "duration": 150,
    "start_time": "2023-06-11T12:41:53.754Z"
   }
  ],
  "kernelspec": {
   "display_name": "Python 3 (ipykernel)",
   "language": "python",
   "name": "python3"
  },
  "language_info": {
   "codemirror_mode": {
    "name": "ipython",
    "version": 3
   },
   "file_extension": ".py",
   "mimetype": "text/x-python",
   "name": "python",
   "nbconvert_exporter": "python",
   "pygments_lexer": "ipython3",
   "version": "3.9.5"
  },
  "toc": {
   "base_numbering": 1,
   "nav_menu": {},
   "number_sections": true,
   "sideBar": true,
   "skip_h1_title": true,
   "title_cell": "Table of Contents",
   "title_sidebar": "Contents",
   "toc_cell": false,
   "toc_position": {},
   "toc_section_display": true,
   "toc_window_display": false
  }
 },
 "nbformat": 4,
 "nbformat_minor": 2
}
