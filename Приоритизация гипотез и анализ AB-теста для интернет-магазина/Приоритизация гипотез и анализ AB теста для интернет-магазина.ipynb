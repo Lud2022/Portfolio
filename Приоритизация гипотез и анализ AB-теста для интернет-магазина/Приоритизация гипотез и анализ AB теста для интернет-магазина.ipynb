{
 "cells": [
  {
   "cell_type": "markdown",
   "metadata": {},
   "source": [
    "# Приоритизация гипотез и анализ A/B-теста для интернет-магазина."
   ]
  },
  {
   "cell_type": "markdown",
   "metadata": {},
   "source": [
    "**Заказчик** — крупный интернет-магазин.\n",
    "\n",
    "**Цель:** Приоритизировать гипотезы для увеличения выручки, запустить A/B-тест и проанализировать результаты. \n",
    "\n",
    "**Входные данные:** Файл /datasets/hypothesis.csv с 9 гипотезами по увеличению выручки интернет-магазина с указанными параметрами Reach, Impact, Confidence, Effort. Результаты A/B-теста, которые описаны в файлах /datasets/orders.csv и /datasets/visitors.csv.\n",
    "\n",
    "**Описание данных:**\n",
    "\n",
    "* Файл /datasets/hypothesis.csv. содержит: <br/>\n",
    "`Hypothesis` — краткое описание гипотезы; <br/>\n",
    "`Reach` — охват пользователей по 10-балльной шкале; <br/>\n",
    "`Impact` — влияние на пользователей по 10-балльной шкале; <br/>\n",
    "`Confidence` — уверенность в гипотезе по 10-балльной шкале; <br/>\n",
    "`Efforts` — затраты ресурсов на проверку гипотезы по 10-балльной шкале. Чем больше значение Efforts, тем дороже проверка гипотезы. <br/>\n",
    "\n",
    "* Файл /datasets/orders.csv. содержит: <br/>\n",
    "`transactionId` — идентификатор заказа; <br/>\n",
    "`visitorId` — идентификатор пользователя, совершившего заказ; <br/>\n",
    "`date` — дата, когда был совершён заказ; <br/>\n",
    "`revenue` — выручка заказа; <br/>\n",
    "`group` — группа A/B-теста, в которую попал заказ. <br/>\n",
    "\n",
    "* Файл /datasets/visitors.csv. содержит: <br/>\n",
    "`date` — дата; <br/>\n",
    "`group` — группа A/B-теста; <br/>\n",
    "`visitors` — количество пользователей в указанную дату в указанной группе A/B-теста."
   ]
  },
  {
   "cell_type": "markdown",
   "metadata": {},
   "source": [
    "<a id=\"enter\"></a>\n",
    "**Содержание:**\n",
    "\n",
    "1. [Рассмотрение и обработка данных.](#start)\n",
    "    * [1.1 Данные для 9 гипотез по увеличению выручки магазина](#hip)\n",
    "    * [1.2 Данные данные о заказах в группах А и В](#ord)\n",
    "    * [1.3 Данные о посещениях в группах А и В](#vis)\n",
    "    * [1.4 Проверка данных на дубликаты и пересечения](#dup)\n",
    "2. [Приоритизация гипотез](#prior)\n",
    "    * [2.1 Приоритизация гипотез c применением фреймворка ICE](#ice)\n",
    "    * [2.2 Приоритизация гипотез c применением фреймворка RICE](#rice)\n",
    "3. [Анализ А/В теста](#ab)\n",
    "    * [3.1 Построение графика кумулятивной выручки](#crev)\n",
    "    * [3.2 Построение кумулятивного графика среднего чека по группам](#bill)\n",
    "    * [3.3 График относительного изменения кумулятивного среднего чека группы B к группе A]('bill_rate')\n",
    "    * [3.4 График кумулятивного среднего количества заказов на посетителя по группам]('mean_ord')\n",
    "    * [3.5 График относительного изменения кумулятивного среднего количества заказов на посетителя группы B к группе A]('mean_ord_prop')\n",
    "    * [3.6 Точечный график количества заказов по пользователям]('scatter')\n",
    "    * [3.7 Расчет 95-й и 99-й перцентили количества заказов на пользователя]('perc_ord')\n",
    "    * [3.8 Точечный график стоимостей заказов]('scatt_rev')\n",
    "    * [3.9 Расчет 95-й и 99-й перцентили стоимости заказов]('perc_rev')\n",
    "    * [3.10 Расчет статистической значимости различий в среднем количестве заказов на посетителя между группами по «сырым» данным]('ord_mwraw')\n",
    "    * [3.11 Расчет статистической значимости различий в среднем чеке заказа между группами по «сырым» данным]('bill_mwraw')\n",
    "    * [3.12 Расчет статистической значимости различий в среднем количестве заказов на посетителя между группами по «очищенным» данным]('ord_mwfilter')\n",
    "    * [3.13 Расчет статистической значимости различий в среднем чеке заказа между группами по «очищенным» данным]('bill_mwfilter')\n",
    "4. [Выводы](#conclusion)"
   ]
  },
  {
   "cell_type": "code",
   "execution_count": 1,
   "metadata": {},
   "outputs": [],
   "source": [
    "# импорт библиотек \n",
    "import pandas as pd\n",
    "import numpy as np\n",
    "import matplotlib.pyplot as plt\n",
    "import matplotlib.ticker as ticker\n",
    "import datetime as dt\n",
    "import scipy.stats as stats"
   ]
  },
  {
   "cell_type": "markdown",
   "metadata": {},
   "source": [
    "<a id='start'></a>\n",
    "## Рассмотрение и обработка данных."
   ]
  },
  {
   "cell_type": "markdown",
   "metadata": {},
   "source": [
    "<a id='hip'></a>\n",
    "###  Данные для 9 гипотез по увеличению выручки магазина"
   ]
  },
  {
   "cell_type": "markdown",
   "metadata": {},
   "source": [
    "Начнем анализ с рассмотрения гипотез. Для этого прочтем файл `hypothesis.csv` и изучим его содержимое."
   ]
  },
  {
   "cell_type": "code",
   "execution_count": 2,
   "metadata": {},
   "outputs": [],
   "source": [
    "hypothesis=pd.read_csv('hypothesis.csv')"
   ]
  },
  {
   "cell_type": "code",
   "execution_count": 3,
   "metadata": {},
   "outputs": [
    {
     "data": {
      "text/html": [
       "<div>\n",
       "<style scoped>\n",
       "    .dataframe tbody tr th:only-of-type {\n",
       "        vertical-align: middle;\n",
       "    }\n",
       "\n",
       "    .dataframe tbody tr th {\n",
       "        vertical-align: top;\n",
       "    }\n",
       "\n",
       "    .dataframe thead th {\n",
       "        text-align: right;\n",
       "    }\n",
       "</style>\n",
       "<table border=\"1\" class=\"dataframe\">\n",
       "  <thead>\n",
       "    <tr style=\"text-align: right;\">\n",
       "      <th></th>\n",
       "      <th>Hypothesis</th>\n",
       "      <th>Reach</th>\n",
       "      <th>Impact</th>\n",
       "      <th>Confidence</th>\n",
       "      <th>Efforts</th>\n",
       "    </tr>\n",
       "  </thead>\n",
       "  <tbody>\n",
       "    <tr>\n",
       "      <th>0</th>\n",
       "      <td>Добавить два новых канала привлечения трафика,...</td>\n",
       "      <td>3</td>\n",
       "      <td>10</td>\n",
       "      <td>8</td>\n",
       "      <td>6</td>\n",
       "    </tr>\n",
       "    <tr>\n",
       "      <th>1</th>\n",
       "      <td>Запустить собственную службу доставки, что сок...</td>\n",
       "      <td>2</td>\n",
       "      <td>5</td>\n",
       "      <td>4</td>\n",
       "      <td>10</td>\n",
       "    </tr>\n",
       "    <tr>\n",
       "      <th>2</th>\n",
       "      <td>Добавить блоки рекомендаций товаров на сайт ин...</td>\n",
       "      <td>8</td>\n",
       "      <td>3</td>\n",
       "      <td>7</td>\n",
       "      <td>3</td>\n",
       "    </tr>\n",
       "    <tr>\n",
       "      <th>3</th>\n",
       "      <td>Изменить структура категорий, что увеличит кон...</td>\n",
       "      <td>8</td>\n",
       "      <td>3</td>\n",
       "      <td>3</td>\n",
       "      <td>8</td>\n",
       "    </tr>\n",
       "    <tr>\n",
       "      <th>4</th>\n",
       "      <td>Изменить цвет фона главной страницы, чтобы уве...</td>\n",
       "      <td>3</td>\n",
       "      <td>1</td>\n",
       "      <td>1</td>\n",
       "      <td>1</td>\n",
       "    </tr>\n",
       "    <tr>\n",
       "      <th>5</th>\n",
       "      <td>Добавить страницу отзывов клиентов о магазине,...</td>\n",
       "      <td>3</td>\n",
       "      <td>2</td>\n",
       "      <td>2</td>\n",
       "      <td>3</td>\n",
       "    </tr>\n",
       "    <tr>\n",
       "      <th>6</th>\n",
       "      <td>Показать на главной странице баннеры с актуаль...</td>\n",
       "      <td>5</td>\n",
       "      <td>3</td>\n",
       "      <td>8</td>\n",
       "      <td>3</td>\n",
       "    </tr>\n",
       "    <tr>\n",
       "      <th>7</th>\n",
       "      <td>Добавить форму подписки на все основные страни...</td>\n",
       "      <td>10</td>\n",
       "      <td>7</td>\n",
       "      <td>8</td>\n",
       "      <td>5</td>\n",
       "    </tr>\n",
       "    <tr>\n",
       "      <th>8</th>\n",
       "      <td>Запустить акцию, дающую скидку на товар в день...</td>\n",
       "      <td>1</td>\n",
       "      <td>9</td>\n",
       "      <td>9</td>\n",
       "      <td>5</td>\n",
       "    </tr>\n",
       "  </tbody>\n",
       "</table>\n",
       "</div>"
      ],
      "text/plain": [
       "                                          Hypothesis  Reach  Impact  \\\n",
       "0  Добавить два новых канала привлечения трафика,...      3      10   \n",
       "1  Запустить собственную службу доставки, что сок...      2       5   \n",
       "2  Добавить блоки рекомендаций товаров на сайт ин...      8       3   \n",
       "3  Изменить структура категорий, что увеличит кон...      8       3   \n",
       "4  Изменить цвет фона главной страницы, чтобы уве...      3       1   \n",
       "5  Добавить страницу отзывов клиентов о магазине,...      3       2   \n",
       "6  Показать на главной странице баннеры с актуаль...      5       3   \n",
       "7  Добавить форму подписки на все основные страни...     10       7   \n",
       "8  Запустить акцию, дающую скидку на товар в день...      1       9   \n",
       "\n",
       "   Confidence  Efforts  \n",
       "0           8        6  \n",
       "1           4       10  \n",
       "2           7        3  \n",
       "3           3        8  \n",
       "4           1        1  \n",
       "5           2        3  \n",
       "6           8        3  \n",
       "7           8        5  \n",
       "8           9        5  "
      ]
     },
     "metadata": {},
     "output_type": "display_data"
    }
   ],
   "source": [
    "display(hypothesis)"
   ]
  },
  {
   "cell_type": "code",
   "execution_count": 4,
   "metadata": {
    "scrolled": true
   },
   "outputs": [
    {
     "data": {
      "text/plain": [
       "{'Добавить блоки рекомендаций товаров на сайт интернет магазина, чтобы повысить конверсию и средний чек заказа',\n",
       " 'Добавить два новых канала привлечения трафика, что позволит привлекать на 30% больше пользователей',\n",
       " 'Добавить страницу отзывов клиентов о магазине, что позволит увеличить количество заказов',\n",
       " 'Добавить форму подписки на все основные страницы, чтобы собрать базу клиентов для email-рассылок',\n",
       " 'Запустить акцию, дающую скидку на товар в день рождения',\n",
       " 'Запустить собственную службу доставки, что сократит срок доставки заказов',\n",
       " 'Изменить структура категорий, что увеличит конверсию, т.к. пользователи быстрее найдут нужный товар',\n",
       " 'Изменить цвет фона главной страницы, чтобы увеличить вовлеченность пользователей',\n",
       " 'Показать на главной странице баннеры с актуальными акциями и распродажами, чтобы увеличить конверсию'}"
      ]
     },
     "metadata": {},
     "output_type": "display_data"
    }
   ],
   "source": [
    "display(set(hypothesis['Hypothesis']))"
   ]
  },
  {
   "cell_type": "code",
   "execution_count": 5,
   "metadata": {},
   "outputs": [
    {
     "name": "stdout",
     "output_type": "stream",
     "text": [
      "<class 'pandas.core.frame.DataFrame'>\n",
      "RangeIndex: 9 entries, 0 to 8\n",
      "Data columns (total 5 columns):\n",
      " #   Column      Non-Null Count  Dtype \n",
      "---  ------      --------------  ----- \n",
      " 0   Hypothesis  9 non-null      object\n",
      " 1   Reach       9 non-null      int64 \n",
      " 2   Impact      9 non-null      int64 \n",
      " 3   Confidence  9 non-null      int64 \n",
      " 4   Efforts     9 non-null      int64 \n",
      "dtypes: int64(4), object(1)\n",
      "memory usage: 488.0+ bytes\n"
     ]
    }
   ],
   "source": [
    "hypothesis.info()"
   ]
  },
  {
   "cell_type": "markdown",
   "metadata": {},
   "source": [
    "Итак, таблица состоит из 9 строк и 5 столбцов. Названия гипотез имеют общий формат. Столбцы ICE и RICE имеют формат float64, остальные формат int64. "
   ]
  },
  {
   "cell_type": "markdown",
   "metadata": {},
   "source": [
    "[к содержанию](#enter)"
   ]
  },
  {
   "cell_type": "markdown",
   "metadata": {},
   "source": [
    "<a id='ord'></a>\n",
    "### Данные данные о заказах в группах А и В"
   ]
  },
  {
   "cell_type": "markdown",
   "metadata": {},
   "source": [
    "Раскроем файл с информацией о заказах."
   ]
  },
  {
   "cell_type": "code",
   "execution_count": 6,
   "metadata": {},
   "outputs": [],
   "source": [
    "orders=pd.read_csv('orders.csv')"
   ]
  },
  {
   "cell_type": "code",
   "execution_count": 7,
   "metadata": {},
   "outputs": [
    {
     "data": {
      "text/html": [
       "<div>\n",
       "<style scoped>\n",
       "    .dataframe tbody tr th:only-of-type {\n",
       "        vertical-align: middle;\n",
       "    }\n",
       "\n",
       "    .dataframe tbody tr th {\n",
       "        vertical-align: top;\n",
       "    }\n",
       "\n",
       "    .dataframe thead th {\n",
       "        text-align: right;\n",
       "    }\n",
       "</style>\n",
       "<table border=\"1\" class=\"dataframe\">\n",
       "  <thead>\n",
       "    <tr style=\"text-align: right;\">\n",
       "      <th></th>\n",
       "      <th>transactionId</th>\n",
       "      <th>visitorId</th>\n",
       "      <th>date</th>\n",
       "      <th>revenue</th>\n",
       "      <th>group</th>\n",
       "    </tr>\n",
       "  </thead>\n",
       "  <tbody>\n",
       "    <tr>\n",
       "      <th>0</th>\n",
       "      <td>3667963787</td>\n",
       "      <td>3312258926</td>\n",
       "      <td>2019-08-15</td>\n",
       "      <td>1650</td>\n",
       "      <td>B</td>\n",
       "    </tr>\n",
       "    <tr>\n",
       "      <th>1</th>\n",
       "      <td>2804400009</td>\n",
       "      <td>3642806036</td>\n",
       "      <td>2019-08-15</td>\n",
       "      <td>730</td>\n",
       "      <td>B</td>\n",
       "    </tr>\n",
       "    <tr>\n",
       "      <th>2</th>\n",
       "      <td>2961555356</td>\n",
       "      <td>4069496402</td>\n",
       "      <td>2019-08-15</td>\n",
       "      <td>400</td>\n",
       "      <td>A</td>\n",
       "    </tr>\n",
       "    <tr>\n",
       "      <th>3</th>\n",
       "      <td>3797467345</td>\n",
       "      <td>1196621759</td>\n",
       "      <td>2019-08-15</td>\n",
       "      <td>9759</td>\n",
       "      <td>B</td>\n",
       "    </tr>\n",
       "    <tr>\n",
       "      <th>4</th>\n",
       "      <td>2282983706</td>\n",
       "      <td>2322279887</td>\n",
       "      <td>2019-08-15</td>\n",
       "      <td>2308</td>\n",
       "      <td>B</td>\n",
       "    </tr>\n",
       "  </tbody>\n",
       "</table>\n",
       "</div>"
      ],
      "text/plain": [
       "   transactionId   visitorId        date  revenue group\n",
       "0     3667963787  3312258926  2019-08-15     1650     B\n",
       "1     2804400009  3642806036  2019-08-15      730     B\n",
       "2     2961555356  4069496402  2019-08-15      400     A\n",
       "3     3797467345  1196621759  2019-08-15     9759     B\n",
       "4     2282983706  2322279887  2019-08-15     2308     B"
      ]
     },
     "metadata": {},
     "output_type": "display_data"
    }
   ],
   "source": [
    "display(orders.head())"
   ]
  },
  {
   "cell_type": "code",
   "execution_count": 8,
   "metadata": {},
   "outputs": [
    {
     "name": "stdout",
     "output_type": "stream",
     "text": [
      "<class 'pandas.core.frame.DataFrame'>\n",
      "RangeIndex: 1197 entries, 0 to 1196\n",
      "Data columns (total 5 columns):\n",
      " #   Column         Non-Null Count  Dtype \n",
      "---  ------         --------------  ----- \n",
      " 0   transactionId  1197 non-null   int64 \n",
      " 1   visitorId      1197 non-null   int64 \n",
      " 2   date           1197 non-null   object\n",
      " 3   revenue        1197 non-null   int64 \n",
      " 4   group          1197 non-null   object\n",
      "dtypes: int64(3), object(2)\n",
      "memory usage: 46.9+ KB\n"
     ]
    }
   ],
   "source": [
    "orders.info()"
   ]
  },
  {
   "cell_type": "markdown",
   "metadata": {},
   "source": [
    "Датасет состоит из 1197 строк и 5 столбцов. Столбцы `transactionId`, `visitorId` и `revenue` имеют формат int64, а `date` и `group` имеют формат object. Поскольку в столбце `date` указано время заказа, исправим его формат на соответствующий.                                      "
   ]
  },
  {
   "cell_type": "code",
   "execution_count": 9,
   "metadata": {},
   "outputs": [],
   "source": [
    "orders['date'] = orders['date'].map(\n",
    "    lambda x: dt.datetime.strptime(x, '%Y-%m-%d'))"
   ]
  },
  {
   "cell_type": "code",
   "execution_count": 10,
   "metadata": {},
   "outputs": [
    {
     "data": {
      "text/plain": [
       "168    2019-08-01\n",
       "73     2019-08-01\n",
       "72     2019-08-01\n",
       "71     2019-08-01\n",
       "70     2019-08-01\n",
       "          ...    \n",
       "1021   2019-08-31\n",
       "1022   2019-08-31\n",
       "1023   2019-08-31\n",
       "995    2019-08-31\n",
       "959    2019-08-31\n",
       "Name: date, Length: 1197, dtype: datetime64[ns]"
      ]
     },
     "metadata": {},
     "output_type": "display_data"
    }
   ],
   "source": [
    "display(orders['date'].sort_values())"
   ]
  },
  {
   "cell_type": "markdown",
   "metadata": {},
   "source": [
    "Данные столбца `date` говорят о том, что исследуемый период с 2019-08-01 по 2019-08-31."
   ]
  },
  {
   "cell_type": "markdown",
   "metadata": {},
   "source": [
    "[к содержанию](#enter)"
   ]
  },
  {
   "cell_type": "markdown",
   "metadata": {},
   "source": [
    "<a id='vis'></a>\n",
    "### Данные о посещениях в группах А и В"
   ]
  },
  {
   "cell_type": "markdown",
   "metadata": {},
   "source": [
    "Рассмотрим датасет с информацией о числе посещений."
   ]
  },
  {
   "cell_type": "code",
   "execution_count": 11,
   "metadata": {},
   "outputs": [],
   "source": [
    "visits=pd.read_csv('visitors.csv')"
   ]
  },
  {
   "cell_type": "code",
   "execution_count": 12,
   "metadata": {},
   "outputs": [
    {
     "data": {
      "text/html": [
       "<div>\n",
       "<style scoped>\n",
       "    .dataframe tbody tr th:only-of-type {\n",
       "        vertical-align: middle;\n",
       "    }\n",
       "\n",
       "    .dataframe tbody tr th {\n",
       "        vertical-align: top;\n",
       "    }\n",
       "\n",
       "    .dataframe thead th {\n",
       "        text-align: right;\n",
       "    }\n",
       "</style>\n",
       "<table border=\"1\" class=\"dataframe\">\n",
       "  <thead>\n",
       "    <tr style=\"text-align: right;\">\n",
       "      <th></th>\n",
       "      <th>date</th>\n",
       "      <th>group</th>\n",
       "      <th>visitors</th>\n",
       "    </tr>\n",
       "  </thead>\n",
       "  <tbody>\n",
       "    <tr>\n",
       "      <th>0</th>\n",
       "      <td>2019-08-01</td>\n",
       "      <td>A</td>\n",
       "      <td>719</td>\n",
       "    </tr>\n",
       "    <tr>\n",
       "      <th>1</th>\n",
       "      <td>2019-08-02</td>\n",
       "      <td>A</td>\n",
       "      <td>619</td>\n",
       "    </tr>\n",
       "    <tr>\n",
       "      <th>2</th>\n",
       "      <td>2019-08-03</td>\n",
       "      <td>A</td>\n",
       "      <td>507</td>\n",
       "    </tr>\n",
       "    <tr>\n",
       "      <th>3</th>\n",
       "      <td>2019-08-04</td>\n",
       "      <td>A</td>\n",
       "      <td>717</td>\n",
       "    </tr>\n",
       "    <tr>\n",
       "      <th>4</th>\n",
       "      <td>2019-08-05</td>\n",
       "      <td>A</td>\n",
       "      <td>756</td>\n",
       "    </tr>\n",
       "  </tbody>\n",
       "</table>\n",
       "</div>"
      ],
      "text/plain": [
       "         date group  visitors\n",
       "0  2019-08-01     A       719\n",
       "1  2019-08-02     A       619\n",
       "2  2019-08-03     A       507\n",
       "3  2019-08-04     A       717\n",
       "4  2019-08-05     A       756"
      ]
     },
     "metadata": {},
     "output_type": "display_data"
    }
   ],
   "source": [
    "display(visits.head())"
   ]
  },
  {
   "cell_type": "code",
   "execution_count": 13,
   "metadata": {},
   "outputs": [
    {
     "name": "stdout",
     "output_type": "stream",
     "text": [
      "<class 'pandas.core.frame.DataFrame'>\n",
      "RangeIndex: 62 entries, 0 to 61\n",
      "Data columns (total 3 columns):\n",
      " #   Column    Non-Null Count  Dtype \n",
      "---  ------    --------------  ----- \n",
      " 0   date      62 non-null     object\n",
      " 1   group     62 non-null     object\n",
      " 2   visitors  62 non-null     int64 \n",
      "dtypes: int64(1), object(2)\n",
      "memory usage: 1.6+ KB\n"
     ]
    }
   ],
   "source": [
    "visits.info()"
   ]
  },
  {
   "cell_type": "markdown",
   "metadata": {},
   "source": [
    "Таблица состоит из 62 строк и 3 столбцов. Формат столбца `visitors` int64, остальных - object. Приведем столбец `date` к нужному формату. "
   ]
  },
  {
   "cell_type": "code",
   "execution_count": 14,
   "metadata": {},
   "outputs": [],
   "source": [
    "visits['date'] = visits['date'].map(\n",
    "    lambda x: dt.datetime.strptime(x, '%Y-%m-%d'))"
   ]
  },
  {
   "cell_type": "markdown",
   "metadata": {},
   "source": [
    "Число строк по каждой из групп соотвествует рассматриваемому периоду и равно числу дней. "
   ]
  },
  {
   "cell_type": "code",
   "execution_count": 15,
   "metadata": {
    "scrolled": false
   },
   "outputs": [
    {
     "name": "stdout",
     "output_type": "stream",
     "text": [
      "Число строк для группы А 31\n",
      "Число строк для группы B 31\n"
     ]
    }
   ],
   "source": [
    "print('Число строк для группы А', visits[visits['group']=='A']['group'].count())\n",
    "print('Число строк для группы B', visits[visits['group']=='B']['group'].count())"
   ]
  },
  {
   "cell_type": "markdown",
   "metadata": {},
   "source": [
    "<a id='dup'></a>\n",
    "### Проверка данных на дубликаты и пересечения"
   ]
  },
  {
   "cell_type": "markdown",
   "metadata": {},
   "source": [
    "Проверим есть ли явные дубликаты"
   ]
  },
  {
   "cell_type": "markdown",
   "metadata": {},
   "source": [
    "Датасет `orders`"
   ]
  },
  {
   "cell_type": "code",
   "execution_count": 16,
   "metadata": {},
   "outputs": [
    {
     "data": {
      "text/plain": [
       "array([False])"
      ]
     },
     "execution_count": 16,
     "metadata": {},
     "output_type": "execute_result"
    }
   ],
   "source": [
    "orders.duplicated().unique()"
   ]
  },
  {
   "cell_type": "markdown",
   "metadata": {},
   "source": [
    "Датасет `visits`"
   ]
  },
  {
   "cell_type": "code",
   "execution_count": 17,
   "metadata": {},
   "outputs": [
    {
     "data": {
      "text/plain": [
       "array([False])"
      ]
     },
     "execution_count": 17,
     "metadata": {},
     "output_type": "execute_result"
    }
   ],
   "source": [
    "visits.duplicated().unique()"
   ]
  },
  {
   "cell_type": "markdown",
   "metadata": {},
   "source": [
    "Явных дубликатов нет. Проверим есть ли неявные дубликаты"
   ]
  },
  {
   "cell_type": "code",
   "execution_count": 18,
   "metadata": {},
   "outputs": [
    {
     "data": {
      "text/plain": [
       "1197"
      ]
     },
     "execution_count": 18,
     "metadata": {},
     "output_type": "execute_result"
    }
   ],
   "source": [
    "orders['transactionId'].nunique()"
   ]
  },
  {
   "cell_type": "code",
   "execution_count": 19,
   "metadata": {},
   "outputs": [
    {
     "data": {
      "text/plain": [
       "array(['B', 'A'], dtype=object)"
      ]
     },
     "execution_count": 19,
     "metadata": {},
     "output_type": "execute_result"
    }
   ],
   "source": [
    "orders['group'].unique()"
   ]
  },
  {
   "cell_type": "code",
   "execution_count": 20,
   "metadata": {},
   "outputs": [
    {
     "data": {
      "text/plain": [
       "array(['A', 'B'], dtype=object)"
      ]
     },
     "execution_count": 20,
     "metadata": {},
     "output_type": "execute_result"
    }
   ],
   "source": [
    "visits['group'].unique()"
   ]
  },
  {
   "cell_type": "markdown",
   "metadata": {},
   "source": [
    "Неявных дубликатов также нет."
   ]
  },
  {
   "cell_type": "markdown",
   "metadata": {},
   "source": [
    "Проверим есть ли пересечение пользователей по группам"
   ]
  },
  {
   "cell_type": "code",
   "execution_count": 21,
   "metadata": {},
   "outputs": [
    {
     "name": "stdout",
     "output_type": "stream",
     "text": [
      "92\n"
     ]
    }
   ],
   "source": [
    "uniq_userA=orders.query('group==\"A\"')['visitorId'].unique()\n",
    "userAB=orders.query('group==\"B\" & (visitorId in @uniq_userA)')['visitorId']\n",
    "print(userAB.count())"
   ]
  },
  {
   "cell_type": "markdown",
   "metadata": {},
   "source": [
    "Как видно в заказах есть 92 строки где один и тот же пользователь входит в обе группы. Удалим эти строки."
   ]
  },
  {
   "cell_type": "code",
   "execution_count": 22,
   "metadata": {},
   "outputs": [
    {
     "data": {
      "text/plain": [
       "'Число непересекающихся строк:'"
      ]
     },
     "metadata": {},
     "output_type": "display_data"
    },
    {
     "data": {
      "text/plain": [
       "1016"
      ]
     },
     "metadata": {},
     "output_type": "display_data"
    }
   ],
   "source": [
    "orders=orders.query('visitorId not in @userAB')\n",
    "display('Число непересекающихся строк:', orders['visitorId'].count())"
   ]
  },
  {
   "cell_type": "markdown",
   "metadata": {},
   "source": [
    "[к содержанию](#enter)"
   ]
  },
  {
   "cell_type": "markdown",
   "metadata": {},
   "source": [
    "<a id='prior'></a>\n",
    "## Приоритизация гипотез."
   ]
  },
  {
   "cell_type": "markdown",
   "metadata": {},
   "source": [
    "<a id='ice'></a>\n",
    "### Приоритизация гипотез c применением фреймворка ICE"
   ]
  },
  {
   "cell_type": "markdown",
   "metadata": {},
   "source": [
    "Применим фреймворк ICE для приоритизации гипотез и отсортируем их по убыванию приоритета. В соответствии с методом ICE (от англ. impact, confidence, effort / ease «влияние, уверенность, усилия / простота») показатель приоритета определяется: `Impact` x `Confidence`/ `Efforts`."
   ]
  },
  {
   "cell_type": "code",
   "execution_count": 23,
   "metadata": {},
   "outputs": [],
   "source": [
    "hypothesis['ICE']=hypothesis['Impact']*hypothesis['Confidence']/hypothesis['Efforts']"
   ]
  },
  {
   "cell_type": "code",
   "execution_count": 24,
   "metadata": {},
   "outputs": [
    {
     "data": {
      "text/html": [
       "<div>\n",
       "<style scoped>\n",
       "    .dataframe tbody tr th:only-of-type {\n",
       "        vertical-align: middle;\n",
       "    }\n",
       "\n",
       "    .dataframe tbody tr th {\n",
       "        vertical-align: top;\n",
       "    }\n",
       "\n",
       "    .dataframe thead th {\n",
       "        text-align: right;\n",
       "    }\n",
       "</style>\n",
       "<table border=\"1\" class=\"dataframe\">\n",
       "  <thead>\n",
       "    <tr style=\"text-align: right;\">\n",
       "      <th></th>\n",
       "      <th>Hypothesis</th>\n",
       "      <th>ICE</th>\n",
       "    </tr>\n",
       "  </thead>\n",
       "  <tbody>\n",
       "    <tr>\n",
       "      <th>8</th>\n",
       "      <td>Запустить акцию, дающую скидку на товар в день рождения</td>\n",
       "      <td>16.200000</td>\n",
       "    </tr>\n",
       "    <tr>\n",
       "      <th>0</th>\n",
       "      <td>Добавить два новых канала привлечения трафика, что позволит привлекать на 30% больше пользователей</td>\n",
       "      <td>13.333333</td>\n",
       "    </tr>\n",
       "    <tr>\n",
       "      <th>7</th>\n",
       "      <td>Добавить форму подписки на все основные страницы, чтобы собрать базу клиентов для email-рассылок</td>\n",
       "      <td>11.200000</td>\n",
       "    </tr>\n",
       "    <tr>\n",
       "      <th>6</th>\n",
       "      <td>Показать на главной странице баннеры с актуальными акциями и распродажами, чтобы увеличить конверсию</td>\n",
       "      <td>8.000000</td>\n",
       "    </tr>\n",
       "    <tr>\n",
       "      <th>2</th>\n",
       "      <td>Добавить блоки рекомендаций товаров на сайт интернет магазина, чтобы повысить конверсию и средний чек заказа</td>\n",
       "      <td>7.000000</td>\n",
       "    </tr>\n",
       "    <tr>\n",
       "      <th>1</th>\n",
       "      <td>Запустить собственную службу доставки, что сократит срок доставки заказов</td>\n",
       "      <td>2.000000</td>\n",
       "    </tr>\n",
       "    <tr>\n",
       "      <th>5</th>\n",
       "      <td>Добавить страницу отзывов клиентов о магазине, что позволит увеличить количество заказов</td>\n",
       "      <td>1.333333</td>\n",
       "    </tr>\n",
       "    <tr>\n",
       "      <th>3</th>\n",
       "      <td>Изменить структура категорий, что увеличит конверсию, т.к. пользователи быстрее найдут нужный товар</td>\n",
       "      <td>1.125000</td>\n",
       "    </tr>\n",
       "    <tr>\n",
       "      <th>4</th>\n",
       "      <td>Изменить цвет фона главной страницы, чтобы увеличить вовлеченность пользователей</td>\n",
       "      <td>1.000000</td>\n",
       "    </tr>\n",
       "  </tbody>\n",
       "</table>\n",
       "</div>"
      ],
      "text/plain": [
       "                                                                                                     Hypothesis  \\\n",
       "8                                                       Запустить акцию, дающую скидку на товар в день рождения   \n",
       "0            Добавить два новых канала привлечения трафика, что позволит привлекать на 30% больше пользователей   \n",
       "7              Добавить форму подписки на все основные страницы, чтобы собрать базу клиентов для email-рассылок   \n",
       "6          Показать на главной странице баннеры с актуальными акциями и распродажами, чтобы увеличить конверсию   \n",
       "2  Добавить блоки рекомендаций товаров на сайт интернет магазина, чтобы повысить конверсию и средний чек заказа   \n",
       "1                                     Запустить собственную службу доставки, что сократит срок доставки заказов   \n",
       "5                      Добавить страницу отзывов клиентов о магазине, что позволит увеличить количество заказов   \n",
       "3           Изменить структура категорий, что увеличит конверсию, т.к. пользователи быстрее найдут нужный товар   \n",
       "4                              Изменить цвет фона главной страницы, чтобы увеличить вовлеченность пользователей   \n",
       "\n",
       "         ICE  \n",
       "8  16.200000  \n",
       "0  13.333333  \n",
       "7  11.200000  \n",
       "6   8.000000  \n",
       "2   7.000000  \n",
       "1   2.000000  \n",
       "5   1.333333  \n",
       "3   1.125000  \n",
       "4   1.000000  "
      ]
     },
     "metadata": {},
     "output_type": "display_data"
    }
   ],
   "source": [
    "pd.options.display.max_colwidth = 400\n",
    "display(hypothesis[['Hypothesis', 'ICE']].sort_values(by='ICE', ascending=False))"
   ]
  },
  {
   "cell_type": "markdown",
   "metadata": {},
   "source": [
    "Наибольший приоритет 16.2 у гипотезы `Запустить акцию, дающую скидку на товар в день рождения`, далее 13.3 балла у гипотезы `Добавить два новых канала привлечения трафика, что позволит привлекать на 30% больше пользователей`. На третьем месте гипотеза `Добавить форму подписки на все основные страницы, чтобы собрать базу клиентов для email-рассылок` - 11.2 балла."
   ]
  },
  {
   "cell_type": "markdown",
   "metadata": {},
   "source": [
    "[к содержанию](#enter)"
   ]
  },
  {
   "cell_type": "markdown",
   "metadata": {},
   "source": [
    "<a id='rice'></a>\n",
    "### Приоритизация гипотез c применением фреймворка RICE"
   ]
  },
  {
   "cell_type": "markdown",
   "metadata": {},
   "source": [
    "Применим фреймворк RICE для приоритизации гипотез и отсортируем их по убыванию приоритета. В соответствии с методом RICE (от англ. reach, impact, confidence, effort / ease «охват, влияние, уверенность, усилия / простота») показатель приоритета определяется: `Reach` x `Impact` x `Confidence`/ `Efforts`."
   ]
  },
  {
   "cell_type": "code",
   "execution_count": 25,
   "metadata": {},
   "outputs": [],
   "source": [
    "hypothesis['RICE']=hypothesis['Reach']*hypothesis['Impact']*hypothesis['Confidence']/hypothesis['Efforts']"
   ]
  },
  {
   "cell_type": "code",
   "execution_count": 26,
   "metadata": {},
   "outputs": [
    {
     "data": {
      "text/html": [
       "<div>\n",
       "<style scoped>\n",
       "    .dataframe tbody tr th:only-of-type {\n",
       "        vertical-align: middle;\n",
       "    }\n",
       "\n",
       "    .dataframe tbody tr th {\n",
       "        vertical-align: top;\n",
       "    }\n",
       "\n",
       "    .dataframe thead th {\n",
       "        text-align: right;\n",
       "    }\n",
       "</style>\n",
       "<table border=\"1\" class=\"dataframe\">\n",
       "  <thead>\n",
       "    <tr style=\"text-align: right;\">\n",
       "      <th></th>\n",
       "      <th>Hypothesis</th>\n",
       "      <th>RICE</th>\n",
       "    </tr>\n",
       "  </thead>\n",
       "  <tbody>\n",
       "    <tr>\n",
       "      <th>7</th>\n",
       "      <td>Добавить форму подписки на все основные страницы, чтобы собрать базу клиентов для email-рассылок</td>\n",
       "      <td>112.0</td>\n",
       "    </tr>\n",
       "    <tr>\n",
       "      <th>2</th>\n",
       "      <td>Добавить блоки рекомендаций товаров на сайт интернет магазина, чтобы повысить конверсию и средний чек заказа</td>\n",
       "      <td>56.0</td>\n",
       "    </tr>\n",
       "    <tr>\n",
       "      <th>0</th>\n",
       "      <td>Добавить два новых канала привлечения трафика, что позволит привлекать на 30% больше пользователей</td>\n",
       "      <td>40.0</td>\n",
       "    </tr>\n",
       "    <tr>\n",
       "      <th>6</th>\n",
       "      <td>Показать на главной странице баннеры с актуальными акциями и распродажами, чтобы увеличить конверсию</td>\n",
       "      <td>40.0</td>\n",
       "    </tr>\n",
       "    <tr>\n",
       "      <th>8</th>\n",
       "      <td>Запустить акцию, дающую скидку на товар в день рождения</td>\n",
       "      <td>16.2</td>\n",
       "    </tr>\n",
       "    <tr>\n",
       "      <th>3</th>\n",
       "      <td>Изменить структура категорий, что увеличит конверсию, т.к. пользователи быстрее найдут нужный товар</td>\n",
       "      <td>9.0</td>\n",
       "    </tr>\n",
       "    <tr>\n",
       "      <th>1</th>\n",
       "      <td>Запустить собственную службу доставки, что сократит срок доставки заказов</td>\n",
       "      <td>4.0</td>\n",
       "    </tr>\n",
       "    <tr>\n",
       "      <th>5</th>\n",
       "      <td>Добавить страницу отзывов клиентов о магазине, что позволит увеличить количество заказов</td>\n",
       "      <td>4.0</td>\n",
       "    </tr>\n",
       "    <tr>\n",
       "      <th>4</th>\n",
       "      <td>Изменить цвет фона главной страницы, чтобы увеличить вовлеченность пользователей</td>\n",
       "      <td>3.0</td>\n",
       "    </tr>\n",
       "  </tbody>\n",
       "</table>\n",
       "</div>"
      ],
      "text/plain": [
       "                                                                                                     Hypothesis  \\\n",
       "7              Добавить форму подписки на все основные страницы, чтобы собрать базу клиентов для email-рассылок   \n",
       "2  Добавить блоки рекомендаций товаров на сайт интернет магазина, чтобы повысить конверсию и средний чек заказа   \n",
       "0            Добавить два новых канала привлечения трафика, что позволит привлекать на 30% больше пользователей   \n",
       "6          Показать на главной странице баннеры с актуальными акциями и распродажами, чтобы увеличить конверсию   \n",
       "8                                                       Запустить акцию, дающую скидку на товар в день рождения   \n",
       "3           Изменить структура категорий, что увеличит конверсию, т.к. пользователи быстрее найдут нужный товар   \n",
       "1                                     Запустить собственную службу доставки, что сократит срок доставки заказов   \n",
       "5                      Добавить страницу отзывов клиентов о магазине, что позволит увеличить количество заказов   \n",
       "4                              Изменить цвет фона главной страницы, чтобы увеличить вовлеченность пользователей   \n",
       "\n",
       "    RICE  \n",
       "7  112.0  \n",
       "2   56.0  \n",
       "0   40.0  \n",
       "6   40.0  \n",
       "8   16.2  \n",
       "3    9.0  \n",
       "1    4.0  \n",
       "5    4.0  \n",
       "4    3.0  "
      ]
     },
     "metadata": {},
     "output_type": "display_data"
    }
   ],
   "source": [
    "display(hypothesis[['Hypothesis', 'RICE']].sort_values(by='RICE', ascending=False))"
   ]
  },
  {
   "cell_type": "markdown",
   "metadata": {},
   "source": [
    "Как видно добавление параметра Reach поменяло распределение гипотез, что вполне объяснимо, ведь например `Запустить акцию, дающую скидку на товар в день рождения` имеет очень узкий охват, а если `Добавить форму подписки на все основные страницы, чтобы собрать базу клиентов для email-рассылок` то это затронет всех пользователей. Поэтому наибольший приоритет 112 - у гипотезы `Добавить форму подписки на все основные страницы, чтобы собрать базу клиентов для email-рассылок`, далее 56 баллов у гипотезы `Добавить блоки рекомендаций товаров на сайт интернет магазина, чтобы повысить конверсию и средний чек заказа`. На третьем месте гипотеза `Добавить два новых канала привлечения трафика, что позволит привлекать на 30% больше пользователей`  - 40 баллов."
   ]
  },
  {
   "cell_type": "markdown",
   "metadata": {},
   "source": [
    "**Вывод:** Из 9-ти гипотез наиболее приоритетными выбрем `Добавить форму подписки на все основные страницы, чтобы собрать базу клиентов для email-рассылок` и `Добавить два новых канала привлечения трафика, что позволит привлекать на 30% больше пользователей`."
   ]
  },
  {
   "cell_type": "markdown",
   "metadata": {},
   "source": [
    "[к содержанию](#enter)"
   ]
  },
  {
   "cell_type": "markdown",
   "metadata": {},
   "source": [
    "<a id='ab'></a>\n",
    "## Анализ А/В теста."
   ]
  },
  {
   "cell_type": "markdown",
   "metadata": {},
   "source": [
    "<a id='crev'></a>\n",
    "### Построение графика кумулятивной выручки"
   ]
  },
  {
   "cell_type": "markdown",
   "metadata": {},
   "source": [
    "Для построения графика кумулятивной выручки подготовим данные. В таблице `orders` cоздадим уникальную комбинацию столбцов даты и группы. Далее сложим выручку с нарастанием по дням, а затем разделим таблицу по группам А и В."
   ]
  },
  {
   "cell_type": "code",
   "execution_count": 27,
   "metadata": {},
   "outputs": [],
   "source": [
    "dategroups=orders[['date', 'group']].drop_duplicates()"
   ]
  },
  {
   "cell_type": "code",
   "execution_count": 28,
   "metadata": {},
   "outputs": [],
   "source": [
    "ordersCumulative= dategroups.apply(lambda x: orders[np.logical_and(orders['date']<=x['date'], orders['group']==x['group'])].agg({'date' : 'max', 'group' : 'max', 'transactionId' : 'nunique', 'visitorId' : 'nunique', 'revenue' : 'sum'}), axis=1).sort_values(by=['date','group'])"
   ]
  },
  {
   "cell_type": "code",
   "execution_count": 29,
   "metadata": {},
   "outputs": [],
   "source": [
    "ordersCumulative.columns=['date', 'group', 'orders', 'buyers', 'revenue']"
   ]
  },
  {
   "cell_type": "code",
   "execution_count": 30,
   "metadata": {},
   "outputs": [],
   "source": [
    "ordersCumulativeA = ordersCumulative[ordersCumulative['group']=='A'][['date', 'orders', 'buyers', 'revenue']]\n",
    "ordersCumulativeB = ordersCumulative[ordersCumulative['group']=='B'][['date', 'orders', 'buyers', 'revenue']]"
   ]
  },
  {
   "cell_type": "code",
   "execution_count": 31,
   "metadata": {},
   "outputs": [
    {
     "data": {
      "image/png": "[encoded data removed]",
      "text/plain": [
       "<Figure size 720x504 with 1 Axes>"
      ]
     },
     "metadata": {
      "needs_background": "light"
     },
     "output_type": "display_data"
    }
   ],
   "source": [
    "plt.figure(figsize=(10,7))\n",
    "# Строим график выручки группы А\n",
    "plt.plot(ordersCumulativeA['date'], ordersCumulativeA['revenue'], label='A')\n",
    "\n",
    "# Строим график выручки группы B\n",
    "plt.plot(ordersCumulativeB['date'], ordersCumulativeB['revenue'], label='B')\n",
    "\n",
    "plt.legend()\n",
    "plt.title('График кумулятивной выручки для групп А и В')\n",
    "plt.xlabel('Дата')\n",
    "plt.ylabel('Размер выручки');"
   ]
  },
  {
   "cell_type": "markdown",
   "metadata": {},
   "source": [
    "Как видно из графика до 13.08 разрыв в выручке в группах В и А то уменьшался, то увеличивался. Далее разница между В и А растет, особенно после скачка в районе 19-20.08 (возможно повлияли выбросы)."
   ]
  },
  {
   "cell_type": "markdown",
   "metadata": {},
   "source": [
    "[к содержанию](#enter)"
   ]
  },
  {
   "cell_type": "markdown",
   "metadata": {},
   "source": [
    "<a id='bill'></a>\n",
    "### Построение кумулятивного графика среднего чека по группам"
   ]
  },
  {
   "cell_type": "markdown",
   "metadata": {},
   "source": [
    "Сравним размеры средних чеков в группах, для чего разделим общую выручку на число заказов."
   ]
  },
  {
   "cell_type": "code",
   "execution_count": 32,
   "metadata": {},
   "outputs": [
    {
     "data": {
      "image/png": "[encoded data removed]",
      "text/plain": [
       "<Figure size 720x504 with 1 Axes>"
      ]
     },
     "metadata": {
      "needs_background": "light"
     },
     "output_type": "display_data"
    }
   ],
   "source": [
    "plt.figure(figsize=(10,7))\n",
    "# Строим график выручки группы А\n",
    "plt.plot(ordersCumulativeA['date'], ordersCumulativeA['revenue']/ordersCumulativeA['buyers'], label='A')\n",
    "\n",
    "# Строим график выручки группы B\n",
    "plt.plot(ordersCumulativeB['date'], ordersCumulativeB['revenue']/ordersCumulativeB['buyers'], label='B')\n",
    "\n",
    "plt.legend()\n",
    "plt.title('График кумулятивного среднего чека для групп А и В')\n",
    "plt.xlabel('Дата')\n",
    "plt.ylabel('Размер среднего чека');"
   ]
  },
  {
   "cell_type": "markdown",
   "metadata": {},
   "source": [
    "Средний чек имеет большие колебания в обеих группах. в группе В к концу периода разрыв после скачка 19-20.08 особенно заметен (не исключено что выбросы)."
   ]
  },
  {
   "cell_type": "markdown",
   "metadata": {},
   "source": [
    "[к содержанию](#enter)"
   ]
  },
  {
   "cell_type": "markdown",
   "metadata": {},
   "source": [
    "<a id='bill_rate'></a>\n",
    "### График относительного изменения кумулятивного среднего чека группы B к группе A."
   ]
  },
  {
   "cell_type": "markdown",
   "metadata": {},
   "source": [
    "Рассмотрим как соотносится средний чек в группах (изменение чека разделим на средний чек в группе А)."
   ]
  },
  {
   "cell_type": "code",
   "execution_count": 33,
   "metadata": {
    "scrolled": false
   },
   "outputs": [
    {
     "data": {
      "image/png": "[encoded data removed]",
      "text/plain": [
       "<Figure size 720x504 with 1 Axes>"
      ]
     },
     "metadata": {
      "needs_background": "light"
     },
     "output_type": "display_data"
    }
   ],
   "source": [
    "plt.figure(figsize=(10,7))\n",
    "orders_merged=ordersCumulativeA.merge(ordersCumulativeB, left_on='date', right_on='date', how='left', suffixes=['A', 'B'])\n",
    "\n",
    "plt.plot(orders_merged['date'], (orders_merged['revenueB']/orders_merged['buyersB'])/(orders_merged['revenueA']/orders_merged['buyersA'])-1)\n",
    "plt.axhline(y=0, color='pink', linestyle='--')\n",
    "plt.title('График относительного изменения среднего кумулятивного чека группы В к группе А')\n",
    "plt.xlabel('Дата')\n",
    "plt.ylabel('Отношение среднего кумулятивного чека группы В к группе А');"
   ]
  },
  {
   "cell_type": "markdown",
   "metadata": {},
   "source": [
    "Из графика видно, что вначале наблюдался более чем 50% разрыв (группа В ниже чем A). Затем до 7 августа отношение В к А сокращалось, и потом в В средний чек стал выше на 30%. Далее резкое падение до -20%, а затем рост и резкий скачок до 45% и падение до 25%. Картина крайне нестабильна и требует проверки данных на выбросы."
   ]
  },
  {
   "cell_type": "markdown",
   "metadata": {},
   "source": [
    "[к содержанию](#enter)"
   ]
  },
  {
   "cell_type": "markdown",
   "metadata": {},
   "source": [
    "<a id='mean_ord'></a>\n",
    "### График кумулятивного среднего количества заказов на посетителя по группам."
   ]
  },
  {
   "cell_type": "markdown",
   "metadata": {},
   "source": [
    "Найдем кумулятивное число посетителей и объединим их с кумулятивной таблицей заказов."
   ]
  },
  {
   "cell_type": "code",
   "execution_count": 34,
   "metadata": {},
   "outputs": [],
   "source": [
    "visitorsA = visits[visits['group']=='A']\n",
    "visitorsB = visits[visits['group']=='B']"
   ]
  },
  {
   "cell_type": "code",
   "execution_count": 35,
   "metadata": {},
   "outputs": [],
   "source": [
    "visitorsACumulative=visitorsA.apply(lambda x: visitorsA[visitorsA['date']<=x['date']].agg(\n",
    "    {'date':'max', 'visitors':'sum'}), axis=1)\n",
    "visitorsBCumulative=visitorsA.apply(lambda x: visitorsA[visitorsA['date']<=x['date']].agg(\n",
    "    {'date':'max', 'visitors':'sum'}), axis=1)"
   ]
  },
  {
   "cell_type": "code",
   "execution_count": 36,
   "metadata": {},
   "outputs": [],
   "source": [
    "visit_merged=visitorsACumulative.merge(visitorsBCumulative, left_on='date', right_on='date', suffixes=['A', 'B'])"
   ]
  },
  {
   "cell_type": "code",
   "execution_count": 37,
   "metadata": {},
   "outputs": [],
   "source": [
    "ord_vis_merged=orders_merged.merge(visit_merged, left_on='date', right_on='date', how='left')"
   ]
  },
  {
   "cell_type": "code",
   "execution_count": 38,
   "metadata": {},
   "outputs": [],
   "source": [
    "ord_vis_merged['conversionA']=ord_vis_merged['ordersA']/ord_vis_merged['visitorsA']\n",
    "ord_vis_merged['conversionB']=ord_vis_merged['ordersB']/ord_vis_merged['visitorsB']"
   ]
  },
  {
   "cell_type": "code",
   "execution_count": 39,
   "metadata": {
    "scrolled": false
   },
   "outputs": [
    {
     "data": {
      "image/png": "[encoded data removed]",
      "text/plain": [
       "<Figure size 720x504 with 1 Axes>"
      ]
     },
     "metadata": {
      "needs_background": "light"
     },
     "output_type": "display_data"
    }
   ],
   "source": [
    "plt.figure(figsize=(10,7))\n",
    "# Строим график выручки группы А\n",
    "plt.plot(ord_vis_merged['date'], ord_vis_merged['conversionA'], label='A')\n",
    "\n",
    "# Строим график выручки группы B\n",
    "plt.plot(ord_vis_merged['date'], ord_vis_merged['conversionB'], label='B')\n",
    "plt.legend()\n",
    "plt.title('График кумулятивного среднего количества заказов на посетителя для групп А и В')\n",
    "plt.xlabel('Дата')\n",
    "plt.ylabel('Количество заказов на посетителя');"
   ]
  },
  {
   "cell_type": "markdown",
   "metadata": {},
   "source": [
    "Как видно число заказов на посетителя в итоге для группы В заметно выше чем в А. В то же время вначале наблюдаются резкие скачки (возможно из-за аномально высокого числа заказов)."
   ]
  },
  {
   "cell_type": "markdown",
   "metadata": {},
   "source": [
    "[к содержанию](#enter)"
   ]
  },
  {
   "cell_type": "markdown",
   "metadata": {},
   "source": [
    "<a id='mean_ord_prop'></a>\n",
    "### График относительного изменения кумулятивного среднего количества заказов на посетителя группы B к группе A."
   ]
  },
  {
   "cell_type": "code",
   "execution_count": 40,
   "metadata": {
    "scrolled": true
   },
   "outputs": [
    {
     "data": {
      "image/png": "[encoded data removed]",
      "text/plain": [
       "<Figure size 720x504 with 1 Axes>"
      ]
     },
     "metadata": {
      "needs_background": "light"
     },
     "output_type": "display_data"
    }
   ],
   "source": [
    "plt.figure(figsize=(10,7))\n",
    "plt.plot(ord_vis_merged['date'], ord_vis_merged['conversionB']/ord_vis_merged['conversionA']-1)\n",
    "plt.axhline(y=0, color='pink', linestyle='--')\n",
    "plt.title('График относительного изменения среднего кумулятивного количества заказов группы В к группе А')\n",
    "plt.xlabel('Дата')\n",
    "plt.ylabel('Отношение среднего кумулятивного количества заказов группы В к группе А');"
   ]
  },
  {
   "cell_type": "markdown",
   "metadata": {},
   "source": [
    "Данный график также отражает резкое различие в числе заказов по группам. При этом в начале в группе А было на 27% больше заказов, потом разрыв сократился до 4% и снова увеличился до 18%. Далее после 3.08 наблюдается рост количества заказов в группе В по отношению к А до 15-20%."
   ]
  },
  {
   "cell_type": "markdown",
   "metadata": {},
   "source": [
    "[к содержанию](#enter)"
   ]
  },
  {
   "cell_type": "markdown",
   "metadata": {},
   "source": [
    "<a id='scatter'></a>\n",
    "### Точечный график количества заказов по пользователям."
   ]
  },
  {
   "cell_type": "markdown",
   "metadata": {},
   "source": [
    "Чтобы разобраться в причинах скачкообразных изменений параметров построим точечный график, на котором число заказов будет распределено между пользователями."
   ]
  },
  {
   "cell_type": "code",
   "execution_count": 41,
   "metadata": {},
   "outputs": [],
   "source": [
    "orders_number = orders.groupby('visitorId')['transactionId'].count().reset_index()\n",
    "orders_number.columns=['userId', 'orders']"
   ]
  },
  {
   "cell_type": "code",
   "execution_count": 42,
   "metadata": {},
   "outputs": [
    {
     "data": {
      "image/png": "[encoded data removed]",
      "text/plain": [
       "<Figure size 720x504 with 1 Axes>"
      ]
     },
     "metadata": {
      "needs_background": "light"
     },
     "output_type": "display_data"
    }
   ],
   "source": [
    "plt.figure(figsize=(10,7))\n",
    "x_values=pd.Series(range(0, len(orders_number['userId'])))\n",
    "plt.scatter(x_values, orders_number['orders'])\n",
    "plt.title('График количества заказов по пользователям')\n",
    "plt.xlabel('Номер пользователя')\n",
    "plt.ylabel('Количество заказов');"
   ]
  },
  {
   "cell_type": "markdown",
   "metadata": {},
   "source": [
    "Как видно, в основном пользователи приобрели по одному товару, затем идут те у кого 2 покупки, и далее 7 пользователей у которых число покупок равно трем."
   ]
  },
  {
   "cell_type": "markdown",
   "metadata": {},
   "source": [
    "[к содержанию](#enter)"
   ]
  },
  {
   "cell_type": "markdown",
   "metadata": {},
   "source": [
    "<a id='perc_ord'></a>\n",
    "### Расчет 95-й и 99-й перцентили количества заказов на пользователя. "
   ]
  },
  {
   "cell_type": "markdown",
   "metadata": {},
   "source": [
    "Для выбора границы аномальных пользователей по числу покупок найдем 95 и 99 перцентили."
   ]
  },
  {
   "cell_type": "code",
   "execution_count": 43,
   "metadata": {},
   "outputs": [
    {
     "name": "stdout",
     "output_type": "stream",
     "text": [
      "[1. 2.]\n"
     ]
    }
   ],
   "source": [
    "print(np.percentile(orders_number['orders'], [95,99]))"
   ]
  },
  {
   "cell_type": "markdown",
   "metadata": {},
   "source": [
    "Итак 95% пользователей совершили до одной покупки, а 99% - до 2х. В качестве границы аномальных заказов примем число покупок больше одной."
   ]
  },
  {
   "cell_type": "markdown",
   "metadata": {},
   "source": [
    "[к содержанию](#enter)"
   ]
  },
  {
   "cell_type": "markdown",
   "metadata": {},
   "source": [
    "<a id='scatt_rev'></a>\n",
    "### Точечный график стоимостей заказов."
   ]
  },
  {
   "cell_type": "markdown",
   "metadata": {},
   "source": [
    "Определим как заказы распределены по цене с помощью точечного графика."
   ]
  },
  {
   "cell_type": "code",
   "execution_count": 44,
   "metadata": {
    "scrolled": true
   },
   "outputs": [
    {
     "data": {
      "image/png": "[encoded data removed]",
      "text/plain": [
       "<Figure size 720x504 with 1 Axes>"
      ]
     },
     "metadata": {
      "needs_background": "light"
     },
     "output_type": "display_data"
    }
   ],
   "source": [
    "plt.figure(figsize=(10,7))\n",
    "x_values=pd.Series(range(0, len(orders['transactionId'])))\n",
    "plt.scatter(x_values, orders['revenue'])\n",
    "plt.title('График распределения стоимости заказов по номерам заказов')\n",
    "plt.xlabel('Номер заказа')\n",
    "plt.ylabel('Стоимость заказа');"
   ]
  },
  {
   "cell_type": "markdown",
   "metadata": {},
   "source": [
    "На графике видно, что очень мало заказов превышают 100000 р, а уж цена 200000 и 1300000 р встречается по 1 разу."
   ]
  },
  {
   "cell_type": "markdown",
   "metadata": {},
   "source": [
    "[к содержанию](#enter)"
   ]
  },
  {
   "cell_type": "markdown",
   "metadata": {},
   "source": [
    "<a id='perc_rev'></a>\n",
    "### Расчет 95-й и 99-й перцентили стоимости заказов. "
   ]
  },
  {
   "cell_type": "markdown",
   "metadata": {},
   "source": [
    "Для определения границы аномальных цен найдем 95 и 99 перцентили."
   ]
  },
  {
   "cell_type": "code",
   "execution_count": 45,
   "metadata": {
    "scrolled": true
   },
   "outputs": [
    {
     "name": "stdout",
     "output_type": "stream",
     "text": [
      "[26785. 53904.]\n"
     ]
    }
   ],
   "source": [
    "print(np.percentile(orders['revenue'], [95, 99]))"
   ]
  },
  {
   "cell_type": "markdown",
   "metadata": {},
   "source": [
    "95% покупок стоят до 26785 р, а 99% - до 53904 р. Примем за границу аномалий - 26785 р."
   ]
  },
  {
   "cell_type": "markdown",
   "metadata": {},
   "source": [
    "[к содержанию](#enter)"
   ]
  },
  {
   "cell_type": "markdown",
   "metadata": {},
   "source": [
    "<a id='ord_mwraw'></a>\n",
    "### Расчет статистической значимости различий в среднем количестве заказов на посетителя между группами по «сырым» данным."
   ]
  },
  {
   "cell_type": "markdown",
   "metadata": {},
   "source": [
    "Как было видно выше данные содержат выбросы, поэтому для снижения их влияния на статистическую значимость используем непараметрический тест Манна-Уитни. Примем за критический уровень статистической значимости 5%."
   ]
  },
  {
   "cell_type": "markdown",
   "metadata": {},
   "source": [
    "Начнем с расчета числа заказов на 1 пользователя."
   ]
  },
  {
   "cell_type": "code",
   "execution_count": 46,
   "metadata": {},
   "outputs": [],
   "source": [
    "ordersByUsersA = (\n",
    "    orders[orders['group'] == 'A']\n",
    "    .groupby('visitorId', as_index=False)\n",
    "    .agg({'transactionId': pd.Series.nunique})\n",
    ")\n",
    "ordersByUsersA.columns = ['userId', 'orders']\n",
    "\n",
    "ordersByUsersB = (\n",
    "    orders[orders['group'] == 'B']\n",
    "    .groupby('visitorId', as_index=False)\n",
    "    .agg({'transactionId': pd.Series.nunique})\n",
    ")\n",
    "ordersByUsersB.columns = ['userId', 'orders'] "
   ]
  },
  {
   "cell_type": "markdown",
   "metadata": {},
   "source": [
    "Чтобы учесть всех посетителей добавим к этим таблицам  пользователей без заказов."
   ]
  },
  {
   "cell_type": "code",
   "execution_count": 47,
   "metadata": {},
   "outputs": [],
   "source": [
    "sampleA=pd.concat([ordersByUsersA['orders'], pd.Series(0, index=np.arange(\n",
    "    visitorsA['visitors'].sum()-len(ordersByUsersA['orders'])), name='orders')], axis=0)\n",
    "sampleB=pd.concat([ordersByUsersB['orders'], pd.Series(0, index=np.arange(\n",
    "    visitorsB['visitors'].sum()-len(ordersByUsersB['orders'])), name='orders')], axis=0)"
   ]
  },
  {
   "cell_type": "markdown",
   "metadata": {},
   "source": [
    "Сформулируем гипотезы. <br/> *Нулевая - НО:* различий в среднем количестве заказов и среднем размере чека между группами нет.<br/>*Альтернативная - Н1:* различия между группами есть."
   ]
  },
  {
   "cell_type": "code",
   "execution_count": 48,
   "metadata": {},
   "outputs": [
    {
     "name": "stdout",
     "output_type": "stream",
     "text": [
      "p-value: 0.011\n",
      "Превышение среднего числа заказов в группе В над А: 0.160\n"
     ]
    }
   ],
   "source": [
    "print('p-value: {0:0.3f}'.format(stats.mannwhitneyu(sampleA, sampleB)[1]))\n",
    "print('Превышение среднего числа заказов в группе В над А: {0:0.3f}'.format(sampleB.mean()/sampleA.mean()-1))"
   ]
  },
  {
   "cell_type": "markdown",
   "metadata": {},
   "source": [
    "Статистичская значимость равна 1,1%, что ниже чем 5%. Поэтому нулевую гипотезу о равенстве количества заказов на основе сырых данных можно отвергнуть. Среднее число заказов в группе В выше на 16%."
   ]
  },
  {
   "cell_type": "markdown",
   "metadata": {},
   "source": [
    "[к содержанию](#enter)"
   ]
  },
  {
   "cell_type": "markdown",
   "metadata": {},
   "source": [
    "<a id='bill_mwraw'></a>\n",
    "### Расчет статистической значимости различий в среднем чеке заказа между группами по «сырым» данным."
   ]
  },
  {
   "cell_type": "markdown",
   "metadata": {},
   "source": [
    "Для определения статистической значимости по среднему чеку также воспользумся тестом Манна-Уитни с границей 5%."
   ]
  },
  {
   "cell_type": "code",
   "execution_count": 49,
   "metadata": {
    "scrolled": true
   },
   "outputs": [
    {
     "name": "stdout",
     "output_type": "stream",
     "text": [
      "p-value: 0.829\n",
      "Превышение среднего чека в группе В над А: 0.287\n"
     ]
    }
   ],
   "source": [
    "print('p-value: {0:.3f}'.format(stats.mannwhitneyu(orders[orders['group']=='A']['revenue'], orders[orders['group']=='B']['revenue'])[1]))\n",
    "print('Превышение среднего чека в группе В над А: {0:.3f}'.format(orders[orders['group']=='B']['revenue'].mean()/orders[orders['group']=='A']['revenue'].mean()-1)) "
   ]
  },
  {
   "cell_type": "markdown",
   "metadata": {},
   "source": [
    "Статистичекая значимость равна 82,9% значит нулевую гипотезу о равенстве среднего чека отвергнуть нельзя. Вместе с тем различие среднего чека на 28,7% не является статистически значимым (возможно из-за влияния выбросов)."
   ]
  },
  {
   "cell_type": "markdown",
   "metadata": {},
   "source": [
    "[к содержанию](#enter)"
   ]
  },
  {
   "cell_type": "markdown",
   "metadata": {},
   "source": [
    "<a id='ord_mwfilter'></a>\n",
    "### Расчет статистической значимости различий в среднем количестве заказов на посетителя между группами по «очищенным» данным."
   ]
  },
  {
   "cell_type": "markdown",
   "metadata": {},
   "source": [
    "Чтобы исключить влияние аномалий очистим их от 5% пользователей с наибольшим числом заказов и наиболее дорогими заказами. Сделаем срезы пользователей с числом заказов больше 2 — ubnormalOrders и пользователей, совершивших заказы дороже 28 000 — ubnormalrevenue. Объединим их в таблице ubnormal. "
   ]
  },
  {
   "cell_type": "code",
   "execution_count": 50,
   "metadata": {},
   "outputs": [
    {
     "data": {
      "text/plain": [
       "55"
      ]
     },
     "execution_count": 50,
     "metadata": {},
     "output_type": "execute_result"
    }
   ],
   "source": [
    "ubnormalOrders=pd.concat([ordersByUsersA[ordersByUsersA['orders']>2]['userId'], ordersByUsersB[ordersByUsersB['orders']>2]['userId']], axis=0)\n",
    "ubnormalrevenue=orders[orders['revenue']>28000]['visitorId']\n",
    "ubnormal=pd.concat([ubnormalOrders, ubnormalrevenue], axis=0).drop_duplicates().sort_values()\n",
    "ubnormal.shape[0]"
   ]
  },
  {
   "cell_type": "markdown",
   "metadata": {},
   "source": [
    "Получилось 55 аномальных пользователей."
   ]
  },
  {
   "cell_type": "markdown",
   "metadata": {},
   "source": [
    "Отфильтруем данные от аномалий и создадим переменные с количеством заказов для всех посетителей."
   ]
  },
  {
   "cell_type": "code",
   "execution_count": 51,
   "metadata": {},
   "outputs": [],
   "source": [
    "sampleAFiltred=pd.concat([ordersByUsersA[np.logical_not(ordersByUsersA['userId'].isin(ubnormal))]['orders'], pd.Series(0, index=np.arange(visitorsA['visitors'].sum()-len(ordersByUsersA['orders'])), name='orders')], axis=0)\n",
    "sampleBFiltred=pd.concat([ordersByUsersB[np.logical_not(ordersByUsersB['userId'].isin(ubnormal))]['orders'], pd.Series(0, index=np.arange(visitorsB['visitors'].sum()-len(ordersByUsersB['orders'])), name='orders')], axis=0)"
   ]
  },
  {
   "cell_type": "code",
   "execution_count": 52,
   "metadata": {},
   "outputs": [
    {
     "name": "stdout",
     "output_type": "stream",
     "text": [
      "p-value: 0.009\n",
      "Превышение среднего чека в группе В над А: 0.189\n"
     ]
    }
   ],
   "source": [
    "print('p-value: {0:.3f}'.format(stats.mannwhitneyu(sampleAFiltred, sampleBFiltred)[1]))\n",
    "print('Превышение среднего чека в группе В над А: {0:.3f}'.format(sampleBFiltred.mean()/sampleAFiltred.mean()-1)) "
   ]
  },
  {
   "cell_type": "markdown",
   "metadata": {},
   "source": [
    "Статистичекая значимость ниже критической (0,9%<5%) значит по очищенным данным нулевую гипотезу о равенстве количества заказов также можно отвергнуть. Среднее число заказов в группе В на 18,9% больше чем в группе А."
   ]
  },
  {
   "cell_type": "markdown",
   "metadata": {},
   "source": [
    "[к содержанию](#enter)"
   ]
  },
  {
   "cell_type": "markdown",
   "metadata": {},
   "source": [
    "<a id='bill_mwfilter'></a>\n",
    "### Расчет статистической значимости различий в среднем чеке заказа между группами по «очищенным» данным."
   ]
  },
  {
   "cell_type": "markdown",
   "metadata": {},
   "source": [
    "Отфильтруем данные от аномалий и протестируем столбцы с выручкой по критерию Манна-Уитни."
   ]
  },
  {
   "cell_type": "code",
   "execution_count": 53,
   "metadata": {},
   "outputs": [
    {
     "name": "stdout",
     "output_type": "stream",
     "text": [
      "p-value: 0.762\n",
      "Превышение среднего чека в группе В над А: -0.022\n"
     ]
    }
   ],
   "source": [
    "print(\n",
    "    'p-value: {0:.3f}'.format(\n",
    "        stats.mannwhitneyu(\n",
    "            orders[\n",
    "                np.logical_and(\n",
    "                    orders['group'] == 'A',\n",
    "                    np.logical_not(orders['visitorId'].isin(ubnormal)),\n",
    "                )\n",
    "            ]['revenue'],\n",
    "            orders[\n",
    "                np.logical_and(\n",
    "                    orders['group'] == 'B',\n",
    "                    np.logical_not(orders['visitorId'].isin(ubnormal)),\n",
    "                )\n",
    "            ]['revenue'],\n",
    "        )[1]\n",
    "    )\n",
    ")\n",
    "\n",
    "print(\n",
    "    \"Превышение среднего чека в группе В над А: {0:.3f}\".format(\n",
    "        orders[\n",
    "            np.logical_and(\n",
    "                orders['group'] == 'B',\n",
    "                np.logical_not(orders['visitorId'].isin(ubnormal)),\n",
    "            )\n",
    "        ]['revenue'].mean()\n",
    "        / orders[\n",
    "            np.logical_and(\n",
    "                orders['group'] == 'A',\n",
    "                np.logical_not(orders['visitorId'].isin(ubnormal)),\n",
    "            )\n",
    "        ]['revenue'].mean()\n",
    "        - 1\n",
    "    )\n",
    ") "
   ]
  },
  {
   "cell_type": "markdown",
   "metadata": {},
   "source": [
    "Как видно из результатов различий в среднем чеке почти нет, результаты являются статистически значимыми (p-value=76,2%) и\n",
    "нулевую гипотезу о равенстве среднего чека по очищенным данным отвергнуть не получилось. "
   ]
  },
  {
   "cell_type": "markdown",
   "metadata": {},
   "source": [
    "[к содержанию](#enter)"
   ]
  },
  {
   "cell_type": "markdown",
   "metadata": {},
   "source": [
    "<a id='conclusion'></a>\n",
    "## Выводы."
   ]
  },
  {
   "cell_type": "markdown",
   "metadata": {},
   "source": [
    "1. Статистически значимого различия по размеру среднего чека в группах А и В не обнаружено.\n",
    "2. По количеству заказов статистическое различие есть и среднее число заказов в группе В на 18,9% выше чем в А.\n",
    "3. Графики кумулятивной выручки и числа заказов показыват, что результаты группы В лучше чем в группе А.\n",
    "4. Исходя из обнаруженных фактов, тест следует остановить и признать успешным, зафиксировав победу группы В. "
   ]
  },
  {
   "cell_type": "markdown",
   "metadata": {},
   "source": [
    "[к содержанию](#enter)"
   ]
  }
 ],
 "metadata": {
  "ExecuteTimeLog": [
   {
    "duration": 968,
    "start_time": "2023-03-09T07:42:01.521Z"
   },
   {
    "duration": 48,
    "start_time": "2023-03-09T07:42:02.492Z"
   },
   {
    "duration": 20,
    "start_time": "2023-03-09T07:43:43.538Z"
   },
   {
    "duration": 11,
    "start_time": "2023-03-09T07:43:57.600Z"
   },
   {
    "duration": 6,
    "start_time": "2023-03-09T07:45:19.723Z"
   },
   {
    "duration": 5,
    "start_time": "2023-03-09T07:45:41.814Z"
   },
   {
    "duration": 50,
    "start_time": "2023-03-09T07:48:37.789Z"
   },
   {
    "duration": 9,
    "start_time": "2023-03-09T07:49:00.107Z"
   },
   {
    "duration": 85,
    "start_time": "2023-03-09T07:49:37.266Z"
   },
   {
    "duration": 32,
    "start_time": "2023-03-09T07:49:49.236Z"
   },
   {
    "duration": 11,
    "start_time": "2023-03-09T07:50:15.999Z"
   },
   {
    "duration": 31,
    "start_time": "2023-03-09T07:53:25.781Z"
   },
   {
    "duration": 8,
    "start_time": "2023-03-09T07:53:58.010Z"
   },
   {
    "duration": 11,
    "start_time": "2023-03-09T07:54:15.084Z"
   },
   {
    "duration": 6,
    "start_time": "2023-03-09T07:58:19.368Z"
   },
   {
    "duration": 17,
    "start_time": "2023-03-09T07:58:38.354Z"
   },
   {
    "duration": 7,
    "start_time": "2023-03-09T07:58:45.538Z"
   },
   {
    "duration": 6,
    "start_time": "2023-03-09T07:59:11.727Z"
   },
   {
    "duration": 8,
    "start_time": "2023-03-09T07:59:31.332Z"
   },
   {
    "duration": 10,
    "start_time": "2023-03-09T07:59:44.359Z"
   },
   {
    "duration": 7,
    "start_time": "2023-03-09T08:00:58.483Z"
   },
   {
    "duration": 10,
    "start_time": "2023-03-09T08:02:47.025Z"
   },
   {
    "duration": 75,
    "start_time": "2023-03-09T08:03:39.851Z"
   },
   {
    "duration": 671,
    "start_time": "2023-03-09T08:03:58.708Z"
   },
   {
    "duration": 698,
    "start_time": "2023-03-09T08:04:55.654Z"
   },
   {
    "duration": 31,
    "start_time": "2023-03-09T08:04:56.355Z"
   },
   {
    "duration": 12,
    "start_time": "2023-03-09T08:04:56.388Z"
   },
   {
    "duration": 12,
    "start_time": "2023-03-09T08:04:56.402Z"
   },
   {
    "duration": 57,
    "start_time": "2023-03-09T08:04:56.416Z"
   },
   {
    "duration": 8,
    "start_time": "2023-03-09T08:04:56.475Z"
   },
   {
    "duration": 7,
    "start_time": "2023-03-09T08:04:56.485Z"
   },
   {
    "duration": 13,
    "start_time": "2023-03-09T08:04:56.493Z"
   },
   {
    "duration": 87,
    "start_time": "2023-03-09T08:04:56.507Z"
   },
   {
    "duration": 0,
    "start_time": "2023-03-09T08:04:56.596Z"
   },
   {
    "duration": 1,
    "start_time": "2023-03-09T08:04:56.597Z"
   },
   {
    "duration": 0,
    "start_time": "2023-03-09T08:04:56.599Z"
   },
   {
    "duration": 0,
    "start_time": "2023-03-09T08:04:56.601Z"
   },
   {
    "duration": 14,
    "start_time": "2023-03-09T08:05:25.552Z"
   },
   {
    "duration": 614,
    "start_time": "2023-03-09T08:05:44.697Z"
   },
   {
    "duration": 44,
    "start_time": "2023-03-09T08:05:45.313Z"
   },
   {
    "duration": 13,
    "start_time": "2023-03-09T08:05:45.358Z"
   },
   {
    "duration": 8,
    "start_time": "2023-03-09T08:05:45.372Z"
   },
   {
    "duration": 40,
    "start_time": "2023-03-09T08:05:45.382Z"
   },
   {
    "duration": 8,
    "start_time": "2023-03-09T08:05:45.424Z"
   },
   {
    "duration": 47,
    "start_time": "2023-03-09T08:05:45.433Z"
   },
   {
    "duration": 29,
    "start_time": "2023-03-09T08:05:45.482Z"
   },
   {
    "duration": 14,
    "start_time": "2023-03-09T08:05:45.513Z"
   },
   {
    "duration": 33,
    "start_time": "2023-03-09T08:05:45.529Z"
   },
   {
    "duration": 9,
    "start_time": "2023-03-09T08:05:45.563Z"
   },
   {
    "duration": 15,
    "start_time": "2023-03-09T08:05:45.574Z"
   },
   {
    "duration": 8,
    "start_time": "2023-03-09T08:11:24.836Z"
   },
   {
    "duration": 8,
    "start_time": "2023-03-09T08:11:41.677Z"
   },
   {
    "duration": 79,
    "start_time": "2023-03-09T08:27:14.926Z"
   },
   {
    "duration": 6,
    "start_time": "2023-03-09T08:29:14.714Z"
   },
   {
    "duration": 4,
    "start_time": "2023-03-09T08:29:57.905Z"
   },
   {
    "duration": 4,
    "start_time": "2023-03-09T08:30:05.035Z"
   },
   {
    "duration": 12,
    "start_time": "2023-03-09T08:31:02.822Z"
   },
   {
    "duration": 9,
    "start_time": "2023-03-09T08:31:41.569Z"
   },
   {
    "duration": 10,
    "start_time": "2023-03-09T08:32:29.879Z"
   },
   {
    "duration": 5,
    "start_time": "2023-03-09T08:37:00.020Z"
   },
   {
    "duration": 11,
    "start_time": "2023-03-09T08:37:17.781Z"
   },
   {
    "duration": 5,
    "start_time": "2023-03-09T09:25:28.429Z"
   },
   {
    "duration": 13,
    "start_time": "2023-03-09T09:48:12.128Z"
   },
   {
    "duration": 11,
    "start_time": "2023-03-09T09:48:20.457Z"
   },
   {
    "duration": 7,
    "start_time": "2023-03-09T09:48:41.378Z"
   },
   {
    "duration": 21,
    "start_time": "2023-03-09T10:12:23.478Z"
   },
   {
    "duration": 26,
    "start_time": "2023-03-09T10:14:07.099Z"
   },
   {
    "duration": 22,
    "start_time": "2023-03-09T10:17:07.783Z"
   },
   {
    "duration": 50,
    "start_time": "2023-03-09T12:24:19.050Z"
   },
   {
    "duration": 907,
    "start_time": "2023-03-09T12:24:31.670Z"
   },
   {
    "duration": 89,
    "start_time": "2023-03-09T12:24:32.580Z"
   },
   {
    "duration": 12,
    "start_time": "2023-03-09T12:24:32.671Z"
   },
   {
    "duration": 23,
    "start_time": "2023-03-09T12:24:32.685Z"
   },
   {
    "duration": 99,
    "start_time": "2023-03-09T12:24:32.710Z"
   },
   {
    "duration": 8,
    "start_time": "2023-03-09T12:24:32.811Z"
   },
   {
    "duration": 29,
    "start_time": "2023-03-09T12:24:32.820Z"
   },
   {
    "duration": 13,
    "start_time": "2023-03-09T12:24:32.851Z"
   },
   {
    "duration": 16,
    "start_time": "2023-03-09T12:24:32.866Z"
   },
   {
    "duration": 79,
    "start_time": "2023-03-09T12:24:32.884Z"
   },
   {
    "duration": 7,
    "start_time": "2023-03-09T12:24:32.965Z"
   },
   {
    "duration": 33,
    "start_time": "2023-03-09T12:24:32.974Z"
   },
   {
    "duration": 25,
    "start_time": "2023-03-09T12:24:33.008Z"
   },
   {
    "duration": 39,
    "start_time": "2023-03-09T12:24:33.035Z"
   },
   {
    "duration": 27,
    "start_time": "2023-03-09T12:24:33.076Z"
   },
   {
    "duration": 46,
    "start_time": "2023-03-09T12:24:33.104Z"
   },
   {
    "duration": 46,
    "start_time": "2023-03-09T12:24:33.152Z"
   },
   {
    "duration": 50,
    "start_time": "2023-03-09T12:24:33.200Z"
   },
   {
    "duration": 45,
    "start_time": "2023-03-09T12:24:33.251Z"
   },
   {
    "duration": 156,
    "start_time": "2023-03-09T12:24:33.298Z"
   },
   {
    "duration": 115,
    "start_time": "2023-03-09T12:26:12.544Z"
   },
   {
    "duration": 158,
    "start_time": "2023-03-09T12:26:49.797Z"
   },
   {
    "duration": 140,
    "start_time": "2023-03-09T12:26:55.451Z"
   },
   {
    "duration": 13,
    "start_time": "2023-03-09T12:27:28.509Z"
   },
   {
    "duration": 3,
    "start_time": "2023-03-09T12:29:27.497Z"
   },
   {
    "duration": 12,
    "start_time": "2023-03-09T12:29:28.198Z"
   },
   {
    "duration": 5,
    "start_time": "2023-03-09T12:30:56.608Z"
   },
   {
    "duration": 5,
    "start_time": "2023-03-09T12:31:12.295Z"
   },
   {
    "duration": 12,
    "start_time": "2023-03-09T12:31:59.834Z"
   },
   {
    "duration": 279,
    "start_time": "2023-03-09T12:32:39.104Z"
   },
   {
    "duration": 134,
    "start_time": "2023-03-09T12:33:59.148Z"
   },
   {
    "duration": 3,
    "start_time": "2023-03-09T12:33:59.720Z"
   },
   {
    "duration": 5,
    "start_time": "2023-03-09T12:34:00.308Z"
   },
   {
    "duration": 180,
    "start_time": "2023-03-09T12:34:01.104Z"
   },
   {
    "duration": 175,
    "start_time": "2023-03-09T12:37:22.267Z"
   },
   {
    "duration": 3,
    "start_time": "2023-03-09T12:37:28.337Z"
   },
   {
    "duration": 5,
    "start_time": "2023-03-09T12:37:28.916Z"
   },
   {
    "duration": 185,
    "start_time": "2023-03-09T12:37:29.661Z"
   },
   {
    "duration": 229,
    "start_time": "2023-03-09T12:38:31.023Z"
   },
   {
    "duration": 3,
    "start_time": "2023-03-09T12:38:31.589Z"
   },
   {
    "duration": 5,
    "start_time": "2023-03-09T12:38:32.151Z"
   },
   {
    "duration": 181,
    "start_time": "2023-03-09T12:38:32.791Z"
   },
   {
    "duration": 627,
    "start_time": "2023-03-09T12:39:44.665Z"
   },
   {
    "duration": 24,
    "start_time": "2023-03-09T12:39:45.294Z"
   },
   {
    "duration": 12,
    "start_time": "2023-03-09T12:39:45.320Z"
   },
   {
    "duration": 4,
    "start_time": "2023-03-09T12:39:45.334Z"
   },
   {
    "duration": 33,
    "start_time": "2023-03-09T12:39:45.340Z"
   },
   {
    "duration": 9,
    "start_time": "2023-03-09T12:39:45.375Z"
   },
   {
    "duration": 14,
    "start_time": "2023-03-09T12:39:45.385Z"
   },
   {
    "duration": 16,
    "start_time": "2023-03-09T12:39:45.401Z"
   },
   {
    "duration": 10,
    "start_time": "2023-03-09T12:39:45.419Z"
   },
   {
    "duration": 26,
    "start_time": "2023-03-09T12:39:45.431Z"
   },
   {
    "duration": 8,
    "start_time": "2023-03-09T12:39:45.459Z"
   },
   {
    "duration": 17,
    "start_time": "2023-03-09T12:39:45.468Z"
   },
   {
    "duration": 5,
    "start_time": "2023-03-09T12:39:45.487Z"
   },
   {
    "duration": 18,
    "start_time": "2023-03-09T12:39:45.494Z"
   },
   {
    "duration": 7,
    "start_time": "2023-03-09T12:39:45.514Z"
   },
   {
    "duration": 10,
    "start_time": "2023-03-09T12:39:45.523Z"
   },
   {
    "duration": 6,
    "start_time": "2023-03-09T12:39:45.535Z"
   },
   {
    "duration": 9,
    "start_time": "2023-03-09T12:39:45.542Z"
   },
   {
    "duration": 5,
    "start_time": "2023-03-09T12:39:45.553Z"
   },
   {
    "duration": 177,
    "start_time": "2023-03-09T12:39:45.559Z"
   },
   {
    "duration": 4,
    "start_time": "2023-03-09T12:39:45.737Z"
   },
   {
    "duration": 99,
    "start_time": "2023-03-09T12:39:45.742Z"
   },
   {
    "duration": 0,
    "start_time": "2023-03-09T12:39:45.843Z"
   },
   {
    "duration": 4,
    "start_time": "2023-03-09T12:40:04.668Z"
   },
   {
    "duration": 245,
    "start_time": "2023-03-09T12:40:05.520Z"
   },
   {
    "duration": 181,
    "start_time": "2023-03-09T12:44:30.632Z"
   },
   {
    "duration": 4,
    "start_time": "2023-03-09T12:44:31.493Z"
   },
   {
    "duration": 6,
    "start_time": "2023-03-09T12:44:32.081Z"
   },
   {
    "duration": 236,
    "start_time": "2023-03-09T12:44:32.839Z"
   },
   {
    "duration": 214,
    "start_time": "2023-03-09T12:45:36.015Z"
   },
   {
    "duration": 254,
    "start_time": "2023-03-09T12:46:45.889Z"
   },
   {
    "duration": 197,
    "start_time": "2023-03-09T12:54:04.039Z"
   },
   {
    "duration": 186,
    "start_time": "2023-03-09T12:56:40.438Z"
   },
   {
    "duration": 236,
    "start_time": "2023-03-09T12:56:54.383Z"
   },
   {
    "duration": 245,
    "start_time": "2023-03-09T12:57:15.271Z"
   },
   {
    "duration": 230,
    "start_time": "2023-03-09T13:02:22.213Z"
   },
   {
    "duration": 247,
    "start_time": "2023-03-09T13:03:01.654Z"
   },
   {
    "duration": 249,
    "start_time": "2023-03-09T13:03:41.754Z"
   },
   {
    "duration": 252,
    "start_time": "2023-03-09T13:04:00.763Z"
   },
   {
    "duration": 169,
    "start_time": "2023-03-09T13:07:31.092Z"
   },
   {
    "duration": 169,
    "start_time": "2023-03-09T13:08:30.567Z"
   },
   {
    "duration": 260,
    "start_time": "2023-03-09T13:10:26.966Z"
   },
   {
    "duration": 132,
    "start_time": "2023-03-09T13:12:48.153Z"
   },
   {
    "duration": 80,
    "start_time": "2023-03-09T13:18:40.665Z"
   },
   {
    "duration": 93,
    "start_time": "2023-03-09T13:19:13.967Z"
   },
   {
    "duration": 178,
    "start_time": "2023-03-09T13:20:09.664Z"
   },
   {
    "duration": 219,
    "start_time": "2023-03-09T13:22:30.922Z"
   },
   {
    "duration": 46,
    "start_time": "2023-03-09T16:41:00.846Z"
   },
   {
    "duration": 54,
    "start_time": "2023-03-09T16:43:19.388Z"
   },
   {
    "duration": 751,
    "start_time": "2023-03-09T16:43:51.595Z"
   },
   {
    "duration": 68,
    "start_time": "2023-03-09T16:43:52.348Z"
   },
   {
    "duration": 11,
    "start_time": "2023-03-09T16:43:52.418Z"
   },
   {
    "duration": 4,
    "start_time": "2023-03-09T16:43:52.430Z"
   },
   {
    "duration": 61,
    "start_time": "2023-03-09T16:43:52.436Z"
   },
   {
    "duration": 7,
    "start_time": "2023-03-09T16:43:52.499Z"
   },
   {
    "duration": 13,
    "start_time": "2023-03-09T16:43:52.507Z"
   },
   {
    "duration": 12,
    "start_time": "2023-03-09T16:43:52.521Z"
   },
   {
    "duration": 7,
    "start_time": "2023-03-09T16:43:52.535Z"
   },
   {
    "duration": 161,
    "start_time": "2023-03-09T16:43:52.543Z"
   },
   {
    "duration": 8,
    "start_time": "2023-03-09T16:43:52.705Z"
   },
   {
    "duration": 12,
    "start_time": "2023-03-09T16:43:52.714Z"
   },
   {
    "duration": 7,
    "start_time": "2023-03-09T16:43:52.728Z"
   },
   {
    "duration": 7,
    "start_time": "2023-03-09T16:43:52.738Z"
   },
   {
    "duration": 6,
    "start_time": "2023-03-09T16:43:52.747Z"
   },
   {
    "duration": 11,
    "start_time": "2023-03-09T16:43:52.755Z"
   },
   {
    "duration": 8,
    "start_time": "2023-03-09T16:43:52.767Z"
   },
   {
    "duration": 12,
    "start_time": "2023-03-09T16:43:52.777Z"
   },
   {
    "duration": 7,
    "start_time": "2023-03-09T16:43:52.790Z"
   },
   {
    "duration": 181,
    "start_time": "2023-03-09T16:43:52.799Z"
   },
   {
    "duration": 3,
    "start_time": "2023-03-09T16:43:52.982Z"
   },
   {
    "duration": 7,
    "start_time": "2023-03-09T16:43:52.986Z"
   },
   {
    "duration": 273,
    "start_time": "2023-03-09T16:43:52.995Z"
   },
   {
    "duration": 203,
    "start_time": "2023-03-09T16:43:53.270Z"
   },
   {
    "duration": 249,
    "start_time": "2023-03-09T16:43:53.475Z"
   },
   {
    "duration": 7,
    "start_time": "2023-03-09T16:43:53.726Z"
   },
   {
    "duration": 73,
    "start_time": "2023-03-09T16:43:53.735Z"
   },
   {
    "duration": 18,
    "start_time": "2023-03-09T17:08:31.615Z"
   },
   {
    "duration": 18,
    "start_time": "2023-03-09T17:09:30.818Z"
   },
   {
    "duration": 129,
    "start_time": "2023-03-09T17:11:51.932Z"
   },
   {
    "duration": 5,
    "start_time": "2023-03-09T17:14:02.879Z"
   },
   {
    "duration": 8,
    "start_time": "2023-03-09T17:17:04.297Z"
   },
   {
    "duration": 9,
    "start_time": "2023-03-09T17:17:50.660Z"
   },
   {
    "duration": 6,
    "start_time": "2023-03-09T17:19:51.076Z"
   },
   {
    "duration": 255,
    "start_time": "2023-03-09T17:19:51.926Z"
   },
   {
    "duration": 217,
    "start_time": "2023-03-09T17:19:55.992Z"
   },
   {
    "duration": 209,
    "start_time": "2023-03-09T17:20:02.980Z"
   },
   {
    "duration": 5,
    "start_time": "2023-03-09T17:20:31.120Z"
   },
   {
    "duration": 8,
    "start_time": "2023-03-09T17:20:31.779Z"
   },
   {
    "duration": 6,
    "start_time": "2023-03-09T17:21:02.976Z"
   },
   {
    "duration": 3,
    "start_time": "2023-03-09T17:21:10.813Z"
   },
   {
    "duration": 123,
    "start_time": "2023-03-09T17:21:11.279Z"
   },
   {
    "duration": 6,
    "start_time": "2023-03-09T17:21:11.757Z"
   },
   {
    "duration": 6,
    "start_time": "2023-03-09T17:21:12.240Z"
   },
   {
    "duration": 12,
    "start_time": "2023-03-09T17:21:37.225Z"
   },
   {
    "duration": 6,
    "start_time": "2023-03-09T17:24:44.519Z"
   },
   {
    "duration": 9,
    "start_time": "2023-03-09T17:29:03.080Z"
   },
   {
    "duration": 5,
    "start_time": "2023-03-09T17:30:56.196Z"
   },
   {
    "duration": 6,
    "start_time": "2023-03-09T17:31:17.272Z"
   },
   {
    "duration": 215,
    "start_time": "2023-03-09T17:33:01.912Z"
   },
   {
    "duration": 197,
    "start_time": "2023-03-09T17:35:39.600Z"
   },
   {
    "duration": 802,
    "start_time": "2023-03-10T07:46:23.427Z"
   },
   {
    "duration": 99,
    "start_time": "2023-03-10T07:46:24.231Z"
   },
   {
    "duration": 22,
    "start_time": "2023-03-10T07:46:24.332Z"
   },
   {
    "duration": 12,
    "start_time": "2023-03-10T07:46:24.359Z"
   },
   {
    "duration": 102,
    "start_time": "2023-03-10T07:46:24.372Z"
   },
   {
    "duration": 8,
    "start_time": "2023-03-10T07:46:24.475Z"
   },
   {
    "duration": 22,
    "start_time": "2023-03-10T07:46:24.485Z"
   },
   {
    "duration": 12,
    "start_time": "2023-03-10T07:46:24.509Z"
   },
   {
    "duration": 10,
    "start_time": "2023-03-10T07:46:24.522Z"
   },
   {
    "duration": 65,
    "start_time": "2023-03-10T07:46:24.534Z"
   },
   {
    "duration": 7,
    "start_time": "2023-03-10T07:46:24.601Z"
   },
   {
    "duration": 13,
    "start_time": "2023-03-10T07:46:24.610Z"
   },
   {
    "duration": 12,
    "start_time": "2023-03-10T07:46:24.625Z"
   },
   {
    "duration": 33,
    "start_time": "2023-03-10T07:46:24.639Z"
   },
   {
    "duration": 8,
    "start_time": "2023-03-10T07:46:24.673Z"
   },
   {
    "duration": 10,
    "start_time": "2023-03-10T07:46:24.683Z"
   },
   {
    "duration": 6,
    "start_time": "2023-03-10T07:46:24.695Z"
   },
   {
    "duration": 13,
    "start_time": "2023-03-10T07:46:24.703Z"
   },
   {
    "duration": 9,
    "start_time": "2023-03-10T07:46:24.718Z"
   },
   {
    "duration": 177,
    "start_time": "2023-03-10T07:46:24.728Z"
   },
   {
    "duration": 3,
    "start_time": "2023-03-10T07:46:24.906Z"
   },
   {
    "duration": 13,
    "start_time": "2023-03-10T07:46:24.910Z"
   },
   {
    "duration": 307,
    "start_time": "2023-03-10T07:46:24.924Z"
   },
   {
    "duration": 258,
    "start_time": "2023-03-10T07:46:25.232Z"
   },
   {
    "duration": 226,
    "start_time": "2023-03-10T07:46:25.492Z"
   },
   {
    "duration": 4,
    "start_time": "2023-03-10T07:46:25.721Z"
   },
   {
    "duration": 192,
    "start_time": "2023-03-10T07:46:25.727Z"
   },
   {
    "duration": 7,
    "start_time": "2023-03-10T07:46:25.924Z"
   },
   {
    "duration": 25,
    "start_time": "2023-03-10T07:46:25.942Z"
   },
   {
    "duration": 13,
    "start_time": "2023-03-10T07:46:25.968Z"
   },
   {
    "duration": 7,
    "start_time": "2023-03-10T07:46:25.983Z"
   },
   {
    "duration": 234,
    "start_time": "2023-03-10T07:46:25.992Z"
   },
   {
    "duration": 195,
    "start_time": "2023-03-10T07:46:26.227Z"
   },
   {
    "duration": 388,
    "start_time": "2023-03-10T07:47:30.318Z"
   },
   {
    "duration": 292,
    "start_time": "2023-03-10T07:48:21.789Z"
   },
   {
    "duration": 235,
    "start_time": "2023-03-10T07:49:00.424Z"
   },
   {
    "duration": 221,
    "start_time": "2023-03-10T07:49:13.874Z"
   },
   {
    "duration": 372,
    "start_time": "2023-03-10T07:49:20.530Z"
   },
   {
    "duration": 308,
    "start_time": "2023-03-10T07:49:27.065Z"
   },
   {
    "duration": 304,
    "start_time": "2023-03-10T07:49:57.974Z"
   },
   {
    "duration": 7,
    "start_time": "2023-03-10T08:09:41.612Z"
   },
   {
    "duration": 2292,
    "start_time": "2023-03-10T08:09:50.734Z"
   },
   {
    "duration": 167,
    "start_time": "2023-03-10T08:09:59.871Z"
   },
   {
    "duration": 200,
    "start_time": "2023-03-10T08:10:53.199Z"
   },
   {
    "duration": 268,
    "start_time": "2023-03-10T08:11:32.925Z"
   },
   {
    "duration": 247,
    "start_time": "2023-03-10T08:12:42.334Z"
   },
   {
    "duration": 217,
    "start_time": "2023-03-10T08:12:59.321Z"
   },
   {
    "duration": 4,
    "start_time": "2023-03-10T08:30:06.641Z"
   },
   {
    "duration": 4,
    "start_time": "2023-03-10T08:30:34.555Z"
   },
   {
    "duration": 6,
    "start_time": "2023-03-10T08:32:38.929Z"
   },
   {
    "duration": 8,
    "start_time": "2023-03-10T08:32:40.605Z"
   },
   {
    "duration": 124,
    "start_time": "2023-03-10T08:34:06.131Z"
   },
   {
    "duration": 130,
    "start_time": "2023-03-10T08:34:28.880Z"
   },
   {
    "duration": 142,
    "start_time": "2023-03-10T08:36:29.666Z"
   },
   {
    "duration": 141,
    "start_time": "2023-03-10T08:37:15.356Z"
   },
   {
    "duration": 5,
    "start_time": "2023-03-10T08:39:08.201Z"
   },
   {
    "duration": 4,
    "start_time": "2023-03-10T08:39:10.787Z"
   },
   {
    "duration": 6,
    "start_time": "2023-03-10T08:39:39.710Z"
   },
   {
    "duration": 5,
    "start_time": "2023-03-10T08:39:41.030Z"
   },
   {
    "duration": 28,
    "start_time": "2023-03-10T08:40:28.269Z"
   },
   {
    "duration": 7,
    "start_time": "2023-03-10T08:51:05.654Z"
   },
   {
    "duration": 5,
    "start_time": "2023-03-10T08:51:07.202Z"
   },
   {
    "duration": 133,
    "start_time": "2023-03-10T08:51:38.878Z"
   },
   {
    "duration": 151,
    "start_time": "2023-03-10T08:53:19.221Z"
   },
   {
    "duration": 10,
    "start_time": "2023-03-10T08:55:47.111Z"
   },
   {
    "duration": 85,
    "start_time": "2023-03-10T08:56:58.693Z"
   },
   {
    "duration": 4,
    "start_time": "2023-03-10T08:57:06.319Z"
   },
   {
    "duration": 844,
    "start_time": "2023-03-11T11:04:11.419Z"
   },
   {
    "duration": 81,
    "start_time": "2023-03-11T11:04:12.267Z"
   },
   {
    "duration": 13,
    "start_time": "2023-03-11T11:04:12.350Z"
   },
   {
    "duration": 5,
    "start_time": "2023-03-11T11:04:12.365Z"
   },
   {
    "duration": 58,
    "start_time": "2023-03-11T11:04:12.373Z"
   },
   {
    "duration": 8,
    "start_time": "2023-03-11T11:04:12.433Z"
   },
   {
    "duration": 28,
    "start_time": "2023-03-11T11:04:12.443Z"
   },
   {
    "duration": 24,
    "start_time": "2023-03-11T11:04:12.474Z"
   },
   {
    "duration": 19,
    "start_time": "2023-03-11T11:04:12.500Z"
   },
   {
    "duration": 65,
    "start_time": "2023-03-11T11:04:12.521Z"
   },
   {
    "duration": 9,
    "start_time": "2023-03-11T11:04:12.588Z"
   },
   {
    "duration": 25,
    "start_time": "2023-03-11T11:04:12.599Z"
   },
   {
    "duration": 8,
    "start_time": "2023-03-11T11:04:12.626Z"
   },
   {
    "duration": 14,
    "start_time": "2023-03-11T11:04:12.637Z"
   },
   {
    "duration": 15,
    "start_time": "2023-03-11T11:04:12.653Z"
   },
   {
    "duration": 15,
    "start_time": "2023-03-11T11:04:12.670Z"
   },
   {
    "duration": 9,
    "start_time": "2023-03-11T11:04:12.687Z"
   },
   {
    "duration": 12,
    "start_time": "2023-03-11T11:04:12.698Z"
   },
   {
    "duration": 9,
    "start_time": "2023-03-11T11:04:12.712Z"
   },
   {
    "duration": 191,
    "start_time": "2023-03-11T11:04:12.722Z"
   },
   {
    "duration": 3,
    "start_time": "2023-03-11T11:04:12.915Z"
   },
   {
    "duration": 23,
    "start_time": "2023-03-11T11:04:12.920Z"
   },
   {
    "duration": 301,
    "start_time": "2023-03-11T11:04:12.945Z"
   },
   {
    "duration": 238,
    "start_time": "2023-03-11T11:04:13.248Z"
   },
   {
    "duration": 452,
    "start_time": "2023-03-11T11:04:13.488Z"
   },
   {
    "duration": 4,
    "start_time": "2023-03-11T11:04:13.942Z"
   },
   {
    "duration": 204,
    "start_time": "2023-03-11T11:04:13.947Z"
   },
   {
    "duration": 11,
    "start_time": "2023-03-11T11:04:14.153Z"
   },
   {
    "duration": 13,
    "start_time": "2023-03-11T11:04:14.166Z"
   },
   {
    "duration": 12,
    "start_time": "2023-03-11T11:04:14.181Z"
   },
   {
    "duration": 12,
    "start_time": "2023-03-11T11:04:14.194Z"
   },
   {
    "duration": 254,
    "start_time": "2023-03-11T11:04:14.208Z"
   },
   {
    "duration": 362,
    "start_time": "2023-03-11T11:04:14.464Z"
   },
   {
    "duration": 7,
    "start_time": "2023-03-11T11:04:14.828Z"
   },
   {
    "duration": 162,
    "start_time": "2023-03-11T11:04:14.836Z"
   },
   {
    "duration": 4,
    "start_time": "2023-03-11T11:04:15.000Z"
   },
   {
    "duration": 212,
    "start_time": "2023-03-11T11:04:15.007Z"
   },
   {
    "duration": 174,
    "start_time": "2023-03-11T11:05:38.581Z"
   },
   {
    "duration": 73,
    "start_time": "2023-03-11T11:07:42.678Z"
   },
   {
    "duration": 4,
    "start_time": "2023-03-11T11:07:48.663Z"
   },
   {
    "duration": 10,
    "start_time": "2023-03-11T11:14:52.655Z"
   },
   {
    "duration": 455,
    "start_time": "2023-03-11T11:15:30.541Z"
   },
   {
    "duration": 33,
    "start_time": "2023-03-11T11:15:40.201Z"
   },
   {
    "duration": 9,
    "start_time": "2023-03-11T11:15:47.743Z"
   },
   {
    "duration": 10,
    "start_time": "2023-03-11T11:16:19.461Z"
   },
   {
    "duration": 54,
    "start_time": "2023-03-11T11:17:06.500Z"
   },
   {
    "duration": 10,
    "start_time": "2023-03-11T11:17:34.703Z"
   },
   {
    "duration": 16,
    "start_time": "2023-03-11T11:19:12.039Z"
   },
   {
    "duration": 18,
    "start_time": "2023-03-11T11:21:22.405Z"
   },
   {
    "duration": 11,
    "start_time": "2023-03-11T11:22:15.699Z"
   },
   {
    "duration": 6,
    "start_time": "2023-03-11T11:46:56.314Z"
   },
   {
    "duration": 239,
    "start_time": "2023-03-11T11:46:57.118Z"
   },
   {
    "duration": 9,
    "start_time": "2023-03-11T12:03:58.896Z"
   },
   {
    "duration": 12,
    "start_time": "2023-03-11T12:05:02.952Z"
   },
   {
    "duration": 8,
    "start_time": "2023-03-11T12:05:22.665Z"
   },
   {
    "duration": 6,
    "start_time": "2023-03-11T12:05:46.952Z"
   },
   {
    "duration": 51,
    "start_time": "2023-03-11T12:06:29.889Z"
   },
   {
    "duration": 9,
    "start_time": "2023-03-11T13:04:47.592Z"
   },
   {
    "duration": 8,
    "start_time": "2023-03-11T13:05:26.953Z"
   },
   {
    "duration": 13,
    "start_time": "2023-03-11T13:15:41.847Z"
   },
   {
    "duration": 8,
    "start_time": "2023-03-11T14:03:50.900Z"
   },
   {
    "duration": 14,
    "start_time": "2023-03-11T14:05:16.339Z"
   },
   {
    "duration": 7,
    "start_time": "2023-03-11T14:12:07.174Z"
   },
   {
    "duration": 7,
    "start_time": "2023-03-11T14:12:07.800Z"
   },
   {
    "duration": 7,
    "start_time": "2023-03-11T14:12:10.899Z"
   },
   {
    "duration": 5,
    "start_time": "2023-03-11T14:12:12.465Z"
   },
   {
    "duration": 234,
    "start_time": "2023-03-11T14:12:18.369Z"
   },
   {
    "duration": 286,
    "start_time": "2023-03-11T14:13:36.210Z"
   },
   {
    "duration": 12,
    "start_time": "2023-03-11T14:18:53.488Z"
   },
   {
    "duration": 11,
    "start_time": "2023-03-11T14:33:19.926Z"
   },
   {
    "duration": 5,
    "start_time": "2023-03-11T14:33:49.827Z"
   },
   {
    "duration": 8,
    "start_time": "2023-03-11T14:34:40.073Z"
   },
   {
    "duration": 4,
    "start_time": "2023-03-11T14:38:00.812Z"
   },
   {
    "duration": 933,
    "start_time": "2023-03-11T16:15:58.508Z"
   },
   {
    "duration": 1129,
    "start_time": "2023-03-11T16:16:29.844Z"
   },
   {
    "duration": 69,
    "start_time": "2023-03-11T16:16:30.976Z"
   },
   {
    "duration": 13,
    "start_time": "2023-03-11T16:16:31.047Z"
   },
   {
    "duration": 36,
    "start_time": "2023-03-11T16:16:31.062Z"
   },
   {
    "duration": 79,
    "start_time": "2023-03-11T16:16:31.100Z"
   },
   {
    "duration": 9,
    "start_time": "2023-03-11T16:16:31.181Z"
   },
   {
    "duration": 50,
    "start_time": "2023-03-11T16:16:31.192Z"
   },
   {
    "duration": 41,
    "start_time": "2023-03-11T16:16:31.244Z"
   },
   {
    "duration": 26,
    "start_time": "2023-03-11T16:16:31.287Z"
   },
   {
    "duration": 475,
    "start_time": "2023-03-11T16:16:31.314Z"
   },
   {
    "duration": 8,
    "start_time": "2023-03-11T16:16:31.790Z"
   },
   {
    "duration": 22,
    "start_time": "2023-03-11T16:16:31.800Z"
   },
   {
    "duration": 15,
    "start_time": "2023-03-11T16:16:31.824Z"
   },
   {
    "duration": 7,
    "start_time": "2023-03-11T16:16:31.842Z"
   },
   {
    "duration": 13,
    "start_time": "2023-03-11T16:16:31.851Z"
   },
   {
    "duration": 20,
    "start_time": "2023-03-11T16:16:31.869Z"
   },
   {
    "duration": 30,
    "start_time": "2023-03-11T16:16:31.891Z"
   },
   {
    "duration": 10,
    "start_time": "2023-03-11T16:16:31.923Z"
   },
   {
    "duration": 13,
    "start_time": "2023-03-11T16:16:31.935Z"
   },
   {
    "duration": 19,
    "start_time": "2023-03-11T16:16:31.949Z"
   },
   {
    "duration": 190,
    "start_time": "2023-03-11T16:16:31.969Z"
   },
   {
    "duration": 3,
    "start_time": "2023-03-11T16:16:32.161Z"
   },
   {
    "duration": 36,
    "start_time": "2023-03-11T16:16:32.166Z"
   },
   {
    "duration": 317,
    "start_time": "2023-03-11T16:16:32.203Z"
   },
   {
    "duration": 237,
    "start_time": "2023-03-11T16:16:32.522Z"
   },
   {
    "duration": 339,
    "start_time": "2023-03-11T16:16:32.761Z"
   },
   {
    "duration": 6,
    "start_time": "2023-03-11T16:16:33.102Z"
   },
   {
    "duration": 9,
    "start_time": "2023-03-11T16:16:33.110Z"
   },
   {
    "duration": 8,
    "start_time": "2023-03-11T16:16:33.121Z"
   },
   {
    "duration": 6,
    "start_time": "2023-03-11T16:16:33.131Z"
   },
   {
    "duration": 258,
    "start_time": "2023-03-11T16:16:33.139Z"
   },
   {
    "duration": 310,
    "start_time": "2023-03-11T16:16:33.400Z"
   },
   {
    "duration": 6,
    "start_time": "2023-03-11T16:16:33.712Z"
   },
   {
    "duration": 169,
    "start_time": "2023-03-11T16:16:33.719Z"
   },
   {
    "duration": 4,
    "start_time": "2023-03-11T16:16:33.890Z"
   },
   {
    "duration": 194,
    "start_time": "2023-03-11T16:16:33.895Z"
   },
   {
    "duration": 5,
    "start_time": "2023-03-11T16:16:34.091Z"
   },
   {
    "duration": 20,
    "start_time": "2023-03-11T16:16:34.098Z"
   },
   {
    "duration": 8,
    "start_time": "2023-03-11T16:16:34.120Z"
   },
   {
    "duration": 1082,
    "start_time": "2023-03-11T16:16:34.130Z"
   },
   {
    "duration": 0,
    "start_time": "2023-03-11T16:16:35.214Z"
   },
   {
    "duration": 0,
    "start_time": "2023-03-11T16:16:35.215Z"
   },
   {
    "duration": 929,
    "start_time": "2023-03-11T16:18:52.136Z"
   },
   {
    "duration": 10,
    "start_time": "2023-03-11T16:19:42.661Z"
   },
   {
    "duration": 994,
    "start_time": "2023-03-11T16:20:29.093Z"
   },
   {
    "duration": 908,
    "start_time": "2023-03-11T16:20:45.888Z"
   },
   {
    "duration": 153,
    "start_time": "2023-03-11T16:21:57.887Z"
   },
   {
    "duration": 975,
    "start_time": "2023-03-11T16:21:58.740Z"
   },
   {
    "duration": 154,
    "start_time": "2023-03-11T16:22:26.557Z"
   },
   {
    "duration": 1040,
    "start_time": "2023-03-11T16:22:30.777Z"
   },
   {
    "duration": 12,
    "start_time": "2023-03-11T16:23:21.430Z"
   },
   {
    "duration": 6,
    "start_time": "2023-03-11T16:23:29.699Z"
   },
   {
    "duration": 37,
    "start_time": "2023-03-11T16:23:46.154Z"
   },
   {
    "duration": 24,
    "start_time": "2023-03-11T16:26:08.449Z"
   },
   {
    "duration": 835,
    "start_time": "2023-03-11T16:37:08.680Z"
   },
   {
    "duration": 5,
    "start_time": "2023-03-11T16:37:47.564Z"
   },
   {
    "duration": 5,
    "start_time": "2023-03-11T16:38:07.517Z"
   },
   {
    "duration": 6,
    "start_time": "2023-03-11T16:38:13.170Z"
   },
   {
    "duration": 3,
    "start_time": "2023-03-11T16:39:03.681Z"
   },
   {
    "duration": 6,
    "start_time": "2023-03-11T16:39:22.599Z"
   },
   {
    "duration": 6,
    "start_time": "2023-03-11T16:47:59.573Z"
   },
   {
    "duration": 4,
    "start_time": "2023-03-11T16:56:03.914Z"
   },
   {
    "duration": 24,
    "start_time": "2023-03-11T16:57:31.250Z"
   },
   {
    "duration": 5,
    "start_time": "2023-03-11T17:01:11.432Z"
   },
   {
    "duration": 9,
    "start_time": "2023-03-12T08:50:37.851Z"
   },
   {
    "duration": 48,
    "start_time": "2023-03-12T08:50:51.503Z"
   },
   {
    "duration": 1334,
    "start_time": "2023-03-12T08:50:58.565Z"
   },
   {
    "duration": 90,
    "start_time": "2023-03-12T08:50:59.902Z"
   },
   {
    "duration": 17,
    "start_time": "2023-03-12T08:50:59.995Z"
   },
   {
    "duration": 27,
    "start_time": "2023-03-12T08:51:00.014Z"
   },
   {
    "duration": 79,
    "start_time": "2023-03-12T08:51:00.044Z"
   },
   {
    "duration": 9,
    "start_time": "2023-03-12T08:51:00.125Z"
   },
   {
    "duration": 38,
    "start_time": "2023-03-12T08:51:00.136Z"
   },
   {
    "duration": 219,
    "start_time": "2023-03-12T08:51:00.180Z"
   },
   {
    "duration": 35,
    "start_time": "2023-03-12T08:51:00.402Z"
   },
   {
    "duration": 105,
    "start_time": "2023-03-12T08:51:00.439Z"
   },
   {
    "duration": 8,
    "start_time": "2023-03-12T08:51:00.546Z"
   },
   {
    "duration": 70,
    "start_time": "2023-03-12T08:51:00.567Z"
   },
   {
    "duration": 70,
    "start_time": "2023-03-12T08:51:00.642Z"
   },
   {
    "duration": 33,
    "start_time": "2023-03-12T08:51:00.717Z"
   },
   {
    "duration": 36,
    "start_time": "2023-03-12T08:51:00.755Z"
   },
   {
    "duration": 49,
    "start_time": "2023-03-12T08:51:00.793Z"
   },
   {
    "duration": 25,
    "start_time": "2023-03-12T08:51:00.844Z"
   },
   {
    "duration": 25,
    "start_time": "2023-03-12T08:51:00.871Z"
   },
   {
    "duration": 36,
    "start_time": "2023-03-12T08:51:00.898Z"
   },
   {
    "duration": 44,
    "start_time": "2023-03-12T08:51:00.936Z"
   },
   {
    "duration": 208,
    "start_time": "2023-03-12T08:51:00.983Z"
   },
   {
    "duration": 3,
    "start_time": "2023-03-12T08:51:01.193Z"
   },
   {
    "duration": 29,
    "start_time": "2023-03-12T08:51:01.198Z"
   },
   {
    "duration": 424,
    "start_time": "2023-03-12T08:51:01.229Z"
   },
   {
    "duration": 257,
    "start_time": "2023-03-12T08:51:01.656Z"
   },
   {
    "duration": 421,
    "start_time": "2023-03-12T08:51:01.915Z"
   },
   {
    "duration": 7,
    "start_time": "2023-03-12T08:51:02.338Z"
   },
   {
    "duration": 772,
    "start_time": "2023-03-12T08:51:02.347Z"
   },
   {
    "duration": 0,
    "start_time": "2023-03-12T08:51:03.122Z"
   },
   {
    "duration": 0,
    "start_time": "2023-03-12T08:51:03.124Z"
   },
   {
    "duration": 0,
    "start_time": "2023-03-12T08:51:03.125Z"
   },
   {
    "duration": 0,
    "start_time": "2023-03-12T08:51:03.127Z"
   },
   {
    "duration": 0,
    "start_time": "2023-03-12T08:51:03.128Z"
   },
   {
    "duration": 0,
    "start_time": "2023-03-12T08:51:03.129Z"
   },
   {
    "duration": 0,
    "start_time": "2023-03-12T08:51:03.131Z"
   },
   {
    "duration": 0,
    "start_time": "2023-03-12T08:51:03.132Z"
   },
   {
    "duration": 0,
    "start_time": "2023-03-12T08:51:03.134Z"
   },
   {
    "duration": 0,
    "start_time": "2023-03-12T08:51:03.135Z"
   },
   {
    "duration": 0,
    "start_time": "2023-03-12T08:51:03.136Z"
   },
   {
    "duration": 0,
    "start_time": "2023-03-12T08:51:03.138Z"
   },
   {
    "duration": 0,
    "start_time": "2023-03-12T08:51:03.139Z"
   },
   {
    "duration": 0,
    "start_time": "2023-03-12T08:51:03.140Z"
   },
   {
    "duration": 0,
    "start_time": "2023-03-12T08:51:03.142Z"
   },
   {
    "duration": 0,
    "start_time": "2023-03-12T08:51:03.143Z"
   },
   {
    "duration": 11,
    "start_time": "2023-03-12T08:53:22.201Z"
   },
   {
    "duration": 13,
    "start_time": "2023-03-12T08:53:39.173Z"
   },
   {
    "duration": 55,
    "start_time": "2023-03-12T08:58:57.669Z"
   },
   {
    "duration": 6,
    "start_time": "2023-03-12T08:59:47.000Z"
   },
   {
    "duration": 23,
    "start_time": "2023-03-12T09:00:18.988Z"
   },
   {
    "duration": 27,
    "start_time": "2023-03-12T09:00:45.400Z"
   },
   {
    "duration": 30,
    "start_time": "2023-03-12T09:03:50.123Z"
   },
   {
    "duration": 168,
    "start_time": "2023-03-12T09:05:29.210Z"
   },
   {
    "duration": 778,
    "start_time": "2023-03-12T09:08:51.974Z"
   },
   {
    "duration": 125,
    "start_time": "2023-03-12T09:09:15.186Z"
   },
   {
    "duration": 4,
    "start_time": "2023-03-12T09:09:19.545Z"
   },
   {
    "duration": 10,
    "start_time": "2023-03-12T09:10:28.955Z"
   },
   {
    "duration": 9,
    "start_time": "2023-03-12T09:10:29.622Z"
   },
   {
    "duration": 17,
    "start_time": "2023-03-12T09:10:30.269Z"
   },
   {
    "duration": 246,
    "start_time": "2023-03-12T09:10:30.984Z"
   },
   {
    "duration": 343,
    "start_time": "2023-03-12T09:13:27.446Z"
   },
   {
    "duration": 6,
    "start_time": "2023-03-12T09:13:36.892Z"
   },
   {
    "duration": 155,
    "start_time": "2023-03-12T09:13:37.433Z"
   },
   {
    "duration": 164,
    "start_time": "2023-03-12T09:13:58.389Z"
   },
   {
    "duration": 4,
    "start_time": "2023-03-12T09:14:06.909Z"
   },
   {
    "duration": 4,
    "start_time": "2023-03-12T09:14:19.428Z"
   },
   {
    "duration": 13,
    "start_time": "2023-03-12T09:18:04.427Z"
   },
   {
    "duration": 14,
    "start_time": "2023-03-12T09:18:14.192Z"
   },
   {
    "duration": 7,
    "start_time": "2023-03-12T09:18:48.752Z"
   },
   {
    "duration": 12,
    "start_time": "2023-03-12T09:19:35.985Z"
   },
   {
    "duration": 52,
    "start_time": "2023-03-12T09:29:47.244Z"
   },
   {
    "duration": 14,
    "start_time": "2023-03-12T09:30:04.968Z"
   },
   {
    "duration": 5,
    "start_time": "2023-03-12T09:30:11.157Z"
   },
   {
    "duration": 18,
    "start_time": "2023-03-12T09:30:11.717Z"
   },
   {
    "duration": 58,
    "start_time": "2023-03-12T09:31:09.678Z"
   },
   {
    "duration": 4,
    "start_time": "2023-03-12T09:32:56.993Z"
   },
   {
    "duration": 99,
    "start_time": "2023-03-12T09:32:57.625Z"
   },
   {
    "duration": 7,
    "start_time": "2023-03-12T09:34:01.954Z"
   },
   {
    "duration": 8,
    "start_time": "2023-03-12T09:34:02.559Z"
   },
   {
    "duration": 6,
    "start_time": "2023-03-12T09:34:05.236Z"
   },
   {
    "duration": 247,
    "start_time": "2023-03-12T09:34:06.299Z"
   },
   {
    "duration": 5,
    "start_time": "2023-03-12T09:39:17.191Z"
   },
   {
    "duration": 217,
    "start_time": "2023-03-12T09:39:18.064Z"
   },
   {
    "duration": 153,
    "start_time": "2023-03-12T09:43:47.271Z"
   },
   {
    "duration": 11,
    "start_time": "2023-03-12T10:02:09.341Z"
   },
   {
    "duration": 5,
    "start_time": "2023-03-12T10:02:29.056Z"
   },
   {
    "duration": 8,
    "start_time": "2023-03-12T10:03:10.107Z"
   },
   {
    "duration": 7,
    "start_time": "2023-03-12T10:03:15.289Z"
   },
   {
    "duration": 23,
    "start_time": "2023-03-12T10:06:59.189Z"
   },
   {
    "duration": 35,
    "start_time": "2023-03-12T10:07:38.852Z"
   },
   {
    "duration": 33,
    "start_time": "2023-03-12T10:08:05.284Z"
   },
   {
    "duration": 24,
    "start_time": "2023-03-12T10:08:51.260Z"
   },
   {
    "duration": 11,
    "start_time": "2023-03-12T10:09:18.459Z"
   },
   {
    "duration": 52,
    "start_time": "2023-03-12T10:20:50.475Z"
   },
   {
    "duration": 57,
    "start_time": "2023-03-12T10:21:23.272Z"
   },
   {
    "duration": 5,
    "start_time": "2023-03-12T10:22:13.626Z"
   },
   {
    "duration": 7,
    "start_time": "2023-03-12T10:22:20.678Z"
   },
   {
    "duration": 6,
    "start_time": "2023-03-12T10:22:42.737Z"
   },
   {
    "duration": 7,
    "start_time": "2023-03-12T10:24:27.608Z"
   },
   {
    "duration": 7,
    "start_time": "2023-03-12T10:25:09.724Z"
   },
   {
    "duration": 9,
    "start_time": "2023-03-12T10:25:30.415Z"
   },
   {
    "duration": 25,
    "start_time": "2023-03-12T10:26:49.363Z"
   },
   {
    "duration": 16,
    "start_time": "2023-03-12T10:27:09.377Z"
   },
   {
    "duration": 13,
    "start_time": "2023-03-12T10:28:47.430Z"
   },
   {
    "duration": 13,
    "start_time": "2023-03-12T10:29:00.177Z"
   },
   {
    "duration": 9,
    "start_time": "2023-03-12T10:29:23.552Z"
   },
   {
    "duration": 11,
    "start_time": "2023-03-12T10:30:03.996Z"
   },
   {
    "duration": 52,
    "start_time": "2023-03-12T13:19:59.777Z"
   },
   {
    "duration": 17,
    "start_time": "2023-03-12T13:20:30.941Z"
   },
   {
    "duration": 12,
    "start_time": "2023-03-12T13:21:44.856Z"
   },
   {
    "duration": 11,
    "start_time": "2023-03-12T13:22:28.963Z"
   },
   {
    "duration": 6,
    "start_time": "2023-03-12T13:23:24.563Z"
   },
   {
    "duration": 21,
    "start_time": "2023-03-12T14:25:13.703Z"
   },
   {
    "duration": 1053,
    "start_time": "2023-03-12T14:25:26.471Z"
   },
   {
    "duration": 70,
    "start_time": "2023-03-12T14:25:27.527Z"
   },
   {
    "duration": 13,
    "start_time": "2023-03-12T14:25:27.599Z"
   },
   {
    "duration": 5,
    "start_time": "2023-03-12T14:25:27.614Z"
   },
   {
    "duration": 276,
    "start_time": "2023-03-12T14:25:27.621Z"
   },
   {
    "duration": 7,
    "start_time": "2023-03-12T14:25:27.899Z"
   },
   {
    "duration": 12,
    "start_time": "2023-03-12T14:25:27.908Z"
   },
   {
    "duration": 15,
    "start_time": "2023-03-12T14:25:27.921Z"
   },
   {
    "duration": 10,
    "start_time": "2023-03-12T14:25:27.937Z"
   },
   {
    "duration": 44,
    "start_time": "2023-03-12T14:25:27.949Z"
   },
   {
    "duration": 7,
    "start_time": "2023-03-12T14:25:27.995Z"
   },
   {
    "duration": 14,
    "start_time": "2023-03-12T14:25:28.003Z"
   },
   {
    "duration": 10,
    "start_time": "2023-03-12T14:25:28.019Z"
   },
   {
    "duration": 6,
    "start_time": "2023-03-12T14:25:28.032Z"
   },
   {
    "duration": 7,
    "start_time": "2023-03-12T14:25:28.039Z"
   },
   {
    "duration": 7,
    "start_time": "2023-03-12T14:25:28.047Z"
   },
   {
    "duration": 9,
    "start_time": "2023-03-12T14:25:28.055Z"
   },
   {
    "duration": 6,
    "start_time": "2023-03-12T14:25:28.066Z"
   },
   {
    "duration": 12,
    "start_time": "2023-03-12T14:25:28.073Z"
   },
   {
    "duration": 8,
    "start_time": "2023-03-12T14:25:28.087Z"
   },
   {
    "duration": 180,
    "start_time": "2023-03-12T14:25:28.097Z"
   },
   {
    "duration": 3,
    "start_time": "2023-03-12T14:25:28.279Z"
   },
   {
    "duration": 12,
    "start_time": "2023-03-12T14:25:28.284Z"
   },
   {
    "duration": 306,
    "start_time": "2023-03-12T14:25:28.298Z"
   },
   {
    "duration": 257,
    "start_time": "2023-03-12T14:25:28.606Z"
   },
   {
    "duration": 329,
    "start_time": "2023-03-12T14:25:28.864Z"
   },
   {
    "duration": 5,
    "start_time": "2023-03-12T14:25:29.195Z"
   },
   {
    "duration": 107,
    "start_time": "2023-03-12T14:25:29.202Z"
   },
   {
    "duration": 6,
    "start_time": "2023-03-12T14:25:29.311Z"
   },
   {
    "duration": 15,
    "start_time": "2023-03-12T14:25:29.320Z"
   },
   {
    "duration": 29,
    "start_time": "2023-03-12T14:25:29.337Z"
   },
   {
    "duration": 240,
    "start_time": "2023-03-12T14:25:29.368Z"
   },
   {
    "duration": 305,
    "start_time": "2023-03-12T14:25:29.610Z"
   },
   {
    "duration": 6,
    "start_time": "2023-03-12T14:25:29.918Z"
   },
   {
    "duration": 159,
    "start_time": "2023-03-12T14:25:29.926Z"
   },
   {
    "duration": 5,
    "start_time": "2023-03-12T14:25:30.088Z"
   },
   {
    "duration": 184,
    "start_time": "2023-03-12T14:25:30.094Z"
   },
   {
    "duration": 5,
    "start_time": "2023-03-12T14:25:30.280Z"
   },
   {
    "duration": 151,
    "start_time": "2023-03-12T14:25:30.286Z"
   },
   {
    "duration": 6,
    "start_time": "2023-03-12T14:25:30.439Z"
   },
   {
    "duration": 37,
    "start_time": "2023-03-12T14:25:30.456Z"
   },
   {
    "duration": 22,
    "start_time": "2023-03-12T14:25:30.494Z"
   },
   {
    "duration": 16,
    "start_time": "2023-03-12T14:25:30.517Z"
   },
   {
    "duration": 129,
    "start_time": "2023-03-12T14:25:30.535Z"
   },
   {
    "duration": 0,
    "start_time": "2023-03-12T14:25:30.666Z"
   },
   {
    "duration": 0,
    "start_time": "2023-03-12T14:25:30.668Z"
   },
   {
    "duration": 17,
    "start_time": "2023-03-12T14:26:44.917Z"
   },
   {
    "duration": 11,
    "start_time": "2023-03-12T14:27:05.176Z"
   },
   {
    "duration": 17,
    "start_time": "2023-03-12T14:27:06.903Z"
   },
   {
    "duration": 23,
    "start_time": "2023-03-12T14:28:11.877Z"
   },
   {
    "duration": 12,
    "start_time": "2023-03-12T14:28:39.261Z"
   },
   {
    "duration": 29,
    "start_time": "2023-03-12T14:29:48.077Z"
   },
   {
    "duration": 12,
    "start_time": "2023-03-12T14:36:20.266Z"
   },
   {
    "duration": 13,
    "start_time": "2023-03-12T14:36:48.028Z"
   },
   {
    "duration": 13,
    "start_time": "2023-03-12T14:36:49.477Z"
   },
   {
    "duration": 27,
    "start_time": "2023-03-12T14:36:50.756Z"
   },
   {
    "duration": 20,
    "start_time": "2023-03-12T14:36:53.752Z"
   },
   {
    "duration": 1552,
    "start_time": "2023-03-14T06:03:19.047Z"
   },
   {
    "duration": 74,
    "start_time": "2023-03-14T06:03:20.601Z"
   },
   {
    "duration": 18,
    "start_time": "2023-03-14T06:03:20.677Z"
   },
   {
    "duration": 20,
    "start_time": "2023-03-14T06:03:20.698Z"
   },
   {
    "duration": 108,
    "start_time": "2023-03-14T06:03:20.720Z"
   },
   {
    "duration": 10,
    "start_time": "2023-03-14T06:03:20.830Z"
   },
   {
    "duration": 37,
    "start_time": "2023-03-14T06:03:20.841Z"
   },
   {
    "duration": 20,
    "start_time": "2023-03-14T06:03:20.880Z"
   },
   {
    "duration": 9,
    "start_time": "2023-03-14T06:03:20.902Z"
   },
   {
    "duration": 62,
    "start_time": "2023-03-14T06:03:20.915Z"
   },
   {
    "duration": 9,
    "start_time": "2023-03-14T06:03:20.979Z"
   },
   {
    "duration": 17,
    "start_time": "2023-03-14T06:03:20.990Z"
   },
   {
    "duration": 29,
    "start_time": "2023-03-14T06:03:21.010Z"
   },
   {
    "duration": 49,
    "start_time": "2023-03-14T06:03:21.041Z"
   },
   {
    "duration": 42,
    "start_time": "2023-03-14T06:03:21.093Z"
   },
   {
    "duration": 43,
    "start_time": "2023-03-14T06:03:21.137Z"
   },
   {
    "duration": 13,
    "start_time": "2023-03-14T06:03:21.182Z"
   },
   {
    "duration": 13,
    "start_time": "2023-03-14T06:03:21.196Z"
   },
   {
    "duration": 13,
    "start_time": "2023-03-14T06:03:21.212Z"
   },
   {
    "duration": 17,
    "start_time": "2023-03-14T06:03:21.227Z"
   },
   {
    "duration": 212,
    "start_time": "2023-03-14T06:03:21.246Z"
   },
   {
    "duration": 3,
    "start_time": "2023-03-14T06:03:21.460Z"
   },
   {
    "duration": 12,
    "start_time": "2023-03-14T06:03:21.465Z"
   },
   {
    "duration": 421,
    "start_time": "2023-03-14T06:03:21.479Z"
   },
   {
    "duration": 262,
    "start_time": "2023-03-14T06:03:21.902Z"
   },
   {
    "duration": 398,
    "start_time": "2023-03-14T06:03:22.167Z"
   },
   {
    "duration": 6,
    "start_time": "2023-03-14T06:03:22.567Z"
   },
   {
    "duration": 152,
    "start_time": "2023-03-14T06:03:22.578Z"
   },
   {
    "duration": 9,
    "start_time": "2023-03-14T06:03:22.732Z"
   },
   {
    "duration": 55,
    "start_time": "2023-03-14T06:03:22.743Z"
   },
   {
    "duration": 83,
    "start_time": "2023-03-14T06:03:22.800Z"
   },
   {
    "duration": 311,
    "start_time": "2023-03-14T06:03:22.885Z"
   },
   {
    "duration": 392,
    "start_time": "2023-03-14T06:03:23.199Z"
   },
   {
    "duration": 6,
    "start_time": "2023-03-14T06:03:23.594Z"
   },
   {
    "duration": 201,
    "start_time": "2023-03-14T06:03:23.602Z"
   },
   {
    "duration": 6,
    "start_time": "2023-03-14T06:03:23.805Z"
   },
   {
    "duration": 204,
    "start_time": "2023-03-14T06:03:23.813Z"
   },
   {
    "duration": 5,
    "start_time": "2023-03-14T06:03:24.019Z"
   },
   {
    "duration": 198,
    "start_time": "2023-03-14T06:03:24.026Z"
   },
   {
    "duration": 17,
    "start_time": "2023-03-14T06:03:24.226Z"
   },
   {
    "duration": 29,
    "start_time": "2023-03-14T06:03:24.245Z"
   },
   {
    "duration": 13,
    "start_time": "2023-03-14T06:03:24.276Z"
   },
   {
    "duration": 137,
    "start_time": "2023-03-14T06:03:24.291Z"
   },
   {
    "duration": 0,
    "start_time": "2023-03-14T06:03:24.430Z"
   },
   {
    "duration": 0,
    "start_time": "2023-03-14T06:03:24.431Z"
   },
   {
    "duration": 0,
    "start_time": "2023-03-14T06:03:24.442Z"
   },
   {
    "duration": 13,
    "start_time": "2023-03-14T06:10:22.772Z"
   },
   {
    "duration": 8,
    "start_time": "2023-03-14T06:38:32.142Z"
   },
   {
    "duration": 6,
    "start_time": "2023-03-14T06:38:57.366Z"
   },
   {
    "duration": 7,
    "start_time": "2023-03-14T06:39:14.839Z"
   },
   {
    "duration": 135,
    "start_time": "2023-03-14T07:56:50.541Z"
   },
   {
    "duration": 7,
    "start_time": "2023-03-14T07:56:51.935Z"
   },
   {
    "duration": 23,
    "start_time": "2023-03-14T07:56:52.703Z"
   },
   {
    "duration": 10,
    "start_time": "2023-03-14T07:56:54.478Z"
   },
   {
    "duration": 14,
    "start_time": "2023-03-14T07:56:57.104Z"
   },
   {
    "duration": 16,
    "start_time": "2023-03-14T07:58:31.766Z"
   },
   {
    "duration": 9,
    "start_time": "2023-03-14T07:59:06.196Z"
   },
   {
    "duration": 12,
    "start_time": "2023-03-14T07:59:16.711Z"
   },
   {
    "duration": 9,
    "start_time": "2023-03-14T07:59:32.768Z"
   },
   {
    "duration": 28,
    "start_time": "2023-03-14T07:59:36.997Z"
   },
   {
    "duration": 12,
    "start_time": "2023-03-14T08:00:06.502Z"
   },
   {
    "duration": 15,
    "start_time": "2023-03-14T08:00:21.442Z"
   },
   {
    "duration": 62,
    "start_time": "2023-03-14T17:26:50.966Z"
   },
   {
    "duration": 1396,
    "start_time": "2023-03-14T17:26:59.136Z"
   },
   {
    "duration": 105,
    "start_time": "2023-03-14T17:27:00.534Z"
   },
   {
    "duration": 20,
    "start_time": "2023-03-14T17:27:00.641Z"
   },
   {
    "duration": 27,
    "start_time": "2023-03-14T17:27:00.663Z"
   },
   {
    "duration": 44,
    "start_time": "2023-03-14T17:27:00.692Z"
   },
   {
    "duration": 108,
    "start_time": "2023-03-14T17:27:00.738Z"
   },
   {
    "duration": 9,
    "start_time": "2023-03-14T17:27:00.848Z"
   },
   {
    "duration": 56,
    "start_time": "2023-03-14T17:27:00.859Z"
   },
   {
    "duration": 42,
    "start_time": "2023-03-14T17:27:00.917Z"
   },
   {
    "duration": 59,
    "start_time": "2023-03-14T17:27:00.963Z"
   },
   {
    "duration": 122,
    "start_time": "2023-03-14T17:27:01.025Z"
   },
   {
    "duration": 11,
    "start_time": "2023-03-14T17:27:01.150Z"
   },
   {
    "duration": 84,
    "start_time": "2023-03-14T17:27:01.163Z"
   },
   {
    "duration": 49,
    "start_time": "2023-03-14T17:27:01.250Z"
   },
   {
    "duration": 52,
    "start_time": "2023-03-14T17:27:01.301Z"
   },
   {
    "duration": 62,
    "start_time": "2023-03-14T17:27:01.356Z"
   },
   {
    "duration": 47,
    "start_time": "2023-03-14T17:27:01.420Z"
   },
   {
    "duration": 46,
    "start_time": "2023-03-14T17:27:01.469Z"
   },
   {
    "duration": 44,
    "start_time": "2023-03-14T17:27:01.517Z"
   },
   {
    "duration": 58,
    "start_time": "2023-03-14T17:27:01.563Z"
   },
   {
    "duration": 253,
    "start_time": "2023-03-14T17:27:01.624Z"
   },
   {
    "duration": 5,
    "start_time": "2023-03-14T17:27:01.878Z"
   },
   {
    "duration": 56,
    "start_time": "2023-03-14T17:27:01.884Z"
   },
   {
    "duration": 327,
    "start_time": "2023-03-14T17:27:01.942Z"
   },
   {
    "duration": 242,
    "start_time": "2023-03-14T17:27:02.273Z"
   },
   {
    "duration": 419,
    "start_time": "2023-03-14T17:27:02.516Z"
   },
   {
    "duration": 6,
    "start_time": "2023-03-14T17:27:02.938Z"
   },
   {
    "duration": 130,
    "start_time": "2023-03-14T17:27:02.949Z"
   },
   {
    "duration": 11,
    "start_time": "2023-03-14T17:27:03.083Z"
   },
   {
    "duration": 16,
    "start_time": "2023-03-14T17:27:03.096Z"
   },
   {
    "duration": 15,
    "start_time": "2023-03-14T17:27:03.113Z"
   },
   {
    "duration": 280,
    "start_time": "2023-03-14T17:27:03.130Z"
   },
   {
    "duration": 337,
    "start_time": "2023-03-14T17:27:03.413Z"
   },
   {
    "duration": 6,
    "start_time": "2023-03-14T17:27:03.752Z"
   },
   {
    "duration": 184,
    "start_time": "2023-03-14T17:27:03.772Z"
   },
   {
    "duration": 5,
    "start_time": "2023-03-14T17:27:03.958Z"
   },
   {
    "duration": 264,
    "start_time": "2023-03-14T17:27:03.972Z"
   },
   {
    "duration": 5,
    "start_time": "2023-03-14T17:27:04.239Z"
   },
   {
    "duration": 256,
    "start_time": "2023-03-14T17:27:04.246Z"
   },
   {
    "duration": 9,
    "start_time": "2023-03-14T17:27:04.505Z"
   },
   {
    "duration": 47,
    "start_time": "2023-03-14T17:27:04.516Z"
   },
   {
    "duration": 20,
    "start_time": "2023-03-14T17:27:04.565Z"
   },
   {
    "duration": 22,
    "start_time": "2023-03-14T17:27:04.589Z"
   },
   {
    "duration": 12,
    "start_time": "2023-03-14T17:27:04.613Z"
   },
   {
    "duration": 58,
    "start_time": "2023-03-14T17:27:04.627Z"
   },
   {
    "duration": 17,
    "start_time": "2023-03-14T17:27:04.686Z"
   },
   {
    "duration": 355,
    "start_time": "2023-03-14T17:51:39.864Z"
   },
   {
    "duration": 321,
    "start_time": "2023-03-14T18:13:19.033Z"
   },
   {
    "duration": 5,
    "start_time": "2023-03-14T18:21:58.212Z"
   },
   {
    "duration": 195,
    "start_time": "2023-03-14T18:22:01.388Z"
   },
   {
    "duration": 6,
    "start_time": "2023-03-14T18:22:04.327Z"
   },
   {
    "duration": 105,
    "start_time": "2023-03-14T18:33:49.494Z"
   },
   {
    "duration": 12,
    "start_time": "2023-03-14T18:45:19.320Z"
   },
   {
    "duration": 1373,
    "start_time": "2023-03-15T07:21:22.253Z"
   },
   {
    "duration": 69,
    "start_time": "2023-03-15T07:21:23.627Z"
   },
   {
    "duration": 16,
    "start_time": "2023-03-15T07:21:23.698Z"
   },
   {
    "duration": 5,
    "start_time": "2023-03-15T07:21:23.717Z"
   },
   {
    "duration": 24,
    "start_time": "2023-03-15T07:21:23.725Z"
   },
   {
    "duration": 75,
    "start_time": "2023-03-15T07:21:23.751Z"
   },
   {
    "duration": 13,
    "start_time": "2023-03-15T07:21:23.828Z"
   },
   {
    "duration": 15,
    "start_time": "2023-03-15T07:21:23.844Z"
   },
   {
    "duration": 17,
    "start_time": "2023-03-15T07:21:23.862Z"
   },
   {
    "duration": 17,
    "start_time": "2023-03-15T07:21:23.882Z"
   },
   {
    "duration": 89,
    "start_time": "2023-03-15T07:21:23.901Z"
   },
   {
    "duration": 10,
    "start_time": "2023-03-15T07:21:23.992Z"
   },
   {
    "duration": 19,
    "start_time": "2023-03-15T07:21:24.005Z"
   },
   {
    "duration": 5,
    "start_time": "2023-03-15T07:21:24.026Z"
   },
   {
    "duration": 11,
    "start_time": "2023-03-15T07:21:24.033Z"
   },
   {
    "duration": 10,
    "start_time": "2023-03-15T07:21:24.046Z"
   },
   {
    "duration": 11,
    "start_time": "2023-03-15T07:21:24.058Z"
   },
   {
    "duration": 8,
    "start_time": "2023-03-15T07:21:24.071Z"
   },
   {
    "duration": 32,
    "start_time": "2023-03-15T07:21:24.081Z"
   },
   {
    "duration": 20,
    "start_time": "2023-03-15T07:21:24.115Z"
   },
   {
    "duration": 176,
    "start_time": "2023-03-15T07:21:24.137Z"
   },
   {
    "duration": 3,
    "start_time": "2023-03-15T07:21:24.314Z"
   },
   {
    "duration": 24,
    "start_time": "2023-03-15T07:21:24.318Z"
   },
   {
    "duration": 338,
    "start_time": "2023-03-15T07:21:24.343Z"
   },
   {
    "duration": 237,
    "start_time": "2023-03-15T07:21:24.683Z"
   },
   {
    "duration": 387,
    "start_time": "2023-03-15T07:21:24.922Z"
   },
   {
    "duration": 4,
    "start_time": "2023-03-15T07:21:25.311Z"
   },
   {
    "duration": 107,
    "start_time": "2023-03-15T07:21:25.320Z"
   },
   {
    "duration": 12,
    "start_time": "2023-03-15T07:21:25.429Z"
   },
   {
    "duration": 9,
    "start_time": "2023-03-15T07:21:25.443Z"
   },
   {
    "duration": 5,
    "start_time": "2023-03-15T07:21:25.454Z"
   },
   {
    "duration": 248,
    "start_time": "2023-03-15T07:21:25.460Z"
   },
   {
    "duration": 352,
    "start_time": "2023-03-15T07:21:25.710Z"
   },
   {
    "duration": 6,
    "start_time": "2023-03-15T07:21:26.064Z"
   },
   {
    "duration": 159,
    "start_time": "2023-03-15T07:21:26.071Z"
   },
   {
    "duration": 11,
    "start_time": "2023-03-15T07:21:26.232Z"
   },
   {
    "duration": 169,
    "start_time": "2023-03-15T07:21:26.244Z"
   },
   {
    "duration": 4,
    "start_time": "2023-03-15T07:21:26.415Z"
   },
   {
    "duration": 151,
    "start_time": "2023-03-15T07:21:26.421Z"
   },
   {
    "duration": 5,
    "start_time": "2023-03-15T07:21:26.574Z"
   },
   {
    "duration": 25,
    "start_time": "2023-03-15T07:21:26.580Z"
   },
   {
    "duration": 11,
    "start_time": "2023-03-15T07:21:26.606Z"
   },
   {
    "duration": 32,
    "start_time": "2023-03-15T07:21:26.619Z"
   },
   {
    "duration": 9,
    "start_time": "2023-03-15T07:21:26.652Z"
   },
   {
    "duration": 24,
    "start_time": "2023-03-15T07:21:26.663Z"
   },
   {
    "duration": 16,
    "start_time": "2023-03-15T07:21:26.689Z"
   },
   {
    "duration": 43,
    "start_time": "2023-03-15T13:23:13.962Z"
   },
   {
    "duration": 1280,
    "start_time": "2023-03-15T13:23:24.326Z"
   },
   {
    "duration": 58,
    "start_time": "2023-03-15T13:23:25.608Z"
   },
   {
    "duration": 16,
    "start_time": "2023-03-15T13:23:25.668Z"
   },
   {
    "duration": 6,
    "start_time": "2023-03-15T13:23:25.686Z"
   },
   {
    "duration": 25,
    "start_time": "2023-03-15T13:23:25.694Z"
   },
   {
    "duration": 207,
    "start_time": "2023-03-15T13:23:25.721Z"
   },
   {
    "duration": 9,
    "start_time": "2023-03-15T13:23:25.931Z"
   },
   {
    "duration": 59,
    "start_time": "2023-03-15T13:23:25.942Z"
   },
   {
    "duration": 21,
    "start_time": "2023-03-15T13:23:26.003Z"
   },
   {
    "duration": 35,
    "start_time": "2023-03-15T13:23:26.027Z"
   },
   {
    "duration": 81,
    "start_time": "2023-03-15T13:23:26.063Z"
   },
   {
    "duration": 8,
    "start_time": "2023-03-15T13:23:26.147Z"
   },
   {
    "duration": 39,
    "start_time": "2023-03-15T13:23:26.157Z"
   },
   {
    "duration": 20,
    "start_time": "2023-03-15T13:23:26.198Z"
   },
   {
    "duration": 15,
    "start_time": "2023-03-15T13:23:26.220Z"
   },
   {
    "duration": 23,
    "start_time": "2023-03-15T13:23:26.237Z"
   },
   {
    "duration": 10,
    "start_time": "2023-03-15T13:23:26.262Z"
   },
   {
    "duration": 27,
    "start_time": "2023-03-15T13:23:26.274Z"
   },
   {
    "duration": 15,
    "start_time": "2023-03-15T13:23:26.303Z"
   },
   {
    "duration": 19,
    "start_time": "2023-03-15T13:23:26.320Z"
   },
   {
    "duration": 22,
    "start_time": "2023-03-15T13:23:26.341Z"
   },
   {
    "duration": 151,
    "start_time": "2023-03-15T13:23:26.365Z"
   },
   {
    "duration": 3,
    "start_time": "2023-03-15T13:23:26.518Z"
   },
   {
    "duration": 11,
    "start_time": "2023-03-15T13:23:26.523Z"
   },
   {
    "duration": 295,
    "start_time": "2023-03-15T13:23:26.536Z"
   },
   {
    "duration": 234,
    "start_time": "2023-03-15T13:23:26.833Z"
   },
   {
    "duration": 442,
    "start_time": "2023-03-15T13:23:27.069Z"
   },
   {
    "duration": 4,
    "start_time": "2023-03-15T13:23:27.514Z"
   },
   {
    "duration": 105,
    "start_time": "2023-03-15T13:23:27.520Z"
   },
   {
    "duration": 16,
    "start_time": "2023-03-15T13:23:27.626Z"
   },
   {
    "duration": 8,
    "start_time": "2023-03-15T13:23:27.644Z"
   },
   {
    "duration": 13,
    "start_time": "2023-03-15T13:23:27.653Z"
   },
   {
    "duration": 247,
    "start_time": "2023-03-15T13:23:27.668Z"
   },
   {
    "duration": 302,
    "start_time": "2023-03-15T13:23:27.917Z"
   },
   {
    "duration": 60,
    "start_time": "2023-03-15T13:23:28.221Z"
   },
   {
    "duration": 209,
    "start_time": "2023-03-15T13:23:28.283Z"
   },
   {
    "duration": 4,
    "start_time": "2023-03-15T13:23:28.493Z"
   },
   {
    "duration": 156,
    "start_time": "2023-03-15T13:23:28.499Z"
   },
   {
    "duration": 4,
    "start_time": "2023-03-15T13:23:28.657Z"
   },
   {
    "duration": 135,
    "start_time": "2023-03-15T13:23:28.662Z"
   },
   {
    "duration": 5,
    "start_time": "2023-03-15T13:23:28.799Z"
   },
   {
    "duration": 47,
    "start_time": "2023-03-15T13:23:28.805Z"
   },
   {
    "duration": 10,
    "start_time": "2023-03-15T13:23:28.853Z"
   },
   {
    "duration": 10,
    "start_time": "2023-03-15T13:23:28.864Z"
   },
   {
    "duration": 15,
    "start_time": "2023-03-15T13:23:28.879Z"
   },
   {
    "duration": 25,
    "start_time": "2023-03-15T13:23:28.896Z"
   },
   {
    "duration": 12,
    "start_time": "2023-03-15T13:23:28.922Z"
   },
   {
    "duration": 9,
    "start_time": "2023-03-15T13:24:46.775Z"
   },
   {
    "duration": 42,
    "start_time": "2023-03-15T13:25:12.522Z"
   },
   {
    "duration": 11,
    "start_time": "2023-03-15T13:25:49.371Z"
   },
   {
    "duration": 8,
    "start_time": "2023-03-15T13:26:41.939Z"
   },
   {
    "duration": 9,
    "start_time": "2023-03-15T13:27:18.817Z"
   },
   {
    "duration": 7,
    "start_time": "2023-03-15T13:29:29.603Z"
   },
   {
    "duration": 4,
    "start_time": "2023-03-15T13:30:07.200Z"
   },
   {
    "duration": 5,
    "start_time": "2023-03-15T13:30:23.247Z"
   },
   {
    "duration": 6,
    "start_time": "2023-03-15T13:31:31.136Z"
   },
   {
    "duration": 5,
    "start_time": "2023-03-15T13:34:36.131Z"
   },
   {
    "duration": 5,
    "start_time": "2023-03-15T13:35:04.328Z"
   },
   {
    "duration": 4,
    "start_time": "2023-03-15T13:35:13.790Z"
   },
   {
    "duration": 4,
    "start_time": "2023-03-15T13:35:47.916Z"
   },
   {
    "duration": 352,
    "start_time": "2023-03-15T13:53:56.513Z"
   },
   {
    "duration": 54,
    "start_time": "2023-03-15T13:54:10.824Z"
   },
   {
    "duration": 240,
    "start_time": "2023-03-15T13:55:00.389Z"
   },
   {
    "duration": 1160,
    "start_time": "2023-03-15T16:42:01.653Z"
   },
   {
    "duration": 121,
    "start_time": "2023-03-15T16:42:02.815Z"
   },
   {
    "duration": 11,
    "start_time": "2023-03-15T16:42:02.939Z"
   },
   {
    "duration": 45,
    "start_time": "2023-03-15T16:42:02.952Z"
   },
   {
    "duration": 11,
    "start_time": "2023-03-15T16:42:02.999Z"
   },
   {
    "duration": 95,
    "start_time": "2023-03-15T16:42:03.011Z"
   },
   {
    "duration": 8,
    "start_time": "2023-03-15T16:42:03.107Z"
   },
   {
    "duration": 21,
    "start_time": "2023-03-15T16:42:03.117Z"
   },
   {
    "duration": 12,
    "start_time": "2023-03-15T16:42:03.141Z"
   },
   {
    "duration": 9,
    "start_time": "2023-03-15T16:42:03.154Z"
   },
   {
    "duration": 62,
    "start_time": "2023-03-15T16:42:03.164Z"
   },
   {
    "duration": 7,
    "start_time": "2023-03-15T16:42:03.228Z"
   },
   {
    "duration": 22,
    "start_time": "2023-03-15T16:42:03.237Z"
   },
   {
    "duration": 11,
    "start_time": "2023-03-15T16:42:03.260Z"
   },
   {
    "duration": 21,
    "start_time": "2023-03-15T16:42:03.272Z"
   },
   {
    "duration": 23,
    "start_time": "2023-03-15T16:42:03.294Z"
   },
   {
    "duration": 7,
    "start_time": "2023-03-15T16:42:03.319Z"
   },
   {
    "duration": 12,
    "start_time": "2023-03-15T16:42:03.328Z"
   },
   {
    "duration": 14,
    "start_time": "2023-03-15T16:42:03.342Z"
   },
   {
    "duration": 11,
    "start_time": "2023-03-15T16:42:03.357Z"
   },
   {
    "duration": 51,
    "start_time": "2023-03-15T16:42:03.370Z"
   },
   {
    "duration": 0,
    "start_time": "2023-03-15T16:42:03.423Z"
   },
   {
    "duration": 0,
    "start_time": "2023-03-15T16:42:03.424Z"
   },
   {
    "duration": 0,
    "start_time": "2023-03-15T16:42:03.425Z"
   },
   {
    "duration": 0,
    "start_time": "2023-03-15T16:42:03.425Z"
   },
   {
    "duration": 0,
    "start_time": "2023-03-15T16:42:03.426Z"
   },
   {
    "duration": 0,
    "start_time": "2023-03-15T16:42:03.427Z"
   },
   {
    "duration": 0,
    "start_time": "2023-03-15T16:42:03.428Z"
   },
   {
    "duration": 0,
    "start_time": "2023-03-15T16:42:03.429Z"
   },
   {
    "duration": 0,
    "start_time": "2023-03-15T16:42:03.430Z"
   },
   {
    "duration": 0,
    "start_time": "2023-03-15T16:42:03.431Z"
   },
   {
    "duration": 0,
    "start_time": "2023-03-15T16:42:03.432Z"
   },
   {
    "duration": 0,
    "start_time": "2023-03-15T16:42:03.432Z"
   },
   {
    "duration": 0,
    "start_time": "2023-03-15T16:42:03.433Z"
   },
   {
    "duration": 0,
    "start_time": "2023-03-15T16:42:03.434Z"
   },
   {
    "duration": 0,
    "start_time": "2023-03-15T16:42:03.435Z"
   },
   {
    "duration": 0,
    "start_time": "2023-03-15T16:42:03.436Z"
   },
   {
    "duration": 0,
    "start_time": "2023-03-15T16:42:03.437Z"
   },
   {
    "duration": 0,
    "start_time": "2023-03-15T16:42:03.438Z"
   },
   {
    "duration": 0,
    "start_time": "2023-03-15T16:42:03.439Z"
   },
   {
    "duration": 0,
    "start_time": "2023-03-15T16:42:03.439Z"
   },
   {
    "duration": 0,
    "start_time": "2023-03-15T16:42:03.441Z"
   },
   {
    "duration": 0,
    "start_time": "2023-03-15T16:42:03.442Z"
   },
   {
    "duration": 0,
    "start_time": "2023-03-15T16:42:03.443Z"
   },
   {
    "duration": 0,
    "start_time": "2023-03-15T16:42:03.444Z"
   },
   {
    "duration": 0,
    "start_time": "2023-03-15T16:42:03.445Z"
   },
   {
    "duration": 0,
    "start_time": "2023-03-15T16:42:03.446Z"
   },
   {
    "duration": 0,
    "start_time": "2023-03-15T16:42:03.447Z"
   },
   {
    "duration": 0,
    "start_time": "2023-03-15T16:42:03.448Z"
   },
   {
    "duration": 0,
    "start_time": "2023-03-15T16:42:03.449Z"
   },
   {
    "duration": 0,
    "start_time": "2023-03-15T16:42:03.450Z"
   },
   {
    "duration": 0,
    "start_time": "2023-03-15T16:42:03.451Z"
   },
   {
    "duration": 9,
    "start_time": "2023-03-15T16:42:58.360Z"
   },
   {
    "duration": 8,
    "start_time": "2023-03-15T16:43:34.167Z"
   },
   {
    "duration": 9,
    "start_time": "2023-03-15T16:44:04.086Z"
   },
   {
    "duration": 18,
    "start_time": "2023-03-15T16:46:53.298Z"
   },
   {
    "duration": 8,
    "start_time": "2023-03-15T17:05:10.475Z"
   },
   {
    "duration": 8,
    "start_time": "2023-03-15T17:05:33.171Z"
   },
   {
    "duration": 8,
    "start_time": "2023-03-15T17:06:42.263Z"
   },
   {
    "duration": 12,
    "start_time": "2023-03-15T17:10:17.937Z"
   },
   {
    "duration": 7,
    "start_time": "2023-03-15T17:12:47.645Z"
   },
   {
    "duration": 32,
    "start_time": "2023-03-15T17:15:12.620Z"
   },
   {
    "duration": 28,
    "start_time": "2023-03-15T17:15:19.280Z"
   },
   {
    "duration": 7,
    "start_time": "2023-03-15T17:16:23.618Z"
   },
   {
    "duration": 11,
    "start_time": "2023-03-15T17:16:42.432Z"
   },
   {
    "duration": 10,
    "start_time": "2023-03-15T17:17:29.462Z"
   },
   {
    "duration": 7,
    "start_time": "2023-03-15T17:18:07.044Z"
   },
   {
    "duration": 10,
    "start_time": "2023-03-15T17:18:25.269Z"
   },
   {
    "duration": 12,
    "start_time": "2023-03-15T17:19:11.609Z"
   },
   {
    "duration": 7,
    "start_time": "2023-03-15T17:19:22.374Z"
   },
   {
    "duration": 9,
    "start_time": "2023-03-15T17:20:40.511Z"
   },
   {
    "duration": 5,
    "start_time": "2023-03-15T17:24:26.426Z"
   },
   {
    "duration": 8,
    "start_time": "2023-03-15T17:24:57.246Z"
   },
   {
    "duration": 7,
    "start_time": "2023-03-15T17:27:51.411Z"
   },
   {
    "duration": 6,
    "start_time": "2023-03-15T17:28:35.222Z"
   },
   {
    "duration": 1281,
    "start_time": "2023-03-15T17:32:20.793Z"
   },
   {
    "duration": 58,
    "start_time": "2023-03-15T17:32:22.076Z"
   },
   {
    "duration": 11,
    "start_time": "2023-03-15T17:32:22.135Z"
   },
   {
    "duration": 39,
    "start_time": "2023-03-15T17:32:22.147Z"
   },
   {
    "duration": 54,
    "start_time": "2023-03-15T17:32:22.188Z"
   },
   {
    "duration": 73,
    "start_time": "2023-03-15T17:32:22.244Z"
   },
   {
    "duration": 7,
    "start_time": "2023-03-15T17:32:22.319Z"
   },
   {
    "duration": 13,
    "start_time": "2023-03-15T17:32:22.327Z"
   },
   {
    "duration": 15,
    "start_time": "2023-03-15T17:32:22.341Z"
   },
   {
    "duration": 21,
    "start_time": "2023-03-15T17:32:22.357Z"
   },
   {
    "duration": 77,
    "start_time": "2023-03-15T17:32:22.380Z"
   },
   {
    "duration": 7,
    "start_time": "2023-03-15T17:32:22.458Z"
   },
   {
    "duration": 25,
    "start_time": "2023-03-15T17:32:22.466Z"
   },
   {
    "duration": 12,
    "start_time": "2023-03-15T17:32:22.493Z"
   },
   {
    "duration": 9,
    "start_time": "2023-03-15T17:32:22.507Z"
   },
   {
    "duration": 8,
    "start_time": "2023-03-15T17:32:22.518Z"
   },
   {
    "duration": 7,
    "start_time": "2023-03-15T17:32:22.527Z"
   },
   {
    "duration": 5,
    "start_time": "2023-03-15T17:32:22.536Z"
   },
   {
    "duration": 13,
    "start_time": "2023-03-15T17:32:22.542Z"
   },
   {
    "duration": 12,
    "start_time": "2023-03-15T17:32:22.556Z"
   },
   {
    "duration": 16,
    "start_time": "2023-03-15T17:32:22.570Z"
   },
   {
    "duration": 17,
    "start_time": "2023-03-15T17:32:22.588Z"
   },
   {
    "duration": 4,
    "start_time": "2023-03-15T17:32:22.607Z"
   },
   {
    "duration": 12,
    "start_time": "2023-03-15T17:32:22.612Z"
   },
   {
    "duration": 21,
    "start_time": "2023-03-15T17:32:22.625Z"
   },
   {
    "duration": 12,
    "start_time": "2023-03-15T17:32:22.648Z"
   },
   {
    "duration": 8,
    "start_time": "2023-03-15T17:32:22.661Z"
   },
   {
    "duration": 166,
    "start_time": "2023-03-15T17:32:22.671Z"
   },
   {
    "duration": 2,
    "start_time": "2023-03-15T17:32:22.838Z"
   },
   {
    "duration": 8,
    "start_time": "2023-03-15T17:32:22.842Z"
   },
   {
    "duration": 259,
    "start_time": "2023-03-15T17:32:22.852Z"
   },
   {
    "duration": 183,
    "start_time": "2023-03-15T17:32:23.112Z"
   },
   {
    "duration": 285,
    "start_time": "2023-03-15T17:32:23.297Z"
   },
   {
    "duration": 4,
    "start_time": "2023-03-15T17:32:23.583Z"
   },
   {
    "duration": 78,
    "start_time": "2023-03-15T17:32:23.588Z"
   },
   {
    "duration": 15,
    "start_time": "2023-03-15T17:32:23.668Z"
   },
   {
    "duration": 8,
    "start_time": "2023-03-15T17:32:23.684Z"
   },
   {
    "duration": 19,
    "start_time": "2023-03-15T17:32:23.693Z"
   },
   {
    "duration": 194,
    "start_time": "2023-03-15T17:32:23.714Z"
   },
   {
    "duration": 272,
    "start_time": "2023-03-15T17:32:23.909Z"
   },
   {
    "duration": 5,
    "start_time": "2023-03-15T17:32:24.184Z"
   },
   {
    "duration": 149,
    "start_time": "2023-03-15T17:32:24.191Z"
   },
   {
    "duration": 4,
    "start_time": "2023-03-15T17:32:24.341Z"
   },
   {
    "duration": 139,
    "start_time": "2023-03-15T17:32:24.346Z"
   },
   {
    "duration": 4,
    "start_time": "2023-03-15T17:32:24.486Z"
   },
   {
    "duration": 119,
    "start_time": "2023-03-15T17:32:24.491Z"
   },
   {
    "duration": 6,
    "start_time": "2023-03-15T17:32:24.612Z"
   },
   {
    "duration": 41,
    "start_time": "2023-03-15T17:32:24.619Z"
   },
   {
    "duration": 9,
    "start_time": "2023-03-15T17:32:24.661Z"
   },
   {
    "duration": 13,
    "start_time": "2023-03-15T17:32:24.671Z"
   },
   {
    "duration": 16,
    "start_time": "2023-03-15T17:32:24.686Z"
   },
   {
    "duration": 38,
    "start_time": "2023-03-15T17:32:24.704Z"
   },
   {
    "duration": 12,
    "start_time": "2023-03-15T17:32:24.743Z"
   },
   {
    "duration": 170,
    "start_time": "2023-03-15T17:32:58.852Z"
   },
   {
    "duration": 265,
    "start_time": "2023-03-15T17:33:05.634Z"
   },
   {
    "duration": 307,
    "start_time": "2023-03-15T17:33:16.250Z"
   },
   {
    "duration": 136,
    "start_time": "2023-03-15T17:41:58.940Z"
   },
   {
    "duration": 4,
    "start_time": "2023-03-15T17:43:34.087Z"
   },
   {
    "duration": 153,
    "start_time": "2023-03-15T17:49:16.148Z"
   },
   {
    "duration": 5,
    "start_time": "2023-03-15T17:49:35.259Z"
   },
   {
    "duration": 117,
    "start_time": "2023-03-15T17:52:59.040Z"
   },
   {
    "duration": 20,
    "start_time": "2023-03-15T17:53:10.594Z"
   },
   {
    "duration": 29,
    "start_time": "2023-03-15T17:54:25.803Z"
   },
   {
    "duration": 22,
    "start_time": "2023-03-15T17:54:39.324Z"
   },
   {
    "duration": 8,
    "start_time": "2023-03-15T17:56:18.445Z"
   },
   {
    "duration": 7,
    "start_time": "2023-03-15T17:59:31.029Z"
   },
   {
    "duration": 18,
    "start_time": "2023-03-15T17:59:31.547Z"
   },
   {
    "duration": 23,
    "start_time": "2023-03-15T18:00:07.007Z"
   },
   {
    "duration": 13,
    "start_time": "2023-03-15T18:03:41.212Z"
   },
   {
    "duration": 1225,
    "start_time": "2023-03-16T07:45:27.623Z"
   },
   {
    "duration": 203,
    "start_time": "2023-03-16T07:45:28.850Z"
   },
   {
    "duration": 15,
    "start_time": "2023-03-16T07:45:29.055Z"
   },
   {
    "duration": 17,
    "start_time": "2023-03-16T07:45:29.072Z"
   },
   {
    "duration": 39,
    "start_time": "2023-03-16T07:45:29.092Z"
   },
   {
    "duration": 86,
    "start_time": "2023-03-16T07:45:29.133Z"
   },
   {
    "duration": 10,
    "start_time": "2023-03-16T07:45:29.221Z"
   },
   {
    "duration": 13,
    "start_time": "2023-03-16T07:45:29.233Z"
   },
   {
    "duration": 18,
    "start_time": "2023-03-16T07:45:29.249Z"
   },
   {
    "duration": 54,
    "start_time": "2023-03-16T07:45:29.268Z"
   },
   {
    "duration": 144,
    "start_time": "2023-03-16T07:45:29.324Z"
   },
   {
    "duration": 22,
    "start_time": "2023-03-16T07:45:29.470Z"
   },
   {
    "duration": 43,
    "start_time": "2023-03-16T07:45:29.494Z"
   },
   {
    "duration": 13,
    "start_time": "2023-03-16T07:45:29.540Z"
   },
   {
    "duration": 15,
    "start_time": "2023-03-16T07:45:29.555Z"
   },
   {
    "duration": 39,
    "start_time": "2023-03-16T07:45:29.573Z"
   },
   {
    "duration": 30,
    "start_time": "2023-03-16T07:45:29.614Z"
   },
   {
    "duration": 24,
    "start_time": "2023-03-16T07:45:29.646Z"
   },
   {
    "duration": 48,
    "start_time": "2023-03-16T07:45:29.672Z"
   },
   {
    "duration": 18,
    "start_time": "2023-03-16T07:45:29.722Z"
   },
   {
    "duration": 18,
    "start_time": "2023-03-16T07:45:29.742Z"
   },
   {
    "duration": 8,
    "start_time": "2023-03-16T07:45:29.762Z"
   },
   {
    "duration": 48,
    "start_time": "2023-03-16T07:45:29.772Z"
   },
   {
    "duration": 17,
    "start_time": "2023-03-16T07:45:29.822Z"
   },
   {
    "duration": 14,
    "start_time": "2023-03-16T07:45:29.841Z"
   },
   {
    "duration": 19,
    "start_time": "2023-03-16T07:45:29.856Z"
   },
   {
    "duration": 56,
    "start_time": "2023-03-16T07:45:29.877Z"
   },
   {
    "duration": 226,
    "start_time": "2023-03-16T07:45:29.935Z"
   },
   {
    "duration": 3,
    "start_time": "2023-03-16T07:45:30.163Z"
   },
   {
    "duration": 57,
    "start_time": "2023-03-16T07:45:30.168Z"
   },
   {
    "duration": 334,
    "start_time": "2023-03-16T07:45:30.228Z"
   },
   {
    "duration": 279,
    "start_time": "2023-03-16T07:45:30.564Z"
   },
   {
    "duration": 348,
    "start_time": "2023-03-16T07:45:30.846Z"
   },
   {
    "duration": 17,
    "start_time": "2023-03-16T07:45:31.200Z"
   },
   {
    "duration": 154,
    "start_time": "2023-03-16T07:45:31.221Z"
   },
   {
    "duration": 11,
    "start_time": "2023-03-16T07:45:31.379Z"
   },
   {
    "duration": 49,
    "start_time": "2023-03-16T07:45:31.393Z"
   },
   {
    "duration": 24,
    "start_time": "2023-03-16T07:45:31.444Z"
   },
   {
    "duration": 295,
    "start_time": "2023-03-16T07:45:31.470Z"
   },
   {
    "duration": 364,
    "start_time": "2023-03-16T07:45:31.768Z"
   },
   {
    "duration": 6,
    "start_time": "2023-03-16T07:45:32.136Z"
   },
   {
    "duration": 215,
    "start_time": "2023-03-16T07:45:32.144Z"
   },
   {
    "duration": 4,
    "start_time": "2023-03-16T07:45:32.361Z"
   },
   {
    "duration": 290,
    "start_time": "2023-03-16T07:45:32.367Z"
   },
   {
    "duration": 6,
    "start_time": "2023-03-16T07:45:32.659Z"
   },
   {
    "duration": 192,
    "start_time": "2023-03-16T07:45:32.667Z"
   },
   {
    "duration": 24,
    "start_time": "2023-03-16T07:45:32.861Z"
   },
   {
    "duration": 41,
    "start_time": "2023-03-16T07:45:32.890Z"
   },
   {
    "duration": 13,
    "start_time": "2023-03-16T07:45:32.933Z"
   },
   {
    "duration": 11,
    "start_time": "2023-03-16T07:45:32.948Z"
   },
   {
    "duration": 11,
    "start_time": "2023-03-16T07:45:32.960Z"
   },
   {
    "duration": 48,
    "start_time": "2023-03-16T07:45:32.973Z"
   },
   {
    "duration": 17,
    "start_time": "2023-03-16T07:45:33.023Z"
   }
  ],
  "kernelspec": {
   "display_name": "Python 3 (ipykernel)",
   "language": "python",
   "name": "python3"
  },
  "language_info": {
   "codemirror_mode": {
    "name": "ipython",
    "version": 3
   },
   "file_extension": ".py",
   "mimetype": "text/x-python",
   "name": "python",
   "nbconvert_exporter": "python",
   "pygments_lexer": "ipython3",
   "version": "3.9.5"
  },
  "toc": {
   "base_numbering": 1,
   "nav_menu": {},
   "number_sections": true,
   "sideBar": true,
   "skip_h1_title": true,
   "title_cell": "Table of Contents",
   "title_sidebar": "Contents",
   "toc_cell": false,
   "toc_position": {},
   "toc_section_display": true,
   "toc_window_display": true
  }
 },
 "nbformat": 4,
 "nbformat_minor": 2
}
