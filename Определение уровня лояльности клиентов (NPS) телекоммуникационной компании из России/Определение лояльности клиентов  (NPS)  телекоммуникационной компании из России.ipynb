{
 "cells": [
  {
   "cell_type": "markdown",
   "id": "e69498f9",
   "metadata": {},
   "source": [
    "# Определение уровня лояльности клиентов (NPS) телекоммуникационной компании из России"
   ]
  },
  {
   "cell_type": "markdown",
   "id": "d8ae129b",
   "metadata": {},
   "source": [
    "**Заказчик** — телекоммуникационная компания, которая оказывает услуги на территории всего СНГ.\n",
    "\n",
    "**Цель:** Определить текущий уровень потребительской лояльности, или NPS (от англ. Net Promoter Score), среди клиентов из России на основе результата опроса «Оцените по шкале от 1 до 10 вероятность того, что вы порекомендуете компанию друзьям и знакомым».\n",
    "\n",
    "**Входные данные:** База данных в SQLite. \n",
    "\n",
    "Таблица `user`\n",
    "\n",
    "* *user_id* -\tИдентификатор клиента, первичный ключ таблицы\n",
    "* *lt_day* - Количество дней «жизни» клиента\n",
    "* *age* - Возраст клиента в годах\n",
    "* *gender_segment* - Пол клиента (1 – женщина, 0 – мужчина)\n",
    "* *os_name* - Тип операционной системы\n",
    "* *cpe_type_name* - Тип устройства\n",
    "* *location_id* - Идентификатор домашнего региона клиента, внешний ключ, отсылающий к таблице location\n",
    "* *age_gr_id* - Идентификатор возрастного сегмента клиента, внешний ключ, отсылающий к таблице age_segment\n",
    "* *tr_gr_id* - Идентификатор сегмента клиента по объёму потребляемого трафика в месяц, внешний ключ, отсылающий к таблице traffic_segment\n",
    "* *lt_gr_id* - Идентификатор сегмента клиента по количеству месяцев «жизни», внешний ключ, отсылающий к таблице lifetime_segment\n",
    "* *nps_score* - Оценка клиента в NPS-опросе (от 1 до 10)\n",
    "\n",
    "Таблица `location`\n",
    "\n",
    "* *location_id* - Идентификатор записи, первичный ключ\n",
    "* *country* - Страна\n",
    "* *city* - Город\n",
    "\n",
    "Таблица `age_segment`\n",
    "\n",
    "* *age_gr_id* -\tИдентификатор сегмента, первичный ключ\n",
    "* *bucket_min* - Минимальная граница сегмента\n",
    "* *bucket_max* - Максимальная граница сегмента\n",
    "* *title* - Название сегмента\n",
    "\n",
    "Таблица `traffic_segment`\n",
    "\n",
    "* *tr_gr_id* - Идентификатор сегмента, первичный ключ\n",
    "* *bucket_min* - Минимальная граница сегмента\n",
    "* *bucket_max* - Максимальная граница сегмента\n",
    "* *title* - Название сегмента\n",
    "\n",
    "Таблица `lifetime_segment`\n",
    "\n",
    "* *lt_gr_id* - Идентификатор сегмента, первичный ключ\n",
    "* *bucket_min* - Минимальная граница сегмента\n",
    "* *bucket_max* - Максимальная граница сегмента\n",
    "* *title* -\tНазвание сегмента"
   ]
  },
  {
   "cell_type": "code",
   "execution_count": 1,
   "id": "03133c39",
   "metadata": {
    "tags": [
     "aa81075c-062f-4de0-b5fe-14c73dc7468e"
    ]
   },
   "outputs": [],
   "source": [
    "# импорт библиотек\n",
    "import pandas as pd\n",
    "import numpy as np\n",
    "from sqlalchemy import create_engine"
   ]
  },
  {
   "cell_type": "markdown",
   "id": "a7b970ef",
   "metadata": {},
   "source": [
    "## Подключение к базе данных"
   ]
  },
  {
   "cell_type": "code",
   "execution_count": 2,
   "id": "a719b2e8",
   "metadata": {},
   "outputs": [],
   "source": [
    "path_to_db = '/datasets/telecomm_csi.db'\n",
    "engine = create_engine(f'sqlite:///{path_to_db}', echo = False)"
   ]
  },
  {
   "cell_type": "markdown",
   "id": "8d9d9b67",
   "metadata": {},
   "source": [
    "## Выгрузка необходимых данных"
   ]
  },
  {
   "cell_type": "markdown",
   "id": "0006b55f",
   "metadata": {},
   "source": [
    "Выгрузим данные, объедив их в общую таблицу так, чтобы:\n",
    "- по результатам опроса сформировать 3 группы:\n",
    "  * 9-10 баллов — «cторонники» (англ. promoters);\n",
    "  * 7-8 баллов — «нейтралы» (англ. passives);\n",
    "  * 0-6 баллов — «критики» (англ. detractors).\n",
    "- по лайфтайму 2 группы:\n",
    "  * не более 365 дней - новые клиенты\n",
    "  * более 365 дней - старые клиенты"
   ]
  },
  {
   "cell_type": "code",
   "execution_count": 3,
   "id": "e521e74c",
   "metadata": {},
   "outputs": [],
   "source": [
    "query = \"\"\"\n",
    "SELECT u.user_id,\n",
    "        u.lt_day,\n",
    "        CASE\n",
    "            WHEN u.lt_day > 365 THEN 'No'\n",
    "            ELSE 'Yes'\n",
    "        END AS is_new,\n",
    "        u.age,\n",
    "        CAST (u.gender_segment AS varchar) AS gender_segment,\n",
    "        u.os_name,\n",
    "        u.cpe_type_name,\n",
    "        l.country,\n",
    "        l.city,\n",
    "        a.title AS age_segment,\n",
    "        t.title AS traffic_segment,\n",
    "        lt.title AS lifetime_segment,\n",
    "        u.nps_score,\n",
    "        CASE\n",
    "            WHEN u.nps_score > 8 THEN 'сторонники'\n",
    "            WHEN u.nps_score < 7 THEN 'критики'\n",
    "            ELSE 'нейтралы'\n",
    "        END AS nps_group\n",
    "FROM user AS u\n",
    "LEFT JOIN location AS l ON u.location_id=l.location_id\n",
    "LEFT JOIN age_segment AS a ON u.age_gr_id=a.age_gr_id\n",
    "LEFT JOIN traffic_segment AS t ON u.tr_gr_id=t.tr_gr_id\n",
    "LEFT JOIN lifetime_segment AS lt ON u.lt_gr_id=lt.lt_gr_id\n",
    "\"\"\""
   ]
  },
  {
   "cell_type": "markdown",
   "id": "c30c9bb9",
   "metadata": {},
   "source": [
    "Сохраним таблицу прочитанную в pandas в переменную df"
   ]
  },
  {
   "cell_type": "code",
   "execution_count": 4,
   "id": "3d5a8f96",
   "metadata": {
    "scrolled": false
   },
   "outputs": [
    {
     "data": {
      "text/html": [
       "<div>\n",
       "<style scoped>\n",
       "    .dataframe tbody tr th:only-of-type {\n",
       "        vertical-align: middle;\n",
       "    }\n",
       "\n",
       "    .dataframe tbody tr th {\n",
       "        vertical-align: top;\n",
       "    }\n",
       "\n",
       "    .dataframe thead th {\n",
       "        text-align: right;\n",
       "    }\n",
       "</style>\n",
       "<table border=\"1\" class=\"dataframe\">\n",
       "  <thead>\n",
       "    <tr style=\"text-align: right;\">\n",
       "      <th></th>\n",
       "      <th>user_id</th>\n",
       "      <th>lt_day</th>\n",
       "      <th>is_new</th>\n",
       "      <th>age</th>\n",
       "      <th>gender_segment</th>\n",
       "      <th>os_name</th>\n",
       "      <th>cpe_type_name</th>\n",
       "      <th>country</th>\n",
       "      <th>city</th>\n",
       "      <th>age_segment</th>\n",
       "      <th>traffic_segment</th>\n",
       "      <th>lifetime_segment</th>\n",
       "      <th>nps_score</th>\n",
       "      <th>nps_group</th>\n",
       "    </tr>\n",
       "  </thead>\n",
       "  <tbody>\n",
       "    <tr>\n",
       "      <th>0</th>\n",
       "      <td>A001A2</td>\n",
       "      <td>2320</td>\n",
       "      <td>No</td>\n",
       "      <td>45.0</td>\n",
       "      <td>1.0</td>\n",
       "      <td>ANDROID</td>\n",
       "      <td>SMARTPHONE</td>\n",
       "      <td>Россия</td>\n",
       "      <td>Уфа</td>\n",
       "      <td>05 45-54</td>\n",
       "      <td>04 1-5</td>\n",
       "      <td>08 36+</td>\n",
       "      <td>10</td>\n",
       "      <td>сторонники</td>\n",
       "    </tr>\n",
       "    <tr>\n",
       "      <th>1</th>\n",
       "      <td>A001WF</td>\n",
       "      <td>2344</td>\n",
       "      <td>No</td>\n",
       "      <td>53.0</td>\n",
       "      <td>0.0</td>\n",
       "      <td>ANDROID</td>\n",
       "      <td>SMARTPHONE</td>\n",
       "      <td>Россия</td>\n",
       "      <td>Киров</td>\n",
       "      <td>05 45-54</td>\n",
       "      <td>04 1-5</td>\n",
       "      <td>08 36+</td>\n",
       "      <td>10</td>\n",
       "      <td>сторонники</td>\n",
       "    </tr>\n",
       "    <tr>\n",
       "      <th>2</th>\n",
       "      <td>A003Q7</td>\n",
       "      <td>467</td>\n",
       "      <td>No</td>\n",
       "      <td>57.0</td>\n",
       "      <td>0.0</td>\n",
       "      <td>ANDROID</td>\n",
       "      <td>SMARTPHONE</td>\n",
       "      <td>Россия</td>\n",
       "      <td>Москва</td>\n",
       "      <td>06 55-64</td>\n",
       "      <td>08 20-25</td>\n",
       "      <td>06 13-24</td>\n",
       "      <td>10</td>\n",
       "      <td>сторонники</td>\n",
       "    </tr>\n",
       "  </tbody>\n",
       "</table>\n",
       "</div>"
      ],
      "text/plain": [
       "  user_id  lt_day is_new   age gender_segment  os_name cpe_type_name country  \\\n",
       "0  A001A2    2320     No  45.0            1.0  ANDROID    SMARTPHONE  Россия   \n",
       "1  A001WF    2344     No  53.0            0.0  ANDROID    SMARTPHONE  Россия   \n",
       "2  A003Q7     467     No  57.0            0.0  ANDROID    SMARTPHONE  Россия   \n",
       "\n",
       "     city age_segment traffic_segment lifetime_segment  nps_score   nps_group  \n",
       "0     Уфа    05 45-54          04 1-5           08 36+         10  сторонники  \n",
       "1   Киров    05 45-54          04 1-5           08 36+         10  сторонники  \n",
       "2  Москва    06 55-64        08 20-25         06 13-24         10  сторонники  "
      ]
     },
     "execution_count": 4,
     "metadata": {},
     "output_type": "execute_result"
    }
   ],
   "source": [
    "df = pd.read_sql(query, engine)\n",
    "df.head(3)"
   ]
  },
  {
   "cell_type": "markdown",
   "id": "f58ed326",
   "metadata": {},
   "source": [
    "Выгрузим таблицу в формате csv для построения дашбордов"
   ]
  },
  {
   "cell_type": "code",
   "execution_count": 5,
   "id": "d2d013c2",
   "metadata": {},
   "outputs": [],
   "source": [
    "df.to_csv('telecomm_csi_tableau.csv', index=False)"
   ]
  },
  {
   "cell_type": "markdown",
   "id": "4660f508",
   "metadata": {},
   "source": [
    "## Cсылка на дашборд на сайте Tableau Public:"
   ]
  },
  {
   "cell_type": "markdown",
   "id": "fb602c65",
   "metadata": {},
   "source": [
    "https://public.tableau.com/authoring/telecommcopy/ageisnewgen#1"
   ]
  },
  {
   "cell_type": "markdown",
   "id": "02af3100",
   "metadata": {},
   "source": [
    "## Ссылка на pdf-файл с презентацией:"
   ]
  },
  {
   "cell_type": "markdown",
   "id": "16110a8d",
   "metadata": {},
   "source": [
    "https://disk.yandex.ru/i/yOqkfkqRUK2wWQ"
   ]
  }
 ],
 "metadata": {
  "ExecuteTimeLog": [
   {
    "duration": 752,
    "start_time": "2021-10-03T17:40:52.731Z"
   },
   {
    "duration": 20,
    "start_time": "2021-10-03T17:40:53.486Z"
   },
   {
    "duration": 4,
    "start_time": "2021-10-03T17:41:04.638Z"
   },
   {
    "duration": 461,
    "start_time": "2021-10-03T17:41:04.912Z"
   },
   {
    "duration": 284,
    "start_time": "2021-10-03T17:41:05.376Z"
   },
   {
    "duration": 574,
    "start_time": "2021-10-06T07:55:05.029Z"
   },
   {
    "duration": 6,
    "start_time": "2021-10-06T07:55:05.605Z"
   },
   {
    "duration": 3,
    "start_time": "2021-10-06T07:55:14.685Z"
   },
   {
    "duration": 406,
    "start_time": "2021-10-06T07:55:15.522Z"
   },
   {
    "duration": 67,
    "start_time": "2021-10-06T07:55:15.929Z"
   },
   {
    "duration": 840,
    "start_time": "2021-10-07T07:54:04.647Z"
   },
   {
    "duration": 10,
    "start_time": "2021-10-07T07:54:05.490Z"
   },
   {
    "duration": 4,
    "start_time": "2021-10-07T07:54:05.544Z"
   },
   {
    "duration": 391,
    "start_time": "2021-10-07T07:54:06.237Z"
   },
   {
    "duration": 293,
    "start_time": "2021-10-07T07:54:06.654Z"
   },
   {
    "duration": 511,
    "start_time": "2022-11-09T06:15:55.904Z"
   },
   {
    "duration": 12,
    "start_time": "2022-11-09T06:15:56.417Z"
   },
   {
    "duration": 2,
    "start_time": "2022-11-09T06:15:56.431Z"
   },
   {
    "duration": 576,
    "start_time": "2022-11-09T06:15:56.435Z"
   },
   {
    "duration": 173,
    "start_time": "2022-11-09T06:15:57.013Z"
   },
   {
    "duration": 3,
    "start_time": "2022-11-09T07:11:05.224Z"
   },
   {
    "duration": 514,
    "start_time": "2022-11-09T07:11:22.731Z"
   },
   {
    "duration": 3,
    "start_time": "2022-11-09T07:14:07.861Z"
   },
   {
    "duration": 428,
    "start_time": "2022-11-09T07:14:10.745Z"
   },
   {
    "duration": 3,
    "start_time": "2022-11-09T07:18:10.257Z"
   },
   {
    "duration": 445,
    "start_time": "2022-11-09T07:18:11.225Z"
   },
   {
    "duration": 3,
    "start_time": "2022-11-09T07:18:34.713Z"
   },
   {
    "duration": 4233,
    "start_time": "2022-11-09T07:18:36.545Z"
   },
   {
    "duration": 4,
    "start_time": "2022-11-09T07:19:13.543Z"
   },
   {
    "duration": 3703,
    "start_time": "2022-11-09T07:19:17.192Z"
   },
   {
    "duration": 3,
    "start_time": "2022-11-09T07:20:01.567Z"
   },
   {
    "duration": 3863,
    "start_time": "2022-11-09T07:20:12.199Z"
   },
   {
    "duration": 3,
    "start_time": "2022-11-09T07:27:52.476Z"
   },
   {
    "duration": 575,
    "start_time": "2022-11-09T07:27:53.396Z"
   },
   {
    "duration": 4,
    "start_time": "2022-11-09T07:28:01.213Z"
   },
   {
    "duration": 675,
    "start_time": "2022-11-09T07:28:03.373Z"
   },
   {
    "duration": 3,
    "start_time": "2022-11-09T07:29:36.219Z"
   },
   {
    "duration": 585,
    "start_time": "2022-11-09T07:29:38.859Z"
   },
   {
    "duration": 4,
    "start_time": "2022-11-09T07:29:50.559Z"
   },
   {
    "duration": 545,
    "start_time": "2022-11-09T07:29:51.699Z"
   },
   {
    "duration": 5,
    "start_time": "2022-11-09T07:30:26.489Z"
   },
   {
    "duration": 547,
    "start_time": "2022-11-09T07:30:27.235Z"
   },
   {
    "duration": 3,
    "start_time": "2022-11-09T07:39:39.735Z"
   },
   {
    "duration": 558,
    "start_time": "2022-11-09T07:39:41.010Z"
   },
   {
    "duration": 487,
    "start_time": "2022-11-09T07:39:50.473Z"
   },
   {
    "duration": 9,
    "start_time": "2022-11-09T07:39:50.961Z"
   },
   {
    "duration": 4,
    "start_time": "2022-11-09T07:39:50.972Z"
   },
   {
    "duration": 625,
    "start_time": "2022-11-09T07:39:50.978Z"
   },
   {
    "duration": 0,
    "start_time": "2022-11-09T07:39:51.605Z"
   },
   {
    "duration": 3,
    "start_time": "2022-11-09T07:40:30.744Z"
   },
   {
    "duration": 542,
    "start_time": "2022-11-09T07:40:31.737Z"
   },
   {
    "duration": 4,
    "start_time": "2022-11-09T07:41:44.975Z"
   },
   {
    "duration": 5101,
    "start_time": "2022-11-09T07:41:46.224Z"
   },
   {
    "duration": 3,
    "start_time": "2022-11-09T07:42:30.796Z"
   },
   {
    "duration": 577,
    "start_time": "2022-11-09T07:42:31.535Z"
   },
   {
    "duration": 4,
    "start_time": "2022-11-09T07:42:58.115Z"
   },
   {
    "duration": 4772,
    "start_time": "2022-11-09T07:42:58.889Z"
   },
   {
    "duration": 4166,
    "start_time": "2022-11-09T07:43:52.543Z"
   },
   {
    "duration": 4060,
    "start_time": "2022-11-09T07:48:29.446Z"
   },
   {
    "duration": 4100,
    "start_time": "2022-11-09T07:54:42.603Z"
   },
   {
    "duration": 3943,
    "start_time": "2022-11-09T07:56:46.451Z"
   },
   {
    "duration": 73,
    "start_time": "2022-11-09T07:57:33.155Z"
   },
   {
    "duration": 55,
    "start_time": "2022-11-09T07:58:50.215Z"
   },
   {
    "duration": 3770,
    "start_time": "2022-11-09T07:59:17.977Z"
   },
   {
    "duration": 2460,
    "start_time": "2022-11-09T08:05:30.697Z"
   },
   {
    "duration": 504,
    "start_time": "2022-11-14T06:45:46.374Z"
   },
   {
    "duration": 8,
    "start_time": "2022-11-14T06:45:46.880Z"
   },
   {
    "duration": 4,
    "start_time": "2022-11-14T06:45:46.889Z"
   },
   {
    "duration": 5511,
    "start_time": "2022-11-14T06:45:46.894Z"
   },
   {
    "duration": 4260,
    "start_time": "2022-11-14T06:45:52.407Z"
   },
   {
    "duration": 455,
    "start_time": "2022-11-15T16:36:27.154Z"
   },
   {
    "duration": 9,
    "start_time": "2022-11-15T16:36:27.611Z"
   },
   {
    "duration": 4,
    "start_time": "2022-11-15T16:36:27.622Z"
   },
   {
    "duration": 4675,
    "start_time": "2022-11-15T16:36:27.628Z"
   },
   {
    "duration": 3502,
    "start_time": "2022-11-15T16:36:32.304Z"
   },
   {
    "duration": 456,
    "start_time": "2022-11-15T16:37:19.266Z"
   },
   {
    "duration": 491,
    "start_time": "2022-11-16T12:24:53.961Z"
   },
   {
    "duration": 9,
    "start_time": "2022-11-16T12:24:54.454Z"
   },
   {
    "duration": 13,
    "start_time": "2022-11-16T12:24:54.465Z"
   },
   {
    "duration": 5729,
    "start_time": "2022-11-16T12:24:54.480Z"
   },
   {
    "duration": 4337,
    "start_time": "2022-11-16T12:25:00.211Z"
   },
   {
    "duration": 485,
    "start_time": "2022-11-17T14:26:48.566Z"
   },
   {
    "duration": 23,
    "start_time": "2022-11-17T14:26:49.053Z"
   },
   {
    "duration": 3,
    "start_time": "2022-11-17T14:26:49.078Z"
   },
   {
    "duration": 5347,
    "start_time": "2022-11-17T14:26:49.083Z"
   },
   {
    "duration": 4466,
    "start_time": "2022-11-17T14:26:54.431Z"
   },
   {
    "duration": 551,
    "start_time": "2023-06-22T13:12:47.809Z"
   },
   {
    "duration": 551,
    "start_time": "2023-06-22T13:35:52.078Z"
   },
   {
    "duration": 36,
    "start_time": "2023-06-22T13:35:52.631Z"
   },
   {
    "duration": 6,
    "start_time": "2023-06-22T13:35:52.669Z"
   },
   {
    "duration": 6726,
    "start_time": "2023-06-22T13:35:52.684Z"
   },
   {
    "duration": 5470,
    "start_time": "2023-06-22T13:35:59.412Z"
   }
  ],
  "kernelspec": {
   "display_name": "Python 3 (ipykernel)",
   "language": "python",
   "name": "python3"
  },
  "language_info": {
   "codemirror_mode": {
    "name": "ipython",
    "version": 3
   },
   "file_extension": ".py",
   "mimetype": "text/x-python",
   "name": "python",
   "nbconvert_exporter": "python",
   "pygments_lexer": "ipython3",
   "version": "3.9.5"
  },
  "toc": {
   "base_numbering": 1,
   "nav_menu": {},
   "number_sections": true,
   "sideBar": true,
   "skip_h1_title": true,
   "title_cell": "Table of Contents",
   "title_sidebar": "Contents",
   "toc_cell": false,
   "toc_position": {},
   "toc_section_display": true,
   "toc_window_display": false
  }
 },
 "nbformat": 4,
 "nbformat_minor": 5
}
